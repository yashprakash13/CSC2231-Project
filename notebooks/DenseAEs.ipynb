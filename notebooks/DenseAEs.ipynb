{
  "cells": [
    {
      "cell_type": "code",
      "execution_count": 1,
      "metadata": {
        "id": "oXID75aKIty7"
      },
      "outputs": [],
      "source": [
        "from tensorflow import keras\n",
        "from tensorflow.keras.layers import Input, Conv2D, MaxPooling2D, Dropout, UpSampling2D, Conv2DTranspose\n",
        "from tensorflow.keras.models import Model\n",
        "\n",
        "import keras\n",
        "from keras import layers\n",
        "\n",
        "import numpy as np\n",
        "import tensorflow as tf\n",
        "import matplotlib.pyplot as plt\n",
        "\n",
        "from tensorflow.keras.datasets import fashion_mnist, cifar10"
      ]
    },
    {
      "cell_type": "code",
      "execution_count": 2,
      "metadata": {
        "id": "NejopSUqY4Dp"
      },
      "outputs": [],
      "source": [
        "class_labels = { 0: \"T-shirt/top\", \n",
        "                1: \"Trouser\",\n",
        "                2: \"Pullover\",\n",
        "                3: \"Dress\",\n",
        "                4: \"Coat\",\n",
        "                5: \"Sandal\",\n",
        "                6: \"Shirt\",\n",
        "                7: \"Sneaker\",\n",
        "                8: \"Bag\",\n",
        "                9: \"Ankle-boot\" \n",
        "            }"
      ]
    },
    {
      "cell_type": "code",
      "execution_count": 3,
      "metadata": {
        "colab": {
          "base_uri": "https://localhost:8080/"
        },
        "id": "xYyE18k-W8_K",
        "outputId": "36e5fe63-f8df-4c0a-8782-f206265b86b0"
      },
      "outputs": [
        {
          "data": {
            "text/plain": [
              "((60000, 28, 28), (10000, 28, 28), (60000,), (10000,))"
            ]
          },
          "execution_count": 3,
          "metadata": {},
          "output_type": "execute_result"
        }
      ],
      "source": [
        "(x_train, y_train), (x_test, y_test) = fashion_mnist.load_data()\n",
        "x_train.shape, x_test.shape, y_train.shape, y_test.shape "
      ]
    },
    {
      "cell_type": "code",
      "execution_count": 4,
      "metadata": {
        "colab": {
          "base_uri": "https://localhost:8080/",
          "height": 281
        },
        "id": "MTP-NhfXXpDe",
        "outputId": "483db1fd-9ea8-4d16-d900-40e931823ed8"
      },
      "outputs": [
        {
          "data": {
            "image/png": "[encoded data removed]",
            "text/plain": [
              "<Figure size 432x288 with 1 Axes>"
            ]
          },
          "metadata": {
            "needs_background": "light"
          },
          "output_type": "display_data"
        }
      ],
      "source": [
        "# show a random image from the training set\n",
        "pixels, class_label = x_train[42], class_labels[y_train[42]]\n",
        "plt.title(str(class_label))\n",
        "plt.imshow(pixels, cmap='gray')\n",
        "plt.show()"
      ]
    },
    {
      "cell_type": "code",
      "execution_count": 5,
      "metadata": {
        "colab": {
          "base_uri": "https://localhost:8080/"
        },
        "id": "cfe3Fy4rmp8X",
        "outputId": "7fd67496-63b9-4fe2-a106-b45d0819444c"
      },
      "outputs": [
        {
          "name": "stdout",
          "output_type": "stream",
          "text": [
            "(60000, 28, 28) (10000, 28, 28)\n"
          ]
        }
      ],
      "source": [
        "x_train = x_train.astype('float32') / 255\n",
        "x_test = x_test.astype('float32') / 255\n",
        "print(x_train.shape, x_test.shape) "
      ]
    },
    {
      "cell_type": "code",
      "execution_count": 6,
      "metadata": {
        "colab": {
          "base_uri": "https://localhost:8080/"
        },
        "id": "dTWa-v0Nnkzq",
        "outputId": "0abd52f9-ac5c-42b9-c15d-555553da4df9"
      },
      "outputs": [
        {
          "data": {
            "text/plain": [
              "((60000, 28, 28), (10000, 28, 28), (60000,), (10000,))"
            ]
          },
          "execution_count": 6,
          "metadata": {},
          "output_type": "execute_result"
        }
      ],
      "source": [
        "x_train.shape, x_test.shape, y_train.shape, y_test.shape"
      ]
    },
    {
      "cell_type": "code",
      "execution_count": 7,
      "metadata": {
        "id": "UefH980zYmfk"
      },
      "outputs": [],
      "source": [
        "# First Encoder model\n",
        "\n",
        "def Encoder(input_img):\n",
        "    encoded = layers.Dense(128, activation='relu')(input_img)\n",
        "    encoded = layers.Dense(64, activation='relu')(encoded)\n",
        "    encoded = layers.Dense(32, activation='relu')(encoded)\n",
        "    return encoded"
      ]
    },
    {
      "cell_type": "code",
      "execution_count": 18,
      "metadata": {
        "id": "KCbGYbfuboGy"
      },
      "outputs": [],
      "source": [
        "# First Decoder model\n",
        "\n",
        "def Decoder(encoded):\n",
        "    decoded = layers.Dense(64, activation='relu')(encoded)\n",
        "    decoded = layers.Dense(128, activation='relu')(decoded)\n",
        "    decoded = layers.Dense(1, activation='sigmoid')(decoded)\n",
        "    return decoded"
      ]
    },
    {
      "cell_type": "code",
      "execution_count": 19,
      "metadata": {
        "colab": {
          "base_uri": "https://localhost:8080/"
        },
        "id": "nBM_QULoeze_",
        "outputId": "5f8710dd-0cea-4b08-d3b7-eb60778c19c0"
      },
      "outputs": [
        {
          "name": "stdout",
          "output_type": "stream",
          "text": [
            "Model: \"model_2\"\n",
            "_________________________________________________________________\n",
            " Layer (type)                Output Shape              Param #   \n",
            "=================================================================\n",
            " input_4 (InputLayer)        [(None, 28, 28, 1)]       0         \n",
            "                                                                 \n",
            " dense_18 (Dense)            (None, 28, 28, 128)       256       \n",
            "                                                                 \n",
            " dense_19 (Dense)            (None, 28, 28, 64)        8256      \n",
            "                                                                 \n",
            " dense_20 (Dense)            (None, 28, 28, 32)        2080      \n",
            "                                                                 \n",
            " dense_21 (Dense)            (None, 28, 28, 64)        2112      \n",
            "                                                                 \n",
            " dense_22 (Dense)            (None, 28, 28, 128)       8320      \n",
            "                                                                 \n",
            " dense_23 (Dense)            (None, 28, 28, 1)         129       \n",
            "                                                                 \n",
            "=================================================================\n",
            "Total params: 21,153\n",
            "Trainable params: 21,153\n",
            "Non-trainable params: 0\n",
            "_________________________________________________________________\n"
          ]
        }
      ],
      "source": [
        "# First Autoencoder model\n",
        "\n",
        "input = Input(shape=(28, 28, 1))\n",
        "encoder = Encoder(input)\n",
        "decoder = Decoder(encoder)\n",
        "autoencoder = Model(input, decoder)\n",
        "autoencoder.compile(optimizer = \"adam\", loss = \"binary_crossentropy\")\n",
        "autoencoder.summary()"
      ]
    },
    {
      "cell_type": "code",
      "execution_count": 22,
      "metadata": {
        "colab": {
          "base_uri": "https://localhost:8080/"
        },
        "id": "mkqH2TQpfY1i",
        "outputId": "7c421c36-d77a-4e21-f1c5-580881061304"
      },
      "outputs": [
        {
          "name": "stdout",
          "output_type": "stream",
          "text": [
            "938/938 [==============================] - 113s 121ms/step - loss: 0.2409 - val_loss: 0.2425\n"
          ]
        },
        {
          "data": {
            "text/plain": [
              "<keras.callbacks.History at 0x7f77cc776e90>"
            ]
          },
          "execution_count": 22,
          "metadata": {},
          "output_type": "execute_result"
        }
      ],
      "source": [
        "autoencoder.fit(x_train, x_train, epochs = 1, batch_size = 64, validation_data = (x_test, x_test)) "
      ]
    },
    {
      "cell_type": "code",
      "execution_count": 23,
      "metadata": {
        "colab": {
          "base_uri": "https://localhost:8080/",
          "height": 248
        },
        "id": "AxrtcSawmEoe",
        "outputId": "ec9bf4e9-8bcd-4378-fae8-ec3b796504e5"
      },
      "outputs": [
        {
          "data": {
            "image/png": "[encoded data removed]",
            "text/plain": [
              "<Figure size 1440x288 with 20 Axes>"
            ]
          },
          "metadata": {
            "needs_background": "light"
          },
          "output_type": "display_data"
        }
      ],
      "source": [
        "decoded_imgs = autoencoder.predict(x_test)\n",
        "\n",
        "n = 10\n",
        "plt.figure(figsize=(20, 4))\n",
        "for i in range(n):\n",
        " plt.gray()\n",
        " ax = plt.subplot(2, n, i+1)\n",
        " plt.imshow(x_test[i].reshape(28, 28))\n",
        " ax.get_xaxis().set_visible(False)\n",
        " ax.get_yaxis().set_visible(False)\n",
        " \n",
        " ax = plt.subplot(2, n, i +1+n)\n",
        " plt.imshow(decoded_imgs[i].reshape(28, 28))\n",
        " ax.get_xaxis().set_visible(False)\n",
        " ax.get_yaxis().set_visible(False)\n",
        "plt.show() "
      ]
    },
    {
      "cell_type": "code",
      "execution_count": null,
      "metadata": {},
      "outputs": [],
      "source": [
        "\n"
      ]
    }
  ],
  "metadata": {
    "accelerator": "GPU",
    "colab": {
      "collapsed_sections": [],
      "name": "Conv_autoencoder_v2.ipynb",
      "provenance": []
    },
    "kernelspec": {
      "display_name": "Python 3",
      "name": "python3"
    },
    "language_info": {
      "codemirror_mode": {
        "name": "ipython",
        "version": 3
      },
      "file_extension": ".py",
      "mimetype": "text/x-python",
      "name": "python",
      "nbconvert_exporter": "python",
      "pygments_lexer": "ipython3",
      "version": "3.10.0"
    }
  },
  "nbformat": 4,
  "nbformat_minor": 0
}
