{
  "nbformat": 4,
  "nbformat_minor": 0,
  "metadata": {
    "colab": {
      "name": "Conv_autoencoder_v2.ipynb",
      "provenance": [],
      "collapsed_sections": []
    },
    "kernelspec": {
      "name": "python3",
      "display_name": "Python 3"
    },
    "language_info": {
      "name": "python"
    },
    "accelerator": "GPU"
  },
  "cells": [
    {
      "cell_type": "code",
      "execution_count": null,
      "metadata": {
        "id": "oXID75aKIty7"
      },
      "outputs": [],
      "source": [
        "from tensorflow import keras\n",
        "from tensorflow.keras.layers import Input, Conv2D, MaxPooling2D, Dropout, UpSampling2D, Conv2DTranspose\n",
        "from tensorflow.keras.models import Model\n",
        "\n",
        "import numpy as np\n",
        "import tensorflow as tf\n",
        "import matplotlib.pyplot as plt\n",
        "\n",
        "from tensorflow.keras.datasets import fashion_mnist, cifar10"
      ]
    },
    {
      "cell_type": "code",
      "source": [
        "class_labels = { 0: \"T-shirt/top\", \n",
        "                1: \"Trouser\",\n",
        "                2: \"Pullover\",\n",
        "                3: \"Dress\",\n",
        "                4: \"Coat\",\n",
        "                5: \"Sandal\",\n",
        "                6: \"Shirt\",\n",
        "                7: \"Sneaker\",\n",
        "                8: \"Bag\",\n",
        "                9: \"Ankle-boot\" \n",
        "            }"
      ],
      "metadata": {
        "id": "NejopSUqY4Dp"
      },
      "execution_count": null,
      "outputs": []
    },
    {
      "cell_type": "code",
      "source": [
        "(x_train, y_train), (x_test, y_test) = fashion_mnist.load_data()\n",
        "x_train.shape, x_test.shape, y_train.shape, y_test.shape "
      ],
      "metadata": {
        "colab": {
          "base_uri": "https://localhost:8080/"
        },
        "id": "xYyE18k-W8_K",
        "outputId": "36e5fe63-f8df-4c0a-8782-f206265b86b0"
      },
      "execution_count": null,
      "outputs": [
        {
          "output_type": "stream",
          "name": "stdout",
          "text": [
            "Downloading data from https://storage.googleapis.com/tensorflow/tf-keras-datasets/train-labels-idx1-ubyte.gz\n",
            "32768/29515 [=================================] - 0s 0us/step\n",
            "40960/29515 [=========================================] - 0s 0us/step\n",
            "Downloading data from https://storage.googleapis.com/tensorflow/tf-keras-datasets/train-images-idx3-ubyte.gz\n",
            "26427392/26421880 [==============================] - 0s 0us/step\n",
            "26435584/26421880 [==============================] - 0s 0us/step\n",
            "Downloading data from https://storage.googleapis.com/tensorflow/tf-keras-datasets/t10k-labels-idx1-ubyte.gz\n",
            "16384/5148 [===============================================================================================] - 0s 0us/step\n",
            "Downloading data from https://storage.googleapis.com/tensorflow/tf-keras-datasets/t10k-images-idx3-ubyte.gz\n",
            "4423680/4422102 [==============================] - 0s 0us/step\n",
            "4431872/4422102 [==============================] - 0s 0us/step\n"
          ]
        },
        {
          "output_type": "execute_result",
          "data": {
            "text/plain": [
              "((60000, 28, 28), (10000, 28, 28), (60000,), (10000,))"
            ]
          },
          "metadata": {},
          "execution_count": 5
        }
      ]
    },
    {
      "cell_type": "code",
      "source": [
        "# show a random image from the training set\n",
        "pixels, class_label = x_train[42], class_labels[y_train[42]]\n",
        "plt.title(str(class_label))\n",
        "plt.imshow(pixels, cmap='gray')\n",
        "plt.show()"
      ],
      "metadata": {
        "colab": {
          "base_uri": "https://localhost:8080/",
          "height": 281
        },
        "id": "MTP-NhfXXpDe",
        "outputId": "483db1fd-9ea8-4d16-d900-40e931823ed8"
      },
      "execution_count": null,
      "outputs": [
        {
          "output_type": "display_data",
          "data": {
            "image/png": "[encoded data removed]",
            "text/plain": [
              "<Figure size 432x288 with 1 Axes>"
            ]
          },
          "metadata": {
            "needs_background": "light"
          }
        }
      ]
    },
    {
      "cell_type": "code",
      "source": [
        "x_train = x_train.astype('float32') / 255\n",
        "x_test = x_test.astype('float32') / 255\n",
        "print(x_train.shape, x_test.shape) "
      ],
      "metadata": {
        "id": "cfe3Fy4rmp8X",
        "colab": {
          "base_uri": "https://localhost:8080/"
        },
        "outputId": "7fd67496-63b9-4fe2-a106-b45d0819444c"
      },
      "execution_count": null,
      "outputs": [
        {
          "output_type": "stream",
          "name": "stdout",
          "text": [
            "(60000, 28, 28) (10000, 28, 28)\n"
          ]
        }
      ]
    },
    {
      "cell_type": "code",
      "source": [
        "x_train.shape, x_test.shape, y_train.shape, y_test.shape"
      ],
      "metadata": {
        "colab": {
          "base_uri": "https://localhost:8080/"
        },
        "id": "dTWa-v0Nnkzq",
        "outputId": "0abd52f9-ac5c-42b9-c15d-555553da4df9"
      },
      "execution_count": null,
      "outputs": [
        {
          "output_type": "execute_result",
          "data": {
            "text/plain": [
              "((60000, 28, 28), (10000, 28, 28), (60000,), (10000,))"
            ]
          },
          "metadata": {},
          "execution_count": 8
        }
      ]
    },
    {
      "cell_type": "code",
      "source": [
        "# First Encoder model\n",
        "\n",
        "def Encoder(input_img):\n",
        "    x = Conv2D(24, (3, 3), activation='relu', padding='same')(input_img)\n",
        "    x = MaxPooling2D((2, 2), padding='same')(x)\n",
        "    x = Conv2D(12, (3, 3), activation='relu', padding='same')(x)\n",
        "    x = MaxPooling2D((2, 2), padding='same')(x)\n",
        "    x = Conv2D(8, (3, 3), activation='relu', padding='same')(x)\n",
        "    encoded = MaxPooling2D((2, 2), padding='same')(x)\n",
        "    return encoded"
      ],
      "metadata": {
        "id": "UefH980zYmfk"
      },
      "execution_count": null,
      "outputs": []
    },
    {
      "cell_type": "code",
      "source": [
        "# First Decoder model\n",
        "\n",
        "def Decoder(encoded):\n",
        "    x = Conv2D(8, (3, 3), activation='relu', padding='same')(encoded)\n",
        "    x = UpSampling2D((4, 4))(x)\n",
        "    x = Conv2D(12, (3, 3), activation='relu')(x)\n",
        "    x = UpSampling2D((2, 2))(x)\n",
        "    decoded = Conv2D(1, (3, 3), activation='sigmoid', padding='same')(x)\n",
        "    return decoded"
      ],
      "metadata": {
        "id": "KCbGYbfuboGy"
      },
      "execution_count": null,
      "outputs": []
    },
    {
      "cell_type": "code",
      "source": [
        "# First Autoencoder model\n",
        "\n",
        "input = Input(shape=(28, 28, 1))\n",
        "encoder = Encoder(input)\n",
        "decoder = Decoder(encoder)\n",
        "autoencoder = Model(input, decoder)\n",
        "autoencoder.compile(optimizer = \"adam\", loss = \"binary_crossentropy\")\n",
        "autoencoder.summary()"
      ],
      "metadata": {
        "colab": {
          "base_uri": "https://localhost:8080/"
        },
        "id": "nBM_QULoeze_",
        "outputId": "5f8710dd-0cea-4b08-d3b7-eb60778c19c0"
      },
      "execution_count": null,
      "outputs": [
        {
          "output_type": "stream",
          "name": "stdout",
          "text": [
            "Model: \"model\"\n",
            "_________________________________________________________________\n",
            " Layer (type)                Output Shape              Param #   \n",
            "=================================================================\n",
            " input_1 (InputLayer)        [(None, 28, 28, 1)]       0         \n",
            "                                                                 \n",
            " conv2d (Conv2D)             (None, 28, 28, 24)        240       \n",
            "                                                                 \n",
            " max_pooling2d (MaxPooling2D  (None, 14, 14, 24)       0         \n",
            " )                                                               \n",
            "                                                                 \n",
            " conv2d_1 (Conv2D)           (None, 14, 14, 12)        2604      \n",
            "                                                                 \n",
            " max_pooling2d_1 (MaxPooling  (None, 7, 7, 12)         0         \n",
            " 2D)                                                             \n",
            "                                                                 \n",
            " conv2d_2 (Conv2D)           (None, 7, 7, 8)           872       \n",
            "                                                                 \n",
            " max_pooling2d_2 (MaxPooling  (None, 4, 4, 8)          0         \n",
            " 2D)                                                             \n",
            "                                                                 \n",
            " conv2d_3 (Conv2D)           (None, 4, 4, 8)           584       \n",
            "                                                                 \n",
            " up_sampling2d (UpSampling2D  (None, 16, 16, 8)        0         \n",
            " )                                                               \n",
            "                                                                 \n",
            " conv2d_4 (Conv2D)           (None, 14, 14, 12)        876       \n",
            "                                                                 \n",
            " up_sampling2d_1 (UpSampling  (None, 28, 28, 12)       0         \n",
            " 2D)                                                             \n",
            "                                                                 \n",
            " conv2d_5 (Conv2D)           (None, 28, 28, 1)         109       \n",
            "                                                                 \n",
            "=================================================================\n",
            "Total params: 5,285\n",
            "Trainable params: 5,285\n",
            "Non-trainable params: 0\n",
            "_________________________________________________________________\n"
          ]
        }
      ]
    },
    {
      "cell_type": "code",
      "source": [
        "autoencoder.fit(x_train, x_train, epochs = 50, batch_size = 256, validation_data = (x_test, x_test)) "
      ],
      "metadata": {
        "colab": {
          "base_uri": "https://localhost:8080/"
        },
        "id": "mkqH2TQpfY1i",
        "outputId": "7c421c36-d77a-4e21-f1c5-580881061304"
      },
      "execution_count": null,
      "outputs": [
        {
          "output_type": "stream",
          "name": "stdout",
          "text": [
            "Epoch 1/50\n",
            "235/235 [==============================] - 16s 23ms/step - loss: 0.4249 - val_loss: 0.3276\n",
            "Epoch 2/50\n",
            "235/235 [==============================] - 5s 21ms/step - loss: 0.3165 - val_loss: 0.3124\n",
            "Epoch 3/50\n",
            "235/235 [==============================] - 5s 21ms/step - loss: 0.3081 - val_loss: 0.3078\n",
            "Epoch 4/50\n",
            "235/235 [==============================] - 5s 20ms/step - loss: 0.3046 - val_loss: 0.3052\n",
            "Epoch 5/50\n",
            "235/235 [==============================] - 5s 20ms/step - loss: 0.3023 - val_loss: 0.3033\n",
            "Epoch 6/50\n",
            "235/235 [==============================] - 5s 20ms/step - loss: 0.3007 - val_loss: 0.3020\n",
            "Epoch 7/50\n",
            "235/235 [==============================] - 5s 20ms/step - loss: 0.2994 - val_loss: 0.3009\n",
            "Epoch 8/50\n",
            "235/235 [==============================] - 5s 22ms/step - loss: 0.2984 - val_loss: 0.3001\n",
            "Epoch 9/50\n",
            "235/235 [==============================] - 5s 21ms/step - loss: 0.2975 - val_loss: 0.2990\n",
            "Epoch 10/50\n",
            "235/235 [==============================] - 5s 20ms/step - loss: 0.2968 - val_loss: 0.2986\n",
            "Epoch 11/50\n",
            "235/235 [==============================] - 5s 20ms/step - loss: 0.2961 - val_loss: 0.2979\n",
            "Epoch 12/50\n",
            "235/235 [==============================] - 5s 20ms/step - loss: 0.2956 - val_loss: 0.2972\n",
            "Epoch 13/50\n",
            "235/235 [==============================] - 5s 21ms/step - loss: 0.2950 - val_loss: 0.2967\n",
            "Epoch 14/50\n",
            "235/235 [==============================] - 5s 21ms/step - loss: 0.2946 - val_loss: 0.2963\n",
            "Epoch 15/50\n",
            "235/235 [==============================] - 5s 22ms/step - loss: 0.2941 - val_loss: 0.2962\n",
            "Epoch 16/50\n",
            "235/235 [==============================] - 5s 21ms/step - loss: 0.2937 - val_loss: 0.2955\n",
            "Epoch 17/50\n",
            "235/235 [==============================] - 5s 21ms/step - loss: 0.2934 - val_loss: 0.2952\n",
            "Epoch 18/50\n",
            "235/235 [==============================] - 5s 21ms/step - loss: 0.2930 - val_loss: 0.2950\n",
            "Epoch 19/50\n",
            "235/235 [==============================] - 5s 21ms/step - loss: 0.2927 - val_loss: 0.2945\n",
            "Epoch 20/50\n",
            "235/235 [==============================] - 5s 22ms/step - loss: 0.2925 - val_loss: 0.2943\n",
            "Epoch 21/50\n",
            "235/235 [==============================] - 5s 21ms/step - loss: 0.2922 - val_loss: 0.2941\n",
            "Epoch 22/50\n",
            "235/235 [==============================] - 5s 21ms/step - loss: 0.2920 - val_loss: 0.2939\n",
            "Epoch 23/50\n",
            "235/235 [==============================] - 5s 20ms/step - loss: 0.2918 - val_loss: 0.2941\n",
            "Epoch 24/50\n",
            "235/235 [==============================] - 5s 20ms/step - loss: 0.2915 - val_loss: 0.2936\n",
            "Epoch 25/50\n",
            "235/235 [==============================] - 5s 20ms/step - loss: 0.2913 - val_loss: 0.2935\n",
            "Epoch 26/50\n",
            "235/235 [==============================] - 5s 21ms/step - loss: 0.2911 - val_loss: 0.2931\n",
            "Epoch 27/50\n",
            "235/235 [==============================] - 5s 20ms/step - loss: 0.2909 - val_loss: 0.2928\n",
            "Epoch 28/50\n",
            "235/235 [==============================] - 5s 22ms/step - loss: 0.2908 - val_loss: 0.2928\n",
            "Epoch 29/50\n",
            "235/235 [==============================] - 5s 21ms/step - loss: 0.2906 - val_loss: 0.2925\n",
            "Epoch 30/50\n",
            "235/235 [==============================] - 5s 20ms/step - loss: 0.2905 - val_loss: 0.2923\n",
            "Epoch 31/50\n",
            "235/235 [==============================] - 5s 20ms/step - loss: 0.2903 - val_loss: 0.2928\n",
            "Epoch 32/50\n",
            "235/235 [==============================] - 5s 20ms/step - loss: 0.2902 - val_loss: 0.2921\n",
            "Epoch 33/50\n",
            "235/235 [==============================] - 5s 20ms/step - loss: 0.2901 - val_loss: 0.2924\n",
            "Epoch 34/50\n",
            "235/235 [==============================] - 5s 20ms/step - loss: 0.2899 - val_loss: 0.2919\n",
            "Epoch 35/50\n",
            "235/235 [==============================] - 5s 20ms/step - loss: 0.2898 - val_loss: 0.2919\n",
            "Epoch 36/50\n",
            "235/235 [==============================] - 5s 21ms/step - loss: 0.2897 - val_loss: 0.2918\n",
            "Epoch 37/50\n",
            "235/235 [==============================] - 5s 22ms/step - loss: 0.2896 - val_loss: 0.2917\n",
            "Epoch 38/50\n",
            "235/235 [==============================] - 5s 20ms/step - loss: 0.2894 - val_loss: 0.2914\n",
            "Epoch 39/50\n",
            "235/235 [==============================] - 5s 20ms/step - loss: 0.2893 - val_loss: 0.2914\n",
            "Epoch 40/50\n",
            "235/235 [==============================] - 5s 21ms/step - loss: 0.2893 - val_loss: 0.2915\n",
            "Epoch 41/50\n",
            "235/235 [==============================] - 5s 21ms/step - loss: 0.2891 - val_loss: 0.2912\n",
            "Epoch 42/50\n",
            "235/235 [==============================] - 5s 20ms/step - loss: 0.2891 - val_loss: 0.2912\n",
            "Epoch 43/50\n",
            "235/235 [==============================] - 5s 20ms/step - loss: 0.2889 - val_loss: 0.2909\n",
            "Epoch 44/50\n",
            "235/235 [==============================] - 5s 20ms/step - loss: 0.2888 - val_loss: 0.2912\n",
            "Epoch 45/50\n",
            "235/235 [==============================] - 5s 20ms/step - loss: 0.2887 - val_loss: 0.2911\n",
            "Epoch 46/50\n",
            "235/235 [==============================] - 5s 20ms/step - loss: 0.2886 - val_loss: 0.2907\n",
            "Epoch 47/50\n",
            "235/235 [==============================] - 5s 21ms/step - loss: 0.2885 - val_loss: 0.2905\n",
            "Epoch 48/50\n",
            "235/235 [==============================] - 5s 20ms/step - loss: 0.2884 - val_loss: 0.2903\n",
            "Epoch 49/50\n",
            "235/235 [==============================] - 5s 20ms/step - loss: 0.2883 - val_loss: 0.2903\n",
            "Epoch 50/50\n",
            "235/235 [==============================] - 5s 20ms/step - loss: 0.2882 - val_loss: 0.2908\n"
          ]
        },
        {
          "output_type": "execute_result",
          "data": {
            "text/plain": [
              "<keras.callbacks.History at 0x7ff4b026c490>"
            ]
          },
          "metadata": {},
          "execution_count": 10
        }
      ]
    },
    {
      "cell_type": "code",
      "source": [
        "decoded_imgs = autoencoder.predict(x_test)\n",
        "\n",
        "n = 10\n",
        "plt.figure(figsize=(20, 4))\n",
        "for i in range(n):\n",
        " plt.gray()\n",
        " ax = plt.subplot(2, n, i+1)\n",
        " plt.imshow(x_test[i].reshape(28, 28))\n",
        " ax.get_xaxis().set_visible(False)\n",
        " ax.get_yaxis().set_visible(False)\n",
        " \n",
        " ax = plt.subplot(2, n, i +1+n)\n",
        " plt.imshow(decoded_imgs[i].reshape(28, 28))\n",
        " ax.get_xaxis().set_visible(False)\n",
        " ax.get_yaxis().set_visible(False)\n",
        "plt.show() "
      ],
      "metadata": {
        "colab": {
          "base_uri": "https://localhost:8080/",
          "height": 248
        },
        "id": "AxrtcSawmEoe",
        "outputId": "ec9bf4e9-8bcd-4378-fae8-ec3b796504e5"
      },
      "execution_count": null,
      "outputs": [
        {
          "output_type": "display_data",
          "data": {
            "image/png": "[encoded data removed]",
            "text/plain": [
              "<Figure size 1440x288 with 20 Axes>"
            ]
          },
          "metadata": {
            "needs_background": "light"
          }
        }
      ]
    },
    {
      "cell_type": "code",
      "source": [
        "# 2nd Encoder model\n",
        "\n",
        "def Encoder_ConvTranspose(input_img):\n",
        "    x = Conv2D(24, (3, 3), activation='relu', padding='same')(input_img)\n",
        "    x = MaxPooling2D((2, 2), padding='same')(x)\n",
        "    x = Conv2D(12, (3, 3), activation='relu', padding='same')(x)\n",
        "    encoded = MaxPooling2D((2, 2), padding='same')(x)\n",
        "    return encoded\n",
        "\n",
        "# 2nd Decoder model\n",
        "\n",
        "def Decoder_ConvTranspose(encoded):\n",
        "    x = Conv2DTranspose(8, (3, 3), strides = 2, activation='relu', padding='same')(encoded)\n",
        "    x = Conv2DTranspose(12, (3, 3), strides = 2, activation='relu', padding='same')(x)\n",
        "    decoded = Conv2D(1, (3, 3), activation='sigmoid', padding='same')(x)\n",
        "    return decoded\n",
        "\n",
        "\n",
        "# 2nd Autoencoder model\n",
        "\n",
        "input = Input(shape=(28, 28, 1))\n",
        "encoder2 = Encoder_ConvTranspose(input)\n",
        "decoder2 = Decoder_ConvTranspose(encoder2)\n",
        "autoencoder2 = Model(input, decoder2)\n",
        "autoencoder2.compile(optimizer = \"adam\", loss = \"binary_crossentropy\")\n",
        "autoencoder2.summary()"
      ],
      "metadata": {
        "id": "NR6T9vBej7Y_",
        "colab": {
          "base_uri": "https://localhost:8080/"
        },
        "outputId": "8f52591a-665c-47f5-a17a-37e4fbb8196d"
      },
      "execution_count": null,
      "outputs": [
        {
          "output_type": "stream",
          "name": "stdout",
          "text": [
            "Model: \"model_5\"\n",
            "_________________________________________________________________\n",
            " Layer (type)                Output Shape              Param #   \n",
            "=================================================================\n",
            " input_6 (InputLayer)        [(None, 28, 28, 1)]       0         \n",
            "                                                                 \n",
            " conv2d_21 (Conv2D)          (None, 28, 28, 24)        240       \n",
            "                                                                 \n",
            " max_pooling2d_14 (MaxPoolin  (None, 14, 14, 24)       0         \n",
            " g2D)                                                            \n",
            "                                                                 \n",
            " conv2d_22 (Conv2D)          (None, 14, 14, 12)        2604      \n",
            "                                                                 \n",
            " max_pooling2d_15 (MaxPoolin  (None, 7, 7, 12)         0         \n",
            " g2D)                                                            \n",
            "                                                                 \n",
            " conv2d_transpose_8 (Conv2DT  (None, 14, 14, 8)        872       \n",
            " ranspose)                                                       \n",
            "                                                                 \n",
            " conv2d_transpose_9 (Conv2DT  (None, 28, 28, 12)       876       \n",
            " ranspose)                                                       \n",
            "                                                                 \n",
            " conv2d_23 (Conv2D)          (None, 28, 28, 1)         109       \n",
            "                                                                 \n",
            "=================================================================\n",
            "Total params: 4,701\n",
            "Trainable params: 4,701\n",
            "Non-trainable params: 0\n",
            "_________________________________________________________________\n"
          ]
        }
      ]
    },
    {
      "cell_type": "code",
      "source": [
        "history = autoencoder2.fit(x_train, x_train, epochs = 50, batch_size = 256, validation_data = (x_test, x_test)) "
      ],
      "metadata": {
        "colab": {
          "base_uri": "https://localhost:8080/"
        },
        "id": "vPD40QGPwzLX",
        "outputId": "688bbabf-6088-4b3c-9e95-13acbb76b652"
      },
      "execution_count": null,
      "outputs": [
        {
          "output_type": "stream",
          "name": "stdout",
          "text": [
            "Epoch 1/50\n",
            "235/235 [==============================] - 7s 26ms/step - loss: 0.3819 - val_loss: 0.2938\n",
            "Epoch 2/50\n",
            "235/235 [==============================] - 5s 22ms/step - loss: 0.2840 - val_loss: 0.2813\n",
            "Epoch 3/50\n",
            "235/235 [==============================] - 5s 23ms/step - loss: 0.2765 - val_loss: 0.2764\n",
            "Epoch 4/50\n",
            "235/235 [==============================] - 5s 22ms/step - loss: 0.2728 - val_loss: 0.2737\n",
            "Epoch 5/50\n",
            "235/235 [==============================] - 5s 21ms/step - loss: 0.2705 - val_loss: 0.2716\n",
            "Epoch 6/50\n",
            "235/235 [==============================] - 5s 21ms/step - loss: 0.2686 - val_loss: 0.2701\n",
            "Epoch 7/50\n",
            "235/235 [==============================] - 5s 21ms/step - loss: 0.2673 - val_loss: 0.2689\n",
            "Epoch 8/50\n",
            "235/235 [==============================] - 5s 23ms/step - loss: 0.2663 - val_loss: 0.2679\n",
            "Epoch 9/50\n",
            "235/235 [==============================] - 5s 21ms/step - loss: 0.2654 - val_loss: 0.2672\n",
            "Epoch 10/50\n",
            "235/235 [==============================] - 5s 21ms/step - loss: 0.2647 - val_loss: 0.2665\n",
            "Epoch 11/50\n",
            "235/235 [==============================] - 5s 21ms/step - loss: 0.2640 - val_loss: 0.2658\n",
            "Epoch 12/50\n",
            "235/235 [==============================] - 5s 21ms/step - loss: 0.2634 - val_loss: 0.2655\n",
            "Epoch 13/50\n",
            "235/235 [==============================] - 5s 21ms/step - loss: 0.2629 - val_loss: 0.2648\n",
            "Epoch 14/50\n",
            "235/235 [==============================] - 5s 22ms/step - loss: 0.2625 - val_loss: 0.2645\n",
            "Epoch 15/50\n",
            "235/235 [==============================] - 5s 21ms/step - loss: 0.2621 - val_loss: 0.2640\n",
            "Epoch 16/50\n",
            "235/235 [==============================] - 5s 21ms/step - loss: 0.2617 - val_loss: 0.2639\n",
            "Epoch 17/50\n",
            "235/235 [==============================] - 5s 21ms/step - loss: 0.2614 - val_loss: 0.2634\n",
            "Epoch 18/50\n",
            "235/235 [==============================] - 5s 23ms/step - loss: 0.2612 - val_loss: 0.2632\n",
            "Epoch 19/50\n",
            "235/235 [==============================] - 6s 25ms/step - loss: 0.2610 - val_loss: 0.2630\n",
            "Epoch 20/50\n",
            "235/235 [==============================] - 5s 23ms/step - loss: 0.2607 - val_loss: 0.2627\n",
            "Epoch 21/50\n",
            "235/235 [==============================] - 5s 22ms/step - loss: 0.2605 - val_loss: 0.2626\n",
            "Epoch 22/50\n",
            "235/235 [==============================] - 5s 21ms/step - loss: 0.2604 - val_loss: 0.2625\n",
            "Epoch 23/50\n",
            "235/235 [==============================] - 5s 21ms/step - loss: 0.2602 - val_loss: 0.2622\n",
            "Epoch 24/50\n",
            "235/235 [==============================] - 5s 21ms/step - loss: 0.2600 - val_loss: 0.2621\n",
            "Epoch 25/50\n",
            "235/235 [==============================] - 5s 21ms/step - loss: 0.2599 - val_loss: 0.2619\n",
            "Epoch 26/50\n",
            "235/235 [==============================] - 5s 21ms/step - loss: 0.2597 - val_loss: 0.2618\n",
            "Epoch 27/50\n",
            "235/235 [==============================] - 5s 22ms/step - loss: 0.2596 - val_loss: 0.2617\n",
            "Epoch 28/50\n",
            "235/235 [==============================] - 5s 22ms/step - loss: 0.2595 - val_loss: 0.2615\n",
            "Epoch 29/50\n",
            "235/235 [==============================] - 5s 21ms/step - loss: 0.2593 - val_loss: 0.2614\n",
            "Epoch 30/50\n",
            "235/235 [==============================] - 5s 21ms/step - loss: 0.2592 - val_loss: 0.2613\n",
            "Epoch 31/50\n",
            "235/235 [==============================] - 5s 21ms/step - loss: 0.2591 - val_loss: 0.2612\n",
            "Epoch 32/50\n",
            "235/235 [==============================] - 5s 21ms/step - loss: 0.2590 - val_loss: 0.2610\n",
            "Epoch 33/50\n",
            "235/235 [==============================] - 5s 21ms/step - loss: 0.2589 - val_loss: 0.2609\n",
            "Epoch 34/50\n",
            "235/235 [==============================] - 5s 21ms/step - loss: 0.2588 - val_loss: 0.2609\n",
            "Epoch 35/50\n",
            "235/235 [==============================] - 5s 22ms/step - loss: 0.2587 - val_loss: 0.2607\n",
            "Epoch 36/50\n",
            "235/235 [==============================] - 5s 21ms/step - loss: 0.2586 - val_loss: 0.2606\n",
            "Epoch 37/50\n",
            "235/235 [==============================] - 5s 21ms/step - loss: 0.2585 - val_loss: 0.2605\n",
            "Epoch 38/50\n",
            "235/235 [==============================] - 5s 21ms/step - loss: 0.2584 - val_loss: 0.2604\n",
            "Epoch 39/50\n",
            "235/235 [==============================] - 5s 22ms/step - loss: 0.2583 - val_loss: 0.2604\n",
            "Epoch 40/50\n",
            "235/235 [==============================] - 5s 22ms/step - loss: 0.2582 - val_loss: 0.2603\n",
            "Epoch 41/50\n",
            "235/235 [==============================] - 5s 21ms/step - loss: 0.2581 - val_loss: 0.2602\n",
            "Epoch 42/50\n",
            "235/235 [==============================] - 5s 21ms/step - loss: 0.2581 - val_loss: 0.2601\n",
            "Epoch 43/50\n",
            "235/235 [==============================] - 5s 21ms/step - loss: 0.2580 - val_loss: 0.2600\n",
            "Epoch 44/50\n",
            "235/235 [==============================] - 5s 22ms/step - loss: 0.2579 - val_loss: 0.2599\n",
            "Epoch 45/50\n",
            "235/235 [==============================] - 5s 21ms/step - loss: 0.2578 - val_loss: 0.2599\n",
            "Epoch 46/50\n",
            "235/235 [==============================] - 5s 22ms/step - loss: 0.2578 - val_loss: 0.2598\n",
            "Epoch 47/50\n",
            "235/235 [==============================] - 5s 21ms/step - loss: 0.2577 - val_loss: 0.2598\n",
            "Epoch 48/50\n",
            "235/235 [==============================] - 5s 22ms/step - loss: 0.2576 - val_loss: 0.2597\n",
            "Epoch 49/50\n",
            "235/235 [==============================] - 5s 21ms/step - loss: 0.2575 - val_loss: 0.2596\n",
            "Epoch 50/50\n",
            "235/235 [==============================] - 5s 22ms/step - loss: 0.2575 - val_loss: 0.2595\n"
          ]
        }
      ]
    },
    {
      "cell_type": "code",
      "source": [
        "decoded_imgs_2 = autoencoder2.predict(x_test)\n",
        "\n",
        "n = 10\n",
        "plt.figure(figsize=(20, 4))\n",
        "for i in range(n):\n",
        " plt.gray()\n",
        " ax = plt.subplot(2, n, i+1)\n",
        " plt.imshow(x_test[i].reshape(28, 28))\n",
        " ax.get_xaxis().set_visible(False)\n",
        " ax.get_yaxis().set_visible(False)\n",
        " \n",
        " ax = plt.subplot(2, n, i +1+n)\n",
        " plt.imshow(decoded_imgs_2[i].reshape(28, 28))\n",
        " ax.get_xaxis().set_visible(False)\n",
        " ax.get_yaxis().set_visible(False)\n",
        "plt.show()"
      ],
      "metadata": {
        "colab": {
          "base_uri": "https://localhost:8080/",
          "height": 248
        },
        "id": "6jzxiT020hNT",
        "outputId": "21f89d81-83dd-404f-80a9-a1d9c5c00c74"
      },
      "execution_count": null,
      "outputs": [
        {
          "output_type": "display_data",
          "data": {
            "image/png": "[encoded data removed]",
            "text/plain": [
              "<Figure size 1440x288 with 20 Axes>"
            ]
          },
          "metadata": {
            "needs_background": "light"
          }
        }
      ]
    },
    {
      "cell_type": "code",
      "source": [
        "# summarize history for loss\n",
        "plt.plot(history.history['loss'])\n",
        "plt.plot(history.history['val_loss'])\n",
        "plt.title('model loss')\n",
        "plt.ylabel('loss')\n",
        "plt.xlabel('epoch')\n",
        "plt.legend(['train', 'val'], loc='upper left')\n",
        "plt.show()"
      ],
      "metadata": {
        "colab": {
          "base_uri": "https://localhost:8080/",
          "height": 295
        },
        "id": "n0BSWGvJ0vu6",
        "outputId": "fd271dcc-0a96-4575-ba4f-779828863c73"
      },
      "execution_count": null,
      "outputs": [
        {
          "output_type": "display_data",
          "data": {
            "image/png": "[encoded data removed]",
            "text/plain": [
              "<Figure size 432x288 with 1 Axes>"
            ]
          },
          "metadata": {
            "needs_background": "light"
          }
        }
      ]
    },
    {
      "cell_type": "code",
      "source": [
        "# 3rd Autoencoder model\n",
        "\n",
        "def Encoder_ConvTranspose_2(input_img):\n",
        "    x = Conv2D(32, (3, 3), activation='relu', padding='same')(input_img)\n",
        "    x = MaxPooling2D((2, 2), padding='same')(x)\n",
        "    x = Conv2D(16, (3, 3), activation='relu', padding='same')(x)\n",
        "    encoded = MaxPooling2D((2, 2), padding='same')(x)\n",
        "    return encoded\n",
        "\n",
        "def Decoder_ConvTranspose_2(encoded):\n",
        "    x = Conv2DTranspose(16, (3, 3), strides = 2, activation='relu', padding='same')(encoded)\n",
        "    x = Conv2DTranspose(32, (3, 3), strides = 2, activation='relu', padding='same')(x)\n",
        "    decoded = Conv2D(1, (3, 3), activation='sigmoid', padding='same')(x)\n",
        "    return decoded\n",
        "\n",
        "\n",
        "\n",
        "input = Input(shape=(28, 28, 1))\n",
        "encoder3 = Encoder_ConvTranspose_2(input)\n",
        "decoder3 = Decoder_ConvTranspose_2(encoder3)\n",
        "autoencoder3 = Model(input, decoder3)\n",
        "autoencoder3.compile(optimizer = \"adam\", loss = \"binary_crossentropy\")\n",
        "autoencoder3.summary()"
      ],
      "metadata": {
        "colab": {
          "base_uri": "https://localhost:8080/"
        },
        "id": "22D7CGiR4Ry9",
        "outputId": "4b7dbc7b-d9c6-4bd2-ac20-7575bb637c97"
      },
      "execution_count": null,
      "outputs": [
        {
          "output_type": "stream",
          "name": "stdout",
          "text": [
            "Model: \"model\"\n",
            "_________________________________________________________________\n",
            " Layer (type)                Output Shape              Param #   \n",
            "=================================================================\n",
            " input_1 (InputLayer)        [(None, 28, 28, 1)]       0         \n",
            "                                                                 \n",
            " conv2d (Conv2D)             (None, 28, 28, 32)        320       \n",
            "                                                                 \n",
            " max_pooling2d (MaxPooling2D  (None, 14, 14, 32)       0         \n",
            " )                                                               \n",
            "                                                                 \n",
            " conv2d_1 (Conv2D)           (None, 14, 14, 16)        4624      \n",
            "                                                                 \n",
            " max_pooling2d_1 (MaxPooling  (None, 7, 7, 16)         0         \n",
            " 2D)                                                             \n",
            "                                                                 \n",
            " conv2d_transpose (Conv2DTra  (None, 14, 14, 16)       2320      \n",
            " nspose)                                                         \n",
            "                                                                 \n",
            " conv2d_transpose_1 (Conv2DT  (None, 28, 28, 32)       4640      \n",
            " ranspose)                                                       \n",
            "                                                                 \n",
            " conv2d_2 (Conv2D)           (None, 28, 28, 1)         289       \n",
            "                                                                 \n",
            "=================================================================\n",
            "Total params: 12,193\n",
            "Trainable params: 12,193\n",
            "Non-trainable params: 0\n",
            "_________________________________________________________________\n"
          ]
        }
      ]
    },
    {
      "cell_type": "code",
      "source": [
        "history = autoencoder3.fit(x_train, x_train, epochs = 75, batch_size = 256, validation_data = (x_test, x_test)) "
      ],
      "metadata": {
        "colab": {
          "base_uri": "https://localhost:8080/"
        },
        "id": "V_D74wPbEfdf",
        "outputId": "ad91c47c-95e5-4ce1-d13c-757069ddad99"
      },
      "execution_count": null,
      "outputs": [
        {
          "output_type": "stream",
          "name": "stdout",
          "text": [
            "Epoch 1/75\n",
            "235/235 [==============================] - 19s 32ms/step - loss: 0.3496 - val_loss: 0.2832\n",
            "Epoch 2/75\n",
            "235/235 [==============================] - 6s 24ms/step - loss: 0.2768 - val_loss: 0.2761\n",
            "Epoch 3/75\n",
            "235/235 [==============================] - 6s 24ms/step - loss: 0.2722 - val_loss: 0.2730\n",
            "Epoch 4/75\n",
            "235/235 [==============================] - 6s 24ms/step - loss: 0.2696 - val_loss: 0.2705\n",
            "Epoch 5/75\n",
            "235/235 [==============================] - 6s 25ms/step - loss: 0.2676 - val_loss: 0.2688\n",
            "Epoch 6/75\n",
            "235/235 [==============================] - 6s 24ms/step - loss: 0.2660 - val_loss: 0.2674\n",
            "Epoch 7/75\n",
            "235/235 [==============================] - 6s 24ms/step - loss: 0.2646 - val_loss: 0.2661\n",
            "Epoch 8/75\n",
            "235/235 [==============================] - 6s 25ms/step - loss: 0.2634 - val_loss: 0.2649\n",
            "Epoch 9/75\n",
            "235/235 [==============================] - 6s 25ms/step - loss: 0.2622 - val_loss: 0.2638\n",
            "Epoch 10/75\n",
            "235/235 [==============================] - 6s 25ms/step - loss: 0.2612 - val_loss: 0.2629\n",
            "Epoch 11/75\n",
            "235/235 [==============================] - 6s 26ms/step - loss: 0.2604 - val_loss: 0.2620\n",
            "Epoch 12/75\n",
            "235/235 [==============================] - 6s 25ms/step - loss: 0.2597 - val_loss: 0.2614\n",
            "Epoch 13/75\n",
            "235/235 [==============================] - 6s 25ms/step - loss: 0.2590 - val_loss: 0.2608\n",
            "Epoch 14/75\n",
            "235/235 [==============================] - 6s 24ms/step - loss: 0.2585 - val_loss: 0.2604\n",
            "Epoch 15/75\n",
            "235/235 [==============================] - 6s 25ms/step - loss: 0.2581 - val_loss: 0.2599\n",
            "Epoch 16/75\n",
            "235/235 [==============================] - 6s 26ms/step - loss: 0.2577 - val_loss: 0.2597\n",
            "Epoch 17/75\n",
            "235/235 [==============================] - 6s 24ms/step - loss: 0.2574 - val_loss: 0.2593\n",
            "Epoch 18/75\n",
            "235/235 [==============================] - 6s 24ms/step - loss: 0.2571 - val_loss: 0.2591\n",
            "Epoch 19/75\n",
            "235/235 [==============================] - 6s 24ms/step - loss: 0.2569 - val_loss: 0.2588\n",
            "Epoch 20/75\n",
            "235/235 [==============================] - 6s 25ms/step - loss: 0.2567 - val_loss: 0.2585\n",
            "Epoch 21/75\n",
            "235/235 [==============================] - 6s 25ms/step - loss: 0.2564 - val_loss: 0.2584\n",
            "Epoch 22/75\n",
            "235/235 [==============================] - 6s 24ms/step - loss: 0.2562 - val_loss: 0.2583\n",
            "Epoch 23/75\n",
            "235/235 [==============================] - 6s 24ms/step - loss: 0.2561 - val_loss: 0.2580\n",
            "Epoch 24/75\n",
            "235/235 [==============================] - 6s 24ms/step - loss: 0.2559 - val_loss: 0.2578\n",
            "Epoch 25/75\n",
            "235/235 [==============================] - 6s 24ms/step - loss: 0.2557 - val_loss: 0.2578\n",
            "Epoch 26/75\n",
            "235/235 [==============================] - 6s 25ms/step - loss: 0.2556 - val_loss: 0.2576\n",
            "Epoch 27/75\n",
            "235/235 [==============================] - 6s 25ms/step - loss: 0.2554 - val_loss: 0.2574\n",
            "Epoch 28/75\n",
            "235/235 [==============================] - 6s 26ms/step - loss: 0.2553 - val_loss: 0.2574\n",
            "Epoch 29/75\n",
            "235/235 [==============================] - 6s 25ms/step - loss: 0.2552 - val_loss: 0.2573\n",
            "Epoch 30/75\n",
            "235/235 [==============================] - 6s 24ms/step - loss: 0.2551 - val_loss: 0.2571\n",
            "Epoch 31/75\n",
            "235/235 [==============================] - 6s 24ms/step - loss: 0.2550 - val_loss: 0.2570\n",
            "Epoch 32/75\n",
            "235/235 [==============================] - 6s 24ms/step - loss: 0.2549 - val_loss: 0.2570\n",
            "Epoch 33/75\n",
            "235/235 [==============================] - 6s 24ms/step - loss: 0.2548 - val_loss: 0.2569\n",
            "Epoch 34/75\n",
            "235/235 [==============================] - 6s 24ms/step - loss: 0.2547 - val_loss: 0.2568\n",
            "Epoch 35/75\n",
            "235/235 [==============================] - 6s 24ms/step - loss: 0.2547 - val_loss: 0.2569\n",
            "Epoch 36/75\n",
            "235/235 [==============================] - 6s 24ms/step - loss: 0.2546 - val_loss: 0.2566\n",
            "Epoch 37/75\n",
            "235/235 [==============================] - 6s 24ms/step - loss: 0.2545 - val_loss: 0.2565\n",
            "Epoch 38/75\n",
            "235/235 [==============================] - 6s 24ms/step - loss: 0.2544 - val_loss: 0.2565\n",
            "Epoch 39/75\n",
            "235/235 [==============================] - 6s 25ms/step - loss: 0.2544 - val_loss: 0.2565\n",
            "Epoch 40/75\n",
            "235/235 [==============================] - 6s 24ms/step - loss: 0.2543 - val_loss: 0.2563\n",
            "Epoch 41/75\n",
            "235/235 [==============================] - 6s 25ms/step - loss: 0.2543 - val_loss: 0.2562\n",
            "Epoch 42/75\n",
            "235/235 [==============================] - 6s 24ms/step - loss: 0.2542 - val_loss: 0.2562\n",
            "Epoch 43/75\n",
            "235/235 [==============================] - 6s 24ms/step - loss: 0.2541 - val_loss: 0.2563\n",
            "Epoch 44/75\n",
            "235/235 [==============================] - 6s 24ms/step - loss: 0.2541 - val_loss: 0.2561\n",
            "Epoch 45/75\n",
            "235/235 [==============================] - 6s 25ms/step - loss: 0.2541 - val_loss: 0.2561\n",
            "Epoch 46/75\n",
            "235/235 [==============================] - 6s 25ms/step - loss: 0.2540 - val_loss: 0.2563\n",
            "Epoch 47/75\n",
            "235/235 [==============================] - 6s 25ms/step - loss: 0.2540 - val_loss: 0.2560\n",
            "Epoch 48/75\n",
            "235/235 [==============================] - 6s 24ms/step - loss: 0.2539 - val_loss: 0.2560\n",
            "Epoch 49/75\n",
            "235/235 [==============================] - 6s 25ms/step - loss: 0.2538 - val_loss: 0.2560\n",
            "Epoch 50/75\n",
            "235/235 [==============================] - 6s 24ms/step - loss: 0.2538 - val_loss: 0.2559\n",
            "Epoch 51/75\n",
            "235/235 [==============================] - 6s 24ms/step - loss: 0.2538 - val_loss: 0.2559\n",
            "Epoch 52/75\n",
            "235/235 [==============================] - 6s 24ms/step - loss: 0.2538 - val_loss: 0.2557\n",
            "Epoch 53/75\n",
            "235/235 [==============================] - 6s 25ms/step - loss: 0.2537 - val_loss: 0.2558\n",
            "Epoch 54/75\n",
            "235/235 [==============================] - 6s 25ms/step - loss: 0.2537 - val_loss: 0.2557\n",
            "Epoch 55/75\n",
            "235/235 [==============================] - 6s 25ms/step - loss: 0.2536 - val_loss: 0.2558\n",
            "Epoch 56/75\n",
            "235/235 [==============================] - 6s 25ms/step - loss: 0.2536 - val_loss: 0.2557\n",
            "Epoch 57/75\n",
            "235/235 [==============================] - 6s 25ms/step - loss: 0.2536 - val_loss: 0.2560\n",
            "Epoch 58/75\n",
            "235/235 [==============================] - 6s 24ms/step - loss: 0.2535 - val_loss: 0.2555\n",
            "Epoch 59/75\n",
            "235/235 [==============================] - 6s 25ms/step - loss: 0.2535 - val_loss: 0.2556\n",
            "Epoch 60/75\n",
            "235/235 [==============================] - 6s 24ms/step - loss: 0.2535 - val_loss: 0.2557\n",
            "Epoch 61/75\n",
            "235/235 [==============================] - 6s 24ms/step - loss: 0.2534 - val_loss: 0.2555\n",
            "Epoch 62/75\n",
            "235/235 [==============================] - 6s 24ms/step - loss: 0.2534 - val_loss: 0.2555\n",
            "Epoch 63/75\n",
            "235/235 [==============================] - 6s 24ms/step - loss: 0.2534 - val_loss: 0.2554\n",
            "Epoch 64/75\n",
            "235/235 [==============================] - 6s 24ms/step - loss: 0.2533 - val_loss: 0.2554\n",
            "Epoch 65/75\n",
            "235/235 [==============================] - 6s 25ms/step - loss: 0.2533 - val_loss: 0.2553\n",
            "Epoch 66/75\n",
            "235/235 [==============================] - 6s 25ms/step - loss: 0.2533 - val_loss: 0.2556\n",
            "Epoch 67/75\n",
            "235/235 [==============================] - 6s 25ms/step - loss: 0.2533 - val_loss: 0.2553\n",
            "Epoch 68/75\n",
            "235/235 [==============================] - 6s 24ms/step - loss: 0.2532 - val_loss: 0.2552\n",
            "Epoch 69/75\n",
            "235/235 [==============================] - 6s 24ms/step - loss: 0.2532 - val_loss: 0.2553\n",
            "Epoch 70/75\n",
            "235/235 [==============================] - 6s 24ms/step - loss: 0.2532 - val_loss: 0.2553\n",
            "Epoch 71/75\n",
            "235/235 [==============================] - 6s 24ms/step - loss: 0.2532 - val_loss: 0.2552\n",
            "Epoch 72/75\n",
            "235/235 [==============================] - 6s 25ms/step - loss: 0.2532 - val_loss: 0.2552\n",
            "Epoch 73/75\n",
            "235/235 [==============================] - 6s 25ms/step - loss: 0.2531 - val_loss: 0.2552\n",
            "Epoch 74/75\n",
            "235/235 [==============================] - 6s 24ms/step - loss: 0.2531 - val_loss: 0.2551\n",
            "Epoch 75/75\n",
            "235/235 [==============================] - 6s 24ms/step - loss: 0.2531 - val_loss: 0.2552\n"
          ]
        }
      ]
    },
    {
      "cell_type": "code",
      "source": [
        "# summarize history for loss\n",
        "plt.plot(history.history['loss'])\n",
        "plt.plot(history.history['val_loss'])\n",
        "plt.title('model loss')\n",
        "plt.ylabel('loss')\n",
        "plt.xlabel('epoch')\n",
        "plt.legend(['train', 'val'], loc='upper left')\n",
        "plt.show()"
      ],
      "metadata": {
        "id": "R16-ZQvCEpwM",
        "colab": {
          "base_uri": "https://localhost:8080/",
          "height": 295
        },
        "outputId": "4c75a5da-1467-4fa9-e612-178d33a2af1b"
      },
      "execution_count": null,
      "outputs": [
        {
          "output_type": "display_data",
          "data": {
            "image/png": "[encoded data removed]",
            "text/plain": [
              "<Figure size 432x288 with 1 Axes>"
            ]
          },
          "metadata": {
            "needs_background": "light"
          }
        }
      ]
    },
    {
      "cell_type": "code",
      "source": [
        "decoded_imgs_3 = autoencoder3.predict(x_test)\n",
        "\n",
        "n = 10\n",
        "plt.figure(figsize=(20, 4))\n",
        "for i in range(n):\n",
        " plt.gray()\n",
        " ax = plt.subplot(2, n, i+1)\n",
        " plt.imshow(x_test[i].reshape(28, 28))\n",
        " ax.get_xaxis().set_visible(False)\n",
        " ax.get_yaxis().set_visible(False)\n",
        " \n",
        " ax = plt.subplot(2, n, i +1+n)\n",
        " plt.imshow(decoded_imgs_3[i].reshape(28, 28))\n",
        " ax.get_xaxis().set_visible(False)\n",
        " ax.get_yaxis().set_visible(False)\n",
        "plt.show()"
      ],
      "metadata": {
        "id": "bVI5SVctEv3L",
        "colab": {
          "base_uri": "https://localhost:8080/",
          "height": 248
        },
        "outputId": "2dfda74f-1f7f-49c7-e1b9-aa0a0a378656"
      },
      "execution_count": null,
      "outputs": [
        {
          "output_type": "display_data",
          "data": {
            "image/png": "[encoded data removed]",
            "text/plain": [
              "<Figure size 1440x288 with 20 Axes>"
            ]
          },
          "metadata": {
            "needs_background": "light"
          }
        }
      ]
    },
    {
      "cell_type": "code",
      "source": [
        "# 4th Autoencoder model\n",
        "\n",
        "def Encoder_ConvTranspose_3(input_img):\n",
        "    x = Conv2D(32, (3, 3), activation='leaky_relu', padding='same')(input_img)\n",
        "    x = MaxPooling2D((2, 2), padding='same')(x)\n",
        "    x = Conv2D(16, (3, 3), activation='leaky_relu', padding='same')(x)\n",
        "    encoded = MaxPooling2D((2, 2), padding='same')(x)\n",
        "    return encoded\n",
        "\n",
        "def Decoder_ConvTranspose_3(encoded):\n",
        "    x = Conv2DTranspose(16, (3, 3), strides = 2, activation='leaky_relu', padding='same')(encoded)\n",
        "    x = Conv2DTranspose(32, (3, 3), strides = 2, activation='leaky_relu', padding='same')(x)\n",
        "    decoded = Conv2D(1, (3, 3), activation='sigmoid', padding='same')(x)\n",
        "    return decoded\n",
        "\n",
        "\n",
        "input = Input(shape=(28, 28, 1))\n",
        "encoder4 = Encoder_ConvTranspose_3(input)\n",
        "decoder4 = Decoder_ConvTranspose_3(encoder4)\n",
        "autoencoder4 = Model(input, decoder4)\n",
        "autoencoder4.compile(optimizer = \"adam\", loss = \"binary_crossentropy\")\n",
        "autoencoder4.summary()"
      ],
      "metadata": {
        "id": "uVDm-1__GP6M",
        "colab": {
          "base_uri": "https://localhost:8080/"
        },
        "outputId": "a133ae91-aeb0-455e-8eb1-8454933096ca"
      },
      "execution_count": null,
      "outputs": [
        {
          "output_type": "stream",
          "name": "stdout",
          "text": [
            "Model: \"model\"\n",
            "_________________________________________________________________\n",
            " Layer (type)                Output Shape              Param #   \n",
            "=================================================================\n",
            " input_3 (InputLayer)        [(None, 28, 28, 1)]       0         \n",
            "                                                                 \n",
            " conv2d_2 (Conv2D)           (None, 28, 28, 32)        320       \n",
            "                                                                 \n",
            " max_pooling2d_2 (MaxPooling  (None, 14, 14, 32)       0         \n",
            " 2D)                                                             \n",
            "                                                                 \n",
            " conv2d_3 (Conv2D)           (None, 14, 14, 16)        4624      \n",
            "                                                                 \n",
            " max_pooling2d_3 (MaxPooling  (None, 7, 7, 16)         0         \n",
            " 2D)                                                             \n",
            "                                                                 \n",
            " conv2d_transpose (Conv2DTra  (None, 14, 14, 16)       2320      \n",
            " nspose)                                                         \n",
            "                                                                 \n",
            " conv2d_transpose_1 (Conv2DT  (None, 28, 28, 32)       4640      \n",
            " ranspose)                                                       \n",
            "                                                                 \n",
            " conv2d_4 (Conv2D)           (None, 28, 28, 1)         289       \n",
            "                                                                 \n",
            "=================================================================\n",
            "Total params: 12,193\n",
            "Trainable params: 12,193\n",
            "Non-trainable params: 0\n",
            "_________________________________________________________________\n"
          ]
        }
      ]
    },
    {
      "cell_type": "code",
      "source": [
        "history = autoencoder4.fit(x_train, x_train, epochs = 75, batch_size = 256, validation_data = (x_test, x_test)) "
      ],
      "metadata": {
        "colab": {
          "base_uri": "https://localhost:8080/"
        },
        "id": "_dVxwz4cEhp5",
        "outputId": "c17a665f-0c75-4680-a913-e1121978a615"
      },
      "execution_count": null,
      "outputs": [
        {
          "output_type": "stream",
          "name": "stdout",
          "text": [
            "Epoch 1/75\n",
            "235/235 [==============================] - 18s 28ms/step - loss: 0.3466 - val_loss: 0.2843\n",
            "Epoch 2/75\n",
            "235/235 [==============================] - 6s 26ms/step - loss: 0.2768 - val_loss: 0.2753\n",
            "Epoch 3/75\n",
            "235/235 [==============================] - 6s 26ms/step - loss: 0.2705 - val_loss: 0.2704\n",
            "Epoch 4/75\n",
            "235/235 [==============================] - 6s 27ms/step - loss: 0.2665 - val_loss: 0.2671\n",
            "Epoch 5/75\n",
            "235/235 [==============================] - 7s 28ms/step - loss: 0.2637 - val_loss: 0.2646\n",
            "Epoch 6/75\n",
            "235/235 [==============================] - 6s 26ms/step - loss: 0.2616 - val_loss: 0.2629\n",
            "Epoch 7/75\n",
            "235/235 [==============================] - 6s 27ms/step - loss: 0.2601 - val_loss: 0.2616\n",
            "Epoch 8/75\n",
            "235/235 [==============================] - 6s 27ms/step - loss: 0.2590 - val_loss: 0.2607\n",
            "Epoch 9/75\n",
            "235/235 [==============================] - 6s 27ms/step - loss: 0.2581 - val_loss: 0.2598\n",
            "Epoch 10/75\n",
            "235/235 [==============================] - 6s 26ms/step - loss: 0.2574 - val_loss: 0.2592\n",
            "Epoch 11/75\n",
            "235/235 [==============================] - 6s 27ms/step - loss: 0.2568 - val_loss: 0.2585\n",
            "Epoch 12/75\n",
            "235/235 [==============================] - 6s 27ms/step - loss: 0.2563 - val_loss: 0.2582\n",
            "Epoch 13/75\n",
            "235/235 [==============================] - 6s 26ms/step - loss: 0.2558 - val_loss: 0.2578\n",
            "Epoch 14/75\n",
            "235/235 [==============================] - 6s 27ms/step - loss: 0.2555 - val_loss: 0.2573\n",
            "Epoch 15/75\n",
            "235/235 [==============================] - 6s 26ms/step - loss: 0.2551 - val_loss: 0.2570\n",
            "Epoch 16/75\n",
            "235/235 [==============================] - 6s 27ms/step - loss: 0.2548 - val_loss: 0.2567\n",
            "Epoch 17/75\n",
            "235/235 [==============================] - 6s 26ms/step - loss: 0.2545 - val_loss: 0.2564\n",
            "Epoch 18/75\n",
            "235/235 [==============================] - 6s 26ms/step - loss: 0.2542 - val_loss: 0.2562\n",
            "Epoch 19/75\n",
            "235/235 [==============================] - 6s 27ms/step - loss: 0.2540 - val_loss: 0.2559\n",
            "Epoch 20/75\n",
            "235/235 [==============================] - 6s 27ms/step - loss: 0.2538 - val_loss: 0.2557\n",
            "Epoch 21/75\n",
            "235/235 [==============================] - 6s 26ms/step - loss: 0.2536 - val_loss: 0.2556\n",
            "Epoch 22/75\n",
            "235/235 [==============================] - 6s 25ms/step - loss: 0.2534 - val_loss: 0.2555\n",
            "Epoch 23/75\n",
            "235/235 [==============================] - 6s 26ms/step - loss: 0.2533 - val_loss: 0.2553\n",
            "Epoch 24/75\n",
            "235/235 [==============================] - 6s 26ms/step - loss: 0.2531 - val_loss: 0.2551\n",
            "Epoch 25/75\n",
            "235/235 [==============================] - 6s 26ms/step - loss: 0.2530 - val_loss: 0.2550\n",
            "Epoch 26/75\n",
            "235/235 [==============================] - 6s 27ms/step - loss: 0.2529 - val_loss: 0.2549\n",
            "Epoch 27/75\n",
            "235/235 [==============================] - 6s 26ms/step - loss: 0.2527 - val_loss: 0.2547\n",
            "Epoch 28/75\n",
            "235/235 [==============================] - 6s 26ms/step - loss: 0.2526 - val_loss: 0.2546\n",
            "Epoch 29/75\n",
            "235/235 [==============================] - 6s 27ms/step - loss: 0.2525 - val_loss: 0.2545\n",
            "Epoch 30/75\n",
            "235/235 [==============================] - 6s 25ms/step - loss: 0.2524 - val_loss: 0.2544\n",
            "Epoch 31/75\n",
            "235/235 [==============================] - 6s 26ms/step - loss: 0.2523 - val_loss: 0.2543\n",
            "Epoch 32/75\n",
            "235/235 [==============================] - 6s 27ms/step - loss: 0.2522 - val_loss: 0.2542\n",
            "Epoch 33/75\n",
            "235/235 [==============================] - 6s 26ms/step - loss: 0.2521 - val_loss: 0.2542\n",
            "Epoch 34/75\n",
            "235/235 [==============================] - 6s 26ms/step - loss: 0.2520 - val_loss: 0.2541\n",
            "Epoch 35/75\n",
            "235/235 [==============================] - 6s 26ms/step - loss: 0.2520 - val_loss: 0.2540\n",
            "Epoch 36/75\n",
            "235/235 [==============================] - 6s 26ms/step - loss: 0.2519 - val_loss: 0.2539\n",
            "Epoch 37/75\n",
            "235/235 [==============================] - 6s 27ms/step - loss: 0.2518 - val_loss: 0.2538\n",
            "Epoch 38/75\n",
            "235/235 [==============================] - 6s 26ms/step - loss: 0.2517 - val_loss: 0.2538\n",
            "Epoch 39/75\n",
            "235/235 [==============================] - 6s 27ms/step - loss: 0.2517 - val_loss: 0.2537\n",
            "Epoch 40/75\n",
            "235/235 [==============================] - 6s 26ms/step - loss: 0.2516 - val_loss: 0.2536\n",
            "Epoch 41/75\n",
            "235/235 [==============================] - 6s 26ms/step - loss: 0.2515 - val_loss: 0.2536\n",
            "Epoch 42/75\n",
            "235/235 [==============================] - 6s 25ms/step - loss: 0.2515 - val_loss: 0.2536\n",
            "Epoch 43/75\n",
            "235/235 [==============================] - 6s 26ms/step - loss: 0.2514 - val_loss: 0.2535\n",
            "Epoch 44/75\n",
            "235/235 [==============================] - 6s 27ms/step - loss: 0.2514 - val_loss: 0.2534\n",
            "Epoch 45/75\n",
            "235/235 [==============================] - 6s 26ms/step - loss: 0.2513 - val_loss: 0.2534\n",
            "Epoch 46/75\n",
            "235/235 [==============================] - 6s 26ms/step - loss: 0.2513 - val_loss: 0.2535\n",
            "Epoch 47/75\n",
            "235/235 [==============================] - 6s 25ms/step - loss: 0.2512 - val_loss: 0.2533\n",
            "Epoch 48/75\n",
            "235/235 [==============================] - 6s 26ms/step - loss: 0.2512 - val_loss: 0.2532\n",
            "Epoch 49/75\n",
            "235/235 [==============================] - 6s 25ms/step - loss: 0.2512 - val_loss: 0.2532\n",
            "Epoch 50/75\n",
            "235/235 [==============================] - 6s 26ms/step - loss: 0.2511 - val_loss: 0.2532\n",
            "Epoch 51/75\n",
            "235/235 [==============================] - 6s 26ms/step - loss: 0.2511 - val_loss: 0.2531\n",
            "Epoch 52/75\n",
            "235/235 [==============================] - 6s 27ms/step - loss: 0.2510 - val_loss: 0.2531\n",
            "Epoch 53/75\n",
            "235/235 [==============================] - 6s 26ms/step - loss: 0.2510 - val_loss: 0.2531\n",
            "Epoch 54/75\n",
            "235/235 [==============================] - 6s 26ms/step - loss: 0.2510 - val_loss: 0.2530\n",
            "Epoch 55/75\n",
            "235/235 [==============================] - 6s 26ms/step - loss: 0.2509 - val_loss: 0.2529\n",
            "Epoch 56/75\n",
            "235/235 [==============================] - 6s 25ms/step - loss: 0.2509 - val_loss: 0.2530\n",
            "Epoch 57/75\n",
            "235/235 [==============================] - 6s 26ms/step - loss: 0.2509 - val_loss: 0.2529\n",
            "Epoch 58/75\n",
            "235/235 [==============================] - 6s 26ms/step - loss: 0.2508 - val_loss: 0.2529\n",
            "Epoch 59/75\n",
            "235/235 [==============================] - 6s 26ms/step - loss: 0.2508 - val_loss: 0.2528\n",
            "Epoch 60/75\n",
            "235/235 [==============================] - 6s 26ms/step - loss: 0.2508 - val_loss: 0.2528\n",
            "Epoch 61/75\n",
            "235/235 [==============================] - 6s 25ms/step - loss: 0.2507 - val_loss: 0.2527\n",
            "Epoch 62/75\n",
            "235/235 [==============================] - 6s 25ms/step - loss: 0.2507 - val_loss: 0.2527\n",
            "Epoch 63/75\n",
            "235/235 [==============================] - 6s 25ms/step - loss: 0.2507 - val_loss: 0.2527\n",
            "Epoch 64/75\n",
            "235/235 [==============================] - 6s 26ms/step - loss: 0.2506 - val_loss: 0.2527\n",
            "Epoch 65/75\n",
            "235/235 [==============================] - 6s 25ms/step - loss: 0.2506 - val_loss: 0.2527\n",
            "Epoch 66/75\n",
            "235/235 [==============================] - 6s 26ms/step - loss: 0.2506 - val_loss: 0.2526\n",
            "Epoch 67/75\n",
            "235/235 [==============================] - 6s 25ms/step - loss: 0.2506 - val_loss: 0.2526\n",
            "Epoch 68/75\n",
            "235/235 [==============================] - 6s 25ms/step - loss: 0.2505 - val_loss: 0.2526\n",
            "Epoch 69/75\n",
            "235/235 [==============================] - 6s 26ms/step - loss: 0.2505 - val_loss: 0.2526\n",
            "Epoch 70/75\n",
            "235/235 [==============================] - 6s 25ms/step - loss: 0.2505 - val_loss: 0.2525\n",
            "Epoch 71/75\n",
            "235/235 [==============================] - 6s 25ms/step - loss: 0.2505 - val_loss: 0.2525\n",
            "Epoch 72/75\n",
            "235/235 [==============================] - 6s 25ms/step - loss: 0.2504 - val_loss: 0.2525\n",
            "Epoch 73/75\n",
            "235/235 [==============================] - 6s 26ms/step - loss: 0.2504 - val_loss: 0.2525\n",
            "Epoch 74/75\n",
            "235/235 [==============================] - 6s 25ms/step - loss: 0.2504 - val_loss: 0.2525\n",
            "Epoch 75/75\n",
            "235/235 [==============================] - 6s 26ms/step - loss: 0.2504 - val_loss: 0.2524\n"
          ]
        }
      ]
    },
    {
      "cell_type": "code",
      "source": [
        "# summarize history for loss\n",
        "plt.plot(history.history['loss'])\n",
        "plt.plot(history.history['val_loss'])\n",
        "plt.title('model loss')\n",
        "plt.ylabel('loss')\n",
        "plt.xlabel('epoch')\n",
        "plt.legend(['train', 'val'], loc='upper left')\n",
        "plt.show()"
      ],
      "metadata": {
        "colab": {
          "base_uri": "https://localhost:8080/",
          "height": 295
        },
        "id": "O1xZiU34EwU4",
        "outputId": "d66d9390-bfa5-4893-83c0-5ff2ea3cd9e5"
      },
      "execution_count": null,
      "outputs": [
        {
          "output_type": "display_data",
          "data": {
            "image/png": "[encoded data removed]",
            "text/plain": [
              "<Figure size 432x288 with 1 Axes>"
            ]
          },
          "metadata": {
            "needs_background": "light"
          }
        }
      ]
    },
    {
      "cell_type": "code",
      "source": [
        "decoded_imgs_4 = autoencoder4.predict(x_test)\n",
        "\n",
        "n = 10\n",
        "plt.figure(figsize=(20, 4))\n",
        "for i in range(n):\n",
        " plt.gray()\n",
        " ax = plt.subplot(2, n, i+1)\n",
        " plt.imshow(x_test[i].reshape(28, 28))\n",
        " ax.get_xaxis().set_visible(False)\n",
        " ax.get_yaxis().set_visible(False)\n",
        " \n",
        " ax = plt.subplot(2, n, i +1+n)\n",
        " plt.imshow(decoded_imgs_4[i].reshape(28, 28))\n",
        " ax.get_xaxis().set_visible(False)\n",
        " ax.get_yaxis().set_visible(False)\n",
        "plt.show()"
      ],
      "metadata": {
        "colab": {
          "base_uri": "https://localhost:8080/",
          "height": 248
        },
        "id": "46OkhWnKGyTA",
        "outputId": "367e5086-c99c-49c5-9400-dc810ea66c4e"
      },
      "execution_count": null,
      "outputs": [
        {
          "output_type": "display_data",
          "data": {
            "image/png": "[encoded data removed]",
            "text/plain": [
              "<Figure size 1440x288 with 20 Axes>"
            ]
          },
          "metadata": {
            "needs_background": "light"
          }
        }
      ]
    },
    {
      "cell_type": "code",
      "source": [
        "# 5th Autoencoder model\n",
        "\n",
        "def Encoder_ConvTranspose_4(input_img):\n",
        "    x = Conv2D(32, (3, 3), activation='leaky_relu', padding='same', strides=2)(input_img)\n",
        "    x = Conv2D(16, (3, 3), activation='leaky_relu', padding='same', strides=2)(x)\n",
        "    encoded = Conv2D(16, (3, 3), activation='leaky_relu', padding='same')(x)\n",
        "    return encoded\n",
        "\n",
        "def Decoder_ConvTranspose_4(encoded):\n",
        "    x = Conv2DTranspose(16, (3, 3), strides = 2, activation='leaky_relu', padding='same')(encoded)\n",
        "    x = Conv2DTranspose(32, (3, 3), strides = 2, activation='leaky_relu', padding='same')(x)\n",
        "    decoded = Conv2D(1, (3, 3), activation='sigmoid', padding='same')(x)\n",
        "    return decoded\n",
        "\n",
        "\n",
        "input = Input(shape=(28, 28, 1))\n",
        "encoder5 = Encoder_ConvTranspose_4(input)\n",
        "decoder5 = Decoder_ConvTranspose_4(encoder5)\n",
        "autoencoder5 = Model(input, decoder5)\n",
        "autoencoder5.compile(optimizer = \"adam\", loss = \"binary_crossentropy\")\n",
        "autoencoder5.summary()"
      ],
      "metadata": {
        "colab": {
          "base_uri": "https://localhost:8080/"
        },
        "id": "bijNpm0RHlIa",
        "outputId": "1d4caa9f-2b6c-4be1-9b7b-564a8552a223"
      },
      "execution_count": null,
      "outputs": [
        {
          "output_type": "stream",
          "name": "stdout",
          "text": [
            "Model: \"model_2\"\n",
            "_________________________________________________________________\n",
            " Layer (type)                Output Shape              Param #   \n",
            "=================================================================\n",
            " input_5 (InputLayer)        [(None, 28, 28, 1)]       0         \n",
            "                                                                 \n",
            " conv2d_8 (Conv2D)           (None, 14, 14, 32)        320       \n",
            "                                                                 \n",
            " conv2d_9 (Conv2D)           (None, 7, 7, 16)          4624      \n",
            "                                                                 \n",
            " conv2d_10 (Conv2D)          (None, 7, 7, 16)          2320      \n",
            "                                                                 \n",
            " conv2d_transpose_4 (Conv2DT  (None, 14, 14, 16)       2320      \n",
            " ranspose)                                                       \n",
            "                                                                 \n",
            " conv2d_transpose_5 (Conv2DT  (None, 28, 28, 32)       4640      \n",
            " ranspose)                                                       \n",
            "                                                                 \n",
            " conv2d_11 (Conv2D)          (None, 28, 28, 1)         289       \n",
            "                                                                 \n",
            "=================================================================\n",
            "Total params: 14,513\n",
            "Trainable params: 14,513\n",
            "Non-trainable params: 0\n",
            "_________________________________________________________________\n"
          ]
        }
      ]
    },
    {
      "cell_type": "code",
      "source": [
        "history = autoencoder5.fit(x_train, x_train, epochs = 75, batch_size = 256, validation_data = (x_test, x_test)) "
      ],
      "metadata": {
        "colab": {
          "base_uri": "https://localhost:8080/"
        },
        "id": "TDMUM2NnKLAn",
        "outputId": "36093463-78e5-4d1c-e89f-df5c8694730d"
      },
      "execution_count": null,
      "outputs": [
        {
          "output_type": "stream",
          "name": "stdout",
          "text": [
            "Epoch 1/75\n",
            "235/235 [==============================] - 7s 23ms/step - loss: 0.3495 - val_loss: 0.2889\n",
            "Epoch 2/75\n",
            "235/235 [==============================] - 5s 23ms/step - loss: 0.2811 - val_loss: 0.2826\n",
            "Epoch 3/75\n",
            "235/235 [==============================] - 5s 22ms/step - loss: 0.2733 - val_loss: 0.2726\n",
            "Epoch 4/75\n",
            "235/235 [==============================] - 5s 23ms/step - loss: 0.2688 - val_loss: 0.2699\n",
            "Epoch 5/75\n",
            "235/235 [==============================] - 5s 22ms/step - loss: 0.2663 - val_loss: 0.2675\n",
            "Epoch 6/75\n",
            "235/235 [==============================] - 5s 23ms/step - loss: 0.2645 - val_loss: 0.2658\n",
            "Epoch 7/75\n",
            "235/235 [==============================] - 5s 22ms/step - loss: 0.2627 - val_loss: 0.2639\n",
            "Epoch 8/75\n",
            "235/235 [==============================] - 5s 22ms/step - loss: 0.2611 - val_loss: 0.2624\n",
            "Epoch 9/75\n",
            "235/235 [==============================] - 5s 22ms/step - loss: 0.2598 - val_loss: 0.2613\n",
            "Epoch 10/75\n",
            "235/235 [==============================] - 5s 22ms/step - loss: 0.2585 - val_loss: 0.2600\n",
            "Epoch 11/75\n",
            "235/235 [==============================] - 5s 22ms/step - loss: 0.2573 - val_loss: 0.2591\n",
            "Epoch 12/75\n",
            "235/235 [==============================] - 5s 23ms/step - loss: 0.2562 - val_loss: 0.2576\n",
            "Epoch 13/75\n",
            "235/235 [==============================] - 5s 22ms/step - loss: 0.2552 - val_loss: 0.2567\n",
            "Epoch 14/75\n",
            "235/235 [==============================] - 5s 22ms/step - loss: 0.2543 - val_loss: 0.2559\n",
            "Epoch 15/75\n",
            "235/235 [==============================] - 5s 22ms/step - loss: 0.2536 - val_loss: 0.2553\n",
            "Epoch 16/75\n",
            "235/235 [==============================] - 5s 22ms/step - loss: 0.2530 - val_loss: 0.2546\n",
            "Epoch 17/75\n",
            "235/235 [==============================] - 5s 22ms/step - loss: 0.2524 - val_loss: 0.2542\n",
            "Epoch 18/75\n",
            "235/235 [==============================] - 5s 22ms/step - loss: 0.2519 - val_loss: 0.2536\n",
            "Epoch 19/75\n",
            "235/235 [==============================] - 5s 22ms/step - loss: 0.2515 - val_loss: 0.2532\n",
            "Epoch 20/75\n",
            "235/235 [==============================] - 5s 22ms/step - loss: 0.2511 - val_loss: 0.2529\n",
            "Epoch 21/75\n",
            "235/235 [==============================] - 5s 22ms/step - loss: 0.2508 - val_loss: 0.2532\n",
            "Epoch 22/75\n",
            "235/235 [==============================] - 5s 22ms/step - loss: 0.2505 - val_loss: 0.2525\n",
            "Epoch 23/75\n",
            "235/235 [==============================] - 5s 23ms/step - loss: 0.2502 - val_loss: 0.2519\n",
            "Epoch 24/75\n",
            "235/235 [==============================] - 5s 22ms/step - loss: 0.2500 - val_loss: 0.2517\n",
            "Epoch 25/75\n",
            "235/235 [==============================] - 5s 22ms/step - loss: 0.2497 - val_loss: 0.2515\n",
            "Epoch 26/75\n",
            "235/235 [==============================] - 5s 23ms/step - loss: 0.2494 - val_loss: 0.2513\n",
            "Epoch 27/75\n",
            "235/235 [==============================] - 5s 22ms/step - loss: 0.2492 - val_loss: 0.2514\n",
            "Epoch 28/75\n",
            "235/235 [==============================] - 5s 22ms/step - loss: 0.2490 - val_loss: 0.2511\n",
            "Epoch 29/75\n",
            "235/235 [==============================] - 5s 22ms/step - loss: 0.2489 - val_loss: 0.2511\n",
            "Epoch 30/75\n",
            "235/235 [==============================] - 5s 22ms/step - loss: 0.2486 - val_loss: 0.2506\n",
            "Epoch 31/75\n",
            "235/235 [==============================] - 5s 22ms/step - loss: 0.2485 - val_loss: 0.2504\n",
            "Epoch 32/75\n",
            "235/235 [==============================] - 5s 22ms/step - loss: 0.2483 - val_loss: 0.2505\n",
            "Epoch 33/75\n",
            "235/235 [==============================] - 5s 22ms/step - loss: 0.2482 - val_loss: 0.2500\n",
            "Epoch 34/75\n",
            "235/235 [==============================] - 5s 23ms/step - loss: 0.2480 - val_loss: 0.2499\n",
            "Epoch 35/75\n",
            "235/235 [==============================] - 5s 22ms/step - loss: 0.2479 - val_loss: 0.2498\n",
            "Epoch 36/75\n",
            "235/235 [==============================] - 5s 23ms/step - loss: 0.2478 - val_loss: 0.2502\n",
            "Epoch 37/75\n",
            "235/235 [==============================] - 5s 22ms/step - loss: 0.2477 - val_loss: 0.2495\n",
            "Epoch 38/75\n",
            "235/235 [==============================] - 5s 22ms/step - loss: 0.2476 - val_loss: 0.2497\n",
            "Epoch 39/75\n",
            "235/235 [==============================] - 5s 22ms/step - loss: 0.2474 - val_loss: 0.2499\n",
            "Epoch 40/75\n",
            "235/235 [==============================] - 5s 22ms/step - loss: 0.2473 - val_loss: 0.2494\n",
            "Epoch 41/75\n",
            "235/235 [==============================] - 5s 22ms/step - loss: 0.2472 - val_loss: 0.2490\n",
            "Epoch 42/75\n",
            "235/235 [==============================] - 5s 22ms/step - loss: 0.2471 - val_loss: 0.2489\n",
            "Epoch 43/75\n",
            "235/235 [==============================] - 5s 22ms/step - loss: 0.2469 - val_loss: 0.2492\n",
            "Epoch 44/75\n",
            "235/235 [==============================] - 5s 22ms/step - loss: 0.2469 - val_loss: 0.2489\n",
            "Epoch 45/75\n",
            "235/235 [==============================] - 5s 22ms/step - loss: 0.2468 - val_loss: 0.2489\n",
            "Epoch 46/75\n",
            "235/235 [==============================] - 5s 22ms/step - loss: 0.2466 - val_loss: 0.2504\n",
            "Epoch 47/75\n",
            "235/235 [==============================] - 5s 22ms/step - loss: 0.2466 - val_loss: 0.2486\n",
            "Epoch 48/75\n",
            "235/235 [==============================] - 5s 22ms/step - loss: 0.2465 - val_loss: 0.2484\n",
            "Epoch 49/75\n",
            "235/235 [==============================] - 6s 23ms/step - loss: 0.2464 - val_loss: 0.2483\n",
            "Epoch 50/75\n",
            "235/235 [==============================] - 5s 22ms/step - loss: 0.2462 - val_loss: 0.2481\n",
            "Epoch 51/75\n",
            "235/235 [==============================] - 6s 24ms/step - loss: 0.2462 - val_loss: 0.2482\n",
            "Epoch 52/75\n",
            "235/235 [==============================] - 6s 24ms/step - loss: 0.2461 - val_loss: 0.2481\n",
            "Epoch 53/75\n",
            "235/235 [==============================] - 5s 22ms/step - loss: 0.2460 - val_loss: 0.2484\n",
            "Epoch 54/75\n",
            "235/235 [==============================] - 5s 22ms/step - loss: 0.2459 - val_loss: 0.2478\n",
            "Epoch 55/75\n",
            "235/235 [==============================] - 5s 23ms/step - loss: 0.2458 - val_loss: 0.2478\n",
            "Epoch 56/75\n",
            "235/235 [==============================] - 6s 23ms/step - loss: 0.2458 - val_loss: 0.2480\n",
            "Epoch 57/75\n",
            "235/235 [==============================] - 5s 23ms/step - loss: 0.2457 - val_loss: 0.2476\n",
            "Epoch 58/75\n",
            "235/235 [==============================] - 5s 22ms/step - loss: 0.2456 - val_loss: 0.2475\n",
            "Epoch 59/75\n",
            "235/235 [==============================] - 5s 23ms/step - loss: 0.2455 - val_loss: 0.2475\n",
            "Epoch 60/75\n",
            "235/235 [==============================] - 5s 22ms/step - loss: 0.2455 - val_loss: 0.2475\n",
            "Epoch 61/75\n",
            "235/235 [==============================] - 5s 22ms/step - loss: 0.2454 - val_loss: 0.2473\n",
            "Epoch 62/75\n",
            "235/235 [==============================] - 5s 23ms/step - loss: 0.2453 - val_loss: 0.2472\n",
            "Epoch 63/75\n",
            "235/235 [==============================] - 5s 22ms/step - loss: 0.2453 - val_loss: 0.2472\n",
            "Epoch 64/75\n",
            "235/235 [==============================] - 5s 22ms/step - loss: 0.2452 - val_loss: 0.2471\n",
            "Epoch 65/75\n",
            "235/235 [==============================] - 5s 22ms/step - loss: 0.2451 - val_loss: 0.2471\n",
            "Epoch 66/75\n",
            "235/235 [==============================] - 6s 25ms/step - loss: 0.2451 - val_loss: 0.2470\n",
            "Epoch 67/75\n",
            "235/235 [==============================] - 6s 25ms/step - loss: 0.2450 - val_loss: 0.2470\n",
            "Epoch 68/75\n",
            "235/235 [==============================] - 6s 23ms/step - loss: 0.2450 - val_loss: 0.2469\n",
            "Epoch 69/75\n",
            "235/235 [==============================] - 5s 22ms/step - loss: 0.2449 - val_loss: 0.2469\n",
            "Epoch 70/75\n",
            "235/235 [==============================] - 5s 23ms/step - loss: 0.2448 - val_loss: 0.2468\n",
            "Epoch 71/75\n",
            "235/235 [==============================] - 5s 22ms/step - loss: 0.2449 - val_loss: 0.2467\n",
            "Epoch 72/75\n",
            "235/235 [==============================] - 5s 22ms/step - loss: 0.2448 - val_loss: 0.2466\n",
            "Epoch 73/75\n",
            "235/235 [==============================] - 5s 22ms/step - loss: 0.2447 - val_loss: 0.2466\n",
            "Epoch 74/75\n",
            "235/235 [==============================] - 5s 22ms/step - loss: 0.2447 - val_loss: 0.2467\n",
            "Epoch 75/75\n",
            "235/235 [==============================] - 5s 22ms/step - loss: 0.2446 - val_loss: 0.2468\n"
          ]
        }
      ]
    },
    {
      "cell_type": "code",
      "source": [
        "# summarize history for loss\n",
        "plt.plot(history.history['loss'])\n",
        "plt.plot(history.history['val_loss'])\n",
        "plt.title('model loss')\n",
        "plt.ylabel('loss')\n",
        "plt.xlabel('epoch')\n",
        "plt.legend(['train', 'val'], loc='upper left')\n",
        "plt.show()"
      ],
      "metadata": {
        "colab": {
          "base_uri": "https://localhost:8080/",
          "height": 295
        },
        "id": "-sc9ag9uKlWA",
        "outputId": "c9e94db4-f5c1-4d9e-dee8-cc2827a7b21e"
      },
      "execution_count": null,
      "outputs": [
        {
          "output_type": "display_data",
          "data": {
            "image/png": "[encoded data removed]",
            "text/plain": [
              "<Figure size 432x288 with 1 Axes>"
            ]
          },
          "metadata": {
            "needs_background": "light"
          }
        }
      ]
    },
    {
      "cell_type": "code",
      "source": [
        "decoded_imgs_5 = autoencoder5.predict(x_test)\n",
        "\n",
        "n = 10\n",
        "plt.figure(figsize=(20, 4))\n",
        "for i in range(n):\n",
        " plt.gray()\n",
        " ax = plt.subplot(2, n, i+1)\n",
        " plt.imshow(x_test[i].reshape(28, 28))\n",
        " ax.get_xaxis().set_visible(False)\n",
        " ax.get_yaxis().set_visible(False)\n",
        " \n",
        " ax = plt.subplot(2, n, i +1+n)\n",
        " plt.imshow(decoded_imgs_5[i].reshape(28, 28))\n",
        " ax.get_xaxis().set_visible(False)\n",
        " ax.get_yaxis().set_visible(False)\n",
        "plt.show()"
      ],
      "metadata": {
        "colab": {
          "base_uri": "https://localhost:8080/",
          "height": 248
        },
        "id": "Z8FpTQZFL6z7",
        "outputId": "30d301af-1fe0-4857-a243-fae07bc9e8ab"
      },
      "execution_count": null,
      "outputs": [
        {
          "output_type": "display_data",
          "data": {
            "image/png": "[encoded data removed]",
            "text/plain": [
              "<Figure size 1440x288 with 20 Axes>"
            ]
          },
          "metadata": {
            "needs_background": "light"
          }
        }
      ]
    },
    {
      "cell_type": "code",
      "source": [
        ""
      ],
      "metadata": {
        "id": "d9gtJrgDMTZD"
      },
      "execution_count": null,
      "outputs": []
    }
  ]
}