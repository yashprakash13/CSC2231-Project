{
  "nbformat": 4,
  "nbformat_minor": 0,
  "metadata": {
    "colab": {
      "name": "Conv_autoencoder_v4.ipynb",
      "provenance": [],
      "collapsed_sections": []
    },
    "kernelspec": {
      "name": "python3",
      "display_name": "Python 3"
    },
    "language_info": {
      "name": "python"
    },
    "accelerator": "GPU",
    "widgets": {
      "application/vnd.jupyter.widget-state+json": {
        "113d746aa71149f880643829765922b3": {
          "model_module": "@jupyter-widgets/controls",
          "model_name": "VBoxModel",
          "model_module_version": "1.5.0",
          "state": {
            "_dom_classes": [],
            "_model_module": "@jupyter-widgets/controls",
            "_model_module_version": "1.5.0",
            "_model_name": "VBoxModel",
            "_view_count": null,
            "_view_module": "@jupyter-widgets/controls",
            "_view_module_version": "1.5.0",
            "_view_name": "VBoxView",
            "box_style": "",
            "children": [
              "IPY_MODEL_0e3431a467a6443ca110e73c86773b6e",
              "IPY_MODEL_4d803526814148af8dd45197c814a13e"
            ],
            "layout": "IPY_MODEL_cd711965a11644e490e63aaa1324f1d4"
          }
        },
        "0e3431a467a6443ca110e73c86773b6e": {
          "model_module": "@jupyter-widgets/controls",
          "model_name": "LabelModel",
          "model_module_version": "1.5.0",
          "state": {
            "_dom_classes": [],
            "_model_module": "@jupyter-widgets/controls",
            "_model_module_version": "1.5.0",
            "_model_name": "LabelModel",
            "_view_count": null,
            "_view_module": "@jupyter-widgets/controls",
            "_view_module_version": "1.5.0",
            "_view_name": "LabelView",
            "description": "",
            "description_tooltip": null,
            "layout": "IPY_MODEL_6a855bbfb2ba4fb4b095b3436cc85804",
            "placeholder": "​",
            "style": "IPY_MODEL_d79b82853f4f41f4a80c1f271c6aa049",
            "value": "0.484 MB of 0.484 MB uploaded (0.000 MB deduped)\r"
          }
        },
        "4d803526814148af8dd45197c814a13e": {
          "model_module": "@jupyter-widgets/controls",
          "model_name": "FloatProgressModel",
          "model_module_version": "1.5.0",
          "state": {
            "_dom_classes": [],
            "_model_module": "@jupyter-widgets/controls",
            "_model_module_version": "1.5.0",
            "_model_name": "FloatProgressModel",
            "_view_count": null,
            "_view_module": "@jupyter-widgets/controls",
            "_view_module_version": "1.5.0",
            "_view_name": "ProgressView",
            "bar_style": "",
            "description": "",
            "description_tooltip": null,
            "layout": "IPY_MODEL_75b920e7469b4c6a8cd6312d35e27c8c",
            "max": 1,
            "min": 0,
            "orientation": "horizontal",
            "style": "IPY_MODEL_4fbad411a56c45219918dee764cbc4fa",
            "value": 1
          }
        },
        "cd711965a11644e490e63aaa1324f1d4": {
          "model_module": "@jupyter-widgets/base",
          "model_name": "LayoutModel",
          "model_module_version": "1.2.0",
          "state": {
            "_model_module": "@jupyter-widgets/base",
            "_model_module_version": "1.2.0",
            "_model_name": "LayoutModel",
            "_view_count": null,
            "_view_module": "@jupyter-widgets/base",
            "_view_module_version": "1.2.0",
            "_view_name": "LayoutView",
            "align_content": null,
            "align_items": null,
            "align_self": null,
            "border": null,
            "bottom": null,
            "display": null,
            "flex": null,
            "flex_flow": null,
            "grid_area": null,
            "grid_auto_columns": null,
            "grid_auto_flow": null,
            "grid_auto_rows": null,
            "grid_column": null,
            "grid_gap": null,
            "grid_row": null,
            "grid_template_areas": null,
            "grid_template_columns": null,
            "grid_template_rows": null,
            "height": null,
            "justify_content": null,
            "justify_items": null,
            "left": null,
            "margin": null,
            "max_height": null,
            "max_width": null,
            "min_height": null,
            "min_width": null,
            "object_fit": null,
            "object_position": null,
            "order": null,
            "overflow": null,
            "overflow_x": null,
            "overflow_y": null,
            "padding": null,
            "right": null,
            "top": null,
            "visibility": null,
            "width": null
          }
        },
        "6a855bbfb2ba4fb4b095b3436cc85804": {
          "model_module": "@jupyter-widgets/base",
          "model_name": "LayoutModel",
          "model_module_version": "1.2.0",
          "state": {
            "_model_module": "@jupyter-widgets/base",
            "_model_module_version": "1.2.0",
            "_model_name": "LayoutModel",
            "_view_count": null,
            "_view_module": "@jupyter-widgets/base",
            "_view_module_version": "1.2.0",
            "_view_name": "LayoutView",
            "align_content": null,
            "align_items": null,
            "align_self": null,
            "border": null,
            "bottom": null,
            "display": null,
            "flex": null,
            "flex_flow": null,
            "grid_area": null,
            "grid_auto_columns": null,
            "grid_auto_flow": null,
            "grid_auto_rows": null,
            "grid_column": null,
            "grid_gap": null,
            "grid_row": null,
            "grid_template_areas": null,
            "grid_template_columns": null,
            "grid_template_rows": null,
            "height": null,
            "justify_content": null,
            "justify_items": null,
            "left": null,
            "margin": null,
            "max_height": null,
            "max_width": null,
            "min_height": null,
            "min_width": null,
            "object_fit": null,
            "object_position": null,
            "order": null,
            "overflow": null,
            "overflow_x": null,
            "overflow_y": null,
            "padding": null,
            "right": null,
            "top": null,
            "visibility": null,
            "width": null
          }
        },
        "d79b82853f4f41f4a80c1f271c6aa049": {
          "model_module": "@jupyter-widgets/controls",
          "model_name": "DescriptionStyleModel",
          "model_module_version": "1.5.0",
          "state": {
            "_model_module": "@jupyter-widgets/controls",
            "_model_module_version": "1.5.0",
            "_model_name": "DescriptionStyleModel",
            "_view_count": null,
            "_view_module": "@jupyter-widgets/base",
            "_view_module_version": "1.2.0",
            "_view_name": "StyleView",
            "description_width": ""
          }
        },
        "75b920e7469b4c6a8cd6312d35e27c8c": {
          "model_module": "@jupyter-widgets/base",
          "model_name": "LayoutModel",
          "model_module_version": "1.2.0",
          "state": {
            "_model_module": "@jupyter-widgets/base",
            "_model_module_version": "1.2.0",
            "_model_name": "LayoutModel",
            "_view_count": null,
            "_view_module": "@jupyter-widgets/base",
            "_view_module_version": "1.2.0",
            "_view_name": "LayoutView",
            "align_content": null,
            "align_items": null,
            "align_self": null,
            "border": null,
            "bottom": null,
            "display": null,
            "flex": null,
            "flex_flow": null,
            "grid_area": null,
            "grid_auto_columns": null,
            "grid_auto_flow": null,
            "grid_auto_rows": null,
            "grid_column": null,
            "grid_gap": null,
            "grid_row": null,
            "grid_template_areas": null,
            "grid_template_columns": null,
            "grid_template_rows": null,
            "height": null,
            "justify_content": null,
            "justify_items": null,
            "left": null,
            "margin": null,
            "max_height": null,
            "max_width": null,
            "min_height": null,
            "min_width": null,
            "object_fit": null,
            "object_position": null,
            "order": null,
            "overflow": null,
            "overflow_x": null,
            "overflow_y": null,
            "padding": null,
            "right": null,
            "top": null,
            "visibility": null,
            "width": null
          }
        },
        "4fbad411a56c45219918dee764cbc4fa": {
          "model_module": "@jupyter-widgets/controls",
          "model_name": "ProgressStyleModel",
          "model_module_version": "1.5.0",
          "state": {
            "_model_module": "@jupyter-widgets/controls",
            "_model_module_version": "1.5.0",
            "_model_name": "ProgressStyleModel",
            "_view_count": null,
            "_view_module": "@jupyter-widgets/base",
            "_view_module_version": "1.2.0",
            "_view_name": "StyleView",
            "bar_color": null,
            "description_width": ""
          }
        },
        "9692465fc2294cb495f28adc4f6e7872": {
          "model_module": "@jupyter-widgets/controls",
          "model_name": "VBoxModel",
          "model_module_version": "1.5.0",
          "state": {
            "_dom_classes": [],
            "_model_module": "@jupyter-widgets/controls",
            "_model_module_version": "1.5.0",
            "_model_name": "VBoxModel",
            "_view_count": null,
            "_view_module": "@jupyter-widgets/controls",
            "_view_module_version": "1.5.0",
            "_view_name": "VBoxView",
            "box_style": "",
            "children": [
              "IPY_MODEL_0f262b5562854160ad3b02f3c6562a4e",
              "IPY_MODEL_f87e9de9efce4c189a2787d70459d055"
            ],
            "layout": "IPY_MODEL_cc830c296e5147c1b242d640db5bbbb8"
          }
        },
        "0f262b5562854160ad3b02f3c6562a4e": {
          "model_module": "@jupyter-widgets/controls",
          "model_name": "LabelModel",
          "model_module_version": "1.5.0",
          "state": {
            "_dom_classes": [],
            "_model_module": "@jupyter-widgets/controls",
            "_model_module_version": "1.5.0",
            "_model_name": "LabelModel",
            "_view_count": null,
            "_view_module": "@jupyter-widgets/controls",
            "_view_module_version": "1.5.0",
            "_view_name": "LabelView",
            "description": "",
            "description_tooltip": null,
            "layout": "IPY_MODEL_a1cc2a17252642b89dd68a8bab14adf0",
            "placeholder": "​",
            "style": "IPY_MODEL_51e262a6f5c94ebea72aee7dcae7b04f",
            "value": "0.483 MB of 0.483 MB uploaded (0.000 MB deduped)\r"
          }
        },
        "f87e9de9efce4c189a2787d70459d055": {
          "model_module": "@jupyter-widgets/controls",
          "model_name": "FloatProgressModel",
          "model_module_version": "1.5.0",
          "state": {
            "_dom_classes": [],
            "_model_module": "@jupyter-widgets/controls",
            "_model_module_version": "1.5.0",
            "_model_name": "FloatProgressModel",
            "_view_count": null,
            "_view_module": "@jupyter-widgets/controls",
            "_view_module_version": "1.5.0",
            "_view_name": "ProgressView",
            "bar_style": "",
            "description": "",
            "description_tooltip": null,
            "layout": "IPY_MODEL_fc268fa1607d4170a0b96aff31839f24",
            "max": 1,
            "min": 0,
            "orientation": "horizontal",
            "style": "IPY_MODEL_2250448e1b1b43bab140ca7b7de6d90a",
            "value": 1
          }
        },
        "cc830c296e5147c1b242d640db5bbbb8": {
          "model_module": "@jupyter-widgets/base",
          "model_name": "LayoutModel",
          "model_module_version": "1.2.0",
          "state": {
            "_model_module": "@jupyter-widgets/base",
            "_model_module_version": "1.2.0",
            "_model_name": "LayoutModel",
            "_view_count": null,
            "_view_module": "@jupyter-widgets/base",
            "_view_module_version": "1.2.0",
            "_view_name": "LayoutView",
            "align_content": null,
            "align_items": null,
            "align_self": null,
            "border": null,
            "bottom": null,
            "display": null,
            "flex": null,
            "flex_flow": null,
            "grid_area": null,
            "grid_auto_columns": null,
            "grid_auto_flow": null,
            "grid_auto_rows": null,
            "grid_column": null,
            "grid_gap": null,
            "grid_row": null,
            "grid_template_areas": null,
            "grid_template_columns": null,
            "grid_template_rows": null,
            "height": null,
            "justify_content": null,
            "justify_items": null,
            "left": null,
            "margin": null,
            "max_height": null,
            "max_width": null,
            "min_height": null,
            "min_width": null,
            "object_fit": null,
            "object_position": null,
            "order": null,
            "overflow": null,
            "overflow_x": null,
            "overflow_y": null,
            "padding": null,
            "right": null,
            "top": null,
            "visibility": null,
            "width": null
          }
        },
        "a1cc2a17252642b89dd68a8bab14adf0": {
          "model_module": "@jupyter-widgets/base",
          "model_name": "LayoutModel",
          "model_module_version": "1.2.0",
          "state": {
            "_model_module": "@jupyter-widgets/base",
            "_model_module_version": "1.2.0",
            "_model_name": "LayoutModel",
            "_view_count": null,
            "_view_module": "@jupyter-widgets/base",
            "_view_module_version": "1.2.0",
            "_view_name": "LayoutView",
            "align_content": null,
            "align_items": null,
            "align_self": null,
            "border": null,
            "bottom": null,
            "display": null,
            "flex": null,
            "flex_flow": null,
            "grid_area": null,
            "grid_auto_columns": null,
            "grid_auto_flow": null,
            "grid_auto_rows": null,
            "grid_column": null,
            "grid_gap": null,
            "grid_row": null,
            "grid_template_areas": null,
            "grid_template_columns": null,
            "grid_template_rows": null,
            "height": null,
            "justify_content": null,
            "justify_items": null,
            "left": null,
            "margin": null,
            "max_height": null,
            "max_width": null,
            "min_height": null,
            "min_width": null,
            "object_fit": null,
            "object_position": null,
            "order": null,
            "overflow": null,
            "overflow_x": null,
            "overflow_y": null,
            "padding": null,
            "right": null,
            "top": null,
            "visibility": null,
            "width": null
          }
        },
        "51e262a6f5c94ebea72aee7dcae7b04f": {
          "model_module": "@jupyter-widgets/controls",
          "model_name": "DescriptionStyleModel",
          "model_module_version": "1.5.0",
          "state": {
            "_model_module": "@jupyter-widgets/controls",
            "_model_module_version": "1.5.0",
            "_model_name": "DescriptionStyleModel",
            "_view_count": null,
            "_view_module": "@jupyter-widgets/base",
            "_view_module_version": "1.2.0",
            "_view_name": "StyleView",
            "description_width": ""
          }
        },
        "fc268fa1607d4170a0b96aff31839f24": {
          "model_module": "@jupyter-widgets/base",
          "model_name": "LayoutModel",
          "model_module_version": "1.2.0",
          "state": {
            "_model_module": "@jupyter-widgets/base",
            "_model_module_version": "1.2.0",
            "_model_name": "LayoutModel",
            "_view_count": null,
            "_view_module": "@jupyter-widgets/base",
            "_view_module_version": "1.2.0",
            "_view_name": "LayoutView",
            "align_content": null,
            "align_items": null,
            "align_self": null,
            "border": null,
            "bottom": null,
            "display": null,
            "flex": null,
            "flex_flow": null,
            "grid_area": null,
            "grid_auto_columns": null,
            "grid_auto_flow": null,
            "grid_auto_rows": null,
            "grid_column": null,
            "grid_gap": null,
            "grid_row": null,
            "grid_template_areas": null,
            "grid_template_columns": null,
            "grid_template_rows": null,
            "height": null,
            "justify_content": null,
            "justify_items": null,
            "left": null,
            "margin": null,
            "max_height": null,
            "max_width": null,
            "min_height": null,
            "min_width": null,
            "object_fit": null,
            "object_position": null,
            "order": null,
            "overflow": null,
            "overflow_x": null,
            "overflow_y": null,
            "padding": null,
            "right": null,
            "top": null,
            "visibility": null,
            "width": null
          }
        },
        "2250448e1b1b43bab140ca7b7de6d90a": {
          "model_module": "@jupyter-widgets/controls",
          "model_name": "ProgressStyleModel",
          "model_module_version": "1.5.0",
          "state": {
            "_model_module": "@jupyter-widgets/controls",
            "_model_module_version": "1.5.0",
            "_model_name": "ProgressStyleModel",
            "_view_count": null,
            "_view_module": "@jupyter-widgets/base",
            "_view_module_version": "1.2.0",
            "_view_name": "StyleView",
            "bar_color": null,
            "description_width": ""
          }
        },
        "9b4b41665cc14d74915f75b6dbfba6db": {
          "model_module": "@jupyter-widgets/controls",
          "model_name": "VBoxModel",
          "model_module_version": "1.5.0",
          "state": {
            "_dom_classes": [],
            "_model_module": "@jupyter-widgets/controls",
            "_model_module_version": "1.5.0",
            "_model_name": "VBoxModel",
            "_view_count": null,
            "_view_module": "@jupyter-widgets/controls",
            "_view_module_version": "1.5.0",
            "_view_name": "VBoxView",
            "box_style": "",
            "children": [
              "IPY_MODEL_6778322103dc4bea804222502062849c",
              "IPY_MODEL_a5a19a3fe2f644f79d2aba374f701aff"
            ],
            "layout": "IPY_MODEL_a532393df3574277b7a95d7918c16609"
          }
        },
        "6778322103dc4bea804222502062849c": {
          "model_module": "@jupyter-widgets/controls",
          "model_name": "LabelModel",
          "model_module_version": "1.5.0",
          "state": {
            "_dom_classes": [],
            "_model_module": "@jupyter-widgets/controls",
            "_model_module_version": "1.5.0",
            "_model_name": "LabelModel",
            "_view_count": null,
            "_view_module": "@jupyter-widgets/controls",
            "_view_module_version": "1.5.0",
            "_view_name": "LabelView",
            "description": "",
            "description_tooltip": null,
            "layout": "IPY_MODEL_f4271ba9396249abbdfc040c987fd9c9",
            "placeholder": "​",
            "style": "IPY_MODEL_dac6754033fc47f292955b42198aedea",
            "value": "1.421 MB of 1.421 MB uploaded (0.000 MB deduped)\r"
          }
        },
        "a5a19a3fe2f644f79d2aba374f701aff": {
          "model_module": "@jupyter-widgets/controls",
          "model_name": "FloatProgressModel",
          "model_module_version": "1.5.0",
          "state": {
            "_dom_classes": [],
            "_model_module": "@jupyter-widgets/controls",
            "_model_module_version": "1.5.0",
            "_model_name": "FloatProgressModel",
            "_view_count": null,
            "_view_module": "@jupyter-widgets/controls",
            "_view_module_version": "1.5.0",
            "_view_name": "ProgressView",
            "bar_style": "",
            "description": "",
            "description_tooltip": null,
            "layout": "IPY_MODEL_b6b0eeb9eadc4329a8ff7ccb8cffaf13",
            "max": 1,
            "min": 0,
            "orientation": "horizontal",
            "style": "IPY_MODEL_67b04c4666bd482389b4cb0fd7be1861",
            "value": 1
          }
        },
        "a532393df3574277b7a95d7918c16609": {
          "model_module": "@jupyter-widgets/base",
          "model_name": "LayoutModel",
          "model_module_version": "1.2.0",
          "state": {
            "_model_module": "@jupyter-widgets/base",
            "_model_module_version": "1.2.0",
            "_model_name": "LayoutModel",
            "_view_count": null,
            "_view_module": "@jupyter-widgets/base",
            "_view_module_version": "1.2.0",
            "_view_name": "LayoutView",
            "align_content": null,
            "align_items": null,
            "align_self": null,
            "border": null,
            "bottom": null,
            "display": null,
            "flex": null,
            "flex_flow": null,
            "grid_area": null,
            "grid_auto_columns": null,
            "grid_auto_flow": null,
            "grid_auto_rows": null,
            "grid_column": null,
            "grid_gap": null,
            "grid_row": null,
            "grid_template_areas": null,
            "grid_template_columns": null,
            "grid_template_rows": null,
            "height": null,
            "justify_content": null,
            "justify_items": null,
            "left": null,
            "margin": null,
            "max_height": null,
            "max_width": null,
            "min_height": null,
            "min_width": null,
            "object_fit": null,
            "object_position": null,
            "order": null,
            "overflow": null,
            "overflow_x": null,
            "overflow_y": null,
            "padding": null,
            "right": null,
            "top": null,
            "visibility": null,
            "width": null
          }
        },
        "f4271ba9396249abbdfc040c987fd9c9": {
          "model_module": "@jupyter-widgets/base",
          "model_name": "LayoutModel",
          "model_module_version": "1.2.0",
          "state": {
            "_model_module": "@jupyter-widgets/base",
            "_model_module_version": "1.2.0",
            "_model_name": "LayoutModel",
            "_view_count": null,
            "_view_module": "@jupyter-widgets/base",
            "_view_module_version": "1.2.0",
            "_view_name": "LayoutView",
            "align_content": null,
            "align_items": null,
            "align_self": null,
            "border": null,
            "bottom": null,
            "display": null,
            "flex": null,
            "flex_flow": null,
            "grid_area": null,
            "grid_auto_columns": null,
            "grid_auto_flow": null,
            "grid_auto_rows": null,
            "grid_column": null,
            "grid_gap": null,
            "grid_row": null,
            "grid_template_areas": null,
            "grid_template_columns": null,
            "grid_template_rows": null,
            "height": null,
            "justify_content": null,
            "justify_items": null,
            "left": null,
            "margin": null,
            "max_height": null,
            "max_width": null,
            "min_height": null,
            "min_width": null,
            "object_fit": null,
            "object_position": null,
            "order": null,
            "overflow": null,
            "overflow_x": null,
            "overflow_y": null,
            "padding": null,
            "right": null,
            "top": null,
            "visibility": null,
            "width": null
          }
        },
        "dac6754033fc47f292955b42198aedea": {
          "model_module": "@jupyter-widgets/controls",
          "model_name": "DescriptionStyleModel",
          "model_module_version": "1.5.0",
          "state": {
            "_model_module": "@jupyter-widgets/controls",
            "_model_module_version": "1.5.0",
            "_model_name": "DescriptionStyleModel",
            "_view_count": null,
            "_view_module": "@jupyter-widgets/base",
            "_view_module_version": "1.2.0",
            "_view_name": "StyleView",
            "description_width": ""
          }
        },
        "b6b0eeb9eadc4329a8ff7ccb8cffaf13": {
          "model_module": "@jupyter-widgets/base",
          "model_name": "LayoutModel",
          "model_module_version": "1.2.0",
          "state": {
            "_model_module": "@jupyter-widgets/base",
            "_model_module_version": "1.2.0",
            "_model_name": "LayoutModel",
            "_view_count": null,
            "_view_module": "@jupyter-widgets/base",
            "_view_module_version": "1.2.0",
            "_view_name": "LayoutView",
            "align_content": null,
            "align_items": null,
            "align_self": null,
            "border": null,
            "bottom": null,
            "display": null,
            "flex": null,
            "flex_flow": null,
            "grid_area": null,
            "grid_auto_columns": null,
            "grid_auto_flow": null,
            "grid_auto_rows": null,
            "grid_column": null,
            "grid_gap": null,
            "grid_row": null,
            "grid_template_areas": null,
            "grid_template_columns": null,
            "grid_template_rows": null,
            "height": null,
            "justify_content": null,
            "justify_items": null,
            "left": null,
            "margin": null,
            "max_height": null,
            "max_width": null,
            "min_height": null,
            "min_width": null,
            "object_fit": null,
            "object_position": null,
            "order": null,
            "overflow": null,
            "overflow_x": null,
            "overflow_y": null,
            "padding": null,
            "right": null,
            "top": null,
            "visibility": null,
            "width": null
          }
        },
        "67b04c4666bd482389b4cb0fd7be1861": {
          "model_module": "@jupyter-widgets/controls",
          "model_name": "ProgressStyleModel",
          "model_module_version": "1.5.0",
          "state": {
            "_model_module": "@jupyter-widgets/controls",
            "_model_module_version": "1.5.0",
            "_model_name": "ProgressStyleModel",
            "_view_count": null,
            "_view_module": "@jupyter-widgets/base",
            "_view_module_version": "1.2.0",
            "_view_name": "StyleView",
            "bar_color": null,
            "description_width": ""
          }
        },
        "17b207cf4044463b89e77b235d269b5d": {
          "model_module": "@jupyter-widgets/controls",
          "model_name": "VBoxModel",
          "model_module_version": "1.5.0",
          "state": {
            "_dom_classes": [],
            "_model_module": "@jupyter-widgets/controls",
            "_model_module_version": "1.5.0",
            "_model_name": "VBoxModel",
            "_view_count": null,
            "_view_module": "@jupyter-widgets/controls",
            "_view_module_version": "1.5.0",
            "_view_name": "VBoxView",
            "box_style": "",
            "children": [
              "IPY_MODEL_aab14144df64482cb6244d8086f64a04",
              "IPY_MODEL_20439f377a9d4c6a9939691c662a83ce"
            ],
            "layout": "IPY_MODEL_491f90bd218943c2a66555228b16d6fe"
          }
        },
        "aab14144df64482cb6244d8086f64a04": {
          "model_module": "@jupyter-widgets/controls",
          "model_name": "LabelModel",
          "model_module_version": "1.5.0",
          "state": {
            "_dom_classes": [],
            "_model_module": "@jupyter-widgets/controls",
            "_model_module_version": "1.5.0",
            "_model_name": "LabelModel",
            "_view_count": null,
            "_view_module": "@jupyter-widgets/controls",
            "_view_module_version": "1.5.0",
            "_view_name": "LabelView",
            "description": "",
            "description_tooltip": null,
            "layout": "IPY_MODEL_5f6e4f0866ba4771af2a380c9c4a0b43",
            "placeholder": "​",
            "style": "IPY_MODEL_30677c42afe84a7d8bd9b47f9c50deb3",
            "value": "1.415 MB of 1.415 MB uploaded (0.000 MB deduped)\r"
          }
        },
        "20439f377a9d4c6a9939691c662a83ce": {
          "model_module": "@jupyter-widgets/controls",
          "model_name": "FloatProgressModel",
          "model_module_version": "1.5.0",
          "state": {
            "_dom_classes": [],
            "_model_module": "@jupyter-widgets/controls",
            "_model_module_version": "1.5.0",
            "_model_name": "FloatProgressModel",
            "_view_count": null,
            "_view_module": "@jupyter-widgets/controls",
            "_view_module_version": "1.5.0",
            "_view_name": "ProgressView",
            "bar_style": "",
            "description": "",
            "description_tooltip": null,
            "layout": "IPY_MODEL_0752f6be23fc43f9bb43b421df31d087",
            "max": 1,
            "min": 0,
            "orientation": "horizontal",
            "style": "IPY_MODEL_ae368cad04bf4f82930b372a3c991db3",
            "value": 1
          }
        },
        "491f90bd218943c2a66555228b16d6fe": {
          "model_module": "@jupyter-widgets/base",
          "model_name": "LayoutModel",
          "model_module_version": "1.2.0",
          "state": {
            "_model_module": "@jupyter-widgets/base",
            "_model_module_version": "1.2.0",
            "_model_name": "LayoutModel",
            "_view_count": null,
            "_view_module": "@jupyter-widgets/base",
            "_view_module_version": "1.2.0",
            "_view_name": "LayoutView",
            "align_content": null,
            "align_items": null,
            "align_self": null,
            "border": null,
            "bottom": null,
            "display": null,
            "flex": null,
            "flex_flow": null,
            "grid_area": null,
            "grid_auto_columns": null,
            "grid_auto_flow": null,
            "grid_auto_rows": null,
            "grid_column": null,
            "grid_gap": null,
            "grid_row": null,
            "grid_template_areas": null,
            "grid_template_columns": null,
            "grid_template_rows": null,
            "height": null,
            "justify_content": null,
            "justify_items": null,
            "left": null,
            "margin": null,
            "max_height": null,
            "max_width": null,
            "min_height": null,
            "min_width": null,
            "object_fit": null,
            "object_position": null,
            "order": null,
            "overflow": null,
            "overflow_x": null,
            "overflow_y": null,
            "padding": null,
            "right": null,
            "top": null,
            "visibility": null,
            "width": null
          }
        },
        "5f6e4f0866ba4771af2a380c9c4a0b43": {
          "model_module": "@jupyter-widgets/base",
          "model_name": "LayoutModel",
          "model_module_version": "1.2.0",
          "state": {
            "_model_module": "@jupyter-widgets/base",
            "_model_module_version": "1.2.0",
            "_model_name": "LayoutModel",
            "_view_count": null,
            "_view_module": "@jupyter-widgets/base",
            "_view_module_version": "1.2.0",
            "_view_name": "LayoutView",
            "align_content": null,
            "align_items": null,
            "align_self": null,
            "border": null,
            "bottom": null,
            "display": null,
            "flex": null,
            "flex_flow": null,
            "grid_area": null,
            "grid_auto_columns": null,
            "grid_auto_flow": null,
            "grid_auto_rows": null,
            "grid_column": null,
            "grid_gap": null,
            "grid_row": null,
            "grid_template_areas": null,
            "grid_template_columns": null,
            "grid_template_rows": null,
            "height": null,
            "justify_content": null,
            "justify_items": null,
            "left": null,
            "margin": null,
            "max_height": null,
            "max_width": null,
            "min_height": null,
            "min_width": null,
            "object_fit": null,
            "object_position": null,
            "order": null,
            "overflow": null,
            "overflow_x": null,
            "overflow_y": null,
            "padding": null,
            "right": null,
            "top": null,
            "visibility": null,
            "width": null
          }
        },
        "30677c42afe84a7d8bd9b47f9c50deb3": {
          "model_module": "@jupyter-widgets/controls",
          "model_name": "DescriptionStyleModel",
          "model_module_version": "1.5.0",
          "state": {
            "_model_module": "@jupyter-widgets/controls",
            "_model_module_version": "1.5.0",
            "_model_name": "DescriptionStyleModel",
            "_view_count": null,
            "_view_module": "@jupyter-widgets/base",
            "_view_module_version": "1.2.0",
            "_view_name": "StyleView",
            "description_width": ""
          }
        },
        "0752f6be23fc43f9bb43b421df31d087": {
          "model_module": "@jupyter-widgets/base",
          "model_name": "LayoutModel",
          "model_module_version": "1.2.0",
          "state": {
            "_model_module": "@jupyter-widgets/base",
            "_model_module_version": "1.2.0",
            "_model_name": "LayoutModel",
            "_view_count": null,
            "_view_module": "@jupyter-widgets/base",
            "_view_module_version": "1.2.0",
            "_view_name": "LayoutView",
            "align_content": null,
            "align_items": null,
            "align_self": null,
            "border": null,
            "bottom": null,
            "display": null,
            "flex": null,
            "flex_flow": null,
            "grid_area": null,
            "grid_auto_columns": null,
            "grid_auto_flow": null,
            "grid_auto_rows": null,
            "grid_column": null,
            "grid_gap": null,
            "grid_row": null,
            "grid_template_areas": null,
            "grid_template_columns": null,
            "grid_template_rows": null,
            "height": null,
            "justify_content": null,
            "justify_items": null,
            "left": null,
            "margin": null,
            "max_height": null,
            "max_width": null,
            "min_height": null,
            "min_width": null,
            "object_fit": null,
            "object_position": null,
            "order": null,
            "overflow": null,
            "overflow_x": null,
            "overflow_y": null,
            "padding": null,
            "right": null,
            "top": null,
            "visibility": null,
            "width": null
          }
        },
        "ae368cad04bf4f82930b372a3c991db3": {
          "model_module": "@jupyter-widgets/controls",
          "model_name": "ProgressStyleModel",
          "model_module_version": "1.5.0",
          "state": {
            "_model_module": "@jupyter-widgets/controls",
            "_model_module_version": "1.5.0",
            "_model_name": "ProgressStyleModel",
            "_view_count": null,
            "_view_module": "@jupyter-widgets/base",
            "_view_module_version": "1.2.0",
            "_view_name": "StyleView",
            "bar_color": null,
            "description_width": ""
          }
        },
        "a100460cbaab41ab92683ad30a78dad5": {
          "model_module": "@jupyter-widgets/controls",
          "model_name": "VBoxModel",
          "model_module_version": "1.5.0",
          "state": {
            "_dom_classes": [],
            "_model_module": "@jupyter-widgets/controls",
            "_model_module_version": "1.5.0",
            "_model_name": "VBoxModel",
            "_view_count": null,
            "_view_module": "@jupyter-widgets/controls",
            "_view_module_version": "1.5.0",
            "_view_name": "VBoxView",
            "box_style": "",
            "children": [
              "IPY_MODEL_4aed35fd42254e948c63cf7dc98a2870",
              "IPY_MODEL_d05f35e333ae4e8e83af841d25184c43"
            ],
            "layout": "IPY_MODEL_4c8edac307524c48b666bfab71a14aab"
          }
        },
        "4aed35fd42254e948c63cf7dc98a2870": {
          "model_module": "@jupyter-widgets/controls",
          "model_name": "LabelModel",
          "model_module_version": "1.5.0",
          "state": {
            "_dom_classes": [],
            "_model_module": "@jupyter-widgets/controls",
            "_model_module_version": "1.5.0",
            "_model_name": "LabelModel",
            "_view_count": null,
            "_view_module": "@jupyter-widgets/controls",
            "_view_module_version": "1.5.0",
            "_view_name": "LabelView",
            "description": "",
            "description_tooltip": null,
            "layout": "IPY_MODEL_b444cd0f4f3849979e9e24ef3ab70568",
            "placeholder": "​",
            "style": "IPY_MODEL_37c8a1c5c54d4b6eaa37d74e5dcd1a4c",
            "value": "3.773 MB of 3.773 MB uploaded (0.000 MB deduped)\r"
          }
        },
        "d05f35e333ae4e8e83af841d25184c43": {
          "model_module": "@jupyter-widgets/controls",
          "model_name": "FloatProgressModel",
          "model_module_version": "1.5.0",
          "state": {
            "_dom_classes": [],
            "_model_module": "@jupyter-widgets/controls",
            "_model_module_version": "1.5.0",
            "_model_name": "FloatProgressModel",
            "_view_count": null,
            "_view_module": "@jupyter-widgets/controls",
            "_view_module_version": "1.5.0",
            "_view_name": "ProgressView",
            "bar_style": "",
            "description": "",
            "description_tooltip": null,
            "layout": "IPY_MODEL_b6e7920d8a874fc0b255f212b9179eb3",
            "max": 1,
            "min": 0,
            "orientation": "horizontal",
            "style": "IPY_MODEL_a94df5b6b7154280884baae3b9899197",
            "value": 1
          }
        },
        "4c8edac307524c48b666bfab71a14aab": {
          "model_module": "@jupyter-widgets/base",
          "model_name": "LayoutModel",
          "model_module_version": "1.2.0",
          "state": {
            "_model_module": "@jupyter-widgets/base",
            "_model_module_version": "1.2.0",
            "_model_name": "LayoutModel",
            "_view_count": null,
            "_view_module": "@jupyter-widgets/base",
            "_view_module_version": "1.2.0",
            "_view_name": "LayoutView",
            "align_content": null,
            "align_items": null,
            "align_self": null,
            "border": null,
            "bottom": null,
            "display": null,
            "flex": null,
            "flex_flow": null,
            "grid_area": null,
            "grid_auto_columns": null,
            "grid_auto_flow": null,
            "grid_auto_rows": null,
            "grid_column": null,
            "grid_gap": null,
            "grid_row": null,
            "grid_template_areas": null,
            "grid_template_columns": null,
            "grid_template_rows": null,
            "height": null,
            "justify_content": null,
            "justify_items": null,
            "left": null,
            "margin": null,
            "max_height": null,
            "max_width": null,
            "min_height": null,
            "min_width": null,
            "object_fit": null,
            "object_position": null,
            "order": null,
            "overflow": null,
            "overflow_x": null,
            "overflow_y": null,
            "padding": null,
            "right": null,
            "top": null,
            "visibility": null,
            "width": null
          }
        },
        "b444cd0f4f3849979e9e24ef3ab70568": {
          "model_module": "@jupyter-widgets/base",
          "model_name": "LayoutModel",
          "model_module_version": "1.2.0",
          "state": {
            "_model_module": "@jupyter-widgets/base",
            "_model_module_version": "1.2.0",
            "_model_name": "LayoutModel",
            "_view_count": null,
            "_view_module": "@jupyter-widgets/base",
            "_view_module_version": "1.2.0",
            "_view_name": "LayoutView",
            "align_content": null,
            "align_items": null,
            "align_self": null,
            "border": null,
            "bottom": null,
            "display": null,
            "flex": null,
            "flex_flow": null,
            "grid_area": null,
            "grid_auto_columns": null,
            "grid_auto_flow": null,
            "grid_auto_rows": null,
            "grid_column": null,
            "grid_gap": null,
            "grid_row": null,
            "grid_template_areas": null,
            "grid_template_columns": null,
            "grid_template_rows": null,
            "height": null,
            "justify_content": null,
            "justify_items": null,
            "left": null,
            "margin": null,
            "max_height": null,
            "max_width": null,
            "min_height": null,
            "min_width": null,
            "object_fit": null,
            "object_position": null,
            "order": null,
            "overflow": null,
            "overflow_x": null,
            "overflow_y": null,
            "padding": null,
            "right": null,
            "top": null,
            "visibility": null,
            "width": null
          }
        },
        "37c8a1c5c54d4b6eaa37d74e5dcd1a4c": {
          "model_module": "@jupyter-widgets/controls",
          "model_name": "DescriptionStyleModel",
          "model_module_version": "1.5.0",
          "state": {
            "_model_module": "@jupyter-widgets/controls",
            "_model_module_version": "1.5.0",
            "_model_name": "DescriptionStyleModel",
            "_view_count": null,
            "_view_module": "@jupyter-widgets/base",
            "_view_module_version": "1.2.0",
            "_view_name": "StyleView",
            "description_width": ""
          }
        },
        "b6e7920d8a874fc0b255f212b9179eb3": {
          "model_module": "@jupyter-widgets/base",
          "model_name": "LayoutModel",
          "model_module_version": "1.2.0",
          "state": {
            "_model_module": "@jupyter-widgets/base",
            "_model_module_version": "1.2.0",
            "_model_name": "LayoutModel",
            "_view_count": null,
            "_view_module": "@jupyter-widgets/base",
            "_view_module_version": "1.2.0",
            "_view_name": "LayoutView",
            "align_content": null,
            "align_items": null,
            "align_self": null,
            "border": null,
            "bottom": null,
            "display": null,
            "flex": null,
            "flex_flow": null,
            "grid_area": null,
            "grid_auto_columns": null,
            "grid_auto_flow": null,
            "grid_auto_rows": null,
            "grid_column": null,
            "grid_gap": null,
            "grid_row": null,
            "grid_template_areas": null,
            "grid_template_columns": null,
            "grid_template_rows": null,
            "height": null,
            "justify_content": null,
            "justify_items": null,
            "left": null,
            "margin": null,
            "max_height": null,
            "max_width": null,
            "min_height": null,
            "min_width": null,
            "object_fit": null,
            "object_position": null,
            "order": null,
            "overflow": null,
            "overflow_x": null,
            "overflow_y": null,
            "padding": null,
            "right": null,
            "top": null,
            "visibility": null,
            "width": null
          }
        },
        "a94df5b6b7154280884baae3b9899197": {
          "model_module": "@jupyter-widgets/controls",
          "model_name": "ProgressStyleModel",
          "model_module_version": "1.5.0",
          "state": {
            "_model_module": "@jupyter-widgets/controls",
            "_model_module_version": "1.5.0",
            "_model_name": "ProgressStyleModel",
            "_view_count": null,
            "_view_module": "@jupyter-widgets/base",
            "_view_module_version": "1.2.0",
            "_view_name": "StyleView",
            "bar_color": null,
            "description_width": ""
          }
        }
      }
    }
  },
  "cells": [
    {
      "cell_type": "code",
      "execution_count": null,
      "metadata": {
        "id": "vW8Fv06P25XM"
      },
      "outputs": [],
      "source": [
        "!pip install wandb\n",
        "!wandb login"
      ]
    },
    {
      "cell_type": "code",
      "source": [
        "from tensorflow import keras\n",
        "from tensorflow.keras.layers import Input, Conv2D, MaxPooling2D, Dropout, UpSampling2D, Conv2DTranspose, Dense, Flatten, Reshape\n",
        "from tensorflow.keras.models import Model\n",
        "import tensorflow.keras.backend as K\n",
        "from PIL import Image, ImageOps\n",
        "from skimage.metrics import structural_similarity as ssim\n",
        "\n",
        "import numpy as np\n",
        "import tensorflow as tf\n",
        "import matplotlib.pyplot as plt\n",
        "\n",
        "import os\n",
        "\n",
        "from tensorflow.keras.datasets import fashion_mnist, cifar10"
      ],
      "metadata": {
        "id": "FPRuxOEz3DZK"
      },
      "execution_count": null,
      "outputs": []
    },
    {
      "cell_type": "code",
      "source": [
        "import wandb\n",
        "from wandb.keras import WandbCallback"
      ],
      "metadata": {
        "id": "MMOXmGUf3DWk"
      },
      "execution_count": null,
      "outputs": []
    },
    {
      "cell_type": "code",
      "source": [
        "input_sizes_dict = {\n",
        "    'm': 28,\n",
        "    'c': 32,\n",
        "}\n",
        "channels_dict = {\n",
        "    'm': 1,\n",
        "    'c': 3,\n",
        "}"
      ],
      "metadata": {
        "id": "h5n61cBXk_pB"
      },
      "execution_count": null,
      "outputs": []
    },
    {
      "cell_type": "code",
      "source": [
        "def fit_model_and_log_metrics(run_name, run_notes, model, epochs, batch_size):\n",
        "    run = wandb.init(project=\"autoencoders_conv\", entity=\"csc2231-yash-siphelele\", name=run_name, notes=run_notes)\n",
        "    history = model.fit(x_train, x_train, epochs = epochs, batch_size = batch_size, validation_data = (x_test, x_test), callbacks=[WandbCallback()]) \n",
        "    decoded_imgs = model.predict(x_test)\n",
        "    ssim_scores = []\n",
        "    for i in range(len(x_test)):\n",
        "        if CURRENT_DATASET_TYPE == 'c':\n",
        "            ssim_value = ssim(x_test[i].reshape(input_sizes_dict[CURRENT_DATASET_TYPE], input_sizes_dict[CURRENT_DATASET_TYPE], channels_dict[CURRENT_DATASET_TYPE]), \n",
        "                                            decoded_imgs[i].reshape(input_sizes_dict[CURRENT_DATASET_TYPE], input_sizes_dict[CURRENT_DATASET_TYPE], channels_dict[CURRENT_DATASET_TYPE]),\n",
        "                              multichannel=True)\n",
        "        else:\n",
        "            ssim_value = ssim(x_test[i].reshape(input_sizes_dict[CURRENT_DATASET_TYPE], input_sizes_dict[CURRENT_DATASET_TYPE]), \n",
        "                                            decoded_imgs[i].reshape(input_sizes_dict[CURRENT_DATASET_TYPE], input_sizes_dict[CURRENT_DATASET_TYPE]))\n",
        "        ssim_scores.append(ssim_value)\n",
        "\n",
        "    avg_ssim_score_x_test = np.mean(ssim_scores)\n",
        "    wandb.log({\"avg_ssim_score_x_test\": avg_ssim_score_x_test})\n",
        "    print(\"Avg SSIM over X_test:\", avg_ssim_score_x_test)\n",
        "    run.finish()"
      ],
      "metadata": {
        "id": "vOmt0QVI3DT9"
      },
      "execution_count": null,
      "outputs": []
    },
    {
      "cell_type": "code",
      "source": [
        "(x_train, y_train), (x_test, y_test) = fashion_mnist.load_data()\n",
        "x_train = x_train.astype('float32') / 255\n",
        "x_test = x_test.astype('float32') / 255\n",
        "x_train.shape, x_test.shape, y_train.shape, y_test.shape "
      ],
      "metadata": {
        "colab": {
          "base_uri": "https://localhost:8080/"
        },
        "id": "kMElSN6w3DRG",
        "outputId": "4e341bfa-fc79-4233-f17d-2c3185868608"
      },
      "execution_count": null,
      "outputs": [
        {
          "output_type": "stream",
          "name": "stdout",
          "text": [
            "Downloading data from https://storage.googleapis.com/tensorflow/tf-keras-datasets/train-labels-idx1-ubyte.gz\n",
            "32768/29515 [=================================] - 0s 0us/step\n",
            "40960/29515 [=========================================] - 0s 0us/step\n",
            "Downloading data from https://storage.googleapis.com/tensorflow/tf-keras-datasets/train-images-idx3-ubyte.gz\n",
            "26427392/26421880 [==============================] - 0s 0us/step\n",
            "26435584/26421880 [==============================] - 0s 0us/step\n",
            "Downloading data from https://storage.googleapis.com/tensorflow/tf-keras-datasets/t10k-labels-idx1-ubyte.gz\n",
            "16384/5148 [===============================================================================================] - 0s 0us/step\n",
            "Downloading data from https://storage.googleapis.com/tensorflow/tf-keras-datasets/t10k-images-idx3-ubyte.gz\n",
            "4423680/4422102 [==============================] - 0s 0us/step\n",
            "4431872/4422102 [==============================] - 0s 0us/step\n"
          ]
        },
        {
          "output_type": "execute_result",
          "data": {
            "text/plain": [
              "((60000, 28, 28), (10000, 28, 28), (60000,), (10000,))"
            ]
          },
          "metadata": {},
          "execution_count": 6
        }
      ]
    },
    {
      "cell_type": "code",
      "source": [
        "(x_train, y_train), (x_test, y_test) = cifar10.load_data()\n",
        "x_train = x_train.astype('float32') / 255\n",
        "x_test = x_test.astype('float32') / 255\n",
        "x_train.shape, x_test.shape, y_train.shape, y_test.shape "
      ],
      "metadata": {
        "colab": {
          "base_uri": "https://localhost:8080/"
        },
        "id": "w7dw398biZoo",
        "outputId": "f4a55847-a223-4aee-ef9d-4e6e3fe84d33"
      },
      "execution_count": null,
      "outputs": [
        {
          "output_type": "stream",
          "name": "stdout",
          "text": [
            "Downloading data from https://www.cs.toronto.edu/~kriz/cifar-10-python.tar.gz\n",
            "170500096/170498071 [==============================] - 11s 0us/step\n",
            "170508288/170498071 [==============================] - 11s 0us/step\n"
          ]
        },
        {
          "output_type": "execute_result",
          "data": {
            "text/plain": [
              "((50000, 32, 32, 3), (10000, 32, 32, 3), (50000, 1), (10000, 1))"
            ]
          },
          "metadata": {},
          "execution_count": 6
        }
      ]
    },
    {
      "cell_type": "code",
      "source": [
        "Z_DIM = [20, 100, 300, 5000]  # Dimension of the latent vector (z), model is trained using different values of Z_DIM"
      ],
      "metadata": {
        "id": "p0YngJiJ4oV_"
      },
      "execution_count": null,
      "outputs": []
    },
    {
      "cell_type": "code",
      "source": [
        "CURRENT_DATASET_TYPE = 'c'"
      ],
      "metadata": {
        "id": "UhVZhQq7kYv6"
      },
      "execution_count": null,
      "outputs": []
    },
    {
      "cell_type": "code",
      "source": [
        "# Model 10\n",
        "\n",
        "def Encoder(input_img):\n",
        "    x = Conv2D(32, (3, 3), activation='leaky_relu', padding='same', strides=2)(input_img)\n",
        "    x = Conv2D(16, (3, 3), activation='leaky_relu', padding='same', strides=2)(x)\n",
        "    encoded = Conv2D(8, (3, 3), activation='leaky_relu', padding='same')(x)\n",
        "    return encoded\n",
        "\n",
        "def Decoder(encoded):\n",
        "    x = Conv2DTranspose(16, (3, 3), strides = 2, activation='leaky_relu', padding='same')(encoded)\n",
        "    x = Conv2DTranspose(32, (3, 3), strides = 2, activation='leaky_relu', padding='same')(x)\n",
        "    decoded = Conv2D(channels_dict[CURRENT_DATASET_TYPE], (3, 3), padding='same')(x)\n",
        "    return decoded\n",
        "\n",
        "\n",
        "# input \n",
        "input = Input(shape=(input_sizes_dict[CURRENT_DATASET_TYPE], input_sizes_dict[CURRENT_DATASET_TYPE], channels_dict[CURRENT_DATASET_TYPE])) \n",
        "\n",
        "\n",
        "# make encoder\n",
        "encoder = Encoder(input)\n",
        "volume_size = K.int_shape(encoder)\n",
        "flatten = Flatten()(encoder)\n",
        "encoder_output = Dense(Z_DIM[0])(flatten)\n",
        "encoder = Model(input, encoder_output)\n",
        "print(\"Encoder model summary:\")\n",
        "encoder.summary()\n",
        "print(\"_-_\" * 43)\n",
        "print()\n",
        "\n",
        "\n",
        "# make decoder\n",
        "decode_input = Input(shape=(Z_DIM[0],))\n",
        "decode_x = Dense(np.prod(volume_size[1:]))(decode_input)\n",
        "decode_x = Reshape((volume_size[1], volume_size[2], volume_size[3]))(decode_x)\n",
        "decoder_output = Decoder(decode_x)\n",
        "decoder = Model(decode_input, decoder_output)\n",
        "print(\"Decoder model summary:\")\n",
        "decoder.summary()\n",
        "print(\"_-_\" * 43)\n",
        "print()\n",
        "\n",
        "\n",
        "# make autoencoder model\n",
        "autoencoder = Model(input, decoder(encoder(input)))\n",
        "autoencoder.compile(optimizer = \"adam\", loss = \"mse\")\n",
        "print(\"Autoencoder ensemble summary:\")\n",
        "autoencoder.summary()"
      ],
      "metadata": {
        "colab": {
          "base_uri": "https://localhost:8080/"
        },
        "id": "Kt_lBdBb3DJD",
        "outputId": "c9f43d37-bed7-43be-9655-77575e1068de"
      },
      "execution_count": null,
      "outputs": [
        {
          "output_type": "stream",
          "name": "stdout",
          "text": [
            "Encoder model summary:\n",
            "Model: \"model_18\"\n",
            "_________________________________________________________________\n",
            " Layer (type)                Output Shape              Param #   \n",
            "=================================================================\n",
            " input_14 (InputLayer)       [(None, 32, 32, 3)]       0         \n",
            "                                                                 \n",
            " conv2d_24 (Conv2D)          (None, 16, 16, 32)        896       \n",
            "                                                                 \n",
            " conv2d_25 (Conv2D)          (None, 8, 8, 16)          4624      \n",
            "                                                                 \n",
            " conv2d_26 (Conv2D)          (None, 8, 8, 8)           1160      \n",
            "                                                                 \n",
            " flatten_6 (Flatten)         (None, 512)               0         \n",
            "                                                                 \n",
            " dense_12 (Dense)            (None, 20)                10260     \n",
            "                                                                 \n",
            "=================================================================\n",
            "Total params: 16,940\n",
            "Trainable params: 16,940\n",
            "Non-trainable params: 0\n",
            "_________________________________________________________________\n",
            "_-__-__-__-__-__-__-__-__-__-__-__-__-__-__-__-__-__-__-__-__-__-__-__-__-__-__-__-__-__-__-__-__-__-__-__-__-__-__-__-__-__-__-_\n",
            "\n",
            "Decoder model summary:\n",
            "Model: \"model_19\"\n",
            "_________________________________________________________________\n",
            " Layer (type)                Output Shape              Param #   \n",
            "=================================================================\n",
            " input_15 (InputLayer)       [(None, 20)]              0         \n",
            "                                                                 \n",
            " dense_13 (Dense)            (None, 512)               10752     \n",
            "                                                                 \n",
            " reshape_6 (Reshape)         (None, 8, 8, 8)           0         \n",
            "                                                                 \n",
            " conv2d_transpose_12 (Conv2D  (None, 16, 16, 16)       1168      \n",
            " Transpose)                                                      \n",
            "                                                                 \n",
            " conv2d_transpose_13 (Conv2D  (None, 32, 32, 32)       4640      \n",
            " Transpose)                                                      \n",
            "                                                                 \n",
            " conv2d_27 (Conv2D)          (None, 32, 32, 3)         867       \n",
            "                                                                 \n",
            "=================================================================\n",
            "Total params: 17,427\n",
            "Trainable params: 17,427\n",
            "Non-trainable params: 0\n",
            "_________________________________________________________________\n",
            "_-__-__-__-__-__-__-__-__-__-__-__-__-__-__-__-__-__-__-__-__-__-__-__-__-__-__-__-__-__-__-__-__-__-__-__-__-__-__-__-__-__-__-_\n",
            "\n",
            "Autoencoder ensemble summary:\n",
            "Model: \"model_20\"\n",
            "_________________________________________________________________\n",
            " Layer (type)                Output Shape              Param #   \n",
            "=================================================================\n",
            " input_14 (InputLayer)       [(None, 32, 32, 3)]       0         \n",
            "                                                                 \n",
            " model_18 (Functional)       (None, 20)                16940     \n",
            "                                                                 \n",
            " model_19 (Functional)       (None, 32, 32, 3)         17427     \n",
            "                                                                 \n",
            "=================================================================\n",
            "Total params: 34,367\n",
            "Trainable params: 34,367\n",
            "Non-trainable params: 0\n",
            "_________________________________________________________________\n"
          ]
        }
      ]
    },
    {
      "cell_type": "code",
      "source": [
        "# fit the autoencoder model\n",
        "fit_model_and_log_metrics(\"Model 7_c\", \"With maxpooling, convtranspose, dense, and flatten\", autoencoder, epochs=75, batch_size=256)"
      ],
      "metadata": {
        "id": "xYYDr0RVAfGz",
        "colab": {
          "base_uri": "https://localhost:8080/",
          "height": 1000,
          "referenced_widgets": [
            "113d746aa71149f880643829765922b3",
            "0e3431a467a6443ca110e73c86773b6e",
            "4d803526814148af8dd45197c814a13e",
            "cd711965a11644e490e63aaa1324f1d4",
            "6a855bbfb2ba4fb4b095b3436cc85804",
            "d79b82853f4f41f4a80c1f271c6aa049",
            "75b920e7469b4c6a8cd6312d35e27c8c",
            "4fbad411a56c45219918dee764cbc4fa",
            "9692465fc2294cb495f28adc4f6e7872",
            "0f262b5562854160ad3b02f3c6562a4e",
            "f87e9de9efce4c189a2787d70459d055",
            "cc830c296e5147c1b242d640db5bbbb8",
            "a1cc2a17252642b89dd68a8bab14adf0",
            "51e262a6f5c94ebea72aee7dcae7b04f",
            "fc268fa1607d4170a0b96aff31839f24",
            "2250448e1b1b43bab140ca7b7de6d90a"
          ]
        },
        "outputId": "f96802aa-70b8-4f8e-bd4c-3735a7279906"
      },
      "execution_count": null,
      "outputs": [
        {
          "output_type": "display_data",
          "data": {
            "text/plain": [
              "<IPython.core.display.HTML object>"
            ],
            "text/html": [
              "Finishing last run (ID:256y51ol) before initializing another..."
            ]
          },
          "metadata": {}
        },
        {
          "output_type": "stream",
          "name": "stdout",
          "text": [
            "\n"
          ]
        },
        {
          "output_type": "display_data",
          "data": {
            "text/plain": [
              "<IPython.core.display.HTML object>"
            ],
            "text/html": [
              "Waiting for W&B process to finish... <strong style=\"color:green\">(success).</strong>"
            ]
          },
          "metadata": {}
        },
        {
          "output_type": "display_data",
          "data": {
            "text/plain": [
              "VBox(children=(Label(value='0.461 MB of 0.461 MB uploaded (0.000 MB deduped)\\r'), FloatProgress(value=1.0, max…"
            ],
            "application/vnd.jupyter.widget-view+json": {
              "version_major": 2,
              "version_minor": 0,
              "model_id": "113d746aa71149f880643829765922b3"
            }
          },
          "metadata": {}
        },
        {
          "output_type": "display_data",
          "data": {
            "text/plain": [
              "<IPython.core.display.HTML object>"
            ],
            "text/html": [
              "<style>\n",
              "    table.wandb td:nth-child(1) { padding: 0 10px; text-align: right }\n",
              "    .wandb-row { display: flex; flex-direction: row; flex-wrap: wrap; width: 100% }\n",
              "    .wandb-col { display: flex; flex-direction: column; flex-basis: 100%; flex: 1; padding: 10px; }\n",
              "    </style>\n",
              "<div class=\"wandb-row\"><div class=\"wandb-col\"><h3>Run history:</h3><br/><table class=\"wandb\"><tr><td>epoch</td><td>▁▁▁▁▂▂▂▂▂▃▃▃▃▃▃▄▄▄▄▄▅▅▅▅▅▅▆▆▆▆▆▆▇▇▇▇▇███</td></tr><tr><td>loss</td><td>█▂▂▂▂▂▂▁▁▁▁▁▁▁▁▁▁▁▁▁▁▁▁▁▁▁▁▁▁▁▁▁▁▁▁▁▁▁▁▁</td></tr><tr><td>val_loss</td><td>█▅▃▃▃▃▃▂▁▁▁▁▁▁▁▁▁▁▁▁▁▁▁▁▁▁▁▁▁▁▁▁▁▁▁▁▁▁▁▁</td></tr></table><br/></div><div class=\"wandb-col\"><h3>Run summary:</h3><br/><table class=\"wandb\"><tr><td>best_epoch</td><td>74</td></tr><tr><td>best_val_loss</td><td>0.01552</td></tr><tr><td>epoch</td><td>74</td></tr><tr><td>loss</td><td>0.01551</td></tr><tr><td>val_loss</td><td>0.01552</td></tr></table><br/></div></div>"
            ]
          },
          "metadata": {}
        },
        {
          "output_type": "display_data",
          "data": {
            "text/plain": [
              "<IPython.core.display.HTML object>"
            ],
            "text/html": [
              "Synced <strong style=\"color:#cdcd00\">Model 7_c</strong>: <a href=\"https://wandb.ai/csc2231-yash-siphelele/autoencoders_conv/runs/256y51ol\" target=\"_blank\">https://wandb.ai/csc2231-yash-siphelele/autoencoders_conv/runs/256y51ol</a><br/>Synced 5 W&B file(s), 1 media file(s), 0 artifact file(s) and 1 other file(s)"
            ]
          },
          "metadata": {}
        },
        {
          "output_type": "display_data",
          "data": {
            "text/plain": [
              "<IPython.core.display.HTML object>"
            ],
            "text/html": [
              "Find logs at: <code>./wandb/run-20220328_175007-256y51ol/logs</code>"
            ]
          },
          "metadata": {}
        },
        {
          "output_type": "display_data",
          "data": {
            "text/plain": [
              "<IPython.core.display.HTML object>"
            ],
            "text/html": [
              "Successfully finished last run (ID:256y51ol). Initializing new run:<br/>"
            ]
          },
          "metadata": {}
        },
        {
          "output_type": "display_data",
          "data": {
            "text/plain": [
              "<IPython.core.display.HTML object>"
            ],
            "text/html": [
              "Tracking run with wandb version 0.12.11"
            ]
          },
          "metadata": {}
        },
        {
          "output_type": "display_data",
          "data": {
            "text/plain": [
              "<IPython.core.display.HTML object>"
            ],
            "text/html": [
              "Run data is saved locally in <code>/content/wandb/run-20220328_175805-3dkra1bx</code>"
            ]
          },
          "metadata": {}
        },
        {
          "output_type": "display_data",
          "data": {
            "text/plain": [
              "<IPython.core.display.HTML object>"
            ],
            "text/html": [
              "Syncing run <strong><a href=\"https://wandb.ai/csc2231-yash-siphelele/autoencoders_conv/runs/3dkra1bx\" target=\"_blank\">Model 7_c</a></strong> to <a href=\"https://wandb.ai/csc2231-yash-siphelele/autoencoders_conv\" target=\"_blank\">Weights & Biases</a> (<a href=\"https://wandb.me/run\" target=\"_blank\">docs</a>)<br/>"
            ]
          },
          "metadata": {}
        },
        {
          "output_type": "stream",
          "name": "stdout",
          "text": [
            "Epoch 1/75\n",
            "196/196 [==============================] - 5s 21ms/step - loss: 0.0547 - val_loss: 0.0281 - _timestamp: 1648490300.0000 - _runtime: 11.0000\n",
            "Epoch 2/75\n",
            "196/196 [==============================] - 4s 18ms/step - loss: 0.0232 - val_loss: 0.0208 - _timestamp: 1648490303.0000 - _runtime: 14.0000\n",
            "Epoch 3/75\n",
            "196/196 [==============================] - 4s 18ms/step - loss: 0.0200 - val_loss: 0.0196 - _timestamp: 1648490307.0000 - _runtime: 18.0000\n",
            "Epoch 4/75\n",
            "196/196 [==============================] - 4s 18ms/step - loss: 0.0192 - val_loss: 0.0192 - _timestamp: 1648490310.0000 - _runtime: 21.0000\n",
            "Epoch 5/75\n",
            "196/196 [==============================] - 4s 18ms/step - loss: 0.0188 - val_loss: 0.0188 - _timestamp: 1648490314.0000 - _runtime: 25.0000\n",
            "Epoch 6/75\n",
            "196/196 [==============================] - 4s 18ms/step - loss: 0.0186 - val_loss: 0.0186 - _timestamp: 1648490317.0000 - _runtime: 28.0000\n",
            "Epoch 7/75\n",
            "196/196 [==============================] - 4s 18ms/step - loss: 0.0185 - val_loss: 0.0186 - _timestamp: 1648490321.0000 - _runtime: 32.0000\n",
            "Epoch 8/75\n",
            "196/196 [==============================] - 4s 18ms/step - loss: 0.0184 - val_loss: 0.0184 - _timestamp: 1648490325.0000 - _runtime: 36.0000\n",
            "Epoch 9/75\n",
            "196/196 [==============================] - 4s 19ms/step - loss: 0.0183 - val_loss: 0.0183 - _timestamp: 1648490328.0000 - _runtime: 39.0000\n",
            "Epoch 10/75\n",
            "196/196 [==============================] - 4s 18ms/step - loss: 0.0183 - val_loss: 0.0182 - _timestamp: 1648490332.0000 - _runtime: 43.0000\n",
            "Epoch 11/75\n",
            "196/196 [==============================] - 4s 19ms/step - loss: 0.0182 - val_loss: 0.0181 - _timestamp: 1648490335.0000 - _runtime: 46.0000\n",
            "Epoch 12/75\n",
            "196/196 [==============================] - 4s 18ms/step - loss: 0.0176 - val_loss: 0.0168 - _timestamp: 1648490339.0000 - _runtime: 50.0000\n",
            "Epoch 13/75\n",
            "196/196 [==============================] - 4s 19ms/step - loss: 0.0166 - val_loss: 0.0164 - _timestamp: 1648490343.0000 - _runtime: 54.0000\n",
            "Epoch 14/75\n",
            "196/196 [==============================] - 4s 18ms/step - loss: 0.0164 - val_loss: 0.0164 - _timestamp: 1648490346.0000 - _runtime: 57.0000\n",
            "Epoch 15/75\n",
            "196/196 [==============================] - 4s 18ms/step - loss: 0.0163 - val_loss: 0.0163 - _timestamp: 1648490350.0000 - _runtime: 61.0000\n",
            "Epoch 16/75\n",
            "196/196 [==============================] - 4s 19ms/step - loss: 0.0162 - val_loss: 0.0162 - _timestamp: 1648490354.0000 - _runtime: 65.0000\n",
            "Epoch 17/75\n",
            "196/196 [==============================] - 4s 18ms/step - loss: 0.0162 - val_loss: 0.0162 - _timestamp: 1648490357.0000 - _runtime: 68.0000\n",
            "Epoch 18/75\n",
            "196/196 [==============================] - 4s 18ms/step - loss: 0.0161 - val_loss: 0.0162 - _timestamp: 1648490361.0000 - _runtime: 72.0000\n",
            "Epoch 19/75\n",
            "196/196 [==============================] - 4s 19ms/step - loss: 0.0161 - val_loss: 0.0161 - _timestamp: 1648490364.0000 - _runtime: 75.0000\n",
            "Epoch 20/75\n",
            "196/196 [==============================] - 4s 18ms/step - loss: 0.0161 - val_loss: 0.0163 - _timestamp: 1648490368.0000 - _runtime: 79.0000\n",
            "Epoch 21/75\n",
            "196/196 [==============================] - 4s 19ms/step - loss: 0.0161 - val_loss: 0.0162 - _timestamp: 1648490372.0000 - _runtime: 83.0000\n",
            "Epoch 22/75\n",
            "196/196 [==============================] - 4s 19ms/step - loss: 0.0160 - val_loss: 0.0161 - _timestamp: 1648490375.0000 - _runtime: 86.0000\n",
            "Epoch 23/75\n",
            "196/196 [==============================] - 4s 18ms/step - loss: 0.0160 - val_loss: 0.0161 - _timestamp: 1648490379.0000 - _runtime: 90.0000\n",
            "Epoch 24/75\n",
            "196/196 [==============================] - 4s 19ms/step - loss: 0.0160 - val_loss: 0.0160 - _timestamp: 1648490383.0000 - _runtime: 94.0000\n",
            "Epoch 25/75\n",
            "196/196 [==============================] - 4s 18ms/step - loss: 0.0160 - val_loss: 0.0161 - _timestamp: 1648490386.0000 - _runtime: 97.0000\n",
            "Epoch 26/75\n",
            "196/196 [==============================] - 4s 19ms/step - loss: 0.0160 - val_loss: 0.0160 - _timestamp: 1648490390.0000 - _runtime: 101.0000\n",
            "Epoch 27/75\n",
            "196/196 [==============================] - 4s 19ms/step - loss: 0.0160 - val_loss: 0.0161 - _timestamp: 1648490394.0000 - _runtime: 105.0000\n",
            "Epoch 28/75\n",
            "196/196 [==============================] - 4s 18ms/step - loss: 0.0160 - val_loss: 0.0160 - _timestamp: 1648490397.0000 - _runtime: 108.0000\n",
            "Epoch 29/75\n",
            "196/196 [==============================] - 4s 18ms/step - loss: 0.0160 - val_loss: 0.0160 - _timestamp: 1648490401.0000 - _runtime: 112.0000\n",
            "Epoch 30/75\n",
            "196/196 [==============================] - 4s 18ms/step - loss: 0.0159 - val_loss: 0.0160 - _timestamp: 1648490404.0000 - _runtime: 115.0000\n",
            "Epoch 31/75\n",
            "196/196 [==============================] - 4s 18ms/step - loss: 0.0159 - val_loss: 0.0160 - _timestamp: 1648490408.0000 - _runtime: 119.0000\n",
            "Epoch 32/75\n",
            "196/196 [==============================] - 4s 19ms/step - loss: 0.0159 - val_loss: 0.0159 - _timestamp: 1648490412.0000 - _runtime: 123.0000\n",
            "Epoch 33/75\n",
            "196/196 [==============================] - 4s 19ms/step - loss: 0.0159 - val_loss: 0.0159 - _timestamp: 1648490415.0000 - _runtime: 126.0000\n",
            "Epoch 34/75\n",
            "196/196 [==============================] - 4s 19ms/step - loss: 0.0159 - val_loss: 0.0160 - _timestamp: 1648490419.0000 - _runtime: 130.0000\n",
            "Epoch 35/75\n",
            "196/196 [==============================] - 4s 19ms/step - loss: 0.0159 - val_loss: 0.0160 - _timestamp: 1648490423.0000 - _runtime: 134.0000\n",
            "Epoch 36/75\n",
            "196/196 [==============================] - 4s 19ms/step - loss: 0.0159 - val_loss: 0.0159 - _timestamp: 1648490426.0000 - _runtime: 137.0000\n",
            "Epoch 37/75\n",
            "196/196 [==============================] - 4s 19ms/step - loss: 0.0159 - val_loss: 0.0159 - _timestamp: 1648490430.0000 - _runtime: 141.0000\n",
            "Epoch 38/75\n",
            "196/196 [==============================] - 4s 19ms/step - loss: 0.0159 - val_loss: 0.0159 - _timestamp: 1648490434.0000 - _runtime: 145.0000\n",
            "Epoch 39/75\n",
            "196/196 [==============================] - 4s 19ms/step - loss: 0.0159 - val_loss: 0.0159 - _timestamp: 1648490437.0000 - _runtime: 148.0000\n",
            "Epoch 40/75\n",
            "196/196 [==============================] - 4s 19ms/step - loss: 0.0159 - val_loss: 0.0159 - _timestamp: 1648490441.0000 - _runtime: 152.0000\n",
            "Epoch 41/75\n",
            "196/196 [==============================] - 4s 19ms/step - loss: 0.0159 - val_loss: 0.0159 - _timestamp: 1648490445.0000 - _runtime: 156.0000\n",
            "Epoch 42/75\n",
            "196/196 [==============================] - 4s 19ms/step - loss: 0.0158 - val_loss: 0.0159 - _timestamp: 1648490449.0000 - _runtime: 160.0000\n",
            "Epoch 43/75\n",
            "196/196 [==============================] - 4s 19ms/step - loss: 0.0158 - val_loss: 0.0159 - _timestamp: 1648490452.0000 - _runtime: 163.0000\n",
            "Epoch 44/75\n",
            "196/196 [==============================] - 4s 19ms/step - loss: 0.0158 - val_loss: 0.0159 - _timestamp: 1648490456.0000 - _runtime: 167.0000\n",
            "Epoch 45/75\n",
            "196/196 [==============================] - 4s 19ms/step - loss: 0.0158 - val_loss: 0.0159 - _timestamp: 1648490460.0000 - _runtime: 171.0000\n",
            "Epoch 46/75\n",
            "196/196 [==============================] - 4s 19ms/step - loss: 0.0158 - val_loss: 0.0159 - _timestamp: 1648490463.0000 - _runtime: 174.0000\n",
            "Epoch 47/75\n",
            "196/196 [==============================] - 4s 19ms/step - loss: 0.0158 - val_loss: 0.0159 - _timestamp: 1648490467.0000 - _runtime: 178.0000\n",
            "Epoch 48/75\n",
            "196/196 [==============================] - 4s 19ms/step - loss: 0.0158 - val_loss: 0.0158 - _timestamp: 1648490471.0000 - _runtime: 182.0000\n",
            "Epoch 49/75\n",
            "196/196 [==============================] - 4s 19ms/step - loss: 0.0158 - val_loss: 0.0159 - _timestamp: 1648490475.0000 - _runtime: 186.0000\n",
            "Epoch 50/75\n",
            "196/196 [==============================] - 4s 19ms/step - loss: 0.0158 - val_loss: 0.0158 - _timestamp: 1648490478.0000 - _runtime: 189.0000\n",
            "Epoch 51/75\n",
            "196/196 [==============================] - 4s 19ms/step - loss: 0.0158 - val_loss: 0.0158 - _timestamp: 1648490482.0000 - _runtime: 193.0000\n",
            "Epoch 52/75\n",
            "196/196 [==============================] - 4s 19ms/step - loss: 0.0157 - val_loss: 0.0158 - _timestamp: 1648490486.0000 - _runtime: 197.0000\n",
            "Epoch 53/75\n",
            "196/196 [==============================] - 4s 19ms/step - loss: 0.0157 - val_loss: 0.0158 - _timestamp: 1648490489.0000 - _runtime: 200.0000\n",
            "Epoch 54/75\n",
            "196/196 [==============================] - 4s 19ms/step - loss: 0.0157 - val_loss: 0.0158 - _timestamp: 1648490493.0000 - _runtime: 204.0000\n",
            "Epoch 55/75\n",
            "196/196 [==============================] - 4s 19ms/step - loss: 0.0157 - val_loss: 0.0158 - _timestamp: 1648490497.0000 - _runtime: 208.0000\n",
            "Epoch 56/75\n",
            "196/196 [==============================] - 4s 19ms/step - loss: 0.0157 - val_loss: 0.0158 - _timestamp: 1648490501.0000 - _runtime: 212.0000\n",
            "Epoch 57/75\n",
            "196/196 [==============================] - 4s 19ms/step - loss: 0.0157 - val_loss: 0.0157 - _timestamp: 1648490504.0000 - _runtime: 215.0000\n",
            "Epoch 58/75\n",
            "196/196 [==============================] - 4s 19ms/step - loss: 0.0157 - val_loss: 0.0157 - _timestamp: 1648490508.0000 - _runtime: 219.0000\n",
            "Epoch 59/75\n",
            "196/196 [==============================] - 4s 19ms/step - loss: 0.0157 - val_loss: 0.0157 - _timestamp: 1648490512.0000 - _runtime: 223.0000\n",
            "Epoch 60/75\n",
            "196/196 [==============================] - 4s 19ms/step - loss: 0.0157 - val_loss: 0.0157 - _timestamp: 1648490515.0000 - _runtime: 226.0000\n",
            "Epoch 61/75\n",
            "196/196 [==============================] - 4s 19ms/step - loss: 0.0157 - val_loss: 0.0158 - _timestamp: 1648490519.0000 - _runtime: 230.0000\n",
            "Epoch 62/75\n",
            "196/196 [==============================] - 4s 19ms/step - loss: 0.0157 - val_loss: 0.0159 - _timestamp: 1648490523.0000 - _runtime: 234.0000\n",
            "Epoch 63/75\n",
            "196/196 [==============================] - 4s 19ms/step - loss: 0.0156 - val_loss: 0.0157 - _timestamp: 1648490527.0000 - _runtime: 238.0000\n",
            "Epoch 64/75\n",
            "196/196 [==============================] - 4s 19ms/step - loss: 0.0156 - val_loss: 0.0157 - _timestamp: 1648490530.0000 - _runtime: 241.0000\n",
            "Epoch 65/75\n",
            "196/196 [==============================] - 4s 19ms/step - loss: 0.0156 - val_loss: 0.0157 - _timestamp: 1648490534.0000 - _runtime: 245.0000\n",
            "Epoch 66/75\n",
            "196/196 [==============================] - 4s 19ms/step - loss: 0.0156 - val_loss: 0.0156 - _timestamp: 1648490538.0000 - _runtime: 249.0000\n",
            "Epoch 67/75\n",
            "196/196 [==============================] - 4s 19ms/step - loss: 0.0156 - val_loss: 0.0156 - _timestamp: 1648490542.0000 - _runtime: 253.0000\n",
            "Epoch 68/75\n",
            "196/196 [==============================] - 4s 19ms/step - loss: 0.0156 - val_loss: 0.0156 - _timestamp: 1648490545.0000 - _runtime: 256.0000\n",
            "Epoch 69/75\n",
            "196/196 [==============================] - 4s 19ms/step - loss: 0.0156 - val_loss: 0.0156 - _timestamp: 1648490549.0000 - _runtime: 260.0000\n",
            "Epoch 70/75\n",
            "196/196 [==============================] - 4s 19ms/step - loss: 0.0156 - val_loss: 0.0156 - _timestamp: 1648490553.0000 - _runtime: 264.0000\n",
            "Epoch 71/75\n",
            "196/196 [==============================] - 4s 19ms/step - loss: 0.0156 - val_loss: 0.0156 - _timestamp: 1648490556.0000 - _runtime: 267.0000\n",
            "Epoch 72/75\n",
            "196/196 [==============================] - 4s 19ms/step - loss: 0.0155 - val_loss: 0.0156 - _timestamp: 1648490560.0000 - _runtime: 271.0000\n",
            "Epoch 73/75\n",
            "196/196 [==============================] - 4s 19ms/step - loss: 0.0155 - val_loss: 0.0157 - _timestamp: 1648490564.0000 - _runtime: 275.0000\n",
            "Epoch 74/75\n",
            "196/196 [==============================] - 4s 19ms/step - loss: 0.0155 - val_loss: 0.0156 - _timestamp: 1648490568.0000 - _runtime: 279.0000\n",
            "Epoch 75/75\n",
            "196/196 [==============================] - 4s 19ms/step - loss: 0.0155 - val_loss: 0.0155 - _timestamp: 1648490571.0000 - _runtime: 282.0000\n",
            "Avg SSIM over X_test: 0.541619527328695\n",
            "\n"
          ]
        },
        {
          "output_type": "display_data",
          "data": {
            "text/plain": [
              "<IPython.core.display.HTML object>"
            ],
            "text/html": [
              "Waiting for W&B process to finish... <strong style=\"color:green\">(success).</strong>"
            ]
          },
          "metadata": {}
        },
        {
          "output_type": "display_data",
          "data": {
            "text/plain": [
              "VBox(children=(Label(value='0.461 MB of 0.461 MB uploaded (0.000 MB deduped)\\r'), FloatProgress(value=1.0, max…"
            ],
            "application/vnd.jupyter.widget-view+json": {
              "version_major": 2,
              "version_minor": 0,
              "model_id": "9692465fc2294cb495f28adc4f6e7872"
            }
          },
          "metadata": {}
        },
        {
          "output_type": "display_data",
          "data": {
            "text/plain": [
              "<IPython.core.display.HTML object>"
            ],
            "text/html": [
              "<style>\n",
              "    table.wandb td:nth-child(1) { padding: 0 10px; text-align: right }\n",
              "    .wandb-row { display: flex; flex-direction: row; flex-wrap: wrap; width: 100% }\n",
              "    .wandb-col { display: flex; flex-direction: column; flex-basis: 100%; flex: 1; padding: 10px; }\n",
              "    </style>\n",
              "<div class=\"wandb-row\"><div class=\"wandb-col\"><h3>Run history:</h3><br/><table class=\"wandb\"><tr><td>avg_ssim_score_x_test</td><td>▁</td></tr><tr><td>epoch</td><td>▁▁▁▁▂▂▂▂▂▃▃▃▃▃▃▄▄▄▄▄▅▅▅▅▅▅▆▆▆▆▆▆▇▇▇▇▇███</td></tr><tr><td>loss</td><td>█▂▂▂▂▁▁▁▁▁▁▁▁▁▁▁▁▁▁▁▁▁▁▁▁▁▁▁▁▁▁▁▁▁▁▁▁▁▁▁</td></tr><tr><td>val_loss</td><td>█▄▃▃▃▃▂▁▁▁▁▁▁▁▁▁▁▁▁▁▁▁▁▁▁▁▁▁▁▁▁▁▁▁▁▁▁▁▁▁</td></tr></table><br/></div><div class=\"wandb-col\"><h3>Run summary:</h3><br/><table class=\"wandb\"><tr><td>avg_ssim_score_x_test</td><td>0.54162</td></tr><tr><td>best_epoch</td><td>74</td></tr><tr><td>best_val_loss</td><td>0.01555</td></tr><tr><td>epoch</td><td>74</td></tr><tr><td>loss</td><td>0.01553</td></tr><tr><td>val_loss</td><td>0.01555</td></tr></table><br/></div></div>"
            ]
          },
          "metadata": {}
        },
        {
          "output_type": "display_data",
          "data": {
            "text/plain": [
              "<IPython.core.display.HTML object>"
            ],
            "text/html": [
              "Synced <strong style=\"color:#cdcd00\">Model 7_c</strong>: <a href=\"https://wandb.ai/csc2231-yash-siphelele/autoencoders_conv/runs/3dkra1bx\" target=\"_blank\">https://wandb.ai/csc2231-yash-siphelele/autoencoders_conv/runs/3dkra1bx</a><br/>Synced 5 W&B file(s), 1 media file(s), 0 artifact file(s) and 1 other file(s)"
            ]
          },
          "metadata": {}
        },
        {
          "output_type": "display_data",
          "data": {
            "text/plain": [
              "<IPython.core.display.HTML object>"
            ],
            "text/html": [
              "Find logs at: <code>./wandb/run-20220328_175805-3dkra1bx/logs</code>"
            ]
          },
          "metadata": {}
        }
      ]
    },
    {
      "cell_type": "code",
      "source": [
        "# Model 10\n",
        "\n",
        "def Encoder(input_img):\n",
        "    x = Conv2D(32, (3, 3), activation='leaky_relu', padding='same', strides=2)(input_img)\n",
        "    x = Conv2D(16, (3, 3), activation='leaky_relu', padding='same', strides=2)(x)\n",
        "    encoded = Conv2D(8, (3, 3), activation='leaky_relu', padding='same')(x)\n",
        "    return encoded\n",
        "\n",
        "def Decoder(encoded):\n",
        "    x = Conv2DTranspose(16, (3, 3), strides = 2, activation='leaky_relu', padding='same')(encoded)\n",
        "    x = Conv2DTranspose(32, (3, 3), strides = 2, activation='leaky_relu', padding='same')(x)\n",
        "    decoded = Conv2D(channels_dict[CURRENT_DATASET_TYPE], (3, 3), padding='same')(x)\n",
        "    return decoded\n",
        "\n",
        "\n",
        "# input \n",
        "input = Input(shape=(input_sizes_dict[CURRENT_DATASET_TYPE], input_sizes_dict[CURRENT_DATASET_TYPE], channels_dict[CURRENT_DATASET_TYPE])) \n",
        "\n",
        "\n",
        "# make encoder\n",
        "encoder = Encoder(input)\n",
        "volume_size = K.int_shape(encoder)\n",
        "flatten = Flatten()(encoder)\n",
        "encoder_output = Dense(Z_DIM[2])(flatten)\n",
        "encoder = Model(input, encoder_output)\n",
        "print(\"Encoder model summary:\")\n",
        "encoder.summary()\n",
        "print(\"_-_\" * 43)\n",
        "print()\n",
        "\n",
        "\n",
        "# make decoder\n",
        "decode_input = Input(shape=(Z_DIM[2],))\n",
        "decode_x = Dense(np.prod(volume_size[1:]))(decode_input)\n",
        "decode_x = Reshape((volume_size[1], volume_size[2], volume_size[3]))(decode_x)\n",
        "decoder_output = Decoder(decode_x)\n",
        "decoder = Model(decode_input, decoder_output)\n",
        "print(\"Decoder model summary:\")\n",
        "decoder.summary()\n",
        "print(\"_-_\" * 43)\n",
        "print()\n",
        "\n",
        "\n",
        "# make autoencoder model\n",
        "autoencoder = Model(input, decoder(encoder(input)))\n",
        "autoencoder.compile(optimizer = \"adam\", loss = \"mse\")\n",
        "print(\"Autoencoder ensemble summary:\")\n",
        "autoencoder.summary()\n",
        "\n",
        "\n",
        "# fit the autoencoder model\n",
        "fit_model_and_log_metrics(\"Model 7.3_c\", \"With maxpooling, convtranspose, dense, and flatten\", autoencoder, epochs=75, batch_size=256)"
      ],
      "metadata": {
        "colab": {
          "base_uri": "https://localhost:8080/",
          "height": 1000,
          "referenced_widgets": [
            "9b4b41665cc14d74915f75b6dbfba6db",
            "6778322103dc4bea804222502062849c",
            "a5a19a3fe2f644f79d2aba374f701aff",
            "a532393df3574277b7a95d7918c16609",
            "f4271ba9396249abbdfc040c987fd9c9",
            "dac6754033fc47f292955b42198aedea",
            "b6b0eeb9eadc4329a8ff7ccb8cffaf13",
            "67b04c4666bd482389b4cb0fd7be1861"
          ]
        },
        "id": "ojNPxvyXE0TD",
        "outputId": "0882ea69-1f6d-4db9-9a3e-1a21a7034504"
      },
      "execution_count": null,
      "outputs": [
        {
          "output_type": "stream",
          "name": "stdout",
          "text": [
            "Encoder model summary:\n",
            "Model: \"model_21\"\n",
            "_________________________________________________________________\n",
            " Layer (type)                Output Shape              Param #   \n",
            "=================================================================\n",
            " input_16 (InputLayer)       [(None, 32, 32, 3)]       0         \n",
            "                                                                 \n",
            " conv2d_28 (Conv2D)          (None, 16, 16, 32)        896       \n",
            "                                                                 \n",
            " conv2d_29 (Conv2D)          (None, 8, 8, 16)          4624      \n",
            "                                                                 \n",
            " conv2d_30 (Conv2D)          (None, 8, 8, 8)           1160      \n",
            "                                                                 \n",
            " flatten_7 (Flatten)         (None, 512)               0         \n",
            "                                                                 \n",
            " dense_14 (Dense)            (None, 100)               51300     \n",
            "                                                                 \n",
            "=================================================================\n",
            "Total params: 57,980\n",
            "Trainable params: 57,980\n",
            "Non-trainable params: 0\n",
            "_________________________________________________________________\n",
            "_-__-__-__-__-__-__-__-__-__-__-__-__-__-__-__-__-__-__-__-__-__-__-__-__-__-__-__-__-__-__-__-__-__-__-__-__-__-__-__-__-__-__-_\n",
            "\n",
            "Decoder model summary:\n",
            "Model: \"model_22\"\n",
            "_________________________________________________________________\n",
            " Layer (type)                Output Shape              Param #   \n",
            "=================================================================\n",
            " input_17 (InputLayer)       [(None, 100)]             0         \n",
            "                                                                 \n",
            " dense_15 (Dense)            (None, 512)               51712     \n",
            "                                                                 \n",
            " reshape_7 (Reshape)         (None, 8, 8, 8)           0         \n",
            "                                                                 \n",
            " conv2d_transpose_14 (Conv2D  (None, 16, 16, 16)       1168      \n",
            " Transpose)                                                      \n",
            "                                                                 \n",
            " conv2d_transpose_15 (Conv2D  (None, 32, 32, 32)       4640      \n",
            " Transpose)                                                      \n",
            "                                                                 \n",
            " conv2d_31 (Conv2D)          (None, 32, 32, 3)         867       \n",
            "                                                                 \n",
            "=================================================================\n",
            "Total params: 58,387\n",
            "Trainable params: 58,387\n",
            "Non-trainable params: 0\n",
            "_________________________________________________________________\n",
            "_-__-__-__-__-__-__-__-__-__-__-__-__-__-__-__-__-__-__-__-__-__-__-__-__-__-__-__-__-__-__-__-__-__-__-__-__-__-__-__-__-__-__-_\n",
            "\n",
            "Autoencoder ensemble summary:\n",
            "Model: \"model_23\"\n",
            "_________________________________________________________________\n",
            " Layer (type)                Output Shape              Param #   \n",
            "=================================================================\n",
            " input_16 (InputLayer)       [(None, 32, 32, 3)]       0         \n",
            "                                                                 \n",
            " model_21 (Functional)       (None, 100)               57980     \n",
            "                                                                 \n",
            " model_22 (Functional)       (None, 32, 32, 3)         58387     \n",
            "                                                                 \n",
            "=================================================================\n",
            "Total params: 116,367\n",
            "Trainable params: 116,367\n",
            "Non-trainable params: 0\n",
            "_________________________________________________________________\n"
          ]
        },
        {
          "output_type": "display_data",
          "data": {
            "text/plain": [
              "<IPython.core.display.HTML object>"
            ],
            "text/html": [
              "Tracking run with wandb version 0.12.11"
            ]
          },
          "metadata": {}
        },
        {
          "output_type": "display_data",
          "data": {
            "text/plain": [
              "<IPython.core.display.HTML object>"
            ],
            "text/html": [
              "Run data is saved locally in <code>/content/wandb/run-20220328_180303-3hwowmc2</code>"
            ]
          },
          "metadata": {}
        },
        {
          "output_type": "display_data",
          "data": {
            "text/plain": [
              "<IPython.core.display.HTML object>"
            ],
            "text/html": [
              "Syncing run <strong><a href=\"https://wandb.ai/csc2231-yash-siphelele/autoencoders_conv/runs/3hwowmc2\" target=\"_blank\">Model 7.2_c</a></strong> to <a href=\"https://wandb.ai/csc2231-yash-siphelele/autoencoders_conv\" target=\"_blank\">Weights & Biases</a> (<a href=\"https://wandb.me/run\" target=\"_blank\">docs</a>)<br/>"
            ]
          },
          "metadata": {}
        },
        {
          "output_type": "stream",
          "name": "stdout",
          "text": [
            "Epoch 1/75\n",
            "196/196 [==============================] - 5s 21ms/step - loss: 0.0499 - val_loss: 0.0207 - _timestamp: 1648490593.0000 - _runtime: 10.0000\n",
            "Epoch 2/75\n",
            "196/196 [==============================] - 4s 19ms/step - loss: 0.0177 - val_loss: 0.0158 - _timestamp: 1648490596.0000 - _runtime: 13.0000\n",
            "Epoch 3/75\n",
            "196/196 [==============================] - 4s 18ms/step - loss: 0.0151 - val_loss: 0.0144 - _timestamp: 1648490600.0000 - _runtime: 17.0000\n",
            "Epoch 4/75\n",
            "196/196 [==============================] - 4s 19ms/step - loss: 0.0142 - val_loss: 0.0142 - _timestamp: 1648490604.0000 - _runtime: 21.0000\n",
            "Epoch 5/75\n",
            "196/196 [==============================] - 4s 19ms/step - loss: 0.0136 - val_loss: 0.0133 - _timestamp: 1648490607.0000 - _runtime: 24.0000\n",
            "Epoch 6/75\n",
            "196/196 [==============================] - 4s 19ms/step - loss: 0.0122 - val_loss: 0.0107 - _timestamp: 1648490611.0000 - _runtime: 28.0000\n",
            "Epoch 7/75\n",
            "196/196 [==============================] - 4s 19ms/step - loss: 0.0103 - val_loss: 0.0097 - _timestamp: 1648490615.0000 - _runtime: 32.0000\n",
            "Epoch 8/75\n",
            "196/196 [==============================] - 4s 19ms/step - loss: 0.0094 - val_loss: 0.0091 - _timestamp: 1648490618.0000 - _runtime: 35.0000\n",
            "Epoch 9/75\n",
            "196/196 [==============================] - 4s 19ms/step - loss: 0.0090 - val_loss: 0.0089 - _timestamp: 1648490622.0000 - _runtime: 39.0000\n",
            "Epoch 10/75\n",
            "196/196 [==============================] - 4s 19ms/step - loss: 0.0086 - val_loss: 0.0084 - _timestamp: 1648490626.0000 - _runtime: 43.0000\n",
            "Epoch 11/75\n",
            "196/196 [==============================] - 4s 19ms/step - loss: 0.0083 - val_loss: 0.0082 - _timestamp: 1648490630.0000 - _runtime: 47.0000\n",
            "Epoch 12/75\n",
            "196/196 [==============================] - 4s 19ms/step - loss: 0.0080 - val_loss: 0.0079 - _timestamp: 1648490633.0000 - _runtime: 50.0000\n",
            "Epoch 13/75\n",
            "196/196 [==============================] - 4s 19ms/step - loss: 0.0079 - val_loss: 0.0077 - _timestamp: 1648490637.0000 - _runtime: 54.0000\n",
            "Epoch 14/75\n",
            "196/196 [==============================] - 4s 19ms/step - loss: 0.0077 - val_loss: 0.0076 - _timestamp: 1648490640.0000 - _runtime: 57.0000\n",
            "Epoch 15/75\n",
            "196/196 [==============================] - 4s 19ms/step - loss: 0.0076 - val_loss: 0.0074 - _timestamp: 1648490644.0000 - _runtime: 61.0000\n",
            "Epoch 16/75\n",
            "196/196 [==============================] - 4s 18ms/step - loss: 0.0075 - val_loss: 0.0075 - _timestamp: 1648490648.0000 - _runtime: 65.0000\n",
            "Epoch 17/75\n",
            "196/196 [==============================] - 4s 19ms/step - loss: 0.0074 - val_loss: 0.0073 - _timestamp: 1648490651.0000 - _runtime: 68.0000\n",
            "Epoch 18/75\n",
            "196/196 [==============================] - 4s 19ms/step - loss: 0.0073 - val_loss: 0.0072 - _timestamp: 1648490655.0000 - _runtime: 72.0000\n",
            "Epoch 19/75\n",
            "196/196 [==============================] - 4s 19ms/step - loss: 0.0072 - val_loss: 0.0071 - _timestamp: 1648490659.0000 - _runtime: 76.0000\n",
            "Epoch 20/75\n",
            "196/196 [==============================] - 4s 19ms/step - loss: 0.0072 - val_loss: 0.0075 - _timestamp: 1648490663.0000 - _runtime: 80.0000\n",
            "Epoch 21/75\n",
            "196/196 [==============================] - 4s 19ms/step - loss: 0.0071 - val_loss: 0.0071 - _timestamp: 1648490666.0000 - _runtime: 83.0000\n",
            "Epoch 22/75\n",
            "196/196 [==============================] - 4s 19ms/step - loss: 0.0070 - val_loss: 0.0070 - _timestamp: 1648490670.0000 - _runtime: 87.0000\n",
            "Epoch 23/75\n",
            "196/196 [==============================] - 4s 19ms/step - loss: 0.0070 - val_loss: 0.0071 - _timestamp: 1648490674.0000 - _runtime: 91.0000\n",
            "Epoch 24/75\n",
            "196/196 [==============================] - 4s 19ms/step - loss: 0.0069 - val_loss: 0.0069 - _timestamp: 1648490677.0000 - _runtime: 94.0000\n",
            "Epoch 25/75\n",
            "196/196 [==============================] - 4s 19ms/step - loss: 0.0069 - val_loss: 0.0071 - _timestamp: 1648490681.0000 - _runtime: 98.0000\n",
            "Epoch 26/75\n",
            "196/196 [==============================] - 4s 19ms/step - loss: 0.0069 - val_loss: 0.0069 - _timestamp: 1648490685.0000 - _runtime: 102.0000\n",
            "Epoch 27/75\n",
            "196/196 [==============================] - 4s 19ms/step - loss: 0.0069 - val_loss: 0.0068 - _timestamp: 1648490688.0000 - _runtime: 105.0000\n",
            "Epoch 28/75\n",
            "196/196 [==============================] - 4s 19ms/step - loss: 0.0073 - val_loss: 0.0068 - _timestamp: 1648490692.0000 - _runtime: 109.0000\n",
            "Epoch 29/75\n",
            "196/196 [==============================] - 4s 19ms/step - loss: 0.0067 - val_loss: 0.0067 - _timestamp: 1648490696.0000 - _runtime: 113.0000\n",
            "Epoch 30/75\n",
            "196/196 [==============================] - 4s 19ms/step - loss: 0.0067 - val_loss: 0.0067 - _timestamp: 1648490699.0000 - _runtime: 116.0000\n",
            "Epoch 31/75\n",
            "196/196 [==============================] - 4s 19ms/step - loss: 0.0067 - val_loss: 0.0067 - _timestamp: 1648490703.0000 - _runtime: 120.0000\n",
            "Epoch 32/75\n",
            "196/196 [==============================] - 4s 19ms/step - loss: 0.0067 - val_loss: 0.0067 - _timestamp: 1648490707.0000 - _runtime: 124.0000\n",
            "Epoch 33/75\n",
            "196/196 [==============================] - 4s 19ms/step - loss: 0.0067 - val_loss: 0.0067 - _timestamp: 1648490710.0000 - _runtime: 127.0000\n",
            "Epoch 34/75\n",
            "196/196 [==============================] - 4s 19ms/step - loss: 0.0067 - val_loss: 0.0067 - _timestamp: 1648490714.0000 - _runtime: 131.0000\n",
            "Epoch 35/75\n",
            "196/196 [==============================] - 4s 19ms/step - loss: 0.0066 - val_loss: 0.0066 - _timestamp: 1648490718.0000 - _runtime: 135.0000\n",
            "Epoch 36/75\n",
            "196/196 [==============================] - 4s 19ms/step - loss: 0.0066 - val_loss: 0.0066 - _timestamp: 1648490722.0000 - _runtime: 139.0000\n",
            "Epoch 37/75\n",
            "196/196 [==============================] - 4s 19ms/step - loss: 0.0067 - val_loss: 0.0070 - _timestamp: 1648490725.0000 - _runtime: 142.0000\n",
            "Epoch 38/75\n",
            "196/196 [==============================] - 4s 19ms/step - loss: 0.0066 - val_loss: 0.0065 - _timestamp: 1648490729.0000 - _runtime: 146.0000\n",
            "Epoch 39/75\n",
            "196/196 [==============================] - 4s 19ms/step - loss: 0.0065 - val_loss: 0.0064 - _timestamp: 1648490733.0000 - _runtime: 150.0000\n",
            "Epoch 40/75\n",
            "196/196 [==============================] - 4s 19ms/step - loss: 0.0064 - val_loss: 0.0065 - _timestamp: 1648490736.0000 - _runtime: 153.0000\n",
            "Epoch 41/75\n",
            "196/196 [==============================] - 4s 19ms/step - loss: 0.0064 - val_loss: 0.0063 - _timestamp: 1648490740.0000 - _runtime: 157.0000\n",
            "Epoch 42/75\n",
            "196/196 [==============================] - 4s 19ms/step - loss: 0.0063 - val_loss: 0.0066 - _timestamp: 1648490744.0000 - _runtime: 161.0000\n",
            "Epoch 43/75\n",
            "196/196 [==============================] - 4s 19ms/step - loss: 0.0063 - val_loss: 0.0062 - _timestamp: 1648490748.0000 - _runtime: 165.0000\n",
            "Epoch 44/75\n",
            "196/196 [==============================] - 4s 19ms/step - loss: 0.0083 - val_loss: 0.0222 - _timestamp: 1648490751.0000 - _runtime: 168.0000\n",
            "Epoch 45/75\n",
            "196/196 [==============================] - 4s 19ms/step - loss: 0.0080 - val_loss: 0.0067 - _timestamp: 1648490755.0000 - _runtime: 172.0000\n",
            "Epoch 46/75\n",
            "196/196 [==============================] - 4s 19ms/step - loss: 0.0066 - val_loss: 0.0066 - _timestamp: 1648490759.0000 - _runtime: 176.0000\n",
            "Epoch 47/75\n",
            "196/196 [==============================] - 4s 19ms/step - loss: 0.0065 - val_loss: 0.0065 - _timestamp: 1648490762.0000 - _runtime: 179.0000\n",
            "Epoch 48/75\n",
            "196/196 [==============================] - 4s 19ms/step - loss: 0.0063 - val_loss: 0.0062 - _timestamp: 1648490766.0000 - _runtime: 183.0000\n",
            "Epoch 49/75\n",
            "196/196 [==============================] - 4s 19ms/step - loss: 0.0062 - val_loss: 0.0062 - _timestamp: 1648490770.0000 - _runtime: 187.0000\n",
            "Epoch 50/75\n",
            "196/196 [==============================] - 4s 19ms/step - loss: 0.0061 - val_loss: 0.0061 - _timestamp: 1648490773.0000 - _runtime: 190.0000\n",
            "Epoch 51/75\n",
            "196/196 [==============================] - 4s 19ms/step - loss: 0.0061 - val_loss: 0.0061 - _timestamp: 1648490777.0000 - _runtime: 194.0000\n",
            "Epoch 52/75\n",
            "196/196 [==============================] - 4s 19ms/step - loss: 0.0061 - val_loss: 0.0061 - _timestamp: 1648490781.0000 - _runtime: 198.0000\n",
            "Epoch 53/75\n",
            "196/196 [==============================] - 4s 19ms/step - loss: 0.0061 - val_loss: 0.0061 - _timestamp: 1648490784.0000 - _runtime: 201.0000\n",
            "Epoch 54/75\n",
            "196/196 [==============================] - 4s 19ms/step - loss: 0.0061 - val_loss: 0.0062 - _timestamp: 1648490788.0000 - _runtime: 205.0000\n",
            "Epoch 55/75\n",
            "196/196 [==============================] - 4s 19ms/step - loss: 0.0061 - val_loss: 0.0061 - _timestamp: 1648490792.0000 - _runtime: 209.0000\n",
            "Epoch 56/75\n",
            "196/196 [==============================] - 4s 19ms/step - loss: 0.0061 - val_loss: 0.0061 - _timestamp: 1648490795.0000 - _runtime: 212.0000\n",
            "Epoch 57/75\n",
            "196/196 [==============================] - 4s 19ms/step - loss: 0.0061 - val_loss: 0.0060 - _timestamp: 1648490799.0000 - _runtime: 216.0000\n",
            "Epoch 58/75\n",
            "196/196 [==============================] - 4s 19ms/step - loss: 0.0061 - val_loss: 0.0060 - _timestamp: 1648490803.0000 - _runtime: 220.0000\n",
            "Epoch 59/75\n",
            "196/196 [==============================] - 4s 19ms/step - loss: 0.0061 - val_loss: 0.0060 - _timestamp: 1648490807.0000 - _runtime: 224.0000\n",
            "Epoch 60/75\n",
            "196/196 [==============================] - 4s 19ms/step - loss: 0.0061 - val_loss: 0.0060 - _timestamp: 1648490810.0000 - _runtime: 227.0000\n",
            "Epoch 61/75\n",
            "196/196 [==============================] - 4s 19ms/step - loss: 0.0060 - val_loss: 0.0063 - _timestamp: 1648490814.0000 - _runtime: 231.0000\n",
            "Epoch 62/75\n",
            "196/196 [==============================] - 4s 18ms/step - loss: 0.0060 - val_loss: 0.0060 - _timestamp: 1648490818.0000 - _runtime: 235.0000\n",
            "Epoch 63/75\n",
            "196/196 [==============================] - 4s 19ms/step - loss: 0.0060 - val_loss: 0.0060 - _timestamp: 1648490821.0000 - _runtime: 238.0000\n",
            "Epoch 64/75\n",
            "196/196 [==============================] - 4s 19ms/step - loss: 0.0060 - val_loss: 0.0061 - _timestamp: 1648490825.0000 - _runtime: 242.0000\n",
            "Epoch 65/75\n",
            "196/196 [==============================] - 4s 18ms/step - loss: 0.0060 - val_loss: 0.0066 - _timestamp: 1648490829.0000 - _runtime: 246.0000\n",
            "Epoch 66/75\n",
            "196/196 [==============================] - 4s 19ms/step - loss: 0.0060 - val_loss: 0.0060 - _timestamp: 1648490832.0000 - _runtime: 249.0000\n",
            "Epoch 67/75\n",
            "196/196 [==============================] - 4s 19ms/step - loss: 0.0060 - val_loss: 0.0060 - _timestamp: 1648490836.0000 - _runtime: 253.0000\n",
            "Epoch 68/75\n",
            "196/196 [==============================] - 4s 19ms/step - loss: 0.0060 - val_loss: 0.0061 - _timestamp: 1648490840.0000 - _runtime: 257.0000\n",
            "Epoch 69/75\n",
            "196/196 [==============================] - 4s 19ms/step - loss: 0.0060 - val_loss: 0.0059 - _timestamp: 1648490843.0000 - _runtime: 260.0000\n",
            "Epoch 70/75\n",
            "196/196 [==============================] - 4s 19ms/step - loss: 0.0060 - val_loss: 0.0060 - _timestamp: 1648490847.0000 - _runtime: 264.0000\n",
            "Epoch 71/75\n",
            "196/196 [==============================] - 4s 19ms/step - loss: 0.0060 - val_loss: 0.0060 - _timestamp: 1648490851.0000 - _runtime: 268.0000\n",
            "Epoch 72/75\n",
            "196/196 [==============================] - 4s 19ms/step - loss: 0.0060 - val_loss: 0.0060 - _timestamp: 1648490855.0000 - _runtime: 272.0000\n",
            "Epoch 73/75\n",
            "196/196 [==============================] - 4s 19ms/step - loss: 0.0060 - val_loss: 0.0059 - _timestamp: 1648490858.0000 - _runtime: 275.0000\n",
            "Epoch 74/75\n",
            "196/196 [==============================] - 4s 19ms/step - loss: 0.0059 - val_loss: 0.0059 - _timestamp: 1648490862.0000 - _runtime: 279.0000\n",
            "Epoch 75/75\n",
            "196/196 [==============================] - 4s 19ms/step - loss: 0.0059 - val_loss: 0.0059 - _timestamp: 1648490866.0000 - _runtime: 283.0000\n",
            "Avg SSIM over X_test: 0.8076585044147532\n",
            "\n"
          ]
        },
        {
          "output_type": "display_data",
          "data": {
            "text/plain": [
              "<IPython.core.display.HTML object>"
            ],
            "text/html": [
              "Waiting for W&B process to finish... <strong style=\"color:green\">(success).</strong>"
            ]
          },
          "metadata": {}
        },
        {
          "output_type": "display_data",
          "data": {
            "text/plain": [
              "VBox(children=(Label(value='1.399 MB of 1.399 MB uploaded (0.000 MB deduped)\\r'), FloatProgress(value=1.0, max…"
            ],
            "application/vnd.jupyter.widget-view+json": {
              "version_major": 2,
              "version_minor": 0,
              "model_id": "9b4b41665cc14d74915f75b6dbfba6db"
            }
          },
          "metadata": {}
        },
        {
          "output_type": "display_data",
          "data": {
            "text/plain": [
              "<IPython.core.display.HTML object>"
            ],
            "text/html": [
              "<style>\n",
              "    table.wandb td:nth-child(1) { padding: 0 10px; text-align: right }\n",
              "    .wandb-row { display: flex; flex-direction: row; flex-wrap: wrap; width: 100% }\n",
              "    .wandb-col { display: flex; flex-direction: column; flex-basis: 100%; flex: 1; padding: 10px; }\n",
              "    </style>\n",
              "<div class=\"wandb-row\"><div class=\"wandb-col\"><h3>Run history:</h3><br/><table class=\"wandb\"><tr><td>avg_ssim_score_x_test</td><td>▁</td></tr><tr><td>epoch</td><td>▁▁▁▁▂▂▂▂▂▃▃▃▃▃▃▄▄▄▄▄▅▅▅▅▅▅▆▆▆▆▆▆▇▇▇▇▇███</td></tr><tr><td>loss</td><td>█▃▂▂▂▁▁▁▁▁▁▁▁▁▁▁▁▁▁▁▁▁▁▁▁▁▁▁▁▁▁▁▁▁▁▁▁▁▁▁</td></tr><tr><td>val_loss</td><td>▇▅▅▃▂▂▂▂▂▂▂▂▁▂▁▁▁▁▁▁▁▁▁█▁▁▁▁▁▁▁▁▁▁▁▁▁▁▁▁</td></tr></table><br/></div><div class=\"wandb-col\"><h3>Run summary:</h3><br/><table class=\"wandb\"><tr><td>avg_ssim_score_x_test</td><td>0.80766</td></tr><tr><td>best_epoch</td><td>74</td></tr><tr><td>best_val_loss</td><td>0.00592</td></tr><tr><td>epoch</td><td>74</td></tr><tr><td>loss</td><td>0.00593</td></tr><tr><td>val_loss</td><td>0.00592</td></tr></table><br/></div></div>"
            ]
          },
          "metadata": {}
        },
        {
          "output_type": "display_data",
          "data": {
            "text/plain": [
              "<IPython.core.display.HTML object>"
            ],
            "text/html": [
              "Synced <strong style=\"color:#cdcd00\">Model 7.2_c</strong>: <a href=\"https://wandb.ai/csc2231-yash-siphelele/autoencoders_conv/runs/3hwowmc2\" target=\"_blank\">https://wandb.ai/csc2231-yash-siphelele/autoencoders_conv/runs/3hwowmc2</a><br/>Synced 5 W&B file(s), 1 media file(s), 0 artifact file(s) and 1 other file(s)"
            ]
          },
          "metadata": {}
        },
        {
          "output_type": "display_data",
          "data": {
            "text/plain": [
              "<IPython.core.display.HTML object>"
            ],
            "text/html": [
              "Find logs at: <code>./wandb/run-20220328_180303-3hwowmc2/logs</code>"
            ]
          },
          "metadata": {}
        }
      ]
    },
    {
      "cell_type": "code",
      "source": [
        "# Model 11\n",
        "\n",
        "def Encoder(input_img):\n",
        "    x = Conv2D(32, (3, 3), activation='leaky_relu', padding='same', strides=2)(input_img)\n",
        "    x = Conv2D(16, (3, 3), activation='leaky_relu', padding='same', strides=2)(x)\n",
        "    encoded = Conv2D(8, (3, 3), activation='leaky_relu', padding='same')(x)\n",
        "    return encoded\n",
        "\n",
        "def Decoder(encoded):\n",
        "    x = Conv2DTranspose(16, (3, 3), strides = 2, activation='leaky_relu', padding='same')(encoded)\n",
        "    x = Conv2DTranspose(32, (3, 3), strides = 2, activation='leaky_relu', padding='same')(x)\n",
        "    decoded = Conv2D(channels_dict[CURRENT_DATASET_TYPE], (3, 3), padding='same')(x)\n",
        "    return decoded\n",
        "\n",
        "\n",
        "# input \n",
        "input = Input(shape=(input_sizes_dict[CURRENT_DATASET_TYPE], input_sizes_dict[CURRENT_DATASET_TYPE], channels_dict[CURRENT_DATASET_TYPE])) \n",
        "\n",
        "\n",
        "# make encoder\n",
        "encoder = Encoder(input)\n",
        "volume_size = K.int_shape(encoder)\n",
        "flatten = Flatten()(encoder)\n",
        "encoder_output = Dense(Z_DIM[2])(flatten)\n",
        "encoder = Model(input, encoder_output)\n",
        "print(\"Encoder model summary:\")\n",
        "encoder.summary()\n",
        "print(\"_-_\" * 43)\n",
        "print()\n",
        "\n",
        "\n",
        "# make decoder\n",
        "decode_input = Input(shape=(Z_DIM[2],))\n",
        "decode_x = Dense(np.prod(volume_size[1:]))(decode_input)\n",
        "decode_x = Reshape((volume_size[1], volume_size[2], volume_size[3]))(decode_x)\n",
        "decoder_output = Decoder(decode_x)\n",
        "decoder = Model(decode_input, decoder_output)\n",
        "print(\"Decoder model summary:\")\n",
        "decoder.summary()\n",
        "print(\"_-_\" * 43)\n",
        "print()\n",
        "\n",
        "\n",
        "# make autoencoder model\n",
        "autoencoder = Model(input, decoder(encoder(input)))\n",
        "autoencoder.compile(optimizer = \"adam\", loss = \"mse\")\n",
        "print(\"Autoencoder ensemble summary:\")\n",
        "autoencoder.summary()\n",
        "\n",
        "\n",
        "# fit the autoencoder model\n",
        "fit_model_and_log_metrics(\"Model 7.2_c\", \"With maxpooling, convtranspose, dense, and flatten\", autoencoder, epochs=75, batch_size=256)"
      ],
      "metadata": {
        "id": "0r4jp29sJChy",
        "colab": {
          "base_uri": "https://localhost:8080/",
          "height": 1000,
          "referenced_widgets": [
            "17b207cf4044463b89e77b235d269b5d",
            "aab14144df64482cb6244d8086f64a04",
            "20439f377a9d4c6a9939691c662a83ce",
            "491f90bd218943c2a66555228b16d6fe",
            "5f6e4f0866ba4771af2a380c9c4a0b43",
            "30677c42afe84a7d8bd9b47f9c50deb3",
            "0752f6be23fc43f9bb43b421df31d087",
            "ae368cad04bf4f82930b372a3c991db3",
            "a100460cbaab41ab92683ad30a78dad5",
            "4aed35fd42254e948c63cf7dc98a2870",
            "d05f35e333ae4e8e83af841d25184c43",
            "4c8edac307524c48b666bfab71a14aab",
            "b444cd0f4f3849979e9e24ef3ab70568",
            "37c8a1c5c54d4b6eaa37d74e5dcd1a4c",
            "b6e7920d8a874fc0b255f212b9179eb3",
            "a94df5b6b7154280884baae3b9899197"
          ]
        },
        "outputId": "dde947ef-32c3-47d8-a747-43973b4d9028"
      },
      "execution_count": null,
      "outputs": [
        {
          "output_type": "stream",
          "name": "stdout",
          "text": [
            "Encoder model summary:\n",
            "Model: \"model_3\"\n",
            "_________________________________________________________________\n",
            " Layer (type)                Output Shape              Param #   \n",
            "=================================================================\n",
            " input_3 (InputLayer)        [(None, 32, 32, 3)]       0         \n",
            "                                                                 \n",
            " conv2d_4 (Conv2D)           (None, 16, 16, 32)        896       \n",
            "                                                                 \n",
            " conv2d_5 (Conv2D)           (None, 8, 8, 16)          4624      \n",
            "                                                                 \n",
            " conv2d_6 (Conv2D)           (None, 8, 8, 8)           1160      \n",
            "                                                                 \n",
            " flatten_1 (Flatten)         (None, 512)               0         \n",
            "                                                                 \n",
            " dense_2 (Dense)             (None, 300)               153900    \n",
            "                                                                 \n",
            "=================================================================\n",
            "Total params: 160,580\n",
            "Trainable params: 160,580\n",
            "Non-trainable params: 0\n",
            "_________________________________________________________________\n",
            "_-__-__-__-__-__-__-__-__-__-__-__-__-__-__-__-__-__-__-__-__-__-__-__-__-__-__-__-__-__-__-__-__-__-__-__-__-__-__-__-__-__-__-_\n",
            "\n",
            "Decoder model summary:\n",
            "Model: \"model_4\"\n",
            "_________________________________________________________________\n",
            " Layer (type)                Output Shape              Param #   \n",
            "=================================================================\n",
            " input_4 (InputLayer)        [(None, 300)]             0         \n",
            "                                                                 \n",
            " dense_3 (Dense)             (None, 512)               154112    \n",
            "                                                                 \n",
            " reshape_1 (Reshape)         (None, 8, 8, 8)           0         \n",
            "                                                                 \n",
            " conv2d_transpose_2 (Conv2DT  (None, 16, 16, 16)       1168      \n",
            " ranspose)                                                       \n",
            "                                                                 \n",
            " conv2d_transpose_3 (Conv2DT  (None, 32, 32, 32)       4640      \n",
            " ranspose)                                                       \n",
            "                                                                 \n",
            " conv2d_7 (Conv2D)           (None, 32, 32, 3)         867       \n",
            "                                                                 \n",
            "=================================================================\n",
            "Total params: 160,787\n",
            "Trainable params: 160,787\n",
            "Non-trainable params: 0\n",
            "_________________________________________________________________\n",
            "_-__-__-__-__-__-__-__-__-__-__-__-__-__-__-__-__-__-__-__-__-__-__-__-__-__-__-__-__-__-__-__-__-__-__-__-__-__-__-__-__-__-__-_\n",
            "\n",
            "Autoencoder ensemble summary:\n",
            "Model: \"model_5\"\n",
            "_________________________________________________________________\n",
            " Layer (type)                Output Shape              Param #   \n",
            "=================================================================\n",
            " input_3 (InputLayer)        [(None, 32, 32, 3)]       0         \n",
            "                                                                 \n",
            " model_3 (Functional)        (None, 300)               160580    \n",
            "                                                                 \n",
            " model_4 (Functional)        (None, 32, 32, 3)         160787    \n",
            "                                                                 \n",
            "=================================================================\n",
            "Total params: 321,367\n",
            "Trainable params: 321,367\n",
            "Non-trainable params: 0\n",
            "_________________________________________________________________\n"
          ]
        },
        {
          "output_type": "display_data",
          "data": {
            "text/plain": [
              "<IPython.core.display.HTML object>"
            ],
            "text/html": [
              "Finishing last run (ID:75qghhaz) before initializing another..."
            ]
          },
          "metadata": {}
        },
        {
          "output_type": "stream",
          "name": "stdout",
          "text": [
            "\n"
          ]
        },
        {
          "output_type": "display_data",
          "data": {
            "text/plain": [
              "<IPython.core.display.HTML object>"
            ],
            "text/html": [
              "Waiting for W&B process to finish... <strong style=\"color:green\">(success).</strong>"
            ]
          },
          "metadata": {}
        },
        {
          "output_type": "display_data",
          "data": {
            "text/plain": [
              "VBox(children=(Label(value='1.399 MB of 1.399 MB uploaded (0.000 MB deduped)\\r'), FloatProgress(value=1.0, max…"
            ],
            "application/vnd.jupyter.widget-view+json": {
              "version_major": 2,
              "version_minor": 0,
              "model_id": "17b207cf4044463b89e77b235d269b5d"
            }
          },
          "metadata": {}
        },
        {
          "output_type": "display_data",
          "data": {
            "text/plain": [
              "<IPython.core.display.HTML object>"
            ],
            "text/html": [
              "<style>\n",
              "    table.wandb td:nth-child(1) { padding: 0 10px; text-align: right }\n",
              "    .wandb-row { display: flex; flex-direction: row; flex-wrap: wrap; width: 100% }\n",
              "    .wandb-col { display: flex; flex-direction: column; flex-basis: 100%; flex: 1; padding: 10px; }\n",
              "    </style>\n",
              "<div class=\"wandb-row\"><div class=\"wandb-col\"><h3>Run history:</h3><br/><table class=\"wandb\"><tr><td>epoch</td><td>▁▁▁▂▂▂▂▂▂▃▃▃▃▃▃▄▄▄▄▄▅▅▅▅▅▅▆▆▆▆▆▆▇▇▇▇▇▇██</td></tr><tr><td>loss</td><td>█▃▂▂▂▂▂▁▁▁▁▁▁▁▁▁▁▁▁▁▁▁▁▁▁▁▁▁▁▁▁▁▁▁▁▁▁▁▁▁</td></tr><tr><td>val_loss</td><td>█▆▅▄▃▃▂▂▂▂▂▂▂▂▂▂▁▁▁▁▁▁▁▁▁▁▂▁▁▁▁▁▁▁▁▁▁▂▁▁</td></tr></table><br/></div><div class=\"wandb-col\"><h3>Run summary:</h3><br/><table class=\"wandb\"><tr><td>best_epoch</td><td>39</td></tr><tr><td>best_val_loss</td><td>0.00626</td></tr><tr><td>epoch</td><td>40</td></tr><tr><td>loss</td><td>0.00627</td></tr><tr><td>val_loss</td><td>0.00626</td></tr></table><br/></div></div>"
            ]
          },
          "metadata": {}
        },
        {
          "output_type": "display_data",
          "data": {
            "text/plain": [
              "<IPython.core.display.HTML object>"
            ],
            "text/html": [
              "Synced <strong style=\"color:#cdcd00\">Model 7.2_c</strong>: <a href=\"https://wandb.ai/csc2231-yash-siphelele/autoencoders_conv/runs/75qghhaz\" target=\"_blank\">https://wandb.ai/csc2231-yash-siphelele/autoencoders_conv/runs/75qghhaz</a><br/>Synced 5 W&B file(s), 1 media file(s), 0 artifact file(s) and 1 other file(s)"
            ]
          },
          "metadata": {}
        },
        {
          "output_type": "display_data",
          "data": {
            "text/plain": [
              "<IPython.core.display.HTML object>"
            ],
            "text/html": [
              "Find logs at: <code>./wandb/run-20220330_164545-75qghhaz/logs</code>"
            ]
          },
          "metadata": {}
        },
        {
          "output_type": "display_data",
          "data": {
            "text/plain": [
              "<IPython.core.display.HTML object>"
            ],
            "text/html": [
              "Successfully finished last run (ID:75qghhaz). Initializing new run:<br/>"
            ]
          },
          "metadata": {}
        },
        {
          "output_type": "display_data",
          "data": {
            "text/plain": [
              "<IPython.core.display.HTML object>"
            ],
            "text/html": [
              "Tracking run with wandb version 0.12.11"
            ]
          },
          "metadata": {}
        },
        {
          "output_type": "display_data",
          "data": {
            "text/plain": [
              "<IPython.core.display.HTML object>"
            ],
            "text/html": [
              "Run data is saved locally in <code>/content/wandb/run-20220330_165223-3pibsgwz</code>"
            ]
          },
          "metadata": {}
        },
        {
          "output_type": "display_data",
          "data": {
            "text/plain": [
              "<IPython.core.display.HTML object>"
            ],
            "text/html": [
              "Syncing run <strong><a href=\"https://wandb.ai/csc2231-yash-siphelele/autoencoders_conv/runs/3pibsgwz\" target=\"_blank\">Model 7.2_c</a></strong> to <a href=\"https://wandb.ai/csc2231-yash-siphelele/autoencoders_conv\" target=\"_blank\">Weights & Biases</a> (<a href=\"https://wandb.me/run\" target=\"_blank\">docs</a>)<br/>"
            ]
          },
          "metadata": {}
        },
        {
          "output_type": "stream",
          "name": "stdout",
          "text": [
            "Epoch 1/75\n",
            "196/196 [==============================] - 9s 40ms/step - loss: 0.0456 - val_loss: 0.0176 - _timestamp: 1648659165.0000 - _runtime: 15.0000\n",
            "Epoch 2/75\n",
            "196/196 [==============================] - 7s 38ms/step - loss: 0.0148 - val_loss: 0.0117 - _timestamp: 1648659173.0000 - _runtime: 23.0000\n",
            "Epoch 3/75\n",
            "196/196 [==============================] - 7s 38ms/step - loss: 0.0104 - val_loss: 0.0093 - _timestamp: 1648659180.0000 - _runtime: 30.0000\n",
            "Epoch 4/75\n",
            "196/196 [==============================] - 7s 38ms/step - loss: 0.0088 - val_loss: 0.0082 - _timestamp: 1648659187.0000 - _runtime: 37.0000\n",
            "Epoch 5/75\n",
            "196/196 [==============================] - 7s 37ms/step - loss: 0.0079 - val_loss: 0.0077 - _timestamp: 1648659195.0000 - _runtime: 45.0000\n",
            "Epoch 6/75\n",
            "196/196 [==============================] - 7s 38ms/step - loss: 0.0074 - val_loss: 0.0070 - _timestamp: 1648659202.0000 - _runtime: 52.0000\n",
            "Epoch 7/75\n",
            "196/196 [==============================] - 7s 38ms/step - loss: 0.0068 - val_loss: 0.0066 - _timestamp: 1648659210.0000 - _runtime: 60.0000\n",
            "Epoch 8/75\n",
            "196/196 [==============================] - 7s 38ms/step - loss: 0.0065 - val_loss: 0.0063 - _timestamp: 1648659217.0000 - _runtime: 67.0000\n",
            "Epoch 9/75\n",
            "196/196 [==============================] - 7s 38ms/step - loss: 0.0062 - val_loss: 0.0061 - _timestamp: 1648659224.0000 - _runtime: 74.0000\n",
            "Epoch 10/75\n",
            "196/196 [==============================] - 7s 37ms/step - loss: 0.0060 - val_loss: 0.0058 - _timestamp: 1648659232.0000 - _runtime: 82.0000\n",
            "Epoch 11/75\n",
            "196/196 [==============================] - 7s 37ms/step - loss: 0.0057 - val_loss: 0.0056 - _timestamp: 1648659239.0000 - _runtime: 89.0000\n",
            "Epoch 12/75\n",
            "196/196 [==============================] - 7s 38ms/step - loss: 0.0056 - val_loss: 0.0054 - _timestamp: 1648659247.0000 - _runtime: 97.0000\n",
            "Epoch 13/75\n",
            "196/196 [==============================] - 7s 38ms/step - loss: 0.0054 - val_loss: 0.0054 - _timestamp: 1648659254.0000 - _runtime: 104.0000\n",
            "Epoch 14/75\n",
            "196/196 [==============================] - 8s 41ms/step - loss: 0.0052 - val_loss: 0.0051 - _timestamp: 1648659262.0000 - _runtime: 112.0000\n",
            "Epoch 15/75\n",
            "196/196 [==============================] - 7s 38ms/step - loss: 0.0051 - val_loss: 0.0049 - _timestamp: 1648659269.0000 - _runtime: 119.0000\n",
            "Epoch 16/75\n",
            "196/196 [==============================] - 7s 37ms/step - loss: 0.0050 - val_loss: 0.0049 - _timestamp: 1648659277.0000 - _runtime: 127.0000\n",
            "Epoch 17/75\n",
            "196/196 [==============================] - 7s 38ms/step - loss: 0.0047 - val_loss: 0.0047 - _timestamp: 1648659284.0000 - _runtime: 134.0000\n",
            "Epoch 18/75\n",
            "196/196 [==============================] - 8s 40ms/step - loss: 0.0082 - val_loss: 0.0055 - _timestamp: 1648659292.0000 - _runtime: 142.0000\n",
            "Epoch 19/75\n",
            "196/196 [==============================] - 7s 38ms/step - loss: 0.0051 - val_loss: 0.0047 - _timestamp: 1648659299.0000 - _runtime: 149.0000\n",
            "Epoch 20/75\n",
            "196/196 [==============================] - 7s 38ms/step - loss: 0.0045 - val_loss: 0.0044 - _timestamp: 1648659307.0000 - _runtime: 157.0000\n",
            "Epoch 21/75\n",
            "196/196 [==============================] - 7s 37ms/step - loss: 0.0043 - val_loss: 0.0042 - _timestamp: 1648659314.0000 - _runtime: 164.0000\n",
            "Epoch 22/75\n",
            "196/196 [==============================] - 8s 39ms/step - loss: 0.0042 - val_loss: 0.0042 - _timestamp: 1648659322.0000 - _runtime: 172.0000\n",
            "Epoch 23/75\n",
            "196/196 [==============================] - 8s 39ms/step - loss: 0.0041 - val_loss: 0.0041 - _timestamp: 1648659329.0000 - _runtime: 179.0000\n",
            "Epoch 24/75\n",
            "196/196 [==============================] - 7s 38ms/step - loss: 0.0040 - val_loss: 0.0040 - _timestamp: 1648659337.0000 - _runtime: 187.0000\n",
            "Epoch 25/75\n",
            "196/196 [==============================] - 7s 38ms/step - loss: 0.0039 - val_loss: 0.0039 - _timestamp: 1648659344.0000 - _runtime: 194.0000\n",
            "Epoch 26/75\n",
            "196/196 [==============================] - 7s 38ms/step - loss: 0.0039 - val_loss: 0.0039 - _timestamp: 1648659352.0000 - _runtime: 202.0000\n",
            "Epoch 27/75\n",
            "196/196 [==============================] - 8s 39ms/step - loss: 0.0038 - val_loss: 0.0038 - _timestamp: 1648659359.0000 - _runtime: 209.0000\n",
            "Epoch 28/75\n",
            "196/196 [==============================] - 8s 38ms/step - loss: 0.0038 - val_loss: 0.0037 - _timestamp: 1648659367.0000 - _runtime: 217.0000\n",
            "Epoch 29/75\n",
            "196/196 [==============================] - 7s 38ms/step - loss: 0.0037 - val_loss: 0.0037 - _timestamp: 1648659374.0000 - _runtime: 224.0000\n",
            "Epoch 30/75\n",
            "196/196 [==============================] - 7s 38ms/step - loss: 0.0037 - val_loss: 0.0036 - _timestamp: 1648659382.0000 - _runtime: 232.0000\n",
            "Epoch 31/75\n",
            "196/196 [==============================] - 7s 38ms/step - loss: 0.0036 - val_loss: 0.0036 - _timestamp: 1648659389.0000 - _runtime: 239.0000\n",
            "Epoch 32/75\n",
            "196/196 [==============================] - 7s 38ms/step - loss: 0.0036 - val_loss: 0.0035 - _timestamp: 1648659397.0000 - _runtime: 247.0000\n",
            "Epoch 33/75\n",
            "196/196 [==============================] - 8s 38ms/step - loss: 0.0035 - val_loss: 0.0035 - _timestamp: 1648659404.0000 - _runtime: 254.0000\n",
            "Epoch 34/75\n",
            "196/196 [==============================] - 7s 38ms/step - loss: 0.0035 - val_loss: 0.0034 - _timestamp: 1648659412.0000 - _runtime: 262.0000\n",
            "Epoch 35/75\n",
            "196/196 [==============================] - 7s 37ms/step - loss: 0.0034 - val_loss: 0.0035 - _timestamp: 1648659419.0000 - _runtime: 269.0000\n",
            "Epoch 36/75\n",
            "196/196 [==============================] - 7s 38ms/step - loss: 0.0034 - val_loss: 0.0034 - _timestamp: 1648659427.0000 - _runtime: 277.0000\n",
            "Epoch 37/75\n",
            "196/196 [==============================] - 7s 38ms/step - loss: 0.0033 - val_loss: 0.0033 - _timestamp: 1648659434.0000 - _runtime: 284.0000\n",
            "Epoch 38/75\n",
            "196/196 [==============================] - 7s 37ms/step - loss: 0.0033 - val_loss: 0.0033 - _timestamp: 1648659441.0000 - _runtime: 291.0000\n",
            "Epoch 39/75\n",
            "196/196 [==============================] - 7s 37ms/step - loss: 0.0033 - val_loss: 0.0032 - _timestamp: 1648659449.0000 - _runtime: 299.0000\n",
            "Epoch 40/75\n",
            "196/196 [==============================] - 7s 37ms/step - loss: 0.0033 - val_loss: 0.0033 - _timestamp: 1648659456.0000 - _runtime: 306.0000\n",
            "Epoch 41/75\n",
            "196/196 [==============================] - 7s 38ms/step - loss: 0.0032 - val_loss: 0.0031 - _timestamp: 1648659464.0000 - _runtime: 314.0000\n",
            "Epoch 42/75\n",
            "196/196 [==============================] - 7s 37ms/step - loss: 0.0056 - val_loss: 0.0035 - _timestamp: 1648659471.0000 - _runtime: 321.0000\n",
            "Epoch 43/75\n",
            "196/196 [==============================] - 7s 37ms/step - loss: 0.0033 - val_loss: 0.0032 - _timestamp: 1648659478.0000 - _runtime: 328.0000\n",
            "Epoch 44/75\n",
            "196/196 [==============================] - 7s 37ms/step - loss: 0.0031 - val_loss: 0.0032 - _timestamp: 1648659485.0000 - _runtime: 335.0000\n",
            "Epoch 45/75\n",
            "196/196 [==============================] - 7s 38ms/step - loss: 0.0031 - val_loss: 0.0031 - _timestamp: 1648659493.0000 - _runtime: 343.0000\n",
            "Epoch 46/75\n",
            "196/196 [==============================] - 7s 38ms/step - loss: 0.0031 - val_loss: 0.0031 - _timestamp: 1648659500.0000 - _runtime: 350.0000\n",
            "Epoch 47/75\n",
            "196/196 [==============================] - 7s 38ms/step - loss: 0.0030 - val_loss: 0.0030 - _timestamp: 1648659508.0000 - _runtime: 358.0000\n",
            "Epoch 48/75\n",
            "196/196 [==============================] - 7s 38ms/step - loss: 0.0030 - val_loss: 0.0030 - _timestamp: 1648659515.0000 - _runtime: 365.0000\n",
            "Epoch 49/75\n",
            "196/196 [==============================] - 7s 38ms/step - loss: 0.0030 - val_loss: 0.0029 - _timestamp: 1648659522.0000 - _runtime: 372.0000\n",
            "Epoch 50/75\n",
            "196/196 [==============================] - 7s 38ms/step - loss: 0.0030 - val_loss: 0.0029 - _timestamp: 1648659530.0000 - _runtime: 380.0000\n",
            "Epoch 51/75\n",
            "196/196 [==============================] - 7s 38ms/step - loss: 0.0030 - val_loss: 0.0029 - _timestamp: 1648659537.0000 - _runtime: 387.0000\n",
            "Epoch 52/75\n",
            "196/196 [==============================] - 7s 38ms/step - loss: 0.0029 - val_loss: 0.0030 - _timestamp: 1648659545.0000 - _runtime: 395.0000\n",
            "Epoch 53/75\n",
            "196/196 [==============================] - 7s 37ms/step - loss: 0.0029 - val_loss: 0.0029 - _timestamp: 1648659552.0000 - _runtime: 402.0000\n",
            "Epoch 54/75\n",
            "196/196 [==============================] - 7s 38ms/step - loss: 0.0029 - val_loss: 0.0029 - _timestamp: 1648659559.0000 - _runtime: 409.0000\n",
            "Epoch 55/75\n",
            "196/196 [==============================] - 7s 38ms/step - loss: 0.0029 - val_loss: 0.0028 - _timestamp: 1648659567.0000 - _runtime: 417.0000\n",
            "Epoch 56/75\n",
            "196/196 [==============================] - 7s 37ms/step - loss: 0.0029 - val_loss: 0.0030 - _timestamp: 1648659574.0000 - _runtime: 424.0000\n",
            "Epoch 57/75\n",
            "196/196 [==============================] - 7s 38ms/step - loss: 0.0029 - val_loss: 0.0028 - _timestamp: 1648659582.0000 - _runtime: 432.0000\n",
            "Epoch 58/75\n",
            "196/196 [==============================] - 8s 41ms/step - loss: 0.0028 - val_loss: 0.0028 - _timestamp: 1648659590.0000 - _runtime: 440.0000\n",
            "Epoch 59/75\n",
            "196/196 [==============================] - 7s 38ms/step - loss: 0.0028 - val_loss: 0.0029 - _timestamp: 1648659597.0000 - _runtime: 447.0000\n",
            "Epoch 60/75\n",
            "196/196 [==============================] - 7s 38ms/step - loss: 0.0028 - val_loss: 0.0028 - _timestamp: 1648659605.0000 - _runtime: 455.0000\n",
            "Epoch 61/75\n",
            "196/196 [==============================] - 7s 38ms/step - loss: 0.0028 - val_loss: 0.0027 - _timestamp: 1648659612.0000 - _runtime: 462.0000\n",
            "Epoch 62/75\n",
            "196/196 [==============================] - 8s 39ms/step - loss: 0.0028 - val_loss: 0.0027 - _timestamp: 1648659620.0000 - _runtime: 470.0000\n",
            "Epoch 63/75\n",
            "196/196 [==============================] - 8s 38ms/step - loss: 0.0028 - val_loss: 0.0028 - _timestamp: 1648659627.0000 - _runtime: 477.0000\n",
            "Epoch 64/75\n",
            "196/196 [==============================] - 8s 38ms/step - loss: 0.0027 - val_loss: 0.0027 - _timestamp: 1648659635.0000 - _runtime: 485.0000\n",
            "Epoch 65/75\n",
            "196/196 [==============================] - 8s 39ms/step - loss: 0.0027 - val_loss: 0.0028 - _timestamp: 1648659642.0000 - _runtime: 492.0000\n",
            "Epoch 66/75\n",
            "196/196 [==============================] - 8s 38ms/step - loss: 0.0034 - val_loss: 0.0027 - _timestamp: 1648659650.0000 - _runtime: 500.0000\n",
            "Epoch 67/75\n",
            "196/196 [==============================] - 8s 41ms/step - loss: 0.0026 - val_loss: 0.0026 - _timestamp: 1648659658.0000 - _runtime: 508.0000\n",
            "Epoch 68/75\n",
            "196/196 [==============================] - 8s 38ms/step - loss: 0.0026 - val_loss: 0.0026 - _timestamp: 1648659665.0000 - _runtime: 515.0000\n",
            "Epoch 69/75\n",
            "196/196 [==============================] - 7s 38ms/step - loss: 0.0026 - val_loss: 0.0026 - _timestamp: 1648659673.0000 - _runtime: 523.0000\n",
            "Epoch 70/75\n",
            "196/196 [==============================] - 7s 38ms/step - loss: 0.0027 - val_loss: 0.0026 - _timestamp: 1648659680.0000 - _runtime: 530.0000\n",
            "Epoch 71/75\n",
            "196/196 [==============================] - 7s 38ms/step - loss: 0.0027 - val_loss: 0.0026 - _timestamp: 1648659688.0000 - _runtime: 538.0000\n",
            "Epoch 72/75\n",
            "196/196 [==============================] - 7s 38ms/step - loss: 0.0026 - val_loss: 0.0026 - _timestamp: 1648659695.0000 - _runtime: 545.0000\n",
            "Epoch 73/75\n",
            "196/196 [==============================] - 7s 37ms/step - loss: 0.0026 - val_loss: 0.0026 - _timestamp: 1648659702.0000 - _runtime: 552.0000\n",
            "Epoch 74/75\n",
            "196/196 [==============================] - 7s 38ms/step - loss: 0.0026 - val_loss: 0.0026 - _timestamp: 1648659710.0000 - _runtime: 560.0000\n",
            "Epoch 75/75\n",
            "196/196 [==============================] - 7s 37ms/step - loss: 0.0026 - val_loss: 0.0026 - _timestamp: 1648659717.0000 - _runtime: 567.0000\n",
            "Avg SSIM over X_test: 0.9125704599352441\n",
            "\n"
          ]
        },
        {
          "output_type": "display_data",
          "data": {
            "text/plain": [
              "<IPython.core.display.HTML object>"
            ],
            "text/html": [
              "Waiting for W&B process to finish... <strong style=\"color:green\">(success).</strong>"
            ]
          },
          "metadata": {}
        },
        {
          "output_type": "display_data",
          "data": {
            "text/plain": [
              "VBox(children=(Label(value='3.746 MB of 3.746 MB uploaded (0.000 MB deduped)\\r'), FloatProgress(value=1.0, max…"
            ],
            "application/vnd.jupyter.widget-view+json": {
              "version_major": 2,
              "version_minor": 0,
              "model_id": "a100460cbaab41ab92683ad30a78dad5"
            }
          },
          "metadata": {}
        },
        {
          "output_type": "display_data",
          "data": {
            "text/plain": [
              "<IPython.core.display.HTML object>"
            ],
            "text/html": [
              "<style>\n",
              "    table.wandb td:nth-child(1) { padding: 0 10px; text-align: right }\n",
              "    .wandb-row { display: flex; flex-direction: row; flex-wrap: wrap; width: 100% }\n",
              "    .wandb-col { display: flex; flex-direction: column; flex-basis: 100%; flex: 1; padding: 10px; }\n",
              "    </style>\n",
              "<div class=\"wandb-row\"><div class=\"wandb-col\"><h3>Run history:</h3><br/><table class=\"wandb\"><tr><td>avg_ssim_score_x_test</td><td>▁</td></tr><tr><td>epoch</td><td>▁▁▁▁▂▂▂▂▂▃▃▃▃▃▃▄▄▄▄▄▅▅▅▅▅▅▆▆▆▆▆▆▇▇▇▇▇███</td></tr><tr><td>loss</td><td>█▃▂▂▂▂▁▁▁▂▁▁▁▁▁▁▁▁▁▁▁▁▁▁▁▁▁▁▁▁▁▁▁▁▁▁▁▁▁▁</td></tr><tr><td>val_loss</td><td>█▅▄▃▃▃▂▂▂▂▂▂▂▂▂▂▁▁▁▁▁▁▁▁▁▁▁▁▁▁▁▁▁▁▁▁▁▁▁▁</td></tr></table><br/></div><div class=\"wandb-col\"><h3>Run summary:</h3><br/><table class=\"wandb\"><tr><td>avg_ssim_score_x_test</td><td>0.91257</td></tr><tr><td>best_epoch</td><td>73</td></tr><tr><td>best_val_loss</td><td>0.00257</td></tr><tr><td>epoch</td><td>74</td></tr><tr><td>loss</td><td>0.00259</td></tr><tr><td>val_loss</td><td>0.00257</td></tr></table><br/></div></div>"
            ]
          },
          "metadata": {}
        },
        {
          "output_type": "display_data",
          "data": {
            "text/plain": [
              "<IPython.core.display.HTML object>"
            ],
            "text/html": [
              "Synced <strong style=\"color:#cdcd00\">Model 7.2_c</strong>: <a href=\"https://wandb.ai/csc2231-yash-siphelele/autoencoders_conv/runs/3pibsgwz\" target=\"_blank\">https://wandb.ai/csc2231-yash-siphelele/autoencoders_conv/runs/3pibsgwz</a><br/>Synced 5 W&B file(s), 1 media file(s), 0 artifact file(s) and 1 other file(s)"
            ]
          },
          "metadata": {}
        },
        {
          "output_type": "display_data",
          "data": {
            "text/plain": [
              "<IPython.core.display.HTML object>"
            ],
            "text/html": [
              "Find logs at: <code>./wandb/run-20220330_165223-3pibsgwz/logs</code>"
            ]
          },
          "metadata": {}
        }
      ]
    },
    {
      "cell_type": "code",
      "source": [
        "decoded_imgs = autoencoder.predict(x_test)\n",
        "\n",
        "n = 10\n",
        "plt.figure(figsize=(20, 4))\n",
        "for i in range(n):\n",
        " plt.gray()\n",
        " ax = plt.subplot(2, n, i+1)\n",
        " plt.imshow(x_test[i].reshape(32, 32, 3))\n",
        " ax.get_xaxis().set_visible(False)\n",
        " ax.get_yaxis().set_visible(False)\n",
        " \n",
        " ax = plt.subplot(2, n, i +1+n)\n",
        " plt.imshow(decoded_imgs[i].reshape(32, 32, 3))\n",
        " ax.get_xaxis().set_visible(False)\n",
        " ax.get_yaxis().set_visible(False)\n",
        "plt.show() "
      ],
      "metadata": {
        "colab": {
          "base_uri": "https://localhost:8080/",
          "height": 367
        },
        "id": "P6cSjmYLvheN",
        "outputId": "f20a1628-99d2-4da3-f28e-0fb6106626a8"
      },
      "execution_count": null,
      "outputs": [
        {
          "output_type": "stream",
          "name": "stderr",
          "text": [
            "Clipping input data to the valid range for imshow with RGB data ([0..1] for floats or [0..255] for integers).\n",
            "Clipping input data to the valid range for imshow with RGB data ([0..1] for floats or [0..255] for integers).\n",
            "Clipping input data to the valid range for imshow with RGB data ([0..1] for floats or [0..255] for integers).\n",
            "Clipping input data to the valid range for imshow with RGB data ([0..1] for floats or [0..255] for integers).\n",
            "Clipping input data to the valid range for imshow with RGB data ([0..1] for floats or [0..255] for integers).\n",
            "Clipping input data to the valid range for imshow with RGB data ([0..1] for floats or [0..255] for integers).\n",
            "Clipping input data to the valid range for imshow with RGB data ([0..1] for floats or [0..255] for integers).\n"
          ]
        },
        {
          "output_type": "display_data",
          "data": {
            "text/plain": [
              "<Figure size 1440x288 with 20 Axes>"
            ],
            "image/png": "[encoded data removed]"
          },
          "metadata": {
            "needs_background": "light"
          }
        }
      ]
    },
    {
      "cell_type": "code",
      "source": [
        ""
      ],
      "metadata": {
        "id": "7TKbCqGHyWYr"
      },
      "execution_count": null,
      "outputs": []
    }
  ]
}