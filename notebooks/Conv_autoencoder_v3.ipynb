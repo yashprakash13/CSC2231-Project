{
  "nbformat": 4,
  "nbformat_minor": 0,
  "metadata": {
    "colab": {
      "name": "Conv_autoencoder_v2.ipynb",
      "provenance": [],
      "collapsed_sections": []
    },
    "kernelspec": {
      "name": "python3",
      "display_name": "Python 3"
    },
    "language_info": {
      "name": "python"
    },
    "accelerator": "GPU",
    "widgets": {
      "application/vnd.jupyter.widget-state+json": {
        "cc5de2a801d14ecf894617312432a0d7": {
          "model_module": "@jupyter-widgets/controls",
          "model_name": "VBoxModel",
          "model_module_version": "1.5.0",
          "state": {
            "_dom_classes": [],
            "_model_module": "@jupyter-widgets/controls",
            "_model_module_version": "1.5.0",
            "_model_name": "VBoxModel",
            "_view_count": null,
            "_view_module": "@jupyter-widgets/controls",
            "_view_module_version": "1.5.0",
            "_view_name": "VBoxView",
            "box_style": "",
            "children": [
              "IPY_MODEL_c519e0c7639e4699a5633a8cc44e4fc1",
              "IPY_MODEL_42de1b7d316f41b5bde4b7eb834abe42"
            ],
            "layout": "IPY_MODEL_75583a1c2c0f4b6e8e7a3cbb7c06e34a"
          }
        },
        "c519e0c7639e4699a5633a8cc44e4fc1": {
          "model_module": "@jupyter-widgets/controls",
          "model_name": "LabelModel",
          "model_module_version": "1.5.0",
          "state": {
            "_dom_classes": [],
            "_model_module": "@jupyter-widgets/controls",
            "_model_module_version": "1.5.0",
            "_model_name": "LabelModel",
            "_view_count": null,
            "_view_module": "@jupyter-widgets/controls",
            "_view_module_version": "1.5.0",
            "_view_name": "LabelView",
            "description": "",
            "description_tooltip": null,
            "layout": "IPY_MODEL_6eb04820741d4c178fbef9feba92ca61",
            "placeholder": "​",
            "style": "IPY_MODEL_ffefda618e8c450dba844d75bd472888",
            "value": "0.140 MB of 0.140 MB uploaded (0.000 MB deduped)\r"
          }
        },
        "42de1b7d316f41b5bde4b7eb834abe42": {
          "model_module": "@jupyter-widgets/controls",
          "model_name": "FloatProgressModel",
          "model_module_version": "1.5.0",
          "state": {
            "_dom_classes": [],
            "_model_module": "@jupyter-widgets/controls",
            "_model_module_version": "1.5.0",
            "_model_name": "FloatProgressModel",
            "_view_count": null,
            "_view_module": "@jupyter-widgets/controls",
            "_view_module_version": "1.5.0",
            "_view_name": "ProgressView",
            "bar_style": "",
            "description": "",
            "description_tooltip": null,
            "layout": "IPY_MODEL_c1b765aa616d44bdb4dc75931bf9b002",
            "max": 1,
            "min": 0,
            "orientation": "horizontal",
            "style": "IPY_MODEL_19e3aa66e5bc45d8a3065f235ef0ab33",
            "value": 1
          }
        },
        "75583a1c2c0f4b6e8e7a3cbb7c06e34a": {
          "model_module": "@jupyter-widgets/base",
          "model_name": "LayoutModel",
          "model_module_version": "1.2.0",
          "state": {
            "_model_module": "@jupyter-widgets/base",
            "_model_module_version": "1.2.0",
            "_model_name": "LayoutModel",
            "_view_count": null,
            "_view_module": "@jupyter-widgets/base",
            "_view_module_version": "1.2.0",
            "_view_name": "LayoutView",
            "align_content": null,
            "align_items": null,
            "align_self": null,
            "border": null,
            "bottom": null,
            "display": null,
            "flex": null,
            "flex_flow": null,
            "grid_area": null,
            "grid_auto_columns": null,
            "grid_auto_flow": null,
            "grid_auto_rows": null,
            "grid_column": null,
            "grid_gap": null,
            "grid_row": null,
            "grid_template_areas": null,
            "grid_template_columns": null,
            "grid_template_rows": null,
            "height": null,
            "justify_content": null,
            "justify_items": null,
            "left": null,
            "margin": null,
            "max_height": null,
            "max_width": null,
            "min_height": null,
            "min_width": null,
            "object_fit": null,
            "object_position": null,
            "order": null,
            "overflow": null,
            "overflow_x": null,
            "overflow_y": null,
            "padding": null,
            "right": null,
            "top": null,
            "visibility": null,
            "width": null
          }
        },
        "6eb04820741d4c178fbef9feba92ca61": {
          "model_module": "@jupyter-widgets/base",
          "model_name": "LayoutModel",
          "model_module_version": "1.2.0",
          "state": {
            "_model_module": "@jupyter-widgets/base",
            "_model_module_version": "1.2.0",
            "_model_name": "LayoutModel",
            "_view_count": null,
            "_view_module": "@jupyter-widgets/base",
            "_view_module_version": "1.2.0",
            "_view_name": "LayoutView",
            "align_content": null,
            "align_items": null,
            "align_self": null,
            "border": null,
            "bottom": null,
            "display": null,
            "flex": null,
            "flex_flow": null,
            "grid_area": null,
            "grid_auto_columns": null,
            "grid_auto_flow": null,
            "grid_auto_rows": null,
            "grid_column": null,
            "grid_gap": null,
            "grid_row": null,
            "grid_template_areas": null,
            "grid_template_columns": null,
            "grid_template_rows": null,
            "height": null,
            "justify_content": null,
            "justify_items": null,
            "left": null,
            "margin": null,
            "max_height": null,
            "max_width": null,
            "min_height": null,
            "min_width": null,
            "object_fit": null,
            "object_position": null,
            "order": null,
            "overflow": null,
            "overflow_x": null,
            "overflow_y": null,
            "padding": null,
            "right": null,
            "top": null,
            "visibility": null,
            "width": null
          }
        },
        "ffefda618e8c450dba844d75bd472888": {
          "model_module": "@jupyter-widgets/controls",
          "model_name": "DescriptionStyleModel",
          "model_module_version": "1.5.0",
          "state": {
            "_model_module": "@jupyter-widgets/controls",
            "_model_module_version": "1.5.0",
            "_model_name": "DescriptionStyleModel",
            "_view_count": null,
            "_view_module": "@jupyter-widgets/base",
            "_view_module_version": "1.2.0",
            "_view_name": "StyleView",
            "description_width": ""
          }
        },
        "c1b765aa616d44bdb4dc75931bf9b002": {
          "model_module": "@jupyter-widgets/base",
          "model_name": "LayoutModel",
          "model_module_version": "1.2.0",
          "state": {
            "_model_module": "@jupyter-widgets/base",
            "_model_module_version": "1.2.0",
            "_model_name": "LayoutModel",
            "_view_count": null,
            "_view_module": "@jupyter-widgets/base",
            "_view_module_version": "1.2.0",
            "_view_name": "LayoutView",
            "align_content": null,
            "align_items": null,
            "align_self": null,
            "border": null,
            "bottom": null,
            "display": null,
            "flex": null,
            "flex_flow": null,
            "grid_area": null,
            "grid_auto_columns": null,
            "grid_auto_flow": null,
            "grid_auto_rows": null,
            "grid_column": null,
            "grid_gap": null,
            "grid_row": null,
            "grid_template_areas": null,
            "grid_template_columns": null,
            "grid_template_rows": null,
            "height": null,
            "justify_content": null,
            "justify_items": null,
            "left": null,
            "margin": null,
            "max_height": null,
            "max_width": null,
            "min_height": null,
            "min_width": null,
            "object_fit": null,
            "object_position": null,
            "order": null,
            "overflow": null,
            "overflow_x": null,
            "overflow_y": null,
            "padding": null,
            "right": null,
            "top": null,
            "visibility": null,
            "width": null
          }
        },
        "19e3aa66e5bc45d8a3065f235ef0ab33": {
          "model_module": "@jupyter-widgets/controls",
          "model_name": "ProgressStyleModel",
          "model_module_version": "1.5.0",
          "state": {
            "_model_module": "@jupyter-widgets/controls",
            "_model_module_version": "1.5.0",
            "_model_name": "ProgressStyleModel",
            "_view_count": null,
            "_view_module": "@jupyter-widgets/base",
            "_view_module_version": "1.2.0",
            "_view_name": "StyleView",
            "bar_color": null,
            "description_width": ""
          }
        },
        "366a6facf5864961aaa1f6e162f6b74f": {
          "model_module": "@jupyter-widgets/controls",
          "model_name": "VBoxModel",
          "model_module_version": "1.5.0",
          "state": {
            "_dom_classes": [],
            "_model_module": "@jupyter-widgets/controls",
            "_model_module_version": "1.5.0",
            "_model_name": "VBoxModel",
            "_view_count": null,
            "_view_module": "@jupyter-widgets/controls",
            "_view_module_version": "1.5.0",
            "_view_name": "VBoxView",
            "box_style": "",
            "children": [
              "IPY_MODEL_7ef9e82bcc084cb9b5f93c747d81f4fa",
              "IPY_MODEL_7d2c219d3f7243a1bf5b9b9b25aceb63"
            ],
            "layout": "IPY_MODEL_a2472f36b1f14831967007fb1a7a42bb"
          }
        },
        "7ef9e82bcc084cb9b5f93c747d81f4fa": {
          "model_module": "@jupyter-widgets/controls",
          "model_name": "LabelModel",
          "model_module_version": "1.5.0",
          "state": {
            "_dom_classes": [],
            "_model_module": "@jupyter-widgets/controls",
            "_model_module_version": "1.5.0",
            "_model_name": "LabelModel",
            "_view_count": null,
            "_view_module": "@jupyter-widgets/controls",
            "_view_module_version": "1.5.0",
            "_view_name": "LabelView",
            "description": "",
            "description_tooltip": null,
            "layout": "IPY_MODEL_0a54405b0139459db37f6bc4857df3f2",
            "placeholder": "​",
            "style": "IPY_MODEL_65679d510043490691ebe7e9b443fb20",
            "value": "0.123 MB of 0.123 MB uploaded (0.000 MB deduped)\r"
          }
        },
        "7d2c219d3f7243a1bf5b9b9b25aceb63": {
          "model_module": "@jupyter-widgets/controls",
          "model_name": "FloatProgressModel",
          "model_module_version": "1.5.0",
          "state": {
            "_dom_classes": [],
            "_model_module": "@jupyter-widgets/controls",
            "_model_module_version": "1.5.0",
            "_model_name": "FloatProgressModel",
            "_view_count": null,
            "_view_module": "@jupyter-widgets/controls",
            "_view_module_version": "1.5.0",
            "_view_name": "ProgressView",
            "bar_style": "",
            "description": "",
            "description_tooltip": null,
            "layout": "IPY_MODEL_98acdf7d832643aa86cba3ecaa0c207f",
            "max": 1,
            "min": 0,
            "orientation": "horizontal",
            "style": "IPY_MODEL_d8407978e8e640bdba20990accb9be78",
            "value": 1
          }
        },
        "a2472f36b1f14831967007fb1a7a42bb": {
          "model_module": "@jupyter-widgets/base",
          "model_name": "LayoutModel",
          "model_module_version": "1.2.0",
          "state": {
            "_model_module": "@jupyter-widgets/base",
            "_model_module_version": "1.2.0",
            "_model_name": "LayoutModel",
            "_view_count": null,
            "_view_module": "@jupyter-widgets/base",
            "_view_module_version": "1.2.0",
            "_view_name": "LayoutView",
            "align_content": null,
            "align_items": null,
            "align_self": null,
            "border": null,
            "bottom": null,
            "display": null,
            "flex": null,
            "flex_flow": null,
            "grid_area": null,
            "grid_auto_columns": null,
            "grid_auto_flow": null,
            "grid_auto_rows": null,
            "grid_column": null,
            "grid_gap": null,
            "grid_row": null,
            "grid_template_areas": null,
            "grid_template_columns": null,
            "grid_template_rows": null,
            "height": null,
            "justify_content": null,
            "justify_items": null,
            "left": null,
            "margin": null,
            "max_height": null,
            "max_width": null,
            "min_height": null,
            "min_width": null,
            "object_fit": null,
            "object_position": null,
            "order": null,
            "overflow": null,
            "overflow_x": null,
            "overflow_y": null,
            "padding": null,
            "right": null,
            "top": null,
            "visibility": null,
            "width": null
          }
        },
        "0a54405b0139459db37f6bc4857df3f2": {
          "model_module": "@jupyter-widgets/base",
          "model_name": "LayoutModel",
          "model_module_version": "1.2.0",
          "state": {
            "_model_module": "@jupyter-widgets/base",
            "_model_module_version": "1.2.0",
            "_model_name": "LayoutModel",
            "_view_count": null,
            "_view_module": "@jupyter-widgets/base",
            "_view_module_version": "1.2.0",
            "_view_name": "LayoutView",
            "align_content": null,
            "align_items": null,
            "align_self": null,
            "border": null,
            "bottom": null,
            "display": null,
            "flex": null,
            "flex_flow": null,
            "grid_area": null,
            "grid_auto_columns": null,
            "grid_auto_flow": null,
            "grid_auto_rows": null,
            "grid_column": null,
            "grid_gap": null,
            "grid_row": null,
            "grid_template_areas": null,
            "grid_template_columns": null,
            "grid_template_rows": null,
            "height": null,
            "justify_content": null,
            "justify_items": null,
            "left": null,
            "margin": null,
            "max_height": null,
            "max_width": null,
            "min_height": null,
            "min_width": null,
            "object_fit": null,
            "object_position": null,
            "order": null,
            "overflow": null,
            "overflow_x": null,
            "overflow_y": null,
            "padding": null,
            "right": null,
            "top": null,
            "visibility": null,
            "width": null
          }
        },
        "65679d510043490691ebe7e9b443fb20": {
          "model_module": "@jupyter-widgets/controls",
          "model_name": "DescriptionStyleModel",
          "model_module_version": "1.5.0",
          "state": {
            "_model_module": "@jupyter-widgets/controls",
            "_model_module_version": "1.5.0",
            "_model_name": "DescriptionStyleModel",
            "_view_count": null,
            "_view_module": "@jupyter-widgets/base",
            "_view_module_version": "1.2.0",
            "_view_name": "StyleView",
            "description_width": ""
          }
        },
        "98acdf7d832643aa86cba3ecaa0c207f": {
          "model_module": "@jupyter-widgets/base",
          "model_name": "LayoutModel",
          "model_module_version": "1.2.0",
          "state": {
            "_model_module": "@jupyter-widgets/base",
            "_model_module_version": "1.2.0",
            "_model_name": "LayoutModel",
            "_view_count": null,
            "_view_module": "@jupyter-widgets/base",
            "_view_module_version": "1.2.0",
            "_view_name": "LayoutView",
            "align_content": null,
            "align_items": null,
            "align_self": null,
            "border": null,
            "bottom": null,
            "display": null,
            "flex": null,
            "flex_flow": null,
            "grid_area": null,
            "grid_auto_columns": null,
            "grid_auto_flow": null,
            "grid_auto_rows": null,
            "grid_column": null,
            "grid_gap": null,
            "grid_row": null,
            "grid_template_areas": null,
            "grid_template_columns": null,
            "grid_template_rows": null,
            "height": null,
            "justify_content": null,
            "justify_items": null,
            "left": null,
            "margin": null,
            "max_height": null,
            "max_width": null,
            "min_height": null,
            "min_width": null,
            "object_fit": null,
            "object_position": null,
            "order": null,
            "overflow": null,
            "overflow_x": null,
            "overflow_y": null,
            "padding": null,
            "right": null,
            "top": null,
            "visibility": null,
            "width": null
          }
        },
        "d8407978e8e640bdba20990accb9be78": {
          "model_module": "@jupyter-widgets/controls",
          "model_name": "ProgressStyleModel",
          "model_module_version": "1.5.0",
          "state": {
            "_model_module": "@jupyter-widgets/controls",
            "_model_module_version": "1.5.0",
            "_model_name": "ProgressStyleModel",
            "_view_count": null,
            "_view_module": "@jupyter-widgets/base",
            "_view_module_version": "1.2.0",
            "_view_name": "StyleView",
            "bar_color": null,
            "description_width": ""
          }
        },
        "927183d9f70c4f96881729940aa6144f": {
          "model_module": "@jupyter-widgets/controls",
          "model_name": "VBoxModel",
          "model_module_version": "1.5.0",
          "state": {
            "_dom_classes": [],
            "_model_module": "@jupyter-widgets/controls",
            "_model_module_version": "1.5.0",
            "_model_name": "VBoxModel",
            "_view_count": null,
            "_view_module": "@jupyter-widgets/controls",
            "_view_module_version": "1.5.0",
            "_view_name": "VBoxView",
            "box_style": "",
            "children": [
              "IPY_MODEL_5d599104f5a84f8cb6a8baef242c79d5",
              "IPY_MODEL_ffabeed0ee8d4932a0a7eb515fab43de"
            ],
            "layout": "IPY_MODEL_2c5d3b482c6f4c5b98016f3f1a965eaf"
          }
        },
        "5d599104f5a84f8cb6a8baef242c79d5": {
          "model_module": "@jupyter-widgets/controls",
          "model_name": "LabelModel",
          "model_module_version": "1.5.0",
          "state": {
            "_dom_classes": [],
            "_model_module": "@jupyter-widgets/controls",
            "_model_module_version": "1.5.0",
            "_model_name": "LabelModel",
            "_view_count": null,
            "_view_module": "@jupyter-widgets/controls",
            "_view_module_version": "1.5.0",
            "_view_name": "LabelView",
            "description": "",
            "description_tooltip": null,
            "layout": "IPY_MODEL_bf4b49ef950542cf8990752023e9f201",
            "placeholder": "​",
            "style": "IPY_MODEL_4e79fe0a34bd498ea76b9459b8ac997c",
            "value": "0.211 MB of 0.211 MB uploaded (0.000 MB deduped)\r"
          }
        },
        "ffabeed0ee8d4932a0a7eb515fab43de": {
          "model_module": "@jupyter-widgets/controls",
          "model_name": "FloatProgressModel",
          "model_module_version": "1.5.0",
          "state": {
            "_dom_classes": [],
            "_model_module": "@jupyter-widgets/controls",
            "_model_module_version": "1.5.0",
            "_model_name": "FloatProgressModel",
            "_view_count": null,
            "_view_module": "@jupyter-widgets/controls",
            "_view_module_version": "1.5.0",
            "_view_name": "ProgressView",
            "bar_style": "",
            "description": "",
            "description_tooltip": null,
            "layout": "IPY_MODEL_e93e34e076fd425fbf19771b163bf7d1",
            "max": 1,
            "min": 0,
            "orientation": "horizontal",
            "style": "IPY_MODEL_81bc65f7f66141f29c933320f692096f",
            "value": 1
          }
        },
        "2c5d3b482c6f4c5b98016f3f1a965eaf": {
          "model_module": "@jupyter-widgets/base",
          "model_name": "LayoutModel",
          "model_module_version": "1.2.0",
          "state": {
            "_model_module": "@jupyter-widgets/base",
            "_model_module_version": "1.2.0",
            "_model_name": "LayoutModel",
            "_view_count": null,
            "_view_module": "@jupyter-widgets/base",
            "_view_module_version": "1.2.0",
            "_view_name": "LayoutView",
            "align_content": null,
            "align_items": null,
            "align_self": null,
            "border": null,
            "bottom": null,
            "display": null,
            "flex": null,
            "flex_flow": null,
            "grid_area": null,
            "grid_auto_columns": null,
            "grid_auto_flow": null,
            "grid_auto_rows": null,
            "grid_column": null,
            "grid_gap": null,
            "grid_row": null,
            "grid_template_areas": null,
            "grid_template_columns": null,
            "grid_template_rows": null,
            "height": null,
            "justify_content": null,
            "justify_items": null,
            "left": null,
            "margin": null,
            "max_height": null,
            "max_width": null,
            "min_height": null,
            "min_width": null,
            "object_fit": null,
            "object_position": null,
            "order": null,
            "overflow": null,
            "overflow_x": null,
            "overflow_y": null,
            "padding": null,
            "right": null,
            "top": null,
            "visibility": null,
            "width": null
          }
        },
        "bf4b49ef950542cf8990752023e9f201": {
          "model_module": "@jupyter-widgets/base",
          "model_name": "LayoutModel",
          "model_module_version": "1.2.0",
          "state": {
            "_model_module": "@jupyter-widgets/base",
            "_model_module_version": "1.2.0",
            "_model_name": "LayoutModel",
            "_view_count": null,
            "_view_module": "@jupyter-widgets/base",
            "_view_module_version": "1.2.0",
            "_view_name": "LayoutView",
            "align_content": null,
            "align_items": null,
            "align_self": null,
            "border": null,
            "bottom": null,
            "display": null,
            "flex": null,
            "flex_flow": null,
            "grid_area": null,
            "grid_auto_columns": null,
            "grid_auto_flow": null,
            "grid_auto_rows": null,
            "grid_column": null,
            "grid_gap": null,
            "grid_row": null,
            "grid_template_areas": null,
            "grid_template_columns": null,
            "grid_template_rows": null,
            "height": null,
            "justify_content": null,
            "justify_items": null,
            "left": null,
            "margin": null,
            "max_height": null,
            "max_width": null,
            "min_height": null,
            "min_width": null,
            "object_fit": null,
            "object_position": null,
            "order": null,
            "overflow": null,
            "overflow_x": null,
            "overflow_y": null,
            "padding": null,
            "right": null,
            "top": null,
            "visibility": null,
            "width": null
          }
        },
        "4e79fe0a34bd498ea76b9459b8ac997c": {
          "model_module": "@jupyter-widgets/controls",
          "model_name": "DescriptionStyleModel",
          "model_module_version": "1.5.0",
          "state": {
            "_model_module": "@jupyter-widgets/controls",
            "_model_module_version": "1.5.0",
            "_model_name": "DescriptionStyleModel",
            "_view_count": null,
            "_view_module": "@jupyter-widgets/base",
            "_view_module_version": "1.2.0",
            "_view_name": "StyleView",
            "description_width": ""
          }
        },
        "e93e34e076fd425fbf19771b163bf7d1": {
          "model_module": "@jupyter-widgets/base",
          "model_name": "LayoutModel",
          "model_module_version": "1.2.0",
          "state": {
            "_model_module": "@jupyter-widgets/base",
            "_model_module_version": "1.2.0",
            "_model_name": "LayoutModel",
            "_view_count": null,
            "_view_module": "@jupyter-widgets/base",
            "_view_module_version": "1.2.0",
            "_view_name": "LayoutView",
            "align_content": null,
            "align_items": null,
            "align_self": null,
            "border": null,
            "bottom": null,
            "display": null,
            "flex": null,
            "flex_flow": null,
            "grid_area": null,
            "grid_auto_columns": null,
            "grid_auto_flow": null,
            "grid_auto_rows": null,
            "grid_column": null,
            "grid_gap": null,
            "grid_row": null,
            "grid_template_areas": null,
            "grid_template_columns": null,
            "grid_template_rows": null,
            "height": null,
            "justify_content": null,
            "justify_items": null,
            "left": null,
            "margin": null,
            "max_height": null,
            "max_width": null,
            "min_height": null,
            "min_width": null,
            "object_fit": null,
            "object_position": null,
            "order": null,
            "overflow": null,
            "overflow_x": null,
            "overflow_y": null,
            "padding": null,
            "right": null,
            "top": null,
            "visibility": null,
            "width": null
          }
        },
        "81bc65f7f66141f29c933320f692096f": {
          "model_module": "@jupyter-widgets/controls",
          "model_name": "ProgressStyleModel",
          "model_module_version": "1.5.0",
          "state": {
            "_model_module": "@jupyter-widgets/controls",
            "_model_module_version": "1.5.0",
            "_model_name": "ProgressStyleModel",
            "_view_count": null,
            "_view_module": "@jupyter-widgets/base",
            "_view_module_version": "1.2.0",
            "_view_name": "StyleView",
            "bar_color": null,
            "description_width": ""
          }
        },
        "d3b0003f8f6a4ddd85b96507cf4bf0b1": {
          "model_module": "@jupyter-widgets/controls",
          "model_name": "VBoxModel",
          "model_module_version": "1.5.0",
          "state": {
            "_dom_classes": [],
            "_model_module": "@jupyter-widgets/controls",
            "_model_module_version": "1.5.0",
            "_model_name": "VBoxModel",
            "_view_count": null,
            "_view_module": "@jupyter-widgets/controls",
            "_view_module_version": "1.5.0",
            "_view_name": "VBoxView",
            "box_style": "",
            "children": [
              "IPY_MODEL_9f55b9c0628941e49cc6bb6d81f64fbc",
              "IPY_MODEL_4d976a1ef7884225b861270392756715"
            ],
            "layout": "IPY_MODEL_81aa5104dc984a999b7fa9da82a6363b"
          }
        },
        "9f55b9c0628941e49cc6bb6d81f64fbc": {
          "model_module": "@jupyter-widgets/controls",
          "model_name": "LabelModel",
          "model_module_version": "1.5.0",
          "state": {
            "_dom_classes": [],
            "_model_module": "@jupyter-widgets/controls",
            "_model_module_version": "1.5.0",
            "_model_name": "LabelModel",
            "_view_count": null,
            "_view_module": "@jupyter-widgets/controls",
            "_view_module_version": "1.5.0",
            "_view_name": "LabelView",
            "description": "",
            "description_tooltip": null,
            "layout": "IPY_MODEL_b228727681a1483eb56d756fc3443451",
            "placeholder": "​",
            "style": "IPY_MODEL_20e9192538554366b49bccf11df57e4f",
            "value": "0.211 MB of 0.211 MB uploaded (0.000 MB deduped)\r"
          }
        },
        "4d976a1ef7884225b861270392756715": {
          "model_module": "@jupyter-widgets/controls",
          "model_name": "FloatProgressModel",
          "model_module_version": "1.5.0",
          "state": {
            "_dom_classes": [],
            "_model_module": "@jupyter-widgets/controls",
            "_model_module_version": "1.5.0",
            "_model_name": "FloatProgressModel",
            "_view_count": null,
            "_view_module": "@jupyter-widgets/controls",
            "_view_module_version": "1.5.0",
            "_view_name": "ProgressView",
            "bar_style": "",
            "description": "",
            "description_tooltip": null,
            "layout": "IPY_MODEL_ed837273abd549488d120bed3a6a3e1d",
            "max": 1,
            "min": 0,
            "orientation": "horizontal",
            "style": "IPY_MODEL_1fe171a74f874c5a9d9b3c3d66f9047e",
            "value": 1
          }
        },
        "81aa5104dc984a999b7fa9da82a6363b": {
          "model_module": "@jupyter-widgets/base",
          "model_name": "LayoutModel",
          "model_module_version": "1.2.0",
          "state": {
            "_model_module": "@jupyter-widgets/base",
            "_model_module_version": "1.2.0",
            "_model_name": "LayoutModel",
            "_view_count": null,
            "_view_module": "@jupyter-widgets/base",
            "_view_module_version": "1.2.0",
            "_view_name": "LayoutView",
            "align_content": null,
            "align_items": null,
            "align_self": null,
            "border": null,
            "bottom": null,
            "display": null,
            "flex": null,
            "flex_flow": null,
            "grid_area": null,
            "grid_auto_columns": null,
            "grid_auto_flow": null,
            "grid_auto_rows": null,
            "grid_column": null,
            "grid_gap": null,
            "grid_row": null,
            "grid_template_areas": null,
            "grid_template_columns": null,
            "grid_template_rows": null,
            "height": null,
            "justify_content": null,
            "justify_items": null,
            "left": null,
            "margin": null,
            "max_height": null,
            "max_width": null,
            "min_height": null,
            "min_width": null,
            "object_fit": null,
            "object_position": null,
            "order": null,
            "overflow": null,
            "overflow_x": null,
            "overflow_y": null,
            "padding": null,
            "right": null,
            "top": null,
            "visibility": null,
            "width": null
          }
        },
        "b228727681a1483eb56d756fc3443451": {
          "model_module": "@jupyter-widgets/base",
          "model_name": "LayoutModel",
          "model_module_version": "1.2.0",
          "state": {
            "_model_module": "@jupyter-widgets/base",
            "_model_module_version": "1.2.0",
            "_model_name": "LayoutModel",
            "_view_count": null,
            "_view_module": "@jupyter-widgets/base",
            "_view_module_version": "1.2.0",
            "_view_name": "LayoutView",
            "align_content": null,
            "align_items": null,
            "align_self": null,
            "border": null,
            "bottom": null,
            "display": null,
            "flex": null,
            "flex_flow": null,
            "grid_area": null,
            "grid_auto_columns": null,
            "grid_auto_flow": null,
            "grid_auto_rows": null,
            "grid_column": null,
            "grid_gap": null,
            "grid_row": null,
            "grid_template_areas": null,
            "grid_template_columns": null,
            "grid_template_rows": null,
            "height": null,
            "justify_content": null,
            "justify_items": null,
            "left": null,
            "margin": null,
            "max_height": null,
            "max_width": null,
            "min_height": null,
            "min_width": null,
            "object_fit": null,
            "object_position": null,
            "order": null,
            "overflow": null,
            "overflow_x": null,
            "overflow_y": null,
            "padding": null,
            "right": null,
            "top": null,
            "visibility": null,
            "width": null
          }
        },
        "20e9192538554366b49bccf11df57e4f": {
          "model_module": "@jupyter-widgets/controls",
          "model_name": "DescriptionStyleModel",
          "model_module_version": "1.5.0",
          "state": {
            "_model_module": "@jupyter-widgets/controls",
            "_model_module_version": "1.5.0",
            "_model_name": "DescriptionStyleModel",
            "_view_count": null,
            "_view_module": "@jupyter-widgets/base",
            "_view_module_version": "1.2.0",
            "_view_name": "StyleView",
            "description_width": ""
          }
        },
        "ed837273abd549488d120bed3a6a3e1d": {
          "model_module": "@jupyter-widgets/base",
          "model_name": "LayoutModel",
          "model_module_version": "1.2.0",
          "state": {
            "_model_module": "@jupyter-widgets/base",
            "_model_module_version": "1.2.0",
            "_model_name": "LayoutModel",
            "_view_count": null,
            "_view_module": "@jupyter-widgets/base",
            "_view_module_version": "1.2.0",
            "_view_name": "LayoutView",
            "align_content": null,
            "align_items": null,
            "align_self": null,
            "border": null,
            "bottom": null,
            "display": null,
            "flex": null,
            "flex_flow": null,
            "grid_area": null,
            "grid_auto_columns": null,
            "grid_auto_flow": null,
            "grid_auto_rows": null,
            "grid_column": null,
            "grid_gap": null,
            "grid_row": null,
            "grid_template_areas": null,
            "grid_template_columns": null,
            "grid_template_rows": null,
            "height": null,
            "justify_content": null,
            "justify_items": null,
            "left": null,
            "margin": null,
            "max_height": null,
            "max_width": null,
            "min_height": null,
            "min_width": null,
            "object_fit": null,
            "object_position": null,
            "order": null,
            "overflow": null,
            "overflow_x": null,
            "overflow_y": null,
            "padding": null,
            "right": null,
            "top": null,
            "visibility": null,
            "width": null
          }
        },
        "1fe171a74f874c5a9d9b3c3d66f9047e": {
          "model_module": "@jupyter-widgets/controls",
          "model_name": "ProgressStyleModel",
          "model_module_version": "1.5.0",
          "state": {
            "_model_module": "@jupyter-widgets/controls",
            "_model_module_version": "1.5.0",
            "_model_name": "ProgressStyleModel",
            "_view_count": null,
            "_view_module": "@jupyter-widgets/base",
            "_view_module_version": "1.2.0",
            "_view_name": "StyleView",
            "bar_color": null,
            "description_width": ""
          }
        },
        "43eb9b7ab2404fbeac380d41a6626ffb": {
          "model_module": "@jupyter-widgets/controls",
          "model_name": "VBoxModel",
          "model_module_version": "1.5.0",
          "state": {
            "_dom_classes": [],
            "_model_module": "@jupyter-widgets/controls",
            "_model_module_version": "1.5.0",
            "_model_name": "VBoxModel",
            "_view_count": null,
            "_view_module": "@jupyter-widgets/controls",
            "_view_module_version": "1.5.0",
            "_view_name": "VBoxView",
            "box_style": "",
            "children": [
              "IPY_MODEL_0086c4dd1e2941699bb927a1d499208a",
              "IPY_MODEL_bc1f17cc21e34334947083248a772d9d"
            ],
            "layout": "IPY_MODEL_d963d2788cbc46bcb2f10f97fd38c935"
          }
        },
        "0086c4dd1e2941699bb927a1d499208a": {
          "model_module": "@jupyter-widgets/controls",
          "model_name": "LabelModel",
          "model_module_version": "1.5.0",
          "state": {
            "_dom_classes": [],
            "_model_module": "@jupyter-widgets/controls",
            "_model_module_version": "1.5.0",
            "_model_name": "LabelModel",
            "_view_count": null,
            "_view_module": "@jupyter-widgets/controls",
            "_view_module_version": "1.5.0",
            "_view_name": "LabelView",
            "description": "",
            "description_tooltip": null,
            "layout": "IPY_MODEL_bbd62188163642a0981052bb4020d635",
            "placeholder": "​",
            "style": "IPY_MODEL_288d704c01dd4ecbb9b24c61149eb183",
            "value": "0.243 MB of 0.243 MB uploaded (0.000 MB deduped)\r"
          }
        },
        "bc1f17cc21e34334947083248a772d9d": {
          "model_module": "@jupyter-widgets/controls",
          "model_name": "FloatProgressModel",
          "model_module_version": "1.5.0",
          "state": {
            "_dom_classes": [],
            "_model_module": "@jupyter-widgets/controls",
            "_model_module_version": "1.5.0",
            "_model_name": "FloatProgressModel",
            "_view_count": null,
            "_view_module": "@jupyter-widgets/controls",
            "_view_module_version": "1.5.0",
            "_view_name": "ProgressView",
            "bar_style": "",
            "description": "",
            "description_tooltip": null,
            "layout": "IPY_MODEL_d8a39906d9ea49c68791d87eb16abd73",
            "max": 1,
            "min": 0,
            "orientation": "horizontal",
            "style": "IPY_MODEL_4daba5ca9741466fb817a0ce2c5c8356",
            "value": 1
          }
        },
        "d963d2788cbc46bcb2f10f97fd38c935": {
          "model_module": "@jupyter-widgets/base",
          "model_name": "LayoutModel",
          "model_module_version": "1.2.0",
          "state": {
            "_model_module": "@jupyter-widgets/base",
            "_model_module_version": "1.2.0",
            "_model_name": "LayoutModel",
            "_view_count": null,
            "_view_module": "@jupyter-widgets/base",
            "_view_module_version": "1.2.0",
            "_view_name": "LayoutView",
            "align_content": null,
            "align_items": null,
            "align_self": null,
            "border": null,
            "bottom": null,
            "display": null,
            "flex": null,
            "flex_flow": null,
            "grid_area": null,
            "grid_auto_columns": null,
            "grid_auto_flow": null,
            "grid_auto_rows": null,
            "grid_column": null,
            "grid_gap": null,
            "grid_row": null,
            "grid_template_areas": null,
            "grid_template_columns": null,
            "grid_template_rows": null,
            "height": null,
            "justify_content": null,
            "justify_items": null,
            "left": null,
            "margin": null,
            "max_height": null,
            "max_width": null,
            "min_height": null,
            "min_width": null,
            "object_fit": null,
            "object_position": null,
            "order": null,
            "overflow": null,
            "overflow_x": null,
            "overflow_y": null,
            "padding": null,
            "right": null,
            "top": null,
            "visibility": null,
            "width": null
          }
        },
        "bbd62188163642a0981052bb4020d635": {
          "model_module": "@jupyter-widgets/base",
          "model_name": "LayoutModel",
          "model_module_version": "1.2.0",
          "state": {
            "_model_module": "@jupyter-widgets/base",
            "_model_module_version": "1.2.0",
            "_model_name": "LayoutModel",
            "_view_count": null,
            "_view_module": "@jupyter-widgets/base",
            "_view_module_version": "1.2.0",
            "_view_name": "LayoutView",
            "align_content": null,
            "align_items": null,
            "align_self": null,
            "border": null,
            "bottom": null,
            "display": null,
            "flex": null,
            "flex_flow": null,
            "grid_area": null,
            "grid_auto_columns": null,
            "grid_auto_flow": null,
            "grid_auto_rows": null,
            "grid_column": null,
            "grid_gap": null,
            "grid_row": null,
            "grid_template_areas": null,
            "grid_template_columns": null,
            "grid_template_rows": null,
            "height": null,
            "justify_content": null,
            "justify_items": null,
            "left": null,
            "margin": null,
            "max_height": null,
            "max_width": null,
            "min_height": null,
            "min_width": null,
            "object_fit": null,
            "object_position": null,
            "order": null,
            "overflow": null,
            "overflow_x": null,
            "overflow_y": null,
            "padding": null,
            "right": null,
            "top": null,
            "visibility": null,
            "width": null
          }
        },
        "288d704c01dd4ecbb9b24c61149eb183": {
          "model_module": "@jupyter-widgets/controls",
          "model_name": "DescriptionStyleModel",
          "model_module_version": "1.5.0",
          "state": {
            "_model_module": "@jupyter-widgets/controls",
            "_model_module_version": "1.5.0",
            "_model_name": "DescriptionStyleModel",
            "_view_count": null,
            "_view_module": "@jupyter-widgets/base",
            "_view_module_version": "1.2.0",
            "_view_name": "StyleView",
            "description_width": ""
          }
        },
        "d8a39906d9ea49c68791d87eb16abd73": {
          "model_module": "@jupyter-widgets/base",
          "model_name": "LayoutModel",
          "model_module_version": "1.2.0",
          "state": {
            "_model_module": "@jupyter-widgets/base",
            "_model_module_version": "1.2.0",
            "_model_name": "LayoutModel",
            "_view_count": null,
            "_view_module": "@jupyter-widgets/base",
            "_view_module_version": "1.2.0",
            "_view_name": "LayoutView",
            "align_content": null,
            "align_items": null,
            "align_self": null,
            "border": null,
            "bottom": null,
            "display": null,
            "flex": null,
            "flex_flow": null,
            "grid_area": null,
            "grid_auto_columns": null,
            "grid_auto_flow": null,
            "grid_auto_rows": null,
            "grid_column": null,
            "grid_gap": null,
            "grid_row": null,
            "grid_template_areas": null,
            "grid_template_columns": null,
            "grid_template_rows": null,
            "height": null,
            "justify_content": null,
            "justify_items": null,
            "left": null,
            "margin": null,
            "max_height": null,
            "max_width": null,
            "min_height": null,
            "min_width": null,
            "object_fit": null,
            "object_position": null,
            "order": null,
            "overflow": null,
            "overflow_x": null,
            "overflow_y": null,
            "padding": null,
            "right": null,
            "top": null,
            "visibility": null,
            "width": null
          }
        },
        "4daba5ca9741466fb817a0ce2c5c8356": {
          "model_module": "@jupyter-widgets/controls",
          "model_name": "ProgressStyleModel",
          "model_module_version": "1.5.0",
          "state": {
            "_model_module": "@jupyter-widgets/controls",
            "_model_module_version": "1.5.0",
            "_model_name": "ProgressStyleModel",
            "_view_count": null,
            "_view_module": "@jupyter-widgets/base",
            "_view_module_version": "1.2.0",
            "_view_name": "StyleView",
            "bar_color": null,
            "description_width": ""
          }
        },
        "f57cd927798b40a7ad83488da655f0d5": {
          "model_module": "@jupyter-widgets/controls",
          "model_name": "VBoxModel",
          "model_module_version": "1.5.0",
          "state": {
            "_dom_classes": [],
            "_model_module": "@jupyter-widgets/controls",
            "_model_module_version": "1.5.0",
            "_model_name": "VBoxModel",
            "_view_count": null,
            "_view_module": "@jupyter-widgets/controls",
            "_view_module_version": "1.5.0",
            "_view_name": "VBoxView",
            "box_style": "",
            "children": [
              "IPY_MODEL_fd0d3e29dc3a414482bc13d6d9c87f21",
              "IPY_MODEL_6abd406d532943f8b33876c9e51730a5"
            ],
            "layout": "IPY_MODEL_98dfb5fc041d4673bcbfb1520ac1f3a7"
          }
        },
        "fd0d3e29dc3a414482bc13d6d9c87f21": {
          "model_module": "@jupyter-widgets/controls",
          "model_name": "LabelModel",
          "model_module_version": "1.5.0",
          "state": {
            "_dom_classes": [],
            "_model_module": "@jupyter-widgets/controls",
            "_model_module_version": "1.5.0",
            "_model_name": "LabelModel",
            "_view_count": null,
            "_view_module": "@jupyter-widgets/controls",
            "_view_module_version": "1.5.0",
            "_view_name": "LabelView",
            "description": "",
            "description_tooltip": null,
            "layout": "IPY_MODEL_00610c9ca4914fd5a1d339a9688d50e9",
            "placeholder": "​",
            "style": "IPY_MODEL_4e65fff7b9d94ee69c3050a8231d7ce6",
            "value": "0.216 MB of 0.216 MB uploaded (0.000 MB deduped)\r"
          }
        },
        "6abd406d532943f8b33876c9e51730a5": {
          "model_module": "@jupyter-widgets/controls",
          "model_name": "FloatProgressModel",
          "model_module_version": "1.5.0",
          "state": {
            "_dom_classes": [],
            "_model_module": "@jupyter-widgets/controls",
            "_model_module_version": "1.5.0",
            "_model_name": "FloatProgressModel",
            "_view_count": null,
            "_view_module": "@jupyter-widgets/controls",
            "_view_module_version": "1.5.0",
            "_view_name": "ProgressView",
            "bar_style": "",
            "description": "",
            "description_tooltip": null,
            "layout": "IPY_MODEL_bf5afd0e3acf46bba819b1f98f5b271b",
            "max": 1,
            "min": 0,
            "orientation": "horizontal",
            "style": "IPY_MODEL_97dd2529f47d420c8a7a1d3937d0e322",
            "value": 1
          }
        },
        "98dfb5fc041d4673bcbfb1520ac1f3a7": {
          "model_module": "@jupyter-widgets/base",
          "model_name": "LayoutModel",
          "model_module_version": "1.2.0",
          "state": {
            "_model_module": "@jupyter-widgets/base",
            "_model_module_version": "1.2.0",
            "_model_name": "LayoutModel",
            "_view_count": null,
            "_view_module": "@jupyter-widgets/base",
            "_view_module_version": "1.2.0",
            "_view_name": "LayoutView",
            "align_content": null,
            "align_items": null,
            "align_self": null,
            "border": null,
            "bottom": null,
            "display": null,
            "flex": null,
            "flex_flow": null,
            "grid_area": null,
            "grid_auto_columns": null,
            "grid_auto_flow": null,
            "grid_auto_rows": null,
            "grid_column": null,
            "grid_gap": null,
            "grid_row": null,
            "grid_template_areas": null,
            "grid_template_columns": null,
            "grid_template_rows": null,
            "height": null,
            "justify_content": null,
            "justify_items": null,
            "left": null,
            "margin": null,
            "max_height": null,
            "max_width": null,
            "min_height": null,
            "min_width": null,
            "object_fit": null,
            "object_position": null,
            "order": null,
            "overflow": null,
            "overflow_x": null,
            "overflow_y": null,
            "padding": null,
            "right": null,
            "top": null,
            "visibility": null,
            "width": null
          }
        },
        "00610c9ca4914fd5a1d339a9688d50e9": {
          "model_module": "@jupyter-widgets/base",
          "model_name": "LayoutModel",
          "model_module_version": "1.2.0",
          "state": {
            "_model_module": "@jupyter-widgets/base",
            "_model_module_version": "1.2.0",
            "_model_name": "LayoutModel",
            "_view_count": null,
            "_view_module": "@jupyter-widgets/base",
            "_view_module_version": "1.2.0",
            "_view_name": "LayoutView",
            "align_content": null,
            "align_items": null,
            "align_self": null,
            "border": null,
            "bottom": null,
            "display": null,
            "flex": null,
            "flex_flow": null,
            "grid_area": null,
            "grid_auto_columns": null,
            "grid_auto_flow": null,
            "grid_auto_rows": null,
            "grid_column": null,
            "grid_gap": null,
            "grid_row": null,
            "grid_template_areas": null,
            "grid_template_columns": null,
            "grid_template_rows": null,
            "height": null,
            "justify_content": null,
            "justify_items": null,
            "left": null,
            "margin": null,
            "max_height": null,
            "max_width": null,
            "min_height": null,
            "min_width": null,
            "object_fit": null,
            "object_position": null,
            "order": null,
            "overflow": null,
            "overflow_x": null,
            "overflow_y": null,
            "padding": null,
            "right": null,
            "top": null,
            "visibility": null,
            "width": null
          }
        },
        "4e65fff7b9d94ee69c3050a8231d7ce6": {
          "model_module": "@jupyter-widgets/controls",
          "model_name": "DescriptionStyleModel",
          "model_module_version": "1.5.0",
          "state": {
            "_model_module": "@jupyter-widgets/controls",
            "_model_module_version": "1.5.0",
            "_model_name": "DescriptionStyleModel",
            "_view_count": null,
            "_view_module": "@jupyter-widgets/base",
            "_view_module_version": "1.2.0",
            "_view_name": "StyleView",
            "description_width": ""
          }
        },
        "bf5afd0e3acf46bba819b1f98f5b271b": {
          "model_module": "@jupyter-widgets/base",
          "model_name": "LayoutModel",
          "model_module_version": "1.2.0",
          "state": {
            "_model_module": "@jupyter-widgets/base",
            "_model_module_version": "1.2.0",
            "_model_name": "LayoutModel",
            "_view_count": null,
            "_view_module": "@jupyter-widgets/base",
            "_view_module_version": "1.2.0",
            "_view_name": "LayoutView",
            "align_content": null,
            "align_items": null,
            "align_self": null,
            "border": null,
            "bottom": null,
            "display": null,
            "flex": null,
            "flex_flow": null,
            "grid_area": null,
            "grid_auto_columns": null,
            "grid_auto_flow": null,
            "grid_auto_rows": null,
            "grid_column": null,
            "grid_gap": null,
            "grid_row": null,
            "grid_template_areas": null,
            "grid_template_columns": null,
            "grid_template_rows": null,
            "height": null,
            "justify_content": null,
            "justify_items": null,
            "left": null,
            "margin": null,
            "max_height": null,
            "max_width": null,
            "min_height": null,
            "min_width": null,
            "object_fit": null,
            "object_position": null,
            "order": null,
            "overflow": null,
            "overflow_x": null,
            "overflow_y": null,
            "padding": null,
            "right": null,
            "top": null,
            "visibility": null,
            "width": null
          }
        },
        "97dd2529f47d420c8a7a1d3937d0e322": {
          "model_module": "@jupyter-widgets/controls",
          "model_name": "ProgressStyleModel",
          "model_module_version": "1.5.0",
          "state": {
            "_model_module": "@jupyter-widgets/controls",
            "_model_module_version": "1.5.0",
            "_model_name": "ProgressStyleModel",
            "_view_count": null,
            "_view_module": "@jupyter-widgets/base",
            "_view_module_version": "1.2.0",
            "_view_name": "StyleView",
            "bar_color": null,
            "description_width": ""
          }
        },
        "f08e3b055a674ae4ac2ad18a6f23c26c": {
          "model_module": "@jupyter-widgets/controls",
          "model_name": "VBoxModel",
          "model_module_version": "1.5.0",
          "state": {
            "_dom_classes": [],
            "_model_module": "@jupyter-widgets/controls",
            "_model_module_version": "1.5.0",
            "_model_name": "VBoxModel",
            "_view_count": null,
            "_view_module": "@jupyter-widgets/controls",
            "_view_module_version": "1.5.0",
            "_view_name": "VBoxView",
            "box_style": "",
            "children": [
              "IPY_MODEL_1785cbe815914da8a2a532065899542b",
              "IPY_MODEL_322dea17b8e04ac2a559935139cd007c"
            ],
            "layout": "IPY_MODEL_798c7b7ea47a45b39bc1aa558a22abb3"
          }
        },
        "1785cbe815914da8a2a532065899542b": {
          "model_module": "@jupyter-widgets/controls",
          "model_name": "LabelModel",
          "model_module_version": "1.5.0",
          "state": {
            "_dom_classes": [],
            "_model_module": "@jupyter-widgets/controls",
            "_model_module_version": "1.5.0",
            "_model_name": "LabelModel",
            "_view_count": null,
            "_view_module": "@jupyter-widgets/controls",
            "_view_module_version": "1.5.0",
            "_view_name": "LabelView",
            "description": "",
            "description_tooltip": null,
            "layout": "IPY_MODEL_dd2bcc10be41493493ca7e009fb43b3a",
            "placeholder": "​",
            "style": "IPY_MODEL_c9d4d6b9850f4f819ba1aea735fd18cc",
            "value": "0.226 MB of 0.226 MB uploaded (0.000 MB deduped)\r"
          }
        },
        "322dea17b8e04ac2a559935139cd007c": {
          "model_module": "@jupyter-widgets/controls",
          "model_name": "FloatProgressModel",
          "model_module_version": "1.5.0",
          "state": {
            "_dom_classes": [],
            "_model_module": "@jupyter-widgets/controls",
            "_model_module_version": "1.5.0",
            "_model_name": "FloatProgressModel",
            "_view_count": null,
            "_view_module": "@jupyter-widgets/controls",
            "_view_module_version": "1.5.0",
            "_view_name": "ProgressView",
            "bar_style": "",
            "description": "",
            "description_tooltip": null,
            "layout": "IPY_MODEL_67c1b78c0309494da9cc1b8f5ddb559e",
            "max": 1,
            "min": 0,
            "orientation": "horizontal",
            "style": "IPY_MODEL_404747a6aed2478a82338f15d77965af",
            "value": 1
          }
        },
        "798c7b7ea47a45b39bc1aa558a22abb3": {
          "model_module": "@jupyter-widgets/base",
          "model_name": "LayoutModel",
          "model_module_version": "1.2.0",
          "state": {
            "_model_module": "@jupyter-widgets/base",
            "_model_module_version": "1.2.0",
            "_model_name": "LayoutModel",
            "_view_count": null,
            "_view_module": "@jupyter-widgets/base",
            "_view_module_version": "1.2.0",
            "_view_name": "LayoutView",
            "align_content": null,
            "align_items": null,
            "align_self": null,
            "border": null,
            "bottom": null,
            "display": null,
            "flex": null,
            "flex_flow": null,
            "grid_area": null,
            "grid_auto_columns": null,
            "grid_auto_flow": null,
            "grid_auto_rows": null,
            "grid_column": null,
            "grid_gap": null,
            "grid_row": null,
            "grid_template_areas": null,
            "grid_template_columns": null,
            "grid_template_rows": null,
            "height": null,
            "justify_content": null,
            "justify_items": null,
            "left": null,
            "margin": null,
            "max_height": null,
            "max_width": null,
            "min_height": null,
            "min_width": null,
            "object_fit": null,
            "object_position": null,
            "order": null,
            "overflow": null,
            "overflow_x": null,
            "overflow_y": null,
            "padding": null,
            "right": null,
            "top": null,
            "visibility": null,
            "width": null
          }
        },
        "dd2bcc10be41493493ca7e009fb43b3a": {
          "model_module": "@jupyter-widgets/base",
          "model_name": "LayoutModel",
          "model_module_version": "1.2.0",
          "state": {
            "_model_module": "@jupyter-widgets/base",
            "_model_module_version": "1.2.0",
            "_model_name": "LayoutModel",
            "_view_count": null,
            "_view_module": "@jupyter-widgets/base",
            "_view_module_version": "1.2.0",
            "_view_name": "LayoutView",
            "align_content": null,
            "align_items": null,
            "align_self": null,
            "border": null,
            "bottom": null,
            "display": null,
            "flex": null,
            "flex_flow": null,
            "grid_area": null,
            "grid_auto_columns": null,
            "grid_auto_flow": null,
            "grid_auto_rows": null,
            "grid_column": null,
            "grid_gap": null,
            "grid_row": null,
            "grid_template_areas": null,
            "grid_template_columns": null,
            "grid_template_rows": null,
            "height": null,
            "justify_content": null,
            "justify_items": null,
            "left": null,
            "margin": null,
            "max_height": null,
            "max_width": null,
            "min_height": null,
            "min_width": null,
            "object_fit": null,
            "object_position": null,
            "order": null,
            "overflow": null,
            "overflow_x": null,
            "overflow_y": null,
            "padding": null,
            "right": null,
            "top": null,
            "visibility": null,
            "width": null
          }
        },
        "c9d4d6b9850f4f819ba1aea735fd18cc": {
          "model_module": "@jupyter-widgets/controls",
          "model_name": "DescriptionStyleModel",
          "model_module_version": "1.5.0",
          "state": {
            "_model_module": "@jupyter-widgets/controls",
            "_model_module_version": "1.5.0",
            "_model_name": "DescriptionStyleModel",
            "_view_count": null,
            "_view_module": "@jupyter-widgets/base",
            "_view_module_version": "1.2.0",
            "_view_name": "StyleView",
            "description_width": ""
          }
        },
        "67c1b78c0309494da9cc1b8f5ddb559e": {
          "model_module": "@jupyter-widgets/base",
          "model_name": "LayoutModel",
          "model_module_version": "1.2.0",
          "state": {
            "_model_module": "@jupyter-widgets/base",
            "_model_module_version": "1.2.0",
            "_model_name": "LayoutModel",
            "_view_count": null,
            "_view_module": "@jupyter-widgets/base",
            "_view_module_version": "1.2.0",
            "_view_name": "LayoutView",
            "align_content": null,
            "align_items": null,
            "align_self": null,
            "border": null,
            "bottom": null,
            "display": null,
            "flex": null,
            "flex_flow": null,
            "grid_area": null,
            "grid_auto_columns": null,
            "grid_auto_flow": null,
            "grid_auto_rows": null,
            "grid_column": null,
            "grid_gap": null,
            "grid_row": null,
            "grid_template_areas": null,
            "grid_template_columns": null,
            "grid_template_rows": null,
            "height": null,
            "justify_content": null,
            "justify_items": null,
            "left": null,
            "margin": null,
            "max_height": null,
            "max_width": null,
            "min_height": null,
            "min_width": null,
            "object_fit": null,
            "object_position": null,
            "order": null,
            "overflow": null,
            "overflow_x": null,
            "overflow_y": null,
            "padding": null,
            "right": null,
            "top": null,
            "visibility": null,
            "width": null
          }
        },
        "404747a6aed2478a82338f15d77965af": {
          "model_module": "@jupyter-widgets/controls",
          "model_name": "ProgressStyleModel",
          "model_module_version": "1.5.0",
          "state": {
            "_model_module": "@jupyter-widgets/controls",
            "_model_module_version": "1.5.0",
            "_model_name": "ProgressStyleModel",
            "_view_count": null,
            "_view_module": "@jupyter-widgets/base",
            "_view_module_version": "1.2.0",
            "_view_name": "StyleView",
            "bar_color": null,
            "description_width": ""
          }
        },
        "f859a7a87b194aecb39e4be09461582a": {
          "model_module": "@jupyter-widgets/controls",
          "model_name": "VBoxModel",
          "model_module_version": "1.5.0",
          "state": {
            "_dom_classes": [],
            "_model_module": "@jupyter-widgets/controls",
            "_model_module_version": "1.5.0",
            "_model_name": "VBoxModel",
            "_view_count": null,
            "_view_module": "@jupyter-widgets/controls",
            "_view_module_version": "1.5.0",
            "_view_name": "VBoxView",
            "box_style": "",
            "children": [
              "IPY_MODEL_ae45cad237b3448fbd7905bcd20bd205",
              "IPY_MODEL_b0ead58121004478b6610733c80b4f74"
            ],
            "layout": "IPY_MODEL_8a96161f512e408e99119c486810d55c"
          }
        },
        "ae45cad237b3448fbd7905bcd20bd205": {
          "model_module": "@jupyter-widgets/controls",
          "model_name": "LabelModel",
          "model_module_version": "1.5.0",
          "state": {
            "_dom_classes": [],
            "_model_module": "@jupyter-widgets/controls",
            "_model_module_version": "1.5.0",
            "_model_name": "LabelModel",
            "_view_count": null,
            "_view_module": "@jupyter-widgets/controls",
            "_view_module_version": "1.5.0",
            "_view_name": "LabelView",
            "description": "",
            "description_tooltip": null,
            "layout": "IPY_MODEL_8d464fea130049c3acc00a172c74fdb3",
            "placeholder": "​",
            "style": "IPY_MODEL_c4bc8d57b76d496282c0921663132e20",
            "value": "0.216 MB of 0.216 MB uploaded (0.000 MB deduped)\r"
          }
        },
        "b0ead58121004478b6610733c80b4f74": {
          "model_module": "@jupyter-widgets/controls",
          "model_name": "FloatProgressModel",
          "model_module_version": "1.5.0",
          "state": {
            "_dom_classes": [],
            "_model_module": "@jupyter-widgets/controls",
            "_model_module_version": "1.5.0",
            "_model_name": "FloatProgressModel",
            "_view_count": null,
            "_view_module": "@jupyter-widgets/controls",
            "_view_module_version": "1.5.0",
            "_view_name": "ProgressView",
            "bar_style": "",
            "description": "",
            "description_tooltip": null,
            "layout": "IPY_MODEL_25ffe9f9c59d40c884b26c30acc233ed",
            "max": 1,
            "min": 0,
            "orientation": "horizontal",
            "style": "IPY_MODEL_48a0e0949ed94b9e82aa90327148b7ab",
            "value": 1
          }
        },
        "8a96161f512e408e99119c486810d55c": {
          "model_module": "@jupyter-widgets/base",
          "model_name": "LayoutModel",
          "model_module_version": "1.2.0",
          "state": {
            "_model_module": "@jupyter-widgets/base",
            "_model_module_version": "1.2.0",
            "_model_name": "LayoutModel",
            "_view_count": null,
            "_view_module": "@jupyter-widgets/base",
            "_view_module_version": "1.2.0",
            "_view_name": "LayoutView",
            "align_content": null,
            "align_items": null,
            "align_self": null,
            "border": null,
            "bottom": null,
            "display": null,
            "flex": null,
            "flex_flow": null,
            "grid_area": null,
            "grid_auto_columns": null,
            "grid_auto_flow": null,
            "grid_auto_rows": null,
            "grid_column": null,
            "grid_gap": null,
            "grid_row": null,
            "grid_template_areas": null,
            "grid_template_columns": null,
            "grid_template_rows": null,
            "height": null,
            "justify_content": null,
            "justify_items": null,
            "left": null,
            "margin": null,
            "max_height": null,
            "max_width": null,
            "min_height": null,
            "min_width": null,
            "object_fit": null,
            "object_position": null,
            "order": null,
            "overflow": null,
            "overflow_x": null,
            "overflow_y": null,
            "padding": null,
            "right": null,
            "top": null,
            "visibility": null,
            "width": null
          }
        },
        "8d464fea130049c3acc00a172c74fdb3": {
          "model_module": "@jupyter-widgets/base",
          "model_name": "LayoutModel",
          "model_module_version": "1.2.0",
          "state": {
            "_model_module": "@jupyter-widgets/base",
            "_model_module_version": "1.2.0",
            "_model_name": "LayoutModel",
            "_view_count": null,
            "_view_module": "@jupyter-widgets/base",
            "_view_module_version": "1.2.0",
            "_view_name": "LayoutView",
            "align_content": null,
            "align_items": null,
            "align_self": null,
            "border": null,
            "bottom": null,
            "display": null,
            "flex": null,
            "flex_flow": null,
            "grid_area": null,
            "grid_auto_columns": null,
            "grid_auto_flow": null,
            "grid_auto_rows": null,
            "grid_column": null,
            "grid_gap": null,
            "grid_row": null,
            "grid_template_areas": null,
            "grid_template_columns": null,
            "grid_template_rows": null,
            "height": null,
            "justify_content": null,
            "justify_items": null,
            "left": null,
            "margin": null,
            "max_height": null,
            "max_width": null,
            "min_height": null,
            "min_width": null,
            "object_fit": null,
            "object_position": null,
            "order": null,
            "overflow": null,
            "overflow_x": null,
            "overflow_y": null,
            "padding": null,
            "right": null,
            "top": null,
            "visibility": null,
            "width": null
          }
        },
        "c4bc8d57b76d496282c0921663132e20": {
          "model_module": "@jupyter-widgets/controls",
          "model_name": "DescriptionStyleModel",
          "model_module_version": "1.5.0",
          "state": {
            "_model_module": "@jupyter-widgets/controls",
            "_model_module_version": "1.5.0",
            "_model_name": "DescriptionStyleModel",
            "_view_count": null,
            "_view_module": "@jupyter-widgets/base",
            "_view_module_version": "1.2.0",
            "_view_name": "StyleView",
            "description_width": ""
          }
        },
        "25ffe9f9c59d40c884b26c30acc233ed": {
          "model_module": "@jupyter-widgets/base",
          "model_name": "LayoutModel",
          "model_module_version": "1.2.0",
          "state": {
            "_model_module": "@jupyter-widgets/base",
            "_model_module_version": "1.2.0",
            "_model_name": "LayoutModel",
            "_view_count": null,
            "_view_module": "@jupyter-widgets/base",
            "_view_module_version": "1.2.0",
            "_view_name": "LayoutView",
            "align_content": null,
            "align_items": null,
            "align_self": null,
            "border": null,
            "bottom": null,
            "display": null,
            "flex": null,
            "flex_flow": null,
            "grid_area": null,
            "grid_auto_columns": null,
            "grid_auto_flow": null,
            "grid_auto_rows": null,
            "grid_column": null,
            "grid_gap": null,
            "grid_row": null,
            "grid_template_areas": null,
            "grid_template_columns": null,
            "grid_template_rows": null,
            "height": null,
            "justify_content": null,
            "justify_items": null,
            "left": null,
            "margin": null,
            "max_height": null,
            "max_width": null,
            "min_height": null,
            "min_width": null,
            "object_fit": null,
            "object_position": null,
            "order": null,
            "overflow": null,
            "overflow_x": null,
            "overflow_y": null,
            "padding": null,
            "right": null,
            "top": null,
            "visibility": null,
            "width": null
          }
        },
        "48a0e0949ed94b9e82aa90327148b7ab": {
          "model_module": "@jupyter-widgets/controls",
          "model_name": "ProgressStyleModel",
          "model_module_version": "1.5.0",
          "state": {
            "_model_module": "@jupyter-widgets/controls",
            "_model_module_version": "1.5.0",
            "_model_name": "ProgressStyleModel",
            "_view_count": null,
            "_view_module": "@jupyter-widgets/base",
            "_view_module_version": "1.2.0",
            "_view_name": "StyleView",
            "bar_color": null,
            "description_width": ""
          }
        },
        "c2ed41369666419eb82a59fba2ccadb8": {
          "model_module": "@jupyter-widgets/controls",
          "model_name": "VBoxModel",
          "model_module_version": "1.5.0",
          "state": {
            "_dom_classes": [],
            "_model_module": "@jupyter-widgets/controls",
            "_model_module_version": "1.5.0",
            "_model_name": "VBoxModel",
            "_view_count": null,
            "_view_module": "@jupyter-widgets/controls",
            "_view_module_version": "1.5.0",
            "_view_name": "VBoxView",
            "box_style": "",
            "children": [
              "IPY_MODEL_09b1a82fc4284fdfb9b76ad9e0e625f5",
              "IPY_MODEL_b22aba936eec4af789df8d4bd3870047"
            ],
            "layout": "IPY_MODEL_7b23557617e345368e971d878a854570"
          }
        },
        "09b1a82fc4284fdfb9b76ad9e0e625f5": {
          "model_module": "@jupyter-widgets/controls",
          "model_name": "LabelModel",
          "model_module_version": "1.5.0",
          "state": {
            "_dom_classes": [],
            "_model_module": "@jupyter-widgets/controls",
            "_model_module_version": "1.5.0",
            "_model_name": "LabelModel",
            "_view_count": null,
            "_view_module": "@jupyter-widgets/controls",
            "_view_module_version": "1.5.0",
            "_view_name": "LabelView",
            "description": "",
            "description_tooltip": null,
            "layout": "IPY_MODEL_20d049468a984814883217177d5d841a",
            "placeholder": "​",
            "style": "IPY_MODEL_c94f0860983644028ff9d5b4dcf4beb6",
            "value": "0.225 MB of 0.225 MB uploaded (0.000 MB deduped)\r"
          }
        },
        "b22aba936eec4af789df8d4bd3870047": {
          "model_module": "@jupyter-widgets/controls",
          "model_name": "FloatProgressModel",
          "model_module_version": "1.5.0",
          "state": {
            "_dom_classes": [],
            "_model_module": "@jupyter-widgets/controls",
            "_model_module_version": "1.5.0",
            "_model_name": "FloatProgressModel",
            "_view_count": null,
            "_view_module": "@jupyter-widgets/controls",
            "_view_module_version": "1.5.0",
            "_view_name": "ProgressView",
            "bar_style": "",
            "description": "",
            "description_tooltip": null,
            "layout": "IPY_MODEL_588827d490354162a13efa45481de38b",
            "max": 1,
            "min": 0,
            "orientation": "horizontal",
            "style": "IPY_MODEL_8dfbb5d8cc554660acb703d55f6865ab",
            "value": 1
          }
        },
        "7b23557617e345368e971d878a854570": {
          "model_module": "@jupyter-widgets/base",
          "model_name": "LayoutModel",
          "model_module_version": "1.2.0",
          "state": {
            "_model_module": "@jupyter-widgets/base",
            "_model_module_version": "1.2.0",
            "_model_name": "LayoutModel",
            "_view_count": null,
            "_view_module": "@jupyter-widgets/base",
            "_view_module_version": "1.2.0",
            "_view_name": "LayoutView",
            "align_content": null,
            "align_items": null,
            "align_self": null,
            "border": null,
            "bottom": null,
            "display": null,
            "flex": null,
            "flex_flow": null,
            "grid_area": null,
            "grid_auto_columns": null,
            "grid_auto_flow": null,
            "grid_auto_rows": null,
            "grid_column": null,
            "grid_gap": null,
            "grid_row": null,
            "grid_template_areas": null,
            "grid_template_columns": null,
            "grid_template_rows": null,
            "height": null,
            "justify_content": null,
            "justify_items": null,
            "left": null,
            "margin": null,
            "max_height": null,
            "max_width": null,
            "min_height": null,
            "min_width": null,
            "object_fit": null,
            "object_position": null,
            "order": null,
            "overflow": null,
            "overflow_x": null,
            "overflow_y": null,
            "padding": null,
            "right": null,
            "top": null,
            "visibility": null,
            "width": null
          }
        },
        "20d049468a984814883217177d5d841a": {
          "model_module": "@jupyter-widgets/base",
          "model_name": "LayoutModel",
          "model_module_version": "1.2.0",
          "state": {
            "_model_module": "@jupyter-widgets/base",
            "_model_module_version": "1.2.0",
            "_model_name": "LayoutModel",
            "_view_count": null,
            "_view_module": "@jupyter-widgets/base",
            "_view_module_version": "1.2.0",
            "_view_name": "LayoutView",
            "align_content": null,
            "align_items": null,
            "align_self": null,
            "border": null,
            "bottom": null,
            "display": null,
            "flex": null,
            "flex_flow": null,
            "grid_area": null,
            "grid_auto_columns": null,
            "grid_auto_flow": null,
            "grid_auto_rows": null,
            "grid_column": null,
            "grid_gap": null,
            "grid_row": null,
            "grid_template_areas": null,
            "grid_template_columns": null,
            "grid_template_rows": null,
            "height": null,
            "justify_content": null,
            "justify_items": null,
            "left": null,
            "margin": null,
            "max_height": null,
            "max_width": null,
            "min_height": null,
            "min_width": null,
            "object_fit": null,
            "object_position": null,
            "order": null,
            "overflow": null,
            "overflow_x": null,
            "overflow_y": null,
            "padding": null,
            "right": null,
            "top": null,
            "visibility": null,
            "width": null
          }
        },
        "c94f0860983644028ff9d5b4dcf4beb6": {
          "model_module": "@jupyter-widgets/controls",
          "model_name": "DescriptionStyleModel",
          "model_module_version": "1.5.0",
          "state": {
            "_model_module": "@jupyter-widgets/controls",
            "_model_module_version": "1.5.0",
            "_model_name": "DescriptionStyleModel",
            "_view_count": null,
            "_view_module": "@jupyter-widgets/base",
            "_view_module_version": "1.2.0",
            "_view_name": "StyleView",
            "description_width": ""
          }
        },
        "588827d490354162a13efa45481de38b": {
          "model_module": "@jupyter-widgets/base",
          "model_name": "LayoutModel",
          "model_module_version": "1.2.0",
          "state": {
            "_model_module": "@jupyter-widgets/base",
            "_model_module_version": "1.2.0",
            "_model_name": "LayoutModel",
            "_view_count": null,
            "_view_module": "@jupyter-widgets/base",
            "_view_module_version": "1.2.0",
            "_view_name": "LayoutView",
            "align_content": null,
            "align_items": null,
            "align_self": null,
            "border": null,
            "bottom": null,
            "display": null,
            "flex": null,
            "flex_flow": null,
            "grid_area": null,
            "grid_auto_columns": null,
            "grid_auto_flow": null,
            "grid_auto_rows": null,
            "grid_column": null,
            "grid_gap": null,
            "grid_row": null,
            "grid_template_areas": null,
            "grid_template_columns": null,
            "grid_template_rows": null,
            "height": null,
            "justify_content": null,
            "justify_items": null,
            "left": null,
            "margin": null,
            "max_height": null,
            "max_width": null,
            "min_height": null,
            "min_width": null,
            "object_fit": null,
            "object_position": null,
            "order": null,
            "overflow": null,
            "overflow_x": null,
            "overflow_y": null,
            "padding": null,
            "right": null,
            "top": null,
            "visibility": null,
            "width": null
          }
        },
        "8dfbb5d8cc554660acb703d55f6865ab": {
          "model_module": "@jupyter-widgets/controls",
          "model_name": "ProgressStyleModel",
          "model_module_version": "1.5.0",
          "state": {
            "_model_module": "@jupyter-widgets/controls",
            "_model_module_version": "1.5.0",
            "_model_name": "ProgressStyleModel",
            "_view_count": null,
            "_view_module": "@jupyter-widgets/base",
            "_view_module_version": "1.2.0",
            "_view_name": "StyleView",
            "bar_color": null,
            "description_width": ""
          }
        }
      }
    }
  },
  "cells": [
    {
      "cell_type": "code",
      "source": [
        "!pip install wandb\n",
        "!wandb login\n"
      ],
      "metadata": {
        "id": "CUJQBMtPLt-O"
      },
      "execution_count": null,
      "outputs": []
    },
    {
      "cell_type": "code",
      "execution_count": null,
      "metadata": {
        "id": "oXID75aKIty7"
      },
      "outputs": [],
      "source": [
        "from tensorflow import keras\n",
        "from tensorflow.keras.layers import Input, Conv2D, MaxPooling2D, Dropout, UpSampling2D, Conv2DTranspose\n",
        "from tensorflow.keras.models import Model\n",
        "import tensorflow.keras.backend as K\n",
        "from PIL import Image, ImageOps\n",
        "from skimage.metrics import structural_similarity as ssim\n",
        "\n",
        "import numpy as np\n",
        "import tensorflow as tf\n",
        "import matplotlib.pyplot as plt\n",
        "\n",
        "import os\n",
        "\n",
        "from tensorflow.keras.datasets import fashion_mnist, cifar10"
      ]
    },
    {
      "cell_type": "code",
      "source": [
        "import wandb\n",
        "from wandb.keras import WandbCallback\n",
        "\n",
        "wandb.init(project=\"autoencoders_conv\", entity=\"csc2231-yash-siphelele\")"
      ],
      "metadata": {
        "colab": {
          "base_uri": "https://localhost:8080/",
          "height": 107
        },
        "id": "aTkuZczML9Rd",
        "outputId": "f790e3cd-a94a-4e08-d1ce-7a172a4d6549"
      },
      "execution_count": null,
      "outputs": [
        {
          "output_type": "stream",
          "name": "stderr",
          "text": [
            "\u001b[34m\u001b[1mwandb\u001b[0m: Currently logged in as: \u001b[33mcsc2231-yash-siphelele\u001b[0m (use `wandb login --relogin` to force relogin)\n"
          ]
        },
        {
          "output_type": "display_data",
          "data": {
            "text/plain": [
              "<IPython.core.display.HTML object>"
            ],
            "text/html": [
              "Tracking run with wandb version 0.12.11"
            ]
          },
          "metadata": {}
        },
        {
          "output_type": "display_data",
          "data": {
            "text/plain": [
              "<IPython.core.display.HTML object>"
            ],
            "text/html": [
              "Run data is saved locally in <code>/content/wandb/run-20220323_143057-28dzuzco</code>"
            ]
          },
          "metadata": {}
        },
        {
          "output_type": "display_data",
          "data": {
            "text/plain": [
              "<IPython.core.display.HTML object>"
            ],
            "text/html": [
              "Syncing run <strong><a href=\"https://wandb.ai/csc2231-yash-siphelele/autoencoders_conv/runs/28dzuzco\" target=\"_blank\">charmed-lion-1</a></strong> to <a href=\"https://wandb.ai/csc2231-yash-siphelele/autoencoders_conv\" target=\"_blank\">Weights & Biases</a> (<a href=\"https://wandb.me/run\" target=\"_blank\">docs</a>)<br/>"
            ]
          },
          "metadata": {}
        },
        {
          "output_type": "execute_result",
          "data": {
            "text/html": [
              "<button onClick=\"this.nextSibling.style.display='block';this.style.display='none';\">Display W&B run</button><iframe src=\"https://wandb.ai/csc2231-yash-siphelele/autoencoders_conv/runs/28dzuzco?jupyter=true\" style=\"border:none;width:100%;height:420px;display:none;\"></iframe>"
            ],
            "text/plain": [
              "<wandb.sdk.wandb_run.Run at 0x7f6389ecfbd0>"
            ]
          },
          "metadata": {},
          "execution_count": 15
        }
      ]
    },
    {
      "cell_type": "code",
      "source": [
        "def fit_model_and_log_metrics(run_name, run_notes, model, epochs, batch_size):\n",
        "    run = wandb.init(project=\"autoencoders_conv\", entity=\"csc2231-yash-siphelele\", name=run_name, notes=run_notes)\n",
        "    history = model.fit(x_train, x_train, epochs = epochs, batch_size = batch_size, validation_data = (x_test, x_test), callbacks=[WandbCallback()]) \n",
        "    decoded_imgs = model.predict(x_test)\n",
        "    ssim_scores = []\n",
        "    for i in range(len(x_test)):\n",
        "        ssim_value = ssim(x_test[i].reshape(28, 28), decoded_imgs[i].reshape(28, 28))\n",
        "        ssim_scores.append(ssim_value)\n",
        "\n",
        "    avg_ssim_score_x_test = np.mean(ssim_scores)\n",
        "    wandb.log({\"avg_ssim_score_x_test\": avg_ssim_score_x_test})\n",
        "    print(\"Avg SSIM over X_test:\", avg_ssim_score_x_test)\n",
        "    run.finish()"
      ],
      "metadata": {
        "id": "2Geql1t6ZSGk"
      },
      "execution_count": null,
      "outputs": []
    },
    {
      "cell_type": "code",
      "source": [
        "class_labels = { 0: \"T-shirt/top\", \n",
        "                1: \"Trouser\",\n",
        "                2: \"Pullover\",\n",
        "                3: \"Dress\",\n",
        "                4: \"Coat\",\n",
        "                5: \"Sandal\",\n",
        "                6: \"Shirt\",\n",
        "                7: \"Sneaker\",\n",
        "                8: \"Bag\",\n",
        "                9: \"Ankle-boot\" \n",
        "            }"
      ],
      "metadata": {
        "id": "NejopSUqY4Dp"
      },
      "execution_count": null,
      "outputs": []
    },
    {
      "cell_type": "code",
      "source": [
        "def save_image(filename, data_array):\n",
        "    im = Image.fromarray(data_array.astype('uint8'))\n",
        "    im_invert = ImageOps.invert(im)\n",
        "    im_invert.save(filename)\n",
        "\n",
        "DIR_NAME = \"JPEGImages\"\n",
        "if os.path.exists(DIR_NAME) == False:\n",
        "    os.mkdir(DIR_NAME)"
      ],
      "metadata": {
        "id": "443nzVy6Ck9m"
      },
      "execution_count": null,
      "outputs": []
    },
    {
      "cell_type": "code",
      "source": [
        "(x_train, y_train), (x_test, y_test) = fashion_mnist.load_data()\n",
        "x_train.shape, x_test.shape, y_train.shape, y_test.shape "
      ],
      "metadata": {
        "colab": {
          "base_uri": "https://localhost:8080/"
        },
        "id": "xYyE18k-W8_K",
        "outputId": "8f0deed9-af43-4209-acef-dc9989162b25"
      },
      "execution_count": null,
      "outputs": [
        {
          "output_type": "stream",
          "name": "stdout",
          "text": [
            "Downloading data from https://storage.googleapis.com/tensorflow/tf-keras-datasets/train-labels-idx1-ubyte.gz\n",
            "32768/29515 [=================================] - 0s 0us/step\n",
            "40960/29515 [=========================================] - 0s 0us/step\n",
            "Downloading data from https://storage.googleapis.com/tensorflow/tf-keras-datasets/train-images-idx3-ubyte.gz\n",
            "26427392/26421880 [==============================] - 0s 0us/step\n",
            "26435584/26421880 [==============================] - 0s 0us/step\n",
            "Downloading data from https://storage.googleapis.com/tensorflow/tf-keras-datasets/t10k-labels-idx1-ubyte.gz\n",
            "16384/5148 [===============================================================================================] - 0s 0us/step\n",
            "Downloading data from https://storage.googleapis.com/tensorflow/tf-keras-datasets/t10k-images-idx3-ubyte.gz\n",
            "4423680/4422102 [==============================] - 0s 0us/step\n",
            "4431872/4422102 [==============================] - 0s 0us/step\n"
          ]
        },
        {
          "output_type": "execute_result",
          "data": {
            "text/plain": [
              "((60000, 28, 28), (10000, 28, 28), (60000,), (10000,))"
            ]
          },
          "metadata": {},
          "execution_count": 5
        }
      ]
    },
    {
      "cell_type": "code",
      "source": [
        "# Save Images\n",
        "i = 0\n",
        "for li in [x_test]:\n",
        "    print(\"[---------------------------------------------------------------]\")\n",
        "    for x in li:\n",
        "        filename = \"{0}/{1:05d}.jpg\".format(DIR_NAME,i)\n",
        "        print(filename)\n",
        "        save_image(filename, x)\n",
        "        i += 1"
      ],
      "metadata": {
        "id": "L8TX9bL3DLue"
      },
      "execution_count": null,
      "outputs": []
    },
    {
      "cell_type": "code",
      "source": [
        "# show a random image from the training set\n",
        "pixels, class_label = x_train[42], class_labels[y_train[42]]\n",
        "plt.title(str(class_label))\n",
        "plt.imshow(pixels, cmap='gray')\n",
        "plt.show()"
      ],
      "metadata": {
        "colab": {
          "base_uri": "https://localhost:8080/",
          "height": 281
        },
        "id": "MTP-NhfXXpDe",
        "outputId": "63a319c2-80cf-46f8-f496-6296a9c3365d"
      },
      "execution_count": null,
      "outputs": [
        {
          "output_type": "display_data",
          "data": {
            "text/plain": [
              "<Figure size 432x288 with 1 Axes>"
            ],
            "image/png": "[encoded data removed]"
          },
          "metadata": {
            "needs_background": "light"
          }
        }
      ]
    },
    {
      "cell_type": "code",
      "source": [
        "x_train = x_train.astype('float32') / 255\n",
        "x_test = x_test.astype('float32') / 255\n",
        "print(x_train.shape, x_test.shape) "
      ],
      "metadata": {
        "id": "cfe3Fy4rmp8X",
        "colab": {
          "base_uri": "https://localhost:8080/"
        },
        "outputId": "7dc4b2d8-8a6e-4d2d-9f01-3f71197ca0e9"
      },
      "execution_count": null,
      "outputs": [
        {
          "output_type": "stream",
          "name": "stdout",
          "text": [
            "(60000, 28, 28) (10000, 28, 28)\n"
          ]
        }
      ]
    },
    {
      "cell_type": "code",
      "source": [
        "x_train.shape, x_test.shape, y_train.shape, y_test.shape"
      ],
      "metadata": {
        "colab": {
          "base_uri": "https://localhost:8080/"
        },
        "id": "dTWa-v0Nnkzq",
        "outputId": "11d00827-fbe0-4345-ca1f-dec67725dbce"
      },
      "execution_count": null,
      "outputs": [
        {
          "output_type": "execute_result",
          "data": {
            "text/plain": [
              "((60000, 28, 28), (10000, 28, 28), (60000,), (10000,))"
            ]
          },
          "metadata": {},
          "execution_count": 9
        }
      ]
    },
    {
      "cell_type": "code",
      "source": [
        "def define_wandb_config(first_conv_filters, second_conv_filters, third_conv_filters, epochs, batch_size):\n",
        "    wandb.config = {\n",
        "        \"first_conv_filters\": first_conv_filters,\n",
        "        \"second_conv_filters\": second_conv_filters,\n",
        "        \"third_conv_filters\": third_conv_filters,\n",
        "        \"epochs\": epochs,\n",
        "        \"batch_size\": batch_size,\n",
        "    }\n",
        "define_wandb_config(24, 12, 8, 50, 128)"
      ],
      "metadata": {
        "id": "F3TUblKHMKmo"
      },
      "execution_count": null,
      "outputs": []
    },
    {
      "cell_type": "code",
      "source": [
        "# First Encoder model\n",
        "\n",
        "def Encoder(input_img):\n",
        "    x = Conv2D(24, (3, 3), activation='relu', padding='same')(input_img)\n",
        "    x = MaxPooling2D((2, 2), padding='same')(x)\n",
        "    x = Conv2D(12, (3, 3), activation='relu', padding='same')(x)\n",
        "    x = MaxPooling2D((2, 2), padding='same')(x)\n",
        "    x = Conv2D(8, (3, 3), activation='relu', padding='same')(x)\n",
        "    encoded = MaxPooling2D((2, 2), padding='same')(x)\n",
        "    return encoded"
      ],
      "metadata": {
        "id": "UefH980zYmfk"
      },
      "execution_count": null,
      "outputs": []
    },
    {
      "cell_type": "code",
      "source": [
        "# First Decoder model\n",
        "\n",
        "def Decoder(encoded):\n",
        "    x = Conv2D(8, (3, 3), activation='relu', padding='same')(encoded)\n",
        "    x = UpSampling2D((4, 4))(x)\n",
        "    x = Conv2D(12, (3, 3), activation='relu')(x)\n",
        "    x = UpSampling2D((2, 2))(x)\n",
        "    decoded = Conv2D(1, (3, 3), padding='same')(x)\n",
        "    return decoded"
      ],
      "metadata": {
        "id": "KCbGYbfuboGy"
      },
      "execution_count": null,
      "outputs": []
    },
    {
      "cell_type": "code",
      "source": [
        "# First Autoencoder model\n",
        "\n",
        "input = Input(shape=(28, 28, 1))\n",
        "encoder = Encoder(input)\n",
        "decoder = Decoder(encoder)\n",
        "autoencoder = Model(input, decoder)\n",
        "autoencoder.compile(optimizer = \"adam\", loss = \"mse\")\n",
        "autoencoder.summary()"
      ],
      "metadata": {
        "colab": {
          "base_uri": "https://localhost:8080/"
        },
        "id": "nBM_QULoeze_",
        "outputId": "b899cfb6-73b9-4e3e-b38c-106be5d8365a"
      },
      "execution_count": null,
      "outputs": [
        {
          "output_type": "stream",
          "name": "stdout",
          "text": [
            "Model: \"model_5\"\n",
            "_________________________________________________________________\n",
            " Layer (type)                Output Shape              Param #   \n",
            "=================================================================\n",
            " input_6 (InputLayer)        [(None, 28, 28, 1)]       0         \n",
            "                                                                 \n",
            " conv2d_21 (Conv2D)          (None, 28, 28, 24)        240       \n",
            "                                                                 \n",
            " max_pooling2d_12 (MaxPoolin  (None, 14, 14, 24)       0         \n",
            " g2D)                                                            \n",
            "                                                                 \n",
            " conv2d_22 (Conv2D)          (None, 14, 14, 12)        2604      \n",
            "                                                                 \n",
            " max_pooling2d_13 (MaxPoolin  (None, 7, 7, 12)         0         \n",
            " g2D)                                                            \n",
            "                                                                 \n",
            " conv2d_23 (Conv2D)          (None, 7, 7, 8)           872       \n",
            "                                                                 \n",
            " max_pooling2d_14 (MaxPoolin  (None, 4, 4, 8)          0         \n",
            " g2D)                                                            \n",
            "                                                                 \n",
            " conv2d_24 (Conv2D)          (None, 4, 4, 8)           584       \n",
            "                                                                 \n",
            " up_sampling2d_4 (UpSampling  (None, 16, 16, 8)        0         \n",
            " 2D)                                                             \n",
            "                                                                 \n",
            " conv2d_25 (Conv2D)          (None, 14, 14, 12)        876       \n",
            "                                                                 \n",
            " up_sampling2d_5 (UpSampling  (None, 28, 28, 12)       0         \n",
            " 2D)                                                             \n",
            "                                                                 \n",
            " conv2d_26 (Conv2D)          (None, 28, 28, 1)         109       \n",
            "                                                                 \n",
            "=================================================================\n",
            "Total params: 5,285\n",
            "Trainable params: 5,285\n",
            "Non-trainable params: 0\n",
            "_________________________________________________________________\n"
          ]
        }
      ]
    },
    {
      "cell_type": "code",
      "source": [
        "fit_model_and_log_metrics(\"Model1\", \"With maxpooling, upsampling\", autoencoder, 50, 128)"
      ],
      "metadata": {
        "colab": {
          "base_uri": "https://localhost:8080/",
          "height": 1000,
          "referenced_widgets": [
            "cc5de2a801d14ecf894617312432a0d7",
            "c519e0c7639e4699a5633a8cc44e4fc1",
            "42de1b7d316f41b5bde4b7eb834abe42",
            "75583a1c2c0f4b6e8e7a3cbb7c06e34a",
            "6eb04820741d4c178fbef9feba92ca61",
            "ffefda618e8c450dba844d75bd472888",
            "c1b765aa616d44bdb4dc75931bf9b002",
            "19e3aa66e5bc45d8a3065f235ef0ab33"
          ]
        },
        "id": "mkqH2TQpfY1i",
        "outputId": "b9decf90-5459-4eb0-97f1-54c5d10eba4e"
      },
      "execution_count": null,
      "outputs": [
        {
          "output_type": "display_data",
          "data": {
            "text/plain": [
              "<IPython.core.display.HTML object>"
            ],
            "text/html": [
              "Tracking run with wandb version 0.12.11"
            ]
          },
          "metadata": {}
        },
        {
          "output_type": "display_data",
          "data": {
            "text/plain": [
              "<IPython.core.display.HTML object>"
            ],
            "text/html": [
              "Run data is saved locally in <code>/content/wandb/run-20220323_155634-30x9jtqj</code>"
            ]
          },
          "metadata": {}
        },
        {
          "output_type": "display_data",
          "data": {
            "text/plain": [
              "<IPython.core.display.HTML object>"
            ],
            "text/html": [
              "Syncing run <strong><a href=\"https://wandb.ai/csc2231-yash-siphelele/autoencoders_conv/runs/30x9jtqj\" target=\"_blank\">Model1</a></strong> to <a href=\"https://wandb.ai/csc2231-yash-siphelele/autoencoders_conv\" target=\"_blank\">Weights & Biases</a> (<a href=\"https://wandb.me/run\" target=\"_blank\">docs</a>)<br/>"
            ]
          },
          "metadata": {}
        },
        {
          "output_type": "stream",
          "name": "stdout",
          "text": [
            "Epoch 1/50\n",
            "469/469 [==============================] - 6s 12ms/step - loss: 0.0369 - val_loss: 0.0259 - _timestamp: 1648051006.0000 - _runtime: 12.0000\n",
            "Epoch 2/50\n",
            "469/469 [==============================] - 5s 11ms/step - loss: 0.0237 - val_loss: 0.0222 - _timestamp: 1648051011.0000 - _runtime: 17.0000\n",
            "Epoch 3/50\n",
            "469/469 [==============================] - 5s 11ms/step - loss: 0.0215 - val_loss: 0.0210 - _timestamp: 1648051016.0000 - _runtime: 22.0000\n",
            "Epoch 4/50\n",
            "469/469 [==============================] - 5s 10ms/step - loss: 0.0205 - val_loss: 0.0201 - _timestamp: 1648051021.0000 - _runtime: 27.0000\n",
            "Epoch 5/50\n",
            "469/469 [==============================] - 5s 10ms/step - loss: 0.0198 - val_loss: 0.0196 - _timestamp: 1648051026.0000 - _runtime: 32.0000\n",
            "Epoch 6/50\n",
            "469/469 [==============================] - 5s 10ms/step - loss: 0.0192 - val_loss: 0.0190 - _timestamp: 1648051031.0000 - _runtime: 37.0000\n",
            "Epoch 7/50\n",
            "469/469 [==============================] - 5s 11ms/step - loss: 0.0188 - val_loss: 0.0187 - _timestamp: 1648051035.0000 - _runtime: 41.0000\n",
            "Epoch 8/50\n",
            "469/469 [==============================] - 5s 11ms/step - loss: 0.0185 - val_loss: 0.0184 - _timestamp: 1648051041.0000 - _runtime: 47.0000\n",
            "Epoch 9/50\n",
            "469/469 [==============================] - 5s 11ms/step - loss: 0.0182 - val_loss: 0.0182 - _timestamp: 1648051046.0000 - _runtime: 52.0000\n",
            "Epoch 10/50\n",
            "469/469 [==============================] - 5s 11ms/step - loss: 0.0181 - val_loss: 0.0179 - _timestamp: 1648051051.0000 - _runtime: 57.0000\n",
            "Epoch 11/50\n",
            "469/469 [==============================] - 5s 11ms/step - loss: 0.0179 - val_loss: 0.0178 - _timestamp: 1648051056.0000 - _runtime: 62.0000\n",
            "Epoch 12/50\n",
            "469/469 [==============================] - 5s 11ms/step - loss: 0.0177 - val_loss: 0.0180 - _timestamp: 1648051061.0000 - _runtime: 67.0000\n",
            "Epoch 13/50\n",
            "469/469 [==============================] - 5s 10ms/step - loss: 0.0176 - val_loss: 0.0175 - _timestamp: 1648051066.0000 - _runtime: 72.0000\n",
            "Epoch 14/50\n",
            "469/469 [==============================] - 5s 10ms/step - loss: 0.0174 - val_loss: 0.0174 - _timestamp: 1648051071.0000 - _runtime: 77.0000\n",
            "Epoch 15/50\n",
            "469/469 [==============================] - 5s 11ms/step - loss: 0.0173 - val_loss: 0.0172 - _timestamp: 1648051076.0000 - _runtime: 82.0000\n",
            "Epoch 16/50\n",
            "469/469 [==============================] - 5s 10ms/step - loss: 0.0172 - val_loss: 0.0171 - _timestamp: 1648051081.0000 - _runtime: 87.0000\n",
            "Epoch 17/50\n",
            "469/469 [==============================] - 5s 11ms/step - loss: 0.0171 - val_loss: 0.0170 - _timestamp: 1648051086.0000 - _runtime: 92.0000\n",
            "Epoch 18/50\n",
            "469/469 [==============================] - 5s 10ms/step - loss: 0.0170 - val_loss: 0.0170 - _timestamp: 1648051091.0000 - _runtime: 97.0000\n",
            "Epoch 19/50\n",
            "469/469 [==============================] - 5s 11ms/step - loss: 0.0169 - val_loss: 0.0169 - _timestamp: 1648051097.0000 - _runtime: 103.0000\n",
            "Epoch 20/50\n",
            "469/469 [==============================] - 5s 11ms/step - loss: 0.0168 - val_loss: 0.0169 - _timestamp: 1648051102.0000 - _runtime: 108.0000\n",
            "Epoch 21/50\n",
            "469/469 [==============================] - 5s 11ms/step - loss: 0.0168 - val_loss: 0.0167 - _timestamp: 1648051107.0000 - _runtime: 113.0000\n",
            "Epoch 22/50\n",
            "469/469 [==============================] - 6s 13ms/step - loss: 0.0167 - val_loss: 0.0167 - _timestamp: 1648051113.0000 - _runtime: 119.0000\n",
            "Epoch 23/50\n",
            "469/469 [==============================] - 5s 11ms/step - loss: 0.0166 - val_loss: 0.0167 - _timestamp: 1648051118.0000 - _runtime: 124.0000\n",
            "Epoch 24/50\n",
            "469/469 [==============================] - 5s 10ms/step - loss: 0.0166 - val_loss: 0.0167 - _timestamp: 1648051123.0000 - _runtime: 129.0000\n",
            "Epoch 25/50\n",
            "469/469 [==============================] - 5s 11ms/step - loss: 0.0165 - val_loss: 0.0166 - _timestamp: 1648051128.0000 - _runtime: 134.0000\n",
            "Epoch 26/50\n",
            "469/469 [==============================] - 5s 10ms/step - loss: 0.0165 - val_loss: 0.0164 - _timestamp: 1648051133.0000 - _runtime: 139.0000\n",
            "Epoch 27/50\n",
            "469/469 [==============================] - 5s 11ms/step - loss: 0.0164 - val_loss: 0.0163 - _timestamp: 1648051138.0000 - _runtime: 144.0000\n",
            "Epoch 28/50\n",
            "469/469 [==============================] - 5s 10ms/step - loss: 0.0163 - val_loss: 0.0163 - _timestamp: 1648051143.0000 - _runtime: 149.0000\n",
            "Epoch 29/50\n",
            "469/469 [==============================] - 5s 11ms/step - loss: 0.0163 - val_loss: 0.0164 - _timestamp: 1648051148.0000 - _runtime: 154.0000\n",
            "Epoch 30/50\n",
            "469/469 [==============================] - 5s 11ms/step - loss: 0.0163 - val_loss: 0.0162 - _timestamp: 1648051153.0000 - _runtime: 159.0000\n",
            "Epoch 31/50\n",
            "469/469 [==============================] - 5s 10ms/step - loss: 0.0162 - val_loss: 0.0161 - _timestamp: 1648051158.0000 - _runtime: 164.0000\n",
            "Epoch 32/50\n",
            "469/469 [==============================] - 5s 10ms/step - loss: 0.0162 - val_loss: 0.0161 - _timestamp: 1648051163.0000 - _runtime: 169.0000\n",
            "Epoch 33/50\n",
            "469/469 [==============================] - 5s 11ms/step - loss: 0.0161 - val_loss: 0.0160 - _timestamp: 1648051168.0000 - _runtime: 174.0000\n",
            "Epoch 34/50\n",
            "469/469 [==============================] - 5s 10ms/step - loss: 0.0161 - val_loss: 0.0160 - _timestamp: 1648051173.0000 - _runtime: 179.0000\n",
            "Epoch 35/50\n",
            "469/469 [==============================] - 5s 11ms/step - loss: 0.0161 - val_loss: 0.0162 - _timestamp: 1648051178.0000 - _runtime: 184.0000\n",
            "Epoch 36/50\n",
            "469/469 [==============================] - 5s 11ms/step - loss: 0.0160 - val_loss: 0.0160 - _timestamp: 1648051183.0000 - _runtime: 189.0000\n",
            "Epoch 37/50\n",
            "469/469 [==============================] - 5s 11ms/step - loss: 0.0160 - val_loss: 0.0159 - _timestamp: 1648051188.0000 - _runtime: 194.0000\n",
            "Epoch 38/50\n",
            "469/469 [==============================] - 5s 10ms/step - loss: 0.0160 - val_loss: 0.0160 - _timestamp: 1648051193.0000 - _runtime: 199.0000\n",
            "Epoch 39/50\n",
            "469/469 [==============================] - 5s 11ms/step - loss: 0.0159 - val_loss: 0.0159 - _timestamp: 1648051198.0000 - _runtime: 204.0000\n",
            "Epoch 40/50\n",
            "469/469 [==============================] - 5s 10ms/step - loss: 0.0159 - val_loss: 0.0159 - _timestamp: 1648051203.0000 - _runtime: 209.0000\n",
            "Epoch 41/50\n",
            "469/469 [==============================] - 5s 10ms/step - loss: 0.0159 - val_loss: 0.0159 - _timestamp: 1648051208.0000 - _runtime: 214.0000\n",
            "Epoch 42/50\n",
            "469/469 [==============================] - 5s 11ms/step - loss: 0.0159 - val_loss: 0.0159 - _timestamp: 1648051213.0000 - _runtime: 219.0000\n",
            "Epoch 43/50\n",
            "469/469 [==============================] - 5s 10ms/step - loss: 0.0158 - val_loss: 0.0158 - _timestamp: 1648051218.0000 - _runtime: 224.0000\n",
            "Epoch 44/50\n",
            "469/469 [==============================] - 5s 10ms/step - loss: 0.0158 - val_loss: 0.0157 - _timestamp: 1648051223.0000 - _runtime: 229.0000\n",
            "Epoch 45/50\n",
            "469/469 [==============================] - 5s 11ms/step - loss: 0.0158 - val_loss: 0.0161 - _timestamp: 1648051228.0000 - _runtime: 234.0000\n",
            "Epoch 46/50\n",
            "469/469 [==============================] - 5s 11ms/step - loss: 0.0158 - val_loss: 0.0157 - _timestamp: 1648051233.0000 - _runtime: 239.0000\n",
            "Epoch 47/50\n",
            "469/469 [==============================] - 5s 11ms/step - loss: 0.0158 - val_loss: 0.0158 - _timestamp: 1648051239.0000 - _runtime: 245.0000\n",
            "Epoch 48/50\n",
            "469/469 [==============================] - 5s 11ms/step - loss: 0.0157 - val_loss: 0.0157 - _timestamp: 1648051243.0000 - _runtime: 249.0000\n",
            "Epoch 49/50\n",
            "469/469 [==============================] - 5s 11ms/step - loss: 0.0158 - val_loss: 0.0157 - _timestamp: 1648051249.0000 - _runtime: 255.0000\n",
            "Epoch 50/50\n",
            "469/469 [==============================] - 5s 11ms/step - loss: 0.0157 - val_loss: 0.0156 - _timestamp: 1648051254.0000 - _runtime: 260.0000\n",
            "Avg SSIM over X_test: 0.7155118523020064\n",
            "\n"
          ]
        },
        {
          "output_type": "display_data",
          "data": {
            "text/plain": [
              "<IPython.core.display.HTML object>"
            ],
            "text/html": [
              "Waiting for W&B process to finish... <strong style=\"color:green\">(success).</strong>"
            ]
          },
          "metadata": {}
        },
        {
          "output_type": "display_data",
          "data": {
            "text/plain": [
              "VBox(children=(Label(value='0.125 MB of 0.125 MB uploaded (0.000 MB deduped)\\r'), FloatProgress(value=1.0, max…"
            ],
            "application/vnd.jupyter.widget-view+json": {
              "version_major": 2,
              "version_minor": 0,
              "model_id": "cc5de2a801d14ecf894617312432a0d7"
            }
          },
          "metadata": {}
        },
        {
          "output_type": "display_data",
          "data": {
            "text/plain": [
              "<IPython.core.display.HTML object>"
            ],
            "text/html": [
              "<style>\n",
              "    table.wandb td:nth-child(1) { padding: 0 10px; text-align: right }\n",
              "    .wandb-row { display: flex; flex-direction: row; flex-wrap: wrap; width: 100% }\n",
              "    .wandb-col { display: flex; flex-direction: column; flex-basis: 100%; flex: 1; padding: 10px; }\n",
              "    </style>\n",
              "<div class=\"wandb-row\"><div class=\"wandb-col\"><h3>Run history:</h3><br/><table class=\"wandb\"><tr><td>avg_ssim_score_x_test</td><td>▁</td></tr><tr><td>epoch</td><td>▁▁▁▁▂▂▂▂▂▃▃▃▃▃▃▄▄▄▄▄▅▅▅▅▅▅▆▆▆▆▆▆▇▇▇▇▇███</td></tr><tr><td>loss</td><td>█▄▃▃▂▂▂▂▂▂▂▂▁▁▁▁▁▁▁▁▁▁▁▁▁▁▁▁▁▁▁▁▁▁▁▁▁▁▁▁</td></tr><tr><td>val_loss</td><td>█▅▅▄▃▃▃▃▂▃▂▂▂▂▂▂▂▂▂▂▁▁▁▂▁▁▁▁▁▁▁▁▁▁▁▁▁▁▁▁</td></tr></table><br/></div><div class=\"wandb-col\"><h3>Run summary:</h3><br/><table class=\"wandb\"><tr><td>avg_ssim_score_x_test</td><td>0.71551</td></tr><tr><td>best_epoch</td><td>49</td></tr><tr><td>best_val_loss</td><td>0.01565</td></tr><tr><td>epoch</td><td>49</td></tr><tr><td>loss</td><td>0.01571</td></tr><tr><td>val_loss</td><td>0.01565</td></tr></table><br/></div></div>"
            ]
          },
          "metadata": {}
        },
        {
          "output_type": "display_data",
          "data": {
            "text/plain": [
              "<IPython.core.display.HTML object>"
            ],
            "text/html": [
              "Synced <strong style=\"color:#cdcd00\">Model1</strong>: <a href=\"https://wandb.ai/csc2231-yash-siphelele/autoencoders_conv/runs/30x9jtqj\" target=\"_blank\">https://wandb.ai/csc2231-yash-siphelele/autoencoders_conv/runs/30x9jtqj</a><br/>Synced 5 W&B file(s), 1 media file(s), 0 artifact file(s) and 1 other file(s)"
            ]
          },
          "metadata": {}
        },
        {
          "output_type": "display_data",
          "data": {
            "text/plain": [
              "<IPython.core.display.HTML object>"
            ],
            "text/html": [
              "Find logs at: <code>./wandb/run-20220323_155634-30x9jtqj/logs</code>"
            ]
          },
          "metadata": {}
        }
      ]
    },
    {
      "cell_type": "code",
      "source": [
        "decoded_imgs = autoencoder.predict(x_test)\n",
        "\n",
        "n = 10\n",
        "plt.figure(figsize=(20, 4))\n",
        "for i in range(n):\n",
        " plt.gray()\n",
        " ax = plt.subplot(2, n, i+1)\n",
        " plt.imshow(x_test[i].reshape(28, 28))\n",
        " ax.get_xaxis().set_visible(False)\n",
        " ax.get_yaxis().set_visible(False)\n",
        " \n",
        " ax = plt.subplot(2, n, i +1+n)\n",
        " plt.imshow(decoded_imgs[i].reshape(28, 28))\n",
        " ax.get_xaxis().set_visible(False)\n",
        " ax.get_yaxis().set_visible(False)\n",
        "plt.show() "
      ],
      "metadata": {
        "colab": {
          "base_uri": "https://localhost:8080/",
          "height": 248
        },
        "id": "AxrtcSawmEoe",
        "outputId": "014a5e51-c7ee-4518-9528-4b2c63feb068"
      },
      "execution_count": null,
      "outputs": [
        {
          "output_type": "display_data",
          "data": {
            "text/plain": [
              "<Figure size 1440x288 with 20 Axes>"
            ],
            "image/png": "[encoded data removed]"
          },
          "metadata": {
            "needs_background": "light"
          }
        }
      ]
    },
    {
      "cell_type": "code",
      "source": [
        "decoded_imgs = autoencoder.predict(x_test)\n",
        "ssim_scores = []\n",
        "for i in range(len(x_test)):\n",
        "    ssim_value = ssim(x_test[i].reshape(28, 28), decoded_imgs[i].reshape(28, 28))\n",
        "    ssim_scores.append(ssim_value)\n",
        "\n",
        "avg_ssim_score_x_test = np.mean(ssim_scores)\n",
        "wandb.log({\"avg_ssim_score_x_test\": avg_ssim_score_x_test})\n",
        "avg_ssim_score_x_test"
      ],
      "metadata": {
        "colab": {
          "base_uri": "https://localhost:8080/"
        },
        "id": "_GpRol_8SXcC",
        "outputId": "2dd28116-e1d1-4a82-8f42-f8adff861bb2"
      },
      "execution_count": null,
      "outputs": [
        {
          "output_type": "execute_result",
          "data": {
            "text/plain": [
              "0.7319452076628427"
            ]
          },
          "metadata": {},
          "execution_count": 23
        }
      ]
    },
    {
      "cell_type": "code",
      "source": [
        "# 2nd Encoder model\n",
        "\n",
        "def Encoder_ConvTranspose(input_img):\n",
        "    x = Conv2D(24, (3, 3), activation='relu', padding='same')(input_img)\n",
        "    x = MaxPooling2D((2, 2), padding='same')(x)\n",
        "    x = Conv2D(12, (3, 3), activation='relu', padding='same')(x)\n",
        "    encoded = MaxPooling2D((2, 2), padding='same')(x)\n",
        "    return encoded\n",
        "\n",
        "# 2nd Decoder model\n",
        "\n",
        "def Decoder_ConvTranspose(encoded):\n",
        "    x = Conv2DTranspose(8, (3, 3), strides = 2, activation='relu', padding='same')(encoded)\n",
        "    x = Conv2DTranspose(12, (3, 3), strides = 2, activation='relu', padding='same')(x)\n",
        "    decoded = Conv2D(1, (3, 3), padding='same')(x)\n",
        "    return decoded\n",
        "\n",
        "\n",
        "# 2nd Autoencoder model\n",
        "\n",
        "input = Input(shape=(28, 28, 1))\n",
        "encoder2 = Encoder_ConvTranspose(input)\n",
        "decoder2 = Decoder_ConvTranspose(encoder2)\n",
        "autoencoder2 = Model(input, decoder2)\n",
        "autoencoder2.compile(optimizer = \"adam\", loss = \"mse\")\n",
        "autoencoder2.summary()"
      ],
      "metadata": {
        "id": "NR6T9vBej7Y_",
        "colab": {
          "base_uri": "https://localhost:8080/"
        },
        "outputId": "a277ee3a-fb1c-45d7-fef3-a2e8c22bafb3"
      },
      "execution_count": null,
      "outputs": [
        {
          "output_type": "stream",
          "name": "stdout",
          "text": [
            "Model: \"model_6\"\n",
            "_________________________________________________________________\n",
            " Layer (type)                Output Shape              Param #   \n",
            "=================================================================\n",
            " input_7 (InputLayer)        [(None, 28, 28, 1)]       0         \n",
            "                                                                 \n",
            " conv2d_27 (Conv2D)          (None, 28, 28, 24)        240       \n",
            "                                                                 \n",
            " max_pooling2d_15 (MaxPoolin  (None, 14, 14, 24)       0         \n",
            " g2D)                                                            \n",
            "                                                                 \n",
            " conv2d_28 (Conv2D)          (None, 14, 14, 12)        2604      \n",
            "                                                                 \n",
            " max_pooling2d_16 (MaxPoolin  (None, 7, 7, 12)         0         \n",
            " g2D)                                                            \n",
            "                                                                 \n",
            " conv2d_transpose_6 (Conv2DT  (None, 14, 14, 8)        872       \n",
            " ranspose)                                                       \n",
            "                                                                 \n",
            " conv2d_transpose_7 (Conv2DT  (None, 28, 28, 12)       876       \n",
            " ranspose)                                                       \n",
            "                                                                 \n",
            " conv2d_29 (Conv2D)          (None, 28, 28, 1)         109       \n",
            "                                                                 \n",
            "=================================================================\n",
            "Total params: 4,701\n",
            "Trainable params: 4,701\n",
            "Non-trainable params: 0\n",
            "_________________________________________________________________\n"
          ]
        }
      ]
    },
    {
      "cell_type": "code",
      "source": [
        "fit_model_and_log_metrics(\"Model 2\", \"With maxpooling, convtranspose\", autoencoder2, epochs=50, batch_size=128)"
      ],
      "metadata": {
        "colab": {
          "base_uri": "https://localhost:8080/",
          "height": 1000,
          "referenced_widgets": [
            "366a6facf5864961aaa1f6e162f6b74f",
            "7ef9e82bcc084cb9b5f93c747d81f4fa",
            "7d2c219d3f7243a1bf5b9b9b25aceb63",
            "a2472f36b1f14831967007fb1a7a42bb",
            "0a54405b0139459db37f6bc4857df3f2",
            "65679d510043490691ebe7e9b443fb20",
            "98acdf7d832643aa86cba3ecaa0c207f",
            "d8407978e8e640bdba20990accb9be78"
          ]
        },
        "id": "vPD40QGPwzLX",
        "outputId": "6c31e3cd-c5ec-4a14-89f9-e6dfafe95d6b"
      },
      "execution_count": null,
      "outputs": [
        {
          "output_type": "display_data",
          "data": {
            "text/plain": [
              "<IPython.core.display.HTML object>"
            ],
            "text/html": [
              "Tracking run with wandb version 0.12.11"
            ]
          },
          "metadata": {}
        },
        {
          "output_type": "display_data",
          "data": {
            "text/plain": [
              "<IPython.core.display.HTML object>"
            ],
            "text/html": [
              "Run data is saved locally in <code>/content/wandb/run-20220323_160241-1jk76qfo</code>"
            ]
          },
          "metadata": {}
        },
        {
          "output_type": "display_data",
          "data": {
            "text/plain": [
              "<IPython.core.display.HTML object>"
            ],
            "text/html": [
              "Syncing run <strong><a href=\"https://wandb.ai/csc2231-yash-siphelele/autoencoders_conv/runs/1jk76qfo\" target=\"_blank\">Model 2</a></strong> to <a href=\"https://wandb.ai/csc2231-yash-siphelele/autoencoders_conv\" target=\"_blank\">Weights & Biases</a> (<a href=\"https://wandb.me/run\" target=\"_blank\">docs</a>)<br/>"
            ]
          },
          "metadata": {}
        },
        {
          "output_type": "stream",
          "name": "stdout",
          "text": [
            "Epoch 1/50\n",
            "469/469 [==============================] - 6s 12ms/step - loss: 0.0306 - val_loss: 0.0125 - _timestamp: 1648051374.0000 - _runtime: 12.0000\n",
            "Epoch 2/50\n",
            "469/469 [==============================] - 5s 11ms/step - loss: 0.0109 - val_loss: 0.0099 - _timestamp: 1648051379.0000 - _runtime: 17.0000\n",
            "Epoch 3/50\n",
            "469/469 [==============================] - 5s 11ms/step - loss: 0.0090 - val_loss: 0.0083 - _timestamp: 1648051384.0000 - _runtime: 22.0000\n",
            "Epoch 4/50\n",
            "469/469 [==============================] - 5s 11ms/step - loss: 0.0078 - val_loss: 0.0073 - _timestamp: 1648051389.0000 - _runtime: 27.0000\n",
            "Epoch 5/50\n",
            "469/469 [==============================] - 6s 12ms/step - loss: 0.0070 - val_loss: 0.0068 - _timestamp: 1648051394.0000 - _runtime: 32.0000\n",
            "Epoch 6/50\n",
            "469/469 [==============================] - 5s 11ms/step - loss: 0.0066 - val_loss: 0.0064 - _timestamp: 1648051400.0000 - _runtime: 38.0000\n",
            "Epoch 7/50\n",
            "469/469 [==============================] - 5s 11ms/step - loss: 0.0063 - val_loss: 0.0062 - _timestamp: 1648051405.0000 - _runtime: 43.0000\n",
            "Epoch 8/50\n",
            "469/469 [==============================] - 5s 11ms/step - loss: 0.0061 - val_loss: 0.0060 - _timestamp: 1648051410.0000 - _runtime: 48.0000\n",
            "Epoch 9/50\n",
            "469/469 [==============================] - 5s 11ms/step - loss: 0.0059 - val_loss: 0.0059 - _timestamp: 1648051415.0000 - _runtime: 53.0000\n",
            "Epoch 10/50\n",
            "469/469 [==============================] - 5s 11ms/step - loss: 0.0058 - val_loss: 0.0057 - _timestamp: 1648051420.0000 - _runtime: 58.0000\n",
            "Epoch 11/50\n",
            "469/469 [==============================] - 5s 11ms/step - loss: 0.0057 - val_loss: 0.0056 - _timestamp: 1648051425.0000 - _runtime: 63.0000\n",
            "Epoch 12/50\n",
            "469/469 [==============================] - 5s 11ms/step - loss: 0.0056 - val_loss: 0.0055 - _timestamp: 1648051430.0000 - _runtime: 68.0000\n",
            "Epoch 13/50\n",
            "469/469 [==============================] - 5s 11ms/step - loss: 0.0055 - val_loss: 0.0054 - _timestamp: 1648051436.0000 - _runtime: 74.0000\n",
            "Epoch 14/50\n",
            "469/469 [==============================] - 5s 11ms/step - loss: 0.0054 - val_loss: 0.0054 - _timestamp: 1648051441.0000 - _runtime: 79.0000\n",
            "Epoch 15/50\n",
            "469/469 [==============================] - 5s 11ms/step - loss: 0.0053 - val_loss: 0.0054 - _timestamp: 1648051446.0000 - _runtime: 84.0000\n",
            "Epoch 16/50\n",
            "469/469 [==============================] - 5s 11ms/step - loss: 0.0052 - val_loss: 0.0053 - _timestamp: 1648051451.0000 - _runtime: 89.0000\n",
            "Epoch 17/50\n",
            "469/469 [==============================] - 5s 11ms/step - loss: 0.0052 - val_loss: 0.0052 - _timestamp: 1648051456.0000 - _runtime: 94.0000\n",
            "Epoch 18/50\n",
            "469/469 [==============================] - 5s 11ms/step - loss: 0.0051 - val_loss: 0.0051 - _timestamp: 1648051461.0000 - _runtime: 99.0000\n",
            "Epoch 19/50\n",
            "469/469 [==============================] - 5s 11ms/step - loss: 0.0051 - val_loss: 0.0051 - _timestamp: 1648051467.0000 - _runtime: 105.0000\n",
            "Epoch 20/50\n",
            "469/469 [==============================] - 5s 11ms/step - loss: 0.0050 - val_loss: 0.0050 - _timestamp: 1648051472.0000 - _runtime: 110.0000\n",
            "Epoch 21/50\n",
            "469/469 [==============================] - 5s 11ms/step - loss: 0.0050 - val_loss: 0.0050 - _timestamp: 1648051477.0000 - _runtime: 115.0000\n",
            "Epoch 22/50\n",
            "469/469 [==============================] - 5s 11ms/step - loss: 0.0049 - val_loss: 0.0049 - _timestamp: 1648051482.0000 - _runtime: 120.0000\n",
            "Epoch 23/50\n",
            "469/469 [==============================] - 5s 11ms/step - loss: 0.0049 - val_loss: 0.0049 - _timestamp: 1648051487.0000 - _runtime: 125.0000\n",
            "Epoch 24/50\n",
            "469/469 [==============================] - 5s 12ms/step - loss: 0.0049 - val_loss: 0.0049 - _timestamp: 1648051493.0000 - _runtime: 131.0000\n",
            "Epoch 25/50\n",
            "469/469 [==============================] - 5s 11ms/step - loss: 0.0049 - val_loss: 0.0049 - _timestamp: 1648051498.0000 - _runtime: 136.0000\n",
            "Epoch 26/50\n",
            "469/469 [==============================] - 5s 11ms/step - loss: 0.0048 - val_loss: 0.0048 - _timestamp: 1648051503.0000 - _runtime: 141.0000\n",
            "Epoch 27/50\n",
            "469/469 [==============================] - 5s 11ms/step - loss: 0.0048 - val_loss: 0.0048 - _timestamp: 1648051508.0000 - _runtime: 146.0000\n",
            "Epoch 28/50\n",
            "469/469 [==============================] - 5s 11ms/step - loss: 0.0048 - val_loss: 0.0048 - _timestamp: 1648051514.0000 - _runtime: 152.0000\n",
            "Epoch 29/50\n",
            "469/469 [==============================] - 5s 11ms/step - loss: 0.0047 - val_loss: 0.0047 - _timestamp: 1648051519.0000 - _runtime: 157.0000\n",
            "Epoch 30/50\n",
            "469/469 [==============================] - 5s 11ms/step - loss: 0.0047 - val_loss: 0.0047 - _timestamp: 1648051524.0000 - _runtime: 162.0000\n",
            "Epoch 31/50\n",
            "469/469 [==============================] - 5s 11ms/step - loss: 0.0047 - val_loss: 0.0047 - _timestamp: 1648051529.0000 - _runtime: 167.0000\n",
            "Epoch 32/50\n",
            "469/469 [==============================] - 5s 11ms/step - loss: 0.0047 - val_loss: 0.0048 - _timestamp: 1648051535.0000 - _runtime: 173.0000\n",
            "Epoch 33/50\n",
            "469/469 [==============================] - 5s 11ms/step - loss: 0.0047 - val_loss: 0.0047 - _timestamp: 1648051540.0000 - _runtime: 178.0000\n",
            "Epoch 34/50\n",
            "469/469 [==============================] - 5s 12ms/step - loss: 0.0046 - val_loss: 0.0046 - _timestamp: 1648051545.0000 - _runtime: 183.0000\n",
            "Epoch 35/50\n",
            "469/469 [==============================] - 5s 12ms/step - loss: 0.0046 - val_loss: 0.0046 - _timestamp: 1648051551.0000 - _runtime: 189.0000\n",
            "Epoch 36/50\n",
            "469/469 [==============================] - 5s 11ms/step - loss: 0.0046 - val_loss: 0.0046 - _timestamp: 1648051556.0000 - _runtime: 194.0000\n",
            "Epoch 37/50\n",
            "469/469 [==============================] - 5s 11ms/step - loss: 0.0046 - val_loss: 0.0046 - _timestamp: 1648051561.0000 - _runtime: 199.0000\n",
            "Epoch 38/50\n",
            "469/469 [==============================] - 5s 11ms/step - loss: 0.0046 - val_loss: 0.0046 - _timestamp: 1648051566.0000 - _runtime: 204.0000\n",
            "Epoch 39/50\n",
            "469/469 [==============================] - 5s 11ms/step - loss: 0.0045 - val_loss: 0.0046 - _timestamp: 1648051572.0000 - _runtime: 210.0000\n",
            "Epoch 40/50\n",
            "469/469 [==============================] - 5s 11ms/step - loss: 0.0045 - val_loss: 0.0045 - _timestamp: 1648051577.0000 - _runtime: 215.0000\n",
            "Epoch 41/50\n",
            "469/469 [==============================] - 5s 11ms/step - loss: 0.0045 - val_loss: 0.0045 - _timestamp: 1648051582.0000 - _runtime: 220.0000\n",
            "Epoch 42/50\n",
            "469/469 [==============================] - 5s 11ms/step - loss: 0.0045 - val_loss: 0.0045 - _timestamp: 1648051588.0000 - _runtime: 226.0000\n",
            "Epoch 43/50\n",
            "469/469 [==============================] - 5s 11ms/step - loss: 0.0045 - val_loss: 0.0045 - _timestamp: 1648051593.0000 - _runtime: 231.0000\n",
            "Epoch 44/50\n",
            "469/469 [==============================] - 5s 11ms/step - loss: 0.0045 - val_loss: 0.0045 - _timestamp: 1648051598.0000 - _runtime: 236.0000\n",
            "Epoch 45/50\n",
            "469/469 [==============================] - 5s 11ms/step - loss: 0.0045 - val_loss: 0.0045 - _timestamp: 1648051603.0000 - _runtime: 241.0000\n",
            "Epoch 46/50\n",
            "469/469 [==============================] - 5s 11ms/step - loss: 0.0044 - val_loss: 0.0044 - _timestamp: 1648051608.0000 - _runtime: 246.0000\n",
            "Epoch 47/50\n",
            "469/469 [==============================] - 6s 13ms/step - loss: 0.0044 - val_loss: 0.0045 - _timestamp: 1648051614.0000 - _runtime: 252.0000\n",
            "Epoch 48/50\n",
            "469/469 [==============================] - 5s 11ms/step - loss: 0.0044 - val_loss: 0.0045 - _timestamp: 1648051619.0000 - _runtime: 257.0000\n",
            "Epoch 49/50\n",
            "469/469 [==============================] - 5s 11ms/step - loss: 0.0044 - val_loss: 0.0044 - _timestamp: 1648051625.0000 - _runtime: 263.0000\n",
            "Epoch 50/50\n",
            "469/469 [==============================] - 5s 11ms/step - loss: 0.0044 - val_loss: 0.0044 - _timestamp: 1648051630.0000 - _runtime: 268.0000\n",
            "Avg SSIM over X_test: 0.9114892057866356\n",
            "\n"
          ]
        },
        {
          "output_type": "display_data",
          "data": {
            "text/plain": [
              "<IPython.core.display.HTML object>"
            ],
            "text/html": [
              "Waiting for W&B process to finish... <strong style=\"color:green\">(success).</strong>"
            ]
          },
          "metadata": {}
        },
        {
          "output_type": "display_data",
          "data": {
            "text/plain": [
              "VBox(children=(Label(value='0.108 MB of 0.108 MB uploaded (0.000 MB deduped)\\r'), FloatProgress(value=1.0, max…"
            ],
            "application/vnd.jupyter.widget-view+json": {
              "version_major": 2,
              "version_minor": 0,
              "model_id": "366a6facf5864961aaa1f6e162f6b74f"
            }
          },
          "metadata": {}
        },
        {
          "output_type": "display_data",
          "data": {
            "text/plain": [
              "<IPython.core.display.HTML object>"
            ],
            "text/html": [
              "<style>\n",
              "    table.wandb td:nth-child(1) { padding: 0 10px; text-align: right }\n",
              "    .wandb-row { display: flex; flex-direction: row; flex-wrap: wrap; width: 100% }\n",
              "    .wandb-col { display: flex; flex-direction: column; flex-basis: 100%; flex: 1; padding: 10px; }\n",
              "    </style>\n",
              "<div class=\"wandb-row\"><div class=\"wandb-col\"><h3>Run history:</h3><br/><table class=\"wandb\"><tr><td>avg_ssim_score_x_test</td><td>▁</td></tr><tr><td>epoch</td><td>▁▁▁▁▂▂▂▂▂▃▃▃▃▃▃▄▄▄▄▄▅▅▅▅▅▅▆▆▆▆▆▆▇▇▇▇▇███</td></tr><tr><td>loss</td><td>█▃▂▂▂▂▁▁▁▁▁▁▁▁▁▁▁▁▁▁▁▁▁▁▁▁▁▁▁▁▁▁▁▁▁▁▁▁▁▁</td></tr><tr><td>val_loss</td><td>█▆▄▄▃▃▂▂▂▂▂▂▂▂▂▂▁▁▁▁▁▁▁▁▁▁▁▁▁▁▁▁▁▁▁▁▁▁▁▁</td></tr></table><br/></div><div class=\"wandb-col\"><h3>Run summary:</h3><br/><table class=\"wandb\"><tr><td>avg_ssim_score_x_test</td><td>0.91149</td></tr><tr><td>best_epoch</td><td>49</td></tr><tr><td>best_val_loss</td><td>0.0044</td></tr><tr><td>epoch</td><td>49</td></tr><tr><td>loss</td><td>0.0044</td></tr><tr><td>val_loss</td><td>0.0044</td></tr></table><br/></div></div>"
            ]
          },
          "metadata": {}
        },
        {
          "output_type": "display_data",
          "data": {
            "text/plain": [
              "<IPython.core.display.HTML object>"
            ],
            "text/html": [
              "Synced <strong style=\"color:#cdcd00\">Model 2</strong>: <a href=\"https://wandb.ai/csc2231-yash-siphelele/autoencoders_conv/runs/1jk76qfo\" target=\"_blank\">https://wandb.ai/csc2231-yash-siphelele/autoencoders_conv/runs/1jk76qfo</a><br/>Synced 5 W&B file(s), 1 media file(s), 0 artifact file(s) and 1 other file(s)"
            ]
          },
          "metadata": {}
        },
        {
          "output_type": "display_data",
          "data": {
            "text/plain": [
              "<IPython.core.display.HTML object>"
            ],
            "text/html": [
              "Find logs at: <code>./wandb/run-20220323_160241-1jk76qfo/logs</code>"
            ]
          },
          "metadata": {}
        }
      ]
    },
    {
      "cell_type": "code",
      "source": [
        "decoded_imgs_2 = autoencoder2.predict(x_test)\n",
        "\n",
        "n = 10\n",
        "plt.figure(figsize=(20, 4))\n",
        "for i in range(n):\n",
        " plt.gray()\n",
        " ax = plt.subplot(2, n, i+1)\n",
        " plt.imshow(x_test[i].reshape(28, 28))\n",
        " ax.get_xaxis().set_visible(False)\n",
        " ax.get_yaxis().set_visible(False)\n",
        " \n",
        " ax = plt.subplot(2, n, i +1+n)\n",
        " plt.imshow(decoded_imgs_2[i].reshape(28, 28))\n",
        " ax.get_xaxis().set_visible(False)\n",
        " ax.get_yaxis().set_visible(False)\n",
        "plt.show()"
      ],
      "metadata": {
        "colab": {
          "base_uri": "https://localhost:8080/",
          "height": 248
        },
        "id": "6jzxiT020hNT",
        "outputId": "21f89d81-83dd-404f-80a9-a1d9c5c00c74"
      },
      "execution_count": null,
      "outputs": [
        {
          "output_type": "display_data",
          "data": {
            "image/png": "[encoded data removed]",
            "text/plain": [
              "<Figure size 1440x288 with 20 Axes>"
            ]
          },
          "metadata": {
            "needs_background": "light"
          }
        }
      ]
    },
    {
      "cell_type": "code",
      "source": [
        "# summarize history for loss\n",
        "plt.plot(history.history['loss'])\n",
        "plt.plot(history.history['val_loss'])\n",
        "plt.title('model loss')\n",
        "plt.ylabel('loss')\n",
        "plt.xlabel('epoch')\n",
        "plt.legend(['train', 'val'], loc='upper left')\n",
        "plt.show()"
      ],
      "metadata": {
        "colab": {
          "base_uri": "https://localhost:8080/",
          "height": 295
        },
        "id": "n0BSWGvJ0vu6",
        "outputId": "fd271dcc-0a96-4575-ba4f-779828863c73"
      },
      "execution_count": null,
      "outputs": [
        {
          "output_type": "display_data",
          "data": {
            "image/png": "[encoded data removed]",
            "text/plain": [
              "<Figure size 432x288 with 1 Axes>"
            ]
          },
          "metadata": {
            "needs_background": "light"
          }
        }
      ]
    },
    {
      "cell_type": "code",
      "source": [
        "# 3rd Autoencoder model\n",
        "\n",
        "def Encoder_ConvTranspose_2(input_img):\n",
        "    x = Conv2D(32, (3, 3), activation='relu', padding='same')(input_img)\n",
        "    x = MaxPooling2D((2, 2), padding='same')(x)\n",
        "    x = Conv2D(16, (3, 3), activation='relu', padding='same')(x)\n",
        "    encoded = MaxPooling2D((2, 2), padding='same')(x)\n",
        "    return encoded\n",
        "\n",
        "def Decoder_ConvTranspose_2(encoded):\n",
        "    x = Conv2DTranspose(16, (3, 3), strides = 2, activation='relu', padding='same')(encoded)\n",
        "    x = Conv2DTranspose(32, (3, 3), strides = 2, activation='relu', padding='same')(x)\n",
        "    decoded = Conv2D(1, (3, 3), padding='same')(x)\n",
        "    return decoded\n",
        "\n",
        "\n",
        "input = Input(shape=(28, 28, 1))\n",
        "encoder3 = Encoder_ConvTranspose_2(input)\n",
        "decoder3 = Decoder_ConvTranspose_2(encoder3)\n",
        "autoencoder3 = Model(input, decoder3)\n",
        "autoencoder3.compile(optimizer = \"adam\", loss = \"mse\")\n",
        "autoencoder3.summary()"
      ],
      "metadata": {
        "colab": {
          "base_uri": "https://localhost:8080/"
        },
        "id": "22D7CGiR4Ry9",
        "outputId": "700004ac-79dc-41b0-c52e-ecbbd6c373f8"
      },
      "execution_count": null,
      "outputs": [
        {
          "output_type": "stream",
          "name": "stdout",
          "text": [
            "Model: \"model_7\"\n",
            "_________________________________________________________________\n",
            " Layer (type)                Output Shape              Param #   \n",
            "=================================================================\n",
            " input_8 (InputLayer)        [(None, 28, 28, 1)]       0         \n",
            "                                                                 \n",
            " conv2d_30 (Conv2D)          (None, 28, 28, 32)        320       \n",
            "                                                                 \n",
            " max_pooling2d_17 (MaxPoolin  (None, 14, 14, 32)       0         \n",
            " g2D)                                                            \n",
            "                                                                 \n",
            " conv2d_31 (Conv2D)          (None, 14, 14, 16)        4624      \n",
            "                                                                 \n",
            " max_pooling2d_18 (MaxPoolin  (None, 7, 7, 16)         0         \n",
            " g2D)                                                            \n",
            "                                                                 \n",
            " conv2d_transpose_8 (Conv2DT  (None, 14, 14, 16)       2320      \n",
            " ranspose)                                                       \n",
            "                                                                 \n",
            " conv2d_transpose_9 (Conv2DT  (None, 28, 28, 32)       4640      \n",
            " ranspose)                                                       \n",
            "                                                                 \n",
            " conv2d_32 (Conv2D)          (None, 28, 28, 1)         289       \n",
            "                                                                 \n",
            "=================================================================\n",
            "Total params: 12,193\n",
            "Trainable params: 12,193\n",
            "Non-trainable params: 0\n",
            "_________________________________________________________________\n"
          ]
        }
      ]
    },
    {
      "cell_type": "code",
      "source": [
        "fit_model_and_log_metrics(\"Model 3\", \"With maxpooling, convtranspose\", autoencoder3, epochs=50, batch_size=128)"
      ],
      "metadata": {
        "colab": {
          "base_uri": "https://localhost:8080/",
          "height": 1000,
          "referenced_widgets": [
            "927183d9f70c4f96881729940aa6144f",
            "5d599104f5a84f8cb6a8baef242c79d5",
            "ffabeed0ee8d4932a0a7eb515fab43de",
            "2c5d3b482c6f4c5b98016f3f1a965eaf",
            "bf4b49ef950542cf8990752023e9f201",
            "4e79fe0a34bd498ea76b9459b8ac997c",
            "e93e34e076fd425fbf19771b163bf7d1",
            "81bc65f7f66141f29c933320f692096f"
          ]
        },
        "id": "V_D74wPbEfdf",
        "outputId": "0f7ef11f-1e62-4663-afd7-82216ebf08ea"
      },
      "execution_count": null,
      "outputs": [
        {
          "output_type": "display_data",
          "data": {
            "text/plain": [
              "<IPython.core.display.HTML object>"
            ],
            "text/html": [
              "Tracking run with wandb version 0.12.11"
            ]
          },
          "metadata": {}
        },
        {
          "output_type": "display_data",
          "data": {
            "text/plain": [
              "<IPython.core.display.HTML object>"
            ],
            "text/html": [
              "Run data is saved locally in <code>/content/wandb/run-20220323_160817-2wuc10kw</code>"
            ]
          },
          "metadata": {}
        },
        {
          "output_type": "display_data",
          "data": {
            "text/plain": [
              "<IPython.core.display.HTML object>"
            ],
            "text/html": [
              "Syncing run <strong><a href=\"https://wandb.ai/csc2231-yash-siphelele/autoencoders_conv/runs/2wuc10kw\" target=\"_blank\">Model 3</a></strong> to <a href=\"https://wandb.ai/csc2231-yash-siphelele/autoencoders_conv\" target=\"_blank\">Weights & Biases</a> (<a href=\"https://wandb.me/run\" target=\"_blank\">docs</a>)<br/>"
            ]
          },
          "metadata": {}
        },
        {
          "output_type": "stream",
          "name": "stdout",
          "text": [
            "Epoch 1/50\n",
            "469/469 [==============================] - 8s 16ms/step - loss: 0.0236 - val_loss: 0.0098 - _timestamp: 1648051711.0000 - _runtime: 14.0000\n",
            "Epoch 2/50\n",
            "469/469 [==============================] - 7s 15ms/step - loss: 0.0080 - val_loss: 0.0069 - _timestamp: 1648051717.0000 - _runtime: 20.0000\n",
            "Epoch 3/50\n",
            "469/469 [==============================] - 7s 15ms/step - loss: 0.0064 - val_loss: 0.0059 - _timestamp: 1648051724.0000 - _runtime: 27.0000\n",
            "Epoch 4/50\n",
            "469/469 [==============================] - 8s 18ms/step - loss: 0.0056 - val_loss: 0.0054 - _timestamp: 1648051733.0000 - _runtime: 36.0000\n",
            "Epoch 5/50\n",
            "469/469 [==============================] - 8s 18ms/step - loss: 0.0052 - val_loss: 0.0051 - _timestamp: 1648051741.0000 - _runtime: 44.0000\n",
            "Epoch 6/50\n",
            "469/469 [==============================] - 7s 15ms/step - loss: 0.0049 - val_loss: 0.0048 - _timestamp: 1648051748.0000 - _runtime: 51.0000\n",
            "Epoch 7/50\n",
            "469/469 [==============================] - 7s 15ms/step - loss: 0.0047 - val_loss: 0.0046 - _timestamp: 1648051755.0000 - _runtime: 58.0000\n",
            "Epoch 8/50\n",
            "469/469 [==============================] - 7s 15ms/step - loss: 0.0046 - val_loss: 0.0045 - _timestamp: 1648051762.0000 - _runtime: 65.0000\n",
            "Epoch 9/50\n",
            "469/469 [==============================] - 7s 14ms/step - loss: 0.0044 - val_loss: 0.0044 - _timestamp: 1648051768.0000 - _runtime: 71.0000\n",
            "Epoch 10/50\n",
            "469/469 [==============================] - 7s 15ms/step - loss: 0.0043 - val_loss: 0.0043 - _timestamp: 1648051775.0000 - _runtime: 78.0000\n",
            "Epoch 11/50\n",
            "469/469 [==============================] - 7s 15ms/step - loss: 0.0043 - val_loss: 0.0042 - _timestamp: 1648051782.0000 - _runtime: 85.0000\n",
            "Epoch 12/50\n",
            "469/469 [==============================] - 7s 14ms/step - loss: 0.0042 - val_loss: 0.0042 - _timestamp: 1648051789.0000 - _runtime: 92.0000\n",
            "Epoch 13/50\n",
            "469/469 [==============================] - 7s 15ms/step - loss: 0.0041 - val_loss: 0.0041 - _timestamp: 1648051796.0000 - _runtime: 99.0000\n",
            "Epoch 14/50\n",
            "469/469 [==============================] - 7s 15ms/step - loss: 0.0041 - val_loss: 0.0041 - _timestamp: 1648051803.0000 - _runtime: 106.0000\n",
            "Epoch 15/50\n",
            "469/469 [==============================] - 7s 15ms/step - loss: 0.0040 - val_loss: 0.0040 - _timestamp: 1648051810.0000 - _runtime: 113.0000\n",
            "Epoch 16/50\n",
            "469/469 [==============================] - 7s 14ms/step - loss: 0.0040 - val_loss: 0.0040 - _timestamp: 1648051817.0000 - _runtime: 120.0000\n",
            "Epoch 17/50\n",
            "469/469 [==============================] - 8s 16ms/step - loss: 0.0040 - val_loss: 0.0039 - _timestamp: 1648051824.0000 - _runtime: 127.0000\n",
            "Epoch 18/50\n",
            "469/469 [==============================] - 7s 15ms/step - loss: 0.0039 - val_loss: 0.0039 - _timestamp: 1648051831.0000 - _runtime: 134.0000\n",
            "Epoch 19/50\n",
            "469/469 [==============================] - 7s 15ms/step - loss: 0.0039 - val_loss: 0.0039 - _timestamp: 1648051838.0000 - _runtime: 141.0000\n",
            "Epoch 20/50\n",
            "469/469 [==============================] - 7s 15ms/step - loss: 0.0039 - val_loss: 0.0039 - _timestamp: 1648051845.0000 - _runtime: 148.0000\n",
            "Epoch 21/50\n",
            "469/469 [==============================] - 7s 15ms/step - loss: 0.0038 - val_loss: 0.0038 - _timestamp: 1648051852.0000 - _runtime: 155.0000\n",
            "Epoch 22/50\n",
            "469/469 [==============================] - 7s 14ms/step - loss: 0.0038 - val_loss: 0.0038 - _timestamp: 1648051859.0000 - _runtime: 162.0000\n",
            "Epoch 23/50\n",
            "469/469 [==============================] - 7s 15ms/step - loss: 0.0038 - val_loss: 0.0038 - _timestamp: 1648051866.0000 - _runtime: 169.0000\n",
            "Epoch 24/50\n",
            "469/469 [==============================] - 7s 15ms/step - loss: 0.0038 - val_loss: 0.0038 - _timestamp: 1648051872.0000 - _runtime: 175.0000\n",
            "Epoch 25/50\n",
            "469/469 [==============================] - 7s 14ms/step - loss: 0.0037 - val_loss: 0.0037 - _timestamp: 1648051879.0000 - _runtime: 182.0000\n",
            "Epoch 26/50\n",
            "469/469 [==============================] - 7s 14ms/step - loss: 0.0037 - val_loss: 0.0037 - _timestamp: 1648051886.0000 - _runtime: 189.0000\n",
            "Epoch 27/50\n",
            "469/469 [==============================] - 7s 15ms/step - loss: 0.0037 - val_loss: 0.0037 - _timestamp: 1648051893.0000 - _runtime: 196.0000\n",
            "Epoch 28/50\n",
            "469/469 [==============================] - 7s 15ms/step - loss: 0.0037 - val_loss: 0.0037 - _timestamp: 1648051900.0000 - _runtime: 203.0000\n",
            "Epoch 29/50\n",
            "469/469 [==============================] - 7s 14ms/step - loss: 0.0036 - val_loss: 0.0036 - _timestamp: 1648051907.0000 - _runtime: 210.0000\n",
            "Epoch 30/50\n",
            "469/469 [==============================] - 7s 15ms/step - loss: 0.0036 - val_loss: 0.0036 - _timestamp: 1648051914.0000 - _runtime: 217.0000\n",
            "Epoch 31/50\n",
            "469/469 [==============================] - 7s 15ms/step - loss: 0.0036 - val_loss: 0.0037 - _timestamp: 1648051921.0000 - _runtime: 224.0000\n",
            "Epoch 32/50\n",
            "469/469 [==============================] - 7s 14ms/step - loss: 0.0036 - val_loss: 0.0036 - _timestamp: 1648051927.0000 - _runtime: 230.0000\n",
            "Epoch 33/50\n",
            "469/469 [==============================] - 7s 14ms/step - loss: 0.0036 - val_loss: 0.0036 - _timestamp: 1648051934.0000 - _runtime: 237.0000\n",
            "Epoch 34/50\n",
            "469/469 [==============================] - 7s 14ms/step - loss: 0.0036 - val_loss: 0.0036 - _timestamp: 1648051941.0000 - _runtime: 244.0000\n",
            "Epoch 35/50\n",
            "469/469 [==============================] - 7s 14ms/step - loss: 0.0036 - val_loss: 0.0035 - _timestamp: 1648051947.0000 - _runtime: 250.0000\n",
            "Epoch 36/50\n",
            "469/469 [==============================] - 7s 14ms/step - loss: 0.0035 - val_loss: 0.0035 - _timestamp: 1648051954.0000 - _runtime: 257.0000\n",
            "Epoch 37/50\n",
            "469/469 [==============================] - 7s 15ms/step - loss: 0.0035 - val_loss: 0.0036 - _timestamp: 1648051961.0000 - _runtime: 264.0000\n",
            "Epoch 38/50\n",
            "469/469 [==============================] - 7s 14ms/step - loss: 0.0035 - val_loss: 0.0035 - _timestamp: 1648051968.0000 - _runtime: 271.0000\n",
            "Epoch 39/50\n",
            "469/469 [==============================] - 7s 15ms/step - loss: 0.0035 - val_loss: 0.0035 - _timestamp: 1648051975.0000 - _runtime: 278.0000\n",
            "Epoch 40/50\n",
            "469/469 [==============================] - 7s 15ms/step - loss: 0.0035 - val_loss: 0.0035 - _timestamp: 1648051982.0000 - _runtime: 285.0000\n",
            "Epoch 41/50\n",
            "469/469 [==============================] - 7s 15ms/step - loss: 0.0035 - val_loss: 0.0035 - _timestamp: 1648051989.0000 - _runtime: 292.0000\n",
            "Epoch 42/50\n",
            "469/469 [==============================] - 7s 14ms/step - loss: 0.0035 - val_loss: 0.0035 - _timestamp: 1648051996.0000 - _runtime: 299.0000\n",
            "Epoch 43/50\n",
            "469/469 [==============================] - 7s 14ms/step - loss: 0.0035 - val_loss: 0.0035 - _timestamp: 1648052003.0000 - _runtime: 306.0000\n",
            "Epoch 44/50\n",
            "469/469 [==============================] - 7s 15ms/step - loss: 0.0034 - val_loss: 0.0034 - _timestamp: 1648052010.0000 - _runtime: 313.0000\n",
            "Epoch 45/50\n",
            "469/469 [==============================] - 7s 15ms/step - loss: 0.0034 - val_loss: 0.0034 - _timestamp: 1648052016.0000 - _runtime: 319.0000\n",
            "Epoch 46/50\n",
            "469/469 [==============================] - 7s 15ms/step - loss: 0.0034 - val_loss: 0.0034 - _timestamp: 1648052023.0000 - _runtime: 326.0000\n",
            "Epoch 47/50\n",
            "469/469 [==============================] - 7s 15ms/step - loss: 0.0034 - val_loss: 0.0035 - _timestamp: 1648052030.0000 - _runtime: 333.0000\n",
            "Epoch 48/50\n",
            "469/469 [==============================] - 7s 15ms/step - loss: 0.0034 - val_loss: 0.0034 - _timestamp: 1648052037.0000 - _runtime: 340.0000\n",
            "Epoch 49/50\n",
            "469/469 [==============================] - 7s 15ms/step - loss: 0.0034 - val_loss: 0.0034 - _timestamp: 1648052044.0000 - _runtime: 347.0000\n",
            "Epoch 50/50\n",
            "469/469 [==============================] - 7s 15ms/step - loss: 0.0034 - val_loss: 0.0034 - _timestamp: 1648052051.0000 - _runtime: 354.0000\n",
            "Avg SSIM over X_test: 0.9289133430835246\n",
            "\n"
          ]
        },
        {
          "output_type": "display_data",
          "data": {
            "text/plain": [
              "<IPython.core.display.HTML object>"
            ],
            "text/html": [
              "Waiting for W&B process to finish... <strong style=\"color:green\">(success).</strong>"
            ]
          },
          "metadata": {}
        },
        {
          "output_type": "display_data",
          "data": {
            "text/plain": [
              "VBox(children=(Label(value='0.196 MB of 0.196 MB uploaded (0.000 MB deduped)\\r'), FloatProgress(value=1.0, max…"
            ],
            "application/vnd.jupyter.widget-view+json": {
              "version_major": 2,
              "version_minor": 0,
              "model_id": "927183d9f70c4f96881729940aa6144f"
            }
          },
          "metadata": {}
        },
        {
          "output_type": "display_data",
          "data": {
            "text/plain": [
              "<IPython.core.display.HTML object>"
            ],
            "text/html": [
              "<style>\n",
              "    table.wandb td:nth-child(1) { padding: 0 10px; text-align: right }\n",
              "    .wandb-row { display: flex; flex-direction: row; flex-wrap: wrap; width: 100% }\n",
              "    .wandb-col { display: flex; flex-direction: column; flex-basis: 100%; flex: 1; padding: 10px; }\n",
              "    </style>\n",
              "<div class=\"wandb-row\"><div class=\"wandb-col\"><h3>Run history:</h3><br/><table class=\"wandb\"><tr><td>avg_ssim_score_x_test</td><td>▁</td></tr><tr><td>epoch</td><td>▁▁▁▁▂▂▂▂▂▃▃▃▃▃▃▄▄▄▄▄▅▅▅▅▅▅▆▆▆▆▆▆▇▇▇▇▇███</td></tr><tr><td>loss</td><td>█▃▂▂▂▁▁▁▁▁▁▁▁▁▁▁▁▁▁▁▁▁▁▁▁▁▁▁▁▁▁▁▁▁▁▁▁▁▁▁</td></tr><tr><td>val_loss</td><td>█▅▄▃▃▂▂▂▂▂▂▂▂▂▂▂▁▁▁▁▁▁▁▁▁▁▁▁▁▁▁▁▁▁▁▁▁▁▁▁</td></tr></table><br/></div><div class=\"wandb-col\"><h3>Run summary:</h3><br/><table class=\"wandb\"><tr><td>avg_ssim_score_x_test</td><td>0.92891</td></tr><tr><td>best_epoch</td><td>47</td></tr><tr><td>best_val_loss</td><td>0.00339</td></tr><tr><td>epoch</td><td>49</td></tr><tr><td>loss</td><td>0.00339</td></tr><tr><td>val_loss</td><td>0.0034</td></tr></table><br/></div></div>"
            ]
          },
          "metadata": {}
        },
        {
          "output_type": "display_data",
          "data": {
            "text/plain": [
              "<IPython.core.display.HTML object>"
            ],
            "text/html": [
              "Synced <strong style=\"color:#cdcd00\">Model 3</strong>: <a href=\"https://wandb.ai/csc2231-yash-siphelele/autoencoders_conv/runs/2wuc10kw\" target=\"_blank\">https://wandb.ai/csc2231-yash-siphelele/autoencoders_conv/runs/2wuc10kw</a><br/>Synced 5 W&B file(s), 1 media file(s), 0 artifact file(s) and 1 other file(s)"
            ]
          },
          "metadata": {}
        },
        {
          "output_type": "display_data",
          "data": {
            "text/plain": [
              "<IPython.core.display.HTML object>"
            ],
            "text/html": [
              "Find logs at: <code>./wandb/run-20220323_160817-2wuc10kw/logs</code>"
            ]
          },
          "metadata": {}
        }
      ]
    },
    {
      "cell_type": "code",
      "source": [
        "# summarize history for loss\n",
        "plt.plot(history.history['loss'])\n",
        "plt.plot(history.history['val_loss'])\n",
        "plt.title('model loss')\n",
        "plt.ylabel('loss')\n",
        "plt.xlabel('epoch')\n",
        "plt.legend(['train', 'val'], loc='upper left')\n",
        "plt.show()"
      ],
      "metadata": {
        "id": "R16-ZQvCEpwM",
        "colab": {
          "base_uri": "https://localhost:8080/",
          "height": 295
        },
        "outputId": "4c75a5da-1467-4fa9-e612-178d33a2af1b"
      },
      "execution_count": null,
      "outputs": [
        {
          "output_type": "display_data",
          "data": {
            "image/png": "[encoded data removed]",
            "text/plain": [
              "<Figure size 432x288 with 1 Axes>"
            ]
          },
          "metadata": {
            "needs_background": "light"
          }
        }
      ]
    },
    {
      "cell_type": "code",
      "source": [
        "decoded_imgs_3 = autoencoder3.predict(x_test)\n",
        "\n",
        "n = 10\n",
        "plt.figure(figsize=(20, 4))\n",
        "for i in range(n):\n",
        " plt.gray()\n",
        " ax = plt.subplot(2, n, i+1)\n",
        " plt.imshow(x_test[i].reshape(28, 28))\n",
        " ax.get_xaxis().set_visible(False)\n",
        " ax.get_yaxis().set_visible(False)\n",
        " \n",
        " ax = plt.subplot(2, n, i +1+n)\n",
        " plt.imshow(decoded_imgs_3[i].reshape(28, 28))\n",
        " ax.get_xaxis().set_visible(False)\n",
        " ax.get_yaxis().set_visible(False)\n",
        "plt.show()"
      ],
      "metadata": {
        "id": "bVI5SVctEv3L",
        "colab": {
          "base_uri": "https://localhost:8080/",
          "height": 248
        },
        "outputId": "2dfda74f-1f7f-49c7-e1b9-aa0a0a378656"
      },
      "execution_count": null,
      "outputs": [
        {
          "output_type": "display_data",
          "data": {
            "image/png": "[encoded data removed]",
            "text/plain": [
              "<Figure size 1440x288 with 20 Axes>"
            ]
          },
          "metadata": {
            "needs_background": "light"
          }
        }
      ]
    },
    {
      "cell_type": "code",
      "source": [
        "# 4th Autoencoder model\n",
        "\n",
        "def Encoder_ConvTranspose_3(input_img):\n",
        "    x = Conv2D(32, (3, 3), activation='leaky_relu', padding='same')(input_img)\n",
        "    x = MaxPooling2D((2, 2), padding='same')(x)\n",
        "    x = Conv2D(16, (3, 3), activation='leaky_relu', padding='same')(x)\n",
        "    encoded = MaxPooling2D((2, 2), padding='same')(x)\n",
        "    return encoded\n",
        "\n",
        "def Decoder_ConvTranspose_3(encoded):\n",
        "    x = Conv2DTranspose(16, (3, 3), strides = 2, activation='leaky_relu', padding='same')(encoded)\n",
        "    x = Conv2DTranspose(32, (3, 3), strides = 2, activation='leaky_relu', padding='same')(x)\n",
        "    decoded = Conv2D(1, (3, 3), padding='same')(x)\n",
        "    return decoded\n",
        "\n",
        "\n",
        "input = Input(shape=(28, 28, 1))\n",
        "encoder4 = Encoder_ConvTranspose_3(input)\n",
        "decoder4 = Decoder_ConvTranspose_3(encoder4)\n",
        "autoencoder4 = Model(input, decoder4)\n",
        "autoencoder4.compile(optimizer = \"adam\", loss = \"mse\")\n",
        "autoencoder4.summary()"
      ],
      "metadata": {
        "id": "uVDm-1__GP6M",
        "colab": {
          "base_uri": "https://localhost:8080/"
        },
        "outputId": "b02242f3-567b-492a-ee14-c627bc63ccb0"
      },
      "execution_count": null,
      "outputs": [
        {
          "output_type": "stream",
          "name": "stdout",
          "text": [
            "Model: \"model_8\"\n",
            "_________________________________________________________________\n",
            " Layer (type)                Output Shape              Param #   \n",
            "=================================================================\n",
            " input_9 (InputLayer)        [(None, 28, 28, 1)]       0         \n",
            "                                                                 \n",
            " conv2d_33 (Conv2D)          (None, 28, 28, 32)        320       \n",
            "                                                                 \n",
            " max_pooling2d_19 (MaxPoolin  (None, 14, 14, 32)       0         \n",
            " g2D)                                                            \n",
            "                                                                 \n",
            " conv2d_34 (Conv2D)          (None, 14, 14, 16)        4624      \n",
            "                                                                 \n",
            " max_pooling2d_20 (MaxPoolin  (None, 7, 7, 16)         0         \n",
            " g2D)                                                            \n",
            "                                                                 \n",
            " conv2d_transpose_10 (Conv2D  (None, 14, 14, 16)       2320      \n",
            " Transpose)                                                      \n",
            "                                                                 \n",
            " conv2d_transpose_11 (Conv2D  (None, 28, 28, 32)       4640      \n",
            " Transpose)                                                      \n",
            "                                                                 \n",
            " conv2d_35 (Conv2D)          (None, 28, 28, 1)         289       \n",
            "                                                                 \n",
            "=================================================================\n",
            "Total params: 12,193\n",
            "Trainable params: 12,193\n",
            "Non-trainable params: 0\n",
            "_________________________________________________________________\n"
          ]
        }
      ]
    },
    {
      "cell_type": "code",
      "source": [
        "fit_model_and_log_metrics(\"Model 4\", \"With maxpooling, convtranspose\", autoencoder4, epochs=50, batch_size=128)"
      ],
      "metadata": {
        "colab": {
          "base_uri": "https://localhost:8080/",
          "height": 1000,
          "referenced_widgets": [
            "d3b0003f8f6a4ddd85b96507cf4bf0b1",
            "9f55b9c0628941e49cc6bb6d81f64fbc",
            "4d976a1ef7884225b861270392756715",
            "81aa5104dc984a999b7fa9da82a6363b",
            "b228727681a1483eb56d756fc3443451",
            "20e9192538554366b49bccf11df57e4f",
            "ed837273abd549488d120bed3a6a3e1d",
            "1fe171a74f874c5a9d9b3c3d66f9047e"
          ]
        },
        "id": "_dVxwz4cEhp5",
        "outputId": "f43a7bcd-45e4-4dae-e037-55d674063ca9"
      },
      "execution_count": null,
      "outputs": [
        {
          "output_type": "display_data",
          "data": {
            "text/plain": [
              "<IPython.core.display.HTML object>"
            ],
            "text/html": [
              "Tracking run with wandb version 0.12.11"
            ]
          },
          "metadata": {}
        },
        {
          "output_type": "display_data",
          "data": {
            "text/plain": [
              "<IPython.core.display.HTML object>"
            ],
            "text/html": [
              "Run data is saved locally in <code>/content/wandb/run-20220323_161457-3inoft79</code>"
            ]
          },
          "metadata": {}
        },
        {
          "output_type": "display_data",
          "data": {
            "text/plain": [
              "<IPython.core.display.HTML object>"
            ],
            "text/html": [
              "Syncing run <strong><a href=\"https://wandb.ai/csc2231-yash-siphelele/autoencoders_conv/runs/3inoft79\" target=\"_blank\">Model 4</a></strong> to <a href=\"https://wandb.ai/csc2231-yash-siphelele/autoencoders_conv\" target=\"_blank\">Weights & Biases</a> (<a href=\"https://wandb.me/run\" target=\"_blank\">docs</a>)<br/>"
            ]
          },
          "metadata": {}
        },
        {
          "output_type": "stream",
          "name": "stdout",
          "text": [
            "Epoch 1/50\n",
            "469/469 [==============================] - 8s 16ms/step - loss: 0.0220 - val_loss: 0.0099 - _timestamp: 1648052112.0000 - _runtime: 15.0000\n",
            "Epoch 2/50\n",
            "469/469 [==============================] - 7s 15ms/step - loss: 0.0081 - val_loss: 0.0068 - _timestamp: 1648052118.0000 - _runtime: 21.0000\n",
            "Epoch 3/50\n",
            "469/469 [==============================] - 7s 15ms/step - loss: 0.0062 - val_loss: 0.0058 - _timestamp: 1648052125.0000 - _runtime: 28.0000\n",
            "Epoch 4/50\n",
            "469/469 [==============================] - 7s 15ms/step - loss: 0.0054 - val_loss: 0.0052 - _timestamp: 1648052132.0000 - _runtime: 35.0000\n",
            "Epoch 5/50\n",
            "469/469 [==============================] - 7s 15ms/step - loss: 0.0050 - val_loss: 0.0048 - _timestamp: 1648052139.0000 - _runtime: 42.0000\n",
            "Epoch 6/50\n",
            "469/469 [==============================] - 7s 15ms/step - loss: 0.0047 - val_loss: 0.0046 - _timestamp: 1648052146.0000 - _runtime: 49.0000\n",
            "Epoch 7/50\n",
            "469/469 [==============================] - 7s 15ms/step - loss: 0.0044 - val_loss: 0.0044 - _timestamp: 1648052153.0000 - _runtime: 56.0000\n",
            "Epoch 8/50\n",
            "469/469 [==============================] - 7s 15ms/step - loss: 0.0043 - val_loss: 0.0042 - _timestamp: 1648052160.0000 - _runtime: 63.0000\n",
            "Epoch 9/50\n",
            "469/469 [==============================] - 7s 15ms/step - loss: 0.0041 - val_loss: 0.0041 - _timestamp: 1648052167.0000 - _runtime: 70.0000\n",
            "Epoch 10/50\n",
            "469/469 [==============================] - 7s 15ms/step - loss: 0.0040 - val_loss: 0.0040 - _timestamp: 1648052174.0000 - _runtime: 77.0000\n",
            "Epoch 11/50\n",
            "469/469 [==============================] - 7s 15ms/step - loss: 0.0039 - val_loss: 0.0039 - _timestamp: 1648052181.0000 - _runtime: 84.0000\n",
            "Epoch 12/50\n",
            "469/469 [==============================] - 7s 15ms/step - loss: 0.0038 - val_loss: 0.0038 - _timestamp: 1648052188.0000 - _runtime: 91.0000\n",
            "Epoch 13/50\n",
            "469/469 [==============================] - 7s 15ms/step - loss: 0.0038 - val_loss: 0.0038 - _timestamp: 1648052195.0000 - _runtime: 98.0000\n",
            "Epoch 14/50\n",
            "469/469 [==============================] - 7s 15ms/step - loss: 0.0037 - val_loss: 0.0037 - _timestamp: 1648052202.0000 - _runtime: 105.0000\n",
            "Epoch 15/50\n",
            "469/469 [==============================] - 7s 15ms/step - loss: 0.0037 - val_loss: 0.0036 - _timestamp: 1648052209.0000 - _runtime: 112.0000\n",
            "Epoch 16/50\n",
            "469/469 [==============================] - 7s 15ms/step - loss: 0.0036 - val_loss: 0.0036 - _timestamp: 1648052216.0000 - _runtime: 119.0000\n",
            "Epoch 17/50\n",
            "469/469 [==============================] - 7s 15ms/step - loss: 0.0036 - val_loss: 0.0036 - _timestamp: 1648052223.0000 - _runtime: 126.0000\n",
            "Epoch 18/50\n",
            "469/469 [==============================] - 7s 15ms/step - loss: 0.0035 - val_loss: 0.0035 - _timestamp: 1648052230.0000 - _runtime: 133.0000\n",
            "Epoch 19/50\n",
            "469/469 [==============================] - 7s 15ms/step - loss: 0.0035 - val_loss: 0.0035 - _timestamp: 1648052237.0000 - _runtime: 140.0000\n",
            "Epoch 20/50\n",
            "469/469 [==============================] - 7s 15ms/step - loss: 0.0035 - val_loss: 0.0034 - _timestamp: 1648052243.0000 - _runtime: 146.0000\n",
            "Epoch 21/50\n",
            "469/469 [==============================] - 7s 15ms/step - loss: 0.0034 - val_loss: 0.0034 - _timestamp: 1648052250.0000 - _runtime: 153.0000\n",
            "Epoch 22/50\n",
            "469/469 [==============================] - 7s 15ms/step - loss: 0.0034 - val_loss: 0.0034 - _timestamp: 1648052257.0000 - _runtime: 160.0000\n",
            "Epoch 23/50\n",
            "469/469 [==============================] - 7s 15ms/step - loss: 0.0034 - val_loss: 0.0034 - _timestamp: 1648052264.0000 - _runtime: 167.0000\n",
            "Epoch 24/50\n",
            "469/469 [==============================] - 7s 15ms/step - loss: 0.0033 - val_loss: 0.0033 - _timestamp: 1648052271.0000 - _runtime: 174.0000\n",
            "Epoch 25/50\n",
            "469/469 [==============================] - 7s 15ms/step - loss: 0.0033 - val_loss: 0.0033 - _timestamp: 1648052278.0000 - _runtime: 181.0000\n",
            "Epoch 26/50\n",
            "469/469 [==============================] - 7s 15ms/step - loss: 0.0033 - val_loss: 0.0033 - _timestamp: 1648052285.0000 - _runtime: 188.0000\n",
            "Epoch 27/50\n",
            "469/469 [==============================] - 7s 15ms/step - loss: 0.0033 - val_loss: 0.0033 - _timestamp: 1648052292.0000 - _runtime: 195.0000\n",
            "Epoch 28/50\n",
            "469/469 [==============================] - 7s 15ms/step - loss: 0.0032 - val_loss: 0.0033 - _timestamp: 1648052299.0000 - _runtime: 202.0000\n",
            "Epoch 29/50\n",
            "469/469 [==============================] - 7s 15ms/step - loss: 0.0032 - val_loss: 0.0032 - _timestamp: 1648052306.0000 - _runtime: 209.0000\n",
            "Epoch 30/50\n",
            "469/469 [==============================] - 7s 15ms/step - loss: 0.0032 - val_loss: 0.0032 - _timestamp: 1648052313.0000 - _runtime: 216.0000\n",
            "Epoch 31/50\n",
            "469/469 [==============================] - 7s 15ms/step - loss: 0.0032 - val_loss: 0.0032 - _timestamp: 1648052320.0000 - _runtime: 223.0000\n",
            "Epoch 32/50\n",
            "469/469 [==============================] - 7s 15ms/step - loss: 0.0032 - val_loss: 0.0032 - _timestamp: 1648052327.0000 - _runtime: 230.0000\n",
            "Epoch 33/50\n",
            "469/469 [==============================] - 7s 15ms/step - loss: 0.0031 - val_loss: 0.0032 - _timestamp: 1648052334.0000 - _runtime: 237.0000\n",
            "Epoch 34/50\n",
            "469/469 [==============================] - 7s 15ms/step - loss: 0.0031 - val_loss: 0.0031 - _timestamp: 1648052341.0000 - _runtime: 244.0000\n",
            "Epoch 35/50\n",
            "469/469 [==============================] - 7s 15ms/step - loss: 0.0031 - val_loss: 0.0031 - _timestamp: 1648052348.0000 - _runtime: 251.0000\n",
            "Epoch 36/50\n",
            "469/469 [==============================] - 7s 15ms/step - loss: 0.0031 - val_loss: 0.0031 - _timestamp: 1648052355.0000 - _runtime: 258.0000\n",
            "Epoch 37/50\n",
            "469/469 [==============================] - 7s 15ms/step - loss: 0.0031 - val_loss: 0.0031 - _timestamp: 1648052362.0000 - _runtime: 265.0000\n",
            "Epoch 38/50\n",
            "469/469 [==============================] - 7s 15ms/step - loss: 0.0031 - val_loss: 0.0031 - _timestamp: 1648052370.0000 - _runtime: 273.0000\n",
            "Epoch 39/50\n",
            "469/469 [==============================] - 7s 15ms/step - loss: 0.0031 - val_loss: 0.0031 - _timestamp: 1648052376.0000 - _runtime: 279.0000\n",
            "Epoch 40/50\n",
            "469/469 [==============================] - 7s 15ms/step - loss: 0.0031 - val_loss: 0.0031 - _timestamp: 1648052384.0000 - _runtime: 287.0000\n",
            "Epoch 41/50\n",
            "469/469 [==============================] - 7s 15ms/step - loss: 0.0030 - val_loss: 0.0031 - _timestamp: 1648052390.0000 - _runtime: 293.0000\n",
            "Epoch 42/50\n",
            "469/469 [==============================] - 7s 15ms/step - loss: 0.0030 - val_loss: 0.0031 - _timestamp: 1648052397.0000 - _runtime: 300.0000\n",
            "Epoch 43/50\n",
            "469/469 [==============================] - 7s 15ms/step - loss: 0.0030 - val_loss: 0.0030 - _timestamp: 1648052404.0000 - _runtime: 307.0000\n",
            "Epoch 44/50\n",
            "469/469 [==============================] - 7s 15ms/step - loss: 0.0030 - val_loss: 0.0030 - _timestamp: 1648052411.0000 - _runtime: 314.0000\n",
            "Epoch 45/50\n",
            "469/469 [==============================] - 7s 15ms/step - loss: 0.0030 - val_loss: 0.0030 - _timestamp: 1648052419.0000 - _runtime: 322.0000\n",
            "Epoch 46/50\n",
            "469/469 [==============================] - 7s 15ms/step - loss: 0.0030 - val_loss: 0.0030 - _timestamp: 1648052426.0000 - _runtime: 329.0000\n",
            "Epoch 47/50\n",
            "469/469 [==============================] - 7s 15ms/step - loss: 0.0030 - val_loss: 0.0030 - _timestamp: 1648052433.0000 - _runtime: 336.0000\n",
            "Epoch 48/50\n",
            "469/469 [==============================] - 7s 15ms/step - loss: 0.0030 - val_loss: 0.0030 - _timestamp: 1648052439.0000 - _runtime: 342.0000\n",
            "Epoch 49/50\n",
            "469/469 [==============================] - 7s 15ms/step - loss: 0.0030 - val_loss: 0.0030 - _timestamp: 1648052446.0000 - _runtime: 349.0000\n",
            "Epoch 50/50\n",
            "469/469 [==============================] - 7s 15ms/step - loss: 0.0030 - val_loss: 0.0030 - _timestamp: 1648052453.0000 - _runtime: 356.0000\n",
            "Avg SSIM over X_test: 0.9359493051895496\n",
            "\n"
          ]
        },
        {
          "output_type": "display_data",
          "data": {
            "text/plain": [
              "<IPython.core.display.HTML object>"
            ],
            "text/html": [
              "Waiting for W&B process to finish... <strong style=\"color:green\">(success).</strong>"
            ]
          },
          "metadata": {}
        },
        {
          "output_type": "display_data",
          "data": {
            "text/plain": [
              "VBox(children=(Label(value='0.196 MB of 0.196 MB uploaded (0.000 MB deduped)\\r'), FloatProgress(value=1.0, max…"
            ],
            "application/vnd.jupyter.widget-view+json": {
              "version_major": 2,
              "version_minor": 0,
              "model_id": "d3b0003f8f6a4ddd85b96507cf4bf0b1"
            }
          },
          "metadata": {}
        },
        {
          "output_type": "display_data",
          "data": {
            "text/plain": [
              "<IPython.core.display.HTML object>"
            ],
            "text/html": [
              "<style>\n",
              "    table.wandb td:nth-child(1) { padding: 0 10px; text-align: right }\n",
              "    .wandb-row { display: flex; flex-direction: row; flex-wrap: wrap; width: 100% }\n",
              "    .wandb-col { display: flex; flex-direction: column; flex-basis: 100%; flex: 1; padding: 10px; }\n",
              "    </style>\n",
              "<div class=\"wandb-row\"><div class=\"wandb-col\"><h3>Run history:</h3><br/><table class=\"wandb\"><tr><td>avg_ssim_score_x_test</td><td>▁</td></tr><tr><td>epoch</td><td>▁▁▁▁▂▂▂▂▂▃▃▃▃▃▃▄▄▄▄▄▅▅▅▅▅▅▆▆▆▆▆▆▇▇▇▇▇███</td></tr><tr><td>loss</td><td>█▃▂▂▂▂▁▁▁▁▁▁▁▁▁▁▁▁▁▁▁▁▁▁▁▁▁▁▁▁▁▁▁▁▁▁▁▁▁▁</td></tr><tr><td>val_loss</td><td>█▅▄▃▃▂▂▂▂▂▂▂▂▂▂▁▁▁▁▁▁▁▁▁▁▁▁▁▁▁▁▁▁▁▁▁▁▁▁▁</td></tr></table><br/></div><div class=\"wandb-col\"><h3>Run summary:</h3><br/><table class=\"wandb\"><tr><td>avg_ssim_score_x_test</td><td>0.93595</td></tr><tr><td>best_epoch</td><td>48</td></tr><tr><td>best_val_loss</td><td>0.00298</td></tr><tr><td>epoch</td><td>49</td></tr><tr><td>loss</td><td>0.00296</td></tr><tr><td>val_loss</td><td>0.00299</td></tr></table><br/></div></div>"
            ]
          },
          "metadata": {}
        },
        {
          "output_type": "display_data",
          "data": {
            "text/plain": [
              "<IPython.core.display.HTML object>"
            ],
            "text/html": [
              "Synced <strong style=\"color:#cdcd00\">Model 4</strong>: <a href=\"https://wandb.ai/csc2231-yash-siphelele/autoencoders_conv/runs/3inoft79\" target=\"_blank\">https://wandb.ai/csc2231-yash-siphelele/autoencoders_conv/runs/3inoft79</a><br/>Synced 5 W&B file(s), 1 media file(s), 0 artifact file(s) and 1 other file(s)"
            ]
          },
          "metadata": {}
        },
        {
          "output_type": "display_data",
          "data": {
            "text/plain": [
              "<IPython.core.display.HTML object>"
            ],
            "text/html": [
              "Find logs at: <code>./wandb/run-20220323_161457-3inoft79/logs</code>"
            ]
          },
          "metadata": {}
        }
      ]
    },
    {
      "cell_type": "code",
      "source": [
        "# summarize history for loss\n",
        "plt.plot(history.history['loss'])\n",
        "plt.plot(history.history['val_loss'])\n",
        "plt.title('model loss')\n",
        "plt.ylabel('loss')\n",
        "plt.xlabel('epoch')\n",
        "plt.legend(['train', 'val'], loc='upper left')\n",
        "plt.show()"
      ],
      "metadata": {
        "colab": {
          "base_uri": "https://localhost:8080/",
          "height": 295
        },
        "id": "O1xZiU34EwU4",
        "outputId": "d66d9390-bfa5-4893-83c0-5ff2ea3cd9e5"
      },
      "execution_count": null,
      "outputs": [
        {
          "output_type": "display_data",
          "data": {
            "image/png": "[encoded data removed]",
            "text/plain": [
              "<Figure size 432x288 with 1 Axes>"
            ]
          },
          "metadata": {
            "needs_background": "light"
          }
        }
      ]
    },
    {
      "cell_type": "code",
      "source": [
        "decoded_imgs_4 = autoencoder4.predict(x_test)\n",
        "\n",
        "n = 10\n",
        "plt.figure(figsize=(20, 4))\n",
        "for i in range(n):\n",
        " plt.gray()\n",
        " ax = plt.subplot(2, n, i+1)\n",
        " plt.imshow(x_test[i].reshape(28, 28))\n",
        " ax.get_xaxis().set_visible(False)\n",
        " ax.get_yaxis().set_visible(False)\n",
        " \n",
        " ax = plt.subplot(2, n, i +1+n)\n",
        " plt.imshow(decoded_imgs_4[i].reshape(28, 28))\n",
        " ax.get_xaxis().set_visible(False)\n",
        " ax.get_yaxis().set_visible(False)\n",
        "plt.show()"
      ],
      "metadata": {
        "colab": {
          "base_uri": "https://localhost:8080/",
          "height": 248
        },
        "id": "46OkhWnKGyTA",
        "outputId": "367e5086-c99c-49c5-9400-dc810ea66c4e"
      },
      "execution_count": null,
      "outputs": [
        {
          "output_type": "display_data",
          "data": {
            "image/png": "[encoded data removed]",
            "text/plain": [
              "<Figure size 1440x288 with 20 Axes>"
            ]
          },
          "metadata": {
            "needs_background": "light"
          }
        }
      ]
    },
    {
      "cell_type": "code",
      "source": [
        "# 5th Autoencoder model\n",
        "\n",
        "def Encoder_ConvTranspose_4(input_img):\n",
        "    x = Conv2D(32, (3, 3), activation='leaky_relu', padding='same', strides=2)(input_img)\n",
        "    x = Conv2D(16, (3, 3), activation='leaky_relu', padding='same', strides=2)(x)\n",
        "    encoded = Conv2D(16, (3, 3), activation='leaky_relu', padding='same')(x)\n",
        "    return encoded\n",
        "\n",
        "def Decoder_ConvTranspose_4(encoded):\n",
        "    x = Conv2DTranspose(16, (3, 3), strides = 2, activation='leaky_relu', padding='same')(encoded)\n",
        "    x = Conv2DTranspose(32, (3, 3), strides = 2, activation='leaky_relu', padding='same')(x)\n",
        "    decoded = Conv2D(1, (3, 3), padding='same')(x)\n",
        "    return decoded\n",
        "\n",
        "\n",
        "input = Input(shape=(28, 28, 1)) \n",
        "encoder5 = Encoder_ConvTranspose_4(input)\n",
        "decoder5 = Decoder_ConvTranspose_4(encoder5)\n",
        "autoencoder5 = Model(input, decoder5)\n",
        "autoencoder5.compile(optimizer = \"adam\", loss = \"mse\")\n",
        "autoencoder5.summary()"
      ],
      "metadata": {
        "colab": {
          "base_uri": "https://localhost:8080/"
        },
        "id": "bijNpm0RHlIa",
        "outputId": "ef0a7921-b7f3-4104-8fd4-47eea5d2999f"
      },
      "execution_count": null,
      "outputs": [
        {
          "output_type": "stream",
          "name": "stdout",
          "text": [
            "Model: \"model_9\"\n",
            "_________________________________________________________________\n",
            " Layer (type)                Output Shape              Param #   \n",
            "=================================================================\n",
            " input_10 (InputLayer)       [(None, 28, 28, 1)]       0         \n",
            "                                                                 \n",
            " conv2d_36 (Conv2D)          (None, 14, 14, 32)        320       \n",
            "                                                                 \n",
            " conv2d_37 (Conv2D)          (None, 7, 7, 16)          4624      \n",
            "                                                                 \n",
            " conv2d_38 (Conv2D)          (None, 7, 7, 16)          2320      \n",
            "                                                                 \n",
            " conv2d_transpose_12 (Conv2D  (None, 14, 14, 16)       2320      \n",
            " Transpose)                                                      \n",
            "                                                                 \n",
            " conv2d_transpose_13 (Conv2D  (None, 28, 28, 32)       4640      \n",
            " Transpose)                                                      \n",
            "                                                                 \n",
            " conv2d_39 (Conv2D)          (None, 28, 28, 1)         289       \n",
            "                                                                 \n",
            "=================================================================\n",
            "Total params: 14,513\n",
            "Trainable params: 14,513\n",
            "Non-trainable params: 0\n",
            "_________________________________________________________________\n"
          ]
        }
      ]
    },
    {
      "cell_type": "code",
      "source": [
        "fit_model_and_log_metrics(\"Model 5\", \"With maxpooling, convtranspose\", autoencoder5, epochs=50, batch_size=128)"
      ],
      "metadata": {
        "colab": {
          "base_uri": "https://localhost:8080/",
          "height": 1000,
          "referenced_widgets": [
            "43eb9b7ab2404fbeac380d41a6626ffb",
            "0086c4dd1e2941699bb927a1d499208a",
            "bc1f17cc21e34334947083248a772d9d",
            "d963d2788cbc46bcb2f10f97fd38c935",
            "bbd62188163642a0981052bb4020d635",
            "288d704c01dd4ecbb9b24c61149eb183",
            "d8a39906d9ea49c68791d87eb16abd73",
            "4daba5ca9741466fb817a0ce2c5c8356"
          ]
        },
        "id": "TDMUM2NnKLAn",
        "outputId": "7abe50db-9d7f-4ec9-f17f-a9b52e71c194"
      },
      "execution_count": null,
      "outputs": [
        {
          "output_type": "display_data",
          "data": {
            "text/plain": [
              "<IPython.core.display.HTML object>"
            ],
            "text/html": [
              "Tracking run with wandb version 0.12.11"
            ]
          },
          "metadata": {}
        },
        {
          "output_type": "display_data",
          "data": {
            "text/plain": [
              "<IPython.core.display.HTML object>"
            ],
            "text/html": [
              "Run data is saved locally in <code>/content/wandb/run-20220323_162233-2yd1cwg0</code>"
            ]
          },
          "metadata": {}
        },
        {
          "output_type": "display_data",
          "data": {
            "text/plain": [
              "<IPython.core.display.HTML object>"
            ],
            "text/html": [
              "Syncing run <strong><a href=\"https://wandb.ai/csc2231-yash-siphelele/autoencoders_conv/runs/2yd1cwg0\" target=\"_blank\">Model 5</a></strong> to <a href=\"https://wandb.ai/csc2231-yash-siphelele/autoencoders_conv\" target=\"_blank\">Weights & Biases</a> (<a href=\"https://wandb.me/run\" target=\"_blank\">docs</a>)<br/>"
            ]
          },
          "metadata": {}
        },
        {
          "output_type": "stream",
          "name": "stdout",
          "text": [
            "Epoch 1/50\n",
            "469/469 [==============================] - 7s 14ms/step - loss: 0.0221 - val_loss: 0.0076 - _timestamp: 1648052566.0000 - _runtime: 13.0000\n",
            "Epoch 2/50\n",
            "469/469 [==============================] - 6s 13ms/step - loss: 0.0056 - val_loss: 0.0043 - _timestamp: 1648052572.0000 - _runtime: 19.0000\n",
            "Epoch 3/50\n",
            "469/469 [==============================] - 6s 14ms/step - loss: 0.0037 - val_loss: 0.0033 - _timestamp: 1648052578.0000 - _runtime: 25.0000\n",
            "Epoch 4/50\n",
            "469/469 [==============================] - 6s 13ms/step - loss: 0.0030 - val_loss: 0.0027 - _timestamp: 1648052584.0000 - _runtime: 31.0000\n",
            "Epoch 5/50\n",
            "469/469 [==============================] - 6s 13ms/step - loss: 0.0025 - val_loss: 0.0024 - _timestamp: 1648052591.0000 - _runtime: 38.0000\n",
            "Epoch 6/50\n",
            "469/469 [==============================] - 6s 13ms/step - loss: 0.0022 - val_loss: 0.0021 - _timestamp: 1648052597.0000 - _runtime: 44.0000\n",
            "Epoch 7/50\n",
            "469/469 [==============================] - 6s 13ms/step - loss: 0.0020 - val_loss: 0.0019 - _timestamp: 1648052603.0000 - _runtime: 50.0000\n",
            "Epoch 8/50\n",
            "469/469 [==============================] - 6s 13ms/step - loss: 0.0018 - val_loss: 0.0017 - _timestamp: 1648052609.0000 - _runtime: 56.0000\n",
            "Epoch 9/50\n",
            "469/469 [==============================] - 6s 13ms/step - loss: 0.0016 - val_loss: 0.0016 - _timestamp: 1648052615.0000 - _runtime: 62.0000\n",
            "Epoch 10/50\n",
            "469/469 [==============================] - 6s 13ms/step - loss: 0.0015 - val_loss: 0.0014 - _timestamp: 1648052622.0000 - _runtime: 69.0000\n",
            "Epoch 11/50\n",
            "469/469 [==============================] - 6s 13ms/step - loss: 0.0014 - val_loss: 0.0013 - _timestamp: 1648052628.0000 - _runtime: 75.0000\n",
            "Epoch 12/50\n",
            "469/469 [==============================] - 6s 13ms/step - loss: 0.0013 - val_loss: 0.0012 - _timestamp: 1648052634.0000 - _runtime: 81.0000\n",
            "Epoch 13/50\n",
            "469/469 [==============================] - 6s 13ms/step - loss: 0.0012 - val_loss: 0.0011 - _timestamp: 1648052640.0000 - _runtime: 87.0000\n",
            "Epoch 14/50\n",
            "469/469 [==============================] - 6s 13ms/step - loss: 0.0011 - val_loss: 0.0011 - _timestamp: 1648052646.0000 - _runtime: 93.0000\n",
            "Epoch 15/50\n",
            "469/469 [==============================] - 6s 13ms/step - loss: 0.0011 - val_loss: 0.0011 - _timestamp: 1648052652.0000 - _runtime: 99.0000\n",
            "Epoch 16/50\n",
            "469/469 [==============================] - 6s 13ms/step - loss: 0.0010 - val_loss: 0.0013 - _timestamp: 1648052658.0000 - _runtime: 105.0000\n",
            "Epoch 17/50\n",
            "469/469 [==============================] - 6s 13ms/step - loss: 9.6939e-04 - val_loss: 9.1373e-04 - _timestamp: 1648052664.0000 - _runtime: 111.0000\n",
            "Epoch 18/50\n",
            "469/469 [==============================] - 6s 13ms/step - loss: 9.1639e-04 - val_loss: 8.5279e-04 - _timestamp: 1648052670.0000 - _runtime: 117.0000\n",
            "Epoch 19/50\n",
            "469/469 [==============================] - 6s 13ms/step - loss: 8.6485e-04 - val_loss: 8.1749e-04 - _timestamp: 1648052676.0000 - _runtime: 123.0000\n",
            "Epoch 20/50\n",
            "469/469 [==============================] - 6s 13ms/step - loss: 8.1579e-04 - val_loss: 7.6569e-04 - _timestamp: 1648052682.0000 - _runtime: 129.0000\n",
            "Epoch 21/50\n",
            "469/469 [==============================] - 6s 13ms/step - loss: 7.7803e-04 - val_loss: 7.3853e-04 - _timestamp: 1648052689.0000 - _runtime: 136.0000\n",
            "Epoch 22/50\n",
            "469/469 [==============================] - 6s 13ms/step - loss: 7.4581e-04 - val_loss: 7.0020e-04 - _timestamp: 1648052695.0000 - _runtime: 142.0000\n",
            "Epoch 23/50\n",
            "469/469 [==============================] - 6s 13ms/step - loss: 7.1472e-04 - val_loss: 6.9905e-04 - _timestamp: 1648052701.0000 - _runtime: 148.0000\n",
            "Epoch 24/50\n",
            "469/469 [==============================] - 6s 13ms/step - loss: 6.9373e-04 - val_loss: 6.8450e-04 - _timestamp: 1648052707.0000 - _runtime: 154.0000\n",
            "Epoch 25/50\n",
            "469/469 [==============================] - 6s 13ms/step - loss: 6.6828e-04 - val_loss: 7.1774e-04 - _timestamp: 1648052713.0000 - _runtime: 160.0000\n",
            "Epoch 26/50\n",
            "469/469 [==============================] - 7s 14ms/step - loss: 6.5399e-04 - val_loss: 6.3612e-04 - _timestamp: 1648052720.0000 - _runtime: 167.0000\n",
            "Epoch 27/50\n",
            "469/469 [==============================] - 6s 13ms/step - loss: 6.3996e-04 - val_loss: 6.1426e-04 - _timestamp: 1648052726.0000 - _runtime: 173.0000\n",
            "Epoch 28/50\n",
            "469/469 [==============================] - 6s 13ms/step - loss: 6.2576e-04 - val_loss: 5.9486e-04 - _timestamp: 1648052732.0000 - _runtime: 179.0000\n",
            "Epoch 29/50\n",
            "469/469 [==============================] - 6s 13ms/step - loss: 6.1157e-04 - val_loss: 5.7598e-04 - _timestamp: 1648052738.0000 - _runtime: 185.0000\n",
            "Epoch 30/50\n",
            "469/469 [==============================] - 7s 15ms/step - loss: 5.9413e-04 - val_loss: 5.9903e-04 - _timestamp: 1648052746.0000 - _runtime: 193.0000\n",
            "Epoch 31/50\n",
            "469/469 [==============================] - 8s 17ms/step - loss: 5.8202e-04 - val_loss: 5.6065e-04 - _timestamp: 1648052753.0000 - _runtime: 200.0000\n",
            "Epoch 32/50\n",
            "469/469 [==============================] - 7s 14ms/step - loss: 5.6945e-04 - val_loss: 5.3498e-04 - _timestamp: 1648052760.0000 - _runtime: 207.0000\n",
            "Epoch 33/50\n",
            "469/469 [==============================] - 6s 13ms/step - loss: 5.6036e-04 - val_loss: 5.2861e-04 - _timestamp: 1648052766.0000 - _runtime: 213.0000\n",
            "Epoch 34/50\n",
            "469/469 [==============================] - 6s 13ms/step - loss: 5.5205e-04 - val_loss: 5.9991e-04 - _timestamp: 1648052772.0000 - _runtime: 219.0000\n",
            "Epoch 35/50\n",
            "469/469 [==============================] - 6s 13ms/step - loss: 5.3185e-04 - val_loss: 5.2312e-04 - _timestamp: 1648052779.0000 - _runtime: 226.0000\n",
            "Epoch 36/50\n",
            "469/469 [==============================] - 6s 13ms/step - loss: 5.1730e-04 - val_loss: 4.8972e-04 - _timestamp: 1648052785.0000 - _runtime: 232.0000\n",
            "Epoch 37/50\n",
            "469/469 [==============================] - 6s 13ms/step - loss: 5.1852e-04 - val_loss: 4.7897e-04 - _timestamp: 1648052791.0000 - _runtime: 238.0000\n",
            "Epoch 38/50\n",
            "469/469 [==============================] - 6s 13ms/step - loss: 4.9955e-04 - val_loss: 4.6409e-04 - _timestamp: 1648052797.0000 - _runtime: 244.0000\n",
            "Epoch 39/50\n",
            "469/469 [==============================] - 6s 13ms/step - loss: 4.8560e-04 - val_loss: 4.8757e-04 - _timestamp: 1648052803.0000 - _runtime: 250.0000\n",
            "Epoch 40/50\n",
            "469/469 [==============================] - 6s 13ms/step - loss: 4.7646e-04 - val_loss: 4.4824e-04 - _timestamp: 1648052809.0000 - _runtime: 256.0000\n",
            "Epoch 41/50\n",
            "469/469 [==============================] - 6s 13ms/step - loss: 4.6620e-04 - val_loss: 5.1541e-04 - _timestamp: 1648052816.0000 - _runtime: 263.0000\n",
            "Epoch 42/50\n",
            "469/469 [==============================] - 6s 13ms/step - loss: 4.5287e-04 - val_loss: 4.2288e-04 - _timestamp: 1648052822.0000 - _runtime: 269.0000\n",
            "Epoch 43/50\n",
            "469/469 [==============================] - 6s 13ms/step - loss: 4.4614e-04 - val_loss: 4.1878e-04 - _timestamp: 1648052828.0000 - _runtime: 275.0000\n",
            "Epoch 44/50\n",
            "469/469 [==============================] - 6s 13ms/step - loss: 4.4134e-04 - val_loss: 4.1528e-04 - _timestamp: 1648052834.0000 - _runtime: 281.0000\n",
            "Epoch 45/50\n",
            "469/469 [==============================] - 6s 13ms/step - loss: 4.2502e-04 - val_loss: 4.2454e-04 - _timestamp: 1648052840.0000 - _runtime: 287.0000\n",
            "Epoch 46/50\n",
            "469/469 [==============================] - 6s 13ms/step - loss: 4.2441e-04 - val_loss: 4.2597e-04 - _timestamp: 1648052846.0000 - _runtime: 293.0000\n",
            "Epoch 47/50\n",
            "469/469 [==============================] - 6s 13ms/step - loss: 4.1177e-04 - val_loss: 3.9662e-04 - _timestamp: 1648052852.0000 - _runtime: 299.0000\n",
            "Epoch 48/50\n",
            "469/469 [==============================] - 6s 13ms/step - loss: 4.0450e-04 - val_loss: 4.0723e-04 - _timestamp: 1648052858.0000 - _runtime: 305.0000\n",
            "Epoch 49/50\n",
            "469/469 [==============================] - 6s 13ms/step - loss: 3.9913e-04 - val_loss: 3.6948e-04 - _timestamp: 1648052864.0000 - _runtime: 311.0000\n",
            "Epoch 50/50\n",
            "469/469 [==============================] - 6s 13ms/step - loss: 3.9024e-04 - val_loss: 3.8238e-04 - _timestamp: 1648052870.0000 - _runtime: 317.0000\n",
            "Avg SSIM over X_test: 0.9915343583267968\n",
            "\n"
          ]
        },
        {
          "output_type": "display_data",
          "data": {
            "text/plain": [
              "<IPython.core.display.HTML object>"
            ],
            "text/html": [
              "Waiting for W&B process to finish... <strong style=\"color:green\">(success).</strong>"
            ]
          },
          "metadata": {}
        },
        {
          "output_type": "display_data",
          "data": {
            "text/plain": [
              "VBox(children=(Label(value='0.227 MB of 0.227 MB uploaded (0.000 MB deduped)\\r'), FloatProgress(value=1.0, max…"
            ],
            "application/vnd.jupyter.widget-view+json": {
              "version_major": 2,
              "version_minor": 0,
              "model_id": "43eb9b7ab2404fbeac380d41a6626ffb"
            }
          },
          "metadata": {}
        },
        {
          "output_type": "display_data",
          "data": {
            "text/plain": [
              "<IPython.core.display.HTML object>"
            ],
            "text/html": [
              "<style>\n",
              "    table.wandb td:nth-child(1) { padding: 0 10px; text-align: right }\n",
              "    .wandb-row { display: flex; flex-direction: row; flex-wrap: wrap; width: 100% }\n",
              "    .wandb-col { display: flex; flex-direction: column; flex-basis: 100%; flex: 1; padding: 10px; }\n",
              "    </style>\n",
              "<div class=\"wandb-row\"><div class=\"wandb-col\"><h3>Run history:</h3><br/><table class=\"wandb\"><tr><td>avg_ssim_score_x_test</td><td>▁</td></tr><tr><td>epoch</td><td>▁▁▁▁▂▂▂▂▂▃▃▃▃▃▃▄▄▄▄▄▅▅▅▅▅▅▆▆▆▆▆▆▇▇▇▇▇███</td></tr><tr><td>loss</td><td>█▃▂▂▂▂▁▁▁▁▁▁▁▁▁▁▁▁▁▁▁▁▁▁▁▁▁▁▁▁▁▁▁▁▁▁▁▁▁▁</td></tr><tr><td>val_loss</td><td>█▅▄▃▃▂▂▂▂▂▂▂▂▂▁▁▁▁▁▁▁▁▁▁▁▁▁▁▁▁▁▁▁▁▁▁▁▁▁▁</td></tr></table><br/></div><div class=\"wandb-col\"><h3>Run summary:</h3><br/><table class=\"wandb\"><tr><td>avg_ssim_score_x_test</td><td>0.99153</td></tr><tr><td>best_epoch</td><td>48</td></tr><tr><td>best_val_loss</td><td>0.00037</td></tr><tr><td>epoch</td><td>49</td></tr><tr><td>loss</td><td>0.00039</td></tr><tr><td>val_loss</td><td>0.00038</td></tr></table><br/></div></div>"
            ]
          },
          "metadata": {}
        },
        {
          "output_type": "display_data",
          "data": {
            "text/plain": [
              "<IPython.core.display.HTML object>"
            ],
            "text/html": [
              "Synced <strong style=\"color:#cdcd00\">Model 5</strong>: <a href=\"https://wandb.ai/csc2231-yash-siphelele/autoencoders_conv/runs/2yd1cwg0\" target=\"_blank\">https://wandb.ai/csc2231-yash-siphelele/autoencoders_conv/runs/2yd1cwg0</a><br/>Synced 5 W&B file(s), 1 media file(s), 0 artifact file(s) and 1 other file(s)"
            ]
          },
          "metadata": {}
        },
        {
          "output_type": "display_data",
          "data": {
            "text/plain": [
              "<IPython.core.display.HTML object>"
            ],
            "text/html": [
              "Find logs at: <code>./wandb/run-20220323_162233-2yd1cwg0/logs</code>"
            ]
          },
          "metadata": {}
        }
      ]
    },
    {
      "cell_type": "code",
      "source": [
        "# summarize history for loss\n",
        "plt.plot(history.history['loss'])\n",
        "plt.plot(history.history['val_loss'])\n",
        "plt.title('model loss')\n",
        "plt.ylabel('loss')\n",
        "plt.xlabel('epoch')\n",
        "plt.legend(['train', 'val'], loc='upper left')\n",
        "plt.show()"
      ],
      "metadata": {
        "colab": {
          "base_uri": "https://localhost:8080/",
          "height": 295
        },
        "id": "-sc9ag9uKlWA",
        "outputId": "c9e94db4-f5c1-4d9e-dee8-cc2827a7b21e"
      },
      "execution_count": null,
      "outputs": [
        {
          "output_type": "display_data",
          "data": {
            "image/png": "[encoded data removed]",
            "text/plain": [
              "<Figure size 432x288 with 1 Axes>"
            ]
          },
          "metadata": {
            "needs_background": "light"
          }
        }
      ]
    },
    {
      "cell_type": "code",
      "source": [
        "decoded_imgs_5 = autoencoder5.predict(x_test)\n",
        "\n",
        "n = 10\n",
        "plt.figure(figsize=(20, 4))\n",
        "for i in range(n):\n",
        " plt.gray()\n",
        " ax = plt.subplot(2, n, i+1)\n",
        " plt.imshow(x_test[i].reshape(28, 28))\n",
        " ax.get_xaxis().set_visible(False)\n",
        " ax.get_yaxis().set_visible(False)\n",
        " \n",
        " ax = plt.subplot(2, n, i +1+n)\n",
        " plt.imshow(decoded_imgs_5[i].reshape(28, 28))\n",
        " ax.get_xaxis().set_visible(False)\n",
        " ax.get_yaxis().set_visible(False)\n",
        "plt.show()"
      ],
      "metadata": {
        "colab": {
          "base_uri": "https://localhost:8080/",
          "height": 242
        },
        "id": "Z8FpTQZFL6z7",
        "outputId": "d2b99a4d-63c8-4b81-b213-530a0a8cdb2b"
      },
      "execution_count": null,
      "outputs": [
        {
          "output_type": "display_data",
          "data": {
            "text/plain": [
              "<Figure size 1440x288 with 20 Axes>"
            ],
            "image/png": "[encoded data removed]"
          },
          "metadata": {
            "needs_background": "light"
          }
        }
      ]
    },
    {
      "cell_type": "code",
      "source": [
        "decoded_imgs_5.shape"
      ],
      "metadata": {
        "colab": {
          "base_uri": "https://localhost:8080/"
        },
        "id": "v9WR-GGIgou5",
        "outputId": "284d47ad-8d42-4b14-e4ff-44c57a14e892"
      },
      "execution_count": null,
      "outputs": [
        {
          "output_type": "execute_result",
          "data": {
            "text/plain": [
              "(10000, 28, 28, 1)"
            ]
          },
          "metadata": {},
          "execution_count": 17
        }
      ]
    },
    {
      "cell_type": "code",
      "source": [
        "def save_image(filename, data_array):\n",
        "    np_img = np.squeeze(data_array, axis=2)  # axis=2 is channel dimension \n",
        "    im = Image.fromarray((np_img * 255).astype('uint8'))\n",
        "    # im = Image.fromarray(data_array.astype('uint8'))\n",
        "    im_invert = ImageOps.invert(im)\n",
        "    im_invert.save(filename)"
      ],
      "metadata": {
        "id": "d9gtJrgDMTZD"
      },
      "execution_count": null,
      "outputs": []
    },
    {
      "cell_type": "code",
      "source": [
        "DIR_NAME_DEC = 'X_TEST_DECODED'\n",
        "\n",
        "if os.path.exists(DIR_NAME_DEC) == False:\n",
        "    os.mkdir(DIR_NAME_DEC)\n",
        "\n",
        "i = 0\n",
        "for img in decoded_imgs_5:\n",
        "    filename = \"{0}/{1:05d}.jpg\".format(DIR_NAME_DEC,i)\n",
        "    print(filename)\n",
        "    save_image(filename, img)\n",
        "    i += 1"
      ],
      "metadata": {
        "id": "LpmTfnwiNGtH"
      },
      "execution_count": null,
      "outputs": []
    },
    {
      "cell_type": "code",
      "source": [
        "!rm -r X_TEST_DECODED"
      ],
      "metadata": {
        "id": "kC8DncVWexcA"
      },
      "execution_count": null,
      "outputs": []
    },
    {
      "cell_type": "code",
      "source": [
        "!zip -r X_TEST_DECODED.zip X_TEST_DECODED/ "
      ],
      "metadata": {
        "id": "haNS32DpfjFY"
      },
      "execution_count": null,
      "outputs": []
    },
    {
      "cell_type": "code",
      "source": [
        "!zip -r JPEGImages.zip JPEGImages/ "
      ],
      "metadata": {
        "id": "yBaha9XFoyby"
      },
      "execution_count": null,
      "outputs": []
    },
    {
      "cell_type": "code",
      "source": [
        "# 6th Autoencoder model\n",
        "\n",
        "def Encoder_ConvTranspose_5(input_img):\n",
        "    x = Conv2D(32, (3, 3), activation='leaky_relu', padding='same', strides=2)(input_img)\n",
        "    x = Conv2D(16, (3, 3), activation='leaky_relu', padding='same', strides=2)(x)\n",
        "    encoded = Conv2D(8, (3, 3), activation='leaky_relu', padding='same')(x)\n",
        "    return encoded\n",
        "\n",
        "def Decoder_ConvTranspose_5(encoded):\n",
        "    x = Conv2DTranspose(16, (3, 3), strides = 2, activation='leaky_relu', padding='same')(encoded)\n",
        "    x = Conv2DTranspose(32, (3, 3), strides = 2, activation='leaky_relu', padding='same')(x)\n",
        "    decoded = Conv2D(1, (3, 3), padding='same')(x)\n",
        "    return decoded\n",
        "\n",
        "\n",
        "input = Input(shape=(28, 28, 1)) \n",
        "encoder6 = Encoder_ConvTranspose_5(input)\n",
        "decoder6 = Decoder_ConvTranspose_5(encoder6)\n",
        "autoencoder6 = Model(input, decoder6)\n",
        "autoencoder6.compile(optimizer = \"adam\", loss = \"mse\")\n",
        "autoencoder6.summary()"
      ],
      "metadata": {
        "id": "JxuyiOoWo7rX",
        "colab": {
          "base_uri": "https://localhost:8080/"
        },
        "outputId": "5fd3e1e3-2c6d-44a9-d62a-83d7e2505107"
      },
      "execution_count": null,
      "outputs": [
        {
          "output_type": "stream",
          "name": "stdout",
          "text": [
            "Model: \"model_10\"\n",
            "_________________________________________________________________\n",
            " Layer (type)                Output Shape              Param #   \n",
            "=================================================================\n",
            " input_11 (InputLayer)       [(None, 28, 28, 1)]       0         \n",
            "                                                                 \n",
            " conv2d_40 (Conv2D)          (None, 14, 14, 32)        320       \n",
            "                                                                 \n",
            " conv2d_41 (Conv2D)          (None, 7, 7, 16)          4624      \n",
            "                                                                 \n",
            " conv2d_42 (Conv2D)          (None, 7, 7, 8)           1160      \n",
            "                                                                 \n",
            " conv2d_transpose_14 (Conv2D  (None, 14, 14, 16)       1168      \n",
            " Transpose)                                                      \n",
            "                                                                 \n",
            " conv2d_transpose_15 (Conv2D  (None, 28, 28, 32)       4640      \n",
            " Transpose)                                                      \n",
            "                                                                 \n",
            " conv2d_43 (Conv2D)          (None, 28, 28, 1)         289       \n",
            "                                                                 \n",
            "=================================================================\n",
            "Total params: 12,201\n",
            "Trainable params: 12,201\n",
            "Non-trainable params: 0\n",
            "_________________________________________________________________\n"
          ]
        }
      ]
    },
    {
      "cell_type": "code",
      "source": [
        "fit_model_and_log_metrics(\"Model 6\", \"With maxpooling, convtranspose\", autoencoder6, epochs=50, batch_size=128) "
      ],
      "metadata": {
        "colab": {
          "base_uri": "https://localhost:8080/",
          "height": 1000,
          "referenced_widgets": [
            "f57cd927798b40a7ad83488da655f0d5",
            "fd0d3e29dc3a414482bc13d6d9c87f21",
            "6abd406d532943f8b33876c9e51730a5",
            "98dfb5fc041d4673bcbfb1520ac1f3a7",
            "00610c9ca4914fd5a1d339a9688d50e9",
            "4e65fff7b9d94ee69c3050a8231d7ce6",
            "bf5afd0e3acf46bba819b1f98f5b271b",
            "97dd2529f47d420c8a7a1d3937d0e322"
          ]
        },
        "id": "69K1LZzl9ZQk",
        "outputId": "95be5b6c-fbb5-4f36-b53b-a0eda56bd0d2"
      },
      "execution_count": null,
      "outputs": [
        {
          "output_type": "display_data",
          "data": {
            "text/plain": [
              "<IPython.core.display.HTML object>"
            ],
            "text/html": [
              "Tracking run with wandb version 0.12.11"
            ]
          },
          "metadata": {}
        },
        {
          "output_type": "display_data",
          "data": {
            "text/plain": [
              "<IPython.core.display.HTML object>"
            ],
            "text/html": [
              "Run data is saved locally in <code>/content/wandb/run-20220323_162811-1qauyh1z</code>"
            ]
          },
          "metadata": {}
        },
        {
          "output_type": "display_data",
          "data": {
            "text/plain": [
              "<IPython.core.display.HTML object>"
            ],
            "text/html": [
              "Syncing run <strong><a href=\"https://wandb.ai/csc2231-yash-siphelele/autoencoders_conv/runs/1qauyh1z\" target=\"_blank\">Model 6</a></strong> to <a href=\"https://wandb.ai/csc2231-yash-siphelele/autoencoders_conv\" target=\"_blank\">Weights & Biases</a> (<a href=\"https://wandb.me/run\" target=\"_blank\">docs</a>)<br/>"
            ]
          },
          "metadata": {}
        },
        {
          "output_type": "stream",
          "name": "stdout",
          "text": [
            "Epoch 1/50\n",
            "469/469 [==============================] - 7s 14ms/step - loss: 0.0233 - val_loss: 0.0093 - _timestamp: 1648052903.0000 - _runtime: 12.0000\n",
            "Epoch 2/50\n",
            "469/469 [==============================] - 6s 13ms/step - loss: 0.0074 - val_loss: 0.0061 - _timestamp: 1648052909.0000 - _runtime: 18.0000\n",
            "Epoch 3/50\n",
            "469/469 [==============================] - 6s 13ms/step - loss: 0.0051 - val_loss: 0.0045 - _timestamp: 1648052915.0000 - _runtime: 24.0000\n",
            "Epoch 4/50\n",
            "469/469 [==============================] - 6s 13ms/step - loss: 0.0041 - val_loss: 0.0038 - _timestamp: 1648052921.0000 - _runtime: 30.0000\n",
            "Epoch 5/50\n",
            "469/469 [==============================] - 6s 13ms/step - loss: 0.0035 - val_loss: 0.0033 - _timestamp: 1648052928.0000 - _runtime: 37.0000\n",
            "Epoch 6/50\n",
            "469/469 [==============================] - 6s 13ms/step - loss: 0.0031 - val_loss: 0.0029 - _timestamp: 1648052933.0000 - _runtime: 42.0000\n",
            "Epoch 7/50\n",
            "469/469 [==============================] - 6s 13ms/step - loss: 0.0028 - val_loss: 0.0027 - _timestamp: 1648052939.0000 - _runtime: 48.0000\n",
            "Epoch 8/50\n",
            "469/469 [==============================] - 6s 13ms/step - loss: 0.0026 - val_loss: 0.0025 - _timestamp: 1648052945.0000 - _runtime: 54.0000\n",
            "Epoch 9/50\n",
            "469/469 [==============================] - 6s 13ms/step - loss: 0.0024 - val_loss: 0.0025 - _timestamp: 1648052951.0000 - _runtime: 60.0000\n",
            "Epoch 10/50\n",
            "469/469 [==============================] - 6s 13ms/step - loss: 0.0023 - val_loss: 0.0023 - _timestamp: 1648052958.0000 - _runtime: 67.0000\n",
            "Epoch 11/50\n",
            "469/469 [==============================] - 6s 13ms/step - loss: 0.0022 - val_loss: 0.0021 - _timestamp: 1648052964.0000 - _runtime: 73.0000\n",
            "Epoch 12/50\n",
            "469/469 [==============================] - 6s 13ms/step - loss: 0.0021 - val_loss: 0.0021 - _timestamp: 1648052970.0000 - _runtime: 79.0000\n",
            "Epoch 13/50\n",
            "469/469 [==============================] - 6s 13ms/step - loss: 0.0020 - val_loss: 0.0020 - _timestamp: 1648052976.0000 - _runtime: 85.0000\n",
            "Epoch 14/50\n",
            "469/469 [==============================] - 6s 13ms/step - loss: 0.0020 - val_loss: 0.0020 - _timestamp: 1648052982.0000 - _runtime: 91.0000\n",
            "Epoch 15/50\n",
            "469/469 [==============================] - 6s 13ms/step - loss: 0.0019 - val_loss: 0.0019 - _timestamp: 1648052988.0000 - _runtime: 97.0000\n",
            "Epoch 16/50\n",
            "469/469 [==============================] - 6s 13ms/step - loss: 0.0019 - val_loss: 0.0019 - _timestamp: 1648052994.0000 - _runtime: 103.0000\n",
            "Epoch 17/50\n",
            "469/469 [==============================] - 6s 13ms/step - loss: 0.0019 - val_loss: 0.0019 - _timestamp: 1648053000.0000 - _runtime: 109.0000\n",
            "Epoch 18/50\n",
            "469/469 [==============================] - 6s 13ms/step - loss: 0.0018 - val_loss: 0.0018 - _timestamp: 1648053006.0000 - _runtime: 115.0000\n",
            "Epoch 19/50\n",
            "469/469 [==============================] - 6s 13ms/step - loss: 0.0018 - val_loss: 0.0018 - _timestamp: 1648053012.0000 - _runtime: 121.0000\n",
            "Epoch 20/50\n",
            "469/469 [==============================] - 6s 13ms/step - loss: 0.0018 - val_loss: 0.0018 - _timestamp: 1648053018.0000 - _runtime: 127.0000\n",
            "Epoch 21/50\n",
            "469/469 [==============================] - 6s 13ms/step - loss: 0.0018 - val_loss: 0.0017 - _timestamp: 1648053025.0000 - _runtime: 134.0000\n",
            "Epoch 22/50\n",
            "469/469 [==============================] - 6s 13ms/step - loss: 0.0017 - val_loss: 0.0017 - _timestamp: 1648053031.0000 - _runtime: 140.0000\n",
            "Epoch 23/50\n",
            "469/469 [==============================] - 6s 13ms/step - loss: 0.0017 - val_loss: 0.0018 - _timestamp: 1648053037.0000 - _runtime: 146.0000\n",
            "Epoch 24/50\n",
            "469/469 [==============================] - 6s 13ms/step - loss: 0.0017 - val_loss: 0.0017 - _timestamp: 1648053043.0000 - _runtime: 152.0000\n",
            "Epoch 25/50\n",
            "469/469 [==============================] - 6s 13ms/step - loss: 0.0017 - val_loss: 0.0017 - _timestamp: 1648053050.0000 - _runtime: 159.0000\n",
            "Epoch 26/50\n",
            "469/469 [==============================] - 6s 13ms/step - loss: 0.0017 - val_loss: 0.0017 - _timestamp: 1648053056.0000 - _runtime: 165.0000\n",
            "Epoch 27/50\n",
            "469/469 [==============================] - 6s 13ms/step - loss: 0.0017 - val_loss: 0.0017 - _timestamp: 1648053062.0000 - _runtime: 171.0000\n",
            "Epoch 28/50\n",
            "469/469 [==============================] - 6s 13ms/step - loss: 0.0017 - val_loss: 0.0017 - _timestamp: 1648053068.0000 - _runtime: 177.0000\n",
            "Epoch 29/50\n",
            "469/469 [==============================] - 6s 13ms/step - loss: 0.0016 - val_loss: 0.0016 - _timestamp: 1648053074.0000 - _runtime: 183.0000\n",
            "Epoch 30/50\n",
            "469/469 [==============================] - 6s 13ms/step - loss: 0.0016 - val_loss: 0.0016 - _timestamp: 1648053080.0000 - _runtime: 189.0000\n",
            "Epoch 31/50\n",
            "469/469 [==============================] - 6s 13ms/step - loss: 0.0016 - val_loss: 0.0016 - _timestamp: 1648053086.0000 - _runtime: 195.0000\n",
            "Epoch 32/50\n",
            "469/469 [==============================] - 6s 13ms/step - loss: 0.0016 - val_loss: 0.0016 - _timestamp: 1648053092.0000 - _runtime: 201.0000\n",
            "Epoch 33/50\n",
            "469/469 [==============================] - 6s 13ms/step - loss: 0.0016 - val_loss: 0.0016 - _timestamp: 1648053098.0000 - _runtime: 207.0000\n",
            "Epoch 34/50\n",
            "469/469 [==============================] - 6s 13ms/step - loss: 0.0016 - val_loss: 0.0016 - _timestamp: 1648053104.0000 - _runtime: 213.0000\n",
            "Epoch 35/50\n",
            "469/469 [==============================] - 6s 13ms/step - loss: 0.0016 - val_loss: 0.0016 - _timestamp: 1648053110.0000 - _runtime: 219.0000\n",
            "Epoch 36/50\n",
            "469/469 [==============================] - 6s 13ms/step - loss: 0.0016 - val_loss: 0.0016 - _timestamp: 1648053116.0000 - _runtime: 225.0000\n",
            "Epoch 37/50\n",
            "469/469 [==============================] - 6s 13ms/step - loss: 0.0016 - val_loss: 0.0016 - _timestamp: 1648053123.0000 - _runtime: 232.0000\n",
            "Epoch 38/50\n",
            "469/469 [==============================] - 6s 13ms/step - loss: 0.0016 - val_loss: 0.0016 - _timestamp: 1648053129.0000 - _runtime: 238.0000\n",
            "Epoch 39/50\n",
            "469/469 [==============================] - 6s 13ms/step - loss: 0.0016 - val_loss: 0.0016 - _timestamp: 1648053135.0000 - _runtime: 244.0000\n",
            "Epoch 40/50\n",
            "469/469 [==============================] - 6s 13ms/step - loss: 0.0016 - val_loss: 0.0016 - _timestamp: 1648053141.0000 - _runtime: 250.0000\n",
            "Epoch 41/50\n",
            "469/469 [==============================] - 6s 13ms/step - loss: 0.0015 - val_loss: 0.0015 - _timestamp: 1648053147.0000 - _runtime: 256.0000\n",
            "Epoch 42/50\n",
            "469/469 [==============================] - 6s 13ms/step - loss: 0.0015 - val_loss: 0.0015 - _timestamp: 1648053153.0000 - _runtime: 262.0000\n",
            "Epoch 43/50\n",
            "469/469 [==============================] - 6s 13ms/step - loss: 0.0015 - val_loss: 0.0015 - _timestamp: 1648053159.0000 - _runtime: 268.0000\n",
            "Epoch 44/50\n",
            "469/469 [==============================] - 6s 13ms/step - loss: 0.0015 - val_loss: 0.0015 - _timestamp: 1648053166.0000 - _runtime: 275.0000\n",
            "Epoch 45/50\n",
            "469/469 [==============================] - 6s 13ms/step - loss: 0.0015 - val_loss: 0.0015 - _timestamp: 1648053172.0000 - _runtime: 281.0000\n",
            "Epoch 46/50\n",
            "469/469 [==============================] - 6s 13ms/step - loss: 0.0015 - val_loss: 0.0015 - _timestamp: 1648053178.0000 - _runtime: 287.0000\n",
            "Epoch 47/50\n",
            "469/469 [==============================] - 6s 13ms/step - loss: 0.0015 - val_loss: 0.0015 - _timestamp: 1648053184.0000 - _runtime: 293.0000\n",
            "Epoch 48/50\n",
            "469/469 [==============================] - 6s 13ms/step - loss: 0.0015 - val_loss: 0.0016 - _timestamp: 1648053190.0000 - _runtime: 299.0000\n",
            "Epoch 49/50\n",
            "469/469 [==============================] - 6s 13ms/step - loss: 0.0015 - val_loss: 0.0015 - _timestamp: 1648053196.0000 - _runtime: 305.0000\n",
            "Epoch 50/50\n",
            "469/469 [==============================] - 6s 13ms/step - loss: 0.0015 - val_loss: 0.0015 - _timestamp: 1648053202.0000 - _runtime: 311.0000\n",
            "Avg SSIM over X_test: 0.9690585648097702\n",
            "\n"
          ]
        },
        {
          "output_type": "display_data",
          "data": {
            "text/plain": [
              "<IPython.core.display.HTML object>"
            ],
            "text/html": [
              "Waiting for W&B process to finish... <strong style=\"color:green\">(success).</strong>"
            ]
          },
          "metadata": {}
        },
        {
          "output_type": "display_data",
          "data": {
            "text/plain": [
              "VBox(children=(Label(value='0.201 MB of 0.201 MB uploaded (0.000 MB deduped)\\r'), FloatProgress(value=1.0, max…"
            ],
            "application/vnd.jupyter.widget-view+json": {
              "version_major": 2,
              "version_minor": 0,
              "model_id": "f57cd927798b40a7ad83488da655f0d5"
            }
          },
          "metadata": {}
        },
        {
          "output_type": "display_data",
          "data": {
            "text/plain": [
              "<IPython.core.display.HTML object>"
            ],
            "text/html": [
              "<style>\n",
              "    table.wandb td:nth-child(1) { padding: 0 10px; text-align: right }\n",
              "    .wandb-row { display: flex; flex-direction: row; flex-wrap: wrap; width: 100% }\n",
              "    .wandb-col { display: flex; flex-direction: column; flex-basis: 100%; flex: 1; padding: 10px; }\n",
              "    </style>\n",
              "<div class=\"wandb-row\"><div class=\"wandb-col\"><h3>Run history:</h3><br/><table class=\"wandb\"><tr><td>avg_ssim_score_x_test</td><td>▁</td></tr><tr><td>epoch</td><td>▁▁▁▁▂▂▂▂▂▃▃▃▃▃▃▄▄▄▄▄▅▅▅▅▅▅▆▆▆▆▆▆▇▇▇▇▇███</td></tr><tr><td>loss</td><td>█▃▂▂▂▁▁▁▁▁▁▁▁▁▁▁▁▁▁▁▁▁▁▁▁▁▁▁▁▁▁▁▁▁▁▁▁▁▁▁</td></tr><tr><td>val_loss</td><td>█▅▄▃▂▂▂▂▂▂▁▁▁▁▁▁▁▁▁▁▁▁▁▁▁▁▁▁▁▁▁▁▁▁▁▁▁▁▁▁</td></tr></table><br/></div><div class=\"wandb-col\"><h3>Run summary:</h3><br/><table class=\"wandb\"><tr><td>avg_ssim_score_x_test</td><td>0.96906</td></tr><tr><td>best_epoch</td><td>49</td></tr><tr><td>best_val_loss</td><td>0.00149</td></tr><tr><td>epoch</td><td>49</td></tr><tr><td>loss</td><td>0.00151</td></tr><tr><td>val_loss</td><td>0.00149</td></tr></table><br/></div></div>"
            ]
          },
          "metadata": {}
        },
        {
          "output_type": "display_data",
          "data": {
            "text/plain": [
              "<IPython.core.display.HTML object>"
            ],
            "text/html": [
              "Synced <strong style=\"color:#cdcd00\">Model 6</strong>: <a href=\"https://wandb.ai/csc2231-yash-siphelele/autoencoders_conv/runs/1qauyh1z\" target=\"_blank\">https://wandb.ai/csc2231-yash-siphelele/autoencoders_conv/runs/1qauyh1z</a><br/>Synced 5 W&B file(s), 1 media file(s), 0 artifact file(s) and 1 other file(s)"
            ]
          },
          "metadata": {}
        },
        {
          "output_type": "display_data",
          "data": {
            "text/plain": [
              "<IPython.core.display.HTML object>"
            ],
            "text/html": [
              "Find logs at: <code>./wandb/run-20220323_162811-1qauyh1z/logs</code>"
            ]
          },
          "metadata": {}
        }
      ]
    },
    {
      "cell_type": "code",
      "source": [
        "# summarize history for loss\n",
        "plt.plot(history.history['loss'])\n",
        "plt.plot(history.history['val_loss'])\n",
        "plt.title('model loss')\n",
        "plt.ylabel('loss')\n",
        "plt.xlabel('epoch')\n",
        "plt.legend(['train', 'val'], loc='upper left')\n",
        "plt.show()"
      ],
      "metadata": {
        "colab": {
          "base_uri": "https://localhost:8080/",
          "height": 295
        },
        "id": "kJvldBz9-D-c",
        "outputId": "f1bcd567-ee7d-47af-9692-153e7f481c45"
      },
      "execution_count": null,
      "outputs": [
        {
          "output_type": "display_data",
          "data": {
            "text/plain": [
              "<Figure size 432x288 with 1 Axes>"
            ],
            "image/png": "[encoded data removed]"
          },
          "metadata": {
            "needs_background": "light"
          }
        }
      ]
    },
    {
      "cell_type": "code",
      "source": [
        "decoded_imgs_6 = autoencoder6.predict(x_test)\n",
        "\n",
        "n = 10\n",
        "plt.figure(figsize=(20, 4))\n",
        "for i in range(n):\n",
        " plt.gray()\n",
        " ax = plt.subplot(2, n, i+1)\n",
        " plt.imshow(x_test[i].reshape(28, 28))\n",
        " ax.get_xaxis().set_visible(False)\n",
        " ax.get_yaxis().set_visible(False)\n",
        " \n",
        " ax = plt.subplot(2, n, i +1+n)\n",
        " plt.imshow(decoded_imgs_6[i].reshape(28, 28))\n",
        " ax.get_xaxis().set_visible(False)\n",
        " ax.get_yaxis().set_visible(False)\n",
        "plt.show()"
      ],
      "metadata": {
        "colab": {
          "base_uri": "https://localhost:8080/",
          "height": 248
        },
        "id": "CGhByw4D-KVd",
        "outputId": "dce9f6fe-fe6e-4c56-f73c-658a831ec07a"
      },
      "execution_count": null,
      "outputs": [
        {
          "output_type": "display_data",
          "data": {
            "text/plain": [
              "<Figure size 1440x288 with 20 Axes>"
            ],
            "image/png": "[encoded data removed]"
          },
          "metadata": {
            "needs_background": "light"
          }
        }
      ]
    },
    {
      "cell_type": "code",
      "source": [
        "# Model 7\n",
        "\n",
        "def Encoder_ConvTranspose_6(input_img):\n",
        "    x = Conv2D(32, (3, 3), activation='leaky_relu', padding='same', strides=2)(input_img)\n",
        "    x = Conv2D(16, (3, 3), activation='leaky_relu', padding='same', strides=2)(x)\n",
        "    encoded = Conv2D(8, (3, 3), activation='leaky_relu', padding='same')(x)\n",
        "    return encoded\n",
        "\n",
        "def Decoder_ConvTranspose_6(encoded):\n",
        "    x = Conv2DTranspose(16, (3, 3), strides = 2, activation='leaky_relu', padding='same')(encoded)\n",
        "    x = Conv2DTranspose(32, (3, 3), strides = 2, activation='leaky_relu', padding='same')(x)\n",
        "    decoded = Conv2D(1, (3, 3), padding='same')(x)\n",
        "    return decoded\n",
        "\n",
        "\n",
        "input = Input(shape=(28, 28, 1)) \n",
        "encoder7 = Encoder_ConvTranspose_6(input)\n",
        "decoder7 = Decoder_ConvTranspose_6(encoder7)\n",
        "autoencoder7 = Model(input, decoder7)\n",
        "autoencoder7.compile(optimizer = \"adam\", loss = \"mse\")\n",
        "autoencoder7.summary()\n",
        "\n",
        "fit_model_and_log_metrics(\"Model 6.1\", \"With maxpooling, convtranspose\", autoencoder7, epochs=75, batch_size=128) "
      ],
      "metadata": {
        "id": "ENrh5S7p-RD4",
        "colab": {
          "base_uri": "https://localhost:8080/",
          "height": 1000,
          "referenced_widgets": [
            "f08e3b055a674ae4ac2ad18a6f23c26c",
            "1785cbe815914da8a2a532065899542b",
            "322dea17b8e04ac2a559935139cd007c",
            "798c7b7ea47a45b39bc1aa558a22abb3",
            "dd2bcc10be41493493ca7e009fb43b3a",
            "c9d4d6b9850f4f819ba1aea735fd18cc",
            "67c1b78c0309494da9cc1b8f5ddb559e",
            "404747a6aed2478a82338f15d77965af"
          ]
        },
        "outputId": "a336de2d-bf8c-45ed-8f90-b1db0b3d9aa9"
      },
      "execution_count": null,
      "outputs": [
        {
          "output_type": "stream",
          "name": "stdout",
          "text": [
            "Model: \"model_11\"\n",
            "_________________________________________________________________\n",
            " Layer (type)                Output Shape              Param #   \n",
            "=================================================================\n",
            " input_12 (InputLayer)       [(None, 28, 28, 1)]       0         \n",
            "                                                                 \n",
            " conv2d_44 (Conv2D)          (None, 14, 14, 32)        320       \n",
            "                                                                 \n",
            " conv2d_45 (Conv2D)          (None, 7, 7, 16)          4624      \n",
            "                                                                 \n",
            " conv2d_46 (Conv2D)          (None, 7, 7, 8)           1160      \n",
            "                                                                 \n",
            " conv2d_transpose_16 (Conv2D  (None, 14, 14, 16)       1168      \n",
            " Transpose)                                                      \n",
            "                                                                 \n",
            " conv2d_transpose_17 (Conv2D  (None, 28, 28, 32)       4640      \n",
            " Transpose)                                                      \n",
            "                                                                 \n",
            " conv2d_47 (Conv2D)          (None, 28, 28, 1)         289       \n",
            "                                                                 \n",
            "=================================================================\n",
            "Total params: 12,201\n",
            "Trainable params: 12,201\n",
            "Non-trainable params: 0\n",
            "_________________________________________________________________\n"
          ]
        },
        {
          "output_type": "display_data",
          "data": {
            "text/plain": [
              "<IPython.core.display.HTML object>"
            ],
            "text/html": [
              "Tracking run with wandb version 0.12.11"
            ]
          },
          "metadata": {}
        },
        {
          "output_type": "display_data",
          "data": {
            "text/plain": [
              "<IPython.core.display.HTML object>"
            ],
            "text/html": [
              "Run data is saved locally in <code>/content/wandb/run-20220323_164645-1pr873yl</code>"
            ]
          },
          "metadata": {}
        },
        {
          "output_type": "display_data",
          "data": {
            "text/plain": [
              "<IPython.core.display.HTML object>"
            ],
            "text/html": [
              "Syncing run <strong><a href=\"https://wandb.ai/csc2231-yash-siphelele/autoencoders_conv/runs/1pr873yl\" target=\"_blank\">Model 6.1</a></strong> to <a href=\"https://wandb.ai/csc2231-yash-siphelele/autoencoders_conv\" target=\"_blank\">Weights & Biases</a> (<a href=\"https://wandb.me/run\" target=\"_blank\">docs</a>)<br/>"
            ]
          },
          "metadata": {}
        },
        {
          "output_type": "stream",
          "name": "stdout",
          "text": [
            "Epoch 1/75\n",
            "469/469 [==============================] - 7s 14ms/step - loss: 0.0253 - val_loss: 0.0103 - _timestamp: 1648054018.0000 - _runtime: 13.0000\n",
            "Epoch 2/75\n",
            "469/469 [==============================] - 6s 14ms/step - loss: 0.0072 - val_loss: 0.0054 - _timestamp: 1648054024.0000 - _runtime: 19.0000\n",
            "Epoch 3/75\n",
            "469/469 [==============================] - 7s 14ms/step - loss: 0.0046 - val_loss: 0.0041 - _timestamp: 1648054031.0000 - _runtime: 26.0000\n",
            "Epoch 4/75\n",
            "469/469 [==============================] - 7s 15ms/step - loss: 0.0038 - val_loss: 0.0035 - _timestamp: 1648054038.0000 - _runtime: 33.0000\n",
            "Epoch 5/75\n",
            "469/469 [==============================] - 7s 15ms/step - loss: 0.0033 - val_loss: 0.0032 - _timestamp: 1648054045.0000 - _runtime: 40.0000\n",
            "Epoch 6/75\n",
            "469/469 [==============================] - 7s 15ms/step - loss: 0.0029 - val_loss: 0.0028 - _timestamp: 1648054052.0000 - _runtime: 47.0000\n",
            "Epoch 7/75\n",
            "469/469 [==============================] - 8s 17ms/step - loss: 0.0027 - val_loss: 0.0026 - _timestamp: 1648054060.0000 - _runtime: 55.0000\n",
            "Epoch 8/75\n",
            "469/469 [==============================] - 7s 15ms/step - loss: 0.0025 - val_loss: 0.0024 - _timestamp: 1648054067.0000 - _runtime: 62.0000\n",
            "Epoch 9/75\n",
            "469/469 [==============================] - 6s 13ms/step - loss: 0.0024 - val_loss: 0.0023 - _timestamp: 1648054073.0000 - _runtime: 68.0000\n",
            "Epoch 10/75\n",
            "469/469 [==============================] - 7s 15ms/step - loss: 0.0023 - val_loss: 0.0022 - _timestamp: 1648054080.0000 - _runtime: 75.0000\n",
            "Epoch 11/75\n",
            "469/469 [==============================] - 6s 13ms/step - loss: 0.0022 - val_loss: 0.0022 - _timestamp: 1648054087.0000 - _runtime: 82.0000\n",
            "Epoch 12/75\n",
            "469/469 [==============================] - 7s 14ms/step - loss: 0.0021 - val_loss: 0.0021 - _timestamp: 1648054093.0000 - _runtime: 88.0000\n",
            "Epoch 13/75\n",
            "469/469 [==============================] - 6s 13ms/step - loss: 0.0020 - val_loss: 0.0020 - _timestamp: 1648054099.0000 - _runtime: 94.0000\n",
            "Epoch 14/75\n",
            "469/469 [==============================] - 7s 14ms/step - loss: 0.0020 - val_loss: 0.0019 - _timestamp: 1648054106.0000 - _runtime: 101.0000\n",
            "Epoch 15/75\n",
            "469/469 [==============================] - 6s 13ms/step - loss: 0.0019 - val_loss: 0.0019 - _timestamp: 1648054112.0000 - _runtime: 107.0000\n",
            "Epoch 16/75\n",
            "469/469 [==============================] - 6s 13ms/step - loss: 0.0019 - val_loss: 0.0019 - _timestamp: 1648054118.0000 - _runtime: 113.0000\n",
            "Epoch 17/75\n",
            "469/469 [==============================] - 6s 13ms/step - loss: 0.0018 - val_loss: 0.0018 - _timestamp: 1648054124.0000 - _runtime: 119.0000\n",
            "Epoch 18/75\n",
            "469/469 [==============================] - 6s 13ms/step - loss: 0.0018 - val_loss: 0.0018 - _timestamp: 1648054130.0000 - _runtime: 125.0000\n",
            "Epoch 19/75\n",
            "469/469 [==============================] - 6s 13ms/step - loss: 0.0018 - val_loss: 0.0017 - _timestamp: 1648054136.0000 - _runtime: 131.0000\n",
            "Epoch 20/75\n",
            "469/469 [==============================] - 6s 13ms/step - loss: 0.0017 - val_loss: 0.0017 - _timestamp: 1648054142.0000 - _runtime: 137.0000\n",
            "Epoch 21/75\n",
            "469/469 [==============================] - 6s 13ms/step - loss: 0.0017 - val_loss: 0.0017 - _timestamp: 1648054148.0000 - _runtime: 143.0000\n",
            "Epoch 22/75\n",
            "469/469 [==============================] - 6s 13ms/step - loss: 0.0017 - val_loss: 0.0017 - _timestamp: 1648054154.0000 - _runtime: 149.0000\n",
            "Epoch 23/75\n",
            "469/469 [==============================] - 6s 13ms/step - loss: 0.0017 - val_loss: 0.0017 - _timestamp: 1648054160.0000 - _runtime: 155.0000\n",
            "Epoch 24/75\n",
            "469/469 [==============================] - 6s 13ms/step - loss: 0.0016 - val_loss: 0.0016 - _timestamp: 1648054166.0000 - _runtime: 161.0000\n",
            "Epoch 25/75\n",
            "469/469 [==============================] - 7s 14ms/step - loss: 0.0016 - val_loss: 0.0016 - _timestamp: 1648054173.0000 - _runtime: 168.0000\n",
            "Epoch 26/75\n",
            "469/469 [==============================] - 6s 13ms/step - loss: 0.0016 - val_loss: 0.0016 - _timestamp: 1648054179.0000 - _runtime: 174.0000\n",
            "Epoch 27/75\n",
            "469/469 [==============================] - 6s 13ms/step - loss: 0.0016 - val_loss: 0.0016 - _timestamp: 1648054185.0000 - _runtime: 180.0000\n",
            "Epoch 28/75\n",
            "469/469 [==============================] - 6s 13ms/step - loss: 0.0016 - val_loss: 0.0016 - _timestamp: 1648054191.0000 - _runtime: 186.0000\n",
            "Epoch 29/75\n",
            "469/469 [==============================] - 6s 13ms/step - loss: 0.0016 - val_loss: 0.0016 - _timestamp: 1648054197.0000 - _runtime: 192.0000\n",
            "Epoch 30/75\n",
            "469/469 [==============================] - 6s 13ms/step - loss: 0.0016 - val_loss: 0.0016 - _timestamp: 1648054203.0000 - _runtime: 198.0000\n",
            "Epoch 31/75\n",
            "469/469 [==============================] - 6s 13ms/step - loss: 0.0016 - val_loss: 0.0016 - _timestamp: 1648054209.0000 - _runtime: 204.0000\n",
            "Epoch 32/75\n",
            "469/469 [==============================] - 6s 13ms/step - loss: 0.0015 - val_loss: 0.0015 - _timestamp: 1648054215.0000 - _runtime: 210.0000\n",
            "Epoch 33/75\n",
            "469/469 [==============================] - 6s 13ms/step - loss: 0.0015 - val_loss: 0.0015 - _timestamp: 1648054221.0000 - _runtime: 216.0000\n",
            "Epoch 34/75\n",
            "469/469 [==============================] - 6s 13ms/step - loss: 0.0015 - val_loss: 0.0015 - _timestamp: 1648054227.0000 - _runtime: 222.0000\n",
            "Epoch 35/75\n",
            "469/469 [==============================] - 6s 13ms/step - loss: 0.0015 - val_loss: 0.0015 - _timestamp: 1648054233.0000 - _runtime: 228.0000\n",
            "Epoch 36/75\n",
            "469/469 [==============================] - 6s 13ms/step - loss: 0.0015 - val_loss: 0.0015 - _timestamp: 1648054240.0000 - _runtime: 235.0000\n",
            "Epoch 37/75\n",
            "469/469 [==============================] - 6s 13ms/step - loss: 0.0015 - val_loss: 0.0015 - _timestamp: 1648054246.0000 - _runtime: 241.0000\n",
            "Epoch 38/75\n",
            "469/469 [==============================] - 6s 13ms/step - loss: 0.0015 - val_loss: 0.0015 - _timestamp: 1648054252.0000 - _runtime: 247.0000\n",
            "Epoch 39/75\n",
            "469/469 [==============================] - 6s 13ms/step - loss: 0.0015 - val_loss: 0.0015 - _timestamp: 1648054258.0000 - _runtime: 253.0000\n",
            "Epoch 40/75\n",
            "469/469 [==============================] - 6s 13ms/step - loss: 0.0015 - val_loss: 0.0015 - _timestamp: 1648054264.0000 - _runtime: 259.0000\n",
            "Epoch 41/75\n",
            "469/469 [==============================] - 6s 13ms/step - loss: 0.0015 - val_loss: 0.0015 - _timestamp: 1648054270.0000 - _runtime: 265.0000\n",
            "Epoch 42/75\n",
            "469/469 [==============================] - 6s 13ms/step - loss: 0.0015 - val_loss: 0.0015 - _timestamp: 1648054276.0000 - _runtime: 271.0000\n",
            "Epoch 43/75\n",
            "469/469 [==============================] - 6s 13ms/step - loss: 0.0015 - val_loss: 0.0015 - _timestamp: 1648054282.0000 - _runtime: 277.0000\n",
            "Epoch 44/75\n",
            "469/469 [==============================] - 6s 13ms/step - loss: 0.0015 - val_loss: 0.0015 - _timestamp: 1648054288.0000 - _runtime: 283.0000\n",
            "Epoch 45/75\n",
            "469/469 [==============================] - 6s 13ms/step - loss: 0.0015 - val_loss: 0.0015 - _timestamp: 1648054294.0000 - _runtime: 289.0000\n",
            "Epoch 46/75\n",
            "469/469 [==============================] - 6s 13ms/step - loss: 0.0015 - val_loss: 0.0015 - _timestamp: 1648054301.0000 - _runtime: 296.0000\n",
            "Epoch 47/75\n",
            "469/469 [==============================] - 6s 13ms/step - loss: 0.0015 - val_loss: 0.0015 - _timestamp: 1648054307.0000 - _runtime: 302.0000\n",
            "Epoch 48/75\n",
            "469/469 [==============================] - 6s 13ms/step - loss: 0.0014 - val_loss: 0.0014 - _timestamp: 1648054313.0000 - _runtime: 308.0000\n",
            "Epoch 49/75\n",
            "469/469 [==============================] - 6s 13ms/step - loss: 0.0015 - val_loss: 0.0014 - _timestamp: 1648054319.0000 - _runtime: 314.0000\n",
            "Epoch 50/75\n",
            "469/469 [==============================] - 6s 13ms/step - loss: 0.0014 - val_loss: 0.0015 - _timestamp: 1648054325.0000 - _runtime: 320.0000\n",
            "Epoch 51/75\n",
            "469/469 [==============================] - 6s 13ms/step - loss: 0.0014 - val_loss: 0.0016 - _timestamp: 1648054331.0000 - _runtime: 326.0000\n",
            "Epoch 52/75\n",
            "469/469 [==============================] - 6s 13ms/step - loss: 0.0014 - val_loss: 0.0016 - _timestamp: 1648054337.0000 - _runtime: 332.0000\n",
            "Epoch 53/75\n",
            "469/469 [==============================] - 6s 13ms/step - loss: 0.0014 - val_loss: 0.0014 - _timestamp: 1648054343.0000 - _runtime: 338.0000\n",
            "Epoch 54/75\n",
            "469/469 [==============================] - 6s 13ms/step - loss: 0.0014 - val_loss: 0.0014 - _timestamp: 1648054349.0000 - _runtime: 344.0000\n",
            "Epoch 55/75\n",
            "469/469 [==============================] - 6s 13ms/step - loss: 0.0014 - val_loss: 0.0014 - _timestamp: 1648054355.0000 - _runtime: 350.0000\n",
            "Epoch 56/75\n",
            "469/469 [==============================] - 6s 13ms/step - loss: 0.0014 - val_loss: 0.0014 - _timestamp: 1648054361.0000 - _runtime: 356.0000\n",
            "Epoch 57/75\n",
            "469/469 [==============================] - 6s 13ms/step - loss: 0.0014 - val_loss: 0.0014 - _timestamp: 1648054368.0000 - _runtime: 363.0000\n",
            "Epoch 58/75\n",
            "469/469 [==============================] - 6s 13ms/step - loss: 0.0014 - val_loss: 0.0014 - _timestamp: 1648054374.0000 - _runtime: 369.0000\n",
            "Epoch 59/75\n",
            "469/469 [==============================] - 6s 13ms/step - loss: 0.0014 - val_loss: 0.0014 - _timestamp: 1648054380.0000 - _runtime: 375.0000\n",
            "Epoch 60/75\n",
            "469/469 [==============================] - 6s 13ms/step - loss: 0.0014 - val_loss: 0.0014 - _timestamp: 1648054386.0000 - _runtime: 381.0000\n",
            "Epoch 61/75\n",
            "469/469 [==============================] - 6s 13ms/step - loss: 0.0014 - val_loss: 0.0014 - _timestamp: 1648054392.0000 - _runtime: 387.0000\n",
            "Epoch 62/75\n",
            "469/469 [==============================] - 6s 13ms/step - loss: 0.0014 - val_loss: 0.0014 - _timestamp: 1648054398.0000 - _runtime: 393.0000\n",
            "Epoch 63/75\n",
            "469/469 [==============================] - 6s 13ms/step - loss: 0.0014 - val_loss: 0.0014 - _timestamp: 1648054405.0000 - _runtime: 400.0000\n",
            "Epoch 64/75\n",
            "469/469 [==============================] - 6s 14ms/step - loss: 0.0014 - val_loss: 0.0014 - _timestamp: 1648054411.0000 - _runtime: 406.0000\n",
            "Epoch 65/75\n",
            "469/469 [==============================] - 6s 13ms/step - loss: 0.0014 - val_loss: 0.0014 - _timestamp: 1648054417.0000 - _runtime: 412.0000\n",
            "Epoch 66/75\n",
            "469/469 [==============================] - 7s 14ms/step - loss: 0.0014 - val_loss: 0.0014 - _timestamp: 1648054424.0000 - _runtime: 419.0000\n",
            "Epoch 67/75\n",
            "469/469 [==============================] - 6s 13ms/step - loss: 0.0014 - val_loss: 0.0014 - _timestamp: 1648054430.0000 - _runtime: 425.0000\n",
            "Epoch 68/75\n",
            "469/469 [==============================] - 6s 13ms/step - loss: 0.0014 - val_loss: 0.0014 - _timestamp: 1648054436.0000 - _runtime: 431.0000\n",
            "Epoch 69/75\n",
            "469/469 [==============================] - 6s 13ms/step - loss: 0.0014 - val_loss: 0.0014 - _timestamp: 1648054442.0000 - _runtime: 437.0000\n",
            "Epoch 70/75\n",
            "469/469 [==============================] - 6s 13ms/step - loss: 0.0014 - val_loss: 0.0014 - _timestamp: 1648054448.0000 - _runtime: 443.0000\n",
            "Epoch 71/75\n",
            "469/469 [==============================] - 6s 13ms/step - loss: 0.0014 - val_loss: 0.0014 - _timestamp: 1648054454.0000 - _runtime: 449.0000\n",
            "Epoch 72/75\n",
            "469/469 [==============================] - 6s 13ms/step - loss: 0.0014 - val_loss: 0.0014 - _timestamp: 1648054460.0000 - _runtime: 455.0000\n",
            "Epoch 73/75\n",
            "469/469 [==============================] - 6s 13ms/step - loss: 0.0014 - val_loss: 0.0014 - _timestamp: 1648054466.0000 - _runtime: 461.0000\n",
            "Epoch 74/75\n",
            "469/469 [==============================] - 6s 13ms/step - loss: 0.0014 - val_loss: 0.0014 - _timestamp: 1648054472.0000 - _runtime: 467.0000\n",
            "Epoch 75/75\n",
            "469/469 [==============================] - 6s 13ms/step - loss: 0.0014 - val_loss: 0.0014 - _timestamp: 1648054478.0000 - _runtime: 473.0000\n",
            "Avg SSIM over X_test: 0.9714104731794094\n",
            "\n"
          ]
        },
        {
          "output_type": "display_data",
          "data": {
            "text/plain": [
              "<IPython.core.display.HTML object>"
            ],
            "text/html": [
              "Waiting for W&B process to finish... <strong style=\"color:green\">(success).</strong>"
            ]
          },
          "metadata": {}
        },
        {
          "output_type": "display_data",
          "data": {
            "text/plain": [
              "VBox(children=(Label(value='0.201 MB of 0.201 MB uploaded (0.000 MB deduped)\\r'), FloatProgress(value=1.0, max…"
            ],
            "application/vnd.jupyter.widget-view+json": {
              "version_major": 2,
              "version_minor": 0,
              "model_id": "f08e3b055a674ae4ac2ad18a6f23c26c"
            }
          },
          "metadata": {}
        },
        {
          "output_type": "display_data",
          "data": {
            "text/plain": [
              "<IPython.core.display.HTML object>"
            ],
            "text/html": [
              "<style>\n",
              "    table.wandb td:nth-child(1) { padding: 0 10px; text-align: right }\n",
              "    .wandb-row { display: flex; flex-direction: row; flex-wrap: wrap; width: 100% }\n",
              "    .wandb-col { display: flex; flex-direction: column; flex-basis: 100%; flex: 1; padding: 10px; }\n",
              "    </style>\n",
              "<div class=\"wandb-row\"><div class=\"wandb-col\"><h3>Run history:</h3><br/><table class=\"wandb\"><tr><td>avg_ssim_score_x_test</td><td>▁</td></tr><tr><td>epoch</td><td>▁▁▁▁▂▂▂▂▂▃▃▃▃▃▃▄▄▄▄▄▅▅▅▅▅▅▆▆▆▆▆▆▇▇▇▇▇███</td></tr><tr><td>loss</td><td>█▃▂▁▁▁▁▁▁▁▁▁▁▁▁▁▁▁▁▁▁▁▁▁▁▁▁▁▁▁▁▁▁▁▁▁▁▁▁▁</td></tr><tr><td>val_loss</td><td>█▄▃▂▂▂▂▁▁▁▁▁▁▁▁▁▁▁▁▁▁▁▁▁▁▁▁▁▁▁▁▁▁▁▁▁▁▁▁▁</td></tr></table><br/></div><div class=\"wandb-col\"><h3>Run summary:</h3><br/><table class=\"wandb\"><tr><td>avg_ssim_score_x_test</td><td>0.97141</td></tr><tr><td>best_epoch</td><td>74</td></tr><tr><td>best_val_loss</td><td>0.00136</td></tr><tr><td>epoch</td><td>74</td></tr><tr><td>loss</td><td>0.00137</td></tr><tr><td>val_loss</td><td>0.00136</td></tr></table><br/></div></div>"
            ]
          },
          "metadata": {}
        },
        {
          "output_type": "display_data",
          "data": {
            "text/plain": [
              "<IPython.core.display.HTML object>"
            ],
            "text/html": [
              "Synced <strong style=\"color:#cdcd00\">Model 6.1</strong>: <a href=\"https://wandb.ai/csc2231-yash-siphelele/autoencoders_conv/runs/1pr873yl\" target=\"_blank\">https://wandb.ai/csc2231-yash-siphelele/autoencoders_conv/runs/1pr873yl</a><br/>Synced 5 W&B file(s), 1 media file(s), 0 artifact file(s) and 1 other file(s)"
            ]
          },
          "metadata": {}
        },
        {
          "output_type": "display_data",
          "data": {
            "text/plain": [
              "<IPython.core.display.HTML object>"
            ],
            "text/html": [
              "Find logs at: <code>./wandb/run-20220323_164645-1pr873yl/logs</code>"
            ]
          },
          "metadata": {}
        }
      ]
    },
    {
      "cell_type": "code",
      "source": [
        "# Model 8\n",
        "\n",
        "def Encoder_ConvTranspose_7(input_img):\n",
        "    x = Conv2D(32, (3, 3), activation='leaky_relu', padding='same', strides=2)(input_img)\n",
        "    x = Conv2D(16, (3, 3), activation='leaky_relu', padding='same', strides=2)(x)\n",
        "    encoded = Conv2D(8, (3, 3), activation='leaky_relu', padding='same')(x)\n",
        "    return encoded\n",
        "\n",
        "def Decoder_ConvTranspose_7(encoded):\n",
        "    x = Conv2DTranspose(16, (3, 3), strides = 2, activation='leaky_relu', padding='same')(encoded)\n",
        "    x = Conv2DTranspose(32, (3, 3), strides = 2, activation='leaky_relu', padding='same')(x)\n",
        "    decoded = Conv2D(1, (3, 3), padding='same')(x)\n",
        "    return decoded\n",
        "\n",
        "\n",
        "input = Input(shape=(28, 28, 1)) \n",
        "encoder8 = Encoder_ConvTranspose_7(input)\n",
        "decoder8 = Decoder_ConvTranspose_7(encoder8)\n",
        "autoencoder8 = Model(input, decoder8)\n",
        "autoencoder8.compile(optimizer = \"adam\", loss = \"mse\")\n",
        "autoencoder8.summary()\n",
        "\n",
        "fit_model_and_log_metrics(\"Model 6.2\", \"With maxpooling, convtranspose\", autoencoder8, epochs=50, batch_size=256)"
      ],
      "metadata": {
        "colab": {
          "base_uri": "https://localhost:8080/",
          "height": 1000,
          "referenced_widgets": [
            "f859a7a87b194aecb39e4be09461582a",
            "ae45cad237b3448fbd7905bcd20bd205",
            "b0ead58121004478b6610733c80b4f74",
            "8a96161f512e408e99119c486810d55c",
            "8d464fea130049c3acc00a172c74fdb3",
            "c4bc8d57b76d496282c0921663132e20",
            "25ffe9f9c59d40c884b26c30acc233ed",
            "48a0e0949ed94b9e82aa90327148b7ab"
          ]
        },
        "id": "0DInM89SrGvV",
        "outputId": "919356b8-fcfc-402b-f4b2-5de7561c2402"
      },
      "execution_count": null,
      "outputs": [
        {
          "output_type": "stream",
          "name": "stdout",
          "text": [
            "Model: \"model_12\"\n",
            "_________________________________________________________________\n",
            " Layer (type)                Output Shape              Param #   \n",
            "=================================================================\n",
            " input_13 (InputLayer)       [(None, 28, 28, 1)]       0         \n",
            "                                                                 \n",
            " conv2d_48 (Conv2D)          (None, 14, 14, 32)        320       \n",
            "                                                                 \n",
            " conv2d_49 (Conv2D)          (None, 7, 7, 16)          4624      \n",
            "                                                                 \n",
            " conv2d_50 (Conv2D)          (None, 7, 7, 8)           1160      \n",
            "                                                                 \n",
            " conv2d_transpose_18 (Conv2D  (None, 14, 14, 16)       1168      \n",
            " Transpose)                                                      \n",
            "                                                                 \n",
            " conv2d_transpose_19 (Conv2D  (None, 28, 28, 32)       4640      \n",
            " Transpose)                                                      \n",
            "                                                                 \n",
            " conv2d_51 (Conv2D)          (None, 28, 28, 1)         289       \n",
            "                                                                 \n",
            "=================================================================\n",
            "Total params: 12,201\n",
            "Trainable params: 12,201\n",
            "Non-trainable params: 0\n",
            "_________________________________________________________________\n"
          ]
        },
        {
          "output_type": "display_data",
          "data": {
            "text/plain": [
              "<IPython.core.display.HTML object>"
            ],
            "text/html": [
              "Tracking run with wandb version 0.12.11"
            ]
          },
          "metadata": {}
        },
        {
          "output_type": "display_data",
          "data": {
            "text/plain": [
              "<IPython.core.display.HTML object>"
            ],
            "text/html": [
              "Run data is saved locally in <code>/content/wandb/run-20220323_165527-1brsbmjw</code>"
            ]
          },
          "metadata": {}
        },
        {
          "output_type": "display_data",
          "data": {
            "text/plain": [
              "<IPython.core.display.HTML object>"
            ],
            "text/html": [
              "Syncing run <strong><a href=\"https://wandb.ai/csc2231-yash-siphelele/autoencoders_conv/runs/1brsbmjw\" target=\"_blank\">Model 6.2</a></strong> to <a href=\"https://wandb.ai/csc2231-yash-siphelele/autoencoders_conv\" target=\"_blank\">Weights & Biases</a> (<a href=\"https://wandb.me/run\" target=\"_blank\">docs</a>)<br/>"
            ]
          },
          "metadata": {}
        },
        {
          "output_type": "stream",
          "name": "stdout",
          "text": [
            "Epoch 1/50\n",
            "235/235 [==============================] - 6s 24ms/step - loss: 0.0374 - val_loss: 0.0146 - _timestamp: 1648054540.0000 - _runtime: 13.0000\n",
            "Epoch 2/50\n",
            "235/235 [==============================] - 5s 21ms/step - loss: 0.0115 - val_loss: 0.0091 - _timestamp: 1648054545.0000 - _runtime: 18.0000\n",
            "Epoch 3/50\n",
            "235/235 [==============================] - 5s 22ms/step - loss: 0.0078 - val_loss: 0.0068 - _timestamp: 1648054550.0000 - _runtime: 23.0000\n",
            "Epoch 4/50\n",
            "235/235 [==============================] - 5s 21ms/step - loss: 0.0061 - val_loss: 0.0057 - _timestamp: 1648054555.0000 - _runtime: 28.0000\n",
            "Epoch 5/50\n",
            "235/235 [==============================] - 5s 22ms/step - loss: 0.0052 - val_loss: 0.0049 - _timestamp: 1648054561.0000 - _runtime: 34.0000\n",
            "Epoch 6/50\n",
            "235/235 [==============================] - 5s 21ms/step - loss: 0.0046 - val_loss: 0.0044 - _timestamp: 1648054565.0000 - _runtime: 38.0000\n",
            "Epoch 7/50\n",
            "235/235 [==============================] - 5s 21ms/step - loss: 0.0042 - val_loss: 0.0041 - _timestamp: 1648054570.0000 - _runtime: 43.0000\n",
            "Epoch 8/50\n",
            "235/235 [==============================] - 5s 21ms/step - loss: 0.0039 - val_loss: 0.0038 - _timestamp: 1648054575.0000 - _runtime: 48.0000\n",
            "Epoch 9/50\n",
            "235/235 [==============================] - 5s 21ms/step - loss: 0.0037 - val_loss: 0.0036 - _timestamp: 1648054580.0000 - _runtime: 53.0000\n",
            "Epoch 10/50\n",
            "235/235 [==============================] - 5s 21ms/step - loss: 0.0035 - val_loss: 0.0034 - _timestamp: 1648054585.0000 - _runtime: 58.0000\n",
            "Epoch 11/50\n",
            "235/235 [==============================] - 5s 21ms/step - loss: 0.0033 - val_loss: 0.0033 - _timestamp: 1648054590.0000 - _runtime: 63.0000\n",
            "Epoch 12/50\n",
            "235/235 [==============================] - 5s 22ms/step - loss: 0.0032 - val_loss: 0.0032 - _timestamp: 1648054596.0000 - _runtime: 69.0000\n",
            "Epoch 13/50\n",
            "235/235 [==============================] - 5s 21ms/step - loss: 0.0031 - val_loss: 0.0030 - _timestamp: 1648054601.0000 - _runtime: 74.0000\n",
            "Epoch 14/50\n",
            "235/235 [==============================] - 5s 23ms/step - loss: 0.0029 - val_loss: 0.0029 - _timestamp: 1648054606.0000 - _runtime: 79.0000\n",
            "Epoch 15/50\n",
            "235/235 [==============================] - 5s 21ms/step - loss: 0.0029 - val_loss: 0.0028 - _timestamp: 1648054611.0000 - _runtime: 84.0000\n",
            "Epoch 16/50\n",
            "235/235 [==============================] - 5s 21ms/step - loss: 0.0028 - val_loss: 0.0027 - _timestamp: 1648054616.0000 - _runtime: 89.0000\n",
            "Epoch 17/50\n",
            "235/235 [==============================] - 5s 21ms/step - loss: 0.0027 - val_loss: 0.0027 - _timestamp: 1648054621.0000 - _runtime: 94.0000\n",
            "Epoch 18/50\n",
            "235/235 [==============================] - 5s 21ms/step - loss: 0.0026 - val_loss: 0.0026 - _timestamp: 1648054626.0000 - _runtime: 99.0000\n",
            "Epoch 19/50\n",
            "235/235 [==============================] - 5s 21ms/step - loss: 0.0026 - val_loss: 0.0026 - _timestamp: 1648054631.0000 - _runtime: 104.0000\n",
            "Epoch 20/50\n",
            "235/235 [==============================] - 5s 22ms/step - loss: 0.0025 - val_loss: 0.0025 - _timestamp: 1648054636.0000 - _runtime: 109.0000\n",
            "Epoch 21/50\n",
            "235/235 [==============================] - 5s 22ms/step - loss: 0.0025 - val_loss: 0.0025 - _timestamp: 1648054641.0000 - _runtime: 114.0000\n",
            "Epoch 22/50\n",
            "235/235 [==============================] - 5s 22ms/step - loss: 0.0024 - val_loss: 0.0024 - _timestamp: 1648054647.0000 - _runtime: 120.0000\n",
            "Epoch 23/50\n",
            "235/235 [==============================] - 5s 21ms/step - loss: 0.0024 - val_loss: 0.0024 - _timestamp: 1648054652.0000 - _runtime: 125.0000\n",
            "Epoch 24/50\n",
            "235/235 [==============================] - 5s 21ms/step - loss: 0.0023 - val_loss: 0.0023 - _timestamp: 1648054657.0000 - _runtime: 130.0000\n",
            "Epoch 25/50\n",
            "235/235 [==============================] - 5s 21ms/step - loss: 0.0023 - val_loss: 0.0023 - _timestamp: 1648054661.0000 - _runtime: 134.0000\n",
            "Epoch 26/50\n",
            "235/235 [==============================] - 5s 22ms/step - loss: 0.0022 - val_loss: 0.0022 - _timestamp: 1648054667.0000 - _runtime: 140.0000\n",
            "Epoch 27/50\n",
            "235/235 [==============================] - 5s 21ms/step - loss: 0.0022 - val_loss: 0.0022 - _timestamp: 1648054672.0000 - _runtime: 145.0000\n",
            "Epoch 28/50\n",
            "235/235 [==============================] - 5s 22ms/step - loss: 0.0021 - val_loss: 0.0021 - _timestamp: 1648054677.0000 - _runtime: 150.0000\n",
            "Epoch 29/50\n",
            "235/235 [==============================] - 5s 22ms/step - loss: 0.0021 - val_loss: 0.0022 - _timestamp: 1648054682.0000 - _runtime: 155.0000\n",
            "Epoch 30/50\n",
            "235/235 [==============================] - 5s 21ms/step - loss: 0.0021 - val_loss: 0.0021 - _timestamp: 1648054687.0000 - _runtime: 160.0000\n",
            "Epoch 31/50\n",
            "235/235 [==============================] - 5s 23ms/step - loss: 0.0020 - val_loss: 0.0021 - _timestamp: 1648054692.0000 - _runtime: 165.0000\n",
            "Epoch 32/50\n",
            "235/235 [==============================] - 5s 21ms/step - loss: 0.0020 - val_loss: 0.0020 - _timestamp: 1648054697.0000 - _runtime: 170.0000\n",
            "Epoch 33/50\n",
            "235/235 [==============================] - 5s 22ms/step - loss: 0.0020 - val_loss: 0.0020 - _timestamp: 1648054703.0000 - _runtime: 176.0000\n",
            "Epoch 34/50\n",
            "235/235 [==============================] - 5s 21ms/step - loss: 0.0020 - val_loss: 0.0020 - _timestamp: 1648054708.0000 - _runtime: 181.0000\n",
            "Epoch 35/50\n",
            "235/235 [==============================] - 5s 21ms/step - loss: 0.0019 - val_loss: 0.0019 - _timestamp: 1648054713.0000 - _runtime: 186.0000\n",
            "Epoch 36/50\n",
            "235/235 [==============================] - 5s 21ms/step - loss: 0.0019 - val_loss: 0.0019 - _timestamp: 1648054718.0000 - _runtime: 191.0000\n",
            "Epoch 37/50\n",
            "235/235 [==============================] - 5s 21ms/step - loss: 0.0019 - val_loss: 0.0019 - _timestamp: 1648054723.0000 - _runtime: 196.0000\n",
            "Epoch 38/50\n",
            "235/235 [==============================] - 5s 21ms/step - loss: 0.0019 - val_loss: 0.0019 - _timestamp: 1648054728.0000 - _runtime: 201.0000\n",
            "Epoch 39/50\n",
            "235/235 [==============================] - 5s 22ms/step - loss: 0.0019 - val_loss: 0.0019 - _timestamp: 1648054733.0000 - _runtime: 206.0000\n",
            "Epoch 40/50\n",
            "235/235 [==============================] - 5s 21ms/step - loss: 0.0018 - val_loss: 0.0018 - _timestamp: 1648054738.0000 - _runtime: 211.0000\n",
            "Epoch 41/50\n",
            "235/235 [==============================] - 5s 21ms/step - loss: 0.0018 - val_loss: 0.0019 - _timestamp: 1648054743.0000 - _runtime: 216.0000\n",
            "Epoch 42/50\n",
            "235/235 [==============================] - 5s 21ms/step - loss: 0.0018 - val_loss: 0.0018 - _timestamp: 1648054748.0000 - _runtime: 221.0000\n",
            "Epoch 43/50\n",
            "235/235 [==============================] - 5s 22ms/step - loss: 0.0018 - val_loss: 0.0018 - _timestamp: 1648054753.0000 - _runtime: 226.0000\n",
            "Epoch 44/50\n",
            "235/235 [==============================] - 5s 21ms/step - loss: 0.0018 - val_loss: 0.0018 - _timestamp: 1648054758.0000 - _runtime: 231.0000\n",
            "Epoch 45/50\n",
            "235/235 [==============================] - 5s 21ms/step - loss: 0.0018 - val_loss: 0.0018 - _timestamp: 1648054763.0000 - _runtime: 236.0000\n",
            "Epoch 46/50\n",
            "235/235 [==============================] - 5s 21ms/step - loss: 0.0018 - val_loss: 0.0018 - _timestamp: 1648054768.0000 - _runtime: 241.0000\n",
            "Epoch 47/50\n",
            "235/235 [==============================] - 5s 21ms/step - loss: 0.0018 - val_loss: 0.0018 - _timestamp: 1648054773.0000 - _runtime: 246.0000\n",
            "Epoch 48/50\n",
            "235/235 [==============================] - 5s 22ms/step - loss: 0.0017 - val_loss: 0.0017 - _timestamp: 1648054778.0000 - _runtime: 251.0000\n",
            "Epoch 49/50\n",
            "235/235 [==============================] - 5s 22ms/step - loss: 0.0017 - val_loss: 0.0018 - _timestamp: 1648054783.0000 - _runtime: 256.0000\n",
            "Epoch 50/50\n",
            "235/235 [==============================] - 5s 22ms/step - loss: 0.0017 - val_loss: 0.0018 - _timestamp: 1648054788.0000 - _runtime: 261.0000\n",
            "Avg SSIM over X_test: 0.9639596904077651\n",
            "\n"
          ]
        },
        {
          "output_type": "display_data",
          "data": {
            "text/plain": [
              "<IPython.core.display.HTML object>"
            ],
            "text/html": [
              "Waiting for W&B process to finish... <strong style=\"color:green\">(success).</strong>"
            ]
          },
          "metadata": {}
        },
        {
          "output_type": "display_data",
          "data": {
            "text/plain": [
              "VBox(children=(Label(value='0.201 MB of 0.201 MB uploaded (0.000 MB deduped)\\r'), FloatProgress(value=1.0, max…"
            ],
            "application/vnd.jupyter.widget-view+json": {
              "version_major": 2,
              "version_minor": 0,
              "model_id": "f859a7a87b194aecb39e4be09461582a"
            }
          },
          "metadata": {}
        },
        {
          "output_type": "display_data",
          "data": {
            "text/plain": [
              "<IPython.core.display.HTML object>"
            ],
            "text/html": [
              "<style>\n",
              "    table.wandb td:nth-child(1) { padding: 0 10px; text-align: right }\n",
              "    .wandb-row { display: flex; flex-direction: row; flex-wrap: wrap; width: 100% }\n",
              "    .wandb-col { display: flex; flex-direction: column; flex-basis: 100%; flex: 1; padding: 10px; }\n",
              "    </style>\n",
              "<div class=\"wandb-row\"><div class=\"wandb-col\"><h3>Run history:</h3><br/><table class=\"wandb\"><tr><td>avg_ssim_score_x_test</td><td>▁</td></tr><tr><td>epoch</td><td>▁▁▁▁▂▂▂▂▂▃▃▃▃▃▃▄▄▄▄▄▅▅▅▅▅▅▆▆▆▆▆▆▇▇▇▇▇███</td></tr><tr><td>loss</td><td>█▃▂▂▂▁▁▁▁▁▁▁▁▁▁▁▁▁▁▁▁▁▁▁▁▁▁▁▁▁▁▁▁▁▁▁▁▁▁▁</td></tr><tr><td>val_loss</td><td>█▅▄▃▂▂▂▂▂▂▂▂▂▂▁▁▁▁▁▁▁▁▁▁▁▁▁▁▁▁▁▁▁▁▁▁▁▁▁▁</td></tr></table><br/></div><div class=\"wandb-col\"><h3>Run summary:</h3><br/><table class=\"wandb\"><tr><td>avg_ssim_score_x_test</td><td>0.96396</td></tr><tr><td>best_epoch</td><td>47</td></tr><tr><td>best_val_loss</td><td>0.00174</td></tr><tr><td>epoch</td><td>49</td></tr><tr><td>loss</td><td>0.00174</td></tr><tr><td>val_loss</td><td>0.00175</td></tr></table><br/></div></div>"
            ]
          },
          "metadata": {}
        },
        {
          "output_type": "display_data",
          "data": {
            "text/plain": [
              "<IPython.core.display.HTML object>"
            ],
            "text/html": [
              "Synced <strong style=\"color:#cdcd00\">Model 6.2</strong>: <a href=\"https://wandb.ai/csc2231-yash-siphelele/autoencoders_conv/runs/1brsbmjw\" target=\"_blank\">https://wandb.ai/csc2231-yash-siphelele/autoencoders_conv/runs/1brsbmjw</a><br/>Synced 5 W&B file(s), 1 media file(s), 0 artifact file(s) and 1 other file(s)"
            ]
          },
          "metadata": {}
        },
        {
          "output_type": "display_data",
          "data": {
            "text/plain": [
              "<IPython.core.display.HTML object>"
            ],
            "text/html": [
              "Find logs at: <code>./wandb/run-20220323_165527-1brsbmjw/logs</code>"
            ]
          },
          "metadata": {}
        }
      ]
    },
    {
      "cell_type": "code",
      "source": [
        "# Model 9\n",
        "\n",
        "def Encoder_ConvTranspose_7(input_img):\n",
        "    x = Conv2D(32, (3, 3), activation='leaky_relu', padding='same', strides=2)(input_img)\n",
        "    x = Conv2D(16, (3, 3), activation='leaky_relu', padding='same', strides=2)(x)\n",
        "    encoded = Conv2D(8, (3, 3), activation='leaky_relu', padding='same')(x)\n",
        "    return encoded\n",
        "\n",
        "def Decoder_ConvTranspose_7(encoded):\n",
        "    x = Conv2DTranspose(16, (3, 3), strides = 2, activation='leaky_relu', padding='same')(encoded)\n",
        "    x = Conv2DTranspose(32, (3, 3), strides = 2, activation='leaky_relu', padding='same')(x)\n",
        "    decoded = Conv2D(1, (3, 3), padding='same')(x)\n",
        "    return decoded\n",
        "\n",
        "\n",
        "input = Input(shape=(28, 28, 1)) \n",
        "encoder8 = Encoder_ConvTranspose_7(input)\n",
        "decoder8 = Decoder_ConvTranspose_7(encoder8)\n",
        "autoencoder8 = Model(input, decoder8)\n",
        "autoencoder8.compile(optimizer = \"adam\", loss = \"mse\")\n",
        "autoencoder8.summary()\n",
        "\n",
        "fit_model_and_log_metrics(\"Model 6.3\", \"With maxpooling, convtranspose\", autoencoder8, epochs=75, batch_size=256)"
      ],
      "metadata": {
        "colab": {
          "base_uri": "https://localhost:8080/",
          "height": 1000,
          "referenced_widgets": [
            "c2ed41369666419eb82a59fba2ccadb8",
            "09b1a82fc4284fdfb9b76ad9e0e625f5",
            "b22aba936eec4af789df8d4bd3870047",
            "7b23557617e345368e971d878a854570",
            "20d049468a984814883217177d5d841a",
            "c94f0860983644028ff9d5b4dcf4beb6",
            "588827d490354162a13efa45481de38b",
            "8dfbb5d8cc554660acb703d55f6865ab"
          ]
        },
        "id": "dVMzOH3Brd3J",
        "outputId": "16049e5b-4371-4557-fb7b-e7f25e344ac2"
      },
      "execution_count": null,
      "outputs": [
        {
          "output_type": "stream",
          "name": "stdout",
          "text": [
            "Model: \"model_13\"\n",
            "_________________________________________________________________\n",
            " Layer (type)                Output Shape              Param #   \n",
            "=================================================================\n",
            " input_14 (InputLayer)       [(None, 28, 28, 1)]       0         \n",
            "                                                                 \n",
            " conv2d_52 (Conv2D)          (None, 14, 14, 32)        320       \n",
            "                                                                 \n",
            " conv2d_53 (Conv2D)          (None, 7, 7, 16)          4624      \n",
            "                                                                 \n",
            " conv2d_54 (Conv2D)          (None, 7, 7, 8)           1160      \n",
            "                                                                 \n",
            " conv2d_transpose_20 (Conv2D  (None, 14, 14, 16)       1168      \n",
            " Transpose)                                                      \n",
            "                                                                 \n",
            " conv2d_transpose_21 (Conv2D  (None, 28, 28, 32)       4640      \n",
            " Transpose)                                                      \n",
            "                                                                 \n",
            " conv2d_55 (Conv2D)          (None, 28, 28, 1)         289       \n",
            "                                                                 \n",
            "=================================================================\n",
            "Total params: 12,201\n",
            "Trainable params: 12,201\n",
            "Non-trainable params: 0\n",
            "_________________________________________________________________\n"
          ]
        },
        {
          "output_type": "display_data",
          "data": {
            "text/plain": [
              "<IPython.core.display.HTML object>"
            ],
            "text/html": [
              "Tracking run with wandb version 0.12.11"
            ]
          },
          "metadata": {}
        },
        {
          "output_type": "display_data",
          "data": {
            "text/plain": [
              "<IPython.core.display.HTML object>"
            ],
            "text/html": [
              "Run data is saved locally in <code>/content/wandb/run-20220323_171726-3he9hagb</code>"
            ]
          },
          "metadata": {}
        },
        {
          "output_type": "display_data",
          "data": {
            "text/plain": [
              "<IPython.core.display.HTML object>"
            ],
            "text/html": [
              "Syncing run <strong><a href=\"https://wandb.ai/csc2231-yash-siphelele/autoencoders_conv/runs/3he9hagb\" target=\"_blank\">Model 6.3</a></strong> to <a href=\"https://wandb.ai/csc2231-yash-siphelele/autoencoders_conv\" target=\"_blank\">Weights & Biases</a> (<a href=\"https://wandb.me/run\" target=\"_blank\">docs</a>)<br/>"
            ]
          },
          "metadata": {}
        },
        {
          "output_type": "stream",
          "name": "stdout",
          "text": [
            "Epoch 1/75\n",
            "  5/235 [..............................] - ETA: 6s - loss: 0.1985WARNING:tensorflow:Callback method `on_train_batch_end` is slow compared to the batch time (batch time: 0.0122s vs `on_train_batch_end` time: 0.0130s). Check your callbacks.\n",
            "235/235 [==============================] - 6s 22ms/step - loss: 0.0335 - val_loss: 0.0143 - _timestamp: 1648055857.0000 - _runtime: 11.0000\n",
            "Epoch 2/75\n",
            "235/235 [==============================] - 5s 22ms/step - loss: 0.0112 - val_loss: 0.0088 - _timestamp: 1648055863.0000 - _runtime: 17.0000\n",
            "Epoch 3/75\n",
            "235/235 [==============================] - 5s 21ms/step - loss: 0.0075 - val_loss: 0.0064 - _timestamp: 1648055868.0000 - _runtime: 22.0000\n",
            "Epoch 4/75\n",
            "235/235 [==============================] - 5s 21ms/step - loss: 0.0057 - val_loss: 0.0052 - _timestamp: 1648055873.0000 - _runtime: 27.0000\n",
            "Epoch 5/75\n",
            "235/235 [==============================] - 5s 22ms/step - loss: 0.0048 - val_loss: 0.0045 - _timestamp: 1648055878.0000 - _runtime: 32.0000\n",
            "Epoch 6/75\n",
            "235/235 [==============================] - 5s 22ms/step - loss: 0.0042 - val_loss: 0.0040 - _timestamp: 1648055883.0000 - _runtime: 37.0000\n",
            "Epoch 7/75\n",
            "235/235 [==============================] - 5s 22ms/step - loss: 0.0039 - val_loss: 0.0038 - _timestamp: 1648055888.0000 - _runtime: 42.0000\n",
            "Epoch 8/75\n",
            "235/235 [==============================] - 5s 21ms/step - loss: 0.0036 - val_loss: 0.0035 - _timestamp: 1648055893.0000 - _runtime: 47.0000\n",
            "Epoch 9/75\n",
            "235/235 [==============================] - 5s 21ms/step - loss: 0.0035 - val_loss: 0.0033 - _timestamp: 1648055898.0000 - _runtime: 52.0000\n",
            "Epoch 10/75\n",
            "235/235 [==============================] - 5s 22ms/step - loss: 0.0033 - val_loss: 0.0032 - _timestamp: 1648055903.0000 - _runtime: 57.0000\n",
            "Epoch 11/75\n",
            "235/235 [==============================] - 5s 21ms/step - loss: 0.0032 - val_loss: 0.0031 - _timestamp: 1648055908.0000 - _runtime: 62.0000\n",
            "Epoch 12/75\n",
            "235/235 [==============================] - 5s 21ms/step - loss: 0.0031 - val_loss: 0.0030 - _timestamp: 1648055913.0000 - _runtime: 67.0000\n",
            "Epoch 13/75\n",
            "235/235 [==============================] - 5s 22ms/step - loss: 0.0029 - val_loss: 0.0029 - _timestamp: 1648055918.0000 - _runtime: 72.0000\n",
            "Epoch 14/75\n",
            "235/235 [==============================] - 5s 21ms/step - loss: 0.0029 - val_loss: 0.0028 - _timestamp: 1648055923.0000 - _runtime: 77.0000\n",
            "Epoch 15/75\n",
            "235/235 [==============================] - 5s 21ms/step - loss: 0.0028 - val_loss: 0.0028 - _timestamp: 1648055928.0000 - _runtime: 82.0000\n",
            "Epoch 16/75\n",
            "235/235 [==============================] - 5s 21ms/step - loss: 0.0027 - val_loss: 0.0027 - _timestamp: 1648055933.0000 - _runtime: 87.0000\n",
            "Epoch 17/75\n",
            "235/235 [==============================] - 5s 22ms/step - loss: 0.0027 - val_loss: 0.0026 - _timestamp: 1648055938.0000 - _runtime: 92.0000\n",
            "Epoch 18/75\n",
            "235/235 [==============================] - 5s 22ms/step - loss: 0.0027 - val_loss: 0.0026 - _timestamp: 1648055944.0000 - _runtime: 98.0000\n",
            "Epoch 19/75\n",
            "235/235 [==============================] - 5s 22ms/step - loss: 0.0025 - val_loss: 0.0026 - _timestamp: 1648055949.0000 - _runtime: 103.0000\n",
            "Epoch 20/75\n",
            "235/235 [==============================] - 5s 23ms/step - loss: 0.0025 - val_loss: 0.0025 - _timestamp: 1648055954.0000 - _runtime: 108.0000\n",
            "Epoch 21/75\n",
            "235/235 [==============================] - 5s 22ms/step - loss: 0.0025 - val_loss: 0.0024 - _timestamp: 1648055960.0000 - _runtime: 114.0000\n",
            "Epoch 22/75\n",
            "235/235 [==============================] - 5s 23ms/step - loss: 0.0024 - val_loss: 0.0024 - _timestamp: 1648055965.0000 - _runtime: 119.0000\n",
            "Epoch 23/75\n",
            "235/235 [==============================] - 5s 23ms/step - loss: 0.0024 - val_loss: 0.0024 - _timestamp: 1648055970.0000 - _runtime: 124.0000\n",
            "Epoch 24/75\n",
            "235/235 [==============================] - 5s 21ms/step - loss: 0.0023 - val_loss: 0.0023 - _timestamp: 1648055975.0000 - _runtime: 129.0000\n",
            "Epoch 25/75\n",
            "235/235 [==============================] - 5s 22ms/step - loss: 0.0023 - val_loss: 0.0023 - _timestamp: 1648055980.0000 - _runtime: 134.0000\n",
            "Epoch 26/75\n",
            "235/235 [==============================] - 5s 22ms/step - loss: 0.0023 - val_loss: 0.0023 - _timestamp: 1648055986.0000 - _runtime: 140.0000\n",
            "Epoch 27/75\n",
            "235/235 [==============================] - 5s 21ms/step - loss: 0.0022 - val_loss: 0.0022 - _timestamp: 1648055991.0000 - _runtime: 145.0000\n",
            "Epoch 28/75\n",
            "235/235 [==============================] - 5s 21ms/step - loss: 0.0022 - val_loss: 0.0021 - _timestamp: 1648055995.0000 - _runtime: 149.0000\n",
            "Epoch 29/75\n",
            "235/235 [==============================] - 5s 21ms/step - loss: 0.0021 - val_loss: 0.0021 - _timestamp: 1648056000.0000 - _runtime: 154.0000\n",
            "Epoch 30/75\n",
            "235/235 [==============================] - 5s 21ms/step - loss: 0.0021 - val_loss: 0.0021 - _timestamp: 1648056005.0000 - _runtime: 159.0000\n",
            "Epoch 31/75\n",
            "235/235 [==============================] - 5s 22ms/step - loss: 0.0021 - val_loss: 0.0021 - _timestamp: 1648056010.0000 - _runtime: 164.0000\n",
            "Epoch 32/75\n",
            "235/235 [==============================] - 5s 22ms/step - loss: 0.0021 - val_loss: 0.0020 - _timestamp: 1648056016.0000 - _runtime: 170.0000\n",
            "Epoch 33/75\n",
            "235/235 [==============================] - 5s 21ms/step - loss: 0.0020 - val_loss: 0.0020 - _timestamp: 1648056021.0000 - _runtime: 175.0000\n",
            "Epoch 34/75\n",
            "235/235 [==============================] - 5s 22ms/step - loss: 0.0020 - val_loss: 0.0021 - _timestamp: 1648056026.0000 - _runtime: 180.0000\n",
            "Epoch 35/75\n",
            "235/235 [==============================] - 5s 22ms/step - loss: 0.0020 - val_loss: 0.0020 - _timestamp: 1648056031.0000 - _runtime: 185.0000\n",
            "Epoch 36/75\n",
            "235/235 [==============================] - 5s 21ms/step - loss: 0.0019 - val_loss: 0.0020 - _timestamp: 1648056036.0000 - _runtime: 190.0000\n",
            "Epoch 37/75\n",
            "235/235 [==============================] - 5s 21ms/step - loss: 0.0019 - val_loss: 0.0019 - _timestamp: 1648056041.0000 - _runtime: 195.0000\n",
            "Epoch 38/75\n",
            "235/235 [==============================] - 5s 21ms/step - loss: 0.0019 - val_loss: 0.0019 - _timestamp: 1648056046.0000 - _runtime: 200.0000\n",
            "Epoch 39/75\n",
            "235/235 [==============================] - 5s 22ms/step - loss: 0.0019 - val_loss: 0.0019 - _timestamp: 1648056051.0000 - _runtime: 205.0000\n",
            "Epoch 40/75\n",
            "235/235 [==============================] - 5s 22ms/step - loss: 0.0019 - val_loss: 0.0019 - _timestamp: 1648056056.0000 - _runtime: 210.0000\n",
            "Epoch 41/75\n",
            "235/235 [==============================] - 5s 21ms/step - loss: 0.0019 - val_loss: 0.0019 - _timestamp: 1648056061.0000 - _runtime: 215.0000\n",
            "Epoch 42/75\n",
            "235/235 [==============================] - 5s 21ms/step - loss: 0.0019 - val_loss: 0.0019 - _timestamp: 1648056066.0000 - _runtime: 220.0000\n",
            "Epoch 43/75\n",
            "235/235 [==============================] - 5s 22ms/step - loss: 0.0019 - val_loss: 0.0018 - _timestamp: 1648056071.0000 - _runtime: 225.0000\n",
            "Epoch 44/75\n",
            "235/235 [==============================] - 5s 21ms/step - loss: 0.0018 - val_loss: 0.0019 - _timestamp: 1648056076.0000 - _runtime: 230.0000\n",
            "Epoch 45/75\n",
            "235/235 [==============================] - 5s 21ms/step - loss: 0.0018 - val_loss: 0.0019 - _timestamp: 1648056081.0000 - _runtime: 235.0000\n",
            "Epoch 46/75\n",
            "235/235 [==============================] - 5s 21ms/step - loss: 0.0018 - val_loss: 0.0018 - _timestamp: 1648056086.0000 - _runtime: 240.0000\n",
            "Epoch 47/75\n",
            "235/235 [==============================] - 5s 22ms/step - loss: 0.0018 - val_loss: 0.0018 - _timestamp: 1648056091.0000 - _runtime: 245.0000\n",
            "Epoch 48/75\n",
            "235/235 [==============================] - 5s 21ms/step - loss: 0.0018 - val_loss: 0.0018 - _timestamp: 1648056096.0000 - _runtime: 250.0000\n",
            "Epoch 49/75\n",
            "235/235 [==============================] - 5s 21ms/step - loss: 0.0018 - val_loss: 0.0018 - _timestamp: 1648056101.0000 - _runtime: 255.0000\n",
            "Epoch 50/75\n",
            "235/235 [==============================] - 5s 21ms/step - loss: 0.0018 - val_loss: 0.0018 - _timestamp: 1648056106.0000 - _runtime: 260.0000\n",
            "Epoch 51/75\n",
            "235/235 [==============================] - 5s 21ms/step - loss: 0.0018 - val_loss: 0.0018 - _timestamp: 1648056111.0000 - _runtime: 265.0000\n",
            "Epoch 52/75\n",
            "235/235 [==============================] - 5s 21ms/step - loss: 0.0018 - val_loss: 0.0018 - _timestamp: 1648056116.0000 - _runtime: 270.0000\n",
            "Epoch 53/75\n",
            "235/235 [==============================] - 5s 21ms/step - loss: 0.0018 - val_loss: 0.0017 - _timestamp: 1648056121.0000 - _runtime: 275.0000\n",
            "Epoch 54/75\n",
            "235/235 [==============================] - 5s 21ms/step - loss: 0.0018 - val_loss: 0.0018 - _timestamp: 1648056126.0000 - _runtime: 280.0000\n",
            "Epoch 55/75\n",
            "235/235 [==============================] - 5s 21ms/step - loss: 0.0017 - val_loss: 0.0017 - _timestamp: 1648056131.0000 - _runtime: 285.0000\n",
            "Epoch 56/75\n",
            "235/235 [==============================] - 5s 21ms/step - loss: 0.0017 - val_loss: 0.0017 - _timestamp: 1648056136.0000 - _runtime: 290.0000\n",
            "Epoch 57/75\n",
            "235/235 [==============================] - 5s 21ms/step - loss: 0.0017 - val_loss: 0.0017 - _timestamp: 1648056141.0000 - _runtime: 295.0000\n",
            "Epoch 58/75\n",
            "235/235 [==============================] - 5s 21ms/step - loss: 0.0017 - val_loss: 0.0017 - _timestamp: 1648056146.0000 - _runtime: 300.0000\n",
            "Epoch 59/75\n",
            "235/235 [==============================] - 5s 22ms/step - loss: 0.0017 - val_loss: 0.0017 - _timestamp: 1648056151.0000 - _runtime: 305.0000\n",
            "Epoch 60/75\n",
            "235/235 [==============================] - 5s 21ms/step - loss: 0.0017 - val_loss: 0.0017 - _timestamp: 1648056156.0000 - _runtime: 310.0000\n",
            "Epoch 61/75\n",
            "235/235 [==============================] - 5s 22ms/step - loss: 0.0017 - val_loss: 0.0017 - _timestamp: 1648056161.0000 - _runtime: 315.0000\n",
            "Epoch 62/75\n",
            "235/235 [==============================] - 5s 21ms/step - loss: 0.0017 - val_loss: 0.0022 - _timestamp: 1648056166.0000 - _runtime: 320.0000\n",
            "Epoch 63/75\n",
            "235/235 [==============================] - 5s 21ms/step - loss: 0.0017 - val_loss: 0.0017 - _timestamp: 1648056171.0000 - _runtime: 325.0000\n",
            "Epoch 64/75\n",
            "235/235 [==============================] - 5s 22ms/step - loss: 0.0017 - val_loss: 0.0017 - _timestamp: 1648056176.0000 - _runtime: 330.0000\n",
            "Epoch 65/75\n",
            "235/235 [==============================] - 5s 22ms/step - loss: 0.0017 - val_loss: 0.0017 - _timestamp: 1648056182.0000 - _runtime: 336.0000\n",
            "Epoch 66/75\n",
            "235/235 [==============================] - 5s 22ms/step - loss: 0.0017 - val_loss: 0.0017 - _timestamp: 1648056187.0000 - _runtime: 341.0000\n",
            "Epoch 67/75\n",
            "235/235 [==============================] - 5s 21ms/step - loss: 0.0017 - val_loss: 0.0017 - _timestamp: 1648056192.0000 - _runtime: 346.0000\n",
            "Epoch 68/75\n",
            "235/235 [==============================] - 5s 22ms/step - loss: 0.0017 - val_loss: 0.0017 - _timestamp: 1648056197.0000 - _runtime: 351.0000\n",
            "Epoch 69/75\n",
            "235/235 [==============================] - 5s 22ms/step - loss: 0.0017 - val_loss: 0.0017 - _timestamp: 1648056202.0000 - _runtime: 356.0000\n",
            "Epoch 70/75\n",
            "235/235 [==============================] - 5s 23ms/step - loss: 0.0017 - val_loss: 0.0017 - _timestamp: 1648056208.0000 - _runtime: 362.0000\n",
            "Epoch 71/75\n",
            "235/235 [==============================] - 5s 23ms/step - loss: 0.0017 - val_loss: 0.0016 - _timestamp: 1648056213.0000 - _runtime: 367.0000\n",
            "Epoch 72/75\n",
            "235/235 [==============================] - 5s 23ms/step - loss: 0.0017 - val_loss: 0.0016 - _timestamp: 1648056219.0000 - _runtime: 373.0000\n",
            "Epoch 73/75\n",
            "235/235 [==============================] - 5s 21ms/step - loss: 0.0017 - val_loss: 0.0017 - _timestamp: 1648056223.0000 - _runtime: 377.0000\n",
            "Epoch 74/75\n",
            "235/235 [==============================] - 5s 21ms/step - loss: 0.0017 - val_loss: 0.0016 - _timestamp: 1648056228.0000 - _runtime: 382.0000\n",
            "Epoch 75/75\n",
            "235/235 [==============================] - 5s 21ms/step - loss: 0.0016 - val_loss: 0.0016 - _timestamp: 1648056233.0000 - _runtime: 387.0000\n",
            "Avg SSIM over X_test: 0.9676718932300115\n",
            "\n"
          ]
        },
        {
          "output_type": "display_data",
          "data": {
            "text/plain": [
              "<IPython.core.display.HTML object>"
            ],
            "text/html": [
              "Waiting for W&B process to finish... <strong style=\"color:green\">(success).</strong>"
            ]
          },
          "metadata": {}
        },
        {
          "output_type": "display_data",
          "data": {
            "text/plain": [
              "VBox(children=(Label(value='0.201 MB of 0.201 MB uploaded (0.000 MB deduped)\\r'), FloatProgress(value=1.0, max…"
            ],
            "application/vnd.jupyter.widget-view+json": {
              "version_major": 2,
              "version_minor": 0,
              "model_id": "c2ed41369666419eb82a59fba2ccadb8"
            }
          },
          "metadata": {}
        },
        {
          "output_type": "display_data",
          "data": {
            "text/plain": [
              "<IPython.core.display.HTML object>"
            ],
            "text/html": [
              "<style>\n",
              "    table.wandb td:nth-child(1) { padding: 0 10px; text-align: right }\n",
              "    .wandb-row { display: flex; flex-direction: row; flex-wrap: wrap; width: 100% }\n",
              "    .wandb-col { display: flex; flex-direction: column; flex-basis: 100%; flex: 1; padding: 10px; }\n",
              "    </style>\n",
              "<div class=\"wandb-row\"><div class=\"wandb-col\"><h3>Run history:</h3><br/><table class=\"wandb\"><tr><td>avg_ssim_score_x_test</td><td>▁</td></tr><tr><td>epoch</td><td>▁▁▁▁▂▂▂▂▂▃▃▃▃▃▃▄▄▄▄▄▅▅▅▅▅▅▆▆▆▆▆▆▇▇▇▇▇███</td></tr><tr><td>loss</td><td>█▃▂▂▁▁▁▁▁▁▁▁▁▁▁▁▁▁▁▁▁▁▁▁▁▁▁▁▁▁▁▁▁▁▁▁▁▁▁▁</td></tr><tr><td>val_loss</td><td>█▅▃▂▂▂▂▂▂▂▂▁▁▁▁▁▁▁▁▁▁▁▁▁▁▁▁▁▁▁▁▁▁▁▁▁▁▁▁▁</td></tr></table><br/></div><div class=\"wandb-col\"><h3>Run summary:</h3><br/><table class=\"wandb\"><tr><td>avg_ssim_score_x_test</td><td>0.96767</td></tr><tr><td>best_epoch</td><td>74</td></tr><tr><td>best_val_loss</td><td>0.00163</td></tr><tr><td>epoch</td><td>74</td></tr><tr><td>loss</td><td>0.00163</td></tr><tr><td>val_loss</td><td>0.00163</td></tr></table><br/></div></div>"
            ]
          },
          "metadata": {}
        },
        {
          "output_type": "display_data",
          "data": {
            "text/plain": [
              "<IPython.core.display.HTML object>"
            ],
            "text/html": [
              "Synced <strong style=\"color:#cdcd00\">Model 6.3</strong>: <a href=\"https://wandb.ai/csc2231-yash-siphelele/autoencoders_conv/runs/3he9hagb\" target=\"_blank\">https://wandb.ai/csc2231-yash-siphelele/autoencoders_conv/runs/3he9hagb</a><br/>Synced 5 W&B file(s), 1 media file(s), 0 artifact file(s) and 1 other file(s)"
            ]
          },
          "metadata": {}
        },
        {
          "output_type": "display_data",
          "data": {
            "text/plain": [
              "<IPython.core.display.HTML object>"
            ],
            "text/html": [
              "Find logs at: <code>./wandb/run-20220323_171726-3he9hagb/logs</code>"
            ]
          },
          "metadata": {}
        }
      ]
    },
    {
      "cell_type": "code",
      "source": [
        ""
      ],
      "metadata": {
        "id": "L7dsgVViyIGs"
      },
      "execution_count": null,
      "outputs": []
    }
  ]
}