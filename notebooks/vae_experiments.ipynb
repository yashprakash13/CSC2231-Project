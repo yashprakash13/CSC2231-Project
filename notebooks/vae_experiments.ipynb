{
  "nbformat": 4,
  "nbformat_minor": 0,
  "metadata": {
    "colab": {
      "name": "vae_experiments.ipynb",
      "provenance": [],
      "collapsed_sections": [
        "S-5mzSdB1407",
        "za8XPdbJyo-b",
        "-YzehTyJytMf",
        "nLjLkDqPR7ig",
        "2MFt9YRtVIBD",
        "teFy_06KXuWC",
        "eOQYLhkZbFVW",
        "3kpFtMwgcPWj",
        "Y2SAx3t4ducI",
        "V-t77v_hlwkt",
        "UceOJsoKmBwo",
        "o6N3tK0Ix-89",
        "7XzSLJTZ0quX"
      ]
    },
    "kernelspec": {
      "name": "python3",
      "display_name": "Python 3"
    },
    "language_info": {
      "name": "python"
    },
    "accelerator": "GPU",
    "widgets": {
      "application/vnd.jupyter.widget-state+json": {
        "ee9c54f131fb473686b51bf14dd6a01b": {
          "model_module": "@jupyter-widgets/controls",
          "model_name": "VBoxModel",
          "model_module_version": "1.5.0",
          "state": {
            "_dom_classes": [],
            "_model_module": "@jupyter-widgets/controls",
            "_model_module_version": "1.5.0",
            "_model_name": "VBoxModel",
            "_view_count": null,
            "_view_module": "@jupyter-widgets/controls",
            "_view_module_version": "1.5.0",
            "_view_name": "VBoxView",
            "box_style": "",
            "children": [
              "IPY_MODEL_a93222c62a03495a9dff263d547f97aa",
              "IPY_MODEL_f32115b8b93c4902aa2746006325fd70"
            ],
            "layout": "IPY_MODEL_a0f6a04078fb435e96b1a7ef09fce9a2"
          }
        },
        "a93222c62a03495a9dff263d547f97aa": {
          "model_module": "@jupyter-widgets/controls",
          "model_name": "LabelModel",
          "model_module_version": "1.5.0",
          "state": {
            "_dom_classes": [],
            "_model_module": "@jupyter-widgets/controls",
            "_model_module_version": "1.5.0",
            "_model_name": "LabelModel",
            "_view_count": null,
            "_view_module": "@jupyter-widgets/controls",
            "_view_module_version": "1.5.0",
            "_view_name": "LabelView",
            "description": "",
            "description_tooltip": null,
            "layout": "IPY_MODEL_81d8eee4da6c48c6b7bc98bc67d4a4f9",
            "placeholder": "​",
            "style": "IPY_MODEL_ee9f0b56f13448bb96cc41993753d95d",
            "value": "14.992 MB of 14.992 MB uploaded (0.000 MB deduped)\r"
          }
        },
        "f32115b8b93c4902aa2746006325fd70": {
          "model_module": "@jupyter-widgets/controls",
          "model_name": "FloatProgressModel",
          "model_module_version": "1.5.0",
          "state": {
            "_dom_classes": [],
            "_model_module": "@jupyter-widgets/controls",
            "_model_module_version": "1.5.0",
            "_model_name": "FloatProgressModel",
            "_view_count": null,
            "_view_module": "@jupyter-widgets/controls",
            "_view_module_version": "1.5.0",
            "_view_name": "ProgressView",
            "bar_style": "",
            "description": "",
            "description_tooltip": null,
            "layout": "IPY_MODEL_317fe9c26e3c41ddb106c0f6648148e3",
            "max": 1,
            "min": 0,
            "orientation": "horizontal",
            "style": "IPY_MODEL_5a48c2cd868243fa80e163bb60018160",
            "value": 1
          }
        },
        "a0f6a04078fb435e96b1a7ef09fce9a2": {
          "model_module": "@jupyter-widgets/base",
          "model_name": "LayoutModel",
          "model_module_version": "1.2.0",
          "state": {
            "_model_module": "@jupyter-widgets/base",
            "_model_module_version": "1.2.0",
            "_model_name": "LayoutModel",
            "_view_count": null,
            "_view_module": "@jupyter-widgets/base",
            "_view_module_version": "1.2.0",
            "_view_name": "LayoutView",
            "align_content": null,
            "align_items": null,
            "align_self": null,
            "border": null,
            "bottom": null,
            "display": null,
            "flex": null,
            "flex_flow": null,
            "grid_area": null,
            "grid_auto_columns": null,
            "grid_auto_flow": null,
            "grid_auto_rows": null,
            "grid_column": null,
            "grid_gap": null,
            "grid_row": null,
            "grid_template_areas": null,
            "grid_template_columns": null,
            "grid_template_rows": null,
            "height": null,
            "justify_content": null,
            "justify_items": null,
            "left": null,
            "margin": null,
            "max_height": null,
            "max_width": null,
            "min_height": null,
            "min_width": null,
            "object_fit": null,
            "object_position": null,
            "order": null,
            "overflow": null,
            "overflow_x": null,
            "overflow_y": null,
            "padding": null,
            "right": null,
            "top": null,
            "visibility": null,
            "width": null
          }
        },
        "81d8eee4da6c48c6b7bc98bc67d4a4f9": {
          "model_module": "@jupyter-widgets/base",
          "model_name": "LayoutModel",
          "model_module_version": "1.2.0",
          "state": {
            "_model_module": "@jupyter-widgets/base",
            "_model_module_version": "1.2.0",
            "_model_name": "LayoutModel",
            "_view_count": null,
            "_view_module": "@jupyter-widgets/base",
            "_view_module_version": "1.2.0",
            "_view_name": "LayoutView",
            "align_content": null,
            "align_items": null,
            "align_self": null,
            "border": null,
            "bottom": null,
            "display": null,
            "flex": null,
            "flex_flow": null,
            "grid_area": null,
            "grid_auto_columns": null,
            "grid_auto_flow": null,
            "grid_auto_rows": null,
            "grid_column": null,
            "grid_gap": null,
            "grid_row": null,
            "grid_template_areas": null,
            "grid_template_columns": null,
            "grid_template_rows": null,
            "height": null,
            "justify_content": null,
            "justify_items": null,
            "left": null,
            "margin": null,
            "max_height": null,
            "max_width": null,
            "min_height": null,
            "min_width": null,
            "object_fit": null,
            "object_position": null,
            "order": null,
            "overflow": null,
            "overflow_x": null,
            "overflow_y": null,
            "padding": null,
            "right": null,
            "top": null,
            "visibility": null,
            "width": null
          }
        },
        "ee9f0b56f13448bb96cc41993753d95d": {
          "model_module": "@jupyter-widgets/controls",
          "model_name": "DescriptionStyleModel",
          "model_module_version": "1.5.0",
          "state": {
            "_model_module": "@jupyter-widgets/controls",
            "_model_module_version": "1.5.0",
            "_model_name": "DescriptionStyleModel",
            "_view_count": null,
            "_view_module": "@jupyter-widgets/base",
            "_view_module_version": "1.2.0",
            "_view_name": "StyleView",
            "description_width": ""
          }
        },
        "317fe9c26e3c41ddb106c0f6648148e3": {
          "model_module": "@jupyter-widgets/base",
          "model_name": "LayoutModel",
          "model_module_version": "1.2.0",
          "state": {
            "_model_module": "@jupyter-widgets/base",
            "_model_module_version": "1.2.0",
            "_model_name": "LayoutModel",
            "_view_count": null,
            "_view_module": "@jupyter-widgets/base",
            "_view_module_version": "1.2.0",
            "_view_name": "LayoutView",
            "align_content": null,
            "align_items": null,
            "align_self": null,
            "border": null,
            "bottom": null,
            "display": null,
            "flex": null,
            "flex_flow": null,
            "grid_area": null,
            "grid_auto_columns": null,
            "grid_auto_flow": null,
            "grid_auto_rows": null,
            "grid_column": null,
            "grid_gap": null,
            "grid_row": null,
            "grid_template_areas": null,
            "grid_template_columns": null,
            "grid_template_rows": null,
            "height": null,
            "justify_content": null,
            "justify_items": null,
            "left": null,
            "margin": null,
            "max_height": null,
            "max_width": null,
            "min_height": null,
            "min_width": null,
            "object_fit": null,
            "object_position": null,
            "order": null,
            "overflow": null,
            "overflow_x": null,
            "overflow_y": null,
            "padding": null,
            "right": null,
            "top": null,
            "visibility": null,
            "width": null
          }
        },
        "5a48c2cd868243fa80e163bb60018160": {
          "model_module": "@jupyter-widgets/controls",
          "model_name": "ProgressStyleModel",
          "model_module_version": "1.5.0",
          "state": {
            "_model_module": "@jupyter-widgets/controls",
            "_model_module_version": "1.5.0",
            "_model_name": "ProgressStyleModel",
            "_view_count": null,
            "_view_module": "@jupyter-widgets/base",
            "_view_module_version": "1.2.0",
            "_view_name": "StyleView",
            "bar_color": null,
            "description_width": ""
          }
        },
        "a9b4abee0f1b4053b096a82313aeda26": {
          "model_module": "@jupyter-widgets/controls",
          "model_name": "VBoxModel",
          "model_module_version": "1.5.0",
          "state": {
            "_dom_classes": [],
            "_model_module": "@jupyter-widgets/controls",
            "_model_module_version": "1.5.0",
            "_model_name": "VBoxModel",
            "_view_count": null,
            "_view_module": "@jupyter-widgets/controls",
            "_view_module_version": "1.5.0",
            "_view_name": "VBoxView",
            "box_style": "",
            "children": [
              "IPY_MODEL_0364d7f8b5414ced9b6556d73a638861",
              "IPY_MODEL_a0c2c7491c6a4c4d81fec51f7d0d255f"
            ],
            "layout": "IPY_MODEL_aef100cef4b24f88b207bb95cc5bc8b0"
          }
        },
        "0364d7f8b5414ced9b6556d73a638861": {
          "model_module": "@jupyter-widgets/controls",
          "model_name": "LabelModel",
          "model_module_version": "1.5.0",
          "state": {
            "_dom_classes": [],
            "_model_module": "@jupyter-widgets/controls",
            "_model_module_version": "1.5.0",
            "_model_name": "LabelModel",
            "_view_count": null,
            "_view_module": "@jupyter-widgets/controls",
            "_view_module_version": "1.5.0",
            "_view_name": "LabelView",
            "description": "",
            "description_tooltip": null,
            "layout": "IPY_MODEL_bfc3e2d48e4a4f41b500264ac4c2a4da",
            "placeholder": "​",
            "style": "IPY_MODEL_de4690d968f242d2b94f38e76491377d",
            "value": "29.974 MB of 29.974 MB uploaded (0.000 MB deduped)\r"
          }
        },
        "a0c2c7491c6a4c4d81fec51f7d0d255f": {
          "model_module": "@jupyter-widgets/controls",
          "model_name": "FloatProgressModel",
          "model_module_version": "1.5.0",
          "state": {
            "_dom_classes": [],
            "_model_module": "@jupyter-widgets/controls",
            "_model_module_version": "1.5.0",
            "_model_name": "FloatProgressModel",
            "_view_count": null,
            "_view_module": "@jupyter-widgets/controls",
            "_view_module_version": "1.5.0",
            "_view_name": "ProgressView",
            "bar_style": "",
            "description": "",
            "description_tooltip": null,
            "layout": "IPY_MODEL_c8a3d32b15ed4e0090a753a07678272e",
            "max": 1,
            "min": 0,
            "orientation": "horizontal",
            "style": "IPY_MODEL_adcef64eb3fe4bc38e9d554c8497d005",
            "value": 1
          }
        },
        "aef100cef4b24f88b207bb95cc5bc8b0": {
          "model_module": "@jupyter-widgets/base",
          "model_name": "LayoutModel",
          "model_module_version": "1.2.0",
          "state": {
            "_model_module": "@jupyter-widgets/base",
            "_model_module_version": "1.2.0",
            "_model_name": "LayoutModel",
            "_view_count": null,
            "_view_module": "@jupyter-widgets/base",
            "_view_module_version": "1.2.0",
            "_view_name": "LayoutView",
            "align_content": null,
            "align_items": null,
            "align_self": null,
            "border": null,
            "bottom": null,
            "display": null,
            "flex": null,
            "flex_flow": null,
            "grid_area": null,
            "grid_auto_columns": null,
            "grid_auto_flow": null,
            "grid_auto_rows": null,
            "grid_column": null,
            "grid_gap": null,
            "grid_row": null,
            "grid_template_areas": null,
            "grid_template_columns": null,
            "grid_template_rows": null,
            "height": null,
            "justify_content": null,
            "justify_items": null,
            "left": null,
            "margin": null,
            "max_height": null,
            "max_width": null,
            "min_height": null,
            "min_width": null,
            "object_fit": null,
            "object_position": null,
            "order": null,
            "overflow": null,
            "overflow_x": null,
            "overflow_y": null,
            "padding": null,
            "right": null,
            "top": null,
            "visibility": null,
            "width": null
          }
        },
        "bfc3e2d48e4a4f41b500264ac4c2a4da": {
          "model_module": "@jupyter-widgets/base",
          "model_name": "LayoutModel",
          "model_module_version": "1.2.0",
          "state": {
            "_model_module": "@jupyter-widgets/base",
            "_model_module_version": "1.2.0",
            "_model_name": "LayoutModel",
            "_view_count": null,
            "_view_module": "@jupyter-widgets/base",
            "_view_module_version": "1.2.0",
            "_view_name": "LayoutView",
            "align_content": null,
            "align_items": null,
            "align_self": null,
            "border": null,
            "bottom": null,
            "display": null,
            "flex": null,
            "flex_flow": null,
            "grid_area": null,
            "grid_auto_columns": null,
            "grid_auto_flow": null,
            "grid_auto_rows": null,
            "grid_column": null,
            "grid_gap": null,
            "grid_row": null,
            "grid_template_areas": null,
            "grid_template_columns": null,
            "grid_template_rows": null,
            "height": null,
            "justify_content": null,
            "justify_items": null,
            "left": null,
            "margin": null,
            "max_height": null,
            "max_width": null,
            "min_height": null,
            "min_width": null,
            "object_fit": null,
            "object_position": null,
            "order": null,
            "overflow": null,
            "overflow_x": null,
            "overflow_y": null,
            "padding": null,
            "right": null,
            "top": null,
            "visibility": null,
            "width": null
          }
        },
        "de4690d968f242d2b94f38e76491377d": {
          "model_module": "@jupyter-widgets/controls",
          "model_name": "DescriptionStyleModel",
          "model_module_version": "1.5.0",
          "state": {
            "_model_module": "@jupyter-widgets/controls",
            "_model_module_version": "1.5.0",
            "_model_name": "DescriptionStyleModel",
            "_view_count": null,
            "_view_module": "@jupyter-widgets/base",
            "_view_module_version": "1.2.0",
            "_view_name": "StyleView",
            "description_width": ""
          }
        },
        "c8a3d32b15ed4e0090a753a07678272e": {
          "model_module": "@jupyter-widgets/base",
          "model_name": "LayoutModel",
          "model_module_version": "1.2.0",
          "state": {
            "_model_module": "@jupyter-widgets/base",
            "_model_module_version": "1.2.0",
            "_model_name": "LayoutModel",
            "_view_count": null,
            "_view_module": "@jupyter-widgets/base",
            "_view_module_version": "1.2.0",
            "_view_name": "LayoutView",
            "align_content": null,
            "align_items": null,
            "align_self": null,
            "border": null,
            "bottom": null,
            "display": null,
            "flex": null,
            "flex_flow": null,
            "grid_area": null,
            "grid_auto_columns": null,
            "grid_auto_flow": null,
            "grid_auto_rows": null,
            "grid_column": null,
            "grid_gap": null,
            "grid_row": null,
            "grid_template_areas": null,
            "grid_template_columns": null,
            "grid_template_rows": null,
            "height": null,
            "justify_content": null,
            "justify_items": null,
            "left": null,
            "margin": null,
            "max_height": null,
            "max_width": null,
            "min_height": null,
            "min_width": null,
            "object_fit": null,
            "object_position": null,
            "order": null,
            "overflow": null,
            "overflow_x": null,
            "overflow_y": null,
            "padding": null,
            "right": null,
            "top": null,
            "visibility": null,
            "width": null
          }
        },
        "adcef64eb3fe4bc38e9d554c8497d005": {
          "model_module": "@jupyter-widgets/controls",
          "model_name": "ProgressStyleModel",
          "model_module_version": "1.5.0",
          "state": {
            "_model_module": "@jupyter-widgets/controls",
            "_model_module_version": "1.5.0",
            "_model_name": "ProgressStyleModel",
            "_view_count": null,
            "_view_module": "@jupyter-widgets/base",
            "_view_module_version": "1.2.0",
            "_view_name": "StyleView",
            "bar_color": null,
            "description_width": ""
          }
        },
        "9b13b0323c964ffebe36c695964bc77d": {
          "model_module": "@jupyter-widgets/controls",
          "model_name": "VBoxModel",
          "model_module_version": "1.5.0",
          "state": {
            "_dom_classes": [],
            "_model_module": "@jupyter-widgets/controls",
            "_model_module_version": "1.5.0",
            "_model_name": "VBoxModel",
            "_view_count": null,
            "_view_module": "@jupyter-widgets/controls",
            "_view_module_version": "1.5.0",
            "_view_name": "VBoxView",
            "box_style": "",
            "children": [
              "IPY_MODEL_a9b9525c31384b1084a2912cdc6d68a2",
              "IPY_MODEL_aae25fa464a04709a9dde0e8b9ab2756"
            ],
            "layout": "IPY_MODEL_d976ce642c5d40849c185fbc28fd8ad5"
          }
        },
        "a9b9525c31384b1084a2912cdc6d68a2": {
          "model_module": "@jupyter-widgets/controls",
          "model_name": "LabelModel",
          "model_module_version": "1.5.0",
          "state": {
            "_dom_classes": [],
            "_model_module": "@jupyter-widgets/controls",
            "_model_module_version": "1.5.0",
            "_model_name": "LabelModel",
            "_view_count": null,
            "_view_module": "@jupyter-widgets/controls",
            "_view_module_version": "1.5.0",
            "_view_name": "LabelView",
            "description": "",
            "description_tooltip": null,
            "layout": "IPY_MODEL_9f30aadfe0924786a8dc7575db72f4b7",
            "placeholder": "​",
            "style": "IPY_MODEL_999274eacfe347d59bd521a68909def0",
            "value": "29.904 MB of 29.904 MB uploaded (0.000 MB deduped)\r"
          }
        },
        "aae25fa464a04709a9dde0e8b9ab2756": {
          "model_module": "@jupyter-widgets/controls",
          "model_name": "FloatProgressModel",
          "model_module_version": "1.5.0",
          "state": {
            "_dom_classes": [],
            "_model_module": "@jupyter-widgets/controls",
            "_model_module_version": "1.5.0",
            "_model_name": "FloatProgressModel",
            "_view_count": null,
            "_view_module": "@jupyter-widgets/controls",
            "_view_module_version": "1.5.0",
            "_view_name": "ProgressView",
            "bar_style": "",
            "description": "",
            "description_tooltip": null,
            "layout": "IPY_MODEL_364af58c88fe46d1bf9a49803100e96b",
            "max": 1,
            "min": 0,
            "orientation": "horizontal",
            "style": "IPY_MODEL_c674838870a0425798585e1caadd2725",
            "value": 1
          }
        },
        "d976ce642c5d40849c185fbc28fd8ad5": {
          "model_module": "@jupyter-widgets/base",
          "model_name": "LayoutModel",
          "model_module_version": "1.2.0",
          "state": {
            "_model_module": "@jupyter-widgets/base",
            "_model_module_version": "1.2.0",
            "_model_name": "LayoutModel",
            "_view_count": null,
            "_view_module": "@jupyter-widgets/base",
            "_view_module_version": "1.2.0",
            "_view_name": "LayoutView",
            "align_content": null,
            "align_items": null,
            "align_self": null,
            "border": null,
            "bottom": null,
            "display": null,
            "flex": null,
            "flex_flow": null,
            "grid_area": null,
            "grid_auto_columns": null,
            "grid_auto_flow": null,
            "grid_auto_rows": null,
            "grid_column": null,
            "grid_gap": null,
            "grid_row": null,
            "grid_template_areas": null,
            "grid_template_columns": null,
            "grid_template_rows": null,
            "height": null,
            "justify_content": null,
            "justify_items": null,
            "left": null,
            "margin": null,
            "max_height": null,
            "max_width": null,
            "min_height": null,
            "min_width": null,
            "object_fit": null,
            "object_position": null,
            "order": null,
            "overflow": null,
            "overflow_x": null,
            "overflow_y": null,
            "padding": null,
            "right": null,
            "top": null,
            "visibility": null,
            "width": null
          }
        },
        "9f30aadfe0924786a8dc7575db72f4b7": {
          "model_module": "@jupyter-widgets/base",
          "model_name": "LayoutModel",
          "model_module_version": "1.2.0",
          "state": {
            "_model_module": "@jupyter-widgets/base",
            "_model_module_version": "1.2.0",
            "_model_name": "LayoutModel",
            "_view_count": null,
            "_view_module": "@jupyter-widgets/base",
            "_view_module_version": "1.2.0",
            "_view_name": "LayoutView",
            "align_content": null,
            "align_items": null,
            "align_self": null,
            "border": null,
            "bottom": null,
            "display": null,
            "flex": null,
            "flex_flow": null,
            "grid_area": null,
            "grid_auto_columns": null,
            "grid_auto_flow": null,
            "grid_auto_rows": null,
            "grid_column": null,
            "grid_gap": null,
            "grid_row": null,
            "grid_template_areas": null,
            "grid_template_columns": null,
            "grid_template_rows": null,
            "height": null,
            "justify_content": null,
            "justify_items": null,
            "left": null,
            "margin": null,
            "max_height": null,
            "max_width": null,
            "min_height": null,
            "min_width": null,
            "object_fit": null,
            "object_position": null,
            "order": null,
            "overflow": null,
            "overflow_x": null,
            "overflow_y": null,
            "padding": null,
            "right": null,
            "top": null,
            "visibility": null,
            "width": null
          }
        },
        "999274eacfe347d59bd521a68909def0": {
          "model_module": "@jupyter-widgets/controls",
          "model_name": "DescriptionStyleModel",
          "model_module_version": "1.5.0",
          "state": {
            "_model_module": "@jupyter-widgets/controls",
            "_model_module_version": "1.5.0",
            "_model_name": "DescriptionStyleModel",
            "_view_count": null,
            "_view_module": "@jupyter-widgets/base",
            "_view_module_version": "1.2.0",
            "_view_name": "StyleView",
            "description_width": ""
          }
        },
        "364af58c88fe46d1bf9a49803100e96b": {
          "model_module": "@jupyter-widgets/base",
          "model_name": "LayoutModel",
          "model_module_version": "1.2.0",
          "state": {
            "_model_module": "@jupyter-widgets/base",
            "_model_module_version": "1.2.0",
            "_model_name": "LayoutModel",
            "_view_count": null,
            "_view_module": "@jupyter-widgets/base",
            "_view_module_version": "1.2.0",
            "_view_name": "LayoutView",
            "align_content": null,
            "align_items": null,
            "align_self": null,
            "border": null,
            "bottom": null,
            "display": null,
            "flex": null,
            "flex_flow": null,
            "grid_area": null,
            "grid_auto_columns": null,
            "grid_auto_flow": null,
            "grid_auto_rows": null,
            "grid_column": null,
            "grid_gap": null,
            "grid_row": null,
            "grid_template_areas": null,
            "grid_template_columns": null,
            "grid_template_rows": null,
            "height": null,
            "justify_content": null,
            "justify_items": null,
            "left": null,
            "margin": null,
            "max_height": null,
            "max_width": null,
            "min_height": null,
            "min_width": null,
            "object_fit": null,
            "object_position": null,
            "order": null,
            "overflow": null,
            "overflow_x": null,
            "overflow_y": null,
            "padding": null,
            "right": null,
            "top": null,
            "visibility": null,
            "width": null
          }
        },
        "c674838870a0425798585e1caadd2725": {
          "model_module": "@jupyter-widgets/controls",
          "model_name": "ProgressStyleModel",
          "model_module_version": "1.5.0",
          "state": {
            "_model_module": "@jupyter-widgets/controls",
            "_model_module_version": "1.5.0",
            "_model_name": "ProgressStyleModel",
            "_view_count": null,
            "_view_module": "@jupyter-widgets/base",
            "_view_module_version": "1.2.0",
            "_view_name": "StyleView",
            "bar_color": null,
            "description_width": ""
          }
        },
        "c42a8732987e49f0a0cdf8ede6458ae6": {
          "model_module": "@jupyter-widgets/controls",
          "model_name": "VBoxModel",
          "model_module_version": "1.5.0",
          "state": {
            "_dom_classes": [],
            "_model_module": "@jupyter-widgets/controls",
            "_model_module_version": "1.5.0",
            "_model_name": "VBoxModel",
            "_view_count": null,
            "_view_module": "@jupyter-widgets/controls",
            "_view_module_version": "1.5.0",
            "_view_name": "VBoxView",
            "box_style": "",
            "children": [
              "IPY_MODEL_969533782e844981ac2177a33941e07f",
              "IPY_MODEL_4254091c3c6f455ca9639033bc27bfc2"
            ],
            "layout": "IPY_MODEL_1f564703280c4cf79c45de9c1f0950ab"
          }
        },
        "969533782e844981ac2177a33941e07f": {
          "model_module": "@jupyter-widgets/controls",
          "model_name": "LabelModel",
          "model_module_version": "1.5.0",
          "state": {
            "_dom_classes": [],
            "_model_module": "@jupyter-widgets/controls",
            "_model_module_version": "1.5.0",
            "_model_name": "LabelModel",
            "_view_count": null,
            "_view_module": "@jupyter-widgets/controls",
            "_view_module_version": "1.5.0",
            "_view_name": "LabelView",
            "description": "",
            "description_tooltip": null,
            "layout": "IPY_MODEL_b4f17d69170b45e08117c83ac0d996fc",
            "placeholder": "​",
            "style": "IPY_MODEL_c1c7b273942a4fc7b10849737a556b93",
            "value": "15.441 MB of 15.441 MB uploaded (0.000 MB deduped)\r"
          }
        },
        "4254091c3c6f455ca9639033bc27bfc2": {
          "model_module": "@jupyter-widgets/controls",
          "model_name": "FloatProgressModel",
          "model_module_version": "1.5.0",
          "state": {
            "_dom_classes": [],
            "_model_module": "@jupyter-widgets/controls",
            "_model_module_version": "1.5.0",
            "_model_name": "FloatProgressModel",
            "_view_count": null,
            "_view_module": "@jupyter-widgets/controls",
            "_view_module_version": "1.5.0",
            "_view_name": "ProgressView",
            "bar_style": "",
            "description": "",
            "description_tooltip": null,
            "layout": "IPY_MODEL_d820ebe2d7ee4bbd88bdaf6d47a24110",
            "max": 1,
            "min": 0,
            "orientation": "horizontal",
            "style": "IPY_MODEL_5d6328de595c465d8e2960fa78a9c471",
            "value": 1
          }
        },
        "1f564703280c4cf79c45de9c1f0950ab": {
          "model_module": "@jupyter-widgets/base",
          "model_name": "LayoutModel",
          "model_module_version": "1.2.0",
          "state": {
            "_model_module": "@jupyter-widgets/base",
            "_model_module_version": "1.2.0",
            "_model_name": "LayoutModel",
            "_view_count": null,
            "_view_module": "@jupyter-widgets/base",
            "_view_module_version": "1.2.0",
            "_view_name": "LayoutView",
            "align_content": null,
            "align_items": null,
            "align_self": null,
            "border": null,
            "bottom": null,
            "display": null,
            "flex": null,
            "flex_flow": null,
            "grid_area": null,
            "grid_auto_columns": null,
            "grid_auto_flow": null,
            "grid_auto_rows": null,
            "grid_column": null,
            "grid_gap": null,
            "grid_row": null,
            "grid_template_areas": null,
            "grid_template_columns": null,
            "grid_template_rows": null,
            "height": null,
            "justify_content": null,
            "justify_items": null,
            "left": null,
            "margin": null,
            "max_height": null,
            "max_width": null,
            "min_height": null,
            "min_width": null,
            "object_fit": null,
            "object_position": null,
            "order": null,
            "overflow": null,
            "overflow_x": null,
            "overflow_y": null,
            "padding": null,
            "right": null,
            "top": null,
            "visibility": null,
            "width": null
          }
        },
        "b4f17d69170b45e08117c83ac0d996fc": {
          "model_module": "@jupyter-widgets/base",
          "model_name": "LayoutModel",
          "model_module_version": "1.2.0",
          "state": {
            "_model_module": "@jupyter-widgets/base",
            "_model_module_version": "1.2.0",
            "_model_name": "LayoutModel",
            "_view_count": null,
            "_view_module": "@jupyter-widgets/base",
            "_view_module_version": "1.2.0",
            "_view_name": "LayoutView",
            "align_content": null,
            "align_items": null,
            "align_self": null,
            "border": null,
            "bottom": null,
            "display": null,
            "flex": null,
            "flex_flow": null,
            "grid_area": null,
            "grid_auto_columns": null,
            "grid_auto_flow": null,
            "grid_auto_rows": null,
            "grid_column": null,
            "grid_gap": null,
            "grid_row": null,
            "grid_template_areas": null,
            "grid_template_columns": null,
            "grid_template_rows": null,
            "height": null,
            "justify_content": null,
            "justify_items": null,
            "left": null,
            "margin": null,
            "max_height": null,
            "max_width": null,
            "min_height": null,
            "min_width": null,
            "object_fit": null,
            "object_position": null,
            "order": null,
            "overflow": null,
            "overflow_x": null,
            "overflow_y": null,
            "padding": null,
            "right": null,
            "top": null,
            "visibility": null,
            "width": null
          }
        },
        "c1c7b273942a4fc7b10849737a556b93": {
          "model_module": "@jupyter-widgets/controls",
          "model_name": "DescriptionStyleModel",
          "model_module_version": "1.5.0",
          "state": {
            "_model_module": "@jupyter-widgets/controls",
            "_model_module_version": "1.5.0",
            "_model_name": "DescriptionStyleModel",
            "_view_count": null,
            "_view_module": "@jupyter-widgets/base",
            "_view_module_version": "1.2.0",
            "_view_name": "StyleView",
            "description_width": ""
          }
        },
        "d820ebe2d7ee4bbd88bdaf6d47a24110": {
          "model_module": "@jupyter-widgets/base",
          "model_name": "LayoutModel",
          "model_module_version": "1.2.0",
          "state": {
            "_model_module": "@jupyter-widgets/base",
            "_model_module_version": "1.2.0",
            "_model_name": "LayoutModel",
            "_view_count": null,
            "_view_module": "@jupyter-widgets/base",
            "_view_module_version": "1.2.0",
            "_view_name": "LayoutView",
            "align_content": null,
            "align_items": null,
            "align_self": null,
            "border": null,
            "bottom": null,
            "display": null,
            "flex": null,
            "flex_flow": null,
            "grid_area": null,
            "grid_auto_columns": null,
            "grid_auto_flow": null,
            "grid_auto_rows": null,
            "grid_column": null,
            "grid_gap": null,
            "grid_row": null,
            "grid_template_areas": null,
            "grid_template_columns": null,
            "grid_template_rows": null,
            "height": null,
            "justify_content": null,
            "justify_items": null,
            "left": null,
            "margin": null,
            "max_height": null,
            "max_width": null,
            "min_height": null,
            "min_width": null,
            "object_fit": null,
            "object_position": null,
            "order": null,
            "overflow": null,
            "overflow_x": null,
            "overflow_y": null,
            "padding": null,
            "right": null,
            "top": null,
            "visibility": null,
            "width": null
          }
        },
        "5d6328de595c465d8e2960fa78a9c471": {
          "model_module": "@jupyter-widgets/controls",
          "model_name": "ProgressStyleModel",
          "model_module_version": "1.5.0",
          "state": {
            "_model_module": "@jupyter-widgets/controls",
            "_model_module_version": "1.5.0",
            "_model_name": "ProgressStyleModel",
            "_view_count": null,
            "_view_module": "@jupyter-widgets/base",
            "_view_module_version": "1.2.0",
            "_view_name": "StyleView",
            "bar_color": null,
            "description_width": ""
          }
        },
        "81ccc0a1c5ed4e799196d13c36505198": {
          "model_module": "@jupyter-widgets/controls",
          "model_name": "VBoxModel",
          "model_module_version": "1.5.0",
          "state": {
            "_dom_classes": [],
            "_model_module": "@jupyter-widgets/controls",
            "_model_module_version": "1.5.0",
            "_model_name": "VBoxModel",
            "_view_count": null,
            "_view_module": "@jupyter-widgets/controls",
            "_view_module_version": "1.5.0",
            "_view_name": "VBoxView",
            "box_style": "",
            "children": [
              "IPY_MODEL_7f9213cd498344309873fac34fb77039",
              "IPY_MODEL_74700589ce5e4d25b2ce47a616645a81"
            ],
            "layout": "IPY_MODEL_453501dd6d6b4408a31d4b3af0fd5221"
          }
        },
        "7f9213cd498344309873fac34fb77039": {
          "model_module": "@jupyter-widgets/controls",
          "model_name": "LabelModel",
          "model_module_version": "1.5.0",
          "state": {
            "_dom_classes": [],
            "_model_module": "@jupyter-widgets/controls",
            "_model_module_version": "1.5.0",
            "_model_name": "LabelModel",
            "_view_count": null,
            "_view_module": "@jupyter-widgets/controls",
            "_view_module_version": "1.5.0",
            "_view_name": "LabelView",
            "description": "",
            "description_tooltip": null,
            "layout": "IPY_MODEL_4e37b83dc383465ea749682833dc6801",
            "placeholder": "​",
            "style": "IPY_MODEL_ed3d83abbb514574aabfe1e6a5988af2",
            "value": "16.333 MB of 16.333 MB uploaded (0.000 MB deduped)\r"
          }
        },
        "74700589ce5e4d25b2ce47a616645a81": {
          "model_module": "@jupyter-widgets/controls",
          "model_name": "FloatProgressModel",
          "model_module_version": "1.5.0",
          "state": {
            "_dom_classes": [],
            "_model_module": "@jupyter-widgets/controls",
            "_model_module_version": "1.5.0",
            "_model_name": "FloatProgressModel",
            "_view_count": null,
            "_view_module": "@jupyter-widgets/controls",
            "_view_module_version": "1.5.0",
            "_view_name": "ProgressView",
            "bar_style": "",
            "description": "",
            "description_tooltip": null,
            "layout": "IPY_MODEL_8bf33a69132a4cc693b308ea259a8c83",
            "max": 1,
            "min": 0,
            "orientation": "horizontal",
            "style": "IPY_MODEL_dd6735dfca4646c7ac2185a9cdbdf405",
            "value": 1
          }
        },
        "453501dd6d6b4408a31d4b3af0fd5221": {
          "model_module": "@jupyter-widgets/base",
          "model_name": "LayoutModel",
          "model_module_version": "1.2.0",
          "state": {
            "_model_module": "@jupyter-widgets/base",
            "_model_module_version": "1.2.0",
            "_model_name": "LayoutModel",
            "_view_count": null,
            "_view_module": "@jupyter-widgets/base",
            "_view_module_version": "1.2.0",
            "_view_name": "LayoutView",
            "align_content": null,
            "align_items": null,
            "align_self": null,
            "border": null,
            "bottom": null,
            "display": null,
            "flex": null,
            "flex_flow": null,
            "grid_area": null,
            "grid_auto_columns": null,
            "grid_auto_flow": null,
            "grid_auto_rows": null,
            "grid_column": null,
            "grid_gap": null,
            "grid_row": null,
            "grid_template_areas": null,
            "grid_template_columns": null,
            "grid_template_rows": null,
            "height": null,
            "justify_content": null,
            "justify_items": null,
            "left": null,
            "margin": null,
            "max_height": null,
            "max_width": null,
            "min_height": null,
            "min_width": null,
            "object_fit": null,
            "object_position": null,
            "order": null,
            "overflow": null,
            "overflow_x": null,
            "overflow_y": null,
            "padding": null,
            "right": null,
            "top": null,
            "visibility": null,
            "width": null
          }
        },
        "4e37b83dc383465ea749682833dc6801": {
          "model_module": "@jupyter-widgets/base",
          "model_name": "LayoutModel",
          "model_module_version": "1.2.0",
          "state": {
            "_model_module": "@jupyter-widgets/base",
            "_model_module_version": "1.2.0",
            "_model_name": "LayoutModel",
            "_view_count": null,
            "_view_module": "@jupyter-widgets/base",
            "_view_module_version": "1.2.0",
            "_view_name": "LayoutView",
            "align_content": null,
            "align_items": null,
            "align_self": null,
            "border": null,
            "bottom": null,
            "display": null,
            "flex": null,
            "flex_flow": null,
            "grid_area": null,
            "grid_auto_columns": null,
            "grid_auto_flow": null,
            "grid_auto_rows": null,
            "grid_column": null,
            "grid_gap": null,
            "grid_row": null,
            "grid_template_areas": null,
            "grid_template_columns": null,
            "grid_template_rows": null,
            "height": null,
            "justify_content": null,
            "justify_items": null,
            "left": null,
            "margin": null,
            "max_height": null,
            "max_width": null,
            "min_height": null,
            "min_width": null,
            "object_fit": null,
            "object_position": null,
            "order": null,
            "overflow": null,
            "overflow_x": null,
            "overflow_y": null,
            "padding": null,
            "right": null,
            "top": null,
            "visibility": null,
            "width": null
          }
        },
        "ed3d83abbb514574aabfe1e6a5988af2": {
          "model_module": "@jupyter-widgets/controls",
          "model_name": "DescriptionStyleModel",
          "model_module_version": "1.5.0",
          "state": {
            "_model_module": "@jupyter-widgets/controls",
            "_model_module_version": "1.5.0",
            "_model_name": "DescriptionStyleModel",
            "_view_count": null,
            "_view_module": "@jupyter-widgets/base",
            "_view_module_version": "1.2.0",
            "_view_name": "StyleView",
            "description_width": ""
          }
        },
        "8bf33a69132a4cc693b308ea259a8c83": {
          "model_module": "@jupyter-widgets/base",
          "model_name": "LayoutModel",
          "model_module_version": "1.2.0",
          "state": {
            "_model_module": "@jupyter-widgets/base",
            "_model_module_version": "1.2.0",
            "_model_name": "LayoutModel",
            "_view_count": null,
            "_view_module": "@jupyter-widgets/base",
            "_view_module_version": "1.2.0",
            "_view_name": "LayoutView",
            "align_content": null,
            "align_items": null,
            "align_self": null,
            "border": null,
            "bottom": null,
            "display": null,
            "flex": null,
            "flex_flow": null,
            "grid_area": null,
            "grid_auto_columns": null,
            "grid_auto_flow": null,
            "grid_auto_rows": null,
            "grid_column": null,
            "grid_gap": null,
            "grid_row": null,
            "grid_template_areas": null,
            "grid_template_columns": null,
            "grid_template_rows": null,
            "height": null,
            "justify_content": null,
            "justify_items": null,
            "left": null,
            "margin": null,
            "max_height": null,
            "max_width": null,
            "min_height": null,
            "min_width": null,
            "object_fit": null,
            "object_position": null,
            "order": null,
            "overflow": null,
            "overflow_x": null,
            "overflow_y": null,
            "padding": null,
            "right": null,
            "top": null,
            "visibility": null,
            "width": null
          }
        },
        "dd6735dfca4646c7ac2185a9cdbdf405": {
          "model_module": "@jupyter-widgets/controls",
          "model_name": "ProgressStyleModel",
          "model_module_version": "1.5.0",
          "state": {
            "_model_module": "@jupyter-widgets/controls",
            "_model_module_version": "1.5.0",
            "_model_name": "ProgressStyleModel",
            "_view_count": null,
            "_view_module": "@jupyter-widgets/base",
            "_view_module_version": "1.2.0",
            "_view_name": "StyleView",
            "bar_color": null,
            "description_width": ""
          }
        },
        "f17b4fdee44c483c9c8a647139022e9c": {
          "model_module": "@jupyter-widgets/controls",
          "model_name": "VBoxModel",
          "model_module_version": "1.5.0",
          "state": {
            "_dom_classes": [],
            "_model_module": "@jupyter-widgets/controls",
            "_model_module_version": "1.5.0",
            "_model_name": "VBoxModel",
            "_view_count": null,
            "_view_module": "@jupyter-widgets/controls",
            "_view_module_version": "1.5.0",
            "_view_name": "VBoxView",
            "box_style": "",
            "children": [
              "IPY_MODEL_04e2a3b2a23d4aa18efaf36abc46ec81",
              "IPY_MODEL_1dd3f193648c43e598898b954521ce58"
            ],
            "layout": "IPY_MODEL_64cbdeeb9c7f4bc4bfcb9bb08ac0718b"
          }
        },
        "04e2a3b2a23d4aa18efaf36abc46ec81": {
          "model_module": "@jupyter-widgets/controls",
          "model_name": "LabelModel",
          "model_module_version": "1.5.0",
          "state": {
            "_dom_classes": [],
            "_model_module": "@jupyter-widgets/controls",
            "_model_module_version": "1.5.0",
            "_model_name": "LabelModel",
            "_view_count": null,
            "_view_module": "@jupyter-widgets/controls",
            "_view_module_version": "1.5.0",
            "_view_name": "LabelView",
            "description": "",
            "description_tooltip": null,
            "layout": "IPY_MODEL_47a10cb4aea0410a82584349952e6e54",
            "placeholder": "​",
            "style": "IPY_MODEL_efbd1bfbbe4e4edb9942b3f4cb587727",
            "value": "16.333 MB of 16.333 MB uploaded (0.000 MB deduped)\r"
          }
        },
        "1dd3f193648c43e598898b954521ce58": {
          "model_module": "@jupyter-widgets/controls",
          "model_name": "FloatProgressModel",
          "model_module_version": "1.5.0",
          "state": {
            "_dom_classes": [],
            "_model_module": "@jupyter-widgets/controls",
            "_model_module_version": "1.5.0",
            "_model_name": "FloatProgressModel",
            "_view_count": null,
            "_view_module": "@jupyter-widgets/controls",
            "_view_module_version": "1.5.0",
            "_view_name": "ProgressView",
            "bar_style": "",
            "description": "",
            "description_tooltip": null,
            "layout": "IPY_MODEL_8ba258ab171344559928b3e5246c28b7",
            "max": 1,
            "min": 0,
            "orientation": "horizontal",
            "style": "IPY_MODEL_eac083e69fd04a9ea9ff5f30572c6a73",
            "value": 1
          }
        },
        "64cbdeeb9c7f4bc4bfcb9bb08ac0718b": {
          "model_module": "@jupyter-widgets/base",
          "model_name": "LayoutModel",
          "model_module_version": "1.2.0",
          "state": {
            "_model_module": "@jupyter-widgets/base",
            "_model_module_version": "1.2.0",
            "_model_name": "LayoutModel",
            "_view_count": null,
            "_view_module": "@jupyter-widgets/base",
            "_view_module_version": "1.2.0",
            "_view_name": "LayoutView",
            "align_content": null,
            "align_items": null,
            "align_self": null,
            "border": null,
            "bottom": null,
            "display": null,
            "flex": null,
            "flex_flow": null,
            "grid_area": null,
            "grid_auto_columns": null,
            "grid_auto_flow": null,
            "grid_auto_rows": null,
            "grid_column": null,
            "grid_gap": null,
            "grid_row": null,
            "grid_template_areas": null,
            "grid_template_columns": null,
            "grid_template_rows": null,
            "height": null,
            "justify_content": null,
            "justify_items": null,
            "left": null,
            "margin": null,
            "max_height": null,
            "max_width": null,
            "min_height": null,
            "min_width": null,
            "object_fit": null,
            "object_position": null,
            "order": null,
            "overflow": null,
            "overflow_x": null,
            "overflow_y": null,
            "padding": null,
            "right": null,
            "top": null,
            "visibility": null,
            "width": null
          }
        },
        "47a10cb4aea0410a82584349952e6e54": {
          "model_module": "@jupyter-widgets/base",
          "model_name": "LayoutModel",
          "model_module_version": "1.2.0",
          "state": {
            "_model_module": "@jupyter-widgets/base",
            "_model_module_version": "1.2.0",
            "_model_name": "LayoutModel",
            "_view_count": null,
            "_view_module": "@jupyter-widgets/base",
            "_view_module_version": "1.2.0",
            "_view_name": "LayoutView",
            "align_content": null,
            "align_items": null,
            "align_self": null,
            "border": null,
            "bottom": null,
            "display": null,
            "flex": null,
            "flex_flow": null,
            "grid_area": null,
            "grid_auto_columns": null,
            "grid_auto_flow": null,
            "grid_auto_rows": null,
            "grid_column": null,
            "grid_gap": null,
            "grid_row": null,
            "grid_template_areas": null,
            "grid_template_columns": null,
            "grid_template_rows": null,
            "height": null,
            "justify_content": null,
            "justify_items": null,
            "left": null,
            "margin": null,
            "max_height": null,
            "max_width": null,
            "min_height": null,
            "min_width": null,
            "object_fit": null,
            "object_position": null,
            "order": null,
            "overflow": null,
            "overflow_x": null,
            "overflow_y": null,
            "padding": null,
            "right": null,
            "top": null,
            "visibility": null,
            "width": null
          }
        },
        "efbd1bfbbe4e4edb9942b3f4cb587727": {
          "model_module": "@jupyter-widgets/controls",
          "model_name": "DescriptionStyleModel",
          "model_module_version": "1.5.0",
          "state": {
            "_model_module": "@jupyter-widgets/controls",
            "_model_module_version": "1.5.0",
            "_model_name": "DescriptionStyleModel",
            "_view_count": null,
            "_view_module": "@jupyter-widgets/base",
            "_view_module_version": "1.2.0",
            "_view_name": "StyleView",
            "description_width": ""
          }
        },
        "8ba258ab171344559928b3e5246c28b7": {
          "model_module": "@jupyter-widgets/base",
          "model_name": "LayoutModel",
          "model_module_version": "1.2.0",
          "state": {
            "_model_module": "@jupyter-widgets/base",
            "_model_module_version": "1.2.0",
            "_model_name": "LayoutModel",
            "_view_count": null,
            "_view_module": "@jupyter-widgets/base",
            "_view_module_version": "1.2.0",
            "_view_name": "LayoutView",
            "align_content": null,
            "align_items": null,
            "align_self": null,
            "border": null,
            "bottom": null,
            "display": null,
            "flex": null,
            "flex_flow": null,
            "grid_area": null,
            "grid_auto_columns": null,
            "grid_auto_flow": null,
            "grid_auto_rows": null,
            "grid_column": null,
            "grid_gap": null,
            "grid_row": null,
            "grid_template_areas": null,
            "grid_template_columns": null,
            "grid_template_rows": null,
            "height": null,
            "justify_content": null,
            "justify_items": null,
            "left": null,
            "margin": null,
            "max_height": null,
            "max_width": null,
            "min_height": null,
            "min_width": null,
            "object_fit": null,
            "object_position": null,
            "order": null,
            "overflow": null,
            "overflow_x": null,
            "overflow_y": null,
            "padding": null,
            "right": null,
            "top": null,
            "visibility": null,
            "width": null
          }
        },
        "eac083e69fd04a9ea9ff5f30572c6a73": {
          "model_module": "@jupyter-widgets/controls",
          "model_name": "ProgressStyleModel",
          "model_module_version": "1.5.0",
          "state": {
            "_model_module": "@jupyter-widgets/controls",
            "_model_module_version": "1.5.0",
            "_model_name": "ProgressStyleModel",
            "_view_count": null,
            "_view_module": "@jupyter-widgets/base",
            "_view_module_version": "1.2.0",
            "_view_name": "StyleView",
            "bar_color": null,
            "description_width": ""
          }
        },
        "77b7736b00304e83a1e05491588d07a3": {
          "model_module": "@jupyter-widgets/controls",
          "model_name": "VBoxModel",
          "model_module_version": "1.5.0",
          "state": {
            "_dom_classes": [],
            "_model_module": "@jupyter-widgets/controls",
            "_model_module_version": "1.5.0",
            "_model_name": "VBoxModel",
            "_view_count": null,
            "_view_module": "@jupyter-widgets/controls",
            "_view_module_version": "1.5.0",
            "_view_name": "VBoxView",
            "box_style": "",
            "children": [
              "IPY_MODEL_da525cac30324d6fa502eb2a30798fe7",
              "IPY_MODEL_c1ca7ff2495d4d3d98fb22e0039376a5"
            ],
            "layout": "IPY_MODEL_bf06a24ac1f9496690acc367b82c98ed"
          }
        },
        "da525cac30324d6fa502eb2a30798fe7": {
          "model_module": "@jupyter-widgets/controls",
          "model_name": "LabelModel",
          "model_module_version": "1.5.0",
          "state": {
            "_dom_classes": [],
            "_model_module": "@jupyter-widgets/controls",
            "_model_module_version": "1.5.0",
            "_model_name": "LabelModel",
            "_view_count": null,
            "_view_module": "@jupyter-widgets/controls",
            "_view_module_version": "1.5.0",
            "_view_name": "LabelView",
            "description": "",
            "description_tooltip": null,
            "layout": "IPY_MODEL_a060952d774947dca50c898dd02e20e8",
            "placeholder": "​",
            "style": "IPY_MODEL_0509593dd8ec4ae6842ef95d96e586ba",
            "value": "16.333 MB of 16.333 MB uploaded (0.000 MB deduped)\r"
          }
        },
        "c1ca7ff2495d4d3d98fb22e0039376a5": {
          "model_module": "@jupyter-widgets/controls",
          "model_name": "FloatProgressModel",
          "model_module_version": "1.5.0",
          "state": {
            "_dom_classes": [],
            "_model_module": "@jupyter-widgets/controls",
            "_model_module_version": "1.5.0",
            "_model_name": "FloatProgressModel",
            "_view_count": null,
            "_view_module": "@jupyter-widgets/controls",
            "_view_module_version": "1.5.0",
            "_view_name": "ProgressView",
            "bar_style": "",
            "description": "",
            "description_tooltip": null,
            "layout": "IPY_MODEL_f9b740100da1474d8a0f8f1c3b221455",
            "max": 1,
            "min": 0,
            "orientation": "horizontal",
            "style": "IPY_MODEL_573652c481c44aeeb8e949f61c890207",
            "value": 1
          }
        },
        "bf06a24ac1f9496690acc367b82c98ed": {
          "model_module": "@jupyter-widgets/base",
          "model_name": "LayoutModel",
          "model_module_version": "1.2.0",
          "state": {
            "_model_module": "@jupyter-widgets/base",
            "_model_module_version": "1.2.0",
            "_model_name": "LayoutModel",
            "_view_count": null,
            "_view_module": "@jupyter-widgets/base",
            "_view_module_version": "1.2.0",
            "_view_name": "LayoutView",
            "align_content": null,
            "align_items": null,
            "align_self": null,
            "border": null,
            "bottom": null,
            "display": null,
            "flex": null,
            "flex_flow": null,
            "grid_area": null,
            "grid_auto_columns": null,
            "grid_auto_flow": null,
            "grid_auto_rows": null,
            "grid_column": null,
            "grid_gap": null,
            "grid_row": null,
            "grid_template_areas": null,
            "grid_template_columns": null,
            "grid_template_rows": null,
            "height": null,
            "justify_content": null,
            "justify_items": null,
            "left": null,
            "margin": null,
            "max_height": null,
            "max_width": null,
            "min_height": null,
            "min_width": null,
            "object_fit": null,
            "object_position": null,
            "order": null,
            "overflow": null,
            "overflow_x": null,
            "overflow_y": null,
            "padding": null,
            "right": null,
            "top": null,
            "visibility": null,
            "width": null
          }
        },
        "a060952d774947dca50c898dd02e20e8": {
          "model_module": "@jupyter-widgets/base",
          "model_name": "LayoutModel",
          "model_module_version": "1.2.0",
          "state": {
            "_model_module": "@jupyter-widgets/base",
            "_model_module_version": "1.2.0",
            "_model_name": "LayoutModel",
            "_view_count": null,
            "_view_module": "@jupyter-widgets/base",
            "_view_module_version": "1.2.0",
            "_view_name": "LayoutView",
            "align_content": null,
            "align_items": null,
            "align_self": null,
            "border": null,
            "bottom": null,
            "display": null,
            "flex": null,
            "flex_flow": null,
            "grid_area": null,
            "grid_auto_columns": null,
            "grid_auto_flow": null,
            "grid_auto_rows": null,
            "grid_column": null,
            "grid_gap": null,
            "grid_row": null,
            "grid_template_areas": null,
            "grid_template_columns": null,
            "grid_template_rows": null,
            "height": null,
            "justify_content": null,
            "justify_items": null,
            "left": null,
            "margin": null,
            "max_height": null,
            "max_width": null,
            "min_height": null,
            "min_width": null,
            "object_fit": null,
            "object_position": null,
            "order": null,
            "overflow": null,
            "overflow_x": null,
            "overflow_y": null,
            "padding": null,
            "right": null,
            "top": null,
            "visibility": null,
            "width": null
          }
        },
        "0509593dd8ec4ae6842ef95d96e586ba": {
          "model_module": "@jupyter-widgets/controls",
          "model_name": "DescriptionStyleModel",
          "model_module_version": "1.5.0",
          "state": {
            "_model_module": "@jupyter-widgets/controls",
            "_model_module_version": "1.5.0",
            "_model_name": "DescriptionStyleModel",
            "_view_count": null,
            "_view_module": "@jupyter-widgets/base",
            "_view_module_version": "1.2.0",
            "_view_name": "StyleView",
            "description_width": ""
          }
        },
        "f9b740100da1474d8a0f8f1c3b221455": {
          "model_module": "@jupyter-widgets/base",
          "model_name": "LayoutModel",
          "model_module_version": "1.2.0",
          "state": {
            "_model_module": "@jupyter-widgets/base",
            "_model_module_version": "1.2.0",
            "_model_name": "LayoutModel",
            "_view_count": null,
            "_view_module": "@jupyter-widgets/base",
            "_view_module_version": "1.2.0",
            "_view_name": "LayoutView",
            "align_content": null,
            "align_items": null,
            "align_self": null,
            "border": null,
            "bottom": null,
            "display": null,
            "flex": null,
            "flex_flow": null,
            "grid_area": null,
            "grid_auto_columns": null,
            "grid_auto_flow": null,
            "grid_auto_rows": null,
            "grid_column": null,
            "grid_gap": null,
            "grid_row": null,
            "grid_template_areas": null,
            "grid_template_columns": null,
            "grid_template_rows": null,
            "height": null,
            "justify_content": null,
            "justify_items": null,
            "left": null,
            "margin": null,
            "max_height": null,
            "max_width": null,
            "min_height": null,
            "min_width": null,
            "object_fit": null,
            "object_position": null,
            "order": null,
            "overflow": null,
            "overflow_x": null,
            "overflow_y": null,
            "padding": null,
            "right": null,
            "top": null,
            "visibility": null,
            "width": null
          }
        },
        "573652c481c44aeeb8e949f61c890207": {
          "model_module": "@jupyter-widgets/controls",
          "model_name": "ProgressStyleModel",
          "model_module_version": "1.5.0",
          "state": {
            "_model_module": "@jupyter-widgets/controls",
            "_model_module_version": "1.5.0",
            "_model_name": "ProgressStyleModel",
            "_view_count": null,
            "_view_module": "@jupyter-widgets/base",
            "_view_module_version": "1.2.0",
            "_view_name": "StyleView",
            "bar_color": null,
            "description_width": ""
          }
        },
        "fc3460412dca4affa52bbd52a27742b8": {
          "model_module": "@jupyter-widgets/controls",
          "model_name": "VBoxModel",
          "model_module_version": "1.5.0",
          "state": {
            "_dom_classes": [],
            "_model_module": "@jupyter-widgets/controls",
            "_model_module_version": "1.5.0",
            "_model_name": "VBoxModel",
            "_view_count": null,
            "_view_module": "@jupyter-widgets/controls",
            "_view_module_version": "1.5.0",
            "_view_name": "VBoxView",
            "box_style": "",
            "children": [
              "IPY_MODEL_aa76ead91a2e4abf94c15d0461eacf6f",
              "IPY_MODEL_ea9ecdd49b3f438e92f08747ddbe019d"
            ],
            "layout": "IPY_MODEL_a4289b2395d9445b918140fbf53de69e"
          }
        },
        "aa76ead91a2e4abf94c15d0461eacf6f": {
          "model_module": "@jupyter-widgets/controls",
          "model_name": "LabelModel",
          "model_module_version": "1.5.0",
          "state": {
            "_dom_classes": [],
            "_model_module": "@jupyter-widgets/controls",
            "_model_module_version": "1.5.0",
            "_model_name": "LabelModel",
            "_view_count": null,
            "_view_module": "@jupyter-widgets/controls",
            "_view_module_version": "1.5.0",
            "_view_name": "LabelView",
            "description": "",
            "description_tooltip": null,
            "layout": "IPY_MODEL_fe46d609abfe434084ea276ced766e1b",
            "placeholder": "​",
            "style": "IPY_MODEL_c6f1594766e84178995817aa3d6da1b2",
            "value": "16.331 MB of 16.331 MB uploaded (0.000 MB deduped)\r"
          }
        },
        "ea9ecdd49b3f438e92f08747ddbe019d": {
          "model_module": "@jupyter-widgets/controls",
          "model_name": "FloatProgressModel",
          "model_module_version": "1.5.0",
          "state": {
            "_dom_classes": [],
            "_model_module": "@jupyter-widgets/controls",
            "_model_module_version": "1.5.0",
            "_model_name": "FloatProgressModel",
            "_view_count": null,
            "_view_module": "@jupyter-widgets/controls",
            "_view_module_version": "1.5.0",
            "_view_name": "ProgressView",
            "bar_style": "",
            "description": "",
            "description_tooltip": null,
            "layout": "IPY_MODEL_4f2b1e1d59fb46b5b3632e7cb474d3f0",
            "max": 1,
            "min": 0,
            "orientation": "horizontal",
            "style": "IPY_MODEL_4994f66964ee43cdae1418e8adff7139",
            "value": 1
          }
        },
        "a4289b2395d9445b918140fbf53de69e": {
          "model_module": "@jupyter-widgets/base",
          "model_name": "LayoutModel",
          "model_module_version": "1.2.0",
          "state": {
            "_model_module": "@jupyter-widgets/base",
            "_model_module_version": "1.2.0",
            "_model_name": "LayoutModel",
            "_view_count": null,
            "_view_module": "@jupyter-widgets/base",
            "_view_module_version": "1.2.0",
            "_view_name": "LayoutView",
            "align_content": null,
            "align_items": null,
            "align_self": null,
            "border": null,
            "bottom": null,
            "display": null,
            "flex": null,
            "flex_flow": null,
            "grid_area": null,
            "grid_auto_columns": null,
            "grid_auto_flow": null,
            "grid_auto_rows": null,
            "grid_column": null,
            "grid_gap": null,
            "grid_row": null,
            "grid_template_areas": null,
            "grid_template_columns": null,
            "grid_template_rows": null,
            "height": null,
            "justify_content": null,
            "justify_items": null,
            "left": null,
            "margin": null,
            "max_height": null,
            "max_width": null,
            "min_height": null,
            "min_width": null,
            "object_fit": null,
            "object_position": null,
            "order": null,
            "overflow": null,
            "overflow_x": null,
            "overflow_y": null,
            "padding": null,
            "right": null,
            "top": null,
            "visibility": null,
            "width": null
          }
        },
        "fe46d609abfe434084ea276ced766e1b": {
          "model_module": "@jupyter-widgets/base",
          "model_name": "LayoutModel",
          "model_module_version": "1.2.0",
          "state": {
            "_model_module": "@jupyter-widgets/base",
            "_model_module_version": "1.2.0",
            "_model_name": "LayoutModel",
            "_view_count": null,
            "_view_module": "@jupyter-widgets/base",
            "_view_module_version": "1.2.0",
            "_view_name": "LayoutView",
            "align_content": null,
            "align_items": null,
            "align_self": null,
            "border": null,
            "bottom": null,
            "display": null,
            "flex": null,
            "flex_flow": null,
            "grid_area": null,
            "grid_auto_columns": null,
            "grid_auto_flow": null,
            "grid_auto_rows": null,
            "grid_column": null,
            "grid_gap": null,
            "grid_row": null,
            "grid_template_areas": null,
            "grid_template_columns": null,
            "grid_template_rows": null,
            "height": null,
            "justify_content": null,
            "justify_items": null,
            "left": null,
            "margin": null,
            "max_height": null,
            "max_width": null,
            "min_height": null,
            "min_width": null,
            "object_fit": null,
            "object_position": null,
            "order": null,
            "overflow": null,
            "overflow_x": null,
            "overflow_y": null,
            "padding": null,
            "right": null,
            "top": null,
            "visibility": null,
            "width": null
          }
        },
        "c6f1594766e84178995817aa3d6da1b2": {
          "model_module": "@jupyter-widgets/controls",
          "model_name": "DescriptionStyleModel",
          "model_module_version": "1.5.0",
          "state": {
            "_model_module": "@jupyter-widgets/controls",
            "_model_module_version": "1.5.0",
            "_model_name": "DescriptionStyleModel",
            "_view_count": null,
            "_view_module": "@jupyter-widgets/base",
            "_view_module_version": "1.2.0",
            "_view_name": "StyleView",
            "description_width": ""
          }
        },
        "4f2b1e1d59fb46b5b3632e7cb474d3f0": {
          "model_module": "@jupyter-widgets/base",
          "model_name": "LayoutModel",
          "model_module_version": "1.2.0",
          "state": {
            "_model_module": "@jupyter-widgets/base",
            "_model_module_version": "1.2.0",
            "_model_name": "LayoutModel",
            "_view_count": null,
            "_view_module": "@jupyter-widgets/base",
            "_view_module_version": "1.2.0",
            "_view_name": "LayoutView",
            "align_content": null,
            "align_items": null,
            "align_self": null,
            "border": null,
            "bottom": null,
            "display": null,
            "flex": null,
            "flex_flow": null,
            "grid_area": null,
            "grid_auto_columns": null,
            "grid_auto_flow": null,
            "grid_auto_rows": null,
            "grid_column": null,
            "grid_gap": null,
            "grid_row": null,
            "grid_template_areas": null,
            "grid_template_columns": null,
            "grid_template_rows": null,
            "height": null,
            "justify_content": null,
            "justify_items": null,
            "left": null,
            "margin": null,
            "max_height": null,
            "max_width": null,
            "min_height": null,
            "min_width": null,
            "object_fit": null,
            "object_position": null,
            "order": null,
            "overflow": null,
            "overflow_x": null,
            "overflow_y": null,
            "padding": null,
            "right": null,
            "top": null,
            "visibility": null,
            "width": null
          }
        },
        "4994f66964ee43cdae1418e8adff7139": {
          "model_module": "@jupyter-widgets/controls",
          "model_name": "ProgressStyleModel",
          "model_module_version": "1.5.0",
          "state": {
            "_model_module": "@jupyter-widgets/controls",
            "_model_module_version": "1.5.0",
            "_model_name": "ProgressStyleModel",
            "_view_count": null,
            "_view_module": "@jupyter-widgets/base",
            "_view_module_version": "1.2.0",
            "_view_name": "StyleView",
            "bar_color": null,
            "description_width": ""
          }
        },
        "cd114f25ca4d407c920005dc4a91f7e9": {
          "model_module": "@jupyter-widgets/controls",
          "model_name": "VBoxModel",
          "model_module_version": "1.5.0",
          "state": {
            "_dom_classes": [],
            "_model_module": "@jupyter-widgets/controls",
            "_model_module_version": "1.5.0",
            "_model_name": "VBoxModel",
            "_view_count": null,
            "_view_module": "@jupyter-widgets/controls",
            "_view_module_version": "1.5.0",
            "_view_name": "VBoxView",
            "box_style": "",
            "children": [
              "IPY_MODEL_d9b14d9c338b432b9695282f17da165e",
              "IPY_MODEL_b0268c567c1f4cdc98e6552d1fede55e"
            ],
            "layout": "IPY_MODEL_ec946391c7fd4bf99573554f4043d028"
          }
        },
        "d9b14d9c338b432b9695282f17da165e": {
          "model_module": "@jupyter-widgets/controls",
          "model_name": "LabelModel",
          "model_module_version": "1.5.0",
          "state": {
            "_dom_classes": [],
            "_model_module": "@jupyter-widgets/controls",
            "_model_module_version": "1.5.0",
            "_model_name": "LabelModel",
            "_view_count": null,
            "_view_module": "@jupyter-widgets/controls",
            "_view_module_version": "1.5.0",
            "_view_name": "LabelView",
            "description": "",
            "description_tooltip": null,
            "layout": "IPY_MODEL_5fb0324e3e3c43efb27bd41936574272",
            "placeholder": "​",
            "style": "IPY_MODEL_c2229845ce474078aa069185cc32731f",
            "value": "21.561 MB of 21.561 MB uploaded (0.000 MB deduped)\r"
          }
        },
        "b0268c567c1f4cdc98e6552d1fede55e": {
          "model_module": "@jupyter-widgets/controls",
          "model_name": "FloatProgressModel",
          "model_module_version": "1.5.0",
          "state": {
            "_dom_classes": [],
            "_model_module": "@jupyter-widgets/controls",
            "_model_module_version": "1.5.0",
            "_model_name": "FloatProgressModel",
            "_view_count": null,
            "_view_module": "@jupyter-widgets/controls",
            "_view_module_version": "1.5.0",
            "_view_name": "ProgressView",
            "bar_style": "",
            "description": "",
            "description_tooltip": null,
            "layout": "IPY_MODEL_86776921f8774f6e91140b300108cab6",
            "max": 1,
            "min": 0,
            "orientation": "horizontal",
            "style": "IPY_MODEL_745447f92fe24f1983a52e423fd1fb14",
            "value": 1
          }
        },
        "ec946391c7fd4bf99573554f4043d028": {
          "model_module": "@jupyter-widgets/base",
          "model_name": "LayoutModel",
          "model_module_version": "1.2.0",
          "state": {
            "_model_module": "@jupyter-widgets/base",
            "_model_module_version": "1.2.0",
            "_model_name": "LayoutModel",
            "_view_count": null,
            "_view_module": "@jupyter-widgets/base",
            "_view_module_version": "1.2.0",
            "_view_name": "LayoutView",
            "align_content": null,
            "align_items": null,
            "align_self": null,
            "border": null,
            "bottom": null,
            "display": null,
            "flex": null,
            "flex_flow": null,
            "grid_area": null,
            "grid_auto_columns": null,
            "grid_auto_flow": null,
            "grid_auto_rows": null,
            "grid_column": null,
            "grid_gap": null,
            "grid_row": null,
            "grid_template_areas": null,
            "grid_template_columns": null,
            "grid_template_rows": null,
            "height": null,
            "justify_content": null,
            "justify_items": null,
            "left": null,
            "margin": null,
            "max_height": null,
            "max_width": null,
            "min_height": null,
            "min_width": null,
            "object_fit": null,
            "object_position": null,
            "order": null,
            "overflow": null,
            "overflow_x": null,
            "overflow_y": null,
            "padding": null,
            "right": null,
            "top": null,
            "visibility": null,
            "width": null
          }
        },
        "5fb0324e3e3c43efb27bd41936574272": {
          "model_module": "@jupyter-widgets/base",
          "model_name": "LayoutModel",
          "model_module_version": "1.2.0",
          "state": {
            "_model_module": "@jupyter-widgets/base",
            "_model_module_version": "1.2.0",
            "_model_name": "LayoutModel",
            "_view_count": null,
            "_view_module": "@jupyter-widgets/base",
            "_view_module_version": "1.2.0",
            "_view_name": "LayoutView",
            "align_content": null,
            "align_items": null,
            "align_self": null,
            "border": null,
            "bottom": null,
            "display": null,
            "flex": null,
            "flex_flow": null,
            "grid_area": null,
            "grid_auto_columns": null,
            "grid_auto_flow": null,
            "grid_auto_rows": null,
            "grid_column": null,
            "grid_gap": null,
            "grid_row": null,
            "grid_template_areas": null,
            "grid_template_columns": null,
            "grid_template_rows": null,
            "height": null,
            "justify_content": null,
            "justify_items": null,
            "left": null,
            "margin": null,
            "max_height": null,
            "max_width": null,
            "min_height": null,
            "min_width": null,
            "object_fit": null,
            "object_position": null,
            "order": null,
            "overflow": null,
            "overflow_x": null,
            "overflow_y": null,
            "padding": null,
            "right": null,
            "top": null,
            "visibility": null,
            "width": null
          }
        },
        "c2229845ce474078aa069185cc32731f": {
          "model_module": "@jupyter-widgets/controls",
          "model_name": "DescriptionStyleModel",
          "model_module_version": "1.5.0",
          "state": {
            "_model_module": "@jupyter-widgets/controls",
            "_model_module_version": "1.5.0",
            "_model_name": "DescriptionStyleModel",
            "_view_count": null,
            "_view_module": "@jupyter-widgets/base",
            "_view_module_version": "1.2.0",
            "_view_name": "StyleView",
            "description_width": ""
          }
        },
        "86776921f8774f6e91140b300108cab6": {
          "model_module": "@jupyter-widgets/base",
          "model_name": "LayoutModel",
          "model_module_version": "1.2.0",
          "state": {
            "_model_module": "@jupyter-widgets/base",
            "_model_module_version": "1.2.0",
            "_model_name": "LayoutModel",
            "_view_count": null,
            "_view_module": "@jupyter-widgets/base",
            "_view_module_version": "1.2.0",
            "_view_name": "LayoutView",
            "align_content": null,
            "align_items": null,
            "align_self": null,
            "border": null,
            "bottom": null,
            "display": null,
            "flex": null,
            "flex_flow": null,
            "grid_area": null,
            "grid_auto_columns": null,
            "grid_auto_flow": null,
            "grid_auto_rows": null,
            "grid_column": null,
            "grid_gap": null,
            "grid_row": null,
            "grid_template_areas": null,
            "grid_template_columns": null,
            "grid_template_rows": null,
            "height": null,
            "justify_content": null,
            "justify_items": null,
            "left": null,
            "margin": null,
            "max_height": null,
            "max_width": null,
            "min_height": null,
            "min_width": null,
            "object_fit": null,
            "object_position": null,
            "order": null,
            "overflow": null,
            "overflow_x": null,
            "overflow_y": null,
            "padding": null,
            "right": null,
            "top": null,
            "visibility": null,
            "width": null
          }
        },
        "745447f92fe24f1983a52e423fd1fb14": {
          "model_module": "@jupyter-widgets/controls",
          "model_name": "ProgressStyleModel",
          "model_module_version": "1.5.0",
          "state": {
            "_model_module": "@jupyter-widgets/controls",
            "_model_module_version": "1.5.0",
            "_model_name": "ProgressStyleModel",
            "_view_count": null,
            "_view_module": "@jupyter-widgets/base",
            "_view_module_version": "1.2.0",
            "_view_name": "StyleView",
            "bar_color": null,
            "description_width": ""
          }
        },
        "ed6a0d17b3e6474da1023e0a13adc189": {
          "model_module": "@jupyter-widgets/controls",
          "model_name": "VBoxModel",
          "model_module_version": "1.5.0",
          "state": {
            "_dom_classes": [],
            "_model_module": "@jupyter-widgets/controls",
            "_model_module_version": "1.5.0",
            "_model_name": "VBoxModel",
            "_view_count": null,
            "_view_module": "@jupyter-widgets/controls",
            "_view_module_version": "1.5.0",
            "_view_name": "VBoxView",
            "box_style": "",
            "children": [
              "IPY_MODEL_221b62a9e3994a16a829a29772595c15",
              "IPY_MODEL_0d0ced7afcbf4839a2a5162857c423a5"
            ],
            "layout": "IPY_MODEL_7298173016f84670aaa6209a56b1bf43"
          }
        },
        "221b62a9e3994a16a829a29772595c15": {
          "model_module": "@jupyter-widgets/controls",
          "model_name": "LabelModel",
          "model_module_version": "1.5.0",
          "state": {
            "_dom_classes": [],
            "_model_module": "@jupyter-widgets/controls",
            "_model_module_version": "1.5.0",
            "_model_name": "LabelModel",
            "_view_count": null,
            "_view_module": "@jupyter-widgets/controls",
            "_view_module_version": "1.5.0",
            "_view_name": "LabelView",
            "description": "",
            "description_tooltip": null,
            "layout": "IPY_MODEL_3007c6e45aa54b208f07bbc8eef3c930",
            "placeholder": "​",
            "style": "IPY_MODEL_59bf480d83fb4310983f2fb6054e50e1",
            "value": "21.564 MB of 21.564 MB uploaded (0.000 MB deduped)\r"
          }
        },
        "0d0ced7afcbf4839a2a5162857c423a5": {
          "model_module": "@jupyter-widgets/controls",
          "model_name": "FloatProgressModel",
          "model_module_version": "1.5.0",
          "state": {
            "_dom_classes": [],
            "_model_module": "@jupyter-widgets/controls",
            "_model_module_version": "1.5.0",
            "_model_name": "FloatProgressModel",
            "_view_count": null,
            "_view_module": "@jupyter-widgets/controls",
            "_view_module_version": "1.5.0",
            "_view_name": "ProgressView",
            "bar_style": "",
            "description": "",
            "description_tooltip": null,
            "layout": "IPY_MODEL_67fd019ce09448dcb1c29e73a2c03737",
            "max": 1,
            "min": 0,
            "orientation": "horizontal",
            "style": "IPY_MODEL_8fc9b2be158040ea9742164202a3dca6",
            "value": 1
          }
        },
        "7298173016f84670aaa6209a56b1bf43": {
          "model_module": "@jupyter-widgets/base",
          "model_name": "LayoutModel",
          "model_module_version": "1.2.0",
          "state": {
            "_model_module": "@jupyter-widgets/base",
            "_model_module_version": "1.2.0",
            "_model_name": "LayoutModel",
            "_view_count": null,
            "_view_module": "@jupyter-widgets/base",
            "_view_module_version": "1.2.0",
            "_view_name": "LayoutView",
            "align_content": null,
            "align_items": null,
            "align_self": null,
            "border": null,
            "bottom": null,
            "display": null,
            "flex": null,
            "flex_flow": null,
            "grid_area": null,
            "grid_auto_columns": null,
            "grid_auto_flow": null,
            "grid_auto_rows": null,
            "grid_column": null,
            "grid_gap": null,
            "grid_row": null,
            "grid_template_areas": null,
            "grid_template_columns": null,
            "grid_template_rows": null,
            "height": null,
            "justify_content": null,
            "justify_items": null,
            "left": null,
            "margin": null,
            "max_height": null,
            "max_width": null,
            "min_height": null,
            "min_width": null,
            "object_fit": null,
            "object_position": null,
            "order": null,
            "overflow": null,
            "overflow_x": null,
            "overflow_y": null,
            "padding": null,
            "right": null,
            "top": null,
            "visibility": null,
            "width": null
          }
        },
        "3007c6e45aa54b208f07bbc8eef3c930": {
          "model_module": "@jupyter-widgets/base",
          "model_name": "LayoutModel",
          "model_module_version": "1.2.0",
          "state": {
            "_model_module": "@jupyter-widgets/base",
            "_model_module_version": "1.2.0",
            "_model_name": "LayoutModel",
            "_view_count": null,
            "_view_module": "@jupyter-widgets/base",
            "_view_module_version": "1.2.0",
            "_view_name": "LayoutView",
            "align_content": null,
            "align_items": null,
            "align_self": null,
            "border": null,
            "bottom": null,
            "display": null,
            "flex": null,
            "flex_flow": null,
            "grid_area": null,
            "grid_auto_columns": null,
            "grid_auto_flow": null,
            "grid_auto_rows": null,
            "grid_column": null,
            "grid_gap": null,
            "grid_row": null,
            "grid_template_areas": null,
            "grid_template_columns": null,
            "grid_template_rows": null,
            "height": null,
            "justify_content": null,
            "justify_items": null,
            "left": null,
            "margin": null,
            "max_height": null,
            "max_width": null,
            "min_height": null,
            "min_width": null,
            "object_fit": null,
            "object_position": null,
            "order": null,
            "overflow": null,
            "overflow_x": null,
            "overflow_y": null,
            "padding": null,
            "right": null,
            "top": null,
            "visibility": null,
            "width": null
          }
        },
        "59bf480d83fb4310983f2fb6054e50e1": {
          "model_module": "@jupyter-widgets/controls",
          "model_name": "DescriptionStyleModel",
          "model_module_version": "1.5.0",
          "state": {
            "_model_module": "@jupyter-widgets/controls",
            "_model_module_version": "1.5.0",
            "_model_name": "DescriptionStyleModel",
            "_view_count": null,
            "_view_module": "@jupyter-widgets/base",
            "_view_module_version": "1.2.0",
            "_view_name": "StyleView",
            "description_width": ""
          }
        },
        "67fd019ce09448dcb1c29e73a2c03737": {
          "model_module": "@jupyter-widgets/base",
          "model_name": "LayoutModel",
          "model_module_version": "1.2.0",
          "state": {
            "_model_module": "@jupyter-widgets/base",
            "_model_module_version": "1.2.0",
            "_model_name": "LayoutModel",
            "_view_count": null,
            "_view_module": "@jupyter-widgets/base",
            "_view_module_version": "1.2.0",
            "_view_name": "LayoutView",
            "align_content": null,
            "align_items": null,
            "align_self": null,
            "border": null,
            "bottom": null,
            "display": null,
            "flex": null,
            "flex_flow": null,
            "grid_area": null,
            "grid_auto_columns": null,
            "grid_auto_flow": null,
            "grid_auto_rows": null,
            "grid_column": null,
            "grid_gap": null,
            "grid_row": null,
            "grid_template_areas": null,
            "grid_template_columns": null,
            "grid_template_rows": null,
            "height": null,
            "justify_content": null,
            "justify_items": null,
            "left": null,
            "margin": null,
            "max_height": null,
            "max_width": null,
            "min_height": null,
            "min_width": null,
            "object_fit": null,
            "object_position": null,
            "order": null,
            "overflow": null,
            "overflow_x": null,
            "overflow_y": null,
            "padding": null,
            "right": null,
            "top": null,
            "visibility": null,
            "width": null
          }
        },
        "8fc9b2be158040ea9742164202a3dca6": {
          "model_module": "@jupyter-widgets/controls",
          "model_name": "ProgressStyleModel",
          "model_module_version": "1.5.0",
          "state": {
            "_model_module": "@jupyter-widgets/controls",
            "_model_module_version": "1.5.0",
            "_model_name": "ProgressStyleModel",
            "_view_count": null,
            "_view_module": "@jupyter-widgets/base",
            "_view_module_version": "1.2.0",
            "_view_name": "StyleView",
            "bar_color": null,
            "description_width": ""
          }
        },
        "77c7ac448a5a42329e6f6b126be1b6e3": {
          "model_module": "@jupyter-widgets/controls",
          "model_name": "VBoxModel",
          "model_module_version": "1.5.0",
          "state": {
            "_dom_classes": [],
            "_model_module": "@jupyter-widgets/controls",
            "_model_module_version": "1.5.0",
            "_model_name": "VBoxModel",
            "_view_count": null,
            "_view_module": "@jupyter-widgets/controls",
            "_view_module_version": "1.5.0",
            "_view_name": "VBoxView",
            "box_style": "",
            "children": [
              "IPY_MODEL_fce02637f73c4805847b92dea7b3b13f",
              "IPY_MODEL_dcef9bacb2e248db9ac7a3a4561cb9d5"
            ],
            "layout": "IPY_MODEL_2024ab90a5344c79ad0e0903cb7c649a"
          }
        },
        "fce02637f73c4805847b92dea7b3b13f": {
          "model_module": "@jupyter-widgets/controls",
          "model_name": "LabelModel",
          "model_module_version": "1.5.0",
          "state": {
            "_dom_classes": [],
            "_model_module": "@jupyter-widgets/controls",
            "_model_module_version": "1.5.0",
            "_model_name": "LabelModel",
            "_view_count": null,
            "_view_module": "@jupyter-widgets/controls",
            "_view_module_version": "1.5.0",
            "_view_name": "LabelView",
            "description": "",
            "description_tooltip": null,
            "layout": "IPY_MODEL_1a5daa3ab3df47df947ad6a45d67cbfa",
            "placeholder": "​",
            "style": "IPY_MODEL_bd75c951024542be8677fbf56d6c0bf1",
            "value": "21.561 MB of 21.561 MB uploaded (0.000 MB deduped)\r"
          }
        },
        "dcef9bacb2e248db9ac7a3a4561cb9d5": {
          "model_module": "@jupyter-widgets/controls",
          "model_name": "FloatProgressModel",
          "model_module_version": "1.5.0",
          "state": {
            "_dom_classes": [],
            "_model_module": "@jupyter-widgets/controls",
            "_model_module_version": "1.5.0",
            "_model_name": "FloatProgressModel",
            "_view_count": null,
            "_view_module": "@jupyter-widgets/controls",
            "_view_module_version": "1.5.0",
            "_view_name": "ProgressView",
            "bar_style": "",
            "description": "",
            "description_tooltip": null,
            "layout": "IPY_MODEL_aa16274b27fa40f6a2a9449ef5b60e22",
            "max": 1,
            "min": 0,
            "orientation": "horizontal",
            "style": "IPY_MODEL_0925f7f588d54988ad76929259c9011c",
            "value": 1
          }
        },
        "2024ab90a5344c79ad0e0903cb7c649a": {
          "model_module": "@jupyter-widgets/base",
          "model_name": "LayoutModel",
          "model_module_version": "1.2.0",
          "state": {
            "_model_module": "@jupyter-widgets/base",
            "_model_module_version": "1.2.0",
            "_model_name": "LayoutModel",
            "_view_count": null,
            "_view_module": "@jupyter-widgets/base",
            "_view_module_version": "1.2.0",
            "_view_name": "LayoutView",
            "align_content": null,
            "align_items": null,
            "align_self": null,
            "border": null,
            "bottom": null,
            "display": null,
            "flex": null,
            "flex_flow": null,
            "grid_area": null,
            "grid_auto_columns": null,
            "grid_auto_flow": null,
            "grid_auto_rows": null,
            "grid_column": null,
            "grid_gap": null,
            "grid_row": null,
            "grid_template_areas": null,
            "grid_template_columns": null,
            "grid_template_rows": null,
            "height": null,
            "justify_content": null,
            "justify_items": null,
            "left": null,
            "margin": null,
            "max_height": null,
            "max_width": null,
            "min_height": null,
            "min_width": null,
            "object_fit": null,
            "object_position": null,
            "order": null,
            "overflow": null,
            "overflow_x": null,
            "overflow_y": null,
            "padding": null,
            "right": null,
            "top": null,
            "visibility": null,
            "width": null
          }
        },
        "1a5daa3ab3df47df947ad6a45d67cbfa": {
          "model_module": "@jupyter-widgets/base",
          "model_name": "LayoutModel",
          "model_module_version": "1.2.0",
          "state": {
            "_model_module": "@jupyter-widgets/base",
            "_model_module_version": "1.2.0",
            "_model_name": "LayoutModel",
            "_view_count": null,
            "_view_module": "@jupyter-widgets/base",
            "_view_module_version": "1.2.0",
            "_view_name": "LayoutView",
            "align_content": null,
            "align_items": null,
            "align_self": null,
            "border": null,
            "bottom": null,
            "display": null,
            "flex": null,
            "flex_flow": null,
            "grid_area": null,
            "grid_auto_columns": null,
            "grid_auto_flow": null,
            "grid_auto_rows": null,
            "grid_column": null,
            "grid_gap": null,
            "grid_row": null,
            "grid_template_areas": null,
            "grid_template_columns": null,
            "grid_template_rows": null,
            "height": null,
            "justify_content": null,
            "justify_items": null,
            "left": null,
            "margin": null,
            "max_height": null,
            "max_width": null,
            "min_height": null,
            "min_width": null,
            "object_fit": null,
            "object_position": null,
            "order": null,
            "overflow": null,
            "overflow_x": null,
            "overflow_y": null,
            "padding": null,
            "right": null,
            "top": null,
            "visibility": null,
            "width": null
          }
        },
        "bd75c951024542be8677fbf56d6c0bf1": {
          "model_module": "@jupyter-widgets/controls",
          "model_name": "DescriptionStyleModel",
          "model_module_version": "1.5.0",
          "state": {
            "_model_module": "@jupyter-widgets/controls",
            "_model_module_version": "1.5.0",
            "_model_name": "DescriptionStyleModel",
            "_view_count": null,
            "_view_module": "@jupyter-widgets/base",
            "_view_module_version": "1.2.0",
            "_view_name": "StyleView",
            "description_width": ""
          }
        },
        "aa16274b27fa40f6a2a9449ef5b60e22": {
          "model_module": "@jupyter-widgets/base",
          "model_name": "LayoutModel",
          "model_module_version": "1.2.0",
          "state": {
            "_model_module": "@jupyter-widgets/base",
            "_model_module_version": "1.2.0",
            "_model_name": "LayoutModel",
            "_view_count": null,
            "_view_module": "@jupyter-widgets/base",
            "_view_module_version": "1.2.0",
            "_view_name": "LayoutView",
            "align_content": null,
            "align_items": null,
            "align_self": null,
            "border": null,
            "bottom": null,
            "display": null,
            "flex": null,
            "flex_flow": null,
            "grid_area": null,
            "grid_auto_columns": null,
            "grid_auto_flow": null,
            "grid_auto_rows": null,
            "grid_column": null,
            "grid_gap": null,
            "grid_row": null,
            "grid_template_areas": null,
            "grid_template_columns": null,
            "grid_template_rows": null,
            "height": null,
            "justify_content": null,
            "justify_items": null,
            "left": null,
            "margin": null,
            "max_height": null,
            "max_width": null,
            "min_height": null,
            "min_width": null,
            "object_fit": null,
            "object_position": null,
            "order": null,
            "overflow": null,
            "overflow_x": null,
            "overflow_y": null,
            "padding": null,
            "right": null,
            "top": null,
            "visibility": null,
            "width": null
          }
        },
        "0925f7f588d54988ad76929259c9011c": {
          "model_module": "@jupyter-widgets/controls",
          "model_name": "ProgressStyleModel",
          "model_module_version": "1.5.0",
          "state": {
            "_model_module": "@jupyter-widgets/controls",
            "_model_module_version": "1.5.0",
            "_model_name": "ProgressStyleModel",
            "_view_count": null,
            "_view_module": "@jupyter-widgets/base",
            "_view_module_version": "1.2.0",
            "_view_name": "StyleView",
            "bar_color": null,
            "description_width": ""
          }
        },
        "498787d0e7a646f7b7a7b82f17f9a925": {
          "model_module": "@jupyter-widgets/controls",
          "model_name": "VBoxModel",
          "model_module_version": "1.5.0",
          "state": {
            "_dom_classes": [],
            "_model_module": "@jupyter-widgets/controls",
            "_model_module_version": "1.5.0",
            "_model_name": "VBoxModel",
            "_view_count": null,
            "_view_module": "@jupyter-widgets/controls",
            "_view_module_version": "1.5.0",
            "_view_name": "VBoxView",
            "box_style": "",
            "children": [
              "IPY_MODEL_d6a66bceb0cc4118b3ea720a16414c05",
              "IPY_MODEL_22845727212f48cc90053f1c19862032"
            ],
            "layout": "IPY_MODEL_abd9b4fce12e488fac507ddcd860898a"
          }
        },
        "d6a66bceb0cc4118b3ea720a16414c05": {
          "model_module": "@jupyter-widgets/controls",
          "model_name": "LabelModel",
          "model_module_version": "1.5.0",
          "state": {
            "_dom_classes": [],
            "_model_module": "@jupyter-widgets/controls",
            "_model_module_version": "1.5.0",
            "_model_name": "LabelModel",
            "_view_count": null,
            "_view_module": "@jupyter-widgets/controls",
            "_view_module_version": "1.5.0",
            "_view_name": "LabelView",
            "description": "",
            "description_tooltip": null,
            "layout": "IPY_MODEL_56f9c47f940f414889d159e53d5fe8fc",
            "placeholder": "​",
            "style": "IPY_MODEL_3b8cf98ee51d4e938ce8e5f3625cf490",
            "value": "21.564 MB of 21.564 MB uploaded (0.000 MB deduped)\r"
          }
        },
        "22845727212f48cc90053f1c19862032": {
          "model_module": "@jupyter-widgets/controls",
          "model_name": "FloatProgressModel",
          "model_module_version": "1.5.0",
          "state": {
            "_dom_classes": [],
            "_model_module": "@jupyter-widgets/controls",
            "_model_module_version": "1.5.0",
            "_model_name": "FloatProgressModel",
            "_view_count": null,
            "_view_module": "@jupyter-widgets/controls",
            "_view_module_version": "1.5.0",
            "_view_name": "ProgressView",
            "bar_style": "",
            "description": "",
            "description_tooltip": null,
            "layout": "IPY_MODEL_ec6d8721b243476192b481ae024b7c21",
            "max": 1,
            "min": 0,
            "orientation": "horizontal",
            "style": "IPY_MODEL_5023ba6ca61b4e00b9241da487401ec8",
            "value": 1
          }
        },
        "abd9b4fce12e488fac507ddcd860898a": {
          "model_module": "@jupyter-widgets/base",
          "model_name": "LayoutModel",
          "model_module_version": "1.2.0",
          "state": {
            "_model_module": "@jupyter-widgets/base",
            "_model_module_version": "1.2.0",
            "_model_name": "LayoutModel",
            "_view_count": null,
            "_view_module": "@jupyter-widgets/base",
            "_view_module_version": "1.2.0",
            "_view_name": "LayoutView",
            "align_content": null,
            "align_items": null,
            "align_self": null,
            "border": null,
            "bottom": null,
            "display": null,
            "flex": null,
            "flex_flow": null,
            "grid_area": null,
            "grid_auto_columns": null,
            "grid_auto_flow": null,
            "grid_auto_rows": null,
            "grid_column": null,
            "grid_gap": null,
            "grid_row": null,
            "grid_template_areas": null,
            "grid_template_columns": null,
            "grid_template_rows": null,
            "height": null,
            "justify_content": null,
            "justify_items": null,
            "left": null,
            "margin": null,
            "max_height": null,
            "max_width": null,
            "min_height": null,
            "min_width": null,
            "object_fit": null,
            "object_position": null,
            "order": null,
            "overflow": null,
            "overflow_x": null,
            "overflow_y": null,
            "padding": null,
            "right": null,
            "top": null,
            "visibility": null,
            "width": null
          }
        },
        "56f9c47f940f414889d159e53d5fe8fc": {
          "model_module": "@jupyter-widgets/base",
          "model_name": "LayoutModel",
          "model_module_version": "1.2.0",
          "state": {
            "_model_module": "@jupyter-widgets/base",
            "_model_module_version": "1.2.0",
            "_model_name": "LayoutModel",
            "_view_count": null,
            "_view_module": "@jupyter-widgets/base",
            "_view_module_version": "1.2.0",
            "_view_name": "LayoutView",
            "align_content": null,
            "align_items": null,
            "align_self": null,
            "border": null,
            "bottom": null,
            "display": null,
            "flex": null,
            "flex_flow": null,
            "grid_area": null,
            "grid_auto_columns": null,
            "grid_auto_flow": null,
            "grid_auto_rows": null,
            "grid_column": null,
            "grid_gap": null,
            "grid_row": null,
            "grid_template_areas": null,
            "grid_template_columns": null,
            "grid_template_rows": null,
            "height": null,
            "justify_content": null,
            "justify_items": null,
            "left": null,
            "margin": null,
            "max_height": null,
            "max_width": null,
            "min_height": null,
            "min_width": null,
            "object_fit": null,
            "object_position": null,
            "order": null,
            "overflow": null,
            "overflow_x": null,
            "overflow_y": null,
            "padding": null,
            "right": null,
            "top": null,
            "visibility": null,
            "width": null
          }
        },
        "3b8cf98ee51d4e938ce8e5f3625cf490": {
          "model_module": "@jupyter-widgets/controls",
          "model_name": "DescriptionStyleModel",
          "model_module_version": "1.5.0",
          "state": {
            "_model_module": "@jupyter-widgets/controls",
            "_model_module_version": "1.5.0",
            "_model_name": "DescriptionStyleModel",
            "_view_count": null,
            "_view_module": "@jupyter-widgets/base",
            "_view_module_version": "1.2.0",
            "_view_name": "StyleView",
            "description_width": ""
          }
        },
        "ec6d8721b243476192b481ae024b7c21": {
          "model_module": "@jupyter-widgets/base",
          "model_name": "LayoutModel",
          "model_module_version": "1.2.0",
          "state": {
            "_model_module": "@jupyter-widgets/base",
            "_model_module_version": "1.2.0",
            "_model_name": "LayoutModel",
            "_view_count": null,
            "_view_module": "@jupyter-widgets/base",
            "_view_module_version": "1.2.0",
            "_view_name": "LayoutView",
            "align_content": null,
            "align_items": null,
            "align_self": null,
            "border": null,
            "bottom": null,
            "display": null,
            "flex": null,
            "flex_flow": null,
            "grid_area": null,
            "grid_auto_columns": null,
            "grid_auto_flow": null,
            "grid_auto_rows": null,
            "grid_column": null,
            "grid_gap": null,
            "grid_row": null,
            "grid_template_areas": null,
            "grid_template_columns": null,
            "grid_template_rows": null,
            "height": null,
            "justify_content": null,
            "justify_items": null,
            "left": null,
            "margin": null,
            "max_height": null,
            "max_width": null,
            "min_height": null,
            "min_width": null,
            "object_fit": null,
            "object_position": null,
            "order": null,
            "overflow": null,
            "overflow_x": null,
            "overflow_y": null,
            "padding": null,
            "right": null,
            "top": null,
            "visibility": null,
            "width": null
          }
        },
        "5023ba6ca61b4e00b9241da487401ec8": {
          "model_module": "@jupyter-widgets/controls",
          "model_name": "ProgressStyleModel",
          "model_module_version": "1.5.0",
          "state": {
            "_model_module": "@jupyter-widgets/controls",
            "_model_module_version": "1.5.0",
            "_model_name": "ProgressStyleModel",
            "_view_count": null,
            "_view_module": "@jupyter-widgets/base",
            "_view_module_version": "1.2.0",
            "_view_name": "StyleView",
            "bar_color": null,
            "description_width": ""
          }
        },
        "e3cc6b63dbaa4d0f9a4cfd05053387cb": {
          "model_module": "@jupyter-widgets/controls",
          "model_name": "VBoxModel",
          "model_module_version": "1.5.0",
          "state": {
            "_dom_classes": [],
            "_model_module": "@jupyter-widgets/controls",
            "_model_module_version": "1.5.0",
            "_model_name": "VBoxModel",
            "_view_count": null,
            "_view_module": "@jupyter-widgets/controls",
            "_view_module_version": "1.5.0",
            "_view_name": "VBoxView",
            "box_style": "",
            "children": [
              "IPY_MODEL_1b68fa67338c452ea6a2380cf814e06c",
              "IPY_MODEL_649a6bc61b63493fa4d260356489c413"
            ],
            "layout": "IPY_MODEL_8a617f03a08c417ea422382e4d32b315"
          }
        },
        "1b68fa67338c452ea6a2380cf814e06c": {
          "model_module": "@jupyter-widgets/controls",
          "model_name": "LabelModel",
          "model_module_version": "1.5.0",
          "state": {
            "_dom_classes": [],
            "_model_module": "@jupyter-widgets/controls",
            "_model_module_version": "1.5.0",
            "_model_name": "LabelModel",
            "_view_count": null,
            "_view_module": "@jupyter-widgets/controls",
            "_view_module_version": "1.5.0",
            "_view_name": "LabelView",
            "description": "",
            "description_tooltip": null,
            "layout": "IPY_MODEL_7f0305c3466544429f9a792cf5d29bb0",
            "placeholder": "​",
            "style": "IPY_MODEL_177263f49a32406e9dafa830c6ffa07f",
            "value": "21.563 MB of 21.563 MB uploaded (0.000 MB deduped)\r"
          }
        },
        "649a6bc61b63493fa4d260356489c413": {
          "model_module": "@jupyter-widgets/controls",
          "model_name": "FloatProgressModel",
          "model_module_version": "1.5.0",
          "state": {
            "_dom_classes": [],
            "_model_module": "@jupyter-widgets/controls",
            "_model_module_version": "1.5.0",
            "_model_name": "FloatProgressModel",
            "_view_count": null,
            "_view_module": "@jupyter-widgets/controls",
            "_view_module_version": "1.5.0",
            "_view_name": "ProgressView",
            "bar_style": "",
            "description": "",
            "description_tooltip": null,
            "layout": "IPY_MODEL_7ec5e44be66f404aaf9ea688e8ece902",
            "max": 1,
            "min": 0,
            "orientation": "horizontal",
            "style": "IPY_MODEL_5ca8fa1d55b4434ca4a99e1bc141b95c",
            "value": 1
          }
        },
        "8a617f03a08c417ea422382e4d32b315": {
          "model_module": "@jupyter-widgets/base",
          "model_name": "LayoutModel",
          "model_module_version": "1.2.0",
          "state": {
            "_model_module": "@jupyter-widgets/base",
            "_model_module_version": "1.2.0",
            "_model_name": "LayoutModel",
            "_view_count": null,
            "_view_module": "@jupyter-widgets/base",
            "_view_module_version": "1.2.0",
            "_view_name": "LayoutView",
            "align_content": null,
            "align_items": null,
            "align_self": null,
            "border": null,
            "bottom": null,
            "display": null,
            "flex": null,
            "flex_flow": null,
            "grid_area": null,
            "grid_auto_columns": null,
            "grid_auto_flow": null,
            "grid_auto_rows": null,
            "grid_column": null,
            "grid_gap": null,
            "grid_row": null,
            "grid_template_areas": null,
            "grid_template_columns": null,
            "grid_template_rows": null,
            "height": null,
            "justify_content": null,
            "justify_items": null,
            "left": null,
            "margin": null,
            "max_height": null,
            "max_width": null,
            "min_height": null,
            "min_width": null,
            "object_fit": null,
            "object_position": null,
            "order": null,
            "overflow": null,
            "overflow_x": null,
            "overflow_y": null,
            "padding": null,
            "right": null,
            "top": null,
            "visibility": null,
            "width": null
          }
        },
        "7f0305c3466544429f9a792cf5d29bb0": {
          "model_module": "@jupyter-widgets/base",
          "model_name": "LayoutModel",
          "model_module_version": "1.2.0",
          "state": {
            "_model_module": "@jupyter-widgets/base",
            "_model_module_version": "1.2.0",
            "_model_name": "LayoutModel",
            "_view_count": null,
            "_view_module": "@jupyter-widgets/base",
            "_view_module_version": "1.2.0",
            "_view_name": "LayoutView",
            "align_content": null,
            "align_items": null,
            "align_self": null,
            "border": null,
            "bottom": null,
            "display": null,
            "flex": null,
            "flex_flow": null,
            "grid_area": null,
            "grid_auto_columns": null,
            "grid_auto_flow": null,
            "grid_auto_rows": null,
            "grid_column": null,
            "grid_gap": null,
            "grid_row": null,
            "grid_template_areas": null,
            "grid_template_columns": null,
            "grid_template_rows": null,
            "height": null,
            "justify_content": null,
            "justify_items": null,
            "left": null,
            "margin": null,
            "max_height": null,
            "max_width": null,
            "min_height": null,
            "min_width": null,
            "object_fit": null,
            "object_position": null,
            "order": null,
            "overflow": null,
            "overflow_x": null,
            "overflow_y": null,
            "padding": null,
            "right": null,
            "top": null,
            "visibility": null,
            "width": null
          }
        },
        "177263f49a32406e9dafa830c6ffa07f": {
          "model_module": "@jupyter-widgets/controls",
          "model_name": "DescriptionStyleModel",
          "model_module_version": "1.5.0",
          "state": {
            "_model_module": "@jupyter-widgets/controls",
            "_model_module_version": "1.5.0",
            "_model_name": "DescriptionStyleModel",
            "_view_count": null,
            "_view_module": "@jupyter-widgets/base",
            "_view_module_version": "1.2.0",
            "_view_name": "StyleView",
            "description_width": ""
          }
        },
        "7ec5e44be66f404aaf9ea688e8ece902": {
          "model_module": "@jupyter-widgets/base",
          "model_name": "LayoutModel",
          "model_module_version": "1.2.0",
          "state": {
            "_model_module": "@jupyter-widgets/base",
            "_model_module_version": "1.2.0",
            "_model_name": "LayoutModel",
            "_view_count": null,
            "_view_module": "@jupyter-widgets/base",
            "_view_module_version": "1.2.0",
            "_view_name": "LayoutView",
            "align_content": null,
            "align_items": null,
            "align_self": null,
            "border": null,
            "bottom": null,
            "display": null,
            "flex": null,
            "flex_flow": null,
            "grid_area": null,
            "grid_auto_columns": null,
            "grid_auto_flow": null,
            "grid_auto_rows": null,
            "grid_column": null,
            "grid_gap": null,
            "grid_row": null,
            "grid_template_areas": null,
            "grid_template_columns": null,
            "grid_template_rows": null,
            "height": null,
            "justify_content": null,
            "justify_items": null,
            "left": null,
            "margin": null,
            "max_height": null,
            "max_width": null,
            "min_height": null,
            "min_width": null,
            "object_fit": null,
            "object_position": null,
            "order": null,
            "overflow": null,
            "overflow_x": null,
            "overflow_y": null,
            "padding": null,
            "right": null,
            "top": null,
            "visibility": null,
            "width": null
          }
        },
        "5ca8fa1d55b4434ca4a99e1bc141b95c": {
          "model_module": "@jupyter-widgets/controls",
          "model_name": "ProgressStyleModel",
          "model_module_version": "1.5.0",
          "state": {
            "_model_module": "@jupyter-widgets/controls",
            "_model_module_version": "1.5.0",
            "_model_name": "ProgressStyleModel",
            "_view_count": null,
            "_view_module": "@jupyter-widgets/base",
            "_view_module_version": "1.2.0",
            "_view_name": "StyleView",
            "bar_color": null,
            "description_width": ""
          }
        }
      }
    }
  },
  "cells": [
    {
      "cell_type": "code",
      "execution_count": null,
      "metadata": {
        "id": "3gArFd95wwaq"
      },
      "outputs": [],
      "source": [
        "!pip install wandb\n",
        "!wandb login "
      ]
    },
    {
      "cell_type": "code",
      "source": [
        "LEARNING_RATES = [0.005, 0.003, 0.001, 0.007] # best = 0.003\n",
        "# best batch size = 128 \n",
        "# works better with less encoder layers, more encoder filters if z_dim is kept constant\n",
        "# batch normalization always makes a big difference\n",
        "# leaky_relu > tanh ~~ relu"
      ],
      "metadata": {
        "id": "jacJyNlNYLZh"
      },
      "execution_count": null,
      "outputs": []
    },
    {
      "cell_type": "markdown",
      "source": [
        "## Prelim stuff"
      ],
      "metadata": {
        "id": "S-5mzSdB1407"
      }
    },
    {
      "cell_type": "code",
      "source": [
        "from tensorflow import keras\n",
        "from tensorflow.keras.layers import Input, Conv2D, MaxPooling2D, Dropout, UpSampling2D, Conv2DTranspose, Dense, Flatten, Reshape, BatchNormalization, Lambda, Add\n",
        "from tensorflow.keras.models import Model\n",
        "from tensorflow.keras.optimizers import Adam\n",
        "from tensorflow.keras.callbacks import EarlyStopping\n",
        "import tensorflow.keras.backend as K\n",
        "from PIL import Image, ImageOps\n",
        "from skimage.metrics import structural_similarity as ssim\n",
        "\n",
        "import numpy as np\n",
        "import tensorflow as tf\n",
        "import matplotlib.pyplot as plt\n",
        "\n",
        "import os\n",
        "\n",
        "from tensorflow.keras.datasets import fashion_mnist, cifar10"
      ],
      "metadata": {
        "id": "r4SCYDWE1hYM"
      },
      "execution_count": null,
      "outputs": []
    },
    {
      "cell_type": "code",
      "source": [
        "import wandb\n",
        "from wandb.keras import WandbCallback"
      ],
      "metadata": {
        "id": "3PegD-DIlCdJ"
      },
      "execution_count": null,
      "outputs": []
    },
    {
      "cell_type": "code",
      "source": [
        "input_sizes_dict = {\n",
        "    'm': 28,\n",
        "    'c': 32,\n",
        "}\n",
        "channels_dict = {\n",
        "    'm': 1,\n",
        "    'c': 3,\n",
        "}"
      ],
      "metadata": {
        "id": "_bv2v61t1hV_"
      },
      "execution_count": null,
      "outputs": []
    },
    {
      "cell_type": "code",
      "source": [
        "def fit_model_and_log_metrics(run_name, run_notes, model, epochs, batch_size):\n",
        "    run = wandb.init(project=\"autoencoders_RQ_comparison\", entity=\"csc2231-yash-siphelele\", name=run_name, notes=run_notes)\n",
        "    wandb_callback = WandbCallback(\n",
        "                monitor=\"val_loss\", verbose=0, mode=\"auto\", save_weights_only=(False),\n",
        "                log_weights=(False), log_gradients=(False), save_model=(True),\n",
        "                training_data=None, validation_data=None, labels=[], predictions=36,\n",
        "                generator=None, input_type=None, output_type=None, log_evaluation=(False),\n",
        "                validation_steps=None, class_colors=None, log_batch_frequency=None,\n",
        "                log_best_prefix=\"best_\", save_graph=(False), validation_indexes=None,\n",
        "                validation_row_processor=None, prediction_row_processor=None,\n",
        "                infer_missing_processors=(False), log_evaluation_frequency=0)   \n",
        "    early_stopping_callback = EarlyStopping(monitor='val_loss', min_delta=0, patience=10, verbose=5, mode='auto')\n",
        "    history = model.fit(x_train, x_train, epochs = epochs, batch_size = batch_size, validation_data = (x_test, x_test), callbacks=[wandb_callback, early_stopping_callback]) \n",
        "    decoded_imgs = model.predict(x_test)\n",
        "    ssim_scores = []\n",
        "    for i in range(len(x_test)):\n",
        "        if CURRENT_DATASET_TYPE == 'c':\n",
        "            ssim_value = ssim(x_test[i].reshape(input_sizes_dict[CURRENT_DATASET_TYPE], input_sizes_dict[CURRENT_DATASET_TYPE], channels_dict[CURRENT_DATASET_TYPE]), \n",
        "                                            decoded_imgs[i].reshape(input_sizes_dict[CURRENT_DATASET_TYPE], input_sizes_dict[CURRENT_DATASET_TYPE], channels_dict[CURRENT_DATASET_TYPE]),\n",
        "                              multichannel=True)\n",
        "        else:\n",
        "            ssim_value = ssim(x_test[i].reshape(input_sizes_dict[CURRENT_DATASET_TYPE], input_sizes_dict[CURRENT_DATASET_TYPE]), \n",
        "                                            decoded_imgs[i].reshape(input_sizes_dict[CURRENT_DATASET_TYPE], input_sizes_dict[CURRENT_DATASET_TYPE]))\n",
        "        ssim_scores.append(ssim_value)\n",
        "\n",
        "    avg_ssim_score_x_test = np.mean(ssim_scores)\n",
        "    wandb.log({\"avg_ssim_score_x_test\": avg_ssim_score_x_test})\n",
        "    print(\"Avg SSIM over X_test:\", avg_ssim_score_x_test)\n",
        "    # model.save(os.path.join(wandb.run.dir, \"model.h5\"))\n",
        "    run.finish()"
      ],
      "metadata": {
        "id": "_O1NCVgI1hTN"
      },
      "execution_count": null,
      "outputs": []
    },
    {
      "cell_type": "code",
      "source": [
        "# (x_train, y_train), (x_test, y_test) = fashion_mnist.load_data()\n",
        "# x_train = x_train.astype('float32') / 255\n",
        "# x_test = x_test.astype('float32') / 255\n",
        "# x_train.shape, x_test.shape, y_train.shape, y_test.shape "
      ],
      "metadata": {
        "id": "Sx5XxAmd1r1U"
      },
      "execution_count": null,
      "outputs": []
    },
    {
      "cell_type": "code",
      "source": [
        "(x_train, y_train), (x_test, y_test) = cifar10.load_data()\n",
        "x_train = x_train.astype('float32') / 255\n",
        "x_test = x_test.astype('float32') / 255\n",
        "x_train.shape, x_test.shape, y_train.shape, y_test.shape "
      ],
      "metadata": {
        "colab": {
          "base_uri": "https://localhost:8080/"
        },
        "id": "Y84gfOPc1ry1",
        "outputId": "53c05fee-801e-4804-bc9e-85b7f1275df8"
      },
      "execution_count": null,
      "outputs": [
        {
          "output_type": "stream",
          "name": "stdout",
          "text": [
            "Downloading data from https://www.cs.toronto.edu/~kriz/cifar-10-python.tar.gz\n",
            "170500096/170498071 [==============================] - 3s 0us/step\n",
            "170508288/170498071 [==============================] - 3s 0us/step\n"
          ]
        },
        {
          "output_type": "execute_result",
          "data": {
            "text/plain": [
              "((50000, 32, 32, 3), (10000, 32, 32, 3), (50000, 1), (10000, 1))"
            ]
          },
          "metadata": {},
          "execution_count": 8
        }
      ]
    },
    {
      "cell_type": "code",
      "source": [
        "Z_DIM = [20, 100, 300, 5000]  # Dimension of the latent vector (z), model is trained using different values of Z_DIM"
      ],
      "metadata": {
        "id": "SfxjENeW1rv7"
      },
      "execution_count": null,
      "outputs": []
    },
    {
      "cell_type": "code",
      "source": [
        "CURRENT_DATASET_TYPE = 'c'"
      ],
      "metadata": {
        "id": "hg_XgdJT1rs8"
      },
      "execution_count": null,
      "outputs": []
    },
    {
      "cell_type": "markdown",
      "source": [
        "## Experiments"
      ],
      "metadata": {
        "id": "dLISi0XR18fI"
      }
    },
    {
      "cell_type": "markdown",
      "source": [
        "### Exp 1.0"
      ],
      "metadata": {
        "id": "za8XPdbJyo-b"
      }
    },
    {
      "cell_type": "code",
      "source": [
        "'''\n",
        "Model vae_1.0\n",
        "'''\n",
        "\n",
        "latent_dim = Z_DIM[2]  # Number of latent dimension parameters\n",
        "\n",
        "input_img = Input(shape=(32, 32, 3))\n",
        "\n",
        "x = Conv2D(32, (3, 3), activation='relu', padding='same', strides=2)(input_img)\n",
        "x = BatchNormalization()(x)\n",
        "\n",
        "x = Conv2D(16, (3, 3), activation='relu', padding='same', strides=2)(x)\n",
        "x = BatchNormalization()(x)\n",
        "\n",
        "x = Conv2D(4, (3, 3), activation='relu', padding='same', strides=2)(x)\n",
        "x = BatchNormalization()(x)\n",
        "\n",
        "shape_before_flattening = K.int_shape(x)\n",
        "# print(shape_before_flattening)\n",
        "x = Flatten()(x)\n",
        "\n",
        "z_mu = Dense(latent_dim)(x)\n",
        "z_log_sigma = Dense(latent_dim, kernel_initializer='zeros',bias_initializer='zeros')(x)\n",
        "\n",
        "\n",
        "# sampling function\n",
        "def sampling(args):\n",
        "    z_mu, z_log_sigma = args\n",
        "    epsilon = K.random_normal(shape=(K.shape(z_mu)[0], latent_dim),\n",
        "                              mean=0., stddev=1.)\n",
        "    return z_mu + K.exp(z_log_sigma) * epsilon\n",
        "\n",
        "# sample vector from the latent distribution\n",
        "z = Lambda(sampling)([z_mu, z_log_sigma])\n",
        "\n",
        "encoder = Model(input_img,z)\n",
        "\n",
        "# decoder takes the latent distribution sample as input\n",
        "decoder_input = Input(K.int_shape(z)[1:])\n",
        "x = Dense(4096, activation='relu', name=\"intermediate_decoder\", input_shape=(latent_dim,))(decoder_input)\n",
        "x = Reshape((8,8,64))(x)\n",
        "\n",
        "x = Conv2DTranspose(32, (3, 3),strides= 2, padding='same')(x)\n",
        "x = BatchNormalization()(x)\n",
        "\n",
        "# x = Conv2DTranspose(16, (3, 3),strides= 2, padding='same')(x)\n",
        "# x = BatchNormalization()(x)\n",
        "\n",
        "# x = Conv2DTranspose(8, (3, 3),strides= 2, padding='same')(x)\n",
        "# x = BatchNormalization()(x)\n",
        "\n",
        "x = Conv2DTranspose(3, (3, 3),strides= 2, padding='same', activation='sigmoid')(x)\n",
        "\n",
        "\n",
        "# decoder model statement\n",
        "decoder = Model(decoder_input, x)\n",
        "\n",
        "# apply the decoder to the sample from the latent distribution\n",
        "pred = decoder(z)\n",
        "\n",
        "\n",
        "def vae_loss(x, pred):\n",
        "    x = K.flatten(x)\n",
        "    pred = K.flatten(pred)\n",
        "    # Reconstruction loss\n",
        "    #reconst_loss = 100 * binary_crossentropy(x, pred)\n",
        "    reconst_loss = 1000*K.mean(K.square(x - pred))\n",
        "    \n",
        "    # KL divergence\n",
        "    kl_loss = -0.5 * K.mean(1 + z_log_sigma - K.square(z_mu) - K.exp(z_log_sigma), axis=-1)\n",
        "    \n",
        "    return (reconst_loss + kl_loss)\n",
        "\n",
        "\n",
        "# VAE model statement\n",
        "vae = Model(input_img, pred)\n",
        "vae.add_loss(vae_loss(input_img,pred))\n",
        "optimizer = Adam(learning_rate=0.0005)\n",
        "vae.compile(optimizer=optimizer, loss=None)\n",
        "\n",
        "vae.summary()\n",
        "\n",
        "\n",
        "# fit and track the model \n",
        "fit_model_and_log_metrics(\"Model vae_1.0_c\", \"With maxpooling, convtranspose, dense, and flatten\", vae, 50, 256)"
      ],
      "metadata": {
        "id": "5foIpKW21rqL",
        "colab": {
          "base_uri": "https://localhost:8080/",
          "height": 1000,
          "referenced_widgets": [
            "ee9c54f131fb473686b51bf14dd6a01b",
            "a93222c62a03495a9dff263d547f97aa",
            "f32115b8b93c4902aa2746006325fd70",
            "a0f6a04078fb435e96b1a7ef09fce9a2",
            "81d8eee4da6c48c6b7bc98bc67d4a4f9",
            "ee9f0b56f13448bb96cc41993753d95d",
            "317fe9c26e3c41ddb106c0f6648148e3",
            "5a48c2cd868243fa80e163bb60018160",
            "a9b4abee0f1b4053b096a82313aeda26",
            "0364d7f8b5414ced9b6556d73a638861",
            "a0c2c7491c6a4c4d81fec51f7d0d255f",
            "aef100cef4b24f88b207bb95cc5bc8b0",
            "bfc3e2d48e4a4f41b500264ac4c2a4da",
            "de4690d968f242d2b94f38e76491377d",
            "c8a3d32b15ed4e0090a753a07678272e",
            "adcef64eb3fe4bc38e9d554c8497d005"
          ]
        },
        "outputId": "40b7bf93-7772-4f89-9717-e97c3869c61d"
      },
      "execution_count": null,
      "outputs": [
        {
          "output_type": "stream",
          "name": "stdout",
          "text": [
            "Model: \"model_11\"\n",
            "__________________________________________________________________________________________________\n",
            " Layer (type)                   Output Shape         Param #     Connected to                     \n",
            "==================================================================================================\n",
            " input_7 (InputLayer)           [(None, 32, 32, 3)]  0           []                               \n",
            "                                                                                                  \n",
            " conv2d_9 (Conv2D)              (None, 16, 16, 32)   896         ['input_7[0][0]']                \n",
            "                                                                                                  \n",
            " batch_normalization_12 (BatchN  (None, 16, 16, 32)  128         ['conv2d_9[0][0]']               \n",
            " ormalization)                                                                                    \n",
            "                                                                                                  \n",
            " conv2d_10 (Conv2D)             (None, 8, 8, 16)     4624        ['batch_normalization_12[0][0]'] \n",
            "                                                                                                  \n",
            " batch_normalization_13 (BatchN  (None, 8, 8, 16)    64          ['conv2d_10[0][0]']              \n",
            " ormalization)                                                                                    \n",
            "                                                                                                  \n",
            " conv2d_11 (Conv2D)             (None, 4, 4, 4)      580         ['batch_normalization_13[0][0]'] \n",
            "                                                                                                  \n",
            " batch_normalization_14 (BatchN  (None, 4, 4, 4)     16          ['conv2d_11[0][0]']              \n",
            " ormalization)                                                                                    \n",
            "                                                                                                  \n",
            " flatten_3 (Flatten)            (None, 64)           0           ['batch_normalization_14[0][0]'] \n",
            "                                                                                                  \n",
            " dense_6 (Dense)                (None, 300)          19500       ['flatten_3[0][0]']              \n",
            "                                                                                                  \n",
            " dense_7 (Dense)                (None, 300)          19500       ['flatten_3[0][0]']              \n",
            "                                                                                                  \n",
            " lambda_3 (Lambda)              (None, 300)          0           ['dense_6[0][0]',                \n",
            "                                                                  'dense_7[0][0]']                \n",
            "                                                                                                  \n",
            " model_10 (Functional)          (None, 32, 32, 3)    1252355     ['lambda_3[0][0]']               \n",
            "                                                                                                  \n",
            " tf.reshape_6 (TFOpLambda)      (None,)              0           ['input_7[0][0]']                \n",
            "                                                                                                  \n",
            " tf.reshape_7 (TFOpLambda)      (None,)              0           ['model_10[0][0]']               \n",
            "                                                                                                  \n",
            " tf.__operators__.add_6 (TFOpLa  (None, 300)         0           ['dense_7[0][0]']                \n",
            " mbda)                                                                                            \n",
            "                                                                                                  \n",
            " tf.math.square_7 (TFOpLambda)  (None, 300)          0           ['dense_6[0][0]']                \n",
            "                                                                                                  \n",
            " tf.math.subtract_9 (TFOpLambda  (None,)             0           ['tf.reshape_6[0][0]',           \n",
            " )                                                                'tf.reshape_7[0][0]']           \n",
            "                                                                                                  \n",
            " tf.math.subtract_10 (TFOpLambd  (None, 300)         0           ['tf.__operators__.add_6[0][0]', \n",
            " a)                                                               'tf.math.square_7[0][0]']       \n",
            "                                                                                                  \n",
            " tf.math.exp_3 (TFOpLambda)     (None, 300)          0           ['dense_7[0][0]']                \n",
            "                                                                                                  \n",
            " tf.math.square_6 (TFOpLambda)  (None,)              0           ['tf.math.subtract_9[0][0]']     \n",
            "                                                                                                  \n",
            " tf.math.subtract_11 (TFOpLambd  (None, 300)         0           ['tf.math.subtract_10[0][0]',    \n",
            " a)                                                               'tf.math.exp_3[0][0]']          \n",
            "                                                                                                  \n",
            " tf.math.reduce_mean_6 (TFOpLam  ()                  0           ['tf.math.square_6[0][0]']       \n",
            " bda)                                                                                             \n",
            "                                                                                                  \n",
            " tf.math.reduce_mean_7 (TFOpLam  (None,)             0           ['tf.math.subtract_11[0][0]']    \n",
            " bda)                                                                                             \n",
            "                                                                                                  \n",
            " tf.math.multiply_6 (TFOpLambda  ()                  0           ['tf.math.reduce_mean_6[0][0]']  \n",
            " )                                                                                                \n",
            "                                                                                                  \n",
            " tf.math.multiply_7 (TFOpLambda  (None,)             0           ['tf.math.reduce_mean_7[0][0]']  \n",
            " )                                                                                                \n",
            "                                                                                                  \n",
            " tf.__operators__.add_7 (TFOpLa  (None,)             0           ['tf.math.multiply_6[0][0]',     \n",
            " mbda)                                                            'tf.math.multiply_7[0][0]']     \n",
            "                                                                                                  \n",
            " add_loss_3 (AddLoss)           (None,)              0           ['tf.__operators__.add_7[0][0]'] \n",
            "                                                                                                  \n",
            "==================================================================================================\n",
            "Total params: 1,297,663\n",
            "Trainable params: 1,297,495\n",
            "Non-trainable params: 168\n",
            "__________________________________________________________________________________________________\n"
          ]
        },
        {
          "output_type": "display_data",
          "data": {
            "text/plain": [
              "<IPython.core.display.HTML object>"
            ],
            "text/html": [
              "Finishing last run (ID:33z299vf) before initializing another..."
            ]
          },
          "metadata": {}
        },
        {
          "output_type": "stream",
          "name": "stdout",
          "text": [
            "\n"
          ]
        },
        {
          "output_type": "display_data",
          "data": {
            "text/plain": [
              "<IPython.core.display.HTML object>"
            ],
            "text/html": [
              "Waiting for W&B process to finish... <strong style=\"color:green\">(success).</strong>"
            ]
          },
          "metadata": {}
        },
        {
          "output_type": "display_data",
          "data": {
            "text/plain": [
              "VBox(children=(Label(value='14.980 MB of 14.980 MB uploaded (0.000 MB deduped)\\r'), FloatProgress(value=1.0, m…"
            ],
            "application/vnd.jupyter.widget-view+json": {
              "version_major": 2,
              "version_minor": 0,
              "model_id": "ee9c54f131fb473686b51bf14dd6a01b"
            }
          },
          "metadata": {}
        },
        {
          "output_type": "display_data",
          "data": {
            "text/plain": [
              "<IPython.core.display.HTML object>"
            ],
            "text/html": [
              "<style>\n",
              "    table.wandb td:nth-child(1) { padding: 0 10px; text-align: right }\n",
              "    .wandb-row { display: flex; flex-direction: row; flex-wrap: wrap; width: 100% }\n",
              "    .wandb-col { display: flex; flex-direction: column; flex-basis: 100%; flex: 1; padding: 10px; }\n",
              "    </style>\n",
              "<div class=\"wandb-row\"><div class=\"wandb-col\"><h3>Run history:</h3><br/><table class=\"wandb\"><tr><td>epoch</td><td>▁▂▃▅▆▇█</td></tr><tr><td>loss</td><td>█▃▂▁▁▁▁</td></tr><tr><td>val_loss</td><td>█▅▂▂▁▁▁</td></tr></table><br/></div><div class=\"wandb-col\"><h3>Run summary:</h3><br/><table class=\"wandb\"><tr><td>best_epoch</td><td>6</td></tr><tr><td>best_val_loss</td><td>11.25468</td></tr><tr><td>epoch</td><td>6</td></tr><tr><td>loss</td><td>10.68629</td></tr><tr><td>val_loss</td><td>11.25468</td></tr></table><br/></div></div>"
            ]
          },
          "metadata": {}
        },
        {
          "output_type": "display_data",
          "data": {
            "text/plain": [
              "<IPython.core.display.HTML object>"
            ],
            "text/html": [
              "Synced <strong style=\"color:#cdcd00\">Model vae_1.0_c</strong>: <a href=\"https://wandb.ai/csc2231-yash-siphelele/autoencoders_RQ_comparison/runs/33z299vf\" target=\"_blank\">https://wandb.ai/csc2231-yash-siphelele/autoencoders_RQ_comparison/runs/33z299vf</a><br/>Synced 5 W&B file(s), 0 media file(s), 0 artifact file(s) and 1 other file(s)"
            ]
          },
          "metadata": {}
        },
        {
          "output_type": "display_data",
          "data": {
            "text/plain": [
              "<IPython.core.display.HTML object>"
            ],
            "text/html": [
              "Find logs at: <code>./wandb/run-20220331_023530-33z299vf/logs</code>"
            ]
          },
          "metadata": {}
        },
        {
          "output_type": "display_data",
          "data": {
            "text/plain": [
              "<IPython.core.display.HTML object>"
            ],
            "text/html": [
              "Successfully finished last run (ID:33z299vf). Initializing new run:<br/>"
            ]
          },
          "metadata": {}
        },
        {
          "output_type": "display_data",
          "data": {
            "text/plain": [
              "<IPython.core.display.HTML object>"
            ],
            "text/html": [
              "Tracking run with wandb version 0.12.11"
            ]
          },
          "metadata": {}
        },
        {
          "output_type": "display_data",
          "data": {
            "text/plain": [
              "<IPython.core.display.HTML object>"
            ],
            "text/html": [
              "Run data is saved locally in <code>/content/wandb/run-20220331_023634-39tgrsz6</code>"
            ]
          },
          "metadata": {}
        },
        {
          "output_type": "display_data",
          "data": {
            "text/plain": [
              "<IPython.core.display.HTML object>"
            ],
            "text/html": [
              "Syncing run <strong><a href=\"https://wandb.ai/csc2231-yash-siphelele/autoencoders_RQ_comparison/runs/39tgrsz6\" target=\"_blank\">Model vae_1.0_c</a></strong> to <a href=\"https://wandb.ai/csc2231-yash-siphelele/autoencoders_RQ_comparison\" target=\"_blank\">Weights & Biases</a> (<a href=\"https://wandb.me/run\" target=\"_blank\">docs</a>)<br/>"
            ]
          },
          "metadata": {}
        },
        {
          "output_type": "stream",
          "name": "stdout",
          "text": [
            "Epoch 1/50\n",
            "196/196 [==============================] - 7s 29ms/step - loss: 28.6772 - val_loss: 36.3252 - _timestamp: 1648694211.0000 - _runtime: 13.0000\n",
            "Epoch 2/50\n",
            "196/196 [==============================] - 5s 24ms/step - loss: 14.7436 - val_loss: 21.9665 - _timestamp: 1648694216.0000 - _runtime: 18.0000\n",
            "Epoch 3/50\n",
            "196/196 [==============================] - 5s 24ms/step - loss: 12.1907 - val_loss: 15.7596 - _timestamp: 1648694221.0000 - _runtime: 23.0000\n",
            "Epoch 4/50\n",
            "196/196 [==============================] - 5s 25ms/step - loss: 11.2775 - val_loss: 12.5467 - _timestamp: 1648694226.0000 - _runtime: 28.0000\n",
            "Epoch 5/50\n",
            "196/196 [==============================] - 5s 24ms/step - loss: 10.9009 - val_loss: 11.2220 - _timestamp: 1648694230.0000 - _runtime: 32.0000\n",
            "Epoch 6/50\n",
            "196/196 [==============================] - 5s 25ms/step - loss: 10.6780 - val_loss: 10.9920 - _timestamp: 1648694235.0000 - _runtime: 37.0000\n",
            "Epoch 7/50\n",
            "196/196 [==============================] - 5s 24ms/step - loss: 10.5318 - val_loss: 10.8327 - _timestamp: 1648694240.0000 - _runtime: 42.0000\n",
            "Epoch 8/50\n",
            "196/196 [==============================] - 5s 25ms/step - loss: 10.4025 - val_loss: 10.4816 - _timestamp: 1648694245.0000 - _runtime: 47.0000\n",
            "Epoch 9/50\n",
            "196/196 [==============================] - 5s 24ms/step - loss: 10.3357 - val_loss: 10.3915 - _timestamp: 1648694249.0000 - _runtime: 51.0000\n",
            "Epoch 10/50\n",
            "196/196 [==============================] - 5s 23ms/step - loss: 10.2461 - val_loss: 10.4528 - _timestamp: 1648694254.0000 - _runtime: 56.0000\n",
            "Epoch 11/50\n",
            "196/196 [==============================] - 5s 25ms/step - loss: 10.1837 - val_loss: 10.2878 - _timestamp: 1648694259.0000 - _runtime: 61.0000\n",
            "Epoch 12/50\n",
            "196/196 [==============================] - 4s 23ms/step - loss: 10.1354 - val_loss: 10.2947 - _timestamp: 1648694263.0000 - _runtime: 65.0000\n",
            "Epoch 13/50\n",
            "196/196 [==============================] - 5s 24ms/step - loss: 10.0845 - val_loss: 10.2664 - _timestamp: 1648694268.0000 - _runtime: 70.0000\n",
            "Epoch 14/50\n",
            "196/196 [==============================] - 5s 24ms/step - loss: 10.0551 - val_loss: 10.1277 - _timestamp: 1648694273.0000 - _runtime: 75.0000\n",
            "Epoch 15/50\n",
            "196/196 [==============================] - 5s 24ms/step - loss: 10.0025 - val_loss: 10.1633 - _timestamp: 1648694278.0000 - _runtime: 80.0000\n",
            "Epoch 16/50\n",
            "196/196 [==============================] - 5s 25ms/step - loss: 9.9662 - val_loss: 10.0731 - _timestamp: 1648694282.0000 - _runtime: 84.0000\n",
            "Epoch 17/50\n",
            "196/196 [==============================] - 5s 25ms/step - loss: 9.9349 - val_loss: 10.0483 - _timestamp: 1648694287.0000 - _runtime: 89.0000\n",
            "Epoch 18/50\n",
            "196/196 [==============================] - 5s 24ms/step - loss: 9.8991 - val_loss: 10.0124 - _timestamp: 1648694292.0000 - _runtime: 94.0000\n",
            "Epoch 19/50\n",
            "196/196 [==============================] - 4s 23ms/step - loss: 9.8613 - val_loss: 10.0905 - _timestamp: 1648694297.0000 - _runtime: 99.0000\n",
            "Epoch 20/50\n",
            "196/196 [==============================] - 4s 23ms/step - loss: 9.8371 - val_loss: 10.0398 - _timestamp: 1648694301.0000 - _runtime: 103.0000\n",
            "Epoch 21/50\n",
            "196/196 [==============================] - 4s 23ms/step - loss: 9.8164 - val_loss: 10.0233 - _timestamp: 1648694306.0000 - _runtime: 108.0000\n",
            "Epoch 22/50\n",
            "196/196 [==============================] - 5s 24ms/step - loss: 9.7884 - val_loss: 9.9409 - _timestamp: 1648694310.0000 - _runtime: 112.0000\n",
            "Epoch 23/50\n",
            "196/196 [==============================] - 5s 24ms/step - loss: 9.7586 - val_loss: 9.8856 - _timestamp: 1648694315.0000 - _runtime: 117.0000\n",
            "Epoch 24/50\n",
            "196/196 [==============================] - 5s 24ms/step - loss: 9.7508 - val_loss: 9.9330 - _timestamp: 1648694320.0000 - _runtime: 122.0000\n",
            "Epoch 25/50\n",
            "196/196 [==============================] - 5s 24ms/step - loss: 9.7182 - val_loss: 9.9184 - _timestamp: 1648694324.0000 - _runtime: 126.0000\n",
            "Epoch 26/50\n",
            "196/196 [==============================] - 4s 23ms/step - loss: 9.6982 - val_loss: 9.8955 - _timestamp: 1648694329.0000 - _runtime: 131.0000\n",
            "Epoch 27/50\n",
            "196/196 [==============================] - 5s 24ms/step - loss: 9.6818 - val_loss: 9.8512 - _timestamp: 1648694333.0000 - _runtime: 135.0000\n",
            "Epoch 28/50\n",
            "196/196 [==============================] - 5s 24ms/step - loss: 9.6670 - val_loss: 9.8104 - _timestamp: 1648694338.0000 - _runtime: 140.0000\n",
            "Epoch 29/50\n",
            "196/196 [==============================] - 5s 24ms/step - loss: 9.6509 - val_loss: 9.8679 - _timestamp: 1648694343.0000 - _runtime: 145.0000\n",
            "Epoch 30/50\n",
            "196/196 [==============================] - 5s 24ms/step - loss: 9.6338 - val_loss: 9.7796 - _timestamp: 1648694347.0000 - _runtime: 149.0000\n",
            "Epoch 31/50\n",
            "196/196 [==============================] - 5s 25ms/step - loss: 9.5892 - val_loss: 9.7826 - _timestamp: 1648694352.0000 - _runtime: 154.0000\n",
            "Epoch 32/50\n",
            "196/196 [==============================] - 5s 24ms/step - loss: 9.5880 - val_loss: 9.8025 - _timestamp: 1648694357.0000 - _runtime: 159.0000\n",
            "Epoch 33/50\n",
            "196/196 [==============================] - 5s 24ms/step - loss: 9.5867 - val_loss: 9.7594 - _timestamp: 1648694362.0000 - _runtime: 164.0000\n",
            "Epoch 34/50\n",
            "196/196 [==============================] - 5s 25ms/step - loss: 9.5570 - val_loss: 9.7584 - _timestamp: 1648694367.0000 - _runtime: 169.0000\n",
            "Epoch 35/50\n",
            "196/196 [==============================] - 5s 24ms/step - loss: 9.5394 - val_loss: 9.7172 - _timestamp: 1648694371.0000 - _runtime: 173.0000\n",
            "Epoch 36/50\n",
            "196/196 [==============================] - 5s 24ms/step - loss: 9.5308 - val_loss: 9.6868 - _timestamp: 1648694376.0000 - _runtime: 178.0000\n",
            "Epoch 37/50\n",
            "196/196 [==============================] - 5s 23ms/step - loss: 9.5149 - val_loss: 9.7188 - _timestamp: 1648694381.0000 - _runtime: 183.0000\n",
            "Epoch 38/50\n",
            "196/196 [==============================] - 5s 24ms/step - loss: 9.5010 - val_loss: 9.6697 - _timestamp: 1648694385.0000 - _runtime: 187.0000\n",
            "Epoch 39/50\n",
            "196/196 [==============================] - 5s 23ms/step - loss: 9.5001 - val_loss: 9.7444 - _timestamp: 1648694390.0000 - _runtime: 192.0000\n",
            "Epoch 40/50\n",
            "196/196 [==============================] - 5s 23ms/step - loss: 9.4719 - val_loss: 9.6825 - _timestamp: 1648694395.0000 - _runtime: 197.0000\n",
            "Epoch 41/50\n",
            "196/196 [==============================] - 5s 23ms/step - loss: 9.4806 - val_loss: 9.6973 - _timestamp: 1648694399.0000 - _runtime: 201.0000\n",
            "Epoch 42/50\n",
            "196/196 [==============================] - 5s 25ms/step - loss: 9.4575 - val_loss: 9.6810 - _timestamp: 1648694404.0000 - _runtime: 206.0000\n",
            "Epoch 43/50\n",
            "196/196 [==============================] - 5s 24ms/step - loss: 9.4586 - val_loss: 9.6840 - _timestamp: 1648694409.0000 - _runtime: 211.0000\n",
            "Epoch 44/50\n",
            "196/196 [==============================] - 5s 23ms/step - loss: 9.4464 - val_loss: 9.7138 - _timestamp: 1648694413.0000 - _runtime: 215.0000\n",
            "Epoch 45/50\n",
            "196/196 [==============================] - 5s 23ms/step - loss: 9.4310 - val_loss: 9.6763 - _timestamp: 1648694418.0000 - _runtime: 220.0000\n",
            "Epoch 46/50\n",
            "196/196 [==============================] - 5s 24ms/step - loss: 9.4220 - val_loss: 9.6306 - _timestamp: 1648694422.0000 - _runtime: 224.0000\n",
            "Epoch 47/50\n",
            "196/196 [==============================] - 5s 23ms/step - loss: 9.4117 - val_loss: 9.6957 - _timestamp: 1648694427.0000 - _runtime: 229.0000\n",
            "Epoch 48/50\n",
            "196/196 [==============================] - 5s 23ms/step - loss: 9.3878 - val_loss: 9.6586 - _timestamp: 1648694432.0000 - _runtime: 234.0000\n",
            "Epoch 49/50\n",
            "196/196 [==============================] - 5s 24ms/step - loss: 9.3824 - val_loss: 9.6234 - _timestamp: 1648694436.0000 - _runtime: 238.0000\n",
            "Epoch 50/50\n",
            "196/196 [==============================] - 5s 26ms/step - loss: 9.3773 - val_loss: 9.6462 - _timestamp: 1648694442.0000 - _runtime: 244.0000\n",
            "Avg SSIM over X_test: 0.7110960538946433\n",
            "\n"
          ]
        },
        {
          "output_type": "display_data",
          "data": {
            "text/plain": [
              "<IPython.core.display.HTML object>"
            ],
            "text/html": [
              "Waiting for W&B process to finish... <strong style=\"color:green\">(success).</strong>"
            ]
          },
          "metadata": {}
        },
        {
          "output_type": "display_data",
          "data": {
            "text/plain": [
              "VBox(children=(Label(value='14.980 MB of 14.980 MB uploaded (0.000 MB deduped)\\r'), FloatProgress(value=1.0, m…"
            ],
            "application/vnd.jupyter.widget-view+json": {
              "version_major": 2,
              "version_minor": 0,
              "model_id": "a9b4abee0f1b4053b096a82313aeda26"
            }
          },
          "metadata": {}
        },
        {
          "output_type": "display_data",
          "data": {
            "text/plain": [
              "<IPython.core.display.HTML object>"
            ],
            "text/html": [
              "<style>\n",
              "    table.wandb td:nth-child(1) { padding: 0 10px; text-align: right }\n",
              "    .wandb-row { display: flex; flex-direction: row; flex-wrap: wrap; width: 100% }\n",
              "    .wandb-col { display: flex; flex-direction: column; flex-basis: 100%; flex: 1; padding: 10px; }\n",
              "    </style>\n",
              "<div class=\"wandb-row\"><div class=\"wandb-col\"><h3>Run history:</h3><br/><table class=\"wandb\"><tr><td>avg_ssim_score_x_test</td><td>▁</td></tr><tr><td>epoch</td><td>▁▁▁▁▂▂▂▂▂▃▃▃▃▃▃▄▄▄▄▄▅▅▅▅▅▅▆▆▆▆▆▆▇▇▇▇▇███</td></tr><tr><td>loss</td><td>█▃▂▂▁▁▁▁▁▁▁▁▁▁▁▁▁▁▁▁▁▁▁▁▁▁▁▁▁▁▁▁▁▁▁▁▁▁▁▁</td></tr><tr><td>val_loss</td><td>█▄▃▂▁▁▁▁▁▁▁▁▁▁▁▁▁▁▁▁▁▁▁▁▁▁▁▁▁▁▁▁▁▁▁▁▁▁▁▁</td></tr></table><br/></div><div class=\"wandb-col\"><h3>Run summary:</h3><br/><table class=\"wandb\"><tr><td>avg_ssim_score_x_test</td><td>0.7111</td></tr><tr><td>best_epoch</td><td>48</td></tr><tr><td>best_val_loss</td><td>9.62338</td></tr><tr><td>epoch</td><td>49</td></tr><tr><td>loss</td><td>9.37728</td></tr><tr><td>val_loss</td><td>9.64616</td></tr></table><br/></div></div>"
            ]
          },
          "metadata": {}
        },
        {
          "output_type": "display_data",
          "data": {
            "text/plain": [
              "<IPython.core.display.HTML object>"
            ],
            "text/html": [
              "Synced <strong style=\"color:#cdcd00\">Model vae_1.0_c</strong>: <a href=\"https://wandb.ai/csc2231-yash-siphelele/autoencoders_RQ_comparison/runs/39tgrsz6\" target=\"_blank\">https://wandb.ai/csc2231-yash-siphelele/autoencoders_RQ_comparison/runs/39tgrsz6</a><br/>Synced 5 W&B file(s), 0 media file(s), 0 artifact file(s) and 2 other file(s)"
            ]
          },
          "metadata": {}
        },
        {
          "output_type": "display_data",
          "data": {
            "text/plain": [
              "<IPython.core.display.HTML object>"
            ],
            "text/html": [
              "Find logs at: <code>./wandb/run-20220331_023634-39tgrsz6/logs</code>"
            ]
          },
          "metadata": {}
        }
      ]
    },
    {
      "cell_type": "markdown",
      "source": [
        "### Exp 1.1"
      ],
      "metadata": {
        "id": "-YzehTyJytMf"
      }
    },
    {
      "cell_type": "code",
      "source": [
        "'''\n",
        "Model vae_1.1\n",
        "'''\n",
        "\n",
        "latent_dim = Z_DIM[2]  # Number of latent dimension parameters\n",
        "\n",
        "input_img = Input(shape=(32, 32, 3))\n",
        "\n",
        "x = Conv2D(32, (3, 3), activation='relu', padding='same', strides=2)(input_img)\n",
        "# x = BatchNormalization()(x)\n",
        "\n",
        "x = Conv2D(16, (3, 3), activation='relu', padding='same', strides=2)(x)\n",
        "# x = BatchNormalization()(x)\n",
        "\n",
        "x = Conv2D(4, (3, 3), activation='relu', padding='same', strides=2)(x)\n",
        "# x = BatchNormalization()(x)\n",
        "\n",
        "shape_before_flattening = K.int_shape(x)\n",
        "# print(shape_before_flattening)\n",
        "x = Flatten()(x)\n",
        "\n",
        "z_mu = Dense(latent_dim)(x)\n",
        "z_log_sigma = Dense(latent_dim, kernel_initializer='zeros', bias_initializer='zeros')(x)\n",
        "\n",
        "\n",
        "# sampling function\n",
        "def sampling(args):\n",
        "    z_mu, z_log_sigma = args\n",
        "    epsilon = K.random_normal(shape=(K.shape(z_mu)[0], latent_dim),\n",
        "                              mean=0., stddev=1.)\n",
        "    return z_mu + K.exp(z_log_sigma) * epsilon\n",
        "\n",
        "# sample vector from the latent distribution\n",
        "z = Lambda(sampling)([z_mu, z_log_sigma])\n",
        "\n",
        "encoder = Model(input_img,z)\n",
        "\n",
        "# decoder takes the latent distribution sample as input\n",
        "decoder_input = Input(K.int_shape(z)[1:])\n",
        "x = Dense(4096, activation='relu', name=\"intermediate_decoder\", input_shape=(latent_dim,))(decoder_input)\n",
        "x = Reshape((8,8,64))(x)\n",
        "\n",
        "x = Conv2DTranspose(32, (3, 3),strides= 2, padding='same')(x)\n",
        "# x = BatchNormalization()(x)\n",
        "\n",
        "# x = Conv2DTranspose(16, (3, 3),strides= 2, padding='same')(x)\n",
        "# x = BatchNormalization()(x)\n",
        "\n",
        "# x = Conv2DTranspose(8, (3, 3),strides= 2, padding='same')(x)\n",
        "# x = BatchNormalization()(x)\n",
        "\n",
        "x = Conv2DTranspose(3, (3, 3),strides= 2, padding='same', activation='sigmoid')(x)\n",
        "\n",
        "\n",
        "# decoder model statement\n",
        "decoder = Model(decoder_input, x)\n",
        "\n",
        "# apply the decoder to the sample from the latent distribution\n",
        "pred = decoder(z)\n",
        "\n",
        "\n",
        "def vae_loss(x, pred):\n",
        "    x = K.flatten(x)\n",
        "    pred = K.flatten(pred)\n",
        "    # Reconstruction loss\n",
        "    #reconst_loss = 100 * binary_crossentropy(x, pred)\n",
        "    reconst_loss = 1000*K.mean(K.square(x - pred))\n",
        "    \n",
        "    # KL divergence\n",
        "    kl_loss = -0.5 * K.mean(1 + z_log_sigma - K.square(z_mu) - K.exp(z_log_sigma), axis=-1)\n",
        "    \n",
        "    return (reconst_loss + kl_loss)\n",
        "\n",
        "\n",
        "# VAE model statement\n",
        "vae = Model(input_img, pred)\n",
        "vae.add_loss(vae_loss(input_img,pred))\n",
        "optimizer = Adam(learning_rate=0.0005)\n",
        "vae.compile(optimizer=optimizer, loss=None)\n",
        "\n",
        "vae.summary()\n",
        "\n",
        "\n",
        "# fit and track the model \n",
        "fit_model_and_log_metrics(\"Model vae_1.1_c\", \"With maxpooling, convtranspose, dense, and flatten\", vae, 50, 256)"
      ],
      "metadata": {
        "colab": {
          "base_uri": "https://localhost:8080/",
          "height": 1000,
          "referenced_widgets": [
            "9b13b0323c964ffebe36c695964bc77d",
            "a9b9525c31384b1084a2912cdc6d68a2",
            "aae25fa464a04709a9dde0e8b9ab2756",
            "d976ce642c5d40849c185fbc28fd8ad5",
            "9f30aadfe0924786a8dc7575db72f4b7",
            "999274eacfe347d59bd521a68909def0",
            "364af58c88fe46d1bf9a49803100e96b",
            "c674838870a0425798585e1caadd2725"
          ]
        },
        "id": "1-xeZ5zLl_2w",
        "outputId": "bb0e5b6b-1a84-4e56-acaf-c1e31c6cb2de"
      },
      "execution_count": null,
      "outputs": [
        {
          "output_type": "stream",
          "name": "stdout",
          "text": [
            "Model: \"model_14\"\n",
            "__________________________________________________________________________________________________\n",
            " Layer (type)                   Output Shape         Param #     Connected to                     \n",
            "==================================================================================================\n",
            " input_9 (InputLayer)           [(None, 32, 32, 3)]  0           []                               \n",
            "                                                                                                  \n",
            " conv2d_12 (Conv2D)             (None, 16, 16, 32)   896         ['input_9[0][0]']                \n",
            "                                                                                                  \n",
            " conv2d_13 (Conv2D)             (None, 8, 8, 16)     4624        ['conv2d_12[0][0]']              \n",
            "                                                                                                  \n",
            " conv2d_14 (Conv2D)             (None, 4, 4, 4)      580         ['conv2d_13[0][0]']              \n",
            "                                                                                                  \n",
            " flatten_4 (Flatten)            (None, 64)           0           ['conv2d_14[0][0]']              \n",
            "                                                                                                  \n",
            " dense_8 (Dense)                (None, 300)          19500       ['flatten_4[0][0]']              \n",
            "                                                                                                  \n",
            " dense_9 (Dense)                (None, 300)          19500       ['flatten_4[0][0]']              \n",
            "                                                                                                  \n",
            " lambda_4 (Lambda)              (None, 300)          0           ['dense_8[0][0]',                \n",
            "                                                                  'dense_9[0][0]']                \n",
            "                                                                                                  \n",
            " model_13 (Functional)          (None, 32, 32, 3)    1252227     ['lambda_4[0][0]']               \n",
            "                                                                                                  \n",
            " tf.reshape_8 (TFOpLambda)      (None,)              0           ['input_9[0][0]']                \n",
            "                                                                                                  \n",
            " tf.reshape_9 (TFOpLambda)      (None,)              0           ['model_13[0][0]']               \n",
            "                                                                                                  \n",
            " tf.__operators__.add_8 (TFOpLa  (None, 300)         0           ['dense_9[0][0]']                \n",
            " mbda)                                                                                            \n",
            "                                                                                                  \n",
            " tf.math.square_9 (TFOpLambda)  (None, 300)          0           ['dense_8[0][0]']                \n",
            "                                                                                                  \n",
            " tf.math.subtract_12 (TFOpLambd  (None,)             0           ['tf.reshape_8[0][0]',           \n",
            " a)                                                               'tf.reshape_9[0][0]']           \n",
            "                                                                                                  \n",
            " tf.math.subtract_13 (TFOpLambd  (None, 300)         0           ['tf.__operators__.add_8[0][0]', \n",
            " a)                                                               'tf.math.square_9[0][0]']       \n",
            "                                                                                                  \n",
            " tf.math.exp_4 (TFOpLambda)     (None, 300)          0           ['dense_9[0][0]']                \n",
            "                                                                                                  \n",
            " tf.math.square_8 (TFOpLambda)  (None,)              0           ['tf.math.subtract_12[0][0]']    \n",
            "                                                                                                  \n",
            " tf.math.subtract_14 (TFOpLambd  (None, 300)         0           ['tf.math.subtract_13[0][0]',    \n",
            " a)                                                               'tf.math.exp_4[0][0]']          \n",
            "                                                                                                  \n",
            " tf.math.reduce_mean_8 (TFOpLam  ()                  0           ['tf.math.square_8[0][0]']       \n",
            " bda)                                                                                             \n",
            "                                                                                                  \n",
            " tf.math.reduce_mean_9 (TFOpLam  (None,)             0           ['tf.math.subtract_14[0][0]']    \n",
            " bda)                                                                                             \n",
            "                                                                                                  \n",
            " tf.math.multiply_8 (TFOpLambda  ()                  0           ['tf.math.reduce_mean_8[0][0]']  \n",
            " )                                                                                                \n",
            "                                                                                                  \n",
            " tf.math.multiply_9 (TFOpLambda  (None,)             0           ['tf.math.reduce_mean_9[0][0]']  \n",
            " )                                                                                                \n",
            "                                                                                                  \n",
            " tf.__operators__.add_9 (TFOpLa  (None,)             0           ['tf.math.multiply_8[0][0]',     \n",
            " mbda)                                                            'tf.math.multiply_9[0][0]']     \n",
            "                                                                                                  \n",
            " add_loss_4 (AddLoss)           (None,)              0           ['tf.__operators__.add_9[0][0]'] \n",
            "                                                                                                  \n",
            "==================================================================================================\n",
            "Total params: 1,297,327\n",
            "Trainable params: 1,297,327\n",
            "Non-trainable params: 0\n",
            "__________________________________________________________________________________________________\n"
          ]
        },
        {
          "output_type": "display_data",
          "data": {
            "text/plain": [
              "<IPython.core.display.HTML object>"
            ],
            "text/html": [
              "Tracking run with wandb version 0.12.11"
            ]
          },
          "metadata": {}
        },
        {
          "output_type": "display_data",
          "data": {
            "text/plain": [
              "<IPython.core.display.HTML object>"
            ],
            "text/html": [
              "Run data is saved locally in <code>/content/wandb/run-20220331_024330-11ui6qd6</code>"
            ]
          },
          "metadata": {}
        },
        {
          "output_type": "display_data",
          "data": {
            "text/plain": [
              "<IPython.core.display.HTML object>"
            ],
            "text/html": [
              "Syncing run <strong><a href=\"https://wandb.ai/csc2231-yash-siphelele/autoencoders_RQ_comparison/runs/11ui6qd6\" target=\"_blank\">Model vae_1.1_c</a></strong> to <a href=\"https://wandb.ai/csc2231-yash-siphelele/autoencoders_RQ_comparison\" target=\"_blank\">Weights & Biases</a> (<a href=\"https://wandb.me/run\" target=\"_blank\">docs</a>)<br/>"
            ]
          },
          "metadata": {}
        },
        {
          "output_type": "stream",
          "name": "stdout",
          "text": [
            "Epoch 1/50\n",
            "196/196 [==============================] - 6s 26ms/step - loss: 33.6735 - val_loss: 19.4861 - _timestamp: 1648694622.0000 - _runtime: 12.0000\n",
            "Epoch 2/50\n",
            "196/196 [==============================] - 5s 24ms/step - loss: 17.8745 - val_loss: 16.6308 - _timestamp: 1648694627.0000 - _runtime: 17.0000\n",
            "Epoch 3/50\n",
            "196/196 [==============================] - 4s 22ms/step - loss: 15.2202 - val_loss: 13.8489 - _timestamp: 1648694631.0000 - _runtime: 21.0000\n",
            "Epoch 4/50\n",
            "196/196 [==============================] - 5s 23ms/step - loss: 13.3206 - val_loss: 13.1313 - _timestamp: 1648694636.0000 - _runtime: 26.0000\n",
            "Epoch 5/50\n",
            "196/196 [==============================] - 5s 24ms/step - loss: 12.7703 - val_loss: 13.0450 - _timestamp: 1648694641.0000 - _runtime: 31.0000\n",
            "Epoch 6/50\n",
            "196/196 [==============================] - 4s 23ms/step - loss: 12.3767 - val_loss: 12.2148 - _timestamp: 1648694645.0000 - _runtime: 35.0000\n",
            "Epoch 7/50\n",
            "196/196 [==============================] - 4s 23ms/step - loss: 12.0049 - val_loss: 11.8898 - _timestamp: 1648694650.0000 - _runtime: 40.0000\n",
            "Epoch 8/50\n",
            "196/196 [==============================] - 5s 24ms/step - loss: 11.6694 - val_loss: 11.5941 - _timestamp: 1648694654.0000 - _runtime: 44.0000\n",
            "Epoch 9/50\n",
            "196/196 [==============================] - 4s 22ms/step - loss: 11.4386 - val_loss: 11.3173 - _timestamp: 1648694659.0000 - _runtime: 49.0000\n",
            "Epoch 10/50\n",
            "196/196 [==============================] - 4s 22ms/step - loss: 11.2087 - val_loss: 11.1683 - _timestamp: 1648694663.0000 - _runtime: 53.0000\n",
            "Epoch 11/50\n",
            "196/196 [==============================] - 4s 21ms/step - loss: 11.0572 - val_loss: 11.4442 - _timestamp: 1648694667.0000 - _runtime: 57.0000\n",
            "Epoch 12/50\n",
            "196/196 [==============================] - 4s 22ms/step - loss: 10.9581 - val_loss: 10.9450 - _timestamp: 1648694671.0000 - _runtime: 61.0000\n",
            "Epoch 13/50\n",
            "196/196 [==============================] - 5s 23ms/step - loss: 10.8486 - val_loss: 10.8727 - _timestamp: 1648694676.0000 - _runtime: 66.0000\n",
            "Epoch 14/50\n",
            "196/196 [==============================] - 4s 22ms/step - loss: 10.7672 - val_loss: 10.7809 - _timestamp: 1648694680.0000 - _runtime: 70.0000\n",
            "Epoch 15/50\n",
            "196/196 [==============================] - 5s 23ms/step - loss: 10.6997 - val_loss: 10.9273 - _timestamp: 1648694685.0000 - _runtime: 75.0000\n",
            "Epoch 16/50\n",
            "196/196 [==============================] - 4s 22ms/step - loss: 10.6476 - val_loss: 10.6984 - _timestamp: 1648694689.0000 - _runtime: 79.0000\n",
            "Epoch 17/50\n",
            "196/196 [==============================] - 4s 21ms/step - loss: 10.5753 - val_loss: 10.7584 - _timestamp: 1648694694.0000 - _runtime: 84.0000\n",
            "Epoch 18/50\n",
            "196/196 [==============================] - 4s 22ms/step - loss: 10.5240 - val_loss: 10.6193 - _timestamp: 1648694698.0000 - _runtime: 88.0000\n",
            "Epoch 19/50\n",
            "196/196 [==============================] - 4s 22ms/step - loss: 10.4404 - val_loss: 10.4981 - _timestamp: 1648694702.0000 - _runtime: 92.0000\n",
            "Epoch 20/50\n",
            "196/196 [==============================] - 5s 23ms/step - loss: 10.3339 - val_loss: 10.5011 - _timestamp: 1648694707.0000 - _runtime: 97.0000\n",
            "Epoch 21/50\n",
            "196/196 [==============================] - 4s 22ms/step - loss: 10.2633 - val_loss: 10.3279 - _timestamp: 1648694711.0000 - _runtime: 101.0000\n",
            "Epoch 22/50\n",
            "196/196 [==============================] - 5s 24ms/step - loss: 10.2004 - val_loss: 10.3095 - _timestamp: 1648694716.0000 - _runtime: 106.0000\n",
            "Epoch 23/50\n",
            "196/196 [==============================] - 4s 22ms/step - loss: 10.1548 - val_loss: 10.3332 - _timestamp: 1648694720.0000 - _runtime: 110.0000\n",
            "Epoch 24/50\n",
            "196/196 [==============================] - 4s 22ms/step - loss: 10.1331 - val_loss: 10.2287 - _timestamp: 1648694724.0000 - _runtime: 114.0000\n",
            "Epoch 25/50\n",
            "196/196 [==============================] - 5s 23ms/step - loss: 10.0678 - val_loss: 10.2286 - _timestamp: 1648694729.0000 - _runtime: 119.0000\n",
            "Epoch 26/50\n",
            "196/196 [==============================] - 5s 24ms/step - loss: 10.0334 - val_loss: 10.1617 - _timestamp: 1648694733.0000 - _runtime: 123.0000\n",
            "Epoch 27/50\n",
            "196/196 [==============================] - 4s 22ms/step - loss: 10.0043 - val_loss: 10.1222 - _timestamp: 1648694738.0000 - _runtime: 128.0000\n",
            "Epoch 28/50\n",
            "196/196 [==============================] - 4s 22ms/step - loss: 9.9689 - val_loss: 10.1071 - _timestamp: 1648694742.0000 - _runtime: 132.0000\n",
            "Epoch 29/50\n",
            "196/196 [==============================] - 4s 22ms/step - loss: 9.9429 - val_loss: 10.1162 - _timestamp: 1648694746.0000 - _runtime: 136.0000\n",
            "Epoch 30/50\n",
            "196/196 [==============================] - 5s 23ms/step - loss: 9.9203 - val_loss: 10.0516 - _timestamp: 1648694751.0000 - _runtime: 141.0000\n",
            "Epoch 31/50\n",
            "196/196 [==============================] - 4s 23ms/step - loss: 9.9048 - val_loss: 10.0802 - _timestamp: 1648694755.0000 - _runtime: 145.0000\n",
            "Epoch 32/50\n",
            "196/196 [==============================] - 5s 24ms/step - loss: 9.8718 - val_loss: 10.0391 - _timestamp: 1648694760.0000 - _runtime: 150.0000\n",
            "Epoch 33/50\n",
            "196/196 [==============================] - 4s 22ms/step - loss: 9.8380 - val_loss: 9.9764 - _timestamp: 1648694764.0000 - _runtime: 154.0000\n",
            "Epoch 34/50\n",
            "196/196 [==============================] - 4s 22ms/step - loss: 9.8205 - val_loss: 9.9632 - _timestamp: 1648694769.0000 - _runtime: 159.0000\n",
            "Epoch 35/50\n",
            "196/196 [==============================] - 5s 23ms/step - loss: 9.8001 - val_loss: 9.9291 - _timestamp: 1648694773.0000 - _runtime: 163.0000\n",
            "Epoch 36/50\n",
            "196/196 [==============================] - 4s 22ms/step - loss: 9.7749 - val_loss: 9.9299 - _timestamp: 1648694778.0000 - _runtime: 168.0000\n",
            "Epoch 37/50\n",
            "196/196 [==============================] - 4s 22ms/step - loss: 9.7572 - val_loss: 9.9769 - _timestamp: 1648694782.0000 - _runtime: 172.0000\n",
            "Epoch 38/50\n",
            "196/196 [==============================] - 5s 24ms/step - loss: 9.7510 - val_loss: 9.8847 - _timestamp: 1648694786.0000 - _runtime: 176.0000\n",
            "Epoch 39/50\n",
            "196/196 [==============================] - 4s 22ms/step - loss: 9.7180 - val_loss: 9.8635 - _timestamp: 1648694791.0000 - _runtime: 181.0000\n",
            "Epoch 40/50\n",
            "196/196 [==============================] - 4s 22ms/step - loss: 9.7040 - val_loss: 9.9027 - _timestamp: 1648694795.0000 - _runtime: 185.0000\n",
            "Epoch 41/50\n",
            "196/196 [==============================] - 5s 23ms/step - loss: 9.6829 - val_loss: 9.8594 - _timestamp: 1648694800.0000 - _runtime: 190.0000\n",
            "Epoch 42/50\n",
            "196/196 [==============================] - 4s 21ms/step - loss: 9.6752 - val_loss: 9.9625 - _timestamp: 1648694804.0000 - _runtime: 194.0000\n",
            "Epoch 43/50\n",
            "196/196 [==============================] - 4s 21ms/step - loss: 9.6601 - val_loss: 9.8713 - _timestamp: 1648694808.0000 - _runtime: 198.0000\n",
            "Epoch 44/50\n",
            "196/196 [==============================] - 4s 22ms/step - loss: 9.6443 - val_loss: 9.8560 - _timestamp: 1648694812.0000 - _runtime: 202.0000\n",
            "Epoch 45/50\n",
            "196/196 [==============================] - 4s 21ms/step - loss: 9.6215 - val_loss: 9.8811 - _timestamp: 1648694817.0000 - _runtime: 207.0000\n",
            "Epoch 46/50\n",
            "196/196 [==============================] - 4s 22ms/step - loss: 9.6126 - val_loss: 9.7865 - _timestamp: 1648694821.0000 - _runtime: 211.0000\n",
            "Epoch 47/50\n",
            "196/196 [==============================] - 4s 21ms/step - loss: 9.5901 - val_loss: 9.7866 - _timestamp: 1648694825.0000 - _runtime: 215.0000\n",
            "Epoch 48/50\n",
            "196/196 [==============================] - 4s 22ms/step - loss: 9.5827 - val_loss: 9.7762 - _timestamp: 1648694829.0000 - _runtime: 219.0000\n",
            "Epoch 49/50\n",
            "196/196 [==============================] - 4s 22ms/step - loss: 9.5710 - val_loss: 9.7355 - _timestamp: 1648694834.0000 - _runtime: 224.0000\n",
            "Epoch 50/50\n",
            "196/196 [==============================] - 4s 21ms/step - loss: 9.5552 - val_loss: 9.7575 - _timestamp: 1648694838.0000 - _runtime: 228.0000\n",
            "Avg SSIM over X_test: 0.708958163870525\n",
            "\n"
          ]
        },
        {
          "output_type": "display_data",
          "data": {
            "text/plain": [
              "<IPython.core.display.HTML object>"
            ],
            "text/html": [
              "Waiting for W&B process to finish... <strong style=\"color:green\">(success).</strong>"
            ]
          },
          "metadata": {}
        },
        {
          "output_type": "display_data",
          "data": {
            "text/plain": [
              "VBox(children=(Label(value='4.997 MB of 4.997 MB uploaded (0.000 MB deduped)\\r'), FloatProgress(value=1.0, max…"
            ],
            "application/vnd.jupyter.widget-view+json": {
              "version_major": 2,
              "version_minor": 0,
              "model_id": "9b13b0323c964ffebe36c695964bc77d"
            }
          },
          "metadata": {}
        },
        {
          "output_type": "display_data",
          "data": {
            "text/plain": [
              "<IPython.core.display.HTML object>"
            ],
            "text/html": [
              "<style>\n",
              "    table.wandb td:nth-child(1) { padding: 0 10px; text-align: right }\n",
              "    .wandb-row { display: flex; flex-direction: row; flex-wrap: wrap; width: 100% }\n",
              "    .wandb-col { display: flex; flex-direction: column; flex-basis: 100%; flex: 1; padding: 10px; }\n",
              "    </style>\n",
              "<div class=\"wandb-row\"><div class=\"wandb-col\"><h3>Run history:</h3><br/><table class=\"wandb\"><tr><td>avg_ssim_score_x_test</td><td>▁</td></tr><tr><td>epoch</td><td>▁▁▁▁▂▂▂▂▂▃▃▃▃▃▃▄▄▄▄▄▅▅▅▅▅▅▆▆▆▆▆▆▇▇▇▇▇███</td></tr><tr><td>loss</td><td>█▃▃▂▂▂▂▂▁▁▁▁▁▁▁▁▁▁▁▁▁▁▁▁▁▁▁▁▁▁▁▁▁▁▁▁▁▁▁▁</td></tr><tr><td>val_loss</td><td>█▆▄▃▃▃▂▂▂▂▂▂▂▂▂▂▁▁▁▁▁▁▁▁▁▁▁▁▁▁▁▁▁▁▁▁▁▁▁▁</td></tr></table><br/></div><div class=\"wandb-col\"><h3>Run summary:</h3><br/><table class=\"wandb\"><tr><td>avg_ssim_score_x_test</td><td>0.70896</td></tr><tr><td>best_epoch</td><td>48</td></tr><tr><td>best_val_loss</td><td>9.73552</td></tr><tr><td>epoch</td><td>49</td></tr><tr><td>loss</td><td>9.55519</td></tr><tr><td>val_loss</td><td>9.75746</td></tr></table><br/></div></div>"
            ]
          },
          "metadata": {}
        },
        {
          "output_type": "display_data",
          "data": {
            "text/plain": [
              "<IPython.core.display.HTML object>"
            ],
            "text/html": [
              "Synced <strong style=\"color:#cdcd00\">Model vae_1.1_c</strong>: <a href=\"https://wandb.ai/csc2231-yash-siphelele/autoencoders_RQ_comparison/runs/11ui6qd6\" target=\"_blank\">https://wandb.ai/csc2231-yash-siphelele/autoencoders_RQ_comparison/runs/11ui6qd6</a><br/>Synced 5 W&B file(s), 0 media file(s), 0 artifact file(s) and 2 other file(s)"
            ]
          },
          "metadata": {}
        },
        {
          "output_type": "display_data",
          "data": {
            "text/plain": [
              "<IPython.core.display.HTML object>"
            ],
            "text/html": [
              "Find logs at: <code>./wandb/run-20220331_024330-11ui6qd6/logs</code>"
            ]
          },
          "metadata": {}
        }
      ]
    },
    {
      "cell_type": "markdown",
      "source": [
        "## Exp 2"
      ],
      "metadata": {
        "id": "nLjLkDqPR7ig"
      }
    },
    {
      "cell_type": "code",
      "source": [
        "'''\n",
        "Model vae_2\n",
        "'''\n",
        "\n",
        "latent_dim = Z_DIM[2]  # Number of latent dimension parameters\n",
        "\n",
        "input_img = Input(shape=(32, 32, 3))\n",
        "\n",
        "x = Conv2D(32, (3, 3), activation='relu', padding='same', strides=2)(input_img)\n",
        "x = BatchNormalization()(x)\n",
        "\n",
        "x = Conv2D(16, (3, 3), activation='relu', padding='same', strides=2)(x)\n",
        "x = BatchNormalization()(x)\n",
        "\n",
        "x = Conv2D(8, (3, 3), activation='relu', padding='same', strides=2)(x)\n",
        "x = BatchNormalization()(x)\n",
        "\n",
        "shape_before_flattening = K.int_shape(x)\n",
        "# print(shape_before_flattening)\n",
        "x = Flatten()(x)\n",
        "\n",
        "z_mu = Dense(latent_dim)(x)\n",
        "z_log_sigma = Dense(latent_dim, kernel_initializer='zeros', bias_initializer='zeros')(x)\n",
        "\n",
        "\n",
        "# sampling function\n",
        "def sampling(args):\n",
        "    z_mu, z_log_sigma = args\n",
        "    epsilon = K.random_normal(shape=(K.shape(z_mu)[0], latent_dim),\n",
        "                              mean=0., stddev=1.)\n",
        "    return z_mu + K.exp(z_log_sigma) * epsilon\n",
        "\n",
        "# sample vector from the latent distribution\n",
        "z = Lambda(sampling)([z_mu, z_log_sigma])\n",
        "\n",
        "encoder = Model(input_img,z)\n",
        "\n",
        "# decoder takes the latent distribution sample as input\n",
        "decoder_input = Input(K.int_shape(z)[1:])\n",
        "x = Dense(4096, activation='relu', name=\"intermediate_decoder\", input_shape=(latent_dim,))(decoder_input)\n",
        "x = Reshape((8,8,64))(x)\n",
        "\n",
        "x = Conv2DTranspose(32, (3, 3),strides= 2, padding='same')(x)\n",
        "x = BatchNormalization()(x)\n",
        "\n",
        "# x = Conv2DTranspose(16, (3, 3),strides= 2, padding='same')(x)\n",
        "# x = BatchNormalization()(x)\n",
        "\n",
        "# x = Conv2DTranspose(8, (3, 3),strides= 2, padding='same')(x)\n",
        "# x = BatchNormalization()(x)\n",
        "\n",
        "x = Conv2DTranspose(3, (3, 3),strides= 2, padding='same', activation='sigmoid')(x)\n",
        "\n",
        "\n",
        "# decoder model statement\n",
        "decoder = Model(decoder_input, x)\n",
        "\n",
        "# apply the decoder to the sample from the latent distribution\n",
        "pred = decoder(z)\n",
        "\n",
        "\n",
        "def vae_loss(x, pred):\n",
        "    x = K.flatten(x)\n",
        "    pred = K.flatten(pred)\n",
        "    # Reconstruction loss\n",
        "    #reconst_loss = 100 * binary_crossentropy(x, pred)\n",
        "    reconst_loss = 1000*K.mean(K.square(x - pred))\n",
        "    \n",
        "    # KL divergence\n",
        "    kl_loss = -0.5 * K.mean(1 + z_log_sigma - K.square(z_mu) - K.exp(z_log_sigma), axis=-1)\n",
        "    \n",
        "    return (reconst_loss + kl_loss)\n",
        "\n",
        "\n",
        "# VAE model statement\n",
        "vae = Model(input_img, pred)\n",
        "vae.add_loss(vae_loss(input_img,pred))\n",
        "optimizer = Adam(learning_rate=0.0005)\n",
        "vae.compile(optimizer=optimizer, loss=None)\n",
        "\n",
        "vae.summary()\n",
        "\n",
        "\n",
        "# fit and track the model \n",
        "fit_model_and_log_metrics(\"Model vae_2_c\", \"With maxpooling, convtranspose, dense, and flatten\", vae, 50, 256)"
      ],
      "metadata": {
        "colab": {
          "base_uri": "https://localhost:8080/",
          "height": 1000,
          "referenced_widgets": [
            "c42a8732987e49f0a0cdf8ede6458ae6",
            "969533782e844981ac2177a33941e07f",
            "4254091c3c6f455ca9639033bc27bfc2",
            "1f564703280c4cf79c45de9c1f0950ab",
            "b4f17d69170b45e08117c83ac0d996fc",
            "c1c7b273942a4fc7b10849737a556b93",
            "d820ebe2d7ee4bbd88bdaf6d47a24110",
            "5d6328de595c465d8e2960fa78a9c471"
          ]
        },
        "id": "PAK8UNQkSAdw",
        "outputId": "21c28b3e-8e6d-4eeb-eb05-6315e0dba11f"
      },
      "execution_count": null,
      "outputs": [
        {
          "output_type": "stream",
          "name": "stdout",
          "text": [
            "Model: \"model_5\"\n",
            "__________________________________________________________________________________________________\n",
            " Layer (type)                   Output Shape         Param #     Connected to                     \n",
            "==================================================================================================\n",
            " input_3 (InputLayer)           [(None, 32, 32, 3)]  0           []                               \n",
            "                                                                                                  \n",
            " conv2d_3 (Conv2D)              (None, 16, 16, 32)   896         ['input_3[0][0]']                \n",
            "                                                                                                  \n",
            " batch_normalization_4 (BatchNo  (None, 16, 16, 32)  128         ['conv2d_3[0][0]']               \n",
            " rmalization)                                                                                     \n",
            "                                                                                                  \n",
            " conv2d_4 (Conv2D)              (None, 8, 8, 16)     4624        ['batch_normalization_4[0][0]']  \n",
            "                                                                                                  \n",
            " batch_normalization_5 (BatchNo  (None, 8, 8, 16)    64          ['conv2d_4[0][0]']               \n",
            " rmalization)                                                                                     \n",
            "                                                                                                  \n",
            " conv2d_5 (Conv2D)              (None, 4, 4, 8)      1160        ['batch_normalization_5[0][0]']  \n",
            "                                                                                                  \n",
            " batch_normalization_6 (BatchNo  (None, 4, 4, 8)     32          ['conv2d_5[0][0]']               \n",
            " rmalization)                                                                                     \n",
            "                                                                                                  \n",
            " flatten_1 (Flatten)            (None, 128)          0           ['batch_normalization_6[0][0]']  \n",
            "                                                                                                  \n",
            " dense_2 (Dense)                (None, 300)          38700       ['flatten_1[0][0]']              \n",
            "                                                                                                  \n",
            " dense_3 (Dense)                (None, 300)          38700       ['flatten_1[0][0]']              \n",
            "                                                                                                  \n",
            " lambda_1 (Lambda)              (None, 300)          0           ['dense_2[0][0]',                \n",
            "                                                                  'dense_3[0][0]']                \n",
            "                                                                                                  \n",
            " model_4 (Functional)           (None, 32, 32, 3)    1252355     ['lambda_1[0][0]']               \n",
            "                                                                                                  \n",
            " tf.reshape_2 (TFOpLambda)      (None,)              0           ['input_3[0][0]']                \n",
            "                                                                                                  \n",
            " tf.reshape_3 (TFOpLambda)      (None,)              0           ['model_4[0][0]']                \n",
            "                                                                                                  \n",
            " tf.__operators__.add_2 (TFOpLa  (None, 300)         0           ['dense_3[0][0]']                \n",
            " mbda)                                                                                            \n",
            "                                                                                                  \n",
            " tf.math.square_3 (TFOpLambda)  (None, 300)          0           ['dense_2[0][0]']                \n",
            "                                                                                                  \n",
            " tf.math.subtract_3 (TFOpLambda  (None,)             0           ['tf.reshape_2[0][0]',           \n",
            " )                                                                'tf.reshape_3[0][0]']           \n",
            "                                                                                                  \n",
            " tf.math.subtract_4 (TFOpLambda  (None, 300)         0           ['tf.__operators__.add_2[0][0]', \n",
            " )                                                                'tf.math.square_3[0][0]']       \n",
            "                                                                                                  \n",
            " tf.math.exp_1 (TFOpLambda)     (None, 300)          0           ['dense_3[0][0]']                \n",
            "                                                                                                  \n",
            " tf.math.square_2 (TFOpLambda)  (None,)              0           ['tf.math.subtract_3[0][0]']     \n",
            "                                                                                                  \n",
            " tf.math.subtract_5 (TFOpLambda  (None, 300)         0           ['tf.math.subtract_4[0][0]',     \n",
            " )                                                                'tf.math.exp_1[0][0]']          \n",
            "                                                                                                  \n",
            " tf.math.reduce_mean_2 (TFOpLam  ()                  0           ['tf.math.square_2[0][0]']       \n",
            " bda)                                                                                             \n",
            "                                                                                                  \n",
            " tf.math.reduce_mean_3 (TFOpLam  (None,)             0           ['tf.math.subtract_5[0][0]']     \n",
            " bda)                                                                                             \n",
            "                                                                                                  \n",
            " tf.math.multiply_2 (TFOpLambda  ()                  0           ['tf.math.reduce_mean_2[0][0]']  \n",
            " )                                                                                                \n",
            "                                                                                                  \n",
            " tf.math.multiply_3 (TFOpLambda  (None,)             0           ['tf.math.reduce_mean_3[0][0]']  \n",
            " )                                                                                                \n",
            "                                                                                                  \n",
            " tf.__operators__.add_3 (TFOpLa  (None,)             0           ['tf.math.multiply_2[0][0]',     \n",
            " mbda)                                                            'tf.math.multiply_3[0][0]']     \n",
            "                                                                                                  \n",
            " add_loss_1 (AddLoss)           (None,)              0           ['tf.__operators__.add_3[0][0]'] \n",
            "                                                                                                  \n",
            "==================================================================================================\n",
            "Total params: 1,336,659\n",
            "Trainable params: 1,336,483\n",
            "Non-trainable params: 176\n",
            "__________________________________________________________________________________________________\n"
          ]
        },
        {
          "output_type": "stream",
          "name": "stderr",
          "text": [
            "\u001b[34m\u001b[1mwandb\u001b[0m: Currently logged in as: \u001b[33mcsc2231-yash-siphelele\u001b[0m (use `wandb login --relogin` to force relogin)\n"
          ]
        },
        {
          "output_type": "display_data",
          "data": {
            "text/plain": [
              "<IPython.core.display.HTML object>"
            ],
            "text/html": [
              "Tracking run with wandb version 0.12.11"
            ]
          },
          "metadata": {}
        },
        {
          "output_type": "display_data",
          "data": {
            "text/plain": [
              "<IPython.core.display.HTML object>"
            ],
            "text/html": [
              "Run data is saved locally in <code>/content/wandb/run-20220401_133217-1wy8j4ct</code>"
            ]
          },
          "metadata": {}
        },
        {
          "output_type": "display_data",
          "data": {
            "text/plain": [
              "<IPython.core.display.HTML object>"
            ],
            "text/html": [
              "Syncing run <strong><a href=\"https://wandb.ai/csc2231-yash-siphelele/autoencoders_RQ_comparison/runs/1wy8j4ct\" target=\"_blank\">Model vae_2_c</a></strong> to <a href=\"https://wandb.ai/csc2231-yash-siphelele/autoencoders_RQ_comparison\" target=\"_blank\">Weights & Biases</a> (<a href=\"https://wandb.me/run\" target=\"_blank\">docs</a>)<br/>"
            ]
          },
          "metadata": {}
        },
        {
          "output_type": "stream",
          "name": "stdout",
          "text": [
            "Epoch 1/50\n",
            "196/196 [==============================] - 15s 26ms/step - loss: 24.1130 - val_loss: 44.4906 - _timestamp: 1648819958.0000 - _runtime: 21.0000\n",
            "Epoch 2/50\n",
            "196/196 [==============================] - 4s 23ms/step - loss: 11.5708 - val_loss: 24.3547 - _timestamp: 1648819962.0000 - _runtime: 25.0000\n",
            "Epoch 3/50\n",
            "196/196 [==============================] - 4s 22ms/step - loss: 9.5190 - val_loss: 11.6109 - _timestamp: 1648819967.0000 - _runtime: 30.0000\n",
            "Epoch 4/50\n",
            "196/196 [==============================] - 4s 22ms/step - loss: 8.5544 - val_loss: 9.4180 - _timestamp: 1648819971.0000 - _runtime: 34.0000\n",
            "Epoch 5/50\n",
            "196/196 [==============================] - 4s 22ms/step - loss: 8.1158 - val_loss: 9.1853 - _timestamp: 1648819975.0000 - _runtime: 38.0000\n",
            "Epoch 6/50\n",
            "196/196 [==============================] - 4s 22ms/step - loss: 7.8196 - val_loss: 8.2644 - _timestamp: 1648819980.0000 - _runtime: 43.0000\n",
            "Epoch 7/50\n",
            "196/196 [==============================] - 4s 22ms/step - loss: 7.6139 - val_loss: 7.9501 - _timestamp: 1648819984.0000 - _runtime: 47.0000\n",
            "Epoch 8/50\n",
            "196/196 [==============================] - 4s 22ms/step - loss: 7.4938 - val_loss: 7.8199 - _timestamp: 1648819988.0000 - _runtime: 51.0000\n",
            "Epoch 9/50\n",
            "196/196 [==============================] - 4s 21ms/step - loss: 7.3815 - val_loss: 8.0699 - _timestamp: 1648819993.0000 - _runtime: 56.0000\n",
            "Epoch 10/50\n",
            "196/196 [==============================] - 5s 25ms/step - loss: 7.2994 - val_loss: 7.4915 - _timestamp: 1648819997.0000 - _runtime: 60.0000\n",
            "Epoch 11/50\n",
            "196/196 [==============================] - 5s 23ms/step - loss: 7.2190 - val_loss: 7.4284 - _timestamp: 1648820002.0000 - _runtime: 65.0000\n",
            "Epoch 12/50\n",
            "196/196 [==============================] - 4s 22ms/step - loss: 7.1694 - val_loss: 7.3259 - _timestamp: 1648820006.0000 - _runtime: 69.0000\n",
            "Epoch 13/50\n",
            "196/196 [==============================] - 5s 25ms/step - loss: 7.1139 - val_loss: 7.2019 - _timestamp: 1648820011.0000 - _runtime: 74.0000\n",
            "Epoch 14/50\n",
            "196/196 [==============================] - 4s 22ms/step - loss: 7.0541 - val_loss: 7.0972 - _timestamp: 1648820016.0000 - _runtime: 79.0000\n",
            "Epoch 15/50\n",
            "196/196 [==============================] - 4s 21ms/step - loss: 7.0028 - val_loss: 7.1017 - _timestamp: 1648820020.0000 - _runtime: 83.0000\n",
            "Epoch 16/50\n",
            "196/196 [==============================] - 4s 22ms/step - loss: 6.9591 - val_loss: 7.0763 - _timestamp: 1648820024.0000 - _runtime: 87.0000\n",
            "Epoch 17/50\n",
            "196/196 [==============================] - 4s 21ms/step - loss: 6.9052 - val_loss: 7.0918 - _timestamp: 1648820028.0000 - _runtime: 91.0000\n",
            "Epoch 18/50\n",
            "196/196 [==============================] - 5s 23ms/step - loss: 6.8572 - val_loss: 7.0284 - _timestamp: 1648820033.0000 - _runtime: 96.0000\n",
            "Epoch 19/50\n",
            "196/196 [==============================] - 4s 22ms/step - loss: 6.8188 - val_loss: 6.8862 - _timestamp: 1648820037.0000 - _runtime: 100.0000\n",
            "Epoch 20/50\n",
            "196/196 [==============================] - 4s 22ms/step - loss: 6.8028 - val_loss: 6.8581 - _timestamp: 1648820042.0000 - _runtime: 105.0000\n",
            "Epoch 21/50\n",
            "196/196 [==============================] - 4s 21ms/step - loss: 6.7720 - val_loss: 7.0994 - _timestamp: 1648820046.0000 - _runtime: 109.0000\n",
            "Epoch 22/50\n",
            "196/196 [==============================] - 4s 21ms/step - loss: 6.7359 - val_loss: 6.8729 - _timestamp: 1648820050.0000 - _runtime: 113.0000\n",
            "Epoch 23/50\n",
            "196/196 [==============================] - 4s 22ms/step - loss: 6.7013 - val_loss: 6.8353 - _timestamp: 1648820054.0000 - _runtime: 117.0000\n",
            "Epoch 24/50\n",
            "196/196 [==============================] - 4s 21ms/step - loss: 6.6553 - val_loss: 7.0271 - _timestamp: 1648820059.0000 - _runtime: 122.0000\n",
            "Epoch 25/50\n",
            "196/196 [==============================] - 4s 22ms/step - loss: 6.6480 - val_loss: 6.7796 - _timestamp: 1648820063.0000 - _runtime: 126.0000\n",
            "Epoch 26/50\n",
            "196/196 [==============================] - 4s 21ms/step - loss: 6.6424 - val_loss: 6.8257 - _timestamp: 1648820067.0000 - _runtime: 130.0000\n",
            "Epoch 27/50\n",
            "196/196 [==============================] - 4s 22ms/step - loss: 6.6127 - val_loss: 6.7749 - _timestamp: 1648820071.0000 - _runtime: 134.0000\n",
            "Epoch 28/50\n",
            "196/196 [==============================] - 5s 23ms/step - loss: 6.5904 - val_loss: 6.6966 - _timestamp: 1648820076.0000 - _runtime: 139.0000\n",
            "Epoch 29/50\n",
            "196/196 [==============================] - 4s 21ms/step - loss: 6.5799 - val_loss: 6.7868 - _timestamp: 1648820080.0000 - _runtime: 143.0000\n",
            "Epoch 30/50\n",
            "196/196 [==============================] - 4s 21ms/step - loss: 6.5571 - val_loss: 6.7100 - _timestamp: 1648820084.0000 - _runtime: 147.0000\n",
            "Epoch 31/50\n",
            "196/196 [==============================] - 4s 23ms/step - loss: 6.5293 - val_loss: 6.7224 - _timestamp: 1648820089.0000 - _runtime: 152.0000\n",
            "Epoch 32/50\n",
            "196/196 [==============================] - 4s 21ms/step - loss: 6.5130 - val_loss: 6.7037 - _timestamp: 1648820093.0000 - _runtime: 156.0000\n",
            "Epoch 33/50\n",
            "196/196 [==============================] - 4s 21ms/step - loss: 6.5105 - val_loss: 6.8012 - _timestamp: 1648820097.0000 - _runtime: 160.0000\n",
            "Epoch 34/50\n",
            "196/196 [==============================] - 4s 22ms/step - loss: 6.4818 - val_loss: 6.6680 - _timestamp: 1648820101.0000 - _runtime: 164.0000\n",
            "Epoch 35/50\n",
            "196/196 [==============================] - 4s 22ms/step - loss: 6.4676 - val_loss: 6.7024 - _timestamp: 1648820106.0000 - _runtime: 169.0000\n",
            "Epoch 36/50\n",
            "196/196 [==============================] - 4s 22ms/step - loss: 6.4649 - val_loss: 6.6259 - _timestamp: 1648820110.0000 - _runtime: 173.0000\n",
            "Epoch 37/50\n",
            "196/196 [==============================] - 4s 21ms/step - loss: 6.4285 - val_loss: 6.6946 - _timestamp: 1648820114.0000 - _runtime: 177.0000\n",
            "Epoch 38/50\n",
            "196/196 [==============================] - 4s 21ms/step - loss: 6.4136 - val_loss: 6.6655 - _timestamp: 1648820118.0000 - _runtime: 181.0000\n",
            "Epoch 39/50\n",
            "196/196 [==============================] - 4s 21ms/step - loss: 6.4085 - val_loss: 6.6455 - _timestamp: 1648820123.0000 - _runtime: 186.0000\n",
            "Epoch 40/50\n",
            "196/196 [==============================] - 4s 22ms/step - loss: 6.3855 - val_loss: 6.6228 - _timestamp: 1648820127.0000 - _runtime: 190.0000\n",
            "Epoch 41/50\n",
            "196/196 [==============================] - 4s 23ms/step - loss: 6.3802 - val_loss: 6.5796 - _timestamp: 1648820131.0000 - _runtime: 194.0000\n",
            "Epoch 42/50\n",
            "196/196 [==============================] - 4s 21ms/step - loss: 6.3627 - val_loss: 6.6274 - _timestamp: 1648820136.0000 - _runtime: 199.0000\n",
            "Epoch 43/50\n",
            "196/196 [==============================] - 4s 22ms/step - loss: 6.3614 - val_loss: 6.4969 - _timestamp: 1648820140.0000 - _runtime: 203.0000\n",
            "Epoch 44/50\n",
            "196/196 [==============================] - 4s 21ms/step - loss: 6.3377 - val_loss: 6.5429 - _timestamp: 1648820144.0000 - _runtime: 207.0000\n",
            "Epoch 45/50\n",
            "196/196 [==============================] - 4s 21ms/step - loss: 6.3439 - val_loss: 6.5142 - _timestamp: 1648820148.0000 - _runtime: 211.0000\n",
            "Epoch 46/50\n",
            "196/196 [==============================] - 4s 22ms/step - loss: 6.3246 - val_loss: 6.5471 - _timestamp: 1648820153.0000 - _runtime: 216.0000\n",
            "Epoch 47/50\n",
            "196/196 [==============================] - 4s 21ms/step - loss: 6.3182 - val_loss: 6.6237 - _timestamp: 1648820157.0000 - _runtime: 220.0000\n",
            "Epoch 48/50\n",
            "196/196 [==============================] - 5s 24ms/step - loss: 6.3056 - val_loss: 6.4693 - _timestamp: 1648820161.0000 - _runtime: 224.0000\n",
            "Epoch 49/50\n",
            "196/196 [==============================] - 4s 23ms/step - loss: 6.2896 - val_loss: 6.4546 - _timestamp: 1648820166.0000 - _runtime: 229.0000\n",
            "Epoch 50/50\n",
            "196/196 [==============================] - 5s 23ms/step - loss: 6.3029 - val_loss: 6.7084 - _timestamp: 1648820170.0000 - _runtime: 233.0000\n",
            "Avg SSIM over X_test: 0.8137717280041488\n",
            "\n"
          ]
        },
        {
          "output_type": "display_data",
          "data": {
            "text/plain": [
              "<IPython.core.display.HTML object>"
            ],
            "text/html": [
              "Waiting for W&B process to finish... <strong style=\"color:green\">(success).</strong>"
            ]
          },
          "metadata": {}
        },
        {
          "output_type": "display_data",
          "data": {
            "text/plain": [
              "VBox(children=(Label(value='15.426 MB of 15.426 MB uploaded (0.000 MB deduped)\\r'), FloatProgress(value=1.0, m…"
            ],
            "application/vnd.jupyter.widget-view+json": {
              "version_major": 2,
              "version_minor": 0,
              "model_id": "c42a8732987e49f0a0cdf8ede6458ae6"
            }
          },
          "metadata": {}
        },
        {
          "output_type": "display_data",
          "data": {
            "text/plain": [
              "<IPython.core.display.HTML object>"
            ],
            "text/html": [
              "<style>\n",
              "    table.wandb td:nth-child(1) { padding: 0 10px; text-align: right }\n",
              "    .wandb-row { display: flex; flex-direction: row; flex-wrap: wrap; width: 100% }\n",
              "    .wandb-col { display: flex; flex-direction: column; flex-basis: 100%; flex: 1; padding: 10px; }\n",
              "    </style>\n",
              "<div class=\"wandb-row\"><div class=\"wandb-col\"><h3>Run history:</h3><br/><table class=\"wandb\"><tr><td>avg_ssim_score_x_test</td><td>▁</td></tr><tr><td>epoch</td><td>▁▁▁▁▂▂▂▂▂▃▃▃▃▃▃▄▄▄▄▄▅▅▅▅▅▅▆▆▆▆▆▆▇▇▇▇▇███</td></tr><tr><td>loss</td><td>█▃▂▂▂▂▁▁▁▁▁▁▁▁▁▁▁▁▁▁▁▁▁▁▁▁▁▁▁▁▁▁▁▁▁▁▁▁▁▁</td></tr><tr><td>val_loss</td><td>█▄▂▂▁▁▁▁▁▁▁▁▁▁▁▁▁▁▁▁▁▁▁▁▁▁▁▁▁▁▁▁▁▁▁▁▁▁▁▁</td></tr></table><br/></div><div class=\"wandb-col\"><h3>Run summary:</h3><br/><table class=\"wandb\"><tr><td>avg_ssim_score_x_test</td><td>0.81377</td></tr><tr><td>best_epoch</td><td>48</td></tr><tr><td>best_val_loss</td><td>6.45458</td></tr><tr><td>epoch</td><td>49</td></tr><tr><td>loss</td><td>6.3029</td></tr><tr><td>val_loss</td><td>6.70844</td></tr></table><br/></div></div>"
            ]
          },
          "metadata": {}
        },
        {
          "output_type": "display_data",
          "data": {
            "text/plain": [
              "<IPython.core.display.HTML object>"
            ],
            "text/html": [
              "Synced <strong style=\"color:#cdcd00\">Model vae_2_c</strong>: <a href=\"https://wandb.ai/csc2231-yash-siphelele/autoencoders_RQ_comparison/runs/1wy8j4ct\" target=\"_blank\">https://wandb.ai/csc2231-yash-siphelele/autoencoders_RQ_comparison/runs/1wy8j4ct</a><br/>Synced 5 W&B file(s), 0 media file(s), 0 artifact file(s) and 1 other file(s)"
            ]
          },
          "metadata": {}
        },
        {
          "output_type": "display_data",
          "data": {
            "text/plain": [
              "<IPython.core.display.HTML object>"
            ],
            "text/html": [
              "Find logs at: <code>./wandb/run-20220401_133217-1wy8j4ct/logs</code>"
            ]
          },
          "metadata": {}
        }
      ]
    },
    {
      "cell_type": "code",
      "source": [
        ""
      ],
      "metadata": {
        "id": "R2pq_7B4T-CN"
      },
      "execution_count": null,
      "outputs": []
    },
    {
      "cell_type": "markdown",
      "source": [
        "## Exp 2.1"
      ],
      "metadata": {
        "id": "2MFt9YRtVIBD"
      }
    },
    {
      "cell_type": "code",
      "source": [
        "'''\n",
        "Model vae_2.1\n",
        "'''\n",
        "\n",
        "latent_dim = Z_DIM[2]  # Number of latent dimension parameters\n",
        "\n",
        "input_img = Input(shape=(32, 32, 3))\n",
        "\n",
        "x = Conv2D(32, (3, 3), activation='relu', padding='same', strides=2)(input_img)\n",
        "x = BatchNormalization()(x)\n",
        "\n",
        "x = Conv2D(16, (3, 3), activation='relu', padding='same', strides=2)(x)\n",
        "x = BatchNormalization()(x)\n",
        "\n",
        "x = Conv2D(16, (3, 3), activation='relu', padding='same', strides=2)(x)\n",
        "x = BatchNormalization()(x)\n",
        "\n",
        "shape_before_flattening = K.int_shape(x)\n",
        "# print(shape_before_flattening)\n",
        "x = Flatten()(x)\n",
        "\n",
        "z_mu = Dense(latent_dim)(x)\n",
        "z_log_sigma = Dense(latent_dim, kernel_initializer='zeros', bias_initializer='zeros')(x)\n",
        "\n",
        "\n",
        "# sampling function\n",
        "def sampling(args):\n",
        "    z_mu, z_log_sigma = args\n",
        "    epsilon = K.random_normal(shape=(K.shape(z_mu)[0], latent_dim),\n",
        "                              mean=0., stddev=1.)\n",
        "    return z_mu + K.exp(z_log_sigma) * epsilon\n",
        "\n",
        "# sample vector from the latent distribution\n",
        "z = Lambda(sampling)([z_mu, z_log_sigma])\n",
        "\n",
        "encoder = Model(input_img,z)\n",
        "\n",
        "# decoder takes the latent distribution sample as input\n",
        "decoder_input = Input(K.int_shape(z)[1:])\n",
        "x = Dense(4096, activation='relu', name=\"intermediate_decoder\", input_shape=(latent_dim,))(decoder_input)\n",
        "x = Reshape((8,8,64))(x)\n",
        "\n",
        "x = Conv2DTranspose(32, (3, 3),strides= 2, padding='same')(x)\n",
        "x = BatchNormalization()(x)\n",
        "\n",
        "# x = Conv2DTranspose(16, (3, 3),strides= 2, padding='same')(x)\n",
        "# x = BatchNormalization()(x)\n",
        "\n",
        "# x = Conv2DTranspose(8, (3, 3),strides= 2, padding='same')(x)\n",
        "# x = BatchNormalization()(x)\n",
        "\n",
        "x = Conv2DTranspose(3, (3, 3),strides= 2, padding='same', activation='sigmoid')(x)\n",
        "\n",
        "\n",
        "# decoder model statement\n",
        "decoder = Model(decoder_input, x)\n",
        "\n",
        "# apply the decoder to the sample from the latent distribution\n",
        "pred = decoder(z)\n",
        "\n",
        "\n",
        "def vae_loss(x, pred):\n",
        "    x = K.flatten(x)\n",
        "    pred = K.flatten(pred)\n",
        "    # Reconstruction loss\n",
        "    #reconst_loss = 100 * binary_crossentropy(x, pred)\n",
        "    reconst_loss = 1000*K.mean(K.square(x - pred))\n",
        "    \n",
        "    # KL divergence\n",
        "    kl_loss = -0.5 * K.mean(1 + z_log_sigma - K.square(z_mu) - K.exp(z_log_sigma), axis=-1)\n",
        "    \n",
        "    return (reconst_loss + kl_loss)\n",
        "\n",
        "\n",
        "# VAE model statement\n",
        "vae = Model(input_img, pred)\n",
        "vae.add_loss(vae_loss(input_img,pred))\n",
        "optimizer = Adam(learning_rate=0.0005)\n",
        "vae.compile(optimizer=optimizer, loss=None)\n",
        "\n",
        "vae.summary()\n",
        "\n",
        "\n",
        "# fit and track the model \n",
        "fit_model_and_log_metrics(\"Model vae_2.1_c\", \"With maxpooling, convtranspose, dense, and flatten\", vae, 50, 256)"
      ],
      "metadata": {
        "colab": {
          "base_uri": "https://localhost:8080/",
          "height": 1000,
          "referenced_widgets": [
            "81ccc0a1c5ed4e799196d13c36505198",
            "7f9213cd498344309873fac34fb77039",
            "74700589ce5e4d25b2ce47a616645a81",
            "453501dd6d6b4408a31d4b3af0fd5221",
            "4e37b83dc383465ea749682833dc6801",
            "ed3d83abbb514574aabfe1e6a5988af2",
            "8bf33a69132a4cc693b308ea259a8c83",
            "dd6735dfca4646c7ac2185a9cdbdf405"
          ]
        },
        "id": "_e4RTiOEVJc4",
        "outputId": "03ee78b1-6e48-4d97-de3d-8f9e4e43bad0"
      },
      "execution_count": null,
      "outputs": [
        {
          "output_type": "stream",
          "name": "stdout",
          "text": [
            "Model: \"model_8\"\n",
            "__________________________________________________________________________________________________\n",
            " Layer (type)                   Output Shape         Param #     Connected to                     \n",
            "==================================================================================================\n",
            " input_5 (InputLayer)           [(None, 32, 32, 3)]  0           []                               \n",
            "                                                                                                  \n",
            " conv2d_6 (Conv2D)              (None, 16, 16, 32)   896         ['input_5[0][0]']                \n",
            "                                                                                                  \n",
            " batch_normalization_8 (BatchNo  (None, 16, 16, 32)  128         ['conv2d_6[0][0]']               \n",
            " rmalization)                                                                                     \n",
            "                                                                                                  \n",
            " conv2d_7 (Conv2D)              (None, 8, 8, 16)     4624        ['batch_normalization_8[0][0]']  \n",
            "                                                                                                  \n",
            " batch_normalization_9 (BatchNo  (None, 8, 8, 16)    64          ['conv2d_7[0][0]']               \n",
            " rmalization)                                                                                     \n",
            "                                                                                                  \n",
            " conv2d_8 (Conv2D)              (None, 4, 4, 16)     2320        ['batch_normalization_9[0][0]']  \n",
            "                                                                                                  \n",
            " batch_normalization_10 (BatchN  (None, 4, 4, 16)    64          ['conv2d_8[0][0]']               \n",
            " ormalization)                                                                                    \n",
            "                                                                                                  \n",
            " flatten_2 (Flatten)            (None, 256)          0           ['batch_normalization_10[0][0]'] \n",
            "                                                                                                  \n",
            " dense_4 (Dense)                (None, 300)          77100       ['flatten_2[0][0]']              \n",
            "                                                                                                  \n",
            " dense_5 (Dense)                (None, 300)          77100       ['flatten_2[0][0]']              \n",
            "                                                                                                  \n",
            " lambda_2 (Lambda)              (None, 300)          0           ['dense_4[0][0]',                \n",
            "                                                                  'dense_5[0][0]']                \n",
            "                                                                                                  \n",
            " model_7 (Functional)           (None, 32, 32, 3)    1252355     ['lambda_2[0][0]']               \n",
            "                                                                                                  \n",
            " tf.reshape_4 (TFOpLambda)      (None,)              0           ['input_5[0][0]']                \n",
            "                                                                                                  \n",
            " tf.reshape_5 (TFOpLambda)      (None,)              0           ['model_7[0][0]']                \n",
            "                                                                                                  \n",
            " tf.__operators__.add_4 (TFOpLa  (None, 300)         0           ['dense_5[0][0]']                \n",
            " mbda)                                                                                            \n",
            "                                                                                                  \n",
            " tf.math.square_5 (TFOpLambda)  (None, 300)          0           ['dense_4[0][0]']                \n",
            "                                                                                                  \n",
            " tf.math.subtract_6 (TFOpLambda  (None,)             0           ['tf.reshape_4[0][0]',           \n",
            " )                                                                'tf.reshape_5[0][0]']           \n",
            "                                                                                                  \n",
            " tf.math.subtract_7 (TFOpLambda  (None, 300)         0           ['tf.__operators__.add_4[0][0]', \n",
            " )                                                                'tf.math.square_5[0][0]']       \n",
            "                                                                                                  \n",
            " tf.math.exp_2 (TFOpLambda)     (None, 300)          0           ['dense_5[0][0]']                \n",
            "                                                                                                  \n",
            " tf.math.square_4 (TFOpLambda)  (None,)              0           ['tf.math.subtract_6[0][0]']     \n",
            "                                                                                                  \n",
            " tf.math.subtract_8 (TFOpLambda  (None, 300)         0           ['tf.math.subtract_7[0][0]',     \n",
            " )                                                                'tf.math.exp_2[0][0]']          \n",
            "                                                                                                  \n",
            " tf.math.reduce_mean_4 (TFOpLam  ()                  0           ['tf.math.square_4[0][0]']       \n",
            " bda)                                                                                             \n",
            "                                                                                                  \n",
            " tf.math.reduce_mean_5 (TFOpLam  (None,)             0           ['tf.math.subtract_8[0][0]']     \n",
            " bda)                                                                                             \n",
            "                                                                                                  \n",
            " tf.math.multiply_4 (TFOpLambda  ()                  0           ['tf.math.reduce_mean_4[0][0]']  \n",
            " )                                                                                                \n",
            "                                                                                                  \n",
            " tf.math.multiply_5 (TFOpLambda  (None,)             0           ['tf.math.reduce_mean_5[0][0]']  \n",
            " )                                                                                                \n",
            "                                                                                                  \n",
            " tf.__operators__.add_5 (TFOpLa  (None,)             0           ['tf.math.multiply_4[0][0]',     \n",
            " mbda)                                                            'tf.math.multiply_5[0][0]']     \n",
            "                                                                                                  \n",
            " add_loss_2 (AddLoss)           (None,)              0           ['tf.__operators__.add_5[0][0]'] \n",
            "                                                                                                  \n",
            "==================================================================================================\n",
            "Total params: 1,414,651\n",
            "Trainable params: 1,414,459\n",
            "Non-trainable params: 192\n",
            "__________________________________________________________________________________________________\n"
          ]
        },
        {
          "output_type": "display_data",
          "data": {
            "text/plain": [
              "<IPython.core.display.HTML object>"
            ],
            "text/html": [
              "Tracking run with wandb version 0.12.11"
            ]
          },
          "metadata": {}
        },
        {
          "output_type": "display_data",
          "data": {
            "text/plain": [
              "<IPython.core.display.HTML object>"
            ],
            "text/html": [
              "Run data is saved locally in <code>/content/wandb/run-20220401_133825-38e1dk72</code>"
            ]
          },
          "metadata": {}
        },
        {
          "output_type": "display_data",
          "data": {
            "text/plain": [
              "<IPython.core.display.HTML object>"
            ],
            "text/html": [
              "Syncing run <strong><a href=\"https://wandb.ai/csc2231-yash-siphelele/autoencoders_RQ_comparison/runs/38e1dk72\" target=\"_blank\">Model vae_2.1_c</a></strong> to <a href=\"https://wandb.ai/csc2231-yash-siphelele/autoencoders_RQ_comparison\" target=\"_blank\">Weights & Biases</a> (<a href=\"https://wandb.me/run\" target=\"_blank\">docs</a>)<br/>"
            ]
          },
          "metadata": {}
        },
        {
          "output_type": "stream",
          "name": "stdout",
          "text": [
            "Epoch 1/50\n",
            "196/196 [==============================] - 6s 25ms/step - loss: 23.7102 - val_loss: 34.1079 - _timestamp: 1648820318.0000 - _runtime: 12.0000\n",
            "Epoch 2/50\n",
            "196/196 [==============================] - 5s 24ms/step - loss: 10.8032 - val_loss: 16.0269 - _timestamp: 1648820322.0000 - _runtime: 16.0000\n",
            "Epoch 3/50\n",
            "196/196 [==============================] - 4s 22ms/step - loss: 8.4434 - val_loss: 12.0435 - _timestamp: 1648820327.0000 - _runtime: 21.0000\n",
            "Epoch 4/50\n",
            "196/196 [==============================] - 4s 22ms/step - loss: 7.3104 - val_loss: 8.3705 - _timestamp: 1648820331.0000 - _runtime: 25.0000\n",
            "Epoch 5/50\n",
            "196/196 [==============================] - 4s 22ms/step - loss: 6.7593 - val_loss: 7.5904 - _timestamp: 1648820335.0000 - _runtime: 29.0000\n",
            "Epoch 6/50\n",
            "196/196 [==============================] - 5s 24ms/step - loss: 6.3568 - val_loss: 6.7037 - _timestamp: 1648820340.0000 - _runtime: 34.0000\n",
            "Epoch 7/50\n",
            "196/196 [==============================] - 4s 22ms/step - loss: 6.0302 - val_loss: 6.3355 - _timestamp: 1648820344.0000 - _runtime: 38.0000\n",
            "Epoch 8/50\n",
            "196/196 [==============================] - 4s 21ms/step - loss: 5.7807 - val_loss: 6.4327 - _timestamp: 1648820348.0000 - _runtime: 42.0000\n",
            "Epoch 9/50\n",
            "196/196 [==============================] - 4s 22ms/step - loss: 5.5684 - val_loss: 5.9131 - _timestamp: 1648820353.0000 - _runtime: 47.0000\n",
            "Epoch 10/50\n",
            "196/196 [==============================] - 4s 22ms/step - loss: 5.4314 - val_loss: 5.5495 - _timestamp: 1648820357.0000 - _runtime: 51.0000\n",
            "Epoch 11/50\n",
            "196/196 [==============================] - 4s 22ms/step - loss: 5.2916 - val_loss: 5.4160 - _timestamp: 1648820361.0000 - _runtime: 55.0000\n",
            "Epoch 12/50\n",
            "196/196 [==============================] - 5s 24ms/step - loss: 5.1979 - val_loss: 5.2591 - _timestamp: 1648820366.0000 - _runtime: 60.0000\n",
            "Epoch 13/50\n",
            "196/196 [==============================] - 4s 22ms/step - loss: 5.0874 - val_loss: 5.1099 - _timestamp: 1648820370.0000 - _runtime: 64.0000\n",
            "Epoch 14/50\n",
            "196/196 [==============================] - 4s 22ms/step - loss: 5.0028 - val_loss: 5.0122 - _timestamp: 1648820374.0000 - _runtime: 68.0000\n",
            "Epoch 15/50\n",
            "196/196 [==============================] - 4s 22ms/step - loss: 4.9170 - val_loss: 4.9656 - _timestamp: 1648820379.0000 - _runtime: 73.0000\n",
            "Epoch 16/50\n",
            "196/196 [==============================] - 4s 22ms/step - loss: 4.8934 - val_loss: 4.9529 - _timestamp: 1648820383.0000 - _runtime: 77.0000\n",
            "Epoch 17/50\n",
            "196/196 [==============================] - 4s 22ms/step - loss: 4.8412 - val_loss: 4.8381 - _timestamp: 1648820387.0000 - _runtime: 81.0000\n",
            "Epoch 18/50\n",
            "196/196 [==============================] - 4s 21ms/step - loss: 4.7797 - val_loss: 4.8855 - _timestamp: 1648820392.0000 - _runtime: 86.0000\n",
            "Epoch 19/50\n",
            "196/196 [==============================] - 4s 22ms/step - loss: 4.7547 - val_loss: 4.8605 - _timestamp: 1648820396.0000 - _runtime: 90.0000\n",
            "Epoch 20/50\n",
            "196/196 [==============================] - 4s 22ms/step - loss: 4.7080 - val_loss: 4.7523 - _timestamp: 1648820400.0000 - _runtime: 94.0000\n",
            "Epoch 21/50\n",
            "196/196 [==============================] - 4s 21ms/step - loss: 4.6701 - val_loss: 4.8180 - _timestamp: 1648820405.0000 - _runtime: 99.0000\n",
            "Epoch 22/50\n",
            "196/196 [==============================] - 4s 22ms/step - loss: 4.6494 - val_loss: 4.6893 - _timestamp: 1648820409.0000 - _runtime: 103.0000\n",
            "Epoch 23/50\n",
            "196/196 [==============================] - 4s 22ms/step - loss: 4.6342 - val_loss: 4.6329 - _timestamp: 1648820413.0000 - _runtime: 107.0000\n",
            "Epoch 24/50\n",
            "196/196 [==============================] - 4s 22ms/step - loss: 4.6004 - val_loss: 4.6285 - _timestamp: 1648820418.0000 - _runtime: 112.0000\n",
            "Epoch 25/50\n",
            "196/196 [==============================] - 5s 23ms/step - loss: 4.5829 - val_loss: 4.6299 - _timestamp: 1648820422.0000 - _runtime: 116.0000\n",
            "Epoch 26/50\n",
            "196/196 [==============================] - 4s 23ms/step - loss: 4.5511 - val_loss: 4.6186 - _timestamp: 1648820427.0000 - _runtime: 121.0000\n",
            "Epoch 27/50\n",
            "196/196 [==============================] - 4s 22ms/step - loss: 4.5404 - val_loss: 4.5884 - _timestamp: 1648820431.0000 - _runtime: 125.0000\n",
            "Epoch 28/50\n",
            "196/196 [==============================] - 4s 21ms/step - loss: 4.5264 - val_loss: 4.6946 - _timestamp: 1648820435.0000 - _runtime: 129.0000\n",
            "Epoch 29/50\n",
            "196/196 [==============================] - 4s 22ms/step - loss: 4.5191 - val_loss: 4.5394 - _timestamp: 1648820439.0000 - _runtime: 133.0000\n",
            "Epoch 30/50\n",
            "196/196 [==============================] - 4s 21ms/step - loss: 4.4799 - val_loss: 4.6009 - _timestamp: 1648820444.0000 - _runtime: 138.0000\n",
            "Epoch 31/50\n",
            "196/196 [==============================] - 4s 21ms/step - loss: 4.4813 - val_loss: 4.6443 - _timestamp: 1648820448.0000 - _runtime: 142.0000\n",
            "Epoch 32/50\n",
            "196/196 [==============================] - 4s 21ms/step - loss: 4.4847 - val_loss: 4.6334 - _timestamp: 1648820452.0000 - _runtime: 146.0000\n",
            "Epoch 33/50\n",
            "196/196 [==============================] - 4s 21ms/step - loss: 4.4668 - val_loss: 4.5781 - _timestamp: 1648820456.0000 - _runtime: 150.0000\n",
            "Epoch 34/50\n",
            "196/196 [==============================] - 4s 21ms/step - loss: 4.4625 - val_loss: 4.5549 - _timestamp: 1648820461.0000 - _runtime: 155.0000\n",
            "Epoch 35/50\n",
            "196/196 [==============================] - 4s 22ms/step - loss: 4.4330 - val_loss: 4.4882 - _timestamp: 1648820465.0000 - _runtime: 159.0000\n",
            "Epoch 36/50\n",
            "196/196 [==============================] - 4s 21ms/step - loss: 4.4336 - val_loss: 4.5664 - _timestamp: 1648820469.0000 - _runtime: 163.0000\n",
            "Epoch 37/50\n",
            "196/196 [==============================] - 4s 21ms/step - loss: 4.4246 - val_loss: 4.6549 - _timestamp: 1648820473.0000 - _runtime: 167.0000\n",
            "Epoch 38/50\n",
            "196/196 [==============================] - 4s 22ms/step - loss: 4.3936 - val_loss: 4.5562 - _timestamp: 1648820478.0000 - _runtime: 172.0000\n",
            "Epoch 39/50\n",
            "196/196 [==============================] - 4s 21ms/step - loss: 4.3973 - val_loss: 4.4988 - _timestamp: 1648820482.0000 - _runtime: 176.0000\n",
            "Epoch 40/50\n",
            "196/196 [==============================] - 4s 22ms/step - loss: 4.3876 - val_loss: 4.6128 - _timestamp: 1648820486.0000 - _runtime: 180.0000\n",
            "Epoch 41/50\n",
            "196/196 [==============================] - 4s 21ms/step - loss: 4.3984 - val_loss: 4.4964 - _timestamp: 1648820490.0000 - _runtime: 184.0000\n",
            "Epoch 42/50\n",
            "196/196 [==============================] - 4s 22ms/step - loss: 4.3710 - val_loss: 4.4846 - _timestamp: 1648820494.0000 - _runtime: 188.0000\n",
            "Epoch 43/50\n",
            "196/196 [==============================] - 4s 22ms/step - loss: 4.3829 - val_loss: 4.4544 - _timestamp: 1648820499.0000 - _runtime: 193.0000\n",
            "Epoch 44/50\n",
            "196/196 [==============================] - 4s 22ms/step - loss: 4.3609 - val_loss: 4.4302 - _timestamp: 1648820503.0000 - _runtime: 197.0000\n",
            "Epoch 45/50\n",
            "196/196 [==============================] - 4s 22ms/step - loss: 4.3419 - val_loss: 4.4507 - _timestamp: 1648820507.0000 - _runtime: 201.0000\n",
            "Epoch 46/50\n",
            "196/196 [==============================] - 4s 22ms/step - loss: 4.3410 - val_loss: 4.5862 - _timestamp: 1648820512.0000 - _runtime: 206.0000\n",
            "Epoch 47/50\n",
            "196/196 [==============================] - 4s 22ms/step - loss: 4.3267 - val_loss: 4.4108 - _timestamp: 1648820516.0000 - _runtime: 210.0000\n",
            "Epoch 48/50\n",
            "196/196 [==============================] - 4s 22ms/step - loss: 4.3275 - val_loss: 4.4373 - _timestamp: 1648820520.0000 - _runtime: 214.0000\n",
            "Epoch 49/50\n",
            "196/196 [==============================] - 4s 22ms/step - loss: 4.3122 - val_loss: 4.4490 - _timestamp: 1648820524.0000 - _runtime: 218.0000\n",
            "Epoch 50/50\n",
            "196/196 [==============================] - 4s 22ms/step - loss: 4.3046 - val_loss: 4.5056 - _timestamp: 1648820529.0000 - _runtime: 223.0000\n",
            "Avg SSIM over X_test: 0.8843921322669099\n",
            "\n"
          ]
        },
        {
          "output_type": "display_data",
          "data": {
            "text/plain": [
              "<IPython.core.display.HTML object>"
            ],
            "text/html": [
              "Waiting for W&B process to finish... <strong style=\"color:green\">(success).</strong>"
            ]
          },
          "metadata": {}
        },
        {
          "output_type": "display_data",
          "data": {
            "text/plain": [
              "VBox(children=(Label(value='16.318 MB of 16.318 MB uploaded (0.000 MB deduped)\\r'), FloatProgress(value=1.0, m…"
            ],
            "application/vnd.jupyter.widget-view+json": {
              "version_major": 2,
              "version_minor": 0,
              "model_id": "81ccc0a1c5ed4e799196d13c36505198"
            }
          },
          "metadata": {}
        },
        {
          "output_type": "display_data",
          "data": {
            "text/plain": [
              "<IPython.core.display.HTML object>"
            ],
            "text/html": [
              "<style>\n",
              "    table.wandb td:nth-child(1) { padding: 0 10px; text-align: right }\n",
              "    .wandb-row { display: flex; flex-direction: row; flex-wrap: wrap; width: 100% }\n",
              "    .wandb-col { display: flex; flex-direction: column; flex-basis: 100%; flex: 1; padding: 10px; }\n",
              "    </style>\n",
              "<div class=\"wandb-row\"><div class=\"wandb-col\"><h3>Run history:</h3><br/><table class=\"wandb\"><tr><td>avg_ssim_score_x_test</td><td>▁</td></tr><tr><td>epoch</td><td>▁▁▁▁▂▂▂▂▂▃▃▃▃▃▃▄▄▄▄▄▅▅▅▅▅▅▆▆▆▆▆▆▇▇▇▇▇███</td></tr><tr><td>loss</td><td>█▃▂▂▂▂▂▁▁▁▁▁▁▁▁▁▁▁▁▁▁▁▁▁▁▁▁▁▁▁▁▁▁▁▁▁▁▁▁▁</td></tr><tr><td>val_loss</td><td>█▄▃▂▂▁▁▁▁▁▁▁▁▁▁▁▁▁▁▁▁▁▁▁▁▁▁▁▁▁▁▁▁▁▁▁▁▁▁▁</td></tr></table><br/></div><div class=\"wandb-col\"><h3>Run summary:</h3><br/><table class=\"wandb\"><tr><td>avg_ssim_score_x_test</td><td>0.88439</td></tr><tr><td>best_epoch</td><td>46</td></tr><tr><td>best_val_loss</td><td>4.41076</td></tr><tr><td>epoch</td><td>49</td></tr><tr><td>loss</td><td>4.30456</td></tr><tr><td>val_loss</td><td>4.50556</td></tr></table><br/></div></div>"
            ]
          },
          "metadata": {}
        },
        {
          "output_type": "display_data",
          "data": {
            "text/plain": [
              "<IPython.core.display.HTML object>"
            ],
            "text/html": [
              "Synced <strong style=\"color:#cdcd00\">Model vae_2.1_c</strong>: <a href=\"https://wandb.ai/csc2231-yash-siphelele/autoencoders_RQ_comparison/runs/38e1dk72\" target=\"_blank\">https://wandb.ai/csc2231-yash-siphelele/autoencoders_RQ_comparison/runs/38e1dk72</a><br/>Synced 5 W&B file(s), 0 media file(s), 0 artifact file(s) and 1 other file(s)"
            ]
          },
          "metadata": {}
        },
        {
          "output_type": "display_data",
          "data": {
            "text/plain": [
              "<IPython.core.display.HTML object>"
            ],
            "text/html": [
              "Find logs at: <code>./wandb/run-20220401_133825-38e1dk72/logs</code>"
            ]
          },
          "metadata": {}
        }
      ]
    },
    {
      "cell_type": "markdown",
      "source": [
        "## Exp 3"
      ],
      "metadata": {
        "id": "teFy_06KXuWC"
      }
    },
    {
      "cell_type": "code",
      "source": [
        "'''\n",
        "Model vae_3\n",
        "'''\n",
        "\n",
        "latent_dim = Z_DIM[2]  # Number of latent dimension parameters\n",
        "\n",
        "input_img = Input(shape=(32, 32, 3))\n",
        "\n",
        "x = Conv2D(32, (3, 3), activation='relu', padding='same', strides=2)(input_img)\n",
        "x = BatchNormalization()(x)\n",
        "\n",
        "x = Conv2D(16, (3, 3), activation='relu', padding='same', strides=2)(x)\n",
        "x = BatchNormalization()(x)\n",
        "\n",
        "x = Conv2D(16, (3, 3), activation='relu', padding='same', strides=2)(x)\n",
        "x = BatchNormalization()(x)\n",
        "\n",
        "shape_before_flattening = K.int_shape(x)\n",
        "# print(shape_before_flattening)\n",
        "x = Flatten()(x)\n",
        "\n",
        "z_mu = Dense(latent_dim)(x)\n",
        "z_log_sigma = Dense(latent_dim, kernel_initializer='zeros', bias_initializer='zeros')(x)\n",
        "\n",
        "\n",
        "# sampling function\n",
        "def sampling(args):\n",
        "    z_mu, z_log_sigma = args\n",
        "    epsilon = K.random_normal(shape=(K.shape(z_mu)[0], latent_dim),\n",
        "                              mean=0., stddev=1.)\n",
        "    return z_mu + K.exp(z_log_sigma) * epsilon\n",
        "\n",
        "# sample vector from the latent distribution\n",
        "z = Lambda(sampling)([z_mu, z_log_sigma])\n",
        "\n",
        "encoder = Model(input_img,z)\n",
        "\n",
        "# decoder takes the latent distribution sample as input\n",
        "decoder_input = Input(K.int_shape(z)[1:])\n",
        "x = Dense(4096, activation='relu', name=\"intermediate_decoder\", input_shape=(latent_dim,))(decoder_input)\n",
        "x = Reshape((8,8,64))(x)\n",
        "\n",
        "x = Conv2DTranspose(32, (3, 3),strides= 2, padding='same')(x)\n",
        "x = BatchNormalization()(x)\n",
        "\n",
        "# x = Conv2DTranspose(16, (3, 3),strides= 2, padding='same')(x)\n",
        "# x = BatchNormalization()(x)\n",
        "\n",
        "# x = Conv2DTranspose(8, (3, 3),strides= 2, padding='same')(x)\n",
        "# x = BatchNormalization()(x)\n",
        "\n",
        "x = Conv2DTranspose(3, (3, 3),strides= 2, padding='same', activation='sigmoid')(x)\n",
        "\n",
        "\n",
        "# decoder model statement\n",
        "decoder = Model(decoder_input, x)\n",
        "\n",
        "# apply the decoder to the sample from the latent distribution\n",
        "pred = decoder(z)\n",
        "\n",
        "\n",
        "def vae_loss(x, pred):\n",
        "    x = K.flatten(x)\n",
        "    pred = K.flatten(pred)\n",
        "    # Reconstruction loss\n",
        "    #reconst_loss = 100 * binary_crossentropy(x, pred)\n",
        "    reconst_loss = 1000*K.mean(K.square(x - pred))\n",
        "    \n",
        "    # KL divergence\n",
        "    kl_loss = -0.5 * K.mean(1 + z_log_sigma - K.square(z_mu) - K.exp(z_log_sigma), axis=-1)\n",
        "    \n",
        "    return (reconst_loss + kl_loss)\n",
        "\n",
        "\n",
        "# VAE model statement\n",
        "vae = Model(input_img, pred)\n",
        "vae.add_loss(vae_loss(input_img,pred))\n",
        "optimizer = Adam(learning_rate=LEARNING_RATES[1])\n",
        "vae.compile(optimizer=optimizer, loss=None)\n",
        "\n",
        "vae.summary()\n",
        "\n",
        "\n",
        "# fit and track the model \n",
        "fit_model_and_log_metrics(\"Model vae_3_c\", \"With maxpooling, convtranspose, dense, and flatten\", vae, 50, 256)"
      ],
      "metadata": {
        "colab": {
          "base_uri": "https://localhost:8080/",
          "height": 1000,
          "referenced_widgets": [
            "f17b4fdee44c483c9c8a647139022e9c",
            "04e2a3b2a23d4aa18efaf36abc46ec81",
            "1dd3f193648c43e598898b954521ce58",
            "64cbdeeb9c7f4bc4bfcb9bb08ac0718b",
            "47a10cb4aea0410a82584349952e6e54",
            "efbd1bfbbe4e4edb9942b3f4cb587727",
            "8ba258ab171344559928b3e5246c28b7",
            "eac083e69fd04a9ea9ff5f30572c6a73"
          ]
        },
        "id": "xYAv6QofXwQ-",
        "outputId": "cf13bd66-096c-44bb-c8f7-2586d1a82f96"
      },
      "execution_count": null,
      "outputs": [
        {
          "output_type": "stream",
          "name": "stdout",
          "text": [
            "Model: \"model_11\"\n",
            "__________________________________________________________________________________________________\n",
            " Layer (type)                   Output Shape         Param #     Connected to                     \n",
            "==================================================================================================\n",
            " input_7 (InputLayer)           [(None, 32, 32, 3)]  0           []                               \n",
            "                                                                                                  \n",
            " conv2d_9 (Conv2D)              (None, 16, 16, 32)   896         ['input_7[0][0]']                \n",
            "                                                                                                  \n",
            " batch_normalization_12 (BatchN  (None, 16, 16, 32)  128         ['conv2d_9[0][0]']               \n",
            " ormalization)                                                                                    \n",
            "                                                                                                  \n",
            " conv2d_10 (Conv2D)             (None, 8, 8, 16)     4624        ['batch_normalization_12[0][0]'] \n",
            "                                                                                                  \n",
            " batch_normalization_13 (BatchN  (None, 8, 8, 16)    64          ['conv2d_10[0][0]']              \n",
            " ormalization)                                                                                    \n",
            "                                                                                                  \n",
            " conv2d_11 (Conv2D)             (None, 4, 4, 16)     2320        ['batch_normalization_13[0][0]'] \n",
            "                                                                                                  \n",
            " batch_normalization_14 (BatchN  (None, 4, 4, 16)    64          ['conv2d_11[0][0]']              \n",
            " ormalization)                                                                                    \n",
            "                                                                                                  \n",
            " flatten_3 (Flatten)            (None, 256)          0           ['batch_normalization_14[0][0]'] \n",
            "                                                                                                  \n",
            " dense_6 (Dense)                (None, 300)          77100       ['flatten_3[0][0]']              \n",
            "                                                                                                  \n",
            " dense_7 (Dense)                (None, 300)          77100       ['flatten_3[0][0]']              \n",
            "                                                                                                  \n",
            " lambda_3 (Lambda)              (None, 300)          0           ['dense_6[0][0]',                \n",
            "                                                                  'dense_7[0][0]']                \n",
            "                                                                                                  \n",
            " model_10 (Functional)          (None, 32, 32, 3)    1252355     ['lambda_3[0][0]']               \n",
            "                                                                                                  \n",
            " tf.reshape_6 (TFOpLambda)      (None,)              0           ['input_7[0][0]']                \n",
            "                                                                                                  \n",
            " tf.reshape_7 (TFOpLambda)      (None,)              0           ['model_10[0][0]']               \n",
            "                                                                                                  \n",
            " tf.__operators__.add_6 (TFOpLa  (None, 300)         0           ['dense_7[0][0]']                \n",
            " mbda)                                                                                            \n",
            "                                                                                                  \n",
            " tf.math.square_7 (TFOpLambda)  (None, 300)          0           ['dense_6[0][0]']                \n",
            "                                                                                                  \n",
            " tf.math.subtract_9 (TFOpLambda  (None,)             0           ['tf.reshape_6[0][0]',           \n",
            " )                                                                'tf.reshape_7[0][0]']           \n",
            "                                                                                                  \n",
            " tf.math.subtract_10 (TFOpLambd  (None, 300)         0           ['tf.__operators__.add_6[0][0]', \n",
            " a)                                                               'tf.math.square_7[0][0]']       \n",
            "                                                                                                  \n",
            " tf.math.exp_3 (TFOpLambda)     (None, 300)          0           ['dense_7[0][0]']                \n",
            "                                                                                                  \n",
            " tf.math.square_6 (TFOpLambda)  (None,)              0           ['tf.math.subtract_9[0][0]']     \n",
            "                                                                                                  \n",
            " tf.math.subtract_11 (TFOpLambd  (None, 300)         0           ['tf.math.subtract_10[0][0]',    \n",
            " a)                                                               'tf.math.exp_3[0][0]']          \n",
            "                                                                                                  \n",
            " tf.math.reduce_mean_6 (TFOpLam  ()                  0           ['tf.math.square_6[0][0]']       \n",
            " bda)                                                                                             \n",
            "                                                                                                  \n",
            " tf.math.reduce_mean_7 (TFOpLam  (None,)             0           ['tf.math.subtract_11[0][0]']    \n",
            " bda)                                                                                             \n",
            "                                                                                                  \n",
            " tf.math.multiply_6 (TFOpLambda  ()                  0           ['tf.math.reduce_mean_6[0][0]']  \n",
            " )                                                                                                \n",
            "                                                                                                  \n",
            " tf.math.multiply_7 (TFOpLambda  (None,)             0           ['tf.math.reduce_mean_7[0][0]']  \n",
            " )                                                                                                \n",
            "                                                                                                  \n",
            " tf.__operators__.add_7 (TFOpLa  (None,)             0           ['tf.math.multiply_6[0][0]',     \n",
            " mbda)                                                            'tf.math.multiply_7[0][0]']     \n",
            "                                                                                                  \n",
            " add_loss_3 (AddLoss)           (None,)              0           ['tf.__operators__.add_7[0][0]'] \n",
            "                                                                                                  \n",
            "==================================================================================================\n",
            "Total params: 1,414,651\n",
            "Trainable params: 1,414,459\n",
            "Non-trainable params: 192\n",
            "__________________________________________________________________________________________________\n"
          ]
        },
        {
          "output_type": "display_data",
          "data": {
            "text/plain": [
              "<IPython.core.display.HTML object>"
            ],
            "text/html": [
              "Tracking run with wandb version 0.12.11"
            ]
          },
          "metadata": {}
        },
        {
          "output_type": "display_data",
          "data": {
            "text/plain": [
              "<IPython.core.display.HTML object>"
            ],
            "text/html": [
              "Run data is saved locally in <code>/content/wandb/run-20220401_134805-1e1bfpta</code>"
            ]
          },
          "metadata": {}
        },
        {
          "output_type": "display_data",
          "data": {
            "text/plain": [
              "<IPython.core.display.HTML object>"
            ],
            "text/html": [
              "Syncing run <strong><a href=\"https://wandb.ai/csc2231-yash-siphelele/autoencoders_RQ_comparison/runs/1e1bfpta\" target=\"_blank\">Model vae_3_c</a></strong> to <a href=\"https://wandb.ai/csc2231-yash-siphelele/autoencoders_RQ_comparison\" target=\"_blank\">Weights & Biases</a> (<a href=\"https://wandb.me/run\" target=\"_blank\">docs</a>)<br/>"
            ]
          },
          "metadata": {}
        },
        {
          "output_type": "stream",
          "name": "stdout",
          "text": [
            "Epoch 1/50\n",
            "196/196 [==============================] - 6s 25ms/step - loss: 16.8039 - val_loss: 32.1823 - _timestamp: 1648820897.0000 - _runtime: 12.0000\n",
            "Epoch 2/50\n",
            "196/196 [==============================] - 4s 22ms/step - loss: 8.0690 - val_loss: 21.4717 - _timestamp: 1648820901.0000 - _runtime: 16.0000\n",
            "Epoch 3/50\n",
            "196/196 [==============================] - 5s 23ms/step - loss: 6.4910 - val_loss: 11.1096 - _timestamp: 1648820905.0000 - _runtime: 20.0000\n",
            "Epoch 4/50\n",
            "196/196 [==============================] - 4s 22ms/step - loss: 5.7949 - val_loss: 8.5129 - _timestamp: 1648820910.0000 - _runtime: 25.0000\n",
            "Epoch 5/50\n",
            "196/196 [==============================] - 4s 22ms/step - loss: 5.3870 - val_loss: 7.2107 - _timestamp: 1648820914.0000 - _runtime: 29.0000\n",
            "Epoch 6/50\n",
            "196/196 [==============================] - 4s 22ms/step - loss: 5.1019 - val_loss: 6.8016 - _timestamp: 1648820918.0000 - _runtime: 33.0000\n",
            "Epoch 7/50\n",
            "196/196 [==============================] - 4s 22ms/step - loss: 4.9217 - val_loss: 6.1852 - _timestamp: 1648820923.0000 - _runtime: 38.0000\n",
            "Epoch 8/50\n",
            "196/196 [==============================] - 5s 24ms/step - loss: 4.8125 - val_loss: 5.2392 - _timestamp: 1648820927.0000 - _runtime: 42.0000\n",
            "Epoch 9/50\n",
            "196/196 [==============================] - 4s 21ms/step - loss: 4.7119 - val_loss: 5.2869 - _timestamp: 1648820932.0000 - _runtime: 47.0000\n",
            "Epoch 10/50\n",
            "196/196 [==============================] - 4s 21ms/step - loss: 4.6319 - val_loss: 5.6075 - _timestamp: 1648820936.0000 - _runtime: 51.0000\n",
            "Epoch 11/50\n",
            "196/196 [==============================] - 4s 22ms/step - loss: 4.5599 - val_loss: 5.0980 - _timestamp: 1648820940.0000 - _runtime: 55.0000\n",
            "Epoch 12/50\n",
            "196/196 [==============================] - 4s 22ms/step - loss: 4.4799 - val_loss: 4.8640 - _timestamp: 1648820944.0000 - _runtime: 59.0000\n",
            "Epoch 13/50\n",
            "196/196 [==============================] - 4s 21ms/step - loss: 4.4501 - val_loss: 4.9921 - _timestamp: 1648820949.0000 - _runtime: 64.0000\n",
            "Epoch 14/50\n",
            "196/196 [==============================] - 5s 23ms/step - loss: 4.4092 - val_loss: 4.6168 - _timestamp: 1648820953.0000 - _runtime: 68.0000\n",
            "Epoch 15/50\n",
            "196/196 [==============================] - 4s 21ms/step - loss: 4.3659 - val_loss: 5.1292 - _timestamp: 1648820957.0000 - _runtime: 72.0000\n",
            "Epoch 16/50\n",
            "196/196 [==============================] - 4s 21ms/step - loss: 4.3487 - val_loss: 4.6662 - _timestamp: 1648820961.0000 - _runtime: 76.0000\n",
            "Epoch 17/50\n",
            "196/196 [==============================] - 5s 23ms/step - loss: 4.3124 - val_loss: 4.7735 - _timestamp: 1648820966.0000 - _runtime: 81.0000\n",
            "Epoch 18/50\n",
            "196/196 [==============================] - 4s 23ms/step - loss: 4.2986 - val_loss: 4.8966 - _timestamp: 1648820970.0000 - _runtime: 85.0000\n",
            "Epoch 19/50\n",
            "196/196 [==============================] - 4s 21ms/step - loss: 4.2532 - val_loss: 4.8382 - _timestamp: 1648820975.0000 - _runtime: 90.0000\n",
            "Epoch 20/50\n",
            "196/196 [==============================] - 4s 23ms/step - loss: 4.2374 - val_loss: 4.9853 - _timestamp: 1648820979.0000 - _runtime: 94.0000\n",
            "Epoch 21/50\n",
            "196/196 [==============================] - 4s 21ms/step - loss: 4.2207 - val_loss: 4.7482 - _timestamp: 1648820983.0000 - _runtime: 98.0000\n",
            "Epoch 22/50\n",
            "196/196 [==============================] - 4s 22ms/step - loss: 4.1805 - val_loss: 4.5045 - _timestamp: 1648820987.0000 - _runtime: 102.0000\n",
            "Epoch 23/50\n",
            "196/196 [==============================] - 4s 22ms/step - loss: 4.1924 - val_loss: 4.2874 - _timestamp: 1648820992.0000 - _runtime: 107.0000\n",
            "Epoch 24/50\n",
            "196/196 [==============================] - 4s 21ms/step - loss: 4.1848 - val_loss: 4.4950 - _timestamp: 1648820996.0000 - _runtime: 111.0000\n",
            "Epoch 25/50\n",
            "196/196 [==============================] - 4s 21ms/step - loss: 4.1404 - val_loss: 5.0841 - _timestamp: 1648821000.0000 - _runtime: 115.0000\n",
            "Epoch 26/50\n",
            "196/196 [==============================] - 4s 21ms/step - loss: 4.1207 - val_loss: 4.4109 - _timestamp: 1648821004.0000 - _runtime: 119.0000\n",
            "Epoch 27/50\n",
            "196/196 [==============================] - 4s 21ms/step - loss: 4.1027 - val_loss: 4.4123 - _timestamp: 1648821009.0000 - _runtime: 124.0000\n",
            "Epoch 28/50\n",
            "196/196 [==============================] - 4s 21ms/step - loss: 4.0930 - val_loss: 4.3757 - _timestamp: 1648821013.0000 - _runtime: 128.0000\n",
            "Epoch 29/50\n",
            "196/196 [==============================] - 4s 22ms/step - loss: 4.1051 - val_loss: 4.2847 - _timestamp: 1648821017.0000 - _runtime: 132.0000\n",
            "Epoch 30/50\n",
            "196/196 [==============================] - 4s 21ms/step - loss: 4.0736 - val_loss: 4.3090 - _timestamp: 1648821021.0000 - _runtime: 136.0000\n",
            "Epoch 31/50\n",
            "196/196 [==============================] - 4s 21ms/step - loss: 4.0705 - val_loss: 4.4547 - _timestamp: 1648821025.0000 - _runtime: 140.0000\n",
            "Epoch 32/50\n",
            "196/196 [==============================] - 4s 21ms/step - loss: 4.0449 - val_loss: 4.3767 - _timestamp: 1648821030.0000 - _runtime: 145.0000\n",
            "Epoch 33/50\n",
            "196/196 [==============================] - 4s 21ms/step - loss: 4.0436 - val_loss: 4.6411 - _timestamp: 1648821034.0000 - _runtime: 149.0000\n",
            "Epoch 34/50\n",
            "196/196 [==============================] - 4s 21ms/step - loss: 4.0199 - val_loss: 4.4927 - _timestamp: 1648821038.0000 - _runtime: 153.0000\n",
            "Epoch 35/50\n",
            "196/196 [==============================] - 4s 21ms/step - loss: 4.0124 - val_loss: 4.4441 - _timestamp: 1648821042.0000 - _runtime: 157.0000\n",
            "Epoch 36/50\n",
            "196/196 [==============================] - 4s 21ms/step - loss: 4.0122 - val_loss: 4.3268 - _timestamp: 1648821046.0000 - _runtime: 161.0000\n",
            "Epoch 37/50\n",
            "196/196 [==============================] - 4s 22ms/step - loss: 3.9990 - val_loss: 4.2030 - _timestamp: 1648821051.0000 - _runtime: 166.0000\n",
            "Epoch 38/50\n",
            "196/196 [==============================] - 4s 22ms/step - loss: 3.9735 - val_loss: 4.1654 - _timestamp: 1648821055.0000 - _runtime: 170.0000\n",
            "Epoch 39/50\n",
            "196/196 [==============================] - 4s 21ms/step - loss: 3.9750 - val_loss: 4.1873 - _timestamp: 1648821059.0000 - _runtime: 174.0000\n",
            "Epoch 40/50\n",
            "196/196 [==============================] - 4s 21ms/step - loss: 3.9799 - val_loss: 4.4103 - _timestamp: 1648821063.0000 - _runtime: 178.0000\n",
            "Epoch 41/50\n",
            "196/196 [==============================] - 4s 21ms/step - loss: 3.9486 - val_loss: 4.3248 - _timestamp: 1648821068.0000 - _runtime: 183.0000\n",
            "Epoch 42/50\n",
            "196/196 [==============================] - 4s 21ms/step - loss: 3.9539 - val_loss: 4.2602 - _timestamp: 1648821072.0000 - _runtime: 187.0000\n",
            "Epoch 43/50\n",
            "196/196 [==============================] - 4s 21ms/step - loss: 3.9475 - val_loss: 4.3195 - _timestamp: 1648821076.0000 - _runtime: 191.0000\n",
            "Epoch 44/50\n",
            "196/196 [==============================] - 4s 21ms/step - loss: 3.9517 - val_loss: 4.3843 - _timestamp: 1648821080.0000 - _runtime: 195.0000\n",
            "Epoch 45/50\n",
            "196/196 [==============================] - 4s 21ms/step - loss: 3.9283 - val_loss: 4.1702 - _timestamp: 1648821084.0000 - _runtime: 199.0000\n",
            "Epoch 46/50\n",
            "196/196 [==============================] - 4s 21ms/step - loss: 3.9443 - val_loss: 4.4855 - _timestamp: 1648821088.0000 - _runtime: 203.0000\n",
            "Epoch 47/50\n",
            "196/196 [==============================] - 4s 22ms/step - loss: 3.9164 - val_loss: 4.1226 - _timestamp: 1648821093.0000 - _runtime: 208.0000\n",
            "Epoch 48/50\n",
            "196/196 [==============================] - 4s 22ms/step - loss: 3.9304 - val_loss: 4.3470 - _timestamp: 1648821097.0000 - _runtime: 212.0000\n",
            "Epoch 49/50\n",
            "196/196 [==============================] - 4s 21ms/step - loss: 3.9195 - val_loss: 4.2455 - _timestamp: 1648821101.0000 - _runtime: 216.0000\n",
            "Epoch 50/50\n",
            "196/196 [==============================] - 4s 22ms/step - loss: 3.9226 - val_loss: 4.1358 - _timestamp: 1648821105.0000 - _runtime: 220.0000\n",
            "Avg SSIM over X_test: 0.8922834851363394\n",
            "\n"
          ]
        },
        {
          "output_type": "display_data",
          "data": {
            "text/plain": [
              "<IPython.core.display.HTML object>"
            ],
            "text/html": [
              "Waiting for W&B process to finish... <strong style=\"color:green\">(success).</strong>"
            ]
          },
          "metadata": {}
        },
        {
          "output_type": "display_data",
          "data": {
            "text/plain": [
              "VBox(children=(Label(value='0.001 MB of 0.001 MB uploaded (0.000 MB deduped)\\r'), FloatProgress(value=1.0, max…"
            ],
            "application/vnd.jupyter.widget-view+json": {
              "version_major": 2,
              "version_minor": 0,
              "model_id": "f17b4fdee44c483c9c8a647139022e9c"
            }
          },
          "metadata": {}
        },
        {
          "output_type": "display_data",
          "data": {
            "text/plain": [
              "<IPython.core.display.HTML object>"
            ],
            "text/html": [
              "<style>\n",
              "    table.wandb td:nth-child(1) { padding: 0 10px; text-align: right }\n",
              "    .wandb-row { display: flex; flex-direction: row; flex-wrap: wrap; width: 100% }\n",
              "    .wandb-col { display: flex; flex-direction: column; flex-basis: 100%; flex: 1; padding: 10px; }\n",
              "    </style>\n",
              "<div class=\"wandb-row\"><div class=\"wandb-col\"><h3>Run history:</h3><br/><table class=\"wandb\"><tr><td>avg_ssim_score_x_test</td><td>▁</td></tr><tr><td>epoch</td><td>▁▁▁▁▂▂▂▂▂▃▃▃▃▃▃▄▄▄▄▄▅▅▅▅▅▅▆▆▆▆▆▆▇▇▇▇▇███</td></tr><tr><td>loss</td><td>█▃▂▂▂▂▁▁▁▁▁▁▁▁▁▁▁▁▁▁▁▁▁▁▁▁▁▁▁▁▁▁▁▁▁▁▁▁▁▁</td></tr><tr><td>val_loss</td><td>█▅▃▂▂▂▁▁▁▁▁▁▁▁▁▁▁▁▁▁▁▁▁▁▁▁▁▁▁▁▁▁▁▁▁▁▁▁▁▁</td></tr></table><br/></div><div class=\"wandb-col\"><h3>Run summary:</h3><br/><table class=\"wandb\"><tr><td>avg_ssim_score_x_test</td><td>0.89228</td></tr><tr><td>best_epoch</td><td>46</td></tr><tr><td>best_val_loss</td><td>4.12265</td></tr><tr><td>epoch</td><td>49</td></tr><tr><td>loss</td><td>3.92259</td></tr><tr><td>val_loss</td><td>4.13581</td></tr></table><br/></div></div>"
            ]
          },
          "metadata": {}
        },
        {
          "output_type": "display_data",
          "data": {
            "text/plain": [
              "<IPython.core.display.HTML object>"
            ],
            "text/html": [
              "Synced <strong style=\"color:#cdcd00\">Model vae_3_c</strong>: <a href=\"https://wandb.ai/csc2231-yash-siphelele/autoencoders_RQ_comparison/runs/1e1bfpta\" target=\"_blank\">https://wandb.ai/csc2231-yash-siphelele/autoencoders_RQ_comparison/runs/1e1bfpta</a><br/>Synced 5 W&B file(s), 0 media file(s), 0 artifact file(s) and 1 other file(s)"
            ]
          },
          "metadata": {}
        },
        {
          "output_type": "display_data",
          "data": {
            "text/plain": [
              "<IPython.core.display.HTML object>"
            ],
            "text/html": [
              "Find logs at: <code>./wandb/run-20220401_134805-1e1bfpta/logs</code>"
            ]
          },
          "metadata": {}
        }
      ]
    },
    {
      "cell_type": "markdown",
      "source": [
        "## Exp 3.1"
      ],
      "metadata": {
        "id": "eOQYLhkZbFVW"
      }
    },
    {
      "cell_type": "code",
      "source": [
        "'''\n",
        "Model vae_3.1\n",
        "'''\n",
        "\n",
        "latent_dim = Z_DIM[2]  # Number of latent dimension parameters\n",
        "\n",
        "input_img = Input(shape=(32, 32, 3))\n",
        "\n",
        "x = Conv2D(32, (3, 3), activation='relu', padding='same', strides=2)(input_img)\n",
        "x = BatchNormalization()(x)\n",
        "\n",
        "x = Conv2D(16, (3, 3), activation='relu', padding='same', strides=2)(x)\n",
        "x = BatchNormalization()(x)\n",
        "\n",
        "x = Conv2D(16, (3, 3), activation='relu', padding='same', strides=2)(x)\n",
        "x = BatchNormalization()(x)\n",
        "\n",
        "shape_before_flattening = K.int_shape(x)\n",
        "# print(shape_before_flattening)\n",
        "x = Flatten()(x)\n",
        "\n",
        "z_mu = Dense(latent_dim)(x)\n",
        "z_log_sigma = Dense(latent_dim, kernel_initializer='zeros', bias_initializer='zeros')(x)\n",
        "\n",
        "\n",
        "# sampling function\n",
        "def sampling(args):\n",
        "    z_mu, z_log_sigma = args\n",
        "    epsilon = K.random_normal(shape=(K.shape(z_mu)[0], latent_dim),\n",
        "                              mean=0., stddev=1.)\n",
        "    return z_mu + K.exp(z_log_sigma) * epsilon\n",
        "\n",
        "# sample vector from the latent distribution\n",
        "z = Lambda(sampling)([z_mu, z_log_sigma])\n",
        "\n",
        "encoder = Model(input_img,z)\n",
        "\n",
        "# decoder takes the latent distribution sample as input\n",
        "decoder_input = Input(K.int_shape(z)[1:])\n",
        "x = Dense(4096, activation='relu', name=\"intermediate_decoder\", input_shape=(latent_dim,))(decoder_input)\n",
        "x = Reshape((8,8,64))(x)\n",
        "\n",
        "x = Conv2DTranspose(32, (3, 3),strides= 2, padding='same')(x)\n",
        "x = BatchNormalization()(x)\n",
        "\n",
        "# x = Conv2DTranspose(16, (3, 3),strides= 2, padding='same')(x)\n",
        "# x = BatchNormalization()(x)\n",
        "\n",
        "# x = Conv2DTranspose(8, (3, 3),strides= 2, padding='same')(x)\n",
        "# x = BatchNormalization()(x)\n",
        "\n",
        "x = Conv2DTranspose(3, (3, 3),strides= 2, padding='same', activation='sigmoid')(x)\n",
        "\n",
        "\n",
        "# decoder model statement\n",
        "decoder = Model(decoder_input, x)\n",
        "\n",
        "# apply the decoder to the sample from the latent distribution\n",
        "pred = decoder(z)\n",
        "\n",
        "\n",
        "def vae_loss(x, pred):\n",
        "    x = K.flatten(x)\n",
        "    pred = K.flatten(pred)\n",
        "    # Reconstruction loss\n",
        "    #reconst_loss = 100 * binary_crossentropy(x, pred)\n",
        "    reconst_loss = 1000*K.mean(K.square(x - pred))\n",
        "    \n",
        "    # KL divergence\n",
        "    kl_loss = -0.5 * K.mean(1 + z_log_sigma - K.square(z_mu) - K.exp(z_log_sigma), axis=-1)\n",
        "    \n",
        "    return (reconst_loss + kl_loss)\n",
        "\n",
        "\n",
        "# VAE model statement\n",
        "vae = Model(input_img, pred)\n",
        "vae.add_loss(vae_loss(input_img,pred))\n",
        "optimizer = Adam(learning_rate=LEARNING_RATES[2])\n",
        "vae.compile(optimizer=optimizer, loss=None)\n",
        "\n",
        "vae.summary()\n",
        "\n",
        "\n",
        "# fit and track the model \n",
        "fit_model_and_log_metrics(\"Model vae_3.1_c\", \"With maxpooling, convtranspose, dense, and flatten\", vae, 50, 256)"
      ],
      "metadata": {
        "colab": {
          "base_uri": "https://localhost:8080/",
          "height": 1000,
          "referenced_widgets": [
            "77b7736b00304e83a1e05491588d07a3",
            "da525cac30324d6fa502eb2a30798fe7",
            "c1ca7ff2495d4d3d98fb22e0039376a5",
            "bf06a24ac1f9496690acc367b82c98ed",
            "a060952d774947dca50c898dd02e20e8",
            "0509593dd8ec4ae6842ef95d96e586ba",
            "f9b740100da1474d8a0f8f1c3b221455",
            "573652c481c44aeeb8e949f61c890207"
          ]
        },
        "id": "RPKQfrQlbGyD",
        "outputId": "2b1c3881-ee56-4c1c-f3b1-40f1487381a6"
      },
      "execution_count": null,
      "outputs": [
        {
          "output_type": "stream",
          "name": "stdout",
          "text": [
            "Model: \"model_14\"\n",
            "__________________________________________________________________________________________________\n",
            " Layer (type)                   Output Shape         Param #     Connected to                     \n",
            "==================================================================================================\n",
            " input_9 (InputLayer)           [(None, 32, 32, 3)]  0           []                               \n",
            "                                                                                                  \n",
            " conv2d_12 (Conv2D)             (None, 16, 16, 32)   896         ['input_9[0][0]']                \n",
            "                                                                                                  \n",
            " batch_normalization_16 (BatchN  (None, 16, 16, 32)  128         ['conv2d_12[0][0]']              \n",
            " ormalization)                                                                                    \n",
            "                                                                                                  \n",
            " conv2d_13 (Conv2D)             (None, 8, 8, 16)     4624        ['batch_normalization_16[0][0]'] \n",
            "                                                                                                  \n",
            " batch_normalization_17 (BatchN  (None, 8, 8, 16)    64          ['conv2d_13[0][0]']              \n",
            " ormalization)                                                                                    \n",
            "                                                                                                  \n",
            " conv2d_14 (Conv2D)             (None, 4, 4, 16)     2320        ['batch_normalization_17[0][0]'] \n",
            "                                                                                                  \n",
            " batch_normalization_18 (BatchN  (None, 4, 4, 16)    64          ['conv2d_14[0][0]']              \n",
            " ormalization)                                                                                    \n",
            "                                                                                                  \n",
            " flatten_4 (Flatten)            (None, 256)          0           ['batch_normalization_18[0][0]'] \n",
            "                                                                                                  \n",
            " dense_8 (Dense)                (None, 300)          77100       ['flatten_4[0][0]']              \n",
            "                                                                                                  \n",
            " dense_9 (Dense)                (None, 300)          77100       ['flatten_4[0][0]']              \n",
            "                                                                                                  \n",
            " lambda_4 (Lambda)              (None, 300)          0           ['dense_8[0][0]',                \n",
            "                                                                  'dense_9[0][0]']                \n",
            "                                                                                                  \n",
            " model_13 (Functional)          (None, 32, 32, 3)    1252355     ['lambda_4[0][0]']               \n",
            "                                                                                                  \n",
            " tf.reshape_8 (TFOpLambda)      (None,)              0           ['input_9[0][0]']                \n",
            "                                                                                                  \n",
            " tf.reshape_9 (TFOpLambda)      (None,)              0           ['model_13[0][0]']               \n",
            "                                                                                                  \n",
            " tf.__operators__.add_8 (TFOpLa  (None, 300)         0           ['dense_9[0][0]']                \n",
            " mbda)                                                                                            \n",
            "                                                                                                  \n",
            " tf.math.square_9 (TFOpLambda)  (None, 300)          0           ['dense_8[0][0]']                \n",
            "                                                                                                  \n",
            " tf.math.subtract_12 (TFOpLambd  (None,)             0           ['tf.reshape_8[0][0]',           \n",
            " a)                                                               'tf.reshape_9[0][0]']           \n",
            "                                                                                                  \n",
            " tf.math.subtract_13 (TFOpLambd  (None, 300)         0           ['tf.__operators__.add_8[0][0]', \n",
            " a)                                                               'tf.math.square_9[0][0]']       \n",
            "                                                                                                  \n",
            " tf.math.exp_4 (TFOpLambda)     (None, 300)          0           ['dense_9[0][0]']                \n",
            "                                                                                                  \n",
            " tf.math.square_8 (TFOpLambda)  (None,)              0           ['tf.math.subtract_12[0][0]']    \n",
            "                                                                                                  \n",
            " tf.math.subtract_14 (TFOpLambd  (None, 300)         0           ['tf.math.subtract_13[0][0]',    \n",
            " a)                                                               'tf.math.exp_4[0][0]']          \n",
            "                                                                                                  \n",
            " tf.math.reduce_mean_8 (TFOpLam  ()                  0           ['tf.math.square_8[0][0]']       \n",
            " bda)                                                                                             \n",
            "                                                                                                  \n",
            " tf.math.reduce_mean_9 (TFOpLam  (None,)             0           ['tf.math.subtract_14[0][0]']    \n",
            " bda)                                                                                             \n",
            "                                                                                                  \n",
            " tf.math.multiply_8 (TFOpLambda  ()                  0           ['tf.math.reduce_mean_8[0][0]']  \n",
            " )                                                                                                \n",
            "                                                                                                  \n",
            " tf.math.multiply_9 (TFOpLambda  (None,)             0           ['tf.math.reduce_mean_9[0][0]']  \n",
            " )                                                                                                \n",
            "                                                                                                  \n",
            " tf.__operators__.add_9 (TFOpLa  (None,)             0           ['tf.math.multiply_8[0][0]',     \n",
            " mbda)                                                            'tf.math.multiply_9[0][0]']     \n",
            "                                                                                                  \n",
            " add_loss_4 (AddLoss)           (None,)              0           ['tf.__operators__.add_9[0][0]'] \n",
            "                                                                                                  \n",
            "==================================================================================================\n",
            "Total params: 1,414,651\n",
            "Trainable params: 1,414,459\n",
            "Non-trainable params: 192\n",
            "__________________________________________________________________________________________________\n"
          ]
        },
        {
          "output_type": "display_data",
          "data": {
            "text/plain": [
              "<IPython.core.display.HTML object>"
            ],
            "text/html": [
              "Tracking run with wandb version 0.12.11"
            ]
          },
          "metadata": {}
        },
        {
          "output_type": "display_data",
          "data": {
            "text/plain": [
              "<IPython.core.display.HTML object>"
            ],
            "text/html": [
              "Run data is saved locally in <code>/content/wandb/run-20220401_140040-1uy6fqv8</code>"
            ]
          },
          "metadata": {}
        },
        {
          "output_type": "display_data",
          "data": {
            "text/plain": [
              "<IPython.core.display.HTML object>"
            ],
            "text/html": [
              "Syncing run <strong><a href=\"https://wandb.ai/csc2231-yash-siphelele/autoencoders_RQ_comparison/runs/1uy6fqv8\" target=\"_blank\">Model vae_3.1_c</a></strong> to <a href=\"https://wandb.ai/csc2231-yash-siphelele/autoencoders_RQ_comparison\" target=\"_blank\">Weights & Biases</a> (<a href=\"https://wandb.me/run\" target=\"_blank\">docs</a>)<br/>"
            ]
          },
          "metadata": {}
        },
        {
          "output_type": "stream",
          "name": "stdout",
          "text": [
            "Epoch 1/50\n",
            "196/196 [==============================] - 6s 25ms/step - loss: 19.1197 - val_loss: 34.4375 - _timestamp: 1648821653.0000 - _runtime: 13.0000\n",
            "Epoch 2/50\n",
            "196/196 [==============================] - 4s 22ms/step - loss: 8.8710 - val_loss: 13.4680 - _timestamp: 1648821657.0000 - _runtime: 17.0000\n",
            "Epoch 3/50\n",
            "196/196 [==============================] - 4s 22ms/step - loss: 6.9381 - val_loss: 8.2066 - _timestamp: 1648821662.0000 - _runtime: 22.0000\n",
            "Epoch 4/50\n",
            "196/196 [==============================] - 4s 22ms/step - loss: 6.2041 - val_loss: 7.4096 - _timestamp: 1648821666.0000 - _runtime: 26.0000\n",
            "Epoch 5/50\n",
            "196/196 [==============================] - 4s 22ms/step - loss: 5.7721 - val_loss: 6.0638 - _timestamp: 1648821670.0000 - _runtime: 30.0000\n",
            "Epoch 6/50\n",
            "196/196 [==============================] - 4s 22ms/step - loss: 5.5193 - val_loss: 5.7735 - _timestamp: 1648821675.0000 - _runtime: 35.0000\n",
            "Epoch 7/50\n",
            "196/196 [==============================] - 4s 22ms/step - loss: 5.3204 - val_loss: 5.3854 - _timestamp: 1648821679.0000 - _runtime: 39.0000\n",
            "Epoch 8/50\n",
            "196/196 [==============================] - 4s 21ms/step - loss: 5.1858 - val_loss: 5.4444 - _timestamp: 1648821683.0000 - _runtime: 43.0000\n",
            "Epoch 9/50\n",
            "196/196 [==============================] - 5s 23ms/step - loss: 5.1005 - val_loss: 5.4021 - _timestamp: 1648821688.0000 - _runtime: 48.0000\n",
            "Epoch 10/50\n",
            "196/196 [==============================] - 4s 22ms/step - loss: 5.0163 - val_loss: 5.0904 - _timestamp: 1648821692.0000 - _runtime: 52.0000\n",
            "Epoch 11/50\n",
            "196/196 [==============================] - 4s 21ms/step - loss: 4.9186 - val_loss: 5.2196 - _timestamp: 1648821696.0000 - _runtime: 56.0000\n",
            "Epoch 12/50\n",
            "196/196 [==============================] - 4s 22ms/step - loss: 4.8825 - val_loss: 4.9995 - _timestamp: 1648821700.0000 - _runtime: 60.0000\n",
            "Epoch 13/50\n",
            "196/196 [==============================] - 4s 21ms/step - loss: 4.8145 - val_loss: 5.2097 - _timestamp: 1648821705.0000 - _runtime: 65.0000\n",
            "Epoch 14/50\n",
            "196/196 [==============================] - 5s 24ms/step - loss: 4.7758 - val_loss: 4.8950 - _timestamp: 1648821709.0000 - _runtime: 69.0000\n",
            "Epoch 15/50\n",
            "196/196 [==============================] - 4s 22ms/step - loss: 4.7059 - val_loss: 4.9058 - _timestamp: 1648821714.0000 - _runtime: 74.0000\n",
            "Epoch 16/50\n",
            "196/196 [==============================] - 4s 22ms/step - loss: 4.6769 - val_loss: 4.8281 - _timestamp: 1648821718.0000 - _runtime: 78.0000\n",
            "Epoch 17/50\n",
            "196/196 [==============================] - 4s 22ms/step - loss: 4.6607 - val_loss: 4.7532 - _timestamp: 1648821722.0000 - _runtime: 82.0000\n",
            "Epoch 18/50\n",
            "196/196 [==============================] - 4s 22ms/step - loss: 4.6223 - val_loss: 4.7041 - _timestamp: 1648821727.0000 - _runtime: 87.0000\n",
            "Epoch 19/50\n",
            "196/196 [==============================] - 4s 21ms/step - loss: 4.6058 - val_loss: 4.8635 - _timestamp: 1648821731.0000 - _runtime: 91.0000\n",
            "Epoch 20/50\n",
            "196/196 [==============================] - 4s 21ms/step - loss: 4.5655 - val_loss: 4.7077 - _timestamp: 1648821735.0000 - _runtime: 95.0000\n",
            "Epoch 21/50\n",
            "196/196 [==============================] - 5s 23ms/step - loss: 4.5387 - val_loss: 4.7218 - _timestamp: 1648821740.0000 - _runtime: 100.0000\n",
            "Epoch 22/50\n",
            "196/196 [==============================] - 4s 22ms/step - loss: 4.5154 - val_loss: 4.6465 - _timestamp: 1648821744.0000 - _runtime: 104.0000\n",
            "Epoch 23/50\n",
            "196/196 [==============================] - 5s 24ms/step - loss: 4.5123 - val_loss: 4.6779 - _timestamp: 1648821749.0000 - _runtime: 109.0000\n",
            "Epoch 24/50\n",
            "196/196 [==============================] - 4s 22ms/step - loss: 4.4747 - val_loss: 4.6383 - _timestamp: 1648821753.0000 - _runtime: 113.0000\n",
            "Epoch 25/50\n",
            "196/196 [==============================] - 4s 22ms/step - loss: 4.4851 - val_loss: 4.5672 - _timestamp: 1648821757.0000 - _runtime: 117.0000\n",
            "Epoch 26/50\n",
            "196/196 [==============================] - 4s 22ms/step - loss: 4.4431 - val_loss: 4.5962 - _timestamp: 1648821762.0000 - _runtime: 122.0000\n",
            "Epoch 27/50\n",
            "196/196 [==============================] - 4s 22ms/step - loss: 4.4181 - val_loss: 4.5014 - _timestamp: 1648821766.0000 - _runtime: 126.0000\n",
            "Epoch 28/50\n",
            "196/196 [==============================] - 4s 21ms/step - loss: 4.4130 - val_loss: 4.8162 - _timestamp: 1648821770.0000 - _runtime: 130.0000\n",
            "Epoch 29/50\n",
            "196/196 [==============================] - 4s 22ms/step - loss: 4.4117 - val_loss: 4.5333 - _timestamp: 1648821775.0000 - _runtime: 135.0000\n",
            "Epoch 30/50\n",
            "196/196 [==============================] - 4s 22ms/step - loss: 4.4003 - val_loss: 4.4852 - _timestamp: 1648821779.0000 - _runtime: 139.0000\n",
            "Epoch 31/50\n",
            "196/196 [==============================] - 5s 23ms/step - loss: 4.3804 - val_loss: 4.5354 - _timestamp: 1648821784.0000 - _runtime: 144.0000\n",
            "Epoch 32/50\n",
            "196/196 [==============================] - 4s 21ms/step - loss: 4.3891 - val_loss: 4.5098 - _timestamp: 1648821788.0000 - _runtime: 148.0000\n",
            "Epoch 33/50\n",
            "196/196 [==============================] - 4s 21ms/step - loss: 4.3592 - val_loss: 4.6630 - _timestamp: 1648821792.0000 - _runtime: 152.0000\n",
            "Epoch 34/50\n",
            "196/196 [==============================] - 5s 24ms/step - loss: 4.3418 - val_loss: 4.4372 - _timestamp: 1648821796.0000 - _runtime: 156.0000\n",
            "Epoch 35/50\n",
            "196/196 [==============================] - 4s 22ms/step - loss: 4.3313 - val_loss: 4.5081 - _timestamp: 1648821801.0000 - _runtime: 161.0000\n",
            "Epoch 36/50\n",
            "196/196 [==============================] - 4s 21ms/step - loss: 4.3077 - val_loss: 4.4985 - _timestamp: 1648821805.0000 - _runtime: 165.0000\n",
            "Epoch 37/50\n",
            "196/196 [==============================] - 4s 22ms/step - loss: 4.2959 - val_loss: 4.4170 - _timestamp: 1648821809.0000 - _runtime: 169.0000\n",
            "Epoch 38/50\n",
            "196/196 [==============================] - 4s 22ms/step - loss: 4.2802 - val_loss: 4.4051 - _timestamp: 1648821814.0000 - _runtime: 174.0000\n",
            "Epoch 39/50\n",
            "196/196 [==============================] - 4s 22ms/step - loss: 4.2617 - val_loss: 4.4776 - _timestamp: 1648821818.0000 - _runtime: 178.0000\n",
            "Epoch 40/50\n",
            "196/196 [==============================] - 4s 22ms/step - loss: 4.2683 - val_loss: 4.3468 - _timestamp: 1648821822.0000 - _runtime: 182.0000\n",
            "Epoch 41/50\n",
            "196/196 [==============================] - 4s 22ms/step - loss: 4.2562 - val_loss: 4.4282 - _timestamp: 1648821827.0000 - _runtime: 187.0000\n",
            "Epoch 42/50\n",
            "196/196 [==============================] - 4s 22ms/step - loss: 4.2628 - val_loss: 4.4304 - _timestamp: 1648821831.0000 - _runtime: 191.0000\n",
            "Epoch 43/50\n",
            "196/196 [==============================] - 4s 22ms/step - loss: 4.2740 - val_loss: 4.3510 - _timestamp: 1648821835.0000 - _runtime: 195.0000\n",
            "Epoch 44/50\n",
            "196/196 [==============================] - 4s 22ms/step - loss: 4.2308 - val_loss: 4.4357 - _timestamp: 1648821840.0000 - _runtime: 200.0000\n",
            "Epoch 45/50\n",
            "196/196 [==============================] - 5s 23ms/step - loss: 4.2145 - val_loss: 4.4451 - _timestamp: 1648821844.0000 - _runtime: 204.0000\n",
            "Epoch 46/50\n",
            "196/196 [==============================] - 4s 22ms/step - loss: 4.2151 - val_loss: 4.3947 - _timestamp: 1648821848.0000 - _runtime: 208.0000\n",
            "Epoch 47/50\n",
            "196/196 [==============================] - 4s 22ms/step - loss: 4.1922 - val_loss: 4.3292 - _timestamp: 1648821853.0000 - _runtime: 213.0000\n",
            "Epoch 48/50\n",
            "196/196 [==============================] - 4s 21ms/step - loss: 4.1899 - val_loss: 4.3555 - _timestamp: 1648821857.0000 - _runtime: 217.0000\n",
            "Epoch 49/50\n",
            "196/196 [==============================] - 5s 26ms/step - loss: 4.1848 - val_loss: 4.3027 - _timestamp: 1648821862.0000 - _runtime: 222.0000\n",
            "Epoch 50/50\n",
            "196/196 [==============================] - 5s 23ms/step - loss: 4.1922 - val_loss: 4.3308 - _timestamp: 1648821867.0000 - _runtime: 227.0000\n",
            "Avg SSIM over X_test: 0.887683834773549\n",
            "\n"
          ]
        },
        {
          "output_type": "display_data",
          "data": {
            "text/plain": [
              "<IPython.core.display.HTML object>"
            ],
            "text/html": [
              "Waiting for W&B process to finish... <strong style=\"color:green\">(success).</strong>"
            ]
          },
          "metadata": {}
        },
        {
          "output_type": "display_data",
          "data": {
            "text/plain": [
              "VBox(children=(Label(value='16.318 MB of 16.318 MB uploaded (0.000 MB deduped)\\r'), FloatProgress(value=1.0, m…"
            ],
            "application/vnd.jupyter.widget-view+json": {
              "version_major": 2,
              "version_minor": 0,
              "model_id": "77b7736b00304e83a1e05491588d07a3"
            }
          },
          "metadata": {}
        },
        {
          "output_type": "display_data",
          "data": {
            "text/plain": [
              "<IPython.core.display.HTML object>"
            ],
            "text/html": [
              "<style>\n",
              "    table.wandb td:nth-child(1) { padding: 0 10px; text-align: right }\n",
              "    .wandb-row { display: flex; flex-direction: row; flex-wrap: wrap; width: 100% }\n",
              "    .wandb-col { display: flex; flex-direction: column; flex-basis: 100%; flex: 1; padding: 10px; }\n",
              "    </style>\n",
              "<div class=\"wandb-row\"><div class=\"wandb-col\"><h3>Run history:</h3><br/><table class=\"wandb\"><tr><td>avg_ssim_score_x_test</td><td>▁</td></tr><tr><td>epoch</td><td>▁▁▁▁▂▂▂▂▂▃▃▃▃▃▃▄▄▄▄▄▅▅▅▅▅▅▆▆▆▆▆▆▇▇▇▇▇███</td></tr><tr><td>loss</td><td>█▃▂▂▂▂▁▁▁▁▁▁▁▁▁▁▁▁▁▁▁▁▁▁▁▁▁▁▁▁▁▁▁▁▁▁▁▁▁▁</td></tr><tr><td>val_loss</td><td>█▃▂▂▁▁▁▁▁▁▁▁▁▁▁▁▁▁▁▁▁▁▁▁▁▁▁▁▁▁▁▁▁▁▁▁▁▁▁▁</td></tr></table><br/></div><div class=\"wandb-col\"><h3>Run summary:</h3><br/><table class=\"wandb\"><tr><td>avg_ssim_score_x_test</td><td>0.88768</td></tr><tr><td>best_epoch</td><td>48</td></tr><tr><td>best_val_loss</td><td>4.30267</td></tr><tr><td>epoch</td><td>49</td></tr><tr><td>loss</td><td>4.19216</td></tr><tr><td>val_loss</td><td>4.33078</td></tr></table><br/></div></div>"
            ]
          },
          "metadata": {}
        },
        {
          "output_type": "display_data",
          "data": {
            "text/plain": [
              "<IPython.core.display.HTML object>"
            ],
            "text/html": [
              "Synced <strong style=\"color:#cdcd00\">Model vae_3.1_c</strong>: <a href=\"https://wandb.ai/csc2231-yash-siphelele/autoencoders_RQ_comparison/runs/1uy6fqv8\" target=\"_blank\">https://wandb.ai/csc2231-yash-siphelele/autoencoders_RQ_comparison/runs/1uy6fqv8</a><br/>Synced 5 W&B file(s), 0 media file(s), 0 artifact file(s) and 1 other file(s)"
            ]
          },
          "metadata": {}
        },
        {
          "output_type": "display_data",
          "data": {
            "text/plain": [
              "<IPython.core.display.HTML object>"
            ],
            "text/html": [
              "Find logs at: <code>./wandb/run-20220401_140040-1uy6fqv8/logs</code>"
            ]
          },
          "metadata": {}
        }
      ]
    },
    {
      "cell_type": "markdown",
      "source": [
        "## Exp 3.2"
      ],
      "metadata": {
        "id": "3kpFtMwgcPWj"
      }
    },
    {
      "cell_type": "code",
      "source": [
        "'''\n",
        "Model vae_3.2\n",
        "'''\n",
        "\n",
        "latent_dim = Z_DIM[2]  # Number of latent dimension parameters\n",
        "\n",
        "input_img = Input(shape=(32, 32, 3))\n",
        "\n",
        "x = Conv2D(32, (3, 3), activation='relu', padding='same', strides=2)(input_img)\n",
        "x = BatchNormalization()(x)\n",
        "\n",
        "x = Conv2D(16, (3, 3), activation='relu', padding='same', strides=2)(x)\n",
        "x = BatchNormalization()(x)\n",
        "\n",
        "x = Conv2D(16, (3, 3), activation='relu', padding='same', strides=2)(x)\n",
        "x = BatchNormalization()(x)\n",
        "\n",
        "shape_before_flattening = K.int_shape(x)\n",
        "# print(shape_before_flattening)\n",
        "x = Flatten()(x)\n",
        "\n",
        "z_mu = Dense(latent_dim)(x)\n",
        "z_log_sigma = Dense(latent_dim, kernel_initializer='zeros', bias_initializer='zeros')(x)\n",
        "\n",
        "\n",
        "# sampling function\n",
        "def sampling(args):\n",
        "    z_mu, z_log_sigma = args\n",
        "    epsilon = K.random_normal(shape=(K.shape(z_mu)[0], latent_dim),\n",
        "                              mean=0., stddev=1.)\n",
        "    return z_mu + K.exp(z_log_sigma) * epsilon\n",
        "\n",
        "# sample vector from the latent distribution\n",
        "z = Lambda(sampling)([z_mu, z_log_sigma])\n",
        "\n",
        "encoder = Model(input_img,z)\n",
        "\n",
        "# decoder takes the latent distribution sample as input\n",
        "decoder_input = Input(K.int_shape(z)[1:])\n",
        "x = Dense(4096, activation='relu', name=\"intermediate_decoder\", input_shape=(latent_dim,))(decoder_input)\n",
        "x = Reshape((8,8,64))(x)\n",
        "\n",
        "x = Conv2DTranspose(32, (3, 3),strides= 2, padding='same')(x)\n",
        "x = BatchNormalization()(x)\n",
        "\n",
        "# x = Conv2DTranspose(16, (3, 3),strides= 2, padding='same')(x)\n",
        "# x = BatchNormalization()(x)\n",
        "\n",
        "# x = Conv2DTranspose(8, (3, 3),strides= 2, padding='same')(x)\n",
        "# x = BatchNormalization()(x)\n",
        "\n",
        "x = Conv2DTranspose(3, (3, 3),strides= 2, padding='same', activation='sigmoid')(x)\n",
        "\n",
        "\n",
        "# decoder model statement\n",
        "decoder = Model(decoder_input, x)\n",
        "\n",
        "# apply the decoder to the sample from the latent distribution\n",
        "pred = decoder(z)\n",
        "\n",
        "\n",
        "def vae_loss(x, pred):\n",
        "    x = K.flatten(x)\n",
        "    pred = K.flatten(pred)\n",
        "    # Reconstruction loss\n",
        "    #reconst_loss = 100 * binary_crossentropy(x, pred)\n",
        "    reconst_loss = 1000*K.mean(K.square(x - pred))\n",
        "    \n",
        "    # KL divergence\n",
        "    kl_loss = -0.5 * K.mean(1 + z_log_sigma - K.square(z_mu) - K.exp(z_log_sigma), axis=-1)\n",
        "    \n",
        "    return (reconst_loss + kl_loss)\n",
        "\n",
        "\n",
        "# VAE model statement\n",
        "vae = Model(input_img, pred)\n",
        "vae.add_loss(vae_loss(input_img,pred))\n",
        "optimizer = Adam(learning_rate=LEARNING_RATES[3])\n",
        "vae.compile(optimizer=optimizer, loss=None)\n",
        "\n",
        "vae.summary()\n",
        "\n",
        "\n",
        "# fit and track the model \n",
        "fit_model_and_log_metrics(\"Model vae_3.2_c\", \"With maxpooling, convtranspose, dense, and flatten\", vae, 50, 256)"
      ],
      "metadata": {
        "colab": {
          "base_uri": "https://localhost:8080/",
          "height": 1000,
          "referenced_widgets": [
            "fc3460412dca4affa52bbd52a27742b8",
            "aa76ead91a2e4abf94c15d0461eacf6f",
            "ea9ecdd49b3f438e92f08747ddbe019d",
            "a4289b2395d9445b918140fbf53de69e",
            "fe46d609abfe434084ea276ced766e1b",
            "c6f1594766e84178995817aa3d6da1b2",
            "4f2b1e1d59fb46b5b3632e7cb474d3f0",
            "4994f66964ee43cdae1418e8adff7139"
          ]
        },
        "id": "aP10SLROcQ3I",
        "outputId": "2210e359-e192-4875-ab6c-811f88903781"
      },
      "execution_count": null,
      "outputs": [
        {
          "output_type": "stream",
          "name": "stdout",
          "text": [
            "Model: \"model_17\"\n",
            "__________________________________________________________________________________________________\n",
            " Layer (type)                   Output Shape         Param #     Connected to                     \n",
            "==================================================================================================\n",
            " input_11 (InputLayer)          [(None, 32, 32, 3)]  0           []                               \n",
            "                                                                                                  \n",
            " conv2d_15 (Conv2D)             (None, 16, 16, 32)   896         ['input_11[0][0]']               \n",
            "                                                                                                  \n",
            " batch_normalization_20 (BatchN  (None, 16, 16, 32)  128         ['conv2d_15[0][0]']              \n",
            " ormalization)                                                                                    \n",
            "                                                                                                  \n",
            " conv2d_16 (Conv2D)             (None, 8, 8, 16)     4624        ['batch_normalization_20[0][0]'] \n",
            "                                                                                                  \n",
            " batch_normalization_21 (BatchN  (None, 8, 8, 16)    64          ['conv2d_16[0][0]']              \n",
            " ormalization)                                                                                    \n",
            "                                                                                                  \n",
            " conv2d_17 (Conv2D)             (None, 4, 4, 16)     2320        ['batch_normalization_21[0][0]'] \n",
            "                                                                                                  \n",
            " batch_normalization_22 (BatchN  (None, 4, 4, 16)    64          ['conv2d_17[0][0]']              \n",
            " ormalization)                                                                                    \n",
            "                                                                                                  \n",
            " flatten_5 (Flatten)            (None, 256)          0           ['batch_normalization_22[0][0]'] \n",
            "                                                                                                  \n",
            " dense_10 (Dense)               (None, 300)          77100       ['flatten_5[0][0]']              \n",
            "                                                                                                  \n",
            " dense_11 (Dense)               (None, 300)          77100       ['flatten_5[0][0]']              \n",
            "                                                                                                  \n",
            " lambda_5 (Lambda)              (None, 300)          0           ['dense_10[0][0]',               \n",
            "                                                                  'dense_11[0][0]']               \n",
            "                                                                                                  \n",
            " model_16 (Functional)          (None, 32, 32, 3)    1252355     ['lambda_5[0][0]']               \n",
            "                                                                                                  \n",
            " tf.reshape_10 (TFOpLambda)     (None,)              0           ['input_11[0][0]']               \n",
            "                                                                                                  \n",
            " tf.reshape_11 (TFOpLambda)     (None,)              0           ['model_16[0][0]']               \n",
            "                                                                                                  \n",
            " tf.__operators__.add_10 (TFOpL  (None, 300)         0           ['dense_11[0][0]']               \n",
            " ambda)                                                                                           \n",
            "                                                                                                  \n",
            " tf.math.square_11 (TFOpLambda)  (None, 300)         0           ['dense_10[0][0]']               \n",
            "                                                                                                  \n",
            " tf.math.subtract_15 (TFOpLambd  (None,)             0           ['tf.reshape_10[0][0]',          \n",
            " a)                                                               'tf.reshape_11[0][0]']          \n",
            "                                                                                                  \n",
            " tf.math.subtract_16 (TFOpLambd  (None, 300)         0           ['tf.__operators__.add_10[0][0]',\n",
            " a)                                                               'tf.math.square_11[0][0]']      \n",
            "                                                                                                  \n",
            " tf.math.exp_5 (TFOpLambda)     (None, 300)          0           ['dense_11[0][0]']               \n",
            "                                                                                                  \n",
            " tf.math.square_10 (TFOpLambda)  (None,)             0           ['tf.math.subtract_15[0][0]']    \n",
            "                                                                                                  \n",
            " tf.math.subtract_17 (TFOpLambd  (None, 300)         0           ['tf.math.subtract_16[0][0]',    \n",
            " a)                                                               'tf.math.exp_5[0][0]']          \n",
            "                                                                                                  \n",
            " tf.math.reduce_mean_10 (TFOpLa  ()                  0           ['tf.math.square_10[0][0]']      \n",
            " mbda)                                                                                            \n",
            "                                                                                                  \n",
            " tf.math.reduce_mean_11 (TFOpLa  (None,)             0           ['tf.math.subtract_17[0][0]']    \n",
            " mbda)                                                                                            \n",
            "                                                                                                  \n",
            " tf.math.multiply_10 (TFOpLambd  ()                  0           ['tf.math.reduce_mean_10[0][0]'] \n",
            " a)                                                                                               \n",
            "                                                                                                  \n",
            " tf.math.multiply_11 (TFOpLambd  (None,)             0           ['tf.math.reduce_mean_11[0][0]'] \n",
            " a)                                                                                               \n",
            "                                                                                                  \n",
            " tf.__operators__.add_11 (TFOpL  (None,)             0           ['tf.math.multiply_10[0][0]',    \n",
            " ambda)                                                           'tf.math.multiply_11[0][0]']    \n",
            "                                                                                                  \n",
            " add_loss_5 (AddLoss)           (None,)              0           ['tf.__operators__.add_11[0][0]']\n",
            "                                                                                                  \n",
            "==================================================================================================\n",
            "Total params: 1,414,651\n",
            "Trainable params: 1,414,459\n",
            "Non-trainable params: 192\n",
            "__________________________________________________________________________________________________\n"
          ]
        },
        {
          "output_type": "display_data",
          "data": {
            "text/plain": [
              "<IPython.core.display.HTML object>"
            ],
            "text/html": [
              "Tracking run with wandb version 0.12.11"
            ]
          },
          "metadata": {}
        },
        {
          "output_type": "display_data",
          "data": {
            "text/plain": [
              "<IPython.core.display.HTML object>"
            ],
            "text/html": [
              "Run data is saved locally in <code>/content/wandb/run-20220401_140528-1bk7eu3m</code>"
            ]
          },
          "metadata": {}
        },
        {
          "output_type": "display_data",
          "data": {
            "text/plain": [
              "<IPython.core.display.HTML object>"
            ],
            "text/html": [
              "Syncing run <strong><a href=\"https://wandb.ai/csc2231-yash-siphelele/autoencoders_RQ_comparison/runs/1bk7eu3m\" target=\"_blank\">Model vae_3.2_c</a></strong> to <a href=\"https://wandb.ai/csc2231-yash-siphelele/autoencoders_RQ_comparison\" target=\"_blank\">Weights & Biases</a> (<a href=\"https://wandb.me/run\" target=\"_blank\">docs</a>)<br/>"
            ]
          },
          "metadata": {}
        },
        {
          "output_type": "stream",
          "name": "stdout",
          "text": [
            "Epoch 1/50\n",
            "196/196 [==============================] - 6s 26ms/step - loss: 18.4445 - val_loss: 25.2537 - _timestamp: 1648821941.0000 - _runtime: 13.0000\n",
            "Epoch 2/50\n",
            "196/196 [==============================] - 4s 22ms/step - loss: 8.5525 - val_loss: 19.2325 - _timestamp: 1648821945.0000 - _runtime: 17.0000\n",
            "Epoch 3/50\n",
            "196/196 [==============================] - 4s 22ms/step - loss: 6.7046 - val_loss: 14.6872 - _timestamp: 1648821950.0000 - _runtime: 22.0000\n",
            "Epoch 4/50\n",
            "196/196 [==============================] - 4s 22ms/step - loss: 5.8743 - val_loss: 8.7561 - _timestamp: 1648821954.0000 - _runtime: 26.0000\n",
            "Epoch 5/50\n",
            "196/196 [==============================] - 4s 22ms/step - loss: 5.4547 - val_loss: 8.3813 - _timestamp: 1648821958.0000 - _runtime: 30.0000\n",
            "Epoch 6/50\n",
            "196/196 [==============================] - 4s 22ms/step - loss: 5.1733 - val_loss: 7.1755 - _timestamp: 1648821963.0000 - _runtime: 35.0000\n",
            "Epoch 7/50\n",
            "196/196 [==============================] - 4s 21ms/step - loss: 4.9781 - val_loss: 8.1091 - _timestamp: 1648821967.0000 - _runtime: 39.0000\n",
            "Epoch 8/50\n",
            "196/196 [==============================] - 4s 22ms/step - loss: 4.8584 - val_loss: 6.5219 - _timestamp: 1648821971.0000 - _runtime: 43.0000\n",
            "Epoch 9/50\n",
            "196/196 [==============================] - 4s 22ms/step - loss: 4.7224 - val_loss: 6.4246 - _timestamp: 1648821976.0000 - _runtime: 48.0000\n",
            "Epoch 10/50\n",
            "196/196 [==============================] - 4s 22ms/step - loss: 4.7014 - val_loss: 8.7219 - _timestamp: 1648821980.0000 - _runtime: 52.0000\n",
            "Epoch 11/50\n",
            "196/196 [==============================] - 4s 22ms/step - loss: 4.5873 - val_loss: 5.6713 - _timestamp: 1648821984.0000 - _runtime: 56.0000\n",
            "Epoch 12/50\n",
            "196/196 [==============================] - 5s 23ms/step - loss: 4.5300 - val_loss: 7.1071 - _timestamp: 1648821989.0000 - _runtime: 61.0000\n",
            "Epoch 13/50\n",
            "196/196 [==============================] - 4s 22ms/step - loss: 4.4505 - val_loss: 5.8951 - _timestamp: 1648821993.0000 - _runtime: 65.0000\n",
            "Epoch 14/50\n",
            "196/196 [==============================] - 4s 22ms/step - loss: 4.4133 - val_loss: 8.0886 - _timestamp: 1648821997.0000 - _runtime: 69.0000\n",
            "Epoch 15/50\n",
            "196/196 [==============================] - 4s 22ms/step - loss: 4.3692 - val_loss: 5.7456 - _timestamp: 1648822002.0000 - _runtime: 74.0000\n",
            "Epoch 16/50\n",
            "196/196 [==============================] - 4s 21ms/step - loss: 4.3431 - val_loss: 5.9230 - _timestamp: 1648822006.0000 - _runtime: 78.0000\n",
            "Epoch 17/50\n",
            "196/196 [==============================] - 4s 22ms/step - loss: 4.2815 - val_loss: 5.2645 - _timestamp: 1648822010.0000 - _runtime: 82.0000\n",
            "Epoch 18/50\n",
            "196/196 [==============================] - 4s 22ms/step - loss: 4.2571 - val_loss: 5.0615 - _timestamp: 1648822015.0000 - _runtime: 87.0000\n",
            "Epoch 19/50\n",
            "196/196 [==============================] - 4s 22ms/step - loss: 4.2500 - val_loss: 5.7582 - _timestamp: 1648822019.0000 - _runtime: 91.0000\n",
            "Epoch 20/50\n",
            "196/196 [==============================] - 4s 22ms/step - loss: 4.2078 - val_loss: 5.2853 - _timestamp: 1648822023.0000 - _runtime: 95.0000\n",
            "Epoch 21/50\n",
            "196/196 [==============================] - 4s 22ms/step - loss: 4.1794 - val_loss: 5.6612 - _timestamp: 1648822028.0000 - _runtime: 100.0000\n",
            "Epoch 22/50\n",
            "196/196 [==============================] - 4s 23ms/step - loss: 4.1616 - val_loss: 4.9638 - _timestamp: 1648822032.0000 - _runtime: 104.0000\n",
            "Epoch 23/50\n",
            "196/196 [==============================] - 4s 22ms/step - loss: 4.1382 - val_loss: 5.2031 - _timestamp: 1648822036.0000 - _runtime: 108.0000\n",
            "Epoch 24/50\n",
            "196/196 [==============================] - 4s 22ms/step - loss: 4.1325 - val_loss: 5.0562 - _timestamp: 1648822040.0000 - _runtime: 112.0000\n",
            "Epoch 25/50\n",
            "196/196 [==============================] - 4s 22ms/step - loss: 4.0859 - val_loss: 4.5393 - _timestamp: 1648822045.0000 - _runtime: 117.0000\n",
            "Epoch 26/50\n",
            "196/196 [==============================] - 4s 22ms/step - loss: 4.0800 - val_loss: 4.7641 - _timestamp: 1648822049.0000 - _runtime: 121.0000\n",
            "Epoch 27/50\n",
            "196/196 [==============================] - 4s 22ms/step - loss: 4.0918 - val_loss: 4.8440 - _timestamp: 1648822053.0000 - _runtime: 125.0000\n",
            "Epoch 28/50\n",
            "196/196 [==============================] - 4s 22ms/step - loss: 4.0404 - val_loss: 4.5440 - _timestamp: 1648822058.0000 - _runtime: 130.0000\n",
            "Epoch 29/50\n",
            "196/196 [==============================] - 5s 24ms/step - loss: 4.0562 - val_loss: 4.4453 - _timestamp: 1648822062.0000 - _runtime: 134.0000\n",
            "Epoch 30/50\n",
            "196/196 [==============================] - 5s 23ms/step - loss: 4.0339 - val_loss: 4.6588 - _timestamp: 1648822067.0000 - _runtime: 139.0000\n",
            "Epoch 31/50\n",
            "196/196 [==============================] - 4s 22ms/step - loss: 4.0220 - val_loss: 4.4070 - _timestamp: 1648822071.0000 - _runtime: 143.0000\n",
            "Epoch 32/50\n",
            "196/196 [==============================] - 4s 21ms/step - loss: 4.0210 - val_loss: 4.8217 - _timestamp: 1648822076.0000 - _runtime: 148.0000\n",
            "Epoch 33/50\n",
            "196/196 [==============================] - 4s 22ms/step - loss: 4.0193 - val_loss: 4.8504 - _timestamp: 1648822080.0000 - _runtime: 152.0000\n",
            "Epoch 34/50\n",
            "196/196 [==============================] - 4s 22ms/step - loss: 3.9924 - val_loss: 5.6225 - _timestamp: 1648822084.0000 - _runtime: 156.0000\n",
            "Epoch 35/50\n",
            "196/196 [==============================] - 4s 22ms/step - loss: 3.9976 - val_loss: 5.0879 - _timestamp: 1648822088.0000 - _runtime: 160.0000\n",
            "Epoch 36/50\n",
            "196/196 [==============================] - 4s 22ms/step - loss: 3.9712 - val_loss: 4.5929 - _timestamp: 1648822093.0000 - _runtime: 165.0000\n",
            "Epoch 37/50\n",
            "196/196 [==============================] - 4s 21ms/step - loss: 3.9784 - val_loss: 4.7052 - _timestamp: 1648822097.0000 - _runtime: 169.0000\n",
            "Epoch 38/50\n",
            "196/196 [==============================] - 4s 22ms/step - loss: 3.9733 - val_loss: 4.5375 - _timestamp: 1648822101.0000 - _runtime: 173.0000\n",
            "Epoch 39/50\n",
            "196/196 [==============================] - 5s 23ms/step - loss: 3.9409 - val_loss: 4.7039 - _timestamp: 1648822106.0000 - _runtime: 178.0000\n",
            "Epoch 40/50\n",
            "196/196 [==============================] - 5s 24ms/step - loss: 3.9525 - val_loss: 5.1173 - _timestamp: 1648822110.0000 - _runtime: 182.0000\n",
            "Epoch 41/50\n",
            "196/196 [==============================] - 4s 22ms/step - loss: 3.9389 - val_loss: 4.5214 - _timestamp: 1648822115.0000 - _runtime: 187.0000\n",
            "Epoch 41: early stopping\n",
            "Avg SSIM over X_test: 0.888632854817173\n",
            "\n"
          ]
        },
        {
          "output_type": "display_data",
          "data": {
            "text/plain": [
              "<IPython.core.display.HTML object>"
            ],
            "text/html": [
              "Waiting for W&B process to finish... <strong style=\"color:green\">(success).</strong>"
            ]
          },
          "metadata": {}
        },
        {
          "output_type": "display_data",
          "data": {
            "text/plain": [
              "VBox(children=(Label(value='16.318 MB of 16.318 MB uploaded (0.000 MB deduped)\\r'), FloatProgress(value=1.0, m…"
            ],
            "application/vnd.jupyter.widget-view+json": {
              "version_major": 2,
              "version_minor": 0,
              "model_id": "fc3460412dca4affa52bbd52a27742b8"
            }
          },
          "metadata": {}
        },
        {
          "output_type": "display_data",
          "data": {
            "text/plain": [
              "<IPython.core.display.HTML object>"
            ],
            "text/html": [
              "<style>\n",
              "    table.wandb td:nth-child(1) { padding: 0 10px; text-align: right }\n",
              "    .wandb-row { display: flex; flex-direction: row; flex-wrap: wrap; width: 100% }\n",
              "    .wandb-col { display: flex; flex-direction: column; flex-basis: 100%; flex: 1; padding: 10px; }\n",
              "    </style>\n",
              "<div class=\"wandb-row\"><div class=\"wandb-col\"><h3>Run history:</h3><br/><table class=\"wandb\"><tr><td>avg_ssim_score_x_test</td><td>▁</td></tr><tr><td>epoch</td><td>▁▁▁▂▂▂▂▂▂▃▃▃▃▃▃▄▄▄▄▄▅▅▅▅▅▅▆▆▆▆▆▆▇▇▇▇▇▇██</td></tr><tr><td>loss</td><td>█▃▂▂▂▂▂▁▁▁▁▁▁▁▁▁▁▁▁▁▁▁▁▁▁▁▁▁▁▁▁▁▁▁▁▁▁▁▁▁</td></tr><tr><td>val_loss</td><td>█▆▄▂▂▂▂▂▂▂▁▂▁▂▁▂▁▁▁▁▁▁▁▁▁▁▁▁▁▁▁▁▁▁▁▁▁▁▁▁</td></tr></table><br/></div><div class=\"wandb-col\"><h3>Run summary:</h3><br/><table class=\"wandb\"><tr><td>avg_ssim_score_x_test</td><td>0.88863</td></tr><tr><td>best_epoch</td><td>30</td></tr><tr><td>best_val_loss</td><td>4.40704</td></tr><tr><td>epoch</td><td>40</td></tr><tr><td>loss</td><td>3.93889</td></tr><tr><td>val_loss</td><td>4.52141</td></tr></table><br/></div></div>"
            ]
          },
          "metadata": {}
        },
        {
          "output_type": "display_data",
          "data": {
            "text/plain": [
              "<IPython.core.display.HTML object>"
            ],
            "text/html": [
              "Synced <strong style=\"color:#cdcd00\">Model vae_3.2_c</strong>: <a href=\"https://wandb.ai/csc2231-yash-siphelele/autoencoders_RQ_comparison/runs/1bk7eu3m\" target=\"_blank\">https://wandb.ai/csc2231-yash-siphelele/autoencoders_RQ_comparison/runs/1bk7eu3m</a><br/>Synced 5 W&B file(s), 0 media file(s), 0 artifact file(s) and 1 other file(s)"
            ]
          },
          "metadata": {}
        },
        {
          "output_type": "display_data",
          "data": {
            "text/plain": [
              "<IPython.core.display.HTML object>"
            ],
            "text/html": [
              "Find logs at: <code>./wandb/run-20220401_140528-1bk7eu3m/logs</code>"
            ]
          },
          "metadata": {}
        }
      ]
    },
    {
      "cell_type": "markdown",
      "source": [
        "## Exp 4"
      ],
      "metadata": {
        "id": "Y2SAx3t4ducI"
      }
    },
    {
      "cell_type": "code",
      "source": [
        "'''\n",
        "Model vae_4\n",
        "'''\n",
        "\n",
        "latent_dim = Z_DIM[2]  # Number of latent dimension parameters\n",
        "\n",
        "input_img = Input(shape=(32, 32, 3))\n",
        "\n",
        "x = Conv2D(32, (3, 3), activation='relu', padding='same', strides=2)(input_img)\n",
        "x = BatchNormalization()(x)\n",
        "\n",
        "x = Conv2D(16, (3, 3), activation='relu', padding='same', strides=2)(x)\n",
        "x = BatchNormalization()(x)\n",
        "\n",
        "# x = Conv2D(16, (3, 3), activation='relu', padding='same', strides=2)(x)\n",
        "# x = BatchNormalization()(x)\n",
        "\n",
        "shape_before_flattening = K.int_shape(x)\n",
        "# print(shape_before_flattening)\n",
        "x = Flatten()(x)\n",
        "\n",
        "z_mu = Dense(latent_dim)(x)\n",
        "z_log_sigma = Dense(latent_dim, kernel_initializer='zeros', bias_initializer='zeros')(x)\n",
        "\n",
        "\n",
        "# sampling function\n",
        "def sampling(args):\n",
        "    z_mu, z_log_sigma = args\n",
        "    epsilon = K.random_normal(shape=(K.shape(z_mu)[0], latent_dim),\n",
        "                              mean=0., stddev=1.)\n",
        "    return z_mu + K.exp(z_log_sigma) * epsilon\n",
        "\n",
        "# sample vector from the latent distribution\n",
        "z = Lambda(sampling)([z_mu, z_log_sigma])\n",
        "\n",
        "encoder = Model(input_img,z)\n",
        "\n",
        "# decoder takes the latent distribution sample as input\n",
        "decoder_input = Input(K.int_shape(z)[1:])\n",
        "x = Dense(4096, activation='relu', name=\"intermediate_decoder\", input_shape=(latent_dim,))(decoder_input)\n",
        "x = Reshape((8,8,64))(x)\n",
        "\n",
        "x = Conv2DTranspose(32, (3, 3),strides= 2, padding='same')(x)\n",
        "x = BatchNormalization()(x)\n",
        "\n",
        "# x = Conv2DTranspose(16, (3, 3),strides= 2, padding='same')(x)\n",
        "# x = BatchNormalization()(x)\n",
        "\n",
        "# x = Conv2DTranspose(8, (3, 3),strides= 2, padding='same')(x)\n",
        "# x = BatchNormalization()(x)\n",
        "\n",
        "x = Conv2DTranspose(3, (3, 3),strides= 2, padding='same', activation='sigmoid')(x)\n",
        "\n",
        "\n",
        "# decoder model statement\n",
        "decoder = Model(decoder_input, x)\n",
        "\n",
        "# apply the decoder to the sample from the latent distribution\n",
        "pred = decoder(z)\n",
        "\n",
        "\n",
        "def vae_loss(x, pred):\n",
        "    x = K.flatten(x)\n",
        "    pred = K.flatten(pred)\n",
        "    # Reconstruction loss\n",
        "    #reconst_loss = 100 * binary_crossentropy(x, pred)\n",
        "    reconst_loss = 1000*K.mean(K.square(x - pred))\n",
        "    \n",
        "    # KL divergence\n",
        "    kl_loss = -0.5 * K.mean(1 + z_log_sigma - K.square(z_mu) - K.exp(z_log_sigma), axis=-1)\n",
        "    \n",
        "    return (reconst_loss + kl_loss)\n",
        "\n",
        "\n",
        "# VAE model statement\n",
        "vae = Model(input_img, pred)\n",
        "vae.add_loss(vae_loss(input_img,pred))\n",
        "optimizer = Adam(learning_rate=LEARNING_RATES[1])\n",
        "vae.compile(optimizer=optimizer, loss=None)\n",
        "\n",
        "vae.summary()\n",
        "\n",
        "\n",
        "# fit and track the model \n",
        "fit_model_and_log_metrics(\"Model vae_4_c\", \"With maxpooling, convtranspose, dense, and flatten\", vae, 50, 256)"
      ],
      "metadata": {
        "colab": {
          "base_uri": "https://localhost:8080/",
          "height": 1000,
          "referenced_widgets": [
            "cd114f25ca4d407c920005dc4a91f7e9",
            "d9b14d9c338b432b9695282f17da165e",
            "b0268c567c1f4cdc98e6552d1fede55e",
            "ec946391c7fd4bf99573554f4043d028",
            "5fb0324e3e3c43efb27bd41936574272",
            "c2229845ce474078aa069185cc32731f",
            "86776921f8774f6e91140b300108cab6",
            "745447f92fe24f1983a52e423fd1fb14"
          ]
        },
        "id": "e1MFp8mHdvfT",
        "outputId": "08572fc7-aede-4b3a-9dec-51ba7da14d59"
      },
      "execution_count": null,
      "outputs": [
        {
          "output_type": "stream",
          "name": "stdout",
          "text": [
            "Model: \"model_20\"\n",
            "__________________________________________________________________________________________________\n",
            " Layer (type)                   Output Shape         Param #     Connected to                     \n",
            "==================================================================================================\n",
            " input_13 (InputLayer)          [(None, 32, 32, 3)]  0           []                               \n",
            "                                                                                                  \n",
            " conv2d_18 (Conv2D)             (None, 16, 16, 32)   896         ['input_13[0][0]']               \n",
            "                                                                                                  \n",
            " batch_normalization_24 (BatchN  (None, 16, 16, 32)  128         ['conv2d_18[0][0]']              \n",
            " ormalization)                                                                                    \n",
            "                                                                                                  \n",
            " conv2d_19 (Conv2D)             (None, 8, 8, 16)     4624        ['batch_normalization_24[0][0]'] \n",
            "                                                                                                  \n",
            " batch_normalization_25 (BatchN  (None, 8, 8, 16)    64          ['conv2d_19[0][0]']              \n",
            " ormalization)                                                                                    \n",
            "                                                                                                  \n",
            " flatten_6 (Flatten)            (None, 1024)         0           ['batch_normalization_25[0][0]'] \n",
            "                                                                                                  \n",
            " dense_12 (Dense)               (None, 300)          307500      ['flatten_6[0][0]']              \n",
            "                                                                                                  \n",
            " dense_13 (Dense)               (None, 300)          307500      ['flatten_6[0][0]']              \n",
            "                                                                                                  \n",
            " lambda_6 (Lambda)              (None, 300)          0           ['dense_12[0][0]',               \n",
            "                                                                  'dense_13[0][0]']               \n",
            "                                                                                                  \n",
            " model_19 (Functional)          (None, 32, 32, 3)    1252355     ['lambda_6[0][0]']               \n",
            "                                                                                                  \n",
            " tf.reshape_12 (TFOpLambda)     (None,)              0           ['input_13[0][0]']               \n",
            "                                                                                                  \n",
            " tf.reshape_13 (TFOpLambda)     (None,)              0           ['model_19[0][0]']               \n",
            "                                                                                                  \n",
            " tf.__operators__.add_12 (TFOpL  (None, 300)         0           ['dense_13[0][0]']               \n",
            " ambda)                                                                                           \n",
            "                                                                                                  \n",
            " tf.math.square_13 (TFOpLambda)  (None, 300)         0           ['dense_12[0][0]']               \n",
            "                                                                                                  \n",
            " tf.math.subtract_18 (TFOpLambd  (None,)             0           ['tf.reshape_12[0][0]',          \n",
            " a)                                                               'tf.reshape_13[0][0]']          \n",
            "                                                                                                  \n",
            " tf.math.subtract_19 (TFOpLambd  (None, 300)         0           ['tf.__operators__.add_12[0][0]',\n",
            " a)                                                               'tf.math.square_13[0][0]']      \n",
            "                                                                                                  \n",
            " tf.math.exp_6 (TFOpLambda)     (None, 300)          0           ['dense_13[0][0]']               \n",
            "                                                                                                  \n",
            " tf.math.square_12 (TFOpLambda)  (None,)             0           ['tf.math.subtract_18[0][0]']    \n",
            "                                                                                                  \n",
            " tf.math.subtract_20 (TFOpLambd  (None, 300)         0           ['tf.math.subtract_19[0][0]',    \n",
            " a)                                                               'tf.math.exp_6[0][0]']          \n",
            "                                                                                                  \n",
            " tf.math.reduce_mean_12 (TFOpLa  ()                  0           ['tf.math.square_12[0][0]']      \n",
            " mbda)                                                                                            \n",
            "                                                                                                  \n",
            " tf.math.reduce_mean_13 (TFOpLa  (None,)             0           ['tf.math.subtract_20[0][0]']    \n",
            " mbda)                                                                                            \n",
            "                                                                                                  \n",
            " tf.math.multiply_12 (TFOpLambd  ()                  0           ['tf.math.reduce_mean_12[0][0]'] \n",
            " a)                                                                                               \n",
            "                                                                                                  \n",
            " tf.math.multiply_13 (TFOpLambd  (None,)             0           ['tf.math.reduce_mean_13[0][0]'] \n",
            " a)                                                                                               \n",
            "                                                                                                  \n",
            " tf.__operators__.add_13 (TFOpL  (None,)             0           ['tf.math.multiply_12[0][0]',    \n",
            " ambda)                                                           'tf.math.multiply_13[0][0]']    \n",
            "                                                                                                  \n",
            " add_loss_6 (AddLoss)           (None,)              0           ['tf.__operators__.add_13[0][0]']\n",
            "                                                                                                  \n",
            "==================================================================================================\n",
            "Total params: 1,873,067\n",
            "Trainable params: 1,872,907\n",
            "Non-trainable params: 160\n",
            "__________________________________________________________________________________________________\n"
          ]
        },
        {
          "output_type": "display_data",
          "data": {
            "text/plain": [
              "<IPython.core.display.HTML object>"
            ],
            "text/html": [
              "Tracking run with wandb version 0.12.11"
            ]
          },
          "metadata": {}
        },
        {
          "output_type": "display_data",
          "data": {
            "text/plain": [
              "<IPython.core.display.HTML object>"
            ],
            "text/html": [
              "Run data is saved locally in <code>/content/wandb/run-20220401_141531-20lnzw4x</code>"
            ]
          },
          "metadata": {}
        },
        {
          "output_type": "display_data",
          "data": {
            "text/plain": [
              "<IPython.core.display.HTML object>"
            ],
            "text/html": [
              "Syncing run <strong><a href=\"https://wandb.ai/csc2231-yash-siphelele/autoencoders_RQ_comparison/runs/20lnzw4x\" target=\"_blank\">Model vae_4_c</a></strong> to <a href=\"https://wandb.ai/csc2231-yash-siphelele/autoencoders_RQ_comparison\" target=\"_blank\">Weights & Biases</a> (<a href=\"https://wandb.me/run\" target=\"_blank\">docs</a>)<br/>"
            ]
          },
          "metadata": {}
        },
        {
          "output_type": "stream",
          "name": "stdout",
          "text": [
            "Epoch 1/50\n",
            "196/196 [==============================] - 7s 26ms/step - loss: 14.7957 - val_loss: 36.7034 - _timestamp: 1648822547.0000 - _runtime: 16.0000\n",
            "Epoch 2/50\n",
            "196/196 [==============================] - 4s 22ms/step - loss: 6.1991 - val_loss: 13.6288 - _timestamp: 1648822551.0000 - _runtime: 20.0000\n",
            "Epoch 3/50\n",
            "196/196 [==============================] - 5s 24ms/step - loss: 5.1441 - val_loss: 7.3141 - _timestamp: 1648822556.0000 - _runtime: 25.0000\n",
            "Epoch 4/50\n",
            "196/196 [==============================] - 4s 22ms/step - loss: 4.6637 - val_loss: 5.8296 - _timestamp: 1648822560.0000 - _runtime: 29.0000\n",
            "Epoch 5/50\n",
            "196/196 [==============================] - 4s 22ms/step - loss: 4.3929 - val_loss: 5.0025 - _timestamp: 1648822564.0000 - _runtime: 33.0000\n",
            "Epoch 6/50\n",
            "196/196 [==============================] - 4s 22ms/step - loss: 4.1637 - val_loss: 4.7270 - _timestamp: 1648822569.0000 - _runtime: 38.0000\n",
            "Epoch 7/50\n",
            "196/196 [==============================] - 5s 24ms/step - loss: 4.0491 - val_loss: 4.5739 - _timestamp: 1648822574.0000 - _runtime: 43.0000\n",
            "Epoch 8/50\n",
            "196/196 [==============================] - 4s 22ms/step - loss: 3.9617 - val_loss: 4.8726 - _timestamp: 1648822578.0000 - _runtime: 47.0000\n",
            "Epoch 9/50\n",
            "196/196 [==============================] - 4s 21ms/step - loss: 3.9108 - val_loss: 5.0969 - _timestamp: 1648822582.0000 - _runtime: 51.0000\n",
            "Epoch 10/50\n",
            "196/196 [==============================] - 4s 22ms/step - loss: 3.8478 - val_loss: 4.1877 - _timestamp: 1648822586.0000 - _runtime: 55.0000\n",
            "Epoch 11/50\n",
            "196/196 [==============================] - 4s 21ms/step - loss: 3.8172 - val_loss: 4.4185 - _timestamp: 1648822591.0000 - _runtime: 60.0000\n",
            "Epoch 12/50\n",
            "196/196 [==============================] - 4s 21ms/step - loss: 3.7767 - val_loss: 4.7043 - _timestamp: 1648822595.0000 - _runtime: 64.0000\n",
            "Epoch 13/50\n",
            "196/196 [==============================] - 4s 22ms/step - loss: 3.7389 - val_loss: 4.4316 - _timestamp: 1648822599.0000 - _runtime: 68.0000\n",
            "Epoch 14/50\n",
            "196/196 [==============================] - 4s 22ms/step - loss: 3.7430 - val_loss: 3.9982 - _timestamp: 1648822603.0000 - _runtime: 72.0000\n",
            "Epoch 15/50\n",
            "196/196 [==============================] - 4s 22ms/step - loss: 3.6821 - val_loss: 3.8324 - _timestamp: 1648822608.0000 - _runtime: 77.0000\n",
            "Epoch 16/50\n",
            "196/196 [==============================] - 4s 21ms/step - loss: 3.6679 - val_loss: 4.2521 - _timestamp: 1648822612.0000 - _runtime: 81.0000\n",
            "Epoch 17/50\n",
            "196/196 [==============================] - 4s 23ms/step - loss: 3.6535 - val_loss: 3.7362 - _timestamp: 1648822616.0000 - _runtime: 85.0000\n",
            "Epoch 18/50\n",
            "196/196 [==============================] - 4s 22ms/step - loss: 3.6412 - val_loss: 4.1353 - _timestamp: 1648822621.0000 - _runtime: 90.0000\n",
            "Epoch 19/50\n",
            "196/196 [==============================] - 4s 22ms/step - loss: 3.6343 - val_loss: 4.0027 - _timestamp: 1648822625.0000 - _runtime: 94.0000\n",
            "Epoch 20/50\n",
            "196/196 [==============================] - 4s 22ms/step - loss: 3.6195 - val_loss: 3.6806 - _timestamp: 1648822629.0000 - _runtime: 98.0000\n",
            "Epoch 21/50\n",
            "196/196 [==============================] - 4s 21ms/step - loss: 3.6021 - val_loss: 3.9595 - _timestamp: 1648822633.0000 - _runtime: 102.0000\n",
            "Epoch 22/50\n",
            "196/196 [==============================] - 4s 22ms/step - loss: 3.6030 - val_loss: 3.7673 - _timestamp: 1648822638.0000 - _runtime: 107.0000\n",
            "Epoch 23/50\n",
            "196/196 [==============================] - 4s 22ms/step - loss: 3.5845 - val_loss: 3.7272 - _timestamp: 1648822642.0000 - _runtime: 111.0000\n",
            "Epoch 24/50\n",
            "196/196 [==============================] - 4s 21ms/step - loss: 3.5686 - val_loss: 3.8785 - _timestamp: 1648822646.0000 - _runtime: 115.0000\n",
            "Epoch 25/50\n",
            "196/196 [==============================] - 4s 21ms/step - loss: 3.5529 - val_loss: 4.2118 - _timestamp: 1648822650.0000 - _runtime: 119.0000\n",
            "Epoch 26/50\n",
            "196/196 [==============================] - 4s 21ms/step - loss: 3.5559 - val_loss: 4.1201 - _timestamp: 1648822654.0000 - _runtime: 123.0000\n",
            "Epoch 27/50\n",
            "196/196 [==============================] - 4s 22ms/step - loss: 3.5420 - val_loss: 3.7090 - _timestamp: 1648822659.0000 - _runtime: 128.0000\n",
            "Epoch 28/50\n",
            "196/196 [==============================] - 4s 21ms/step - loss: 3.5395 - val_loss: 3.8617 - _timestamp: 1648822663.0000 - _runtime: 132.0000\n",
            "Epoch 29/50\n",
            "196/196 [==============================] - 4s 22ms/step - loss: 3.4980 - val_loss: 3.7570 - _timestamp: 1648822667.0000 - _runtime: 136.0000\n",
            "Epoch 30/50\n",
            "196/196 [==============================] - 4s 22ms/step - loss: 3.5130 - val_loss: 3.7107 - _timestamp: 1648822671.0000 - _runtime: 140.0000\n",
            "Epoch 30: early stopping\n",
            "Avg SSIM over X_test: 0.9145981990942593\n",
            "\n"
          ]
        },
        {
          "output_type": "display_data",
          "data": {
            "text/plain": [
              "<IPython.core.display.HTML object>"
            ],
            "text/html": [
              "Waiting for W&B process to finish... <strong style=\"color:green\">(success).</strong>"
            ]
          },
          "metadata": {}
        },
        {
          "output_type": "display_data",
          "data": {
            "text/plain": [
              "VBox(children=(Label(value='21.549 MB of 21.549 MB uploaded (0.000 MB deduped)\\r'), FloatProgress(value=1.0, m…"
            ],
            "application/vnd.jupyter.widget-view+json": {
              "version_major": 2,
              "version_minor": 0,
              "model_id": "cd114f25ca4d407c920005dc4a91f7e9"
            }
          },
          "metadata": {}
        },
        {
          "output_type": "display_data",
          "data": {
            "text/plain": [
              "<IPython.core.display.HTML object>"
            ],
            "text/html": [
              "<style>\n",
              "    table.wandb td:nth-child(1) { padding: 0 10px; text-align: right }\n",
              "    .wandb-row { display: flex; flex-direction: row; flex-wrap: wrap; width: 100% }\n",
              "    .wandb-col { display: flex; flex-direction: column; flex-basis: 100%; flex: 1; padding: 10px; }\n",
              "    </style>\n",
              "<div class=\"wandb-row\"><div class=\"wandb-col\"><h3>Run history:</h3><br/><table class=\"wandb\"><tr><td>avg_ssim_score_x_test</td><td>▁</td></tr><tr><td>epoch</td><td>▁▁▁▂▂▂▂▃▃▃▃▄▄▄▄▅▅▅▅▆▆▆▆▇▇▇▇███</td></tr><tr><td>loss</td><td>█▃▂▂▂▁▁▁▁▁▁▁▁▁▁▁▁▁▁▁▁▁▁▁▁▁▁▁▁▁</td></tr><tr><td>val_loss</td><td>█▃▂▁▁▁▁▁▁▁▁▁▁▁▁▁▁▁▁▁▁▁▁▁▁▁▁▁▁▁</td></tr></table><br/></div><div class=\"wandb-col\"><h3>Run summary:</h3><br/><table class=\"wandb\"><tr><td>avg_ssim_score_x_test</td><td>0.9146</td></tr><tr><td>best_epoch</td><td>19</td></tr><tr><td>best_val_loss</td><td>3.68062</td></tr><tr><td>epoch</td><td>29</td></tr><tr><td>loss</td><td>3.51297</td></tr><tr><td>val_loss</td><td>3.71067</td></tr></table><br/></div></div>"
            ]
          },
          "metadata": {}
        },
        {
          "output_type": "display_data",
          "data": {
            "text/plain": [
              "<IPython.core.display.HTML object>"
            ],
            "text/html": [
              "Synced <strong style=\"color:#cdcd00\">Model vae_4_c</strong>: <a href=\"https://wandb.ai/csc2231-yash-siphelele/autoencoders_RQ_comparison/runs/20lnzw4x\" target=\"_blank\">https://wandb.ai/csc2231-yash-siphelele/autoencoders_RQ_comparison/runs/20lnzw4x</a><br/>Synced 5 W&B file(s), 0 media file(s), 0 artifact file(s) and 1 other file(s)"
            ]
          },
          "metadata": {}
        },
        {
          "output_type": "display_data",
          "data": {
            "text/plain": [
              "<IPython.core.display.HTML object>"
            ],
            "text/html": [
              "Find logs at: <code>./wandb/run-20220401_141531-20lnzw4x/logs</code>"
            ]
          },
          "metadata": {}
        }
      ]
    },
    {
      "cell_type": "markdown",
      "source": [
        "## Exp 5"
      ],
      "metadata": {
        "id": "V-t77v_hlwkt"
      }
    },
    {
      "cell_type": "code",
      "source": [
        "'''\n",
        "Model vae_5\n",
        "'''\n",
        "\n",
        "latent_dim = Z_DIM[2]  # Number of latent dimension parameters\n",
        "\n",
        "input_img = Input(shape=(32, 32, 3))\n",
        "\n",
        "x = Conv2D(32, (3, 3), activation='relu', padding='same', strides=2)(input_img)\n",
        "x = BatchNormalization()(x)\n",
        "\n",
        "x = Conv2D(16, (3, 3), activation='relu', padding='same', strides=2)(x)\n",
        "x = BatchNormalization()(x)\n",
        "\n",
        "# x = Conv2D(16, (3, 3), activation='relu', padding='same', strides=2)(x)\n",
        "# x = BatchNormalization()(x)\n",
        "\n",
        "shape_before_flattening = K.int_shape(x)\n",
        "# print(shape_before_flattening)\n",
        "x = Flatten()(x)\n",
        "\n",
        "z_mu = Dense(latent_dim)(x)\n",
        "z_log_sigma = Dense(latent_dim, kernel_initializer='zeros', bias_initializer='zeros')(x)\n",
        "\n",
        "\n",
        "# sampling function\n",
        "def sampling(args):\n",
        "    z_mu, z_log_sigma = args\n",
        "    epsilon = K.random_normal(shape=(K.shape(z_mu)[0], latent_dim),\n",
        "                              mean=0., stddev=1.)\n",
        "    return z_mu + K.exp(z_log_sigma) * epsilon\n",
        "\n",
        "# sample vector from the latent distribution\n",
        "z = Lambda(sampling)([z_mu, z_log_sigma])\n",
        "\n",
        "encoder = Model(input_img,z)\n",
        "\n",
        "# decoder takes the latent distribution sample as input\n",
        "decoder_input = Input(K.int_shape(z)[1:])\n",
        "x = Dense(4096, activation='relu', name=\"intermediate_decoder\", input_shape=(latent_dim,))(decoder_input)\n",
        "x = Reshape((8,8,64))(x)\n",
        "\n",
        "x = Conv2DTranspose(32, (3, 3),strides= 2, padding='same')(x)\n",
        "x = BatchNormalization()(x)\n",
        "\n",
        "# x = Conv2DTranspose(16, (3, 3),strides= 2, padding='same')(x)\n",
        "# x = BatchNormalization()(x)\n",
        "\n",
        "# x = Conv2DTranspose(8, (3, 3),strides= 2, padding='same')(x)\n",
        "# x = BatchNormalization()(x)\n",
        "\n",
        "x = Conv2DTranspose(3, (3, 3),strides= 2, padding='same', activation='sigmoid')(x)\n",
        "\n",
        "\n",
        "# decoder model statement\n",
        "decoder = Model(decoder_input, x)\n",
        "\n",
        "# apply the decoder to the sample from the latent distribution\n",
        "pred = decoder(z)\n",
        "\n",
        "\n",
        "def vae_loss(x, pred):\n",
        "    x = K.flatten(x)\n",
        "    pred = K.flatten(pred)\n",
        "    # Reconstruction loss\n",
        "    #reconst_loss = 100 * binary_crossentropy(x, pred)\n",
        "    reconst_loss = 1000*K.mean(K.square(x - pred))\n",
        "    \n",
        "    # KL divergence\n",
        "    kl_loss = -0.5 * K.mean(1 + z_log_sigma - K.square(z_mu) - K.exp(z_log_sigma), axis=-1)\n",
        "    \n",
        "    return (reconst_loss + kl_loss)\n",
        "\n",
        "\n",
        "# VAE model statement\n",
        "vae = Model(input_img, pred)\n",
        "vae.add_loss(vae_loss(input_img,pred))\n",
        "optimizer = Adam(learning_rate=LEARNING_RATES[1])\n",
        "vae.compile(optimizer=optimizer, loss=None)\n",
        "\n",
        "vae.summary()\n",
        "\n",
        "\n",
        "# fit and track the model \n",
        "fit_model_and_log_metrics(\"Model vae_5\", \"With maxpooling, convtranspose, dense, and flatten\", vae, 50, 128)"
      ],
      "metadata": {
        "colab": {
          "base_uri": "https://localhost:8080/",
          "height": 1000,
          "referenced_widgets": [
            "ed6a0d17b3e6474da1023e0a13adc189",
            "221b62a9e3994a16a829a29772595c15",
            "0d0ced7afcbf4839a2a5162857c423a5",
            "7298173016f84670aaa6209a56b1bf43",
            "3007c6e45aa54b208f07bbc8eef3c930",
            "59bf480d83fb4310983f2fb6054e50e1",
            "67fd019ce09448dcb1c29e73a2c03737",
            "8fc9b2be158040ea9742164202a3dca6"
          ]
        },
        "id": "DUbiTBAAlzIp",
        "outputId": "4f84a5e6-49fc-4997-9ad7-2bd04f38bbdd"
      },
      "execution_count": null,
      "outputs": [
        {
          "output_type": "stream",
          "name": "stdout",
          "text": [
            "Model: \"model_23\"\n",
            "__________________________________________________________________________________________________\n",
            " Layer (type)                   Output Shape         Param #     Connected to                     \n",
            "==================================================================================================\n",
            " input_15 (InputLayer)          [(None, 32, 32, 3)]  0           []                               \n",
            "                                                                                                  \n",
            " conv2d_20 (Conv2D)             (None, 16, 16, 32)   896         ['input_15[0][0]']               \n",
            "                                                                                                  \n",
            " batch_normalization_27 (BatchN  (None, 16, 16, 32)  128         ['conv2d_20[0][0]']              \n",
            " ormalization)                                                                                    \n",
            "                                                                                                  \n",
            " conv2d_21 (Conv2D)             (None, 8, 8, 16)     4624        ['batch_normalization_27[0][0]'] \n",
            "                                                                                                  \n",
            " batch_normalization_28 (BatchN  (None, 8, 8, 16)    64          ['conv2d_21[0][0]']              \n",
            " ormalization)                                                                                    \n",
            "                                                                                                  \n",
            " flatten_7 (Flatten)            (None, 1024)         0           ['batch_normalization_28[0][0]'] \n",
            "                                                                                                  \n",
            " dense_14 (Dense)               (None, 300)          307500      ['flatten_7[0][0]']              \n",
            "                                                                                                  \n",
            " dense_15 (Dense)               (None, 300)          307500      ['flatten_7[0][0]']              \n",
            "                                                                                                  \n",
            " lambda_7 (Lambda)              (None, 300)          0           ['dense_14[0][0]',               \n",
            "                                                                  'dense_15[0][0]']               \n",
            "                                                                                                  \n",
            " model_22 (Functional)          (None, 32, 32, 3)    1252355     ['lambda_7[0][0]']               \n",
            "                                                                                                  \n",
            " tf.reshape_14 (TFOpLambda)     (None,)              0           ['input_15[0][0]']               \n",
            "                                                                                                  \n",
            " tf.reshape_15 (TFOpLambda)     (None,)              0           ['model_22[0][0]']               \n",
            "                                                                                                  \n",
            " tf.__operators__.add_14 (TFOpL  (None, 300)         0           ['dense_15[0][0]']               \n",
            " ambda)                                                                                           \n",
            "                                                                                                  \n",
            " tf.math.square_15 (TFOpLambda)  (None, 300)         0           ['dense_14[0][0]']               \n",
            "                                                                                                  \n",
            " tf.math.subtract_21 (TFOpLambd  (None,)             0           ['tf.reshape_14[0][0]',          \n",
            " a)                                                               'tf.reshape_15[0][0]']          \n",
            "                                                                                                  \n",
            " tf.math.subtract_22 (TFOpLambd  (None, 300)         0           ['tf.__operators__.add_14[0][0]',\n",
            " a)                                                               'tf.math.square_15[0][0]']      \n",
            "                                                                                                  \n",
            " tf.math.exp_7 (TFOpLambda)     (None, 300)          0           ['dense_15[0][0]']               \n",
            "                                                                                                  \n",
            " tf.math.square_14 (TFOpLambda)  (None,)             0           ['tf.math.subtract_21[0][0]']    \n",
            "                                                                                                  \n",
            " tf.math.subtract_23 (TFOpLambd  (None, 300)         0           ['tf.math.subtract_22[0][0]',    \n",
            " a)                                                               'tf.math.exp_7[0][0]']          \n",
            "                                                                                                  \n",
            " tf.math.reduce_mean_14 (TFOpLa  ()                  0           ['tf.math.square_14[0][0]']      \n",
            " mbda)                                                                                            \n",
            "                                                                                                  \n",
            " tf.math.reduce_mean_15 (TFOpLa  (None,)             0           ['tf.math.subtract_23[0][0]']    \n",
            " mbda)                                                                                            \n",
            "                                                                                                  \n",
            " tf.math.multiply_14 (TFOpLambd  ()                  0           ['tf.math.reduce_mean_14[0][0]'] \n",
            " a)                                                                                               \n",
            "                                                                                                  \n",
            " tf.math.multiply_15 (TFOpLambd  (None,)             0           ['tf.math.reduce_mean_15[0][0]'] \n",
            " a)                                                                                               \n",
            "                                                                                                  \n",
            " tf.__operators__.add_15 (TFOpL  (None,)             0           ['tf.math.multiply_14[0][0]',    \n",
            " ambda)                                                           'tf.math.multiply_15[0][0]']    \n",
            "                                                                                                  \n",
            " add_loss_7 (AddLoss)           (None,)              0           ['tf.__operators__.add_15[0][0]']\n",
            "                                                                                                  \n",
            "==================================================================================================\n",
            "Total params: 1,873,067\n",
            "Trainable params: 1,872,907\n",
            "Non-trainable params: 160\n",
            "__________________________________________________________________________________________________\n"
          ]
        },
        {
          "output_type": "display_data",
          "data": {
            "text/plain": [
              "<IPython.core.display.HTML object>"
            ],
            "text/html": [
              "Tracking run with wandb version 0.12.11"
            ]
          },
          "metadata": {}
        },
        {
          "output_type": "display_data",
          "data": {
            "text/plain": [
              "<IPython.core.display.HTML object>"
            ],
            "text/html": [
              "Run data is saved locally in <code>/content/wandb/run-20220401_144752-1r5euw8y</code>"
            ]
          },
          "metadata": {}
        },
        {
          "output_type": "display_data",
          "data": {
            "text/plain": [
              "<IPython.core.display.HTML object>"
            ],
            "text/html": [
              "Syncing run <strong><a href=\"https://wandb.ai/csc2231-yash-siphelele/autoencoders_RQ_comparison/runs/1r5euw8y\" target=\"_blank\">Model vae_5</a></strong> to <a href=\"https://wandb.ai/csc2231-yash-siphelele/autoencoders_RQ_comparison\" target=\"_blank\">Weights & Biases</a> (<a href=\"https://wandb.me/run\" target=\"_blank\">docs</a>)<br/>"
            ]
          },
          "metadata": {}
        },
        {
          "output_type": "stream",
          "name": "stdout",
          "text": [
            "Epoch 1/50\n",
            "391/391 [==============================] - 7s 16ms/step - loss: 11.9686 - val_loss: 16.9724 - _timestamp: 1648824486.0000 - _runtime: 14.0000\n",
            "Epoch 2/50\n",
            "391/391 [==============================] - 6s 14ms/step - loss: 5.8065 - val_loss: 6.4966 - _timestamp: 1648824492.0000 - _runtime: 20.0000\n",
            "Epoch 3/50\n",
            "391/391 [==============================] - 5s 14ms/step - loss: 4.9782 - val_loss: 4.9039 - _timestamp: 1648824497.0000 - _runtime: 25.0000\n",
            "Epoch 4/50\n",
            "391/391 [==============================] - 5s 13ms/step - loss: 4.5535 - val_loss: 4.7385 - _timestamp: 1648824503.0000 - _runtime: 31.0000\n",
            "Epoch 5/50\n",
            "391/391 [==============================] - 5s 13ms/step - loss: 4.2901 - val_loss: 4.2794 - _timestamp: 1648824508.0000 - _runtime: 36.0000\n",
            "Epoch 6/50\n",
            "391/391 [==============================] - 5s 14ms/step - loss: 4.1429 - val_loss: 4.6573 - _timestamp: 1648824513.0000 - _runtime: 41.0000\n",
            "Epoch 7/50\n",
            "391/391 [==============================] - 6s 14ms/step - loss: 4.0452 - val_loss: 4.2770 - _timestamp: 1648824519.0000 - _runtime: 47.0000\n",
            "Epoch 8/50\n",
            "391/391 [==============================] - 6s 14ms/step - loss: 3.9931 - val_loss: 4.1739 - _timestamp: 1648824524.0000 - _runtime: 52.0000\n",
            "Epoch 9/50\n",
            "391/391 [==============================] - 5s 13ms/step - loss: 3.9222 - val_loss: 3.9397 - _timestamp: 1648824529.0000 - _runtime: 57.0000\n",
            "Epoch 10/50\n",
            "391/391 [==============================] - 5s 14ms/step - loss: 3.8806 - val_loss: 4.3987 - _timestamp: 1648824535.0000 - _runtime: 63.0000\n",
            "Epoch 11/50\n",
            "391/391 [==============================] - 5s 14ms/step - loss: 3.8710 - val_loss: 4.8808 - _timestamp: 1648824540.0000 - _runtime: 68.0000\n",
            "Epoch 12/50\n",
            "391/391 [==============================] - 5s 13ms/step - loss: 3.8123 - val_loss: 3.9567 - _timestamp: 1648824545.0000 - _runtime: 73.0000\n",
            "Epoch 13/50\n",
            "391/391 [==============================] - 5s 13ms/step - loss: 3.7943 - val_loss: 3.7623 - _timestamp: 1648824551.0000 - _runtime: 79.0000\n",
            "Epoch 14/50\n",
            "391/391 [==============================] - 5s 13ms/step - loss: 3.7480 - val_loss: 4.1092 - _timestamp: 1648824556.0000 - _runtime: 84.0000\n",
            "Epoch 15/50\n",
            "391/391 [==============================] - 5s 14ms/step - loss: 3.7146 - val_loss: 3.8728 - _timestamp: 1648824561.0000 - _runtime: 89.0000\n",
            "Epoch 16/50\n",
            "391/391 [==============================] - 5s 13ms/step - loss: 3.6812 - val_loss: 4.4152 - _timestamp: 1648824566.0000 - _runtime: 94.0000\n",
            "Epoch 17/50\n",
            "391/391 [==============================] - 5s 14ms/step - loss: 3.6779 - val_loss: 3.7694 - _timestamp: 1648824572.0000 - _runtime: 100.0000\n",
            "Epoch 18/50\n",
            "391/391 [==============================] - 5s 13ms/step - loss: 3.6694 - val_loss: 3.7595 - _timestamp: 1648824577.0000 - _runtime: 105.0000\n",
            "Epoch 19/50\n",
            "391/391 [==============================] - 5s 13ms/step - loss: 3.6283 - val_loss: 3.7389 - _timestamp: 1648824582.0000 - _runtime: 110.0000\n",
            "Epoch 20/50\n",
            "391/391 [==============================] - 5s 13ms/step - loss: 3.5943 - val_loss: 3.8725 - _timestamp: 1648824587.0000 - _runtime: 115.0000\n",
            "Epoch 21/50\n",
            "391/391 [==============================] - 5s 14ms/step - loss: 3.5793 - val_loss: 3.6214 - _timestamp: 1648824593.0000 - _runtime: 121.0000\n",
            "Epoch 22/50\n",
            "391/391 [==============================] - 5s 14ms/step - loss: 3.5813 - val_loss: 4.0564 - _timestamp: 1648824598.0000 - _runtime: 126.0000\n",
            "Epoch 23/50\n",
            "391/391 [==============================] - 5s 13ms/step - loss: 3.5732 - val_loss: 3.6521 - _timestamp: 1648824603.0000 - _runtime: 131.0000\n",
            "Epoch 24/50\n",
            "391/391 [==============================] - 5s 14ms/step - loss: 3.5443 - val_loss: 3.6604 - _timestamp: 1648824609.0000 - _runtime: 137.0000\n",
            "Epoch 25/50\n",
            "391/391 [==============================] - 5s 13ms/step - loss: 3.5509 - val_loss: 4.9485 - _timestamp: 1648824614.0000 - _runtime: 142.0000\n",
            "Epoch 26/50\n",
            "391/391 [==============================] - 6s 14ms/step - loss: 3.5318 - val_loss: 3.5372 - _timestamp: 1648824619.0000 - _runtime: 147.0000\n",
            "Epoch 27/50\n",
            "391/391 [==============================] - 5s 13ms/step - loss: 3.5382 - val_loss: 3.6055 - _timestamp: 1648824624.0000 - _runtime: 152.0000\n",
            "Epoch 28/50\n",
            "391/391 [==============================] - 5s 14ms/step - loss: 3.5046 - val_loss: 3.5143 - _timestamp: 1648824630.0000 - _runtime: 158.0000\n",
            "Epoch 29/50\n",
            "391/391 [==============================] - 5s 14ms/step - loss: 3.5183 - val_loss: 3.7041 - _timestamp: 1648824635.0000 - _runtime: 163.0000\n",
            "Epoch 30/50\n",
            "391/391 [==============================] - 5s 14ms/step - loss: 3.4919 - val_loss: 3.7586 - _timestamp: 1648824641.0000 - _runtime: 169.0000\n",
            "Epoch 31/50\n",
            "391/391 [==============================] - 5s 14ms/step - loss: 3.4871 - val_loss: 3.5001 - _timestamp: 1648824646.0000 - _runtime: 174.0000\n",
            "Epoch 32/50\n",
            "391/391 [==============================] - 5s 14ms/step - loss: 3.4784 - val_loss: 4.0069 - _timestamp: 1648824651.0000 - _runtime: 179.0000\n",
            "Epoch 33/50\n",
            "391/391 [==============================] - 5s 14ms/step - loss: 3.4775 - val_loss: 3.7503 - _timestamp: 1648824657.0000 - _runtime: 185.0000\n",
            "Epoch 34/50\n",
            "391/391 [==============================] - 5s 14ms/step - loss: 3.4707 - val_loss: 5.0703 - _timestamp: 1648824662.0000 - _runtime: 190.0000\n",
            "Epoch 35/50\n",
            "391/391 [==============================] - 5s 14ms/step - loss: 3.4773 - val_loss: 3.4574 - _timestamp: 1648824667.0000 - _runtime: 195.0000\n",
            "Epoch 36/50\n",
            "391/391 [==============================] - 5s 13ms/step - loss: 3.4380 - val_loss: 4.7238 - _timestamp: 1648824673.0000 - _runtime: 201.0000\n",
            "Epoch 37/50\n",
            "391/391 [==============================] - 5s 13ms/step - loss: 3.4382 - val_loss: 3.7113 - _timestamp: 1648824678.0000 - _runtime: 206.0000\n",
            "Epoch 38/50\n",
            "391/391 [==============================] - 5s 14ms/step - loss: 3.4721 - val_loss: 3.4808 - _timestamp: 1648824683.0000 - _runtime: 211.0000\n",
            "Epoch 39/50\n",
            "391/391 [==============================] - 5s 14ms/step - loss: 3.4348 - val_loss: 3.9753 - _timestamp: 1648824688.0000 - _runtime: 216.0000\n",
            "Epoch 40/50\n",
            "391/391 [==============================] - 5s 13ms/step - loss: 3.4202 - val_loss: 3.7357 - _timestamp: 1648824694.0000 - _runtime: 222.0000\n",
            "Epoch 41/50\n",
            "391/391 [==============================] - 5s 13ms/step - loss: 3.4232 - val_loss: 3.6358 - _timestamp: 1648824699.0000 - _runtime: 227.0000\n",
            "Epoch 42/50\n",
            "391/391 [==============================] - 5s 14ms/step - loss: 3.4168 - val_loss: 3.5042 - _timestamp: 1648824704.0000 - _runtime: 232.0000\n",
            "Epoch 43/50\n",
            "391/391 [==============================] - 5s 14ms/step - loss: 3.4091 - val_loss: 3.4743 - _timestamp: 1648824709.0000 - _runtime: 237.0000\n",
            "Epoch 44/50\n",
            "391/391 [==============================] - 5s 13ms/step - loss: 3.4034 - val_loss: 3.7573 - _timestamp: 1648824715.0000 - _runtime: 243.0000\n",
            "Epoch 45/50\n",
            "391/391 [==============================] - 5s 13ms/step - loss: 3.4164 - val_loss: 3.5626 - _timestamp: 1648824720.0000 - _runtime: 248.0000\n",
            "Epoch 45: early stopping\n",
            "Avg SSIM over X_test: 0.9148127326575727\n",
            "\n"
          ]
        },
        {
          "output_type": "display_data",
          "data": {
            "text/plain": [
              "<IPython.core.display.HTML object>"
            ],
            "text/html": [
              "Waiting for W&B process to finish... <strong style=\"color:green\">(success).</strong>"
            ]
          },
          "metadata": {}
        },
        {
          "output_type": "display_data",
          "data": {
            "text/plain": [
              "VBox(children=(Label(value='21.549 MB of 21.549 MB uploaded (0.000 MB deduped)\\r'), FloatProgress(value=1.0, m…"
            ],
            "application/vnd.jupyter.widget-view+json": {
              "version_major": 2,
              "version_minor": 0,
              "model_id": "ed6a0d17b3e6474da1023e0a13adc189"
            }
          },
          "metadata": {}
        },
        {
          "output_type": "display_data",
          "data": {
            "text/plain": [
              "<IPython.core.display.HTML object>"
            ],
            "text/html": [
              "<style>\n",
              "    table.wandb td:nth-child(1) { padding: 0 10px; text-align: right }\n",
              "    .wandb-row { display: flex; flex-direction: row; flex-wrap: wrap; width: 100% }\n",
              "    .wandb-col { display: flex; flex-direction: column; flex-basis: 100%; flex: 1; padding: 10px; }\n",
              "    </style>\n",
              "<div class=\"wandb-row\"><div class=\"wandb-col\"><h3>Run history:</h3><br/><table class=\"wandb\"><tr><td>avg_ssim_score_x_test</td><td>▁</td></tr><tr><td>epoch</td><td>▁▁▁▁▂▂▂▂▂▃▃▃▃▃▃▄▄▄▄▄▅▅▅▅▅▅▆▆▆▆▆▆▇▇▇▇▇███</td></tr><tr><td>loss</td><td>█▃▂▂▂▂▂▁▁▁▁▁▁▁▁▁▁▁▁▁▁▁▁▁▁▁▁▁▁▁▁▁▁▁▁▁▁▁▁▁</td></tr><tr><td>val_loss</td><td>█▃▂▂▁▂▁▁▁▂▁▁▁▁▁▁▁▁▁▁▁▁▂▁▁▁▁▁▁▁▂▁▁▁▁▁▁▁▁▁</td></tr></table><br/></div><div class=\"wandb-col\"><h3>Run summary:</h3><br/><table class=\"wandb\"><tr><td>avg_ssim_score_x_test</td><td>0.91481</td></tr><tr><td>best_epoch</td><td>34</td></tr><tr><td>best_val_loss</td><td>3.45737</td></tr><tr><td>epoch</td><td>44</td></tr><tr><td>loss</td><td>3.41639</td></tr><tr><td>val_loss</td><td>3.56259</td></tr></table><br/></div></div>"
            ]
          },
          "metadata": {}
        },
        {
          "output_type": "display_data",
          "data": {
            "text/plain": [
              "<IPython.core.display.HTML object>"
            ],
            "text/html": [
              "Synced <strong style=\"color:#cdcd00\">Model vae_5</strong>: <a href=\"https://wandb.ai/csc2231-yash-siphelele/autoencoders_RQ_comparison/runs/1r5euw8y\" target=\"_blank\">https://wandb.ai/csc2231-yash-siphelele/autoencoders_RQ_comparison/runs/1r5euw8y</a><br/>Synced 5 W&B file(s), 0 media file(s), 0 artifact file(s) and 1 other file(s)"
            ]
          },
          "metadata": {}
        },
        {
          "output_type": "display_data",
          "data": {
            "text/plain": [
              "<IPython.core.display.HTML object>"
            ],
            "text/html": [
              "Find logs at: <code>./wandb/run-20220401_144752-1r5euw8y/logs</code>"
            ]
          },
          "metadata": {}
        }
      ]
    },
    {
      "cell_type": "markdown",
      "source": [
        "## Exp 5.1"
      ],
      "metadata": {
        "id": "UceOJsoKmBwo"
      }
    },
    {
      "cell_type": "code",
      "source": [
        "'''\n",
        "Model vae_5.1\n",
        "'''\n",
        "\n",
        "latent_dim = Z_DIM[2]  # Number of latent dimension parameters\n",
        "\n",
        "input_img = Input(shape=(32, 32, 3))\n",
        "\n",
        "x = Conv2D(32, (3, 3), activation='relu', padding='same', strides=2)(input_img)\n",
        "x = BatchNormalization()(x)\n",
        "\n",
        "x = Conv2D(16, (3, 3), activation='relu', padding='same', strides=2)(x)\n",
        "x = BatchNormalization()(x)\n",
        "\n",
        "# x = Conv2D(16, (3, 3), activation='relu', padding='same', strides=2)(x)\n",
        "# x = BatchNormalization()(x)\n",
        "\n",
        "shape_before_flattening = K.int_shape(x)\n",
        "# print(shape_before_flattening)\n",
        "x = Flatten()(x)\n",
        "\n",
        "z_mu = Dense(latent_dim)(x)\n",
        "z_log_sigma = Dense(latent_dim, kernel_initializer='zeros', bias_initializer='zeros')(x)\n",
        "\n",
        "\n",
        "# sampling function\n",
        "def sampling(args):\n",
        "    z_mu, z_log_sigma = args\n",
        "    epsilon = K.random_normal(shape=(K.shape(z_mu)[0], latent_dim),\n",
        "                              mean=0., stddev=1.)\n",
        "    return z_mu + K.exp(z_log_sigma) * epsilon\n",
        "\n",
        "# sample vector from the latent distribution\n",
        "z = Lambda(sampling)([z_mu, z_log_sigma])\n",
        "\n",
        "encoder = Model(input_img,z)\n",
        "\n",
        "# decoder takes the latent distribution sample as input\n",
        "decoder_input = Input(K.int_shape(z)[1:])\n",
        "x = Dense(4096, activation='relu', name=\"intermediate_decoder\", input_shape=(latent_dim,))(decoder_input)\n",
        "x = Reshape((8,8,64))(x)\n",
        "\n",
        "x = Conv2DTranspose(32, (3, 3),strides= 2, padding='same')(x)\n",
        "x = BatchNormalization()(x)\n",
        "\n",
        "# x = Conv2DTranspose(16, (3, 3),strides= 2, padding='same')(x)\n",
        "# x = BatchNormalization()(x)\n",
        "\n",
        "# x = Conv2DTranspose(8, (3, 3),strides= 2, padding='same')(x)\n",
        "# x = BatchNormalization()(x)\n",
        "\n",
        "x = Conv2DTranspose(3, (3, 3),strides= 2, padding='same', activation='sigmoid')(x)\n",
        "\n",
        "\n",
        "# decoder model statement\n",
        "decoder = Model(decoder_input, x)\n",
        "\n",
        "# apply the decoder to the sample from the latent distribution\n",
        "pred = decoder(z)\n",
        "\n",
        "\n",
        "def vae_loss(x, pred):\n",
        "    x = K.flatten(x)\n",
        "    pred = K.flatten(pred)\n",
        "    # Reconstruction loss\n",
        "    #reconst_loss = 100 * binary_crossentropy(x, pred)\n",
        "    reconst_loss = 1000*K.mean(K.square(x - pred))\n",
        "    \n",
        "    # KL divergence\n",
        "    kl_loss = -0.5 * K.mean(1 + z_log_sigma - K.square(z_mu) - K.exp(z_log_sigma), axis=-1)\n",
        "    \n",
        "    return (reconst_loss + kl_loss)\n",
        "\n",
        "\n",
        "# VAE model statement\n",
        "vae = Model(input_img, pred)\n",
        "vae.add_loss(vae_loss(input_img,pred))\n",
        "optimizer = Adam(learning_rate=LEARNING_RATES[1])\n",
        "vae.compile(optimizer=optimizer, loss=None)\n",
        "\n",
        "vae.summary()\n",
        "\n",
        "\n",
        "# fit and track the model \n",
        "fit_model_and_log_metrics(\"Model vae_5.1\", \"With maxpooling, convtranspose, dense, and flatten\", vae, 50, 64)"
      ],
      "metadata": {
        "colab": {
          "base_uri": "https://localhost:8080/",
          "height": 1000,
          "referenced_widgets": [
            "77c7ac448a5a42329e6f6b126be1b6e3",
            "fce02637f73c4805847b92dea7b3b13f",
            "dcef9bacb2e248db9ac7a3a4561cb9d5",
            "2024ab90a5344c79ad0e0903cb7c649a",
            "1a5daa3ab3df47df947ad6a45d67cbfa",
            "bd75c951024542be8677fbf56d6c0bf1",
            "aa16274b27fa40f6a2a9449ef5b60e22",
            "0925f7f588d54988ad76929259c9011c"
          ]
        },
        "id": "AV85uO-lmC2C",
        "outputId": "a9068a5a-e8fe-46f5-839e-f96a4040b4c4"
      },
      "execution_count": null,
      "outputs": [
        {
          "output_type": "stream",
          "name": "stdout",
          "text": [
            "Model: \"model_26\"\n",
            "__________________________________________________________________________________________________\n",
            " Layer (type)                   Output Shape         Param #     Connected to                     \n",
            "==================================================================================================\n",
            " input_17 (InputLayer)          [(None, 32, 32, 3)]  0           []                               \n",
            "                                                                                                  \n",
            " conv2d_22 (Conv2D)             (None, 16, 16, 32)   896         ['input_17[0][0]']               \n",
            "                                                                                                  \n",
            " batch_normalization_30 (BatchN  (None, 16, 16, 32)  128         ['conv2d_22[0][0]']              \n",
            " ormalization)                                                                                    \n",
            "                                                                                                  \n",
            " conv2d_23 (Conv2D)             (None, 8, 8, 16)     4624        ['batch_normalization_30[0][0]'] \n",
            "                                                                                                  \n",
            " batch_normalization_31 (BatchN  (None, 8, 8, 16)    64          ['conv2d_23[0][0]']              \n",
            " ormalization)                                                                                    \n",
            "                                                                                                  \n",
            " flatten_8 (Flatten)            (None, 1024)         0           ['batch_normalization_31[0][0]'] \n",
            "                                                                                                  \n",
            " dense_16 (Dense)               (None, 300)          307500      ['flatten_8[0][0]']              \n",
            "                                                                                                  \n",
            " dense_17 (Dense)               (None, 300)          307500      ['flatten_8[0][0]']              \n",
            "                                                                                                  \n",
            " lambda_8 (Lambda)              (None, 300)          0           ['dense_16[0][0]',               \n",
            "                                                                  'dense_17[0][0]']               \n",
            "                                                                                                  \n",
            " model_25 (Functional)          (None, 32, 32, 3)    1252355     ['lambda_8[0][0]']               \n",
            "                                                                                                  \n",
            " tf.reshape_16 (TFOpLambda)     (None,)              0           ['input_17[0][0]']               \n",
            "                                                                                                  \n",
            " tf.reshape_17 (TFOpLambda)     (None,)              0           ['model_25[0][0]']               \n",
            "                                                                                                  \n",
            " tf.__operators__.add_16 (TFOpL  (None, 300)         0           ['dense_17[0][0]']               \n",
            " ambda)                                                                                           \n",
            "                                                                                                  \n",
            " tf.math.square_17 (TFOpLambda)  (None, 300)         0           ['dense_16[0][0]']               \n",
            "                                                                                                  \n",
            " tf.math.subtract_24 (TFOpLambd  (None,)             0           ['tf.reshape_16[0][0]',          \n",
            " a)                                                               'tf.reshape_17[0][0]']          \n",
            "                                                                                                  \n",
            " tf.math.subtract_25 (TFOpLambd  (None, 300)         0           ['tf.__operators__.add_16[0][0]',\n",
            " a)                                                               'tf.math.square_17[0][0]']      \n",
            "                                                                                                  \n",
            " tf.math.exp_8 (TFOpLambda)     (None, 300)          0           ['dense_17[0][0]']               \n",
            "                                                                                                  \n",
            " tf.math.square_16 (TFOpLambda)  (None,)             0           ['tf.math.subtract_24[0][0]']    \n",
            "                                                                                                  \n",
            " tf.math.subtract_26 (TFOpLambd  (None, 300)         0           ['tf.math.subtract_25[0][0]',    \n",
            " a)                                                               'tf.math.exp_8[0][0]']          \n",
            "                                                                                                  \n",
            " tf.math.reduce_mean_16 (TFOpLa  ()                  0           ['tf.math.square_16[0][0]']      \n",
            " mbda)                                                                                            \n",
            "                                                                                                  \n",
            " tf.math.reduce_mean_17 (TFOpLa  (None,)             0           ['tf.math.subtract_26[0][0]']    \n",
            " mbda)                                                                                            \n",
            "                                                                                                  \n",
            " tf.math.multiply_16 (TFOpLambd  ()                  0           ['tf.math.reduce_mean_16[0][0]'] \n",
            " a)                                                                                               \n",
            "                                                                                                  \n",
            " tf.math.multiply_17 (TFOpLambd  (None,)             0           ['tf.math.reduce_mean_17[0][0]'] \n",
            " a)                                                                                               \n",
            "                                                                                                  \n",
            " tf.__operators__.add_17 (TFOpL  (None,)             0           ['tf.math.multiply_16[0][0]',    \n",
            " ambda)                                                           'tf.math.multiply_17[0][0]']    \n",
            "                                                                                                  \n",
            " add_loss_8 (AddLoss)           (None,)              0           ['tf.__operators__.add_17[0][0]']\n",
            "                                                                                                  \n",
            "==================================================================================================\n",
            "Total params: 1,873,067\n",
            "Trainable params: 1,872,907\n",
            "Non-trainable params: 160\n",
            "__________________________________________________________________________________________________\n"
          ]
        },
        {
          "output_type": "display_data",
          "data": {
            "text/plain": [
              "<IPython.core.display.HTML object>"
            ],
            "text/html": [
              "Tracking run with wandb version 0.12.11"
            ]
          },
          "metadata": {}
        },
        {
          "output_type": "display_data",
          "data": {
            "text/plain": [
              "<IPython.core.display.HTML object>"
            ],
            "text/html": [
              "Run data is saved locally in <code>/content/wandb/run-20220401_145218-3ouj81u1</code>"
            ]
          },
          "metadata": {}
        },
        {
          "output_type": "display_data",
          "data": {
            "text/plain": [
              "<IPython.core.display.HTML object>"
            ],
            "text/html": [
              "Syncing run <strong><a href=\"https://wandb.ai/csc2231-yash-siphelele/autoencoders_RQ_comparison/runs/3ouj81u1\" target=\"_blank\">Model vae_5.1</a></strong> to <a href=\"https://wandb.ai/csc2231-yash-siphelele/autoencoders_RQ_comparison\" target=\"_blank\">Weights & Biases</a> (<a href=\"https://wandb.me/run\" target=\"_blank\">docs</a>)<br/>"
            ]
          },
          "metadata": {}
        },
        {
          "output_type": "stream",
          "name": "stdout",
          "text": [
            "Epoch 1/50\n",
            "782/782 [==============================] - 10s 12ms/step - loss: 9.9584 - val_loss: 7.0512 - _timestamp: 1648824755.0000 - _runtime: 16.0000\n",
            "Epoch 2/50\n",
            "782/782 [==============================] - 8s 10ms/step - loss: 5.4466 - val_loss: 5.2877 - _timestamp: 1648824763.0000 - _runtime: 24.0000\n",
            "Epoch 3/50\n",
            "782/782 [==============================] - 8s 10ms/step - loss: 4.7412 - val_loss: 4.8593 - _timestamp: 1648824771.0000 - _runtime: 32.0000\n",
            "Epoch 4/50\n",
            "782/782 [==============================] - 8s 10ms/step - loss: 4.4083 - val_loss: 4.9576 - _timestamp: 1648824779.0000 - _runtime: 40.0000\n",
            "Epoch 5/50\n",
            "782/782 [==============================] - 8s 10ms/step - loss: 4.2472 - val_loss: 4.3547 - _timestamp: 1648824786.0000 - _runtime: 47.0000\n",
            "Epoch 6/50\n",
            "782/782 [==============================] - 8s 10ms/step - loss: 4.1321 - val_loss: 4.0545 - _timestamp: 1648824794.0000 - _runtime: 55.0000\n",
            "Epoch 7/50\n",
            "782/782 [==============================] - 8s 10ms/step - loss: 4.0754 - val_loss: 4.5014 - _timestamp: 1648824802.0000 - _runtime: 63.0000\n",
            "Epoch 8/50\n",
            "782/782 [==============================] - 8s 10ms/step - loss: 4.0544 - val_loss: 4.4370 - _timestamp: 1648824810.0000 - _runtime: 71.0000\n",
            "Epoch 9/50\n",
            "782/782 [==============================] - 8s 10ms/step - loss: 3.9694 - val_loss: 3.9063 - _timestamp: 1648824817.0000 - _runtime: 78.0000\n",
            "Epoch 10/50\n",
            "782/782 [==============================] - 8s 10ms/step - loss: 3.9235 - val_loss: 4.0871 - _timestamp: 1648824825.0000 - _runtime: 86.0000\n",
            "Epoch 11/50\n",
            "782/782 [==============================] - 8s 10ms/step - loss: 3.9004 - val_loss: 3.8491 - _timestamp: 1648824833.0000 - _runtime: 94.0000\n",
            "Epoch 12/50\n",
            "782/782 [==============================] - 8s 10ms/step - loss: 3.8461 - val_loss: 3.7340 - _timestamp: 1648824841.0000 - _runtime: 102.0000\n",
            "Epoch 13/50\n",
            "782/782 [==============================] - 8s 10ms/step - loss: 3.8120 - val_loss: 3.9330 - _timestamp: 1648824849.0000 - _runtime: 110.0000\n",
            "Epoch 14/50\n",
            "782/782 [==============================] - 8s 10ms/step - loss: 3.8247 - val_loss: 3.7120 - _timestamp: 1648824856.0000 - _runtime: 117.0000\n",
            "Epoch 15/50\n",
            "782/782 [==============================] - 8s 10ms/step - loss: 3.7670 - val_loss: 4.2124 - _timestamp: 1648824864.0000 - _runtime: 125.0000\n",
            "Epoch 16/50\n",
            "782/782 [==============================] - 8s 10ms/step - loss: 3.7753 - val_loss: 4.1048 - _timestamp: 1648824872.0000 - _runtime: 133.0000\n",
            "Epoch 17/50\n",
            "782/782 [==============================] - 8s 10ms/step - loss: 3.7413 - val_loss: 3.9011 - _timestamp: 1648824879.0000 - _runtime: 140.0000\n",
            "Epoch 18/50\n",
            "782/782 [==============================] - 8s 10ms/step - loss: 3.7038 - val_loss: 3.8014 - _timestamp: 1648824887.0000 - _runtime: 148.0000\n",
            "Epoch 19/50\n",
            "782/782 [==============================] - 8s 10ms/step - loss: 3.6961 - val_loss: 3.7508 - _timestamp: 1648824895.0000 - _runtime: 156.0000\n",
            "Epoch 20/50\n",
            "782/782 [==============================] - 8s 10ms/step - loss: 3.6751 - val_loss: 3.5794 - _timestamp: 1648824902.0000 - _runtime: 163.0000\n",
            "Epoch 21/50\n",
            "782/782 [==============================] - 8s 11ms/step - loss: 3.6368 - val_loss: 3.7194 - _timestamp: 1648824911.0000 - _runtime: 172.0000\n",
            "Epoch 22/50\n",
            "782/782 [==============================] - 8s 10ms/step - loss: 3.6487 - val_loss: 3.7191 - _timestamp: 1648824918.0000 - _runtime: 179.0000\n",
            "Epoch 23/50\n",
            "782/782 [==============================] - 8s 10ms/step - loss: 3.6443 - val_loss: 3.7361 - _timestamp: 1648824926.0000 - _runtime: 187.0000\n",
            "Epoch 24/50\n",
            "782/782 [==============================] - 8s 10ms/step - loss: 3.6329 - val_loss: 3.6465 - _timestamp: 1648824933.0000 - _runtime: 194.0000\n",
            "Epoch 25/50\n",
            "782/782 [==============================] - 8s 10ms/step - loss: 3.5977 - val_loss: 3.9189 - _timestamp: 1648824941.0000 - _runtime: 202.0000\n",
            "Epoch 26/50\n",
            "782/782 [==============================] - 8s 10ms/step - loss: 3.5892 - val_loss: 3.9858 - _timestamp: 1648824949.0000 - _runtime: 210.0000\n",
            "Epoch 27/50\n",
            "782/782 [==============================] - 8s 10ms/step - loss: 3.5680 - val_loss: 4.0094 - _timestamp: 1648824956.0000 - _runtime: 217.0000\n",
            "Epoch 28/50\n",
            "782/782 [==============================] - 8s 10ms/step - loss: 3.5683 - val_loss: 3.6031 - _timestamp: 1648824964.0000 - _runtime: 225.0000\n",
            "Epoch 29/50\n",
            "782/782 [==============================] - 8s 10ms/step - loss: 3.5635 - val_loss: 3.8437 - _timestamp: 1648824971.0000 - _runtime: 232.0000\n",
            "Epoch 30/50\n",
            "782/782 [==============================] - 7s 10ms/step - loss: 3.5404 - val_loss: 4.3343 - _timestamp: 1648824979.0000 - _runtime: 240.0000\n",
            "Epoch 30: early stopping\n",
            "Avg SSIM over X_test: 0.910231100996106\n",
            "\n"
          ]
        },
        {
          "output_type": "display_data",
          "data": {
            "text/plain": [
              "<IPython.core.display.HTML object>"
            ],
            "text/html": [
              "Waiting for W&B process to finish... <strong style=\"color:green\">(success).</strong>"
            ]
          },
          "metadata": {}
        },
        {
          "output_type": "display_data",
          "data": {
            "text/plain": [
              "VBox(children=(Label(value='21.549 MB of 21.549 MB uploaded (0.000 MB deduped)\\r'), FloatProgress(value=1.0, m…"
            ],
            "application/vnd.jupyter.widget-view+json": {
              "version_major": 2,
              "version_minor": 0,
              "model_id": "77c7ac448a5a42329e6f6b126be1b6e3"
            }
          },
          "metadata": {}
        },
        {
          "output_type": "display_data",
          "data": {
            "text/plain": [
              "<IPython.core.display.HTML object>"
            ],
            "text/html": [
              "<style>\n",
              "    table.wandb td:nth-child(1) { padding: 0 10px; text-align: right }\n",
              "    .wandb-row { display: flex; flex-direction: row; flex-wrap: wrap; width: 100% }\n",
              "    .wandb-col { display: flex; flex-direction: column; flex-basis: 100%; flex: 1; padding: 10px; }\n",
              "    </style>\n",
              "<div class=\"wandb-row\"><div class=\"wandb-col\"><h3>Run history:</h3><br/><table class=\"wandb\"><tr><td>avg_ssim_score_x_test</td><td>▁</td></tr><tr><td>epoch</td><td>▁▁▁▂▂▂▂▃▃▃▃▄▄▄▄▅▅▅▅▆▆▆▆▇▇▇▇███</td></tr><tr><td>loss</td><td>█▃▂▂▂▂▂▂▁▁▁▁▁▁▁▁▁▁▁▁▁▁▁▁▁▁▁▁▁▁</td></tr><tr><td>val_loss</td><td>█▄▄▄▃▂▃▃▂▂▂▁▂▁▂▂▂▁▁▁▁▁▁▁▂▂▂▁▂▃</td></tr></table><br/></div><div class=\"wandb-col\"><h3>Run summary:</h3><br/><table class=\"wandb\"><tr><td>avg_ssim_score_x_test</td><td>0.91023</td></tr><tr><td>best_epoch</td><td>19</td></tr><tr><td>best_val_loss</td><td>3.57941</td></tr><tr><td>epoch</td><td>29</td></tr><tr><td>loss</td><td>3.54039</td></tr><tr><td>val_loss</td><td>4.33431</td></tr></table><br/></div></div>"
            ]
          },
          "metadata": {}
        },
        {
          "output_type": "display_data",
          "data": {
            "text/plain": [
              "<IPython.core.display.HTML object>"
            ],
            "text/html": [
              "Synced <strong style=\"color:#cdcd00\">Model vae_5.1</strong>: <a href=\"https://wandb.ai/csc2231-yash-siphelele/autoencoders_RQ_comparison/runs/3ouj81u1\" target=\"_blank\">https://wandb.ai/csc2231-yash-siphelele/autoencoders_RQ_comparison/runs/3ouj81u1</a><br/>Synced 5 W&B file(s), 0 media file(s), 0 artifact file(s) and 1 other file(s)"
            ]
          },
          "metadata": {}
        },
        {
          "output_type": "display_data",
          "data": {
            "text/plain": [
              "<IPython.core.display.HTML object>"
            ],
            "text/html": [
              "Find logs at: <code>./wandb/run-20220401_145218-3ouj81u1/logs</code>"
            ]
          },
          "metadata": {}
        }
      ]
    },
    {
      "cell_type": "markdown",
      "source": [
        "## Exp 6"
      ],
      "metadata": {
        "id": "o6N3tK0Ix-89"
      }
    },
    {
      "cell_type": "code",
      "source": [
        "'''\n",
        "Model vae_6\n",
        "'''\n",
        "\n",
        "latent_dim = Z_DIM[2]  # Number of latent dimension parameters\n",
        "\n",
        "input_img = Input(shape=(32, 32, 3))\n",
        "\n",
        "x = Conv2D(32, (3, 3), activation='leaky_relu', padding='same', strides=2)(input_img)\n",
        "x = BatchNormalization()(x)\n",
        "\n",
        "x = Conv2D(16, (3, 3), activation='leaky_relu', padding='same', strides=2)(x)\n",
        "x = BatchNormalization()(x)\n",
        "\n",
        "# x = Conv2D(16, (3, 3), activation='relu', padding='same', strides=2)(x)\n",
        "# x = BatchNormalization()(x)\n",
        "\n",
        "shape_before_flattening = K.int_shape(x)\n",
        "# print(shape_before_flattening)\n",
        "x = Flatten()(x)\n",
        "\n",
        "z_mu = Dense(latent_dim)(x)\n",
        "z_log_sigma = Dense(latent_dim, kernel_initializer='zeros', bias_initializer='zeros')(x)\n",
        "\n",
        "\n",
        "# sampling function\n",
        "def sampling(args):\n",
        "    z_mu, z_log_sigma = args\n",
        "    epsilon = K.random_normal(shape=(K.shape(z_mu)[0], latent_dim),\n",
        "                              mean=0., stddev=1.)\n",
        "    return z_mu + K.exp(z_log_sigma) * epsilon\n",
        "\n",
        "# sample vector from the latent distribution\n",
        "z = Lambda(sampling)([z_mu, z_log_sigma])\n",
        "\n",
        "encoder = Model(input_img,z)\n",
        "\n",
        "# decoder takes the latent distribution sample as input\n",
        "decoder_input = Input(K.int_shape(z)[1:])\n",
        "x = Dense(4096, activation='leaky_relu', name=\"intermediate_decoder\", input_shape=(latent_dim,))(decoder_input)\n",
        "x = Reshape((8,8,64))(x)\n",
        "\n",
        "x = Conv2DTranspose(32, (3, 3),strides= 2, padding='same', activation=\"leaky_relu\")(x)\n",
        "x = BatchNormalization()(x)\n",
        "\n",
        "# x = Conv2DTranspose(16, (3, 3),strides= 2, padding='same')(x)\n",
        "# x = BatchNormalization()(x)\n",
        "\n",
        "# x = Conv2DTranspose(8, (3, 3),strides= 2, padding='same')(x)\n",
        "# x = BatchNormalization()(x)\n",
        "\n",
        "x = Conv2DTranspose(3, (3, 3),strides= 2, padding='same', activation='sigmoid')(x)\n",
        "\n",
        "\n",
        "# decoder model statement\n",
        "decoder = Model(decoder_input, x)\n",
        "\n",
        "# apply the decoder to the sample from the latent distribution\n",
        "pred = decoder(z)\n",
        "\n",
        "\n",
        "def vae_loss(x, pred):\n",
        "    x = K.flatten(x)\n",
        "    pred = K.flatten(pred)\n",
        "    # Reconstruction loss\n",
        "    #reconst_loss = 100 * binary_crossentropy(x, pred)\n",
        "    reconst_loss = 1000*K.mean(K.square(x - pred))\n",
        "    \n",
        "    # KL divergence\n",
        "    kl_loss = -0.5 * K.mean(1 + z_log_sigma - K.square(z_mu) - K.exp(z_log_sigma), axis=-1)\n",
        "    \n",
        "    return (reconst_loss + kl_loss)\n",
        "\n",
        "\n",
        "# VAE model statement\n",
        "vae = Model(input_img, pred)\n",
        "vae.add_loss(vae_loss(input_img,pred))\n",
        "optimizer = Adam(learning_rate=LEARNING_RATES[1])\n",
        "vae.compile(optimizer=optimizer, loss=None)\n",
        "\n",
        "vae.summary()\n",
        "\n",
        "\n",
        "# fit and track the model \n",
        "fit_model_and_log_metrics(\"Model vae_6\", \"With maxpooling, convtranspose, dense, and flatten\", vae, 50, 128)"
      ],
      "metadata": {
        "colab": {
          "base_uri": "https://localhost:8080/",
          "height": 1000,
          "referenced_widgets": [
            "498787d0e7a646f7b7a7b82f17f9a925",
            "d6a66bceb0cc4118b3ea720a16414c05",
            "22845727212f48cc90053f1c19862032",
            "abd9b4fce12e488fac507ddcd860898a",
            "56f9c47f940f414889d159e53d5fe8fc",
            "3b8cf98ee51d4e938ce8e5f3625cf490",
            "ec6d8721b243476192b481ae024b7c21",
            "5023ba6ca61b4e00b9241da487401ec8"
          ]
        },
        "id": "6rCUA0CZyATL",
        "outputId": "4d24ee24-c157-4986-e45e-60353554a4d2"
      },
      "execution_count": null,
      "outputs": [
        {
          "output_type": "stream",
          "name": "stdout",
          "text": [
            "Model: \"model_2\"\n",
            "__________________________________________________________________________________________________\n",
            " Layer (type)                   Output Shape         Param #     Connected to                     \n",
            "==================================================================================================\n",
            " input_1 (InputLayer)           [(None, 32, 32, 3)]  0           []                               \n",
            "                                                                                                  \n",
            " conv2d (Conv2D)                (None, 16, 16, 32)   896         ['input_1[0][0]']                \n",
            "                                                                                                  \n",
            " batch_normalization (BatchNorm  (None, 16, 16, 32)  128         ['conv2d[0][0]']                 \n",
            " alization)                                                                                       \n",
            "                                                                                                  \n",
            " conv2d_1 (Conv2D)              (None, 8, 8, 16)     4624        ['batch_normalization[0][0]']    \n",
            "                                                                                                  \n",
            " batch_normalization_1 (BatchNo  (None, 8, 8, 16)    64          ['conv2d_1[0][0]']               \n",
            " rmalization)                                                                                     \n",
            "                                                                                                  \n",
            " flatten (Flatten)              (None, 1024)         0           ['batch_normalization_1[0][0]']  \n",
            "                                                                                                  \n",
            " dense (Dense)                  (None, 300)          307500      ['flatten[0][0]']                \n",
            "                                                                                                  \n",
            " dense_1 (Dense)                (None, 300)          307500      ['flatten[0][0]']                \n",
            "                                                                                                  \n",
            " lambda (Lambda)                (None, 300)          0           ['dense[0][0]',                  \n",
            "                                                                  'dense_1[0][0]']                \n",
            "                                                                                                  \n",
            " model_1 (Functional)           (None, 32, 32, 3)    1252355     ['lambda[0][0]']                 \n",
            "                                                                                                  \n",
            " tf.reshape (TFOpLambda)        (None,)              0           ['input_1[0][0]']                \n",
            "                                                                                                  \n",
            " tf.reshape_1 (TFOpLambda)      (None,)              0           ['model_1[0][0]']                \n",
            "                                                                                                  \n",
            " tf.__operators__.add (TFOpLamb  (None, 300)         0           ['dense_1[0][0]']                \n",
            " da)                                                                                              \n",
            "                                                                                                  \n",
            " tf.math.square_1 (TFOpLambda)  (None, 300)          0           ['dense[0][0]']                  \n",
            "                                                                                                  \n",
            " tf.math.subtract (TFOpLambda)  (None,)              0           ['tf.reshape[0][0]',             \n",
            "                                                                  'tf.reshape_1[0][0]']           \n",
            "                                                                                                  \n",
            " tf.math.subtract_1 (TFOpLambda  (None, 300)         0           ['tf.__operators__.add[0][0]',   \n",
            " )                                                                'tf.math.square_1[0][0]']       \n",
            "                                                                                                  \n",
            " tf.math.exp (TFOpLambda)       (None, 300)          0           ['dense_1[0][0]']                \n",
            "                                                                                                  \n",
            " tf.math.square (TFOpLambda)    (None,)              0           ['tf.math.subtract[0][0]']       \n",
            "                                                                                                  \n",
            " tf.math.subtract_2 (TFOpLambda  (None, 300)         0           ['tf.math.subtract_1[0][0]',     \n",
            " )                                                                'tf.math.exp[0][0]']            \n",
            "                                                                                                  \n",
            " tf.math.reduce_mean (TFOpLambd  ()                  0           ['tf.math.square[0][0]']         \n",
            " a)                                                                                               \n",
            "                                                                                                  \n",
            " tf.math.reduce_mean_1 (TFOpLam  (None,)             0           ['tf.math.subtract_2[0][0]']     \n",
            " bda)                                                                                             \n",
            "                                                                                                  \n",
            " tf.math.multiply (TFOpLambda)  ()                   0           ['tf.math.reduce_mean[0][0]']    \n",
            "                                                                                                  \n",
            " tf.math.multiply_1 (TFOpLambda  (None,)             0           ['tf.math.reduce_mean_1[0][0]']  \n",
            " )                                                                                                \n",
            "                                                                                                  \n",
            " tf.__operators__.add_1 (TFOpLa  (None,)             0           ['tf.math.multiply[0][0]',       \n",
            " mbda)                                                            'tf.math.multiply_1[0][0]']     \n",
            "                                                                                                  \n",
            " add_loss (AddLoss)             (None,)              0           ['tf.__operators__.add_1[0][0]'] \n",
            "                                                                                                  \n",
            "==================================================================================================\n",
            "Total params: 1,873,067\n",
            "Trainable params: 1,872,907\n",
            "Non-trainable params: 160\n",
            "__________________________________________________________________________________________________\n"
          ]
        },
        {
          "output_type": "stream",
          "name": "stderr",
          "text": [
            "\u001b[34m\u001b[1mwandb\u001b[0m: Currently logged in as: \u001b[33mcsc2231-yash-siphelele\u001b[0m (use `wandb login --relogin` to force relogin)\n"
          ]
        },
        {
          "output_type": "display_data",
          "data": {
            "text/plain": [
              "<IPython.core.display.HTML object>"
            ],
            "text/html": [
              "Tracking run with wandb version 0.12.11"
            ]
          },
          "metadata": {}
        },
        {
          "output_type": "display_data",
          "data": {
            "text/plain": [
              "<IPython.core.display.HTML object>"
            ],
            "text/html": [
              "Run data is saved locally in <code>/content/wandb/run-20220401_154057-nmnpfjxf</code>"
            ]
          },
          "metadata": {}
        },
        {
          "output_type": "display_data",
          "data": {
            "text/plain": [
              "<IPython.core.display.HTML object>"
            ],
            "text/html": [
              "Syncing run <strong><a href=\"https://wandb.ai/csc2231-yash-siphelele/autoencoders_RQ_comparison/runs/nmnpfjxf\" target=\"_blank\">Model vae_6</a></strong> to <a href=\"https://wandb.ai/csc2231-yash-siphelele/autoencoders_RQ_comparison\" target=\"_blank\">Weights & Biases</a> (<a href=\"https://wandb.me/run\" target=\"_blank\">docs</a>)<br/>"
            ]
          },
          "metadata": {}
        },
        {
          "output_type": "stream",
          "name": "stdout",
          "text": [
            "Epoch 1/50\n",
            "391/391 [==============================] - 19s 19ms/step - loss: 11.9704 - val_loss: 14.7666 - _timestamp: 1648827686.0000 - _runtime: 29.0000\n",
            "Epoch 2/50\n",
            "391/391 [==============================] - 7s 17ms/step - loss: 5.7085 - val_loss: 5.1362 - _timestamp: 1648827693.0000 - _runtime: 36.0000\n",
            "Epoch 3/50\n",
            "391/391 [==============================] - 6s 16ms/step - loss: 4.6533 - val_loss: 4.7068 - _timestamp: 1648827699.0000 - _runtime: 42.0000\n",
            "Epoch 4/50\n",
            "391/391 [==============================] - 6s 16ms/step - loss: 4.2408 - val_loss: 4.1226 - _timestamp: 1648827706.0000 - _runtime: 49.0000\n",
            "Epoch 5/50\n",
            "391/391 [==============================] - 6s 16ms/step - loss: 4.0240 - val_loss: 4.2221 - _timestamp: 1648827712.0000 - _runtime: 55.0000\n",
            "Epoch 6/50\n",
            "391/391 [==============================] - 6s 16ms/step - loss: 3.8953 - val_loss: 3.8542 - _timestamp: 1648827718.0000 - _runtime: 61.0000\n",
            "Epoch 7/50\n",
            "391/391 [==============================] - 6s 15ms/step - loss: 3.8209 - val_loss: 4.3809 - _timestamp: 1648827724.0000 - _runtime: 67.0000\n",
            "Epoch 8/50\n",
            "391/391 [==============================] - 6s 15ms/step - loss: 3.8015 - val_loss: 4.0696 - _timestamp: 1648827730.0000 - _runtime: 73.0000\n",
            "Epoch 9/50\n",
            "391/391 [==============================] - 6s 16ms/step - loss: 3.7639 - val_loss: 3.7180 - _timestamp: 1648827736.0000 - _runtime: 79.0000\n",
            "Epoch 10/50\n",
            "391/391 [==============================] - 6s 16ms/step - loss: 3.6708 - val_loss: 3.8169 - _timestamp: 1648827743.0000 - _runtime: 86.0000\n",
            "Epoch 11/50\n",
            "391/391 [==============================] - 7s 17ms/step - loss: 3.6585 - val_loss: 3.7163 - _timestamp: 1648827749.0000 - _runtime: 92.0000\n",
            "Epoch 12/50\n",
            "391/391 [==============================] - 7s 17ms/step - loss: 3.6392 - val_loss: 3.6615 - _timestamp: 1648827756.0000 - _runtime: 99.0000\n",
            "Epoch 13/50\n",
            "391/391 [==============================] - 7s 18ms/step - loss: 3.6420 - val_loss: 3.5192 - _timestamp: 1648827763.0000 - _runtime: 106.0000\n",
            "Epoch 14/50\n",
            "391/391 [==============================] - 7s 17ms/step - loss: 3.5740 - val_loss: 3.6529 - _timestamp: 1648827770.0000 - _runtime: 113.0000\n",
            "Epoch 15/50\n",
            "391/391 [==============================] - 6s 17ms/step - loss: 3.5622 - val_loss: 3.6138 - _timestamp: 1648827776.0000 - _runtime: 119.0000\n",
            "Epoch 16/50\n",
            "391/391 [==============================] - 7s 17ms/step - loss: 3.5749 - val_loss: 4.0767 - _timestamp: 1648827783.0000 - _runtime: 126.0000\n",
            "Epoch 17/50\n",
            "391/391 [==============================] - 7s 17ms/step - loss: 3.5457 - val_loss: 3.4941 - _timestamp: 1648827789.0000 - _runtime: 132.0000\n",
            "Epoch 18/50\n",
            "391/391 [==============================] - 6s 17ms/step - loss: 3.5495 - val_loss: 3.6699 - _timestamp: 1648827796.0000 - _runtime: 139.0000\n",
            "Epoch 19/50\n",
            "391/391 [==============================] - 7s 17ms/step - loss: 3.5029 - val_loss: 3.5874 - _timestamp: 1648827802.0000 - _runtime: 145.0000\n",
            "Epoch 20/50\n",
            "391/391 [==============================] - 7s 17ms/step - loss: 3.5050 - val_loss: 3.7957 - _timestamp: 1648827809.0000 - _runtime: 152.0000\n",
            "Epoch 21/50\n",
            "391/391 [==============================] - 7s 17ms/step - loss: 3.4829 - val_loss: 3.4660 - _timestamp: 1648827816.0000 - _runtime: 159.0000\n",
            "Epoch 22/50\n",
            "391/391 [==============================] - 7s 17ms/step - loss: 3.4750 - val_loss: 3.5501 - _timestamp: 1648827822.0000 - _runtime: 165.0000\n",
            "Epoch 23/50\n",
            "391/391 [==============================] - 6s 16ms/step - loss: 3.4878 - val_loss: 3.5816 - _timestamp: 1648827829.0000 - _runtime: 172.0000\n",
            "Epoch 24/50\n",
            "391/391 [==============================] - 6s 16ms/step - loss: 3.4498 - val_loss: 3.4126 - _timestamp: 1648827835.0000 - _runtime: 178.0000\n",
            "Epoch 25/50\n",
            "391/391 [==============================] - 6s 16ms/step - loss: 3.4474 - val_loss: 3.5131 - _timestamp: 1648827841.0000 - _runtime: 184.0000\n",
            "Epoch 26/50\n",
            "391/391 [==============================] - 6s 15ms/step - loss: 3.4657 - val_loss: 3.5170 - _timestamp: 1648827847.0000 - _runtime: 190.0000\n",
            "Epoch 27/50\n",
            "391/391 [==============================] - 6s 16ms/step - loss: 3.4319 - val_loss: 3.3772 - _timestamp: 1648827853.0000 - _runtime: 196.0000\n",
            "Epoch 28/50\n",
            "391/391 [==============================] - 6s 16ms/step - loss: 3.4018 - val_loss: 3.4266 - _timestamp: 1648827859.0000 - _runtime: 202.0000\n",
            "Epoch 29/50\n",
            "391/391 [==============================] - 6s 16ms/step - loss: 3.3978 - val_loss: 3.7336 - _timestamp: 1648827866.0000 - _runtime: 209.0000\n",
            "Epoch 30/50\n",
            "391/391 [==============================] - 6s 16ms/step - loss: 3.4107 - val_loss: 3.4101 - _timestamp: 1648827872.0000 - _runtime: 215.0000\n",
            "Epoch 31/50\n",
            "391/391 [==============================] - 6s 16ms/step - loss: 3.3976 - val_loss: 3.3818 - _timestamp: 1648827878.0000 - _runtime: 221.0000\n",
            "Epoch 32/50\n",
            "391/391 [==============================] - 6s 17ms/step - loss: 3.3940 - val_loss: 3.5763 - _timestamp: 1648827885.0000 - _runtime: 228.0000\n",
            "Epoch 33/50\n",
            "391/391 [==============================] - 7s 17ms/step - loss: 3.3634 - val_loss: 3.4359 - _timestamp: 1648827891.0000 - _runtime: 234.0000\n",
            "Epoch 34/50\n",
            "391/391 [==============================] - 7s 17ms/step - loss: 3.3597 - val_loss: 3.4000 - _timestamp: 1648827898.0000 - _runtime: 241.0000\n",
            "Epoch 35/50\n",
            "391/391 [==============================] - 7s 17ms/step - loss: 3.3549 - val_loss: 3.3661 - _timestamp: 1648827904.0000 - _runtime: 247.0000\n",
            "Epoch 36/50\n",
            "391/391 [==============================] - 7s 17ms/step - loss: 3.3709 - val_loss: 3.4547 - _timestamp: 1648827911.0000 - _runtime: 254.0000\n",
            "Epoch 37/50\n",
            "391/391 [==============================] - 7s 17ms/step - loss: 3.3623 - val_loss: 3.4298 - _timestamp: 1648827918.0000 - _runtime: 261.0000\n",
            "Epoch 38/50\n",
            "391/391 [==============================] - 7s 17ms/step - loss: 3.3437 - val_loss: 3.4616 - _timestamp: 1648827924.0000 - _runtime: 267.0000\n",
            "Epoch 39/50\n",
            "391/391 [==============================] - 7s 17ms/step - loss: 3.3343 - val_loss: 3.4462 - _timestamp: 1648827931.0000 - _runtime: 274.0000\n",
            "Epoch 40/50\n",
            "391/391 [==============================] - 7s 18ms/step - loss: 3.3493 - val_loss: 3.3187 - _timestamp: 1648827938.0000 - _runtime: 281.0000\n",
            "Epoch 41/50\n",
            "391/391 [==============================] - 7s 17ms/step - loss: 3.3319 - val_loss: 3.3470 - _timestamp: 1648827944.0000 - _runtime: 287.0000\n",
            "Epoch 42/50\n",
            "391/391 [==============================] - 7s 17ms/step - loss: 3.3505 - val_loss: 3.3593 - _timestamp: 1648827951.0000 - _runtime: 294.0000\n",
            "Epoch 43/50\n",
            "391/391 [==============================] - 7s 17ms/step - loss: 3.3059 - val_loss: 3.3995 - _timestamp: 1648827957.0000 - _runtime: 300.0000\n",
            "Epoch 44/50\n",
            "391/391 [==============================] - 6s 16ms/step - loss: 3.3107 - val_loss: 3.3166 - _timestamp: 1648827964.0000 - _runtime: 307.0000\n",
            "Epoch 45/50\n",
            "391/391 [==============================] - 6s 16ms/step - loss: 3.3178 - val_loss: 3.5962 - _timestamp: 1648827970.0000 - _runtime: 313.0000\n",
            "Epoch 46/50\n",
            "391/391 [==============================] - 6s 16ms/step - loss: 3.3302 - val_loss: 3.5067 - _timestamp: 1648827976.0000 - _runtime: 319.0000\n",
            "Epoch 47/50\n",
            "391/391 [==============================] - 6s 16ms/step - loss: 3.2963 - val_loss: 3.3586 - _timestamp: 1648827983.0000 - _runtime: 326.0000\n",
            "Epoch 48/50\n",
            "391/391 [==============================] - 6s 16ms/step - loss: 3.3078 - val_loss: 3.4221 - _timestamp: 1648827989.0000 - _runtime: 332.0000\n",
            "Epoch 49/50\n",
            "391/391 [==============================] - 6s 16ms/step - loss: 3.2863 - val_loss: 3.3849 - _timestamp: 1648827995.0000 - _runtime: 338.0000\n",
            "Epoch 50/50\n",
            "391/391 [==============================] - 6s 16ms/step - loss: 3.3116 - val_loss: 3.6107 - _timestamp: 1648828002.0000 - _runtime: 345.0000\n",
            "Avg SSIM over X_test: 0.920007182525158\n",
            "\n"
          ]
        },
        {
          "output_type": "display_data",
          "data": {
            "text/plain": [
              "<IPython.core.display.HTML object>"
            ],
            "text/html": [
              "Waiting for W&B process to finish... <strong style=\"color:green\">(success).</strong>"
            ]
          },
          "metadata": {}
        },
        {
          "output_type": "display_data",
          "data": {
            "text/plain": [
              "VBox(children=(Label(value='21.549 MB of 21.549 MB uploaded (0.000 MB deduped)\\r'), FloatProgress(value=1.0, m…"
            ],
            "application/vnd.jupyter.widget-view+json": {
              "version_major": 2,
              "version_minor": 0,
              "model_id": "498787d0e7a646f7b7a7b82f17f9a925"
            }
          },
          "metadata": {}
        },
        {
          "output_type": "display_data",
          "data": {
            "text/plain": [
              "<IPython.core.display.HTML object>"
            ],
            "text/html": [
              "<style>\n",
              "    table.wandb td:nth-child(1) { padding: 0 10px; text-align: right }\n",
              "    .wandb-row { display: flex; flex-direction: row; flex-wrap: wrap; width: 100% }\n",
              "    .wandb-col { display: flex; flex-direction: column; flex-basis: 100%; flex: 1; padding: 10px; }\n",
              "    </style>\n",
              "<div class=\"wandb-row\"><div class=\"wandb-col\"><h3>Run history:</h3><br/><table class=\"wandb\"><tr><td>avg_ssim_score_x_test</td><td>▁</td></tr><tr><td>epoch</td><td>▁▁▁▁▂▂▂▂▂▃▃▃▃▃▃▄▄▄▄▄▅▅▅▅▅▅▆▆▆▆▆▆▇▇▇▇▇███</td></tr><tr><td>loss</td><td>█▃▂▂▁▁▁▁▁▁▁▁▁▁▁▁▁▁▁▁▁▁▁▁▁▁▁▁▁▁▁▁▁▁▁▁▁▁▁▁</td></tr><tr><td>val_loss</td><td>█▂▂▁▁▂▁▁▁▁▁▁▁▁▁▁▁▁▁▁▁▁▁▁▁▁▁▁▁▁▁▁▁▁▁▁▁▁▁▁</td></tr></table><br/></div><div class=\"wandb-col\"><h3>Run summary:</h3><br/><table class=\"wandb\"><tr><td>avg_ssim_score_x_test</td><td>0.92001</td></tr><tr><td>best_epoch</td><td>43</td></tr><tr><td>best_val_loss</td><td>3.31661</td></tr><tr><td>epoch</td><td>49</td></tr><tr><td>loss</td><td>3.31158</td></tr><tr><td>val_loss</td><td>3.61067</td></tr></table><br/></div></div>"
            ]
          },
          "metadata": {}
        },
        {
          "output_type": "display_data",
          "data": {
            "text/plain": [
              "<IPython.core.display.HTML object>"
            ],
            "text/html": [
              "Synced <strong style=\"color:#cdcd00\">Model vae_6</strong>: <a href=\"https://wandb.ai/csc2231-yash-siphelele/autoencoders_RQ_comparison/runs/nmnpfjxf\" target=\"_blank\">https://wandb.ai/csc2231-yash-siphelele/autoencoders_RQ_comparison/runs/nmnpfjxf</a><br/>Synced 5 W&B file(s), 0 media file(s), 0 artifact file(s) and 1 other file(s)"
            ]
          },
          "metadata": {}
        },
        {
          "output_type": "display_data",
          "data": {
            "text/plain": [
              "<IPython.core.display.HTML object>"
            ],
            "text/html": [
              "Find logs at: <code>./wandb/run-20220401_154057-nmnpfjxf/logs</code>"
            ]
          },
          "metadata": {}
        }
      ]
    },
    {
      "cell_type": "markdown",
      "source": [
        "## Exp 6.1"
      ],
      "metadata": {
        "id": "7XzSLJTZ0quX"
      }
    },
    {
      "cell_type": "code",
      "source": [
        "'''\n",
        "Model vae_6.1\n",
        "'''\n",
        "\n",
        "latent_dim = Z_DIM[2]  # Number of latent dimension parameters\n",
        "\n",
        "input_img = Input(shape=(32, 32, 3))\n",
        "\n",
        "x = Conv2D(32, (3, 3), activation='tanh', padding='same', strides=2)(input_img)\n",
        "x = BatchNormalization()(x)\n",
        "\n",
        "x = Conv2D(16, (3, 3), activation='tanh', padding='same', strides=2)(x)\n",
        "x = BatchNormalization()(x)\n",
        "\n",
        "# x = Conv2D(16, (3, 3), activation='relu', padding='same', strides=2)(x)\n",
        "# x = BatchNormalization()(x)\n",
        "\n",
        "shape_before_flattening = K.int_shape(x)\n",
        "# print(shape_before_flattening)\n",
        "x = Flatten()(x)\n",
        "\n",
        "z_mu = Dense(latent_dim)(x)\n",
        "z_log_sigma = Dense(latent_dim, kernel_initializer='zeros', bias_initializer='zeros')(x)\n",
        "\n",
        "\n",
        "# sampling function\n",
        "def sampling(args):\n",
        "    z_mu, z_log_sigma = args\n",
        "    epsilon = K.random_normal(shape=(K.shape(z_mu)[0], latent_dim),\n",
        "                              mean=0., stddev=1.)\n",
        "    return z_mu + K.exp(z_log_sigma) * epsilon\n",
        "\n",
        "# sample vector from the latent distribution\n",
        "z = Lambda(sampling)([z_mu, z_log_sigma])\n",
        "\n",
        "encoder = Model(input_img,z)\n",
        "\n",
        "# decoder takes the latent distribution sample as input\n",
        "decoder_input = Input(K.int_shape(z)[1:])\n",
        "x = Dense(4096, activation='tanh', name=\"intermediate_decoder\", input_shape=(latent_dim,))(decoder_input)\n",
        "x = Reshape((8,8,64))(x)\n",
        "\n",
        "x = Conv2DTranspose(32, (3, 3),strides= 2, padding='same', activation=\"tanh\")(x)\n",
        "x = BatchNormalization()(x)\n",
        "\n",
        "# x = Conv2DTranspose(16, (3, 3),strides= 2, padding='same')(x)\n",
        "# x = BatchNormalization()(x)\n",
        "\n",
        "# x = Conv2DTranspose(8, (3, 3),strides= 2, padding='same')(x)\n",
        "# x = BatchNormalization()(x)\n",
        "\n",
        "x = Conv2DTranspose(3, (3, 3),strides= 2, padding='same', activation='sigmoid')(x)\n",
        "\n",
        "\n",
        "# decoder model statement\n",
        "decoder = Model(decoder_input, x)\n",
        "\n",
        "# apply the decoder to the sample from the latent distribution\n",
        "pred = decoder(z)\n",
        "\n",
        "\n",
        "def vae_loss(x, pred):\n",
        "    x = K.flatten(x)\n",
        "    pred = K.flatten(pred)\n",
        "    # Reconstruction loss\n",
        "    #reconst_loss = 100 * binary_crossentropy(x, pred)\n",
        "    reconst_loss = 1000*K.mean(K.square(x - pred))\n",
        "    \n",
        "    # KL divergence\n",
        "    kl_loss = -0.5 * K.mean(1 + z_log_sigma - K.square(z_mu) - K.exp(z_log_sigma), axis=-1)\n",
        "    \n",
        "    return (reconst_loss + kl_loss)\n",
        "\n",
        "\n",
        "# VAE model statement\n",
        "vae = Model(input_img, pred)\n",
        "vae.add_loss(vae_loss(input_img,pred))\n",
        "optimizer = Adam(learning_rate=LEARNING_RATES[1])\n",
        "vae.compile(optimizer=optimizer, loss=None)\n",
        "\n",
        "vae.summary()\n",
        "\n",
        "\n",
        "# fit and track the model \n",
        "fit_model_and_log_metrics(\"Model vae_6.1\", \"With maxpooling, convtranspose, dense, and flatten\", vae, 50, 128)"
      ],
      "metadata": {
        "colab": {
          "base_uri": "https://localhost:8080/",
          "referenced_widgets": [
            "e3cc6b63dbaa4d0f9a4cfd05053387cb",
            "1b68fa67338c452ea6a2380cf814e06c",
            "649a6bc61b63493fa4d260356489c413",
            "8a617f03a08c417ea422382e4d32b315",
            "7f0305c3466544429f9a792cf5d29bb0",
            "177263f49a32406e9dafa830c6ffa07f",
            "7ec5e44be66f404aaf9ea688e8ece902",
            "5ca8fa1d55b4434ca4a99e1bc141b95c"
          ]
        },
        "id": "qqidJ_st0rmN",
        "outputId": "2b467d0b-91ae-47dd-d221-296d61bec1e8"
      },
      "execution_count": null,
      "outputs": [
        {
          "output_type": "stream",
          "name": "stdout",
          "text": [
            "Model: \"model_5\"\n",
            "__________________________________________________________________________________________________\n",
            " Layer (type)                   Output Shape         Param #     Connected to                     \n",
            "==================================================================================================\n",
            " input_3 (InputLayer)           [(None, 32, 32, 3)]  0           []                               \n",
            "                                                                                                  \n",
            " conv2d_2 (Conv2D)              (None, 16, 16, 32)   896         ['input_3[0][0]']                \n",
            "                                                                                                  \n",
            " batch_normalization_3 (BatchNo  (None, 16, 16, 32)  128         ['conv2d_2[0][0]']               \n",
            " rmalization)                                                                                     \n",
            "                                                                                                  \n",
            " conv2d_3 (Conv2D)              (None, 8, 8, 16)     4624        ['batch_normalization_3[0][0]']  \n",
            "                                                                                                  \n",
            " batch_normalization_4 (BatchNo  (None, 8, 8, 16)    64          ['conv2d_3[0][0]']               \n",
            " rmalization)                                                                                     \n",
            "                                                                                                  \n",
            " flatten_1 (Flatten)            (None, 1024)         0           ['batch_normalization_4[0][0]']  \n",
            "                                                                                                  \n",
            " dense_2 (Dense)                (None, 300)          307500      ['flatten_1[0][0]']              \n",
            "                                                                                                  \n",
            " dense_3 (Dense)                (None, 300)          307500      ['flatten_1[0][0]']              \n",
            "                                                                                                  \n",
            " lambda_1 (Lambda)              (None, 300)          0           ['dense_2[0][0]',                \n",
            "                                                                  'dense_3[0][0]']                \n",
            "                                                                                                  \n",
            " model_4 (Functional)           (None, 32, 32, 3)    1252355     ['lambda_1[0][0]']               \n",
            "                                                                                                  \n",
            " tf.reshape_2 (TFOpLambda)      (None,)              0           ['input_3[0][0]']                \n",
            "                                                                                                  \n",
            " tf.reshape_3 (TFOpLambda)      (None,)              0           ['model_4[0][0]']                \n",
            "                                                                                                  \n",
            " tf.__operators__.add_2 (TFOpLa  (None, 300)         0           ['dense_3[0][0]']                \n",
            " mbda)                                                                                            \n",
            "                                                                                                  \n",
            " tf.math.square_3 (TFOpLambda)  (None, 300)          0           ['dense_2[0][0]']                \n",
            "                                                                                                  \n",
            " tf.math.subtract_3 (TFOpLambda  (None,)             0           ['tf.reshape_2[0][0]',           \n",
            " )                                                                'tf.reshape_3[0][0]']           \n",
            "                                                                                                  \n",
            " tf.math.subtract_4 (TFOpLambda  (None, 300)         0           ['tf.__operators__.add_2[0][0]', \n",
            " )                                                                'tf.math.square_3[0][0]']       \n",
            "                                                                                                  \n",
            " tf.math.exp_1 (TFOpLambda)     (None, 300)          0           ['dense_3[0][0]']                \n",
            "                                                                                                  \n",
            " tf.math.square_2 (TFOpLambda)  (None,)              0           ['tf.math.subtract_3[0][0]']     \n",
            "                                                                                                  \n",
            " tf.math.subtract_5 (TFOpLambda  (None, 300)         0           ['tf.math.subtract_4[0][0]',     \n",
            " )                                                                'tf.math.exp_1[0][0]']          \n",
            "                                                                                                  \n",
            " tf.math.reduce_mean_2 (TFOpLam  ()                  0           ['tf.math.square_2[0][0]']       \n",
            " bda)                                                                                             \n",
            "                                                                                                  \n",
            " tf.math.reduce_mean_3 (TFOpLam  (None,)             0           ['tf.math.subtract_5[0][0]']     \n",
            " bda)                                                                                             \n",
            "                                                                                                  \n",
            " tf.math.multiply_2 (TFOpLambda  ()                  0           ['tf.math.reduce_mean_2[0][0]']  \n",
            " )                                                                                                \n",
            "                                                                                                  \n",
            " tf.math.multiply_3 (TFOpLambda  (None,)             0           ['tf.math.reduce_mean_3[0][0]']  \n",
            " )                                                                                                \n",
            "                                                                                                  \n",
            " tf.__operators__.add_3 (TFOpLa  (None,)             0           ['tf.math.multiply_2[0][0]',     \n",
            " mbda)                                                            'tf.math.multiply_3[0][0]']     \n",
            "                                                                                                  \n",
            " add_loss_1 (AddLoss)           (None,)              0           ['tf.__operators__.add_3[0][0]'] \n",
            "                                                                                                  \n",
            "==================================================================================================\n",
            "Total params: 1,873,067\n",
            "Trainable params: 1,872,907\n",
            "Non-trainable params: 160\n",
            "__________________________________________________________________________________________________\n"
          ]
        },
        {
          "output_type": "display_data",
          "data": {
            "text/plain": [
              "<IPython.core.display.HTML object>"
            ],
            "text/html": [
              "Tracking run with wandb version 0.12.11"
            ]
          },
          "metadata": {}
        },
        {
          "output_type": "display_data",
          "data": {
            "text/plain": [
              "<IPython.core.display.HTML object>"
            ],
            "text/html": [
              "Run data is saved locally in <code>/content/wandb/run-20220401_155205-3tg25wnx</code>"
            ]
          },
          "metadata": {}
        },
        {
          "output_type": "display_data",
          "data": {
            "text/plain": [
              "<IPython.core.display.HTML object>"
            ],
            "text/html": [
              "Syncing run <strong><a href=\"https://wandb.ai/csc2231-yash-siphelele/autoencoders_RQ_comparison/runs/3tg25wnx\" target=\"_blank\">Model vae_6.1</a></strong> to <a href=\"https://wandb.ai/csc2231-yash-siphelele/autoencoders_RQ_comparison\" target=\"_blank\">Weights & Biases</a> (<a href=\"https://wandb.me/run\" target=\"_blank\">docs</a>)<br/>"
            ]
          },
          "metadata": {}
        },
        {
          "output_type": "stream",
          "name": "stdout",
          "text": [
            "Epoch 1/50\n",
            "391/391 [==============================] - 9s 19ms/step - loss: 10.7063 - val_loss: 19.9280 - _timestamp: 1648828345.0000 - _runtime: 19.0000\n",
            "Epoch 2/50\n",
            "391/391 [==============================] - 7s 18ms/step - loss: 5.3318 - val_loss: 7.2817 - _timestamp: 1648828352.0000 - _runtime: 26.0000\n",
            "Epoch 3/50\n",
            "391/391 [==============================] - 6s 16ms/step - loss: 4.5892 - val_loss: 6.2973 - _timestamp: 1648828358.0000 - _runtime: 32.0000\n",
            "Epoch 4/50\n",
            "391/391 [==============================] - 6s 16ms/step - loss: 4.3596 - val_loss: 5.2993 - _timestamp: 1648828364.0000 - _runtime: 38.0000\n",
            "Epoch 5/50\n",
            "391/391 [==============================] - 6s 16ms/step - loss: 4.2394 - val_loss: 4.2469 - _timestamp: 1648828371.0000 - _runtime: 45.0000\n",
            "Epoch 6/50\n",
            "391/391 [==============================] - 6s 16ms/step - loss: 4.1532 - val_loss: 5.2460 - _timestamp: 1648828377.0000 - _runtime: 51.0000\n",
            "Epoch 7/50\n",
            "391/391 [==============================] - 6s 15ms/step - loss: 4.0943 - val_loss: 4.3814 - _timestamp: 1648828383.0000 - _runtime: 57.0000\n",
            "Epoch 8/50\n",
            "391/391 [==============================] - 6s 16ms/step - loss: 4.0160 - val_loss: 4.0479 - _timestamp: 1648828389.0000 - _runtime: 63.0000\n",
            "Epoch 9/50\n",
            "391/391 [==============================] - 6s 16ms/step - loss: 3.9858 - val_loss: 4.0327 - _timestamp: 1648828395.0000 - _runtime: 69.0000\n",
            "Epoch 10/50\n",
            "391/391 [==============================] - 6s 16ms/step - loss: 3.9580 - val_loss: 4.1902 - _timestamp: 1648828402.0000 - _runtime: 76.0000\n",
            "Epoch 11/50\n",
            "391/391 [==============================] - 6s 16ms/step - loss: 3.9376 - val_loss: 4.1563 - _timestamp: 1648828408.0000 - _runtime: 82.0000\n",
            "Epoch 12/50\n",
            "391/391 [==============================] - 6s 16ms/step - loss: 3.8859 - val_loss: 4.0567 - _timestamp: 1648828414.0000 - _runtime: 88.0000\n",
            "Epoch 13/50\n",
            "391/391 [==============================] - 7s 17ms/step - loss: 3.8585 - val_loss: 3.9492 - _timestamp: 1648828421.0000 - _runtime: 95.0000\n",
            "Epoch 14/50\n",
            "391/391 [==============================] - 7s 17ms/step - loss: 3.8220 - val_loss: 4.0900 - _timestamp: 1648828428.0000 - _runtime: 102.0000\n",
            "Epoch 15/50\n",
            "391/391 [==============================] - 7s 17ms/step - loss: 3.8422 - val_loss: 3.9066 - _timestamp: 1648828434.0000 - _runtime: 108.0000\n",
            "Epoch 16/50\n",
            "391/391 [==============================] - 6s 16ms/step - loss: 3.7984 - val_loss: 3.9593 - _timestamp: 1648828441.0000 - _runtime: 115.0000\n",
            "Epoch 17/50\n",
            "391/391 [==============================] - 6s 16ms/step - loss: 3.8135 - val_loss: 4.5324 - _timestamp: 1648828447.0000 - _runtime: 121.0000\n",
            "Epoch 18/50\n",
            "391/391 [==============================] - 6s 16ms/step - loss: 3.8077 - val_loss: 4.2663 - _timestamp: 1648828453.0000 - _runtime: 127.0000\n",
            "Epoch 19/50\n",
            "391/391 [==============================] - 7s 17ms/step - loss: 3.7521 - val_loss: 3.8426 - _timestamp: 1648828460.0000 - _runtime: 134.0000\n",
            "Epoch 20/50\n",
            "391/391 [==============================] - 7s 17ms/step - loss: 3.7654 - val_loss: 3.8037 - _timestamp: 1648828467.0000 - _runtime: 141.0000\n",
            "Epoch 21/50\n",
            "391/391 [==============================] - 7s 17ms/step - loss: 3.7222 - val_loss: 3.7404 - _timestamp: 1648828473.0000 - _runtime: 147.0000\n",
            "Epoch 22/50\n",
            "391/391 [==============================] - 6s 16ms/step - loss: 3.7140 - val_loss: 3.8056 - _timestamp: 1648828480.0000 - _runtime: 154.0000\n",
            "Epoch 23/50\n",
            "391/391 [==============================] - 6s 17ms/step - loss: 3.7147 - val_loss: 3.9594 - _timestamp: 1648828486.0000 - _runtime: 160.0000\n",
            "Epoch 24/50\n",
            "391/391 [==============================] - 6s 16ms/step - loss: 3.7203 - val_loss: 4.4713 - _timestamp: 1648828493.0000 - _runtime: 167.0000\n",
            "Epoch 25/50\n",
            "391/391 [==============================] - 6s 16ms/step - loss: 3.6505 - val_loss: 3.8573 - _timestamp: 1648828499.0000 - _runtime: 173.0000\n",
            "Epoch 26/50\n",
            "391/391 [==============================] - 6s 16ms/step - loss: 3.6682 - val_loss: 4.9722 - _timestamp: 1648828505.0000 - _runtime: 179.0000\n",
            "Epoch 27/50\n",
            "391/391 [==============================] - 6s 16ms/step - loss: 3.6375 - val_loss: 3.8408 - _timestamp: 1648828511.0000 - _runtime: 185.0000\n",
            "Epoch 28/50\n",
            "391/391 [==============================] - 6s 15ms/step - loss: 3.6728 - val_loss: 4.0593 - _timestamp: 1648828517.0000 - _runtime: 191.0000\n",
            "Epoch 29/50\n",
            "391/391 [==============================] - 6s 15ms/step - loss: 3.6712 - val_loss: 3.8395 - _timestamp: 1648828523.0000 - _runtime: 197.0000\n",
            "Epoch 30/50\n",
            "391/391 [==============================] - 6s 16ms/step - loss: 3.6509 - val_loss: 3.8321 - _timestamp: 1648828529.0000 - _runtime: 203.0000\n",
            "Epoch 31/50\n",
            "391/391 [==============================] - 6s 17ms/step - loss: 3.6158 - val_loss: 3.6516 - _timestamp: 1648828536.0000 - _runtime: 210.0000\n",
            "Epoch 32/50\n",
            "391/391 [==============================] - 6s 15ms/step - loss: 3.6537 - val_loss: 3.9205 - _timestamp: 1648828542.0000 - _runtime: 216.0000\n",
            "Epoch 33/50\n",
            "391/391 [==============================] - 6s 16ms/step - loss: 3.6443 - val_loss: 3.6664 - _timestamp: 1648828548.0000 - _runtime: 222.0000\n",
            "Epoch 34/50\n",
            "391/391 [==============================] - 7s 17ms/step - loss: 3.6291 - val_loss: 4.1252 - _timestamp: 1648828555.0000 - _runtime: 229.0000\n",
            "Epoch 35/50\n",
            "391/391 [==============================] - 6s 16ms/step - loss: 3.6142 - val_loss: 3.9668 - _timestamp: 1648828561.0000 - _runtime: 235.0000\n",
            "Epoch 36/50\n",
            "391/391 [==============================] - 7s 17ms/step - loss: 3.6258 - val_loss: 3.6739 - _timestamp: 1648828568.0000 - _runtime: 242.0000\n",
            "Epoch 37/50\n",
            "391/391 [==============================] - 6s 16ms/step - loss: 3.6029 - val_loss: 4.4056 - _timestamp: 1648828574.0000 - _runtime: 248.0000\n",
            "Epoch 38/50\n",
            "391/391 [==============================] - 6s 16ms/step - loss: 3.6428 - val_loss: 4.0518 - _timestamp: 1648828581.0000 - _runtime: 255.0000\n",
            "Epoch 39/50\n",
            "391/391 [==============================] - 6s 16ms/step - loss: 3.6133 - val_loss: 3.7507 - _timestamp: 1648828587.0000 - _runtime: 261.0000\n",
            "Epoch 40/50\n",
            "391/391 [==============================] - 6s 17ms/step - loss: 3.5863 - val_loss: 4.0320 - _timestamp: 1648828593.0000 - _runtime: 267.0000\n",
            "Epoch 41/50\n",
            "391/391 [==============================] - 6s 16ms/step - loss: 3.5809 - val_loss: 3.8191 - _timestamp: 1648828600.0000 - _runtime: 274.0000\n",
            "Epoch 41: early stopping\n",
            "Avg SSIM over X_test: 0.9127589428130984\n",
            "\n"
          ]
        },
        {
          "output_type": "display_data",
          "data": {
            "text/plain": [
              "<IPython.core.display.HTML object>"
            ],
            "text/html": [
              "Waiting for W&B process to finish... <strong style=\"color:green\">(success).</strong>"
            ]
          },
          "metadata": {}
        },
        {
          "output_type": "display_data",
          "data": {
            "text/plain": [
              "VBox(children=(Label(value='21.549 MB of 21.549 MB uploaded (0.000 MB deduped)\\r'), FloatProgress(value=1.0, m…"
            ],
            "application/vnd.jupyter.widget-view+json": {
              "version_major": 2,
              "version_minor": 0,
              "model_id": "e3cc6b63dbaa4d0f9a4cfd05053387cb"
            }
          },
          "metadata": {}
        },
        {
          "output_type": "display_data",
          "data": {
            "text/plain": [
              "<IPython.core.display.HTML object>"
            ],
            "text/html": [
              "<style>\n",
              "    table.wandb td:nth-child(1) { padding: 0 10px; text-align: right }\n",
              "    .wandb-row { display: flex; flex-direction: row; flex-wrap: wrap; width: 100% }\n",
              "    .wandb-col { display: flex; flex-direction: column; flex-basis: 100%; flex: 1; padding: 10px; }\n",
              "    </style>\n",
              "<div class=\"wandb-row\"><div class=\"wandb-col\"><h3>Run history:</h3><br/><table class=\"wandb\"><tr><td>avg_ssim_score_x_test</td><td>▁</td></tr><tr><td>epoch</td><td>▁▁▁▂▂▂▂▂▂▃▃▃▃▃▃▄▄▄▄▄▅▅▅▅▅▅▆▆▆▆▆▆▇▇▇▇▇▇██</td></tr><tr><td>loss</td><td>█▃▂▂▂▂▂▁▁▁▁▁▁▁▁▁▁▁▁▁▁▁▁▁▁▁▁▁▁▁▁▁▁▁▁▁▁▁▁▁</td></tr><tr><td>val_loss</td><td>█▃▂▂▁▂▁▁▁▁▁▁▁▁▁▁▁▁▁▁▁▁▁▁▁▂▁▁▁▁▁▁▁▁▁▁▁▁▁▁</td></tr></table><br/></div><div class=\"wandb-col\"><h3>Run summary:</h3><br/><table class=\"wandb\"><tr><td>avg_ssim_score_x_test</td><td>0.91276</td></tr><tr><td>best_epoch</td><td>30</td></tr><tr><td>best_val_loss</td><td>3.65163</td></tr><tr><td>epoch</td><td>40</td></tr><tr><td>loss</td><td>3.58094</td></tr><tr><td>val_loss</td><td>3.81913</td></tr></table><br/></div></div>"
            ]
          },
          "metadata": {}
        },
        {
          "output_type": "display_data",
          "data": {
            "text/plain": [
              "<IPython.core.display.HTML object>"
            ],
            "text/html": [
              "Synced <strong style=\"color:#cdcd00\">Model vae_6.1</strong>: <a href=\"https://wandb.ai/csc2231-yash-siphelele/autoencoders_RQ_comparison/runs/3tg25wnx\" target=\"_blank\">https://wandb.ai/csc2231-yash-siphelele/autoencoders_RQ_comparison/runs/3tg25wnx</a><br/>Synced 5 W&B file(s), 0 media file(s), 0 artifact file(s) and 1 other file(s)"
            ]
          },
          "metadata": {}
        },
        {
          "output_type": "display_data",
          "data": {
            "text/plain": [
              "<IPython.core.display.HTML object>"
            ],
            "text/html": [
              "Find logs at: <code>./wandb/run-20220401_155205-3tg25wnx/logs</code>"
            ]
          },
          "metadata": {}
        }
      ]
    },
    {
      "cell_type": "code",
      "source": [
        ""
      ],
      "metadata": {
        "id": "MBBWCE3T05vg"
      },
      "execution_count": null,
      "outputs": []
    }
  ]
}