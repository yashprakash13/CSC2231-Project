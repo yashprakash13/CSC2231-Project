{
  "nbformat": 4,
  "nbformat_minor": 0,
  "metadata": {
    "colab": {
      "name": "JPEG_thingies.ipynb",
      "provenance": [],
      "collapsed_sections": [
        "nXQ4Y7FfgpXe",
        "L3pwRUnJg1_T"
      ]
    },
    "kernelspec": {
      "name": "python3",
      "display_name": "Python 3"
    },
    "language_info": {
      "name": "python"
    }
  },
  "cells": [
    {
      "cell_type": "code",
      "source": [
        "from skimage.io import imsave, imread\n",
        "import os\n",
        "import numpy as np\n",
        "import pandas as pd\n",
        "from tensorflow.keras.datasets import fashion_mnist, cifar10\n",
        "import matplotlib.pyplot as plt\n",
        "from PIL import Image, ImageOps\n",
        "from skimage.metrics import structural_similarity as ssim\n"
      ],
      "metadata": {
        "id": "XJoQ6WyQMBGS"
      },
      "execution_count": null,
      "outputs": []
    },
    {
      "cell_type": "markdown",
      "source": [
        "## For CIFAR10"
      ],
      "metadata": {
        "id": "nXQ4Y7FfgpXe"
      }
    },
    {
      "cell_type": "code",
      "source": [
        "(x_train, y_train), (x_test, y_test) = cifar10.load_data()\n",
        "x_train.shape, x_test.shape, y_train.shape, y_test.shape "
      ],
      "metadata": {
        "colab": {
          "base_uri": "https://localhost:8080/"
        },
        "id": "OJdzmwI6MS8d",
        "outputId": "4887693d-f83d-4277-d324-5e383dda1e65"
      },
      "execution_count": null,
      "outputs": [
        {
          "output_type": "execute_result",
          "data": {
            "text/plain": [
              "((50000, 32, 32, 3), (10000, 32, 32, 3), (50000, 1), (10000, 1))"
            ]
          },
          "metadata": {},
          "execution_count": 6
        }
      ]
    },
    {
      "cell_type": "code",
      "execution_count": null,
      "metadata": {
        "id": "g0YEBRm9L4ww"
      },
      "outputs": [],
      "source": [
        "def save_image(filename, data_array):\n",
        "    im = Image.fromarray(data_array.astype('uint8'))\n",
        "    # im_invert = ImageOps.invert(im)\n",
        "    im.save(filename)\n",
        "\n",
        "DIR_NAME = \"CIFAR_JPEGImages\"\n",
        "if os.path.exists(DIR_NAME) == False:\n",
        "    os.mkdir(DIR_NAME)\n",
        "\n",
        "\n",
        "# Save Images\n",
        "i = 0\n",
        "for img_array in x_test:\n",
        "    filename = os.path.join(DIR_NAME, f\"{i}.jpg\")\n",
        "    print(filename)\n",
        "    save_image(filename, img_array)\n",
        "    i += 1 "
      ]
    },
    {
      "cell_type": "code",
      "source": [
        "all_images_jpeg = os.listdir(\"CIFAR_JPEGImages\")\n",
        "len(all_images_jpeg)"
      ],
      "metadata": {
        "colab": {
          "base_uri": "https://localhost:8080/"
        },
        "id": "TnsYK_nWM1S8",
        "outputId": "7570290d-5a0e-4db1-9713-1f32dee33885"
      },
      "execution_count": null,
      "outputs": [
        {
          "output_type": "execute_result",
          "data": {
            "text/plain": [
              "10000"
            ]
          },
          "metadata": {},
          "execution_count": 66
        }
      ]
    },
    {
      "cell_type": "code",
      "source": [
        "image_jpeg = imread(os.path.join(\"CIFAR_JPEGImages\", \"1.jpg\"))\n",
        "image_xtest = x_test[1].astype('uint8').reshape(32, 32, 3)\n",
        "# plt.imshow(image_jpeg)\n",
        "ssim_value = ssim(image_jpeg, image_xtest, multichannel=True)\n",
        "ssim_value"
      ],
      "metadata": {
        "colab": {
          "base_uri": "https://localhost:8080/"
        },
        "id": "Slq2IPpDM617",
        "outputId": "7c2171a0-3ce1-4155-86fe-70711a73c89f"
      },
      "execution_count": null,
      "outputs": [
        {
          "output_type": "execute_result",
          "data": {
            "text/plain": [
              "0.962562099434515"
            ]
          },
          "metadata": {},
          "execution_count": 77
        }
      ]
    },
    {
      "cell_type": "code",
      "source": [
        "ssim_scores = []\n",
        "for i in range(len(x_test)):\n",
        "    image_jpeg = imread(os.path.join(\"CIFAR_JPEGImages\", f\"{i}.jpg\"))\n",
        "    image_xtest = x_test[i].astype('uint8').reshape(32, 32, 3)\n",
        "    ssim_value = ssim(image_jpeg, image_xtest, multichannel=True)\n",
        "    ssim_scores.append(ssim_value)\n",
        "\n",
        "np.mean(ssim_scores)"
      ],
      "metadata": {
        "colab": {
          "base_uri": "https://localhost:8080/"
        },
        "id": "alkh5m00bQyS",
        "outputId": "7c59390b-9d96-448a-d4de-541cf3d03a73"
      },
      "execution_count": null,
      "outputs": [
        {
          "output_type": "execute_result",
          "data": {
            "text/plain": [
              "0.9447656859643075"
            ]
          },
          "metadata": {},
          "execution_count": 78
        }
      ]
    },
    {
      "cell_type": "markdown",
      "source": [
        "## For Fashion MNIST"
      ],
      "metadata": {
        "id": "L3pwRUnJg1_T"
      }
    },
    {
      "cell_type": "code",
      "source": [
        "(x_train, y_train), (x_test, y_test) = fashion_mnist.load_data()\n",
        "x_train.shape, x_test.shape, y_train.shape, y_test.shape "
      ],
      "metadata": {
        "id": "BLzldDZ5g3xR"
      },
      "execution_count": null,
      "outputs": []
    },
    {
      "cell_type": "code",
      "source": [
        "def save_image(filename, data_array):\n",
        "    im = Image.fromarray(data_array.astype('uint8'))\n",
        "    # im_invert = ImageOps.invert(im)\n",
        "    im.save(filename)\n",
        "\n",
        "DIR_NAME = \"F-MNIST\"\n",
        "if os.path.exists(DIR_NAME) == False:\n",
        "    os.mkdir(DIR_NAME)\n",
        "\n",
        "\n",
        "# Save Images\n",
        "i = 0\n",
        "for img_array in x_test:\n",
        "    filename = os.path.join(DIR_NAME, f\"{i}.jpg\")\n",
        "    print(filename)\n",
        "    save_image(filename, img_array)\n",
        "    i += 1 "
      ],
      "metadata": {
        "id": "3wM-6s7og7XP"
      },
      "execution_count": null,
      "outputs": []
    },
    {
      "cell_type": "code",
      "source": [
        "all_images_jpeg = os.listdir(DIR_NAME)\n",
        "len(all_images_jpeg)"
      ],
      "metadata": {
        "colab": {
          "base_uri": "https://localhost:8080/"
        },
        "id": "ekQVm0HlhAf0",
        "outputId": "da7db864-025c-4e56-d654-8215f3655a37"
      },
      "execution_count": null,
      "outputs": [
        {
          "output_type": "execute_result",
          "data": {
            "text/plain": [
              "10000"
            ]
          },
          "metadata": {},
          "execution_count": 82
        }
      ]
    },
    {
      "cell_type": "code",
      "source": [
        "image_jpeg = imread(os.path.join(DIR_NAME, \"1.jpg\"))\n",
        "image_xtest = x_test[1].astype('uint8').reshape(28, 28)\n",
        "# plt.imshow(image_jpeg)\n",
        "ssim_value = ssim(image_jpeg, image_xtest)\n",
        "ssim_value"
      ],
      "metadata": {
        "colab": {
          "base_uri": "https://localhost:8080/"
        },
        "id": "A0XGjiCOhFmO",
        "outputId": "06f91cbb-5e00-46e1-bcfd-d8d772321561"
      },
      "execution_count": null,
      "outputs": [
        {
          "output_type": "execute_result",
          "data": {
            "text/plain": [
              "0.9733279325588317"
            ]
          },
          "metadata": {},
          "execution_count": 86
        }
      ]
    },
    {
      "cell_type": "code",
      "source": [
        "ssim_scores = []\n",
        "for i in range(len(x_test)):\n",
        "    image_jpeg = imread(os.path.join(DIR_NAME, f\"{i}.jpg\"))\n",
        "    image_xtest = x_test[i].astype('uint8').reshape(28, 28)\n",
        "    ssim_value = ssim(image_jpeg, image_xtest)\n",
        "    ssim_scores.append(ssim_value)\n",
        "\n",
        "np.mean(ssim_scores)"
      ],
      "metadata": {
        "colab": {
          "base_uri": "https://localhost:8080/"
        },
        "id": "Dbql8gTxhMts",
        "outputId": "975f5574-f341-4bec-f8b5-01c1348df37e"
      },
      "execution_count": null,
      "outputs": [
        {
          "output_type": "execute_result",
          "data": {
            "text/plain": [
              "0.9574789473295361"
            ]
          },
          "metadata": {},
          "execution_count": 87
        }
      ]
    },
    {
      "cell_type": "code",
      "source": [
        ""
      ],
      "metadata": {
        "id": "xftjm_0ohZRZ"
      },
      "execution_count": null,
      "outputs": []
    }
  ]
}