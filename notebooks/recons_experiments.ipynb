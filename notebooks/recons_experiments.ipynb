{
  "nbformat": 4,
  "nbformat_minor": 0,
  "metadata": {
    "colab": {
      "name": "recons_experiments.ipynb",
      "provenance": [],
      "collapsed_sections": [
        "S-5mzSdB1407",
        "V-t77v_hlwkt",
        "UceOJsoKmBwo",
        "2L3Sv3xgqpc5",
        "2YOUlEyFvUwn",
        "2Wy0QjKzEUTF",
        "w7nTYHdRFAq-",
        "23iNxV7_BBeB",
        "dw-GsHRw05F3"
      ]
    },
    "kernelspec": {
      "name": "python3",
      "display_name": "Python 3"
    },
    "language_info": {
      "name": "python"
    },
    "accelerator": "GPU",
    "widgets": {
      "application/vnd.jupyter.widget-state+json": {
        "4f84e3097c8a44f99849d923bfdb6e77": {
          "model_module": "@jupyter-widgets/controls",
          "model_name": "VBoxModel",
          "model_module_version": "1.5.0",
          "state": {
            "_dom_classes": [],
            "_model_module": "@jupyter-widgets/controls",
            "_model_module_version": "1.5.0",
            "_model_name": "VBoxModel",
            "_view_count": null,
            "_view_module": "@jupyter-widgets/controls",
            "_view_module_version": "1.5.0",
            "_view_name": "VBoxView",
            "box_style": "",
            "children": [
              "IPY_MODEL_09ccdcd43f354bcc98dde7f79cb394a7",
              "IPY_MODEL_ec759853fa8b4e2db2301a42a55dc38c"
            ],
            "layout": "IPY_MODEL_a1395c012e024af7a7d7ef3636351f16"
          }
        },
        "09ccdcd43f354bcc98dde7f79cb394a7": {
          "model_module": "@jupyter-widgets/controls",
          "model_name": "LabelModel",
          "model_module_version": "1.5.0",
          "state": {
            "_dom_classes": [],
            "_model_module": "@jupyter-widgets/controls",
            "_model_module_version": "1.5.0",
            "_model_name": "LabelModel",
            "_view_count": null,
            "_view_module": "@jupyter-widgets/controls",
            "_view_module_version": "1.5.0",
            "_view_name": "LabelView",
            "description": "",
            "description_tooltip": null,
            "layout": "IPY_MODEL_27d8cfcb7e9941bd81df4305b2c68ce4",
            "placeholder": "​",
            "style": "IPY_MODEL_a3e31fa3bc4b4a92a3dd865f929c071d",
            "value": "7.272 MB of 7.272 MB uploaded (0.000 MB deduped)\r"
          }
        },
        "ec759853fa8b4e2db2301a42a55dc38c": {
          "model_module": "@jupyter-widgets/controls",
          "model_name": "FloatProgressModel",
          "model_module_version": "1.5.0",
          "state": {
            "_dom_classes": [],
            "_model_module": "@jupyter-widgets/controls",
            "_model_module_version": "1.5.0",
            "_model_name": "FloatProgressModel",
            "_view_count": null,
            "_view_module": "@jupyter-widgets/controls",
            "_view_module_version": "1.5.0",
            "_view_name": "ProgressView",
            "bar_style": "",
            "description": "",
            "description_tooltip": null,
            "layout": "IPY_MODEL_08aa2cf44f60441787c9a8e39a1c9044",
            "max": 1,
            "min": 0,
            "orientation": "horizontal",
            "style": "IPY_MODEL_343e5d460e9a4104b1ad8a320a5382f9",
            "value": 1
          }
        },
        "a1395c012e024af7a7d7ef3636351f16": {
          "model_module": "@jupyter-widgets/base",
          "model_name": "LayoutModel",
          "model_module_version": "1.2.0",
          "state": {
            "_model_module": "@jupyter-widgets/base",
            "_model_module_version": "1.2.0",
            "_model_name": "LayoutModel",
            "_view_count": null,
            "_view_module": "@jupyter-widgets/base",
            "_view_module_version": "1.2.0",
            "_view_name": "LayoutView",
            "align_content": null,
            "align_items": null,
            "align_self": null,
            "border": null,
            "bottom": null,
            "display": null,
            "flex": null,
            "flex_flow": null,
            "grid_area": null,
            "grid_auto_columns": null,
            "grid_auto_flow": null,
            "grid_auto_rows": null,
            "grid_column": null,
            "grid_gap": null,
            "grid_row": null,
            "grid_template_areas": null,
            "grid_template_columns": null,
            "grid_template_rows": null,
            "height": null,
            "justify_content": null,
            "justify_items": null,
            "left": null,
            "margin": null,
            "max_height": null,
            "max_width": null,
            "min_height": null,
            "min_width": null,
            "object_fit": null,
            "object_position": null,
            "order": null,
            "overflow": null,
            "overflow_x": null,
            "overflow_y": null,
            "padding": null,
            "right": null,
            "top": null,
            "visibility": null,
            "width": null
          }
        },
        "27d8cfcb7e9941bd81df4305b2c68ce4": {
          "model_module": "@jupyter-widgets/base",
          "model_name": "LayoutModel",
          "model_module_version": "1.2.0",
          "state": {
            "_model_module": "@jupyter-widgets/base",
            "_model_module_version": "1.2.0",
            "_model_name": "LayoutModel",
            "_view_count": null,
            "_view_module": "@jupyter-widgets/base",
            "_view_module_version": "1.2.0",
            "_view_name": "LayoutView",
            "align_content": null,
            "align_items": null,
            "align_self": null,
            "border": null,
            "bottom": null,
            "display": null,
            "flex": null,
            "flex_flow": null,
            "grid_area": null,
            "grid_auto_columns": null,
            "grid_auto_flow": null,
            "grid_auto_rows": null,
            "grid_column": null,
            "grid_gap": null,
            "grid_row": null,
            "grid_template_areas": null,
            "grid_template_columns": null,
            "grid_template_rows": null,
            "height": null,
            "justify_content": null,
            "justify_items": null,
            "left": null,
            "margin": null,
            "max_height": null,
            "max_width": null,
            "min_height": null,
            "min_width": null,
            "object_fit": null,
            "object_position": null,
            "order": null,
            "overflow": null,
            "overflow_x": null,
            "overflow_y": null,
            "padding": null,
            "right": null,
            "top": null,
            "visibility": null,
            "width": null
          }
        },
        "a3e31fa3bc4b4a92a3dd865f929c071d": {
          "model_module": "@jupyter-widgets/controls",
          "model_name": "DescriptionStyleModel",
          "model_module_version": "1.5.0",
          "state": {
            "_model_module": "@jupyter-widgets/controls",
            "_model_module_version": "1.5.0",
            "_model_name": "DescriptionStyleModel",
            "_view_count": null,
            "_view_module": "@jupyter-widgets/base",
            "_view_module_version": "1.2.0",
            "_view_name": "StyleView",
            "description_width": ""
          }
        },
        "08aa2cf44f60441787c9a8e39a1c9044": {
          "model_module": "@jupyter-widgets/base",
          "model_name": "LayoutModel",
          "model_module_version": "1.2.0",
          "state": {
            "_model_module": "@jupyter-widgets/base",
            "_model_module_version": "1.2.0",
            "_model_name": "LayoutModel",
            "_view_count": null,
            "_view_module": "@jupyter-widgets/base",
            "_view_module_version": "1.2.0",
            "_view_name": "LayoutView",
            "align_content": null,
            "align_items": null,
            "align_self": null,
            "border": null,
            "bottom": null,
            "display": null,
            "flex": null,
            "flex_flow": null,
            "grid_area": null,
            "grid_auto_columns": null,
            "grid_auto_flow": null,
            "grid_auto_rows": null,
            "grid_column": null,
            "grid_gap": null,
            "grid_row": null,
            "grid_template_areas": null,
            "grid_template_columns": null,
            "grid_template_rows": null,
            "height": null,
            "justify_content": null,
            "justify_items": null,
            "left": null,
            "margin": null,
            "max_height": null,
            "max_width": null,
            "min_height": null,
            "min_width": null,
            "object_fit": null,
            "object_position": null,
            "order": null,
            "overflow": null,
            "overflow_x": null,
            "overflow_y": null,
            "padding": null,
            "right": null,
            "top": null,
            "visibility": null,
            "width": null
          }
        },
        "343e5d460e9a4104b1ad8a320a5382f9": {
          "model_module": "@jupyter-widgets/controls",
          "model_name": "ProgressStyleModel",
          "model_module_version": "1.5.0",
          "state": {
            "_model_module": "@jupyter-widgets/controls",
            "_model_module_version": "1.5.0",
            "_model_name": "ProgressStyleModel",
            "_view_count": null,
            "_view_module": "@jupyter-widgets/base",
            "_view_module_version": "1.2.0",
            "_view_name": "StyleView",
            "bar_color": null,
            "description_width": ""
          }
        },
        "b6c0f89d257a4101938b543662345076": {
          "model_module": "@jupyter-widgets/controls",
          "model_name": "VBoxModel",
          "model_module_version": "1.5.0",
          "state": {
            "_dom_classes": [],
            "_model_module": "@jupyter-widgets/controls",
            "_model_module_version": "1.5.0",
            "_model_name": "VBoxModel",
            "_view_count": null,
            "_view_module": "@jupyter-widgets/controls",
            "_view_module_version": "1.5.0",
            "_view_name": "VBoxView",
            "box_style": "",
            "children": [
              "IPY_MODEL_b63c978d7ce64b4282724d4f2a1cc713",
              "IPY_MODEL_ff8768a9a18d439e996e2bd288173509"
            ],
            "layout": "IPY_MODEL_8323e29e3dea484282c77abafd454e96"
          }
        },
        "b63c978d7ce64b4282724d4f2a1cc713": {
          "model_module": "@jupyter-widgets/controls",
          "model_name": "LabelModel",
          "model_module_version": "1.5.0",
          "state": {
            "_dom_classes": [],
            "_model_module": "@jupyter-widgets/controls",
            "_model_module_version": "1.5.0",
            "_model_name": "LabelModel",
            "_view_count": null,
            "_view_module": "@jupyter-widgets/controls",
            "_view_module_version": "1.5.0",
            "_view_name": "LabelView",
            "description": "",
            "description_tooltip": null,
            "layout": "IPY_MODEL_31a76511b0c740b1b527a31333dd8f06",
            "placeholder": "​",
            "style": "IPY_MODEL_185a2806ea514db0a063e375746bda62",
            "value": "5.536 MB of 5.536 MB uploaded (0.000 MB deduped)\r"
          }
        },
        "ff8768a9a18d439e996e2bd288173509": {
          "model_module": "@jupyter-widgets/controls",
          "model_name": "FloatProgressModel",
          "model_module_version": "1.5.0",
          "state": {
            "_dom_classes": [],
            "_model_module": "@jupyter-widgets/controls",
            "_model_module_version": "1.5.0",
            "_model_name": "FloatProgressModel",
            "_view_count": null,
            "_view_module": "@jupyter-widgets/controls",
            "_view_module_version": "1.5.0",
            "_view_name": "ProgressView",
            "bar_style": "",
            "description": "",
            "description_tooltip": null,
            "layout": "IPY_MODEL_3e460d060f764dc08ea970f2386d6aed",
            "max": 1,
            "min": 0,
            "orientation": "horizontal",
            "style": "IPY_MODEL_8a6b64c221bf4cef97f307de54ae8169",
            "value": 1
          }
        },
        "8323e29e3dea484282c77abafd454e96": {
          "model_module": "@jupyter-widgets/base",
          "model_name": "LayoutModel",
          "model_module_version": "1.2.0",
          "state": {
            "_model_module": "@jupyter-widgets/base",
            "_model_module_version": "1.2.0",
            "_model_name": "LayoutModel",
            "_view_count": null,
            "_view_module": "@jupyter-widgets/base",
            "_view_module_version": "1.2.0",
            "_view_name": "LayoutView",
            "align_content": null,
            "align_items": null,
            "align_self": null,
            "border": null,
            "bottom": null,
            "display": null,
            "flex": null,
            "flex_flow": null,
            "grid_area": null,
            "grid_auto_columns": null,
            "grid_auto_flow": null,
            "grid_auto_rows": null,
            "grid_column": null,
            "grid_gap": null,
            "grid_row": null,
            "grid_template_areas": null,
            "grid_template_columns": null,
            "grid_template_rows": null,
            "height": null,
            "justify_content": null,
            "justify_items": null,
            "left": null,
            "margin": null,
            "max_height": null,
            "max_width": null,
            "min_height": null,
            "min_width": null,
            "object_fit": null,
            "object_position": null,
            "order": null,
            "overflow": null,
            "overflow_x": null,
            "overflow_y": null,
            "padding": null,
            "right": null,
            "top": null,
            "visibility": null,
            "width": null
          }
        },
        "31a76511b0c740b1b527a31333dd8f06": {
          "model_module": "@jupyter-widgets/base",
          "model_name": "LayoutModel",
          "model_module_version": "1.2.0",
          "state": {
            "_model_module": "@jupyter-widgets/base",
            "_model_module_version": "1.2.0",
            "_model_name": "LayoutModel",
            "_view_count": null,
            "_view_module": "@jupyter-widgets/base",
            "_view_module_version": "1.2.0",
            "_view_name": "LayoutView",
            "align_content": null,
            "align_items": null,
            "align_self": null,
            "border": null,
            "bottom": null,
            "display": null,
            "flex": null,
            "flex_flow": null,
            "grid_area": null,
            "grid_auto_columns": null,
            "grid_auto_flow": null,
            "grid_auto_rows": null,
            "grid_column": null,
            "grid_gap": null,
            "grid_row": null,
            "grid_template_areas": null,
            "grid_template_columns": null,
            "grid_template_rows": null,
            "height": null,
            "justify_content": null,
            "justify_items": null,
            "left": null,
            "margin": null,
            "max_height": null,
            "max_width": null,
            "min_height": null,
            "min_width": null,
            "object_fit": null,
            "object_position": null,
            "order": null,
            "overflow": null,
            "overflow_x": null,
            "overflow_y": null,
            "padding": null,
            "right": null,
            "top": null,
            "visibility": null,
            "width": null
          }
        },
        "185a2806ea514db0a063e375746bda62": {
          "model_module": "@jupyter-widgets/controls",
          "model_name": "DescriptionStyleModel",
          "model_module_version": "1.5.0",
          "state": {
            "_model_module": "@jupyter-widgets/controls",
            "_model_module_version": "1.5.0",
            "_model_name": "DescriptionStyleModel",
            "_view_count": null,
            "_view_module": "@jupyter-widgets/base",
            "_view_module_version": "1.2.0",
            "_view_name": "StyleView",
            "description_width": ""
          }
        },
        "3e460d060f764dc08ea970f2386d6aed": {
          "model_module": "@jupyter-widgets/base",
          "model_name": "LayoutModel",
          "model_module_version": "1.2.0",
          "state": {
            "_model_module": "@jupyter-widgets/base",
            "_model_module_version": "1.2.0",
            "_model_name": "LayoutModel",
            "_view_count": null,
            "_view_module": "@jupyter-widgets/base",
            "_view_module_version": "1.2.0",
            "_view_name": "LayoutView",
            "align_content": null,
            "align_items": null,
            "align_self": null,
            "border": null,
            "bottom": null,
            "display": null,
            "flex": null,
            "flex_flow": null,
            "grid_area": null,
            "grid_auto_columns": null,
            "grid_auto_flow": null,
            "grid_auto_rows": null,
            "grid_column": null,
            "grid_gap": null,
            "grid_row": null,
            "grid_template_areas": null,
            "grid_template_columns": null,
            "grid_template_rows": null,
            "height": null,
            "justify_content": null,
            "justify_items": null,
            "left": null,
            "margin": null,
            "max_height": null,
            "max_width": null,
            "min_height": null,
            "min_width": null,
            "object_fit": null,
            "object_position": null,
            "order": null,
            "overflow": null,
            "overflow_x": null,
            "overflow_y": null,
            "padding": null,
            "right": null,
            "top": null,
            "visibility": null,
            "width": null
          }
        },
        "8a6b64c221bf4cef97f307de54ae8169": {
          "model_module": "@jupyter-widgets/controls",
          "model_name": "ProgressStyleModel",
          "model_module_version": "1.5.0",
          "state": {
            "_model_module": "@jupyter-widgets/controls",
            "_model_module_version": "1.5.0",
            "_model_name": "ProgressStyleModel",
            "_view_count": null,
            "_view_module": "@jupyter-widgets/base",
            "_view_module_version": "1.2.0",
            "_view_name": "StyleView",
            "bar_color": null,
            "description_width": ""
          }
        },
        "cf89877b6b21480e85d55592d1992e33": {
          "model_module": "@jupyter-widgets/controls",
          "model_name": "VBoxModel",
          "model_module_version": "1.5.0",
          "state": {
            "_dom_classes": [],
            "_model_module": "@jupyter-widgets/controls",
            "_model_module_version": "1.5.0",
            "_model_name": "VBoxModel",
            "_view_count": null,
            "_view_module": "@jupyter-widgets/controls",
            "_view_module_version": "1.5.0",
            "_view_name": "VBoxView",
            "box_style": "",
            "children": [
              "IPY_MODEL_3b8be6890e084196834dae2b0e852b25",
              "IPY_MODEL_37dd99ace4e040d8982334ac70b8a58a"
            ],
            "layout": "IPY_MODEL_fc5c91edf2ee4730abecf5f6517aba0d"
          }
        },
        "3b8be6890e084196834dae2b0e852b25": {
          "model_module": "@jupyter-widgets/controls",
          "model_name": "LabelModel",
          "model_module_version": "1.5.0",
          "state": {
            "_dom_classes": [],
            "_model_module": "@jupyter-widgets/controls",
            "_model_module_version": "1.5.0",
            "_model_name": "LabelModel",
            "_view_count": null,
            "_view_module": "@jupyter-widgets/controls",
            "_view_module_version": "1.5.0",
            "_view_name": "LabelView",
            "description": "",
            "description_tooltip": null,
            "layout": "IPY_MODEL_2de63255136a4b6a97aa421082a8c221",
            "placeholder": "​",
            "style": "IPY_MODEL_0bad22fcb0c84a4eb75bf26978c9d6ed",
            "value": "6.251 MB of 6.251 MB uploaded (0.000 MB deduped)\r"
          }
        },
        "37dd99ace4e040d8982334ac70b8a58a": {
          "model_module": "@jupyter-widgets/controls",
          "model_name": "FloatProgressModel",
          "model_module_version": "1.5.0",
          "state": {
            "_dom_classes": [],
            "_model_module": "@jupyter-widgets/controls",
            "_model_module_version": "1.5.0",
            "_model_name": "FloatProgressModel",
            "_view_count": null,
            "_view_module": "@jupyter-widgets/controls",
            "_view_module_version": "1.5.0",
            "_view_name": "ProgressView",
            "bar_style": "",
            "description": "",
            "description_tooltip": null,
            "layout": "IPY_MODEL_fef0e4d1c0ec409287486ee03683043e",
            "max": 1,
            "min": 0,
            "orientation": "horizontal",
            "style": "IPY_MODEL_08021557e8934c569cfb28c6445c8478",
            "value": 1
          }
        },
        "fc5c91edf2ee4730abecf5f6517aba0d": {
          "model_module": "@jupyter-widgets/base",
          "model_name": "LayoutModel",
          "model_module_version": "1.2.0",
          "state": {
            "_model_module": "@jupyter-widgets/base",
            "_model_module_version": "1.2.0",
            "_model_name": "LayoutModel",
            "_view_count": null,
            "_view_module": "@jupyter-widgets/base",
            "_view_module_version": "1.2.0",
            "_view_name": "LayoutView",
            "align_content": null,
            "align_items": null,
            "align_self": null,
            "border": null,
            "bottom": null,
            "display": null,
            "flex": null,
            "flex_flow": null,
            "grid_area": null,
            "grid_auto_columns": null,
            "grid_auto_flow": null,
            "grid_auto_rows": null,
            "grid_column": null,
            "grid_gap": null,
            "grid_row": null,
            "grid_template_areas": null,
            "grid_template_columns": null,
            "grid_template_rows": null,
            "height": null,
            "justify_content": null,
            "justify_items": null,
            "left": null,
            "margin": null,
            "max_height": null,
            "max_width": null,
            "min_height": null,
            "min_width": null,
            "object_fit": null,
            "object_position": null,
            "order": null,
            "overflow": null,
            "overflow_x": null,
            "overflow_y": null,
            "padding": null,
            "right": null,
            "top": null,
            "visibility": null,
            "width": null
          }
        },
        "2de63255136a4b6a97aa421082a8c221": {
          "model_module": "@jupyter-widgets/base",
          "model_name": "LayoutModel",
          "model_module_version": "1.2.0",
          "state": {
            "_model_module": "@jupyter-widgets/base",
            "_model_module_version": "1.2.0",
            "_model_name": "LayoutModel",
            "_view_count": null,
            "_view_module": "@jupyter-widgets/base",
            "_view_module_version": "1.2.0",
            "_view_name": "LayoutView",
            "align_content": null,
            "align_items": null,
            "align_self": null,
            "border": null,
            "bottom": null,
            "display": null,
            "flex": null,
            "flex_flow": null,
            "grid_area": null,
            "grid_auto_columns": null,
            "grid_auto_flow": null,
            "grid_auto_rows": null,
            "grid_column": null,
            "grid_gap": null,
            "grid_row": null,
            "grid_template_areas": null,
            "grid_template_columns": null,
            "grid_template_rows": null,
            "height": null,
            "justify_content": null,
            "justify_items": null,
            "left": null,
            "margin": null,
            "max_height": null,
            "max_width": null,
            "min_height": null,
            "min_width": null,
            "object_fit": null,
            "object_position": null,
            "order": null,
            "overflow": null,
            "overflow_x": null,
            "overflow_y": null,
            "padding": null,
            "right": null,
            "top": null,
            "visibility": null,
            "width": null
          }
        },
        "0bad22fcb0c84a4eb75bf26978c9d6ed": {
          "model_module": "@jupyter-widgets/controls",
          "model_name": "DescriptionStyleModel",
          "model_module_version": "1.5.0",
          "state": {
            "_model_module": "@jupyter-widgets/controls",
            "_model_module_version": "1.5.0",
            "_model_name": "DescriptionStyleModel",
            "_view_count": null,
            "_view_module": "@jupyter-widgets/base",
            "_view_module_version": "1.2.0",
            "_view_name": "StyleView",
            "description_width": ""
          }
        },
        "fef0e4d1c0ec409287486ee03683043e": {
          "model_module": "@jupyter-widgets/base",
          "model_name": "LayoutModel",
          "model_module_version": "1.2.0",
          "state": {
            "_model_module": "@jupyter-widgets/base",
            "_model_module_version": "1.2.0",
            "_model_name": "LayoutModel",
            "_view_count": null,
            "_view_module": "@jupyter-widgets/base",
            "_view_module_version": "1.2.0",
            "_view_name": "LayoutView",
            "align_content": null,
            "align_items": null,
            "align_self": null,
            "border": null,
            "bottom": null,
            "display": null,
            "flex": null,
            "flex_flow": null,
            "grid_area": null,
            "grid_auto_columns": null,
            "grid_auto_flow": null,
            "grid_auto_rows": null,
            "grid_column": null,
            "grid_gap": null,
            "grid_row": null,
            "grid_template_areas": null,
            "grid_template_columns": null,
            "grid_template_rows": null,
            "height": null,
            "justify_content": null,
            "justify_items": null,
            "left": null,
            "margin": null,
            "max_height": null,
            "max_width": null,
            "min_height": null,
            "min_width": null,
            "object_fit": null,
            "object_position": null,
            "order": null,
            "overflow": null,
            "overflow_x": null,
            "overflow_y": null,
            "padding": null,
            "right": null,
            "top": null,
            "visibility": null,
            "width": null
          }
        },
        "08021557e8934c569cfb28c6445c8478": {
          "model_module": "@jupyter-widgets/controls",
          "model_name": "ProgressStyleModel",
          "model_module_version": "1.5.0",
          "state": {
            "_model_module": "@jupyter-widgets/controls",
            "_model_module_version": "1.5.0",
            "_model_name": "ProgressStyleModel",
            "_view_count": null,
            "_view_module": "@jupyter-widgets/base",
            "_view_module_version": "1.2.0",
            "_view_name": "StyleView",
            "bar_color": null,
            "description_width": ""
          }
        },
        "411c81d6925b4a78941ced5c9e9f9cb3": {
          "model_module": "@jupyter-widgets/controls",
          "model_name": "VBoxModel",
          "model_module_version": "1.5.0",
          "state": {
            "_dom_classes": [],
            "_model_module": "@jupyter-widgets/controls",
            "_model_module_version": "1.5.0",
            "_model_name": "VBoxModel",
            "_view_count": null,
            "_view_module": "@jupyter-widgets/controls",
            "_view_module_version": "1.5.0",
            "_view_name": "VBoxView",
            "box_style": "",
            "children": [
              "IPY_MODEL_8841628c498f49e4b83bd811219c55ed",
              "IPY_MODEL_558cfda4f52b419fb633edf3c089cb85"
            ],
            "layout": "IPY_MODEL_a61c65231d714aef982cb73234d0f2df"
          }
        },
        "8841628c498f49e4b83bd811219c55ed": {
          "model_module": "@jupyter-widgets/controls",
          "model_name": "LabelModel",
          "model_module_version": "1.5.0",
          "state": {
            "_dom_classes": [],
            "_model_module": "@jupyter-widgets/controls",
            "_model_module_version": "1.5.0",
            "_model_name": "LabelModel",
            "_view_count": null,
            "_view_module": "@jupyter-widgets/controls",
            "_view_module_version": "1.5.0",
            "_view_name": "LabelView",
            "description": "",
            "description_tooltip": null,
            "layout": "IPY_MODEL_8e8b93f5900a409ea2145820f57cd07c",
            "placeholder": "​",
            "style": "IPY_MODEL_d5d373c383f74f6db179fc36f2e3a4a3",
            "value": "6.317 MB of 6.317 MB uploaded (0.000 MB deduped)\r"
          }
        },
        "558cfda4f52b419fb633edf3c089cb85": {
          "model_module": "@jupyter-widgets/controls",
          "model_name": "FloatProgressModel",
          "model_module_version": "1.5.0",
          "state": {
            "_dom_classes": [],
            "_model_module": "@jupyter-widgets/controls",
            "_model_module_version": "1.5.0",
            "_model_name": "FloatProgressModel",
            "_view_count": null,
            "_view_module": "@jupyter-widgets/controls",
            "_view_module_version": "1.5.0",
            "_view_name": "ProgressView",
            "bar_style": "",
            "description": "",
            "description_tooltip": null,
            "layout": "IPY_MODEL_a9a5fcc349dc4a8195b77d2fc28cee65",
            "max": 1,
            "min": 0,
            "orientation": "horizontal",
            "style": "IPY_MODEL_60a857aef87d4980a181415e6799c605",
            "value": 1
          }
        },
        "a61c65231d714aef982cb73234d0f2df": {
          "model_module": "@jupyter-widgets/base",
          "model_name": "LayoutModel",
          "model_module_version": "1.2.0",
          "state": {
            "_model_module": "@jupyter-widgets/base",
            "_model_module_version": "1.2.0",
            "_model_name": "LayoutModel",
            "_view_count": null,
            "_view_module": "@jupyter-widgets/base",
            "_view_module_version": "1.2.0",
            "_view_name": "LayoutView",
            "align_content": null,
            "align_items": null,
            "align_self": null,
            "border": null,
            "bottom": null,
            "display": null,
            "flex": null,
            "flex_flow": null,
            "grid_area": null,
            "grid_auto_columns": null,
            "grid_auto_flow": null,
            "grid_auto_rows": null,
            "grid_column": null,
            "grid_gap": null,
            "grid_row": null,
            "grid_template_areas": null,
            "grid_template_columns": null,
            "grid_template_rows": null,
            "height": null,
            "justify_content": null,
            "justify_items": null,
            "left": null,
            "margin": null,
            "max_height": null,
            "max_width": null,
            "min_height": null,
            "min_width": null,
            "object_fit": null,
            "object_position": null,
            "order": null,
            "overflow": null,
            "overflow_x": null,
            "overflow_y": null,
            "padding": null,
            "right": null,
            "top": null,
            "visibility": null,
            "width": null
          }
        },
        "8e8b93f5900a409ea2145820f57cd07c": {
          "model_module": "@jupyter-widgets/base",
          "model_name": "LayoutModel",
          "model_module_version": "1.2.0",
          "state": {
            "_model_module": "@jupyter-widgets/base",
            "_model_module_version": "1.2.0",
            "_model_name": "LayoutModel",
            "_view_count": null,
            "_view_module": "@jupyter-widgets/base",
            "_view_module_version": "1.2.0",
            "_view_name": "LayoutView",
            "align_content": null,
            "align_items": null,
            "align_self": null,
            "border": null,
            "bottom": null,
            "display": null,
            "flex": null,
            "flex_flow": null,
            "grid_area": null,
            "grid_auto_columns": null,
            "grid_auto_flow": null,
            "grid_auto_rows": null,
            "grid_column": null,
            "grid_gap": null,
            "grid_row": null,
            "grid_template_areas": null,
            "grid_template_columns": null,
            "grid_template_rows": null,
            "height": null,
            "justify_content": null,
            "justify_items": null,
            "left": null,
            "margin": null,
            "max_height": null,
            "max_width": null,
            "min_height": null,
            "min_width": null,
            "object_fit": null,
            "object_position": null,
            "order": null,
            "overflow": null,
            "overflow_x": null,
            "overflow_y": null,
            "padding": null,
            "right": null,
            "top": null,
            "visibility": null,
            "width": null
          }
        },
        "d5d373c383f74f6db179fc36f2e3a4a3": {
          "model_module": "@jupyter-widgets/controls",
          "model_name": "DescriptionStyleModel",
          "model_module_version": "1.5.0",
          "state": {
            "_model_module": "@jupyter-widgets/controls",
            "_model_module_version": "1.5.0",
            "_model_name": "DescriptionStyleModel",
            "_view_count": null,
            "_view_module": "@jupyter-widgets/base",
            "_view_module_version": "1.2.0",
            "_view_name": "StyleView",
            "description_width": ""
          }
        },
        "a9a5fcc349dc4a8195b77d2fc28cee65": {
          "model_module": "@jupyter-widgets/base",
          "model_name": "LayoutModel",
          "model_module_version": "1.2.0",
          "state": {
            "_model_module": "@jupyter-widgets/base",
            "_model_module_version": "1.2.0",
            "_model_name": "LayoutModel",
            "_view_count": null,
            "_view_module": "@jupyter-widgets/base",
            "_view_module_version": "1.2.0",
            "_view_name": "LayoutView",
            "align_content": null,
            "align_items": null,
            "align_self": null,
            "border": null,
            "bottom": null,
            "display": null,
            "flex": null,
            "flex_flow": null,
            "grid_area": null,
            "grid_auto_columns": null,
            "grid_auto_flow": null,
            "grid_auto_rows": null,
            "grid_column": null,
            "grid_gap": null,
            "grid_row": null,
            "grid_template_areas": null,
            "grid_template_columns": null,
            "grid_template_rows": null,
            "height": null,
            "justify_content": null,
            "justify_items": null,
            "left": null,
            "margin": null,
            "max_height": null,
            "max_width": null,
            "min_height": null,
            "min_width": null,
            "object_fit": null,
            "object_position": null,
            "order": null,
            "overflow": null,
            "overflow_x": null,
            "overflow_y": null,
            "padding": null,
            "right": null,
            "top": null,
            "visibility": null,
            "width": null
          }
        },
        "60a857aef87d4980a181415e6799c605": {
          "model_module": "@jupyter-widgets/controls",
          "model_name": "ProgressStyleModel",
          "model_module_version": "1.5.0",
          "state": {
            "_model_module": "@jupyter-widgets/controls",
            "_model_module_version": "1.5.0",
            "_model_name": "ProgressStyleModel",
            "_view_count": null,
            "_view_module": "@jupyter-widgets/base",
            "_view_module_version": "1.2.0",
            "_view_name": "StyleView",
            "bar_color": null,
            "description_width": ""
          }
        },
        "882bc52d3ef4423ab6dc9d44b7dad794": {
          "model_module": "@jupyter-widgets/controls",
          "model_name": "VBoxModel",
          "model_module_version": "1.5.0",
          "state": {
            "_dom_classes": [],
            "_model_module": "@jupyter-widgets/controls",
            "_model_module_version": "1.5.0",
            "_model_name": "VBoxModel",
            "_view_count": null,
            "_view_module": "@jupyter-widgets/controls",
            "_view_module_version": "1.5.0",
            "_view_name": "VBoxView",
            "box_style": "",
            "children": [
              "IPY_MODEL_a01a6c7087444349b3510af2f39adc8e",
              "IPY_MODEL_9db2850e5ddd40e89d69906f2b6c72d7"
            ],
            "layout": "IPY_MODEL_d8bf011cd0ad440893970710aabdc20a"
          }
        },
        "a01a6c7087444349b3510af2f39adc8e": {
          "model_module": "@jupyter-widgets/controls",
          "model_name": "LabelModel",
          "model_module_version": "1.5.0",
          "state": {
            "_dom_classes": [],
            "_model_module": "@jupyter-widgets/controls",
            "_model_module_version": "1.5.0",
            "_model_name": "LabelModel",
            "_view_count": null,
            "_view_module": "@jupyter-widgets/controls",
            "_view_module_version": "1.5.0",
            "_view_name": "LabelView",
            "description": "",
            "description_tooltip": null,
            "layout": "IPY_MODEL_2e6cc0703eb7456395086d0b130dfcbf",
            "placeholder": "​",
            "style": "IPY_MODEL_e2e5b69603be4fe48566ea47525f6dd3",
            "value": "6.284 MB of 6.284 MB uploaded (0.000 MB deduped)\r"
          }
        },
        "9db2850e5ddd40e89d69906f2b6c72d7": {
          "model_module": "@jupyter-widgets/controls",
          "model_name": "FloatProgressModel",
          "model_module_version": "1.5.0",
          "state": {
            "_dom_classes": [],
            "_model_module": "@jupyter-widgets/controls",
            "_model_module_version": "1.5.0",
            "_model_name": "FloatProgressModel",
            "_view_count": null,
            "_view_module": "@jupyter-widgets/controls",
            "_view_module_version": "1.5.0",
            "_view_name": "ProgressView",
            "bar_style": "",
            "description": "",
            "description_tooltip": null,
            "layout": "IPY_MODEL_19d2e5611c8744b397daa72a8579071f",
            "max": 1,
            "min": 0,
            "orientation": "horizontal",
            "style": "IPY_MODEL_f075b2d9833845e2936c1b59cb80b102",
            "value": 1
          }
        },
        "d8bf011cd0ad440893970710aabdc20a": {
          "model_module": "@jupyter-widgets/base",
          "model_name": "LayoutModel",
          "model_module_version": "1.2.0",
          "state": {
            "_model_module": "@jupyter-widgets/base",
            "_model_module_version": "1.2.0",
            "_model_name": "LayoutModel",
            "_view_count": null,
            "_view_module": "@jupyter-widgets/base",
            "_view_module_version": "1.2.0",
            "_view_name": "LayoutView",
            "align_content": null,
            "align_items": null,
            "align_self": null,
            "border": null,
            "bottom": null,
            "display": null,
            "flex": null,
            "flex_flow": null,
            "grid_area": null,
            "grid_auto_columns": null,
            "grid_auto_flow": null,
            "grid_auto_rows": null,
            "grid_column": null,
            "grid_gap": null,
            "grid_row": null,
            "grid_template_areas": null,
            "grid_template_columns": null,
            "grid_template_rows": null,
            "height": null,
            "justify_content": null,
            "justify_items": null,
            "left": null,
            "margin": null,
            "max_height": null,
            "max_width": null,
            "min_height": null,
            "min_width": null,
            "object_fit": null,
            "object_position": null,
            "order": null,
            "overflow": null,
            "overflow_x": null,
            "overflow_y": null,
            "padding": null,
            "right": null,
            "top": null,
            "visibility": null,
            "width": null
          }
        },
        "2e6cc0703eb7456395086d0b130dfcbf": {
          "model_module": "@jupyter-widgets/base",
          "model_name": "LayoutModel",
          "model_module_version": "1.2.0",
          "state": {
            "_model_module": "@jupyter-widgets/base",
            "_model_module_version": "1.2.0",
            "_model_name": "LayoutModel",
            "_view_count": null,
            "_view_module": "@jupyter-widgets/base",
            "_view_module_version": "1.2.0",
            "_view_name": "LayoutView",
            "align_content": null,
            "align_items": null,
            "align_self": null,
            "border": null,
            "bottom": null,
            "display": null,
            "flex": null,
            "flex_flow": null,
            "grid_area": null,
            "grid_auto_columns": null,
            "grid_auto_flow": null,
            "grid_auto_rows": null,
            "grid_column": null,
            "grid_gap": null,
            "grid_row": null,
            "grid_template_areas": null,
            "grid_template_columns": null,
            "grid_template_rows": null,
            "height": null,
            "justify_content": null,
            "justify_items": null,
            "left": null,
            "margin": null,
            "max_height": null,
            "max_width": null,
            "min_height": null,
            "min_width": null,
            "object_fit": null,
            "object_position": null,
            "order": null,
            "overflow": null,
            "overflow_x": null,
            "overflow_y": null,
            "padding": null,
            "right": null,
            "top": null,
            "visibility": null,
            "width": null
          }
        },
        "e2e5b69603be4fe48566ea47525f6dd3": {
          "model_module": "@jupyter-widgets/controls",
          "model_name": "DescriptionStyleModel",
          "model_module_version": "1.5.0",
          "state": {
            "_model_module": "@jupyter-widgets/controls",
            "_model_module_version": "1.5.0",
            "_model_name": "DescriptionStyleModel",
            "_view_count": null,
            "_view_module": "@jupyter-widgets/base",
            "_view_module_version": "1.2.0",
            "_view_name": "StyleView",
            "description_width": ""
          }
        },
        "19d2e5611c8744b397daa72a8579071f": {
          "model_module": "@jupyter-widgets/base",
          "model_name": "LayoutModel",
          "model_module_version": "1.2.0",
          "state": {
            "_model_module": "@jupyter-widgets/base",
            "_model_module_version": "1.2.0",
            "_model_name": "LayoutModel",
            "_view_count": null,
            "_view_module": "@jupyter-widgets/base",
            "_view_module_version": "1.2.0",
            "_view_name": "LayoutView",
            "align_content": null,
            "align_items": null,
            "align_self": null,
            "border": null,
            "bottom": null,
            "display": null,
            "flex": null,
            "flex_flow": null,
            "grid_area": null,
            "grid_auto_columns": null,
            "grid_auto_flow": null,
            "grid_auto_rows": null,
            "grid_column": null,
            "grid_gap": null,
            "grid_row": null,
            "grid_template_areas": null,
            "grid_template_columns": null,
            "grid_template_rows": null,
            "height": null,
            "justify_content": null,
            "justify_items": null,
            "left": null,
            "margin": null,
            "max_height": null,
            "max_width": null,
            "min_height": null,
            "min_width": null,
            "object_fit": null,
            "object_position": null,
            "order": null,
            "overflow": null,
            "overflow_x": null,
            "overflow_y": null,
            "padding": null,
            "right": null,
            "top": null,
            "visibility": null,
            "width": null
          }
        },
        "f075b2d9833845e2936c1b59cb80b102": {
          "model_module": "@jupyter-widgets/controls",
          "model_name": "ProgressStyleModel",
          "model_module_version": "1.5.0",
          "state": {
            "_model_module": "@jupyter-widgets/controls",
            "_model_module_version": "1.5.0",
            "_model_name": "ProgressStyleModel",
            "_view_count": null,
            "_view_module": "@jupyter-widgets/base",
            "_view_module_version": "1.2.0",
            "_view_name": "StyleView",
            "bar_color": null,
            "description_width": ""
          }
        }
      }
    }
  },
  "cells": [
    {
      "cell_type": "code",
      "execution_count": null,
      "metadata": {
        "id": "3gArFd95wwaq"
      },
      "outputs": [],
      "source": [
        "!pip install wandb\n",
        "!wandb login"
      ]
    },
    {
      "cell_type": "code",
      "source": [
        "LEARNING_RATES = [0.005, 0.003, 0.001, 0.007] # best = 0.003\n",
        "# leaky_relu > ~ tanh, relu\n",
        "# batch size = 128\n",
        "# Batch norm is always essential\n",
        "# one layer in encoder less is okay with more filters\n",
        "# Reshaping to feed into Conv2DTranspose is better than using Dense then reshaping to feed into Conv2dTranspose. "
      ],
      "metadata": {
        "id": "jacJyNlNYLZh"
      },
      "execution_count": null,
      "outputs": []
    },
    {
      "cell_type": "markdown",
      "source": [
        "## Prelim stuff"
      ],
      "metadata": {
        "id": "S-5mzSdB1407"
      }
    },
    {
      "cell_type": "code",
      "source": [
        "from tensorflow import keras\n",
        "from tensorflow.keras.layers import Input, Conv2D, MaxPooling2D, Dropout, UpSampling2D, Conv2DTranspose, Dense, Flatten, Reshape, BatchNormalization, Lambda, Add, LeakyReLU\n",
        "from tensorflow.keras.models import Model\n",
        "from tensorflow.keras.optimizers import Adam\n",
        "from tensorflow.keras.callbacks import EarlyStopping\n",
        "import tensorflow.keras.backend as K\n",
        "from PIL import Image, ImageOps\n",
        "from skimage.metrics import structural_similarity as ssim\n",
        "\n",
        "import numpy as np\n",
        "import tensorflow as tf\n",
        "import matplotlib.pyplot as plt\n",
        "\n",
        "import os\n",
        "\n",
        "from tensorflow.keras.datasets import fashion_mnist, cifar10"
      ],
      "metadata": {
        "id": "r4SCYDWE1hYM"
      },
      "execution_count": null,
      "outputs": []
    },
    {
      "cell_type": "code",
      "source": [
        "import wandb\n",
        "from wandb.keras import WandbCallback"
      ],
      "metadata": {
        "id": "3PegD-DIlCdJ"
      },
      "execution_count": null,
      "outputs": []
    },
    {
      "cell_type": "code",
      "source": [
        "input_sizes_dict = {\n",
        "    'm': 28,\n",
        "    'c': 32,\n",
        "}\n",
        "channels_dict = {\n",
        "    'm': 1,\n",
        "    'c': 3,\n",
        "}"
      ],
      "metadata": {
        "id": "_bv2v61t1hV_"
      },
      "execution_count": null,
      "outputs": []
    },
    {
      "cell_type": "code",
      "source": [
        "def fit_model_and_log_metrics(run_name, run_notes, model, epochs, batch_size):\n",
        "    run = wandb.init(project=\"autoencoders_RQ_comparison\", entity=\"csc2231-yash-siphelele\", name=run_name, notes=run_notes)\n",
        "    wandb_callback = WandbCallback(\n",
        "                monitor=\"val_loss\", verbose=0, mode=\"auto\", save_weights_only=(False),\n",
        "                log_weights=(False), log_gradients=(False), save_model=(True),\n",
        "                training_data=None, validation_data=None, labels=[], predictions=36,\n",
        "                generator=None, input_type=None, output_type=None, log_evaluation=(False),\n",
        "                validation_steps=None, class_colors=None, log_batch_frequency=None,\n",
        "                log_best_prefix=\"best_\", save_graph=(False), validation_indexes=None,\n",
        "                validation_row_processor=None, prediction_row_processor=None,\n",
        "                infer_missing_processors=(False), log_evaluation_frequency=0)   \n",
        "    early_stopping_callback = EarlyStopping(monitor='val_loss', min_delta=0, patience=10, verbose=5, mode='auto')\n",
        "    history = model.fit(x_train, x_train, epochs = epochs, batch_size = batch_size, validation_data = (x_test, x_test), callbacks=[wandb_callback, early_stopping_callback]) \n",
        "    decoded_imgs = model.predict(x_test)\n",
        "    ssim_scores = []\n",
        "    for i in range(len(x_test)):\n",
        "        if CURRENT_DATASET_TYPE == 'c':\n",
        "            ssim_value = ssim(x_test[i].reshape(input_sizes_dict[CURRENT_DATASET_TYPE], input_sizes_dict[CURRENT_DATASET_TYPE], channels_dict[CURRENT_DATASET_TYPE]), \n",
        "                                            decoded_imgs[i].reshape(input_sizes_dict[CURRENT_DATASET_TYPE], input_sizes_dict[CURRENT_DATASET_TYPE], channels_dict[CURRENT_DATASET_TYPE]),\n",
        "                              multichannel=True)\n",
        "        else:\n",
        "            ssim_value = ssim(x_test[i].reshape(input_sizes_dict[CURRENT_DATASET_TYPE], input_sizes_dict[CURRENT_DATASET_TYPE]), \n",
        "                                            decoded_imgs[i].reshape(input_sizes_dict[CURRENT_DATASET_TYPE], input_sizes_dict[CURRENT_DATASET_TYPE]))\n",
        "        ssim_scores.append(ssim_value)\n",
        "\n",
        "    avg_ssim_score_x_test = np.mean(ssim_scores)\n",
        "    wandb.log({\"avg_ssim_score_x_test\": avg_ssim_score_x_test})\n",
        "    print(\"Avg SSIM over X_test:\", avg_ssim_score_x_test)\n",
        "    # model.save(os.path.join(wandb.run.dir, \"model.h5\"))\n",
        "    run.finish()"
      ],
      "metadata": {
        "id": "_O1NCVgI1hTN"
      },
      "execution_count": null,
      "outputs": []
    },
    {
      "cell_type": "code",
      "source": [
        "# (x_train, y_train), (x_test, y_test) = fashion_mnist.load_data()\n",
        "# x_train = x_train.astype('float32') / 255\n",
        "# x_test = x_test.astype('float32') / 255\n",
        "# x_train.shape, x_test.shape, y_train.shape, y_test.shape "
      ],
      "metadata": {
        "id": "Sx5XxAmd1r1U"
      },
      "execution_count": null,
      "outputs": []
    },
    {
      "cell_type": "code",
      "source": [
        "(x_train, y_train), (x_test, y_test) = cifar10.load_data()\n",
        "x_train = x_train.astype('float32') / 255\n",
        "x_test = x_test.astype('float32') / 255\n",
        "x_train.shape, x_test.shape, y_train.shape, y_test.shape "
      ],
      "metadata": {
        "colab": {
          "base_uri": "https://localhost:8080/"
        },
        "id": "Y84gfOPc1ry1",
        "outputId": "b0a38a4d-65b7-400b-ef63-35add23dc49e"
      },
      "execution_count": null,
      "outputs": [
        {
          "output_type": "stream",
          "name": "stdout",
          "text": [
            "Downloading data from https://www.cs.toronto.edu/~kriz/cifar-10-python.tar.gz\n",
            "170500096/170498071 [==============================] - 3s 0us/step\n",
            "170508288/170498071 [==============================] - 3s 0us/step\n"
          ]
        },
        {
          "output_type": "execute_result",
          "data": {
            "text/plain": [
              "((50000, 32, 32, 3), (10000, 32, 32, 3), (50000, 1), (10000, 1))"
            ]
          },
          "metadata": {},
          "execution_count": 8
        }
      ]
    },
    {
      "cell_type": "code",
      "source": [
        "Z_DIM = [20, 100, 300, 5000]  # Dimension of the latent vector (z), model is trained using different values of Z_DIM"
      ],
      "metadata": {
        "id": "SfxjENeW1rv7"
      },
      "execution_count": null,
      "outputs": []
    },
    {
      "cell_type": "code",
      "source": [
        "CURRENT_DATASET_TYPE = 'c'"
      ],
      "metadata": {
        "id": "hg_XgdJT1rs8"
      },
      "execution_count": null,
      "outputs": []
    },
    {
      "cell_type": "markdown",
      "source": [
        "# Experiments"
      ],
      "metadata": {
        "id": "dLISi0XR18fI"
      }
    },
    {
      "cell_type": "markdown",
      "source": [
        "## Exp 1"
      ],
      "metadata": {
        "id": "V-t77v_hlwkt"
      }
    },
    {
      "cell_type": "code",
      "source": [
        "'''\n",
        "Model recons_1\n",
        "'''\n",
        "\n",
        "latent_dim = Z_DIM[2]  # Number of latent dimension parameters\n",
        "\n",
        "input_img = Input(shape=(32, 32, 3))\n",
        "\n",
        "x = Conv2D(32, (3, 3), activation='leaky_relu', padding='same', strides=2)(input_img)\n",
        "x = BatchNormalization()(x)\n",
        "\n",
        "x = Conv2D(16, (3, 3), activation='leaky_relu', padding='same', strides=2)(x)\n",
        "x = BatchNormalization()(x)\n",
        "\n",
        "# x = Conv2D(16, (3, 3), activation='relu', padding='same', strides=2)(x)\n",
        "# x = BatchNormalization()(x)\n",
        "\n",
        "shape_before_flattening = K.int_shape(x)\n",
        "# print(shape_before_flattening)\n",
        "x = Flatten()(x)\n",
        "\n",
        "z = Dense(latent_dim)(x)\n",
        "\n",
        "encoder = Model(input_img,z)\n",
        "\n",
        "# encoder.summary()\n",
        "\n",
        "# decoder takes the latent distribution sample as input\n",
        "decoder_input = Input(K.int_shape(z)[1:])\n",
        "x = Dense(4096, activation='leaky_relu', name=\"intermediate_decoder\", input_shape=(latent_dim,))(decoder_input)\n",
        "x = Reshape((8,8,64))(x)\n",
        "\n",
        "x = Conv2DTranspose(32, (3, 3),strides= 2, padding='same', activation='leaky_relu')(x)\n",
        "x = BatchNormalization()(x)\n",
        "\n",
        "# x = Conv2DTranspose(16, (3, 3),strides= 2, padding='same')(x)\n",
        "# x = BatchNormalization()(x)\n",
        "\n",
        "# x = Conv2DTranspose(8, (3, 3),strides= 2, padding='same')(x)\n",
        "# x = BatchNormalization()(x)\n",
        "\n",
        "x = Conv2DTranspose(3, (3, 3),strides= 2, padding='same', activation='sigmoid')(x)\n",
        "\n",
        "\n",
        "# decoder model statement\n",
        "decoder = Model(decoder_input, x)\n",
        "# decoder.summary()\n",
        "# apply the decoder to the sample from the latent distribution\n",
        "pred = decoder(z)\n",
        "\n",
        "# VAE model statement\n",
        "recons_model = Model(input_img, pred)\n",
        "optimizer = Adam(learning_rate=LEARNING_RATES[1])\n",
        "recons_model.compile(optimizer=optimizer, loss='mse')\n",
        "\n",
        "recons_model.summary()\n",
        "\n",
        "\n",
        "# # fit and track the model \n",
        "fit_model_and_log_metrics(\"Model recons_1\", \"With maxpooling, convtranspose, dense, and flatten\", recons_model, 50, 128)"
      ],
      "metadata": {
        "id": "DUbiTBAAlzIp"
      },
      "execution_count": null,
      "outputs": []
    },
    {
      "cell_type": "markdown",
      "source": [
        "## Exp 1.1\n"
      ],
      "metadata": {
        "id": "UceOJsoKmBwo"
      }
    },
    {
      "cell_type": "code",
      "source": [
        "'''\n",
        "Model recons_1.1\n",
        "'''\n",
        "\n",
        "latent_dim = Z_DIM[2]  # Number of latent dimension parameters\n",
        "\n",
        "input_img = Input(shape=(32, 32, 3))\n",
        "\n",
        "x = Conv2D(32, (3, 3), activation='leaky_relu', padding='same', strides=2)(input_img)\n",
        "x = BatchNormalization()(x)\n",
        "\n",
        "x = Conv2D(16, (3, 3), activation='leaky_relu', padding='same', strides=2)(x)\n",
        "x = BatchNormalization()(x)\n",
        "\n",
        "# x = Conv2D(16, (3, 3), activation='relu', padding='same', strides=2)(x)\n",
        "# x = BatchNormalization()(x)\n",
        "\n",
        "shape_before_flattening = K.int_shape(x)\n",
        "# print(shape_before_flattening)\n",
        "x = Flatten()(x)\n",
        "\n",
        "z = Dense(latent_dim)(x)\n",
        "\n",
        "encoder = Model(input_img,z)\n",
        "\n",
        "# encoder.summary()\n",
        "\n",
        "# decoder takes the latent distribution sample as input\n",
        "# decoder_input = Input(K.int_shape(z)[1:])\n",
        "# x = Dense(4096, activation='leaky_relu', name=\"intermediate_decoder\", input_shape=(latent_dim,))(decoder_input)\n",
        "# x = Reshape((8,8,64))(x)\n",
        "\n",
        "decoder_input = Input(shape=(latent_dim,))\n",
        "x = Dense(np.prod(shape_before_flattening[1:]))(decoder_input)\n",
        "x = Reshape((shape_before_flattening[1], shape_before_flattening[2], shape_before_flattening[3]))(x)\n",
        "\n",
        "x = Conv2DTranspose(32, (3, 3),strides= 2, padding='same', activation='leaky_relu')(x)\n",
        "x = BatchNormalization()(x)\n",
        "\n",
        "# x = Conv2DTranspose(16, (3, 3),strides= 2, padding='same')(x)\n",
        "# x = BatchNormalization()(x)\n",
        "\n",
        "# x = Conv2DTranspose(8, (3, 3),strides= 2, padding='same')(x)\n",
        "# x = BatchNormalization()(x)\n",
        "\n",
        "x = Conv2DTranspose(3, (3, 3),strides= 2, padding='same')(x)\n",
        "\n",
        "\n",
        "# decoder model statement\n",
        "decoder = Model(decoder_input, x)\n",
        "# decoder.summary()\n",
        "# apply the decoder to the sample from the latent distribution\n",
        "pred = decoder(z)\n",
        "\n",
        "# VAE model statement\n",
        "recons_model = Model(input_img, pred)\n",
        "optimizer = Adam(learning_rate=LEARNING_RATES[1])\n",
        "recons_model.compile(optimizer=optimizer, loss='mse')\n",
        "\n",
        "recons_model.summary()\n",
        "\n",
        "\n",
        "# # fit and track the model \n",
        "fit_model_and_log_metrics(\"Model recons_1.1\", \"With maxpooling, convtranspose, dense, and flatten\", recons_model, 50, 128)"
      ],
      "metadata": {
        "id": "AV85uO-lmC2C",
        "colab": {
          "base_uri": "https://localhost:8080/",
          "height": 1000,
          "referenced_widgets": [
            "4f84e3097c8a44f99849d923bfdb6e77",
            "09ccdcd43f354bcc98dde7f79cb394a7",
            "ec759853fa8b4e2db2301a42a55dc38c",
            "a1395c012e024af7a7d7ef3636351f16",
            "27d8cfcb7e9941bd81df4305b2c68ce4",
            "a3e31fa3bc4b4a92a3dd865f929c071d",
            "08aa2cf44f60441787c9a8e39a1c9044",
            "343e5d460e9a4104b1ad8a320a5382f9"
          ]
        },
        "outputId": "cdb31984-35d8-4280-982c-6515d0230ab4"
      },
      "execution_count": null,
      "outputs": [
        {
          "output_type": "stream",
          "name": "stdout",
          "text": [
            "Model: \"model_9\"\n",
            "_________________________________________________________________\n",
            " Layer (type)                Output Shape              Param #   \n",
            "=================================================================\n",
            " input_7 (InputLayer)        [(None, 32, 32, 3)]       0         \n",
            "                                                                 \n",
            " conv2d_6 (Conv2D)           (None, 16, 16, 32)        896       \n",
            "                                                                 \n",
            " batch_normalization_9 (Batc  (None, 16, 16, 32)       128       \n",
            " hNormalization)                                                 \n",
            "                                                                 \n",
            " conv2d_7 (Conv2D)           (None, 8, 8, 16)          4624      \n",
            "                                                                 \n",
            " batch_normalization_10 (Bat  (None, 8, 8, 16)         64        \n",
            " chNormalization)                                                \n",
            "                                                                 \n",
            " flatten_3 (Flatten)         (None, 1024)              0         \n",
            "                                                                 \n",
            " dense_6 (Dense)             (None, 300)               307500    \n",
            "                                                                 \n",
            " model_8 (Functional)        (None, 32, 32, 3)         313859    \n",
            "                                                                 \n",
            "=================================================================\n",
            "Total params: 627,071\n",
            "Trainable params: 626,911\n",
            "Non-trainable params: 160\n",
            "_________________________________________________________________\n"
          ]
        },
        {
          "output_type": "stream",
          "name": "stderr",
          "text": [
            "\u001b[34m\u001b[1mwandb\u001b[0m: Currently logged in as: \u001b[33mcsc2231-yash-siphelele\u001b[0m (use `wandb login --relogin` to force relogin)\n"
          ]
        },
        {
          "output_type": "display_data",
          "data": {
            "text/plain": [
              "<IPython.core.display.HTML object>"
            ],
            "text/html": [
              "Tracking run with wandb version 0.12.11"
            ]
          },
          "metadata": {}
        },
        {
          "output_type": "display_data",
          "data": {
            "text/plain": [
              "<IPython.core.display.HTML object>"
            ],
            "text/html": [
              "Run data is saved locally in <code>/content/wandb/run-20220402_001713-3nohryr1</code>"
            ]
          },
          "metadata": {}
        },
        {
          "output_type": "display_data",
          "data": {
            "text/plain": [
              "<IPython.core.display.HTML object>"
            ],
            "text/html": [
              "Syncing run <strong><a href=\"https://wandb.ai/csc2231-yash-siphelele/autoencoders_RQ_comparison/runs/3nohryr1\" target=\"_blank\">Model recons_1.1</a></strong> to <a href=\"https://wandb.ai/csc2231-yash-siphelele/autoencoders_RQ_comparison\" target=\"_blank\">Weights & Biases</a> (<a href=\"https://wandb.me/run\" target=\"_blank\">docs</a>)<br/>"
            ]
          },
          "metadata": {}
        },
        {
          "output_type": "stream",
          "name": "stdout",
          "text": [
            "Epoch 1/50\n",
            "391/391 [==============================] - 16s 16ms/step - loss: 0.0322 - val_loss: 0.0317 - _timestamp: 1648858655.0000 - _runtime: 22.0000\n",
            "Epoch 2/50\n",
            "391/391 [==============================] - 5s 14ms/step - loss: 0.0066 - val_loss: 0.0061 - _timestamp: 1648858660.0000 - _runtime: 27.0000\n",
            "Epoch 3/50\n",
            "391/391 [==============================] - 6s 14ms/step - loss: 0.0048 - val_loss: 0.0047 - _timestamp: 1648858666.0000 - _runtime: 33.0000\n",
            "Epoch 4/50\n",
            "391/391 [==============================] - 5s 14ms/step - loss: 0.0040 - val_loss: 0.0036 - _timestamp: 1648858671.0000 - _runtime: 38.0000\n",
            "Epoch 5/50\n",
            "391/391 [==============================] - 6s 15ms/step - loss: 0.0037 - val_loss: 0.0036 - _timestamp: 1648858677.0000 - _runtime: 44.0000\n",
            "Epoch 6/50\n",
            "391/391 [==============================] - 5s 14ms/step - loss: 0.0033 - val_loss: 0.0034 - _timestamp: 1648858682.0000 - _runtime: 49.0000\n",
            "Epoch 7/50\n",
            "391/391 [==============================] - 5s 14ms/step - loss: 0.0032 - val_loss: 0.0031 - _timestamp: 1648858688.0000 - _runtime: 55.0000\n",
            "Epoch 8/50\n",
            "391/391 [==============================] - 5s 14ms/step - loss: 0.0031 - val_loss: 0.0029 - _timestamp: 1648858693.0000 - _runtime: 60.0000\n",
            "Epoch 9/50\n",
            "391/391 [==============================] - 6s 14ms/step - loss: 0.0030 - val_loss: 0.0035 - _timestamp: 1648858699.0000 - _runtime: 66.0000\n",
            "Epoch 10/50\n",
            "391/391 [==============================] - 5s 14ms/step - loss: 0.0029 - val_loss: 0.0030 - _timestamp: 1648858705.0000 - _runtime: 72.0000\n",
            "Epoch 11/50\n",
            "391/391 [==============================] - 6s 14ms/step - loss: 0.0029 - val_loss: 0.0029 - _timestamp: 1648858710.0000 - _runtime: 77.0000\n",
            "Epoch 12/50\n",
            "391/391 [==============================] - 6s 14ms/step - loss: 0.0028 - val_loss: 0.0032 - _timestamp: 1648858716.0000 - _runtime: 83.0000\n",
            "Epoch 13/50\n",
            "391/391 [==============================] - 6s 14ms/step - loss: 0.0028 - val_loss: 0.0028 - _timestamp: 1648858721.0000 - _runtime: 88.0000\n",
            "Epoch 14/50\n",
            "391/391 [==============================] - 5s 14ms/step - loss: 0.0028 - val_loss: 0.0029 - _timestamp: 1648858727.0000 - _runtime: 94.0000\n",
            "Epoch 15/50\n",
            "391/391 [==============================] - 6s 15ms/step - loss: 0.0027 - val_loss: 0.0032 - _timestamp: 1648858732.0000 - _runtime: 99.0000\n",
            "Epoch 16/50\n",
            "391/391 [==============================] - 6s 14ms/step - loss: 0.0027 - val_loss: 0.0026 - _timestamp: 1648858738.0000 - _runtime: 105.0000\n",
            "Epoch 17/50\n",
            "391/391 [==============================] - 6s 15ms/step - loss: 0.0026 - val_loss: 0.0026 - _timestamp: 1648858744.0000 - _runtime: 111.0000\n",
            "Epoch 18/50\n",
            "391/391 [==============================] - 6s 14ms/step - loss: 0.0026 - val_loss: 0.0027 - _timestamp: 1648858749.0000 - _runtime: 116.0000\n",
            "Epoch 19/50\n",
            "391/391 [==============================] - 6s 14ms/step - loss: 0.0026 - val_loss: 0.0031 - _timestamp: 1648858755.0000 - _runtime: 122.0000\n",
            "Epoch 20/50\n",
            "391/391 [==============================] - 6s 14ms/step - loss: 0.0026 - val_loss: 0.0032 - _timestamp: 1648858760.0000 - _runtime: 127.0000\n",
            "Epoch 21/50\n",
            "391/391 [==============================] - 6s 14ms/step - loss: 0.0026 - val_loss: 0.0024 - _timestamp: 1648858766.0000 - _runtime: 133.0000\n",
            "Epoch 22/50\n",
            "391/391 [==============================] - 6s 15ms/step - loss: 0.0026 - val_loss: 0.0024 - _timestamp: 1648858772.0000 - _runtime: 139.0000\n",
            "Epoch 23/50\n",
            "391/391 [==============================] - 6s 14ms/step - loss: 0.0026 - val_loss: 0.0028 - _timestamp: 1648858778.0000 - _runtime: 145.0000\n",
            "Epoch 24/50\n",
            "391/391 [==============================] - 6s 14ms/step - loss: 0.0026 - val_loss: 0.0024 - _timestamp: 1648858783.0000 - _runtime: 150.0000\n",
            "Epoch 25/50\n",
            "391/391 [==============================] - 6s 14ms/step - loss: 0.0026 - val_loss: 0.0030 - _timestamp: 1648858789.0000 - _runtime: 156.0000\n",
            "Epoch 26/50\n",
            "391/391 [==============================] - 6s 14ms/step - loss: 0.0026 - val_loss: 0.0032 - _timestamp: 1648858794.0000 - _runtime: 161.0000\n",
            "Epoch 27/50\n",
            "391/391 [==============================] - 6s 14ms/step - loss: 0.0025 - val_loss: 0.0023 - _timestamp: 1648858800.0000 - _runtime: 167.0000\n",
            "Epoch 28/50\n",
            "391/391 [==============================] - 5s 14ms/step - loss: 0.0025 - val_loss: 0.0024 - _timestamp: 1648858805.0000 - _runtime: 172.0000\n",
            "Epoch 29/50\n",
            "391/391 [==============================] - 5s 14ms/step - loss: 0.0025 - val_loss: 0.0024 - _timestamp: 1648858811.0000 - _runtime: 178.0000\n",
            "Epoch 30/50\n",
            "391/391 [==============================] - 5s 14ms/step - loss: 0.0025 - val_loss: 0.0024 - _timestamp: 1648858816.0000 - _runtime: 183.0000\n",
            "Epoch 31/50\n",
            "391/391 [==============================] - 6s 14ms/step - loss: 0.0025 - val_loss: 0.0030 - _timestamp: 1648858822.0000 - _runtime: 189.0000\n",
            "Epoch 32/50\n",
            "391/391 [==============================] - 5s 14ms/step - loss: 0.0025 - val_loss: 0.0028 - _timestamp: 1648858827.0000 - _runtime: 194.0000\n",
            "Epoch 33/50\n",
            "391/391 [==============================] - 5s 14ms/step - loss: 0.0024 - val_loss: 0.0024 - _timestamp: 1648858832.0000 - _runtime: 199.0000\n",
            "Epoch 34/50\n",
            "391/391 [==============================] - 5s 14ms/step - loss: 0.0024 - val_loss: 0.0026 - _timestamp: 1648858838.0000 - _runtime: 205.0000\n",
            "Epoch 35/50\n",
            "391/391 [==============================] - 5s 14ms/step - loss: 0.0025 - val_loss: 0.0023 - _timestamp: 1648858843.0000 - _runtime: 210.0000\n",
            "Epoch 36/50\n",
            "391/391 [==============================] - 5s 13ms/step - loss: 0.0025 - val_loss: 0.0025 - _timestamp: 1648858848.0000 - _runtime: 215.0000\n",
            "Epoch 37/50\n",
            "391/391 [==============================] - 5s 14ms/step - loss: 0.0024 - val_loss: 0.0024 - _timestamp: 1648858854.0000 - _runtime: 221.0000\n",
            "Epoch 38/50\n",
            "391/391 [==============================] - 5s 14ms/step - loss: 0.0024 - val_loss: 0.0024 - _timestamp: 1648858859.0000 - _runtime: 226.0000\n",
            "Epoch 39/50\n",
            "391/391 [==============================] - 5s 14ms/step - loss: 0.0024 - val_loss: 0.0023 - _timestamp: 1648858864.0000 - _runtime: 231.0000\n",
            "Epoch 40/50\n",
            "391/391 [==============================] - 5s 14ms/step - loss: 0.0024 - val_loss: 0.0023 - _timestamp: 1648858870.0000 - _runtime: 237.0000\n",
            "Epoch 41/50\n",
            "391/391 [==============================] - 6s 15ms/step - loss: 0.0024 - val_loss: 0.0022 - _timestamp: 1648858876.0000 - _runtime: 243.0000\n",
            "Epoch 42/50\n",
            "391/391 [==============================] - 6s 15ms/step - loss: 0.0024 - val_loss: 0.0022 - _timestamp: 1648858882.0000 - _runtime: 249.0000\n",
            "Epoch 43/50\n",
            "391/391 [==============================] - 6s 14ms/step - loss: 0.0024 - val_loss: 0.0022 - _timestamp: 1648858887.0000 - _runtime: 254.0000\n",
            "Epoch 44/50\n",
            "391/391 [==============================] - 6s 15ms/step - loss: 0.0024 - val_loss: 0.0023 - _timestamp: 1648858893.0000 - _runtime: 260.0000\n",
            "Epoch 45/50\n",
            "391/391 [==============================] - 6s 14ms/step - loss: 0.0024 - val_loss: 0.0024 - _timestamp: 1648858898.0000 - _runtime: 265.0000\n",
            "Epoch 46/50\n",
            "391/391 [==============================] - 6s 14ms/step - loss: 0.0024 - val_loss: 0.0022 - _timestamp: 1648858904.0000 - _runtime: 271.0000\n",
            "Epoch 47/50\n",
            "391/391 [==============================] - 6s 15ms/step - loss: 0.0024 - val_loss: 0.0022 - _timestamp: 1648858910.0000 - _runtime: 277.0000\n",
            "Epoch 48/50\n",
            "391/391 [==============================] - 6s 15ms/step - loss: 0.0024 - val_loss: 0.0025 - _timestamp: 1648858916.0000 - _runtime: 283.0000\n",
            "Epoch 49/50\n",
            "391/391 [==============================] - 6s 15ms/step - loss: 0.0024 - val_loss: 0.0023 - _timestamp: 1648858922.0000 - _runtime: 289.0000\n",
            "Epoch 50/50\n",
            "391/391 [==============================] - 6s 15ms/step - loss: 0.0023 - val_loss: 0.0022 - _timestamp: 1648858928.0000 - _runtime: 295.0000\n",
            "Avg SSIM over X_test: 0.9275399528014303\n",
            "\n"
          ]
        },
        {
          "output_type": "display_data",
          "data": {
            "text/plain": [
              "<IPython.core.display.HTML object>"
            ],
            "text/html": [
              "Waiting for W&B process to finish... <strong style=\"color:green\">(success).</strong>"
            ]
          },
          "metadata": {}
        },
        {
          "output_type": "display_data",
          "data": {
            "text/plain": [
              "VBox(children=(Label(value='7.257 MB of 7.257 MB uploaded (0.000 MB deduped)\\r'), FloatProgress(value=1.0, max…"
            ],
            "application/vnd.jupyter.widget-view+json": {
              "version_major": 2,
              "version_minor": 0,
              "model_id": "4f84e3097c8a44f99849d923bfdb6e77"
            }
          },
          "metadata": {}
        },
        {
          "output_type": "display_data",
          "data": {
            "text/plain": [
              "<IPython.core.display.HTML object>"
            ],
            "text/html": [
              "<style>\n",
              "    table.wandb td:nth-child(1) { padding: 0 10px; text-align: right }\n",
              "    .wandb-row { display: flex; flex-direction: row; flex-wrap: wrap; width: 100% }\n",
              "    .wandb-col { display: flex; flex-direction: column; flex-basis: 100%; flex: 1; padding: 10px; }\n",
              "    </style>\n",
              "<div class=\"wandb-row\"><div class=\"wandb-col\"><h3>Run history:</h3><br/><table class=\"wandb\"><tr><td>avg_ssim_score_x_test</td><td>▁</td></tr><tr><td>epoch</td><td>▁▁▁▁▂▂▂▂▂▃▃▃▃▃▃▄▄▄▄▄▅▅▅▅▅▅▆▆▆▆▆▆▇▇▇▇▇███</td></tr><tr><td>loss</td><td>█▂▂▁▁▁▁▁▁▁▁▁▁▁▁▁▁▁▁▁▁▁▁▁▁▁▁▁▁▁▁▁▁▁▁▁▁▁▁▁</td></tr><tr><td>val_loss</td><td>█▂▂▁▁▁▁▁▁▁▁▁▁▁▁▁▁▁▁▁▁▁▁▁▁▁▁▁▁▁▁▁▁▁▁▁▁▁▁▁</td></tr></table><br/></div><div class=\"wandb-col\"><h3>Run summary:</h3><br/><table class=\"wandb\"><tr><td>avg_ssim_score_x_test</td><td>0.92754</td></tr><tr><td>best_epoch</td><td>46</td></tr><tr><td>best_val_loss</td><td>0.00218</td></tr><tr><td>epoch</td><td>49</td></tr><tr><td>loss</td><td>0.00234</td></tr><tr><td>val_loss</td><td>0.00223</td></tr></table><br/></div></div>"
            ]
          },
          "metadata": {}
        },
        {
          "output_type": "display_data",
          "data": {
            "text/plain": [
              "<IPython.core.display.HTML object>"
            ],
            "text/html": [
              "Synced <strong style=\"color:#cdcd00\">Model recons_1.1</strong>: <a href=\"https://wandb.ai/csc2231-yash-siphelele/autoencoders_RQ_comparison/runs/3nohryr1\" target=\"_blank\">https://wandb.ai/csc2231-yash-siphelele/autoencoders_RQ_comparison/runs/3nohryr1</a><br/>Synced 5 W&B file(s), 0 media file(s), 0 artifact file(s) and 1 other file(s)"
            ]
          },
          "metadata": {}
        },
        {
          "output_type": "display_data",
          "data": {
            "text/plain": [
              "<IPython.core.display.HTML object>"
            ],
            "text/html": [
              "Find logs at: <code>./wandb/run-20220402_001713-3nohryr1/logs</code>"
            ]
          },
          "metadata": {}
        }
      ]
    },
    {
      "cell_type": "markdown",
      "source": [
        "## Exp 1.2"
      ],
      "metadata": {
        "id": "2L3Sv3xgqpc5"
      }
    },
    {
      "cell_type": "code",
      "source": [
        "'''\n",
        "Model recons_1.2\n",
        "'''\n",
        "\n",
        "latent_dim = Z_DIM[2]  # Number of latent dimension parameters\n",
        "\n",
        "input_img = Input(shape=(32, 32, 3))\n",
        "\n",
        "x = Conv2D(32, (3, 3), activation='leaky_relu', padding='same', strides=2)(input_img)\n",
        "x = BatchNormalization()(x)\n",
        "\n",
        "x = Conv2D(16, (3, 3), activation='leaky_relu', padding='same', strides=2)(x)\n",
        "x = BatchNormalization()(x)\n",
        "\n",
        "# x = Conv2D(16, (3, 3), activation='relu', padding='same', strides=2)(x)\n",
        "# x = BatchNormalization()(x)\n",
        "\n",
        "shape_before_flattening = K.int_shape(x)\n",
        "print(shape_before_flattening)\n",
        "x = Flatten()(x)\n",
        "\n",
        "z = Dense(latent_dim)(x)\n",
        "\n",
        "encoder = Model(input_img,z)\n",
        "\n",
        "# encoder.summary()\n",
        "\n",
        "# decoder takes the latent distribution sample as input\n",
        "# decoder_input = Input(K.int_shape(z)[1:])\n",
        "# x = Dense(4096, activation='leaky_relu', name=\"intermediate_decoder\", input_shape=(latent_dim,))(decoder_input)\n",
        "# x = Reshape((8,8,64))(x)\n",
        "\n",
        "decoder_input = Input(shape=(latent_dim,))\n",
        "x = Dense(np.prod(shape_before_flattening[1:])//2)(decoder_input)\n",
        "x = Reshape((shape_before_flattening[1], shape_before_flattening[2], shape_before_flattening[3]//2))(x)\n",
        "\n",
        "x = Conv2DTranspose(16, (3, 3), strides= 2, padding='same', activation='leaky_relu')(x)\n",
        "x = BatchNormalization()(x)\n",
        "\n",
        "x = Conv2DTranspose(32, (3, 3), strides= 2, padding='same')(x)\n",
        "x = BatchNormalization()(x)\n",
        "\n",
        "# x = Conv2DTranspose(8, (3, 3),strides= 2, padding='same')(x)\n",
        "# x = BatchNormalization()(x)\n",
        "\n",
        "x = Conv2D(3, (3, 3), padding='same')(x)\n",
        "\n",
        "\n",
        "# decoder model statement\n",
        "decoder = Model(decoder_input, x)\n",
        "# decoder.summary()\n",
        "# apply the decoder to the sample from the latent distribution\n",
        "pred = decoder(z)\n",
        "\n",
        "# VAE model statement\n",
        "recons_model = Model(input_img, pred)\n",
        "optimizer = Adam(learning_rate=LEARNING_RATES[1])\n",
        "recons_model.compile(optimizer=optimizer, loss='mse')\n",
        "\n",
        "recons_model.summary()\n",
        "\n",
        "\n",
        "# # fit and track the model \n",
        "fit_model_and_log_metrics(\"Model recons_1.2\", \"With maxpooling, convtranspose, dense, and flatten\", recons_model, 50, 128)"
      ],
      "metadata": {
        "colab": {
          "base_uri": "https://localhost:8080/",
          "height": 1000,
          "referenced_widgets": [
            "b6c0f89d257a4101938b543662345076",
            "b63c978d7ce64b4282724d4f2a1cc713",
            "ff8768a9a18d439e996e2bd288173509",
            "8323e29e3dea484282c77abafd454e96",
            "31a76511b0c740b1b527a31333dd8f06",
            "185a2806ea514db0a063e375746bda62",
            "3e460d060f764dc08ea970f2386d6aed",
            "8a6b64c221bf4cef97f307de54ae8169"
          ]
        },
        "id": "n9KKxrRxoTDh",
        "outputId": "59ee3225-12dc-408f-92bc-bb0697eb2fdd"
      },
      "execution_count": null,
      "outputs": [
        {
          "output_type": "stream",
          "name": "stdout",
          "text": [
            "(None, 8, 8, 16)\n",
            "Model: \"model_37\"\n",
            "_________________________________________________________________\n",
            " Layer (type)                Output Shape              Param #   \n",
            "=================================================================\n",
            " input_27 (InputLayer)       [(None, 32, 32, 3)]       0         \n",
            "                                                                 \n",
            " conv2d_30 (Conv2D)          (None, 16, 16, 32)        896       \n",
            "                                                                 \n",
            " batch_normalization_43 (Bat  (None, 16, 16, 32)       128       \n",
            " chNormalization)                                                \n",
            "                                                                 \n",
            " conv2d_31 (Conv2D)          (None, 8, 8, 16)          4624      \n",
            "                                                                 \n",
            " batch_normalization_44 (Bat  (None, 8, 8, 16)         64        \n",
            " chNormalization)                                                \n",
            "                                                                 \n",
            " flatten_13 (Flatten)        (None, 1024)              0         \n",
            "                                                                 \n",
            " dense_26 (Dense)            (None, 300)               307500    \n",
            "                                                                 \n",
            " model_36 (Functional)       (None, 32, 32, 3)         160979    \n",
            "                                                                 \n",
            "=================================================================\n",
            "Total params: 474,191\n",
            "Trainable params: 473,999\n",
            "Non-trainable params: 192\n",
            "_________________________________________________________________\n"
          ]
        },
        {
          "output_type": "display_data",
          "data": {
            "text/plain": [
              "<IPython.core.display.HTML object>"
            ],
            "text/html": [
              "Tracking run with wandb version 0.12.11"
            ]
          },
          "metadata": {}
        },
        {
          "output_type": "display_data",
          "data": {
            "text/plain": [
              "<IPython.core.display.HTML object>"
            ],
            "text/html": [
              "Run data is saved locally in <code>/content/wandb/run-20220402_003434-2zi0yury</code>"
            ]
          },
          "metadata": {}
        },
        {
          "output_type": "display_data",
          "data": {
            "text/plain": [
              "<IPython.core.display.HTML object>"
            ],
            "text/html": [
              "Syncing run <strong><a href=\"https://wandb.ai/csc2231-yash-siphelele/autoencoders_RQ_comparison/runs/2zi0yury\" target=\"_blank\">Model recons_1.2</a></strong> to <a href=\"https://wandb.ai/csc2231-yash-siphelele/autoencoders_RQ_comparison\" target=\"_blank\">Weights & Biases</a> (<a href=\"https://wandb.me/run\" target=\"_blank\">docs</a>)<br/>"
            ]
          },
          "metadata": {}
        },
        {
          "output_type": "stream",
          "name": "stdout",
          "text": [
            "Epoch 1/50\n",
            "391/391 [==============================] - 11s 26ms/step - loss: 0.0407 - val_loss: 0.0284 - _timestamp: 1648859692.0000 - _runtime: 18.0000\n",
            "Epoch 2/50\n",
            "391/391 [==============================] - 10s 25ms/step - loss: 0.0082 - val_loss: 0.0069 - _timestamp: 1648859701.0000 - _runtime: 27.0000\n",
            "Epoch 3/50\n",
            "391/391 [==============================] - 10s 25ms/step - loss: 0.0060 - val_loss: 0.0057 - _timestamp: 1648859711.0000 - _runtime: 37.0000\n",
            "Epoch 4/50\n",
            "391/391 [==============================] - 10s 25ms/step - loss: 0.0051 - val_loss: 0.0051 - _timestamp: 1648859720.0000 - _runtime: 46.0000\n",
            "Epoch 5/50\n",
            "391/391 [==============================] - 10s 25ms/step - loss: 0.0045 - val_loss: 0.0041 - _timestamp: 1648859730.0000 - _runtime: 56.0000\n",
            "Epoch 6/50\n",
            "391/391 [==============================] - 9s 24ms/step - loss: 0.0041 - val_loss: 0.0048 - _timestamp: 1648859739.0000 - _runtime: 65.0000\n",
            "Epoch 7/50\n",
            "391/391 [==============================] - 9s 24ms/step - loss: 0.0039 - val_loss: 0.0038 - _timestamp: 1648859749.0000 - _runtime: 75.0000\n",
            "Epoch 8/50\n",
            "391/391 [==============================] - 9s 24ms/step - loss: 0.0037 - val_loss: 0.0036 - _timestamp: 1648859758.0000 - _runtime: 84.0000\n",
            "Epoch 9/50\n",
            "391/391 [==============================] - 9s 24ms/step - loss: 0.0035 - val_loss: 0.0044 - _timestamp: 1648859768.0000 - _runtime: 94.0000\n",
            "Epoch 10/50\n",
            "391/391 [==============================] - 9s 24ms/step - loss: 0.0034 - val_loss: 0.0040 - _timestamp: 1648859777.0000 - _runtime: 103.0000\n",
            "Epoch 11/50\n",
            "391/391 [==============================] - 9s 23ms/step - loss: 0.0033 - val_loss: 0.0039 - _timestamp: 1648859786.0000 - _runtime: 112.0000\n",
            "Epoch 12/50\n",
            "391/391 [==============================] - 9s 23ms/step - loss: 0.0032 - val_loss: 0.0043 - _timestamp: 1648859795.0000 - _runtime: 121.0000\n",
            "Epoch 13/50\n",
            "391/391 [==============================] - 9s 24ms/step - loss: 0.0031 - val_loss: 0.0034 - _timestamp: 1648859804.0000 - _runtime: 130.0000\n",
            "Epoch 14/50\n",
            "391/391 [==============================] - 9s 23ms/step - loss: 0.0030 - val_loss: 0.0034 - _timestamp: 1648859814.0000 - _runtime: 140.0000\n",
            "Epoch 15/50\n",
            "391/391 [==============================] - 9s 24ms/step - loss: 0.0030 - val_loss: 0.0029 - _timestamp: 1648859823.0000 - _runtime: 149.0000\n",
            "Epoch 16/50\n",
            "391/391 [==============================] - 9s 23ms/step - loss: 0.0029 - val_loss: 0.0030 - _timestamp: 1648859832.0000 - _runtime: 158.0000\n",
            "Epoch 17/50\n",
            "391/391 [==============================] - 9s 23ms/step - loss: 0.0028 - val_loss: 0.0031 - _timestamp: 1648859841.0000 - _runtime: 167.0000\n",
            "Epoch 18/50\n",
            "391/391 [==============================] - 9s 24ms/step - loss: 0.0029 - val_loss: 0.0026 - _timestamp: 1648859850.0000 - _runtime: 176.0000\n",
            "Epoch 19/50\n",
            "391/391 [==============================] - 9s 24ms/step - loss: 0.0028 - val_loss: 0.0028 - _timestamp: 1648859860.0000 - _runtime: 186.0000\n",
            "Epoch 20/50\n",
            "391/391 [==============================] - 9s 23ms/step - loss: 0.0029 - val_loss: 0.0033 - _timestamp: 1648859869.0000 - _runtime: 195.0000\n",
            "Epoch 21/50\n",
            "391/391 [==============================] - 9s 23ms/step - loss: 0.0027 - val_loss: 0.0026 - _timestamp: 1648859878.0000 - _runtime: 204.0000\n",
            "Epoch 22/50\n",
            "391/391 [==============================] - 9s 23ms/step - loss: 0.0028 - val_loss: 0.0027 - _timestamp: 1648859887.0000 - _runtime: 213.0000\n",
            "Epoch 23/50\n",
            "391/391 [==============================] - 9s 23ms/step - loss: 0.0028 - val_loss: 0.0027 - _timestamp: 1648859896.0000 - _runtime: 222.0000\n",
            "Epoch 24/50\n",
            "391/391 [==============================] - 9s 23ms/step - loss: 0.0027 - val_loss: 0.0028 - _timestamp: 1648859905.0000 - _runtime: 231.0000\n",
            "Epoch 25/50\n",
            "391/391 [==============================] - 9s 24ms/step - loss: 0.0027 - val_loss: 0.0026 - _timestamp: 1648859914.0000 - _runtime: 240.0000\n",
            "Epoch 26/50\n",
            "391/391 [==============================] - 9s 23ms/step - loss: 0.0027 - val_loss: 0.0032 - _timestamp: 1648859924.0000 - _runtime: 250.0000\n",
            "Epoch 27/50\n",
            "391/391 [==============================] - 9s 23ms/step - loss: 0.0027 - val_loss: 0.0031 - _timestamp: 1648859933.0000 - _runtime: 259.0000\n",
            "Epoch 28/50\n",
            "391/391 [==============================] - 10s 24ms/step - loss: 0.0026 - val_loss: 0.0028 - _timestamp: 1648859942.0000 - _runtime: 268.0000\n",
            "Epoch 29/50\n",
            "391/391 [==============================] - 9s 24ms/step - loss: 0.0026 - val_loss: 0.0027 - _timestamp: 1648859952.0000 - _runtime: 278.0000\n",
            "Epoch 30/50\n",
            "391/391 [==============================] - 9s 24ms/step - loss: 0.0027 - val_loss: 0.0027 - _timestamp: 1648859961.0000 - _runtime: 287.0000\n",
            "Epoch 31/50\n",
            "391/391 [==============================] - 10s 25ms/step - loss: 0.0027 - val_loss: 0.0026 - _timestamp: 1648859971.0000 - _runtime: 297.0000\n",
            "Epoch 32/50\n",
            "391/391 [==============================] - 10s 25ms/step - loss: 0.0026 - val_loss: 0.0026 - _timestamp: 1648859980.0000 - _runtime: 306.0000\n",
            "Epoch 33/50\n",
            "391/391 [==============================] - 10s 24ms/step - loss: 0.0026 - val_loss: 0.0025 - _timestamp: 1648859990.0000 - _runtime: 316.0000\n",
            "Epoch 34/50\n",
            "391/391 [==============================] - 9s 24ms/step - loss: 0.0026 - val_loss: 0.0025 - _timestamp: 1648859999.0000 - _runtime: 325.0000\n",
            "Epoch 35/50\n",
            "391/391 [==============================] - 9s 24ms/step - loss: 0.0026 - val_loss: 0.0024 - _timestamp: 1648860009.0000 - _runtime: 335.0000\n",
            "Epoch 36/50\n",
            "391/391 [==============================] - 9s 24ms/step - loss: 0.0026 - val_loss: 0.0025 - _timestamp: 1648860018.0000 - _runtime: 344.0000\n",
            "Epoch 37/50\n",
            "391/391 [==============================] - 9s 23ms/step - loss: 0.0026 - val_loss: 0.0024 - _timestamp: 1648860027.0000 - _runtime: 353.0000\n",
            "Epoch 38/50\n",
            "391/391 [==============================] - 9s 24ms/step - loss: 0.0025 - val_loss: 0.0024 - _timestamp: 1648860036.0000 - _runtime: 362.0000\n",
            "Epoch 39/50\n",
            "391/391 [==============================] - 9s 24ms/step - loss: 0.0026 - val_loss: 0.0028 - _timestamp: 1648860046.0000 - _runtime: 372.0000\n",
            "Epoch 40/50\n",
            "391/391 [==============================] - 9s 23ms/step - loss: 0.0026 - val_loss: 0.0024 - _timestamp: 1648860055.0000 - _runtime: 381.0000\n",
            "Epoch 41/50\n",
            "391/391 [==============================] - 9s 23ms/step - loss: 0.0026 - val_loss: 0.0024 - _timestamp: 1648860064.0000 - _runtime: 390.0000\n",
            "Epoch 42/50\n",
            "391/391 [==============================] - 9s 23ms/step - loss: 0.0026 - val_loss: 0.0027 - _timestamp: 1648860073.0000 - _runtime: 399.0000\n",
            "Epoch 43/50\n",
            "391/391 [==============================] - 10s 25ms/step - loss: 0.0025 - val_loss: 0.0024 - _timestamp: 1648860083.0000 - _runtime: 409.0000\n",
            "Epoch 44/50\n",
            "391/391 [==============================] - 9s 23ms/step - loss: 0.0025 - val_loss: 0.0030 - _timestamp: 1648860092.0000 - _runtime: 418.0000\n",
            "Epoch 45/50\n",
            "391/391 [==============================] - 9s 24ms/step - loss: 0.0025 - val_loss: 0.0024 - _timestamp: 1648860101.0000 - _runtime: 427.0000\n",
            "Epoch 46/50\n",
            "391/391 [==============================] - 10s 25ms/step - loss: 0.0025 - val_loss: 0.0024 - _timestamp: 1648860111.0000 - _runtime: 437.0000\n",
            "Epoch 47/50\n",
            "391/391 [==============================] - 9s 24ms/step - loss: 0.0026 - val_loss: 0.0028 - _timestamp: 1648860120.0000 - _runtime: 446.0000\n",
            "Epoch 48/50\n",
            "391/391 [==============================] - 9s 24ms/step - loss: 0.0025 - val_loss: 0.0023 - _timestamp: 1648860129.0000 - _runtime: 455.0000\n",
            "Epoch 49/50\n",
            "391/391 [==============================] - 9s 23ms/step - loss: 0.0025 - val_loss: 0.0026 - _timestamp: 1648860138.0000 - _runtime: 464.0000\n",
            "Epoch 50/50\n",
            "391/391 [==============================] - 9s 24ms/step - loss: 0.0025 - val_loss: 0.0023 - _timestamp: 1648860148.0000 - _runtime: 474.0000\n",
            "Avg SSIM over X_test: 0.9234722775023371\n",
            "\n"
          ]
        },
        {
          "output_type": "display_data",
          "data": {
            "text/plain": [
              "<IPython.core.display.HTML object>"
            ],
            "text/html": [
              "Waiting for W&B process to finish... <strong style=\"color:green\">(success).</strong>"
            ]
          },
          "metadata": {}
        },
        {
          "output_type": "display_data",
          "data": {
            "text/plain": [
              "VBox(children=(Label(value='5.521 MB of 5.521 MB uploaded (0.000 MB deduped)\\r'), FloatProgress(value=1.0, max…"
            ],
            "application/vnd.jupyter.widget-view+json": {
              "version_major": 2,
              "version_minor": 0,
              "model_id": "b6c0f89d257a4101938b543662345076"
            }
          },
          "metadata": {}
        },
        {
          "output_type": "display_data",
          "data": {
            "text/plain": [
              "<IPython.core.display.HTML object>"
            ],
            "text/html": [
              "<style>\n",
              "    table.wandb td:nth-child(1) { padding: 0 10px; text-align: right }\n",
              "    .wandb-row { display: flex; flex-direction: row; flex-wrap: wrap; width: 100% }\n",
              "    .wandb-col { display: flex; flex-direction: column; flex-basis: 100%; flex: 1; padding: 10px; }\n",
              "    </style>\n",
              "<div class=\"wandb-row\"><div class=\"wandb-col\"><h3>Run history:</h3><br/><table class=\"wandb\"><tr><td>avg_ssim_score_x_test</td><td>▁</td></tr><tr><td>epoch</td><td>▁▁▁▁▂▂▂▂▂▃▃▃▃▃▃▄▄▄▄▄▅▅▅▅▅▅▆▆▆▆▆▆▇▇▇▇▇███</td></tr><tr><td>loss</td><td>█▂▂▁▁▁▁▁▁▁▁▁▁▁▁▁▁▁▁▁▁▁▁▁▁▁▁▁▁▁▁▁▁▁▁▁▁▁▁▁</td></tr><tr><td>val_loss</td><td>█▂▂▂▂▁▁▂▁▂▁▁▁▁▁▁▁▁▁▁▁▁▁▁▁▁▁▁▁▁▁▁▁▁▁▁▁▁▁▁</td></tr></table><br/></div><div class=\"wandb-col\"><h3>Run summary:</h3><br/><table class=\"wandb\"><tr><td>avg_ssim_score_x_test</td><td>0.92347</td></tr><tr><td>best_epoch</td><td>49</td></tr><tr><td>best_val_loss</td><td>0.00229</td></tr><tr><td>epoch</td><td>49</td></tr><tr><td>loss</td><td>0.00251</td></tr><tr><td>val_loss</td><td>0.00229</td></tr></table><br/></div></div>"
            ]
          },
          "metadata": {}
        },
        {
          "output_type": "display_data",
          "data": {
            "text/plain": [
              "<IPython.core.display.HTML object>"
            ],
            "text/html": [
              "Synced <strong style=\"color:#cdcd00\">Model recons_1.2</strong>: <a href=\"https://wandb.ai/csc2231-yash-siphelele/autoencoders_RQ_comparison/runs/2zi0yury\" target=\"_blank\">https://wandb.ai/csc2231-yash-siphelele/autoencoders_RQ_comparison/runs/2zi0yury</a><br/>Synced 5 W&B file(s), 0 media file(s), 0 artifact file(s) and 1 other file(s)"
            ]
          },
          "metadata": {}
        },
        {
          "output_type": "display_data",
          "data": {
            "text/plain": [
              "<IPython.core.display.HTML object>"
            ],
            "text/html": [
              "Find logs at: <code>./wandb/run-20220402_003434-2zi0yury/logs</code>"
            ]
          },
          "metadata": {}
        }
      ]
    },
    {
      "cell_type": "markdown",
      "source": [
        "## Exp 1.3"
      ],
      "metadata": {
        "id": "2YOUlEyFvUwn"
      }
    },
    {
      "cell_type": "code",
      "source": [
        "'''\n",
        "Model recons_1.3\n",
        "'''\n",
        "\n",
        "latent_dim = Z_DIM[2]  # Number of latent dimension parameters\n",
        "\n",
        "input_img = Input(shape=(32, 32, 3))\n",
        "\n",
        "x = Conv2D(32, (3, 3), activation='leaky_relu', padding='same', strides=2)(input_img)\n",
        "x = BatchNormalization()(x)\n",
        "\n",
        "x = Conv2D(16, (3, 3), activation='leaky_relu', padding='same', strides=2)(x)\n",
        "x = BatchNormalization()(x)\n",
        "\n",
        "# x = Conv2D(16, (3, 3), activation='relu', padding='same', strides=2)(x)\n",
        "# x = BatchNormalization()(x)\n",
        "\n",
        "shape_before_flattening = K.int_shape(x)\n",
        "print(shape_before_flattening)\n",
        "x = Flatten()(x)\n",
        "\n",
        "z = Dense(512)(x)\n",
        "\n",
        "encoder = Model(input_img,z)\n",
        "\n",
        "# encoder.summary()\n",
        "\n",
        "# decoder takes the latent distribution sample as input\n",
        "# decoder_input = Input(K.int_shape(z)[1:])\n",
        "# x = Dense(4096, activation='leaky_relu', name=\"intermediate_decoder\", input_shape=(latent_dim,))(decoder_input)\n",
        "# x = Reshape((8,8,64))(x)\n",
        "\n",
        "decoder_input = Input(shape=(512,))\n",
        "# x = Dense(np.prod(shape_before_flattening[1:])//2)(decoder_input)\n",
        "x = Reshape((shape_before_flattening[1], shape_before_flattening[2], shape_before_flattening[3]//2))(decoder_input)\n",
        "\n",
        "x = Conv2DTranspose(16, (3, 3), strides= 2, padding='same', activation='leaky_relu')(x)\n",
        "x = BatchNormalization()(x)\n",
        "\n",
        "x = Conv2DTranspose(32, (3, 3), strides= 2, padding='same')(x)\n",
        "x = BatchNormalization()(x)\n",
        "\n",
        "# x = Conv2DTranspose(8, (3, 3),strides= 2, padding='same')(x)\n",
        "# x = BatchNormalization()(x)\n",
        "\n",
        "x = Conv2D(3, (3, 3), padding='same')(x)\n",
        "\n",
        "\n",
        "# decoder model statement\n",
        "decoder = Model(decoder_input, x)\n",
        "# decoder.summary()\n",
        "# apply the decoder to the sample from the latent distribution\n",
        "pred = decoder(z)\n",
        "\n",
        "# VAE model statement\n",
        "recons_model = Model(input_img, pred)\n",
        "optimizer = Adam(learning_rate=LEARNING_RATES[1])\n",
        "recons_model.compile(optimizer=optimizer, loss='mse')\n",
        "\n",
        "recons_model.summary()\n",
        "\n",
        "\n",
        "# # fit and track the model \n",
        "fit_model_and_log_metrics(\"Model recons_1.3\", \"With maxpooling, convtranspose, dense, and flatten\", recons_model, 50, 128)"
      ],
      "metadata": {
        "colab": {
          "base_uri": "https://localhost:8080/",
          "height": 1000,
          "referenced_widgets": [
            "cf89877b6b21480e85d55592d1992e33",
            "3b8be6890e084196834dae2b0e852b25",
            "37dd99ace4e040d8982334ac70b8a58a",
            "fc5c91edf2ee4730abecf5f6517aba0d",
            "2de63255136a4b6a97aa421082a8c221",
            "0bad22fcb0c84a4eb75bf26978c9d6ed",
            "fef0e4d1c0ec409287486ee03683043e",
            "08021557e8934c569cfb28c6445c8478"
          ]
        },
        "id": "klXmWgk7q2BV",
        "outputId": "0075eddb-31e2-4b06-c7f9-025f66b0ba83"
      },
      "execution_count": null,
      "outputs": [
        {
          "output_type": "stream",
          "name": "stdout",
          "text": [
            "(None, 8, 8, 16)\n",
            "Model: \"model_48\"\n",
            "_________________________________________________________________\n",
            " Layer (type)                Output Shape              Param #   \n",
            "=================================================================\n",
            " input_39 (InputLayer)       [(None, 32, 32, 3)]       0         \n",
            "                                                                 \n",
            " conv2d_45 (Conv2D)          (None, 16, 16, 32)        896       \n",
            "                                                                 \n",
            " batch_normalization_61 (Bat  (None, 16, 16, 32)       128       \n",
            " chNormalization)                                                \n",
            "                                                                 \n",
            " conv2d_46 (Conv2D)          (None, 8, 8, 16)          4624      \n",
            "                                                                 \n",
            " batch_normalization_62 (Bat  (None, 8, 8, 16)         64        \n",
            " chNormalization)                                                \n",
            "                                                                 \n",
            " flatten_19 (Flatten)        (None, 1024)              0         \n",
            "                                                                 \n",
            " dense_33 (Dense)            (None, 512)               524800    \n",
            "                                                                 \n",
            " model_47 (Functional)       (None, 32, 32, 3)         6867      \n",
            "                                                                 \n",
            "=================================================================\n",
            "Total params: 537,379\n",
            "Trainable params: 537,187\n",
            "Non-trainable params: 192\n",
            "_________________________________________________________________\n"
          ]
        },
        {
          "output_type": "display_data",
          "data": {
            "text/plain": [
              "<IPython.core.display.HTML object>"
            ],
            "text/html": [
              "Tracking run with wandb version 0.12.11"
            ]
          },
          "metadata": {}
        },
        {
          "output_type": "display_data",
          "data": {
            "text/plain": [
              "<IPython.core.display.HTML object>"
            ],
            "text/html": [
              "Run data is saved locally in <code>/content/wandb/run-20220402_005203-35uvk3r2</code>"
            ]
          },
          "metadata": {}
        },
        {
          "output_type": "display_data",
          "data": {
            "text/plain": [
              "<IPython.core.display.HTML object>"
            ],
            "text/html": [
              "Syncing run <strong><a href=\"https://wandb.ai/csc2231-yash-siphelele/autoencoders_RQ_comparison/runs/35uvk3r2\" target=\"_blank\">Model recons_1.3</a></strong> to <a href=\"https://wandb.ai/csc2231-yash-siphelele/autoencoders_RQ_comparison\" target=\"_blank\">Weights & Biases</a> (<a href=\"https://wandb.me/run\" target=\"_blank\">docs</a>)<br/>"
            ]
          },
          "metadata": {}
        },
        {
          "output_type": "stream",
          "name": "stdout",
          "text": [
            "Epoch 1/50\n",
            "391/391 [==============================] - 11s 25ms/step - loss: 0.0377 - val_loss: 0.0255 - _timestamp: 1648860739.0000 - _runtime: 16.0000\n",
            "Epoch 2/50\n",
            "391/391 [==============================] - 9s 23ms/step - loss: 0.0075 - val_loss: 0.0085 - _timestamp: 1648860748.0000 - _runtime: 25.0000\n",
            "Epoch 3/50\n",
            "391/391 [==============================] - 9s 23ms/step - loss: 0.0057 - val_loss: 0.0053 - _timestamp: 1648860757.0000 - _runtime: 34.0000\n",
            "Epoch 4/50\n",
            "391/391 [==============================] - 9s 23ms/step - loss: 0.0046 - val_loss: 0.0089 - _timestamp: 1648860767.0000 - _runtime: 44.0000\n",
            "Epoch 5/50\n",
            "391/391 [==============================] - 9s 23ms/step - loss: 0.0040 - val_loss: 0.0072 - _timestamp: 1648860776.0000 - _runtime: 53.0000\n",
            "Epoch 6/50\n",
            "391/391 [==============================] - 9s 24ms/step - loss: 0.0037 - val_loss: 0.0046 - _timestamp: 1648860785.0000 - _runtime: 62.0000\n",
            "Epoch 7/50\n",
            "391/391 [==============================] - 9s 24ms/step - loss: 0.0034 - val_loss: 0.0043 - _timestamp: 1648860794.0000 - _runtime: 71.0000\n",
            "Epoch 8/50\n",
            "391/391 [==============================] - 9s 24ms/step - loss: 0.0031 - val_loss: 0.0041 - _timestamp: 1648860803.0000 - _runtime: 80.0000\n",
            "Epoch 9/50\n",
            "391/391 [==============================] - 9s 24ms/step - loss: 0.0029 - val_loss: 0.0033 - _timestamp: 1648860813.0000 - _runtime: 90.0000\n",
            "Epoch 10/50\n",
            "391/391 [==============================] - 9s 24ms/step - loss: 0.0027 - val_loss: 0.0028 - _timestamp: 1648860822.0000 - _runtime: 99.0000\n",
            "Epoch 11/50\n",
            "391/391 [==============================] - 9s 24ms/step - loss: 0.0027 - val_loss: 0.0026 - _timestamp: 1648860831.0000 - _runtime: 108.0000\n",
            "Epoch 12/50\n",
            "391/391 [==============================] - 9s 24ms/step - loss: 0.0025 - val_loss: 0.0023 - _timestamp: 1648860841.0000 - _runtime: 118.0000\n",
            "Epoch 13/50\n",
            "391/391 [==============================] - 9s 24ms/step - loss: 0.0024 - val_loss: 0.0040 - _timestamp: 1648860850.0000 - _runtime: 127.0000\n",
            "Epoch 14/50\n",
            "391/391 [==============================] - 9s 24ms/step - loss: 0.0023 - val_loss: 0.0021 - _timestamp: 1648860859.0000 - _runtime: 136.0000\n",
            "Epoch 15/50\n",
            "391/391 [==============================] - 9s 24ms/step - loss: 0.0023 - val_loss: 0.0020 - _timestamp: 1648860868.0000 - _runtime: 145.0000\n",
            "Epoch 16/50\n",
            "391/391 [==============================] - 9s 24ms/step - loss: 0.0023 - val_loss: 0.0025 - _timestamp: 1648860878.0000 - _runtime: 155.0000\n",
            "Epoch 17/50\n",
            "391/391 [==============================] - 9s 24ms/step - loss: 0.0021 - val_loss: 0.0021 - _timestamp: 1648860887.0000 - _runtime: 164.0000\n",
            "Epoch 18/50\n",
            "391/391 [==============================] - 9s 24ms/step - loss: 0.0021 - val_loss: 0.0019 - _timestamp: 1648860896.0000 - _runtime: 173.0000\n",
            "Epoch 19/50\n",
            "391/391 [==============================] - 9s 23ms/step - loss: 0.0021 - val_loss: 0.0029 - _timestamp: 1648860906.0000 - _runtime: 183.0000\n",
            "Epoch 20/50\n",
            "391/391 [==============================] - 9s 23ms/step - loss: 0.0020 - val_loss: 0.0016 - _timestamp: 1648860915.0000 - _runtime: 192.0000\n",
            "Epoch 21/50\n",
            "391/391 [==============================] - 9s 24ms/step - loss: 0.0019 - val_loss: 0.0023 - _timestamp: 1648860924.0000 - _runtime: 201.0000\n",
            "Epoch 22/50\n",
            "391/391 [==============================] - 9s 23ms/step - loss: 0.0019 - val_loss: 0.0028 - _timestamp: 1648860933.0000 - _runtime: 210.0000\n",
            "Epoch 23/50\n",
            "391/391 [==============================] - 9s 23ms/step - loss: 0.0019 - val_loss: 0.0020 - _timestamp: 1648860942.0000 - _runtime: 219.0000\n",
            "Epoch 24/50\n",
            "391/391 [==============================] - 9s 23ms/step - loss: 0.0018 - val_loss: 0.0017 - _timestamp: 1648860951.0000 - _runtime: 228.0000\n",
            "Epoch 25/50\n",
            "391/391 [==============================] - 9s 24ms/step - loss: 0.0019 - val_loss: 0.0019 - _timestamp: 1648860961.0000 - _runtime: 238.0000\n",
            "Epoch 26/50\n",
            "391/391 [==============================] - 9s 24ms/step - loss: 0.0018 - val_loss: 0.0016 - _timestamp: 1648860970.0000 - _runtime: 247.0000\n",
            "Epoch 27/50\n",
            "391/391 [==============================] - 9s 23ms/step - loss: 0.0018 - val_loss: 0.0016 - _timestamp: 1648860979.0000 - _runtime: 256.0000\n",
            "Epoch 28/50\n",
            "391/391 [==============================] - 9s 23ms/step - loss: 0.0018 - val_loss: 0.0020 - _timestamp: 1648860988.0000 - _runtime: 265.0000\n",
            "Epoch 29/50\n",
            "391/391 [==============================] - 9s 23ms/step - loss: 0.0017 - val_loss: 0.0019 - _timestamp: 1648860997.0000 - _runtime: 274.0000\n",
            "Epoch 30/50\n",
            "391/391 [==============================] - 9s 23ms/step - loss: 0.0018 - val_loss: 0.0017 - _timestamp: 1648861006.0000 - _runtime: 283.0000\n",
            "Epoch 31/50\n",
            "391/391 [==============================] - 9s 23ms/step - loss: 0.0017 - val_loss: 0.0018 - _timestamp: 1648861015.0000 - _runtime: 292.0000\n",
            "Epoch 32/50\n",
            "391/391 [==============================] - 9s 24ms/step - loss: 0.0017 - val_loss: 0.0015 - _timestamp: 1648861024.0000 - _runtime: 301.0000\n",
            "Epoch 33/50\n",
            "391/391 [==============================] - 9s 24ms/step - loss: 0.0017 - val_loss: 0.0015 - _timestamp: 1648861033.0000 - _runtime: 310.0000\n",
            "Epoch 34/50\n",
            "391/391 [==============================] - 10s 24ms/step - loss: 0.0017 - val_loss: 0.0016 - _timestamp: 1648861043.0000 - _runtime: 320.0000\n",
            "Epoch 35/50\n",
            "391/391 [==============================] - 10s 26ms/step - loss: 0.0017 - val_loss: 0.0015 - _timestamp: 1648861053.0000 - _runtime: 330.0000\n",
            "Epoch 36/50\n",
            "391/391 [==============================] - 9s 24ms/step - loss: 0.0017 - val_loss: 0.0017 - _timestamp: 1648861062.0000 - _runtime: 339.0000\n",
            "Epoch 37/50\n",
            "391/391 [==============================] - 9s 24ms/step - loss: 0.0017 - val_loss: 0.0015 - _timestamp: 1648861072.0000 - _runtime: 349.0000\n",
            "Epoch 38/50\n",
            "391/391 [==============================] - 10s 25ms/step - loss: 0.0017 - val_loss: 0.0022 - _timestamp: 1648861082.0000 - _runtime: 359.0000\n",
            "Epoch 39/50\n",
            "391/391 [==============================] - 10s 24ms/step - loss: 0.0017 - val_loss: 0.0014 - _timestamp: 1648861091.0000 - _runtime: 368.0000\n",
            "Epoch 40/50\n",
            "391/391 [==============================] - 10s 25ms/step - loss: 0.0016 - val_loss: 0.0015 - _timestamp: 1648861101.0000 - _runtime: 378.0000\n",
            "Epoch 41/50\n",
            "391/391 [==============================] - 10s 25ms/step - loss: 0.0016 - val_loss: 0.0014 - _timestamp: 1648861110.0000 - _runtime: 387.0000\n",
            "Epoch 42/50\n",
            "391/391 [==============================] - 9s 24ms/step - loss: 0.0016 - val_loss: 0.0017 - _timestamp: 1648861120.0000 - _runtime: 397.0000\n",
            "Epoch 43/50\n",
            "391/391 [==============================] - 9s 24ms/step - loss: 0.0016 - val_loss: 0.0015 - _timestamp: 1648861129.0000 - _runtime: 406.0000\n",
            "Epoch 44/50\n",
            "391/391 [==============================] - 9s 24ms/step - loss: 0.0016 - val_loss: 0.0015 - _timestamp: 1648861138.0000 - _runtime: 415.0000\n",
            "Epoch 45/50\n",
            "391/391 [==============================] - 9s 24ms/step - loss: 0.0016 - val_loss: 0.0017 - _timestamp: 1648861148.0000 - _runtime: 425.0000\n",
            "Epoch 46/50\n",
            "391/391 [==============================] - 9s 23ms/step - loss: 0.0016 - val_loss: 0.0015 - _timestamp: 1648861157.0000 - _runtime: 434.0000\n",
            "Epoch 47/50\n",
            "391/391 [==============================] - 9s 23ms/step - loss: 0.0016 - val_loss: 0.0016 - _timestamp: 1648861166.0000 - _runtime: 443.0000\n",
            "Epoch 48/50\n",
            "391/391 [==============================] - 10s 25ms/step - loss: 0.0016 - val_loss: 0.0015 - _timestamp: 1648861175.0000 - _runtime: 452.0000\n",
            "Epoch 49/50\n",
            "391/391 [==============================] - 9s 23ms/step - loss: 0.0016 - val_loss: 0.0014 - _timestamp: 1648861185.0000 - _runtime: 462.0000\n",
            "Epoch 50/50\n",
            "391/391 [==============================] - 9s 23ms/step - loss: 0.0016 - val_loss: 0.0015 - _timestamp: 1648861194.0000 - _runtime: 471.0000\n",
            "Avg SSIM over X_test: 0.951653295854355\n",
            "\n"
          ]
        },
        {
          "output_type": "display_data",
          "data": {
            "text/plain": [
              "<IPython.core.display.HTML object>"
            ],
            "text/html": [
              "Waiting for W&B process to finish... <strong style=\"color:green\">(success).</strong>"
            ]
          },
          "metadata": {}
        },
        {
          "output_type": "display_data",
          "data": {
            "text/plain": [
              "VBox(children=(Label(value='6.236 MB of 6.236 MB uploaded (0.000 MB deduped)\\r'), FloatProgress(value=1.0, max…"
            ],
            "application/vnd.jupyter.widget-view+json": {
              "version_major": 2,
              "version_minor": 0,
              "model_id": "cf89877b6b21480e85d55592d1992e33"
            }
          },
          "metadata": {}
        },
        {
          "output_type": "display_data",
          "data": {
            "text/plain": [
              "<IPython.core.display.HTML object>"
            ],
            "text/html": [
              "<style>\n",
              "    table.wandb td:nth-child(1) { padding: 0 10px; text-align: right }\n",
              "    .wandb-row { display: flex; flex-direction: row; flex-wrap: wrap; width: 100% }\n",
              "    .wandb-col { display: flex; flex-direction: column; flex-basis: 100%; flex: 1; padding: 10px; }\n",
              "    </style>\n",
              "<div class=\"wandb-row\"><div class=\"wandb-col\"><h3>Run history:</h3><br/><table class=\"wandb\"><tr><td>avg_ssim_score_x_test</td><td>▁</td></tr><tr><td>epoch</td><td>▁▁▁▁▂▂▂▂▂▃▃▃▃▃▃▄▄▄▄▄▅▅▅▅▅▅▆▆▆▆▆▆▇▇▇▇▇███</td></tr><tr><td>loss</td><td>█▂▂▂▁▁▁▁▁▁▁▁▁▁▁▁▁▁▁▁▁▁▁▁▁▁▁▁▁▁▁▁▁▁▁▁▁▁▁▁</td></tr><tr><td>val_loss</td><td>█▃▂▃▂▂▂▂▁▁▂▁▁▁▁▁▁▁▁▁▁▁▁▁▁▁▁▁▁▁▁▁▁▁▁▁▁▁▁▁</td></tr></table><br/></div><div class=\"wandb-col\"><h3>Run summary:</h3><br/><table class=\"wandb\"><tr><td>avg_ssim_score_x_test</td><td>0.95165</td></tr><tr><td>best_epoch</td><td>40</td></tr><tr><td>best_val_loss</td><td>0.00141</td></tr><tr><td>epoch</td><td>49</td></tr><tr><td>loss</td><td>0.00162</td></tr><tr><td>val_loss</td><td>0.00146</td></tr></table><br/></div></div>"
            ]
          },
          "metadata": {}
        },
        {
          "output_type": "display_data",
          "data": {
            "text/plain": [
              "<IPython.core.display.HTML object>"
            ],
            "text/html": [
              "Synced <strong style=\"color:#cdcd00\">Model recons_1.3</strong>: <a href=\"https://wandb.ai/csc2231-yash-siphelele/autoencoders_RQ_comparison/runs/35uvk3r2\" target=\"_blank\">https://wandb.ai/csc2231-yash-siphelele/autoencoders_RQ_comparison/runs/35uvk3r2</a><br/>Synced 5 W&B file(s), 0 media file(s), 0 artifact file(s) and 1 other file(s)"
            ]
          },
          "metadata": {}
        },
        {
          "output_type": "display_data",
          "data": {
            "text/plain": [
              "<IPython.core.display.HTML object>"
            ],
            "text/html": [
              "Find logs at: <code>./wandb/run-20220402_005203-35uvk3r2/logs</code>"
            ]
          },
          "metadata": {}
        }
      ]
    },
    {
      "cell_type": "markdown",
      "source": [
        "## Exp 1.4"
      ],
      "metadata": {
        "id": "2Wy0QjKzEUTF"
      }
    },
    {
      "cell_type": "code",
      "source": [
        "'''\n",
        "Model recons_1.4\n",
        "'''\n",
        "\n",
        "latent_dim = Z_DIM[2]  # Number of latent dimension parameters\n",
        "\n",
        "input_img = Input(shape=(32, 32, 3))\n",
        "\n",
        "x = Conv2D(32, (3, 3), activation='leaky_relu', padding='same', strides=2)(input_img)\n",
        "x = BatchNormalization()(x)\n",
        "\n",
        "x = Conv2D(16, (3, 3), activation='leaky_relu', padding='same', strides=2)(x)\n",
        "x = BatchNormalization()(x)\n",
        "\n",
        "# x = Conv2D(16, (3, 3), activation='relu', padding='same', strides=2)(x)\n",
        "# x = BatchNormalization()(x)\n",
        "\n",
        "shape_before_flattening = K.int_shape(x)\n",
        "print(shape_before_flattening)\n",
        "x = Flatten()(x)\n",
        "\n",
        "z = Dense(512)(x)\n",
        "\n",
        "encoder = Model(input_img,z)\n",
        "\n",
        "# encoder.summary()\n",
        "\n",
        "# decoder takes the latent distribution sample as input\n",
        "# decoder_input = Input(K.int_shape(z)[1:])\n",
        "# x = Dense(4096, activation='leaky_relu', name=\"intermediate_decoder\", input_shape=(latent_dim,))(decoder_input)\n",
        "# x = Reshape((8,8,64))(x)\n",
        "\n",
        "decoder_input = Input(shape=(512,))\n",
        "# x = Dense(np.prod(shape_before_flattening[1:])//2)(decoder_input)\n",
        "x = Reshape((shape_before_flattening[1], shape_before_flattening[2], shape_before_flattening[3]//2))(decoder_input)\n",
        "\n",
        "x = Conv2DTranspose(32, (3, 3), strides= 2, padding='same', activation='leaky_relu')(x)\n",
        "x = BatchNormalization()(x)\n",
        "\n",
        "x = Conv2DTranspose(32, (3, 3), strides= 2, padding='same')(x)\n",
        "x = BatchNormalization()(x)\n",
        "\n",
        "# x = Conv2DTranspose(8, (3, 3),strides= 2, padding='same')(x)\n",
        "# x = BatchNormalization()(x)\n",
        "\n",
        "x = Conv2D(3, (3, 3), padding='same')(x)\n",
        "\n",
        "\n",
        "# decoder model statement\n",
        "decoder = Model(decoder_input, x)\n",
        "# decoder.summary()\n",
        "# apply the decoder to the sample from the latent distribution\n",
        "pred = decoder(z)\n",
        "\n",
        "# VAE model statement\n",
        "recons_model = Model(input_img, pred)\n",
        "optimizer = Adam(learning_rate=LEARNING_RATES[1])\n",
        "recons_model.compile(optimizer=optimizer, loss='mse')\n",
        "\n",
        "recons_model.summary()\n",
        "\n",
        "\n",
        "# # fit and track the model \n",
        "fit_model_and_log_metrics(\"Model recons_1.4\", \"With maxpooling, convtranspose, dense, and flatten\", recons_model, 50, 128)"
      ],
      "metadata": {
        "colab": {
          "base_uri": "https://localhost:8080/",
          "height": 1000,
          "referenced_widgets": [
            "411c81d6925b4a78941ced5c9e9f9cb3",
            "8841628c498f49e4b83bd811219c55ed",
            "558cfda4f52b419fb633edf3c089cb85",
            "a61c65231d714aef982cb73234d0f2df",
            "8e8b93f5900a409ea2145820f57cd07c",
            "d5d373c383f74f6db179fc36f2e3a4a3",
            "a9a5fcc349dc4a8195b77d2fc28cee65",
            "60a857aef87d4980a181415e6799c605"
          ]
        },
        "id": "DmGYO44GEViO",
        "outputId": "815c7fab-38ed-452f-d96a-ba67268605a8"
      },
      "execution_count": null,
      "outputs": [
        {
          "output_type": "stream",
          "name": "stdout",
          "text": [
            "(None, 8, 8, 16)\n",
            "Model: \"model_2\"\n",
            "_________________________________________________________________\n",
            " Layer (type)                Output Shape              Param #   \n",
            "=================================================================\n",
            " input_1 (InputLayer)        [(None, 32, 32, 3)]       0         \n",
            "                                                                 \n",
            " conv2d (Conv2D)             (None, 16, 16, 32)        896       \n",
            "                                                                 \n",
            " batch_normalization (BatchN  (None, 16, 16, 32)       128       \n",
            " ormalization)                                                   \n",
            "                                                                 \n",
            " conv2d_1 (Conv2D)           (None, 8, 8, 16)          4624      \n",
            "                                                                 \n",
            " batch_normalization_1 (Batc  (None, 8, 8, 16)         64        \n",
            " hNormalization)                                                 \n",
            "                                                                 \n",
            " flatten (Flatten)           (None, 1024)              0         \n",
            "                                                                 \n",
            " dense (Dense)               (None, 512)               524800    \n",
            "                                                                 \n",
            " model_1 (Functional)        (None, 32, 32, 3)         12707     \n",
            "                                                                 \n",
            "=================================================================\n",
            "Total params: 543,219\n",
            "Trainable params: 542,995\n",
            "Non-trainable params: 224\n",
            "_________________________________________________________________\n"
          ]
        },
        {
          "output_type": "stream",
          "name": "stderr",
          "text": [
            "\u001b[34m\u001b[1mwandb\u001b[0m: Currently logged in as: \u001b[33mcsc2231-yash-siphelele\u001b[0m (use `wandb login --relogin` to force relogin)\n"
          ]
        },
        {
          "output_type": "display_data",
          "data": {
            "text/plain": [
              "<IPython.core.display.HTML object>"
            ],
            "text/html": [
              "Tracking run with wandb version 0.12.11"
            ]
          },
          "metadata": {}
        },
        {
          "output_type": "display_data",
          "data": {
            "text/plain": [
              "<IPython.core.display.HTML object>"
            ],
            "text/html": [
              "Run data is saved locally in <code>/content/wandb/run-20220404_145559-ua760g0j</code>"
            ]
          },
          "metadata": {}
        },
        {
          "output_type": "display_data",
          "data": {
            "text/plain": [
              "<IPython.core.display.HTML object>"
            ],
            "text/html": [
              "Syncing run <strong><a href=\"https://wandb.ai/csc2231-yash-siphelele/autoencoders_RQ_comparison/runs/ua760g0j\" target=\"_blank\">Model recons_1.4</a></strong> to <a href=\"https://wandb.ai/csc2231-yash-siphelele/autoencoders_RQ_comparison\" target=\"_blank\">Weights & Biases</a> (<a href=\"https://wandb.me/run\" target=\"_blank\">docs</a>)<br/>"
            ]
          },
          "metadata": {}
        },
        {
          "output_type": "stream",
          "name": "stdout",
          "text": [
            "Epoch 1/50\n",
            "391/391 [==============================] - 20s 27ms/step - loss: 0.0362 - val_loss: 0.0311 - _timestamp: 1649084185.0000 - _runtime: 26.0000\n",
            "Epoch 2/50\n",
            "391/391 [==============================] - 9s 24ms/step - loss: 0.0076 - val_loss: 0.0074 - _timestamp: 1649084195.0000 - _runtime: 36.0000\n",
            "Epoch 3/50\n",
            "391/391 [==============================] - 10s 24ms/step - loss: 0.0058 - val_loss: 0.0064 - _timestamp: 1649084204.0000 - _runtime: 45.0000\n",
            "Epoch 4/50\n",
            "391/391 [==============================] - 11s 29ms/step - loss: 0.0046 - val_loss: 0.0048 - _timestamp: 1649084215.0000 - _runtime: 56.0000\n",
            "Epoch 5/50\n",
            "391/391 [==============================] - 12s 30ms/step - loss: 0.0040 - val_loss: 0.0043 - _timestamp: 1649084227.0000 - _runtime: 68.0000\n",
            "Epoch 6/50\n",
            "391/391 [==============================] - 10s 24ms/step - loss: 0.0038 - val_loss: 0.0035 - _timestamp: 1649084237.0000 - _runtime: 78.0000\n",
            "Epoch 7/50\n",
            "391/391 [==============================] - 10s 24ms/step - loss: 0.0035 - val_loss: 0.0031 - _timestamp: 1649084246.0000 - _runtime: 87.0000\n",
            "Epoch 8/50\n",
            "391/391 [==============================] - 10s 25ms/step - loss: 0.0032 - val_loss: 0.0030 - _timestamp: 1649084256.0000 - _runtime: 97.0000\n",
            "Epoch 9/50\n",
            "391/391 [==============================] - 9s 24ms/step - loss: 0.0031 - val_loss: 0.0035 - _timestamp: 1649084265.0000 - _runtime: 106.0000\n",
            "Epoch 10/50\n",
            "391/391 [==============================] - 10s 25ms/step - loss: 0.0028 - val_loss: 0.0033 - _timestamp: 1649084275.0000 - _runtime: 116.0000\n",
            "Epoch 11/50\n",
            "391/391 [==============================] - 9s 24ms/step - loss: 0.0027 - val_loss: 0.0027 - _timestamp: 1649084284.0000 - _runtime: 125.0000\n",
            "Epoch 12/50\n",
            "391/391 [==============================] - 9s 24ms/step - loss: 0.0026 - val_loss: 0.0036 - _timestamp: 1649084294.0000 - _runtime: 135.0000\n",
            "Epoch 13/50\n",
            "391/391 [==============================] - 10s 24ms/step - loss: 0.0025 - val_loss: 0.0023 - _timestamp: 1649084303.0000 - _runtime: 144.0000\n",
            "Epoch 14/50\n",
            "391/391 [==============================] - 10s 25ms/step - loss: 0.0022 - val_loss: 0.0021 - _timestamp: 1649084313.0000 - _runtime: 154.0000\n",
            "Epoch 15/50\n",
            "391/391 [==============================] - 10s 25ms/step - loss: 0.0023 - val_loss: 0.0024 - _timestamp: 1649084323.0000 - _runtime: 164.0000\n",
            "Epoch 16/50\n",
            "391/391 [==============================] - 9s 24ms/step - loss: 0.0022 - val_loss: 0.0029 - _timestamp: 1649084332.0000 - _runtime: 173.0000\n",
            "Epoch 17/50\n",
            "391/391 [==============================] - 10s 25ms/step - loss: 0.0020 - val_loss: 0.0033 - _timestamp: 1649084342.0000 - _runtime: 183.0000\n",
            "Epoch 18/50\n",
            "391/391 [==============================] - 10s 25ms/step - loss: 0.0020 - val_loss: 0.0020 - _timestamp: 1649084351.0000 - _runtime: 192.0000\n",
            "Epoch 19/50\n",
            "391/391 [==============================] - 10s 24ms/step - loss: 0.0020 - val_loss: 0.0022 - _timestamp: 1649084361.0000 - _runtime: 202.0000\n",
            "Epoch 20/50\n",
            "391/391 [==============================] - 9s 24ms/step - loss: 0.0020 - val_loss: 0.0021 - _timestamp: 1649084371.0000 - _runtime: 212.0000\n",
            "Epoch 21/50\n",
            "391/391 [==============================] - 10s 25ms/step - loss: 0.0019 - val_loss: 0.0017 - _timestamp: 1649084380.0000 - _runtime: 221.0000\n",
            "Epoch 22/50\n",
            "391/391 [==============================] - 10s 25ms/step - loss: 0.0018 - val_loss: 0.0024 - _timestamp: 1649084390.0000 - _runtime: 231.0000\n",
            "Epoch 23/50\n",
            "391/391 [==============================] - 10s 24ms/step - loss: 0.0018 - val_loss: 0.0024 - _timestamp: 1649084399.0000 - _runtime: 240.0000\n",
            "Epoch 24/50\n",
            "391/391 [==============================] - 10s 25ms/step - loss: 0.0018 - val_loss: 0.0016 - _timestamp: 1649084409.0000 - _runtime: 250.0000\n",
            "Epoch 25/50\n",
            "391/391 [==============================] - 10s 24ms/step - loss: 0.0018 - val_loss: 0.0019 - _timestamp: 1649084419.0000 - _runtime: 260.0000\n",
            "Epoch 26/50\n",
            "391/391 [==============================] - 10s 25ms/step - loss: 0.0017 - val_loss: 0.0018 - _timestamp: 1649084428.0000 - _runtime: 269.0000\n",
            "Epoch 27/50\n",
            "391/391 [==============================] - 10s 25ms/step - loss: 0.0017 - val_loss: 0.0015 - _timestamp: 1649084438.0000 - _runtime: 279.0000\n",
            "Epoch 28/50\n",
            "391/391 [==============================] - 10s 25ms/step - loss: 0.0017 - val_loss: 0.0020 - _timestamp: 1649084448.0000 - _runtime: 289.0000\n",
            "Epoch 29/50\n",
            "391/391 [==============================] - 10s 26ms/step - loss: 0.0017 - val_loss: 0.0016 - _timestamp: 1649084458.0000 - _runtime: 299.0000\n",
            "Epoch 30/50\n",
            "391/391 [==============================] - 10s 25ms/step - loss: 0.0016 - val_loss: 0.0019 - _timestamp: 1649084468.0000 - _runtime: 309.0000\n",
            "Epoch 31/50\n",
            "391/391 [==============================] - 10s 25ms/step - loss: 0.0016 - val_loss: 0.0014 - _timestamp: 1649084478.0000 - _runtime: 319.0000\n",
            "Epoch 32/50\n",
            "391/391 [==============================] - 10s 25ms/step - loss: 0.0016 - val_loss: 0.0016 - _timestamp: 1649084488.0000 - _runtime: 329.0000\n",
            "Epoch 33/50\n",
            "391/391 [==============================] - 10s 26ms/step - loss: 0.0016 - val_loss: 0.0018 - _timestamp: 1649084498.0000 - _runtime: 339.0000\n",
            "Epoch 34/50\n",
            "391/391 [==============================] - 10s 25ms/step - loss: 0.0016 - val_loss: 0.0021 - _timestamp: 1649084508.0000 - _runtime: 349.0000\n",
            "Epoch 35/50\n",
            "391/391 [==============================] - 10s 25ms/step - loss: 0.0016 - val_loss: 0.0017 - _timestamp: 1649084518.0000 - _runtime: 359.0000\n",
            "Epoch 36/50\n",
            "391/391 [==============================] - 10s 26ms/step - loss: 0.0016 - val_loss: 0.0014 - _timestamp: 1649084528.0000 - _runtime: 369.0000\n",
            "Epoch 37/50\n",
            "391/391 [==============================] - 10s 25ms/step - loss: 0.0016 - val_loss: 0.0017 - _timestamp: 1649084537.0000 - _runtime: 378.0000\n",
            "Epoch 38/50\n",
            "391/391 [==============================] - 10s 25ms/step - loss: 0.0016 - val_loss: 0.0016 - _timestamp: 1649084547.0000 - _runtime: 388.0000\n",
            "Epoch 39/50\n",
            "391/391 [==============================] - 10s 24ms/step - loss: 0.0016 - val_loss: 0.0016 - _timestamp: 1649084557.0000 - _runtime: 398.0000\n",
            "Epoch 40/50\n",
            "391/391 [==============================] - 10s 24ms/step - loss: 0.0016 - val_loss: 0.0015 - _timestamp: 1649084566.0000 - _runtime: 407.0000\n",
            "Epoch 41/50\n",
            "391/391 [==============================] - 9s 24ms/step - loss: 0.0015 - val_loss: 0.0017 - _timestamp: 1649084576.0000 - _runtime: 417.0000\n",
            "Epoch 42/50\n",
            "391/391 [==============================] - 10s 25ms/step - loss: 0.0016 - val_loss: 0.0017 - _timestamp: 1649084586.0000 - _runtime: 427.0000\n",
            "Epoch 43/50\n",
            "391/391 [==============================] - 9s 24ms/step - loss: 0.0016 - val_loss: 0.0015 - _timestamp: 1649084595.0000 - _runtime: 436.0000\n",
            "Epoch 44/50\n",
            "391/391 [==============================] - 10s 25ms/step - loss: 0.0016 - val_loss: 0.0016 - _timestamp: 1649084605.0000 - _runtime: 446.0000\n",
            "Epoch 45/50\n",
            "391/391 [==============================] - 9s 24ms/step - loss: 0.0015 - val_loss: 0.0016 - _timestamp: 1649084614.0000 - _runtime: 455.0000\n",
            "Epoch 46/50\n",
            "391/391 [==============================] - 9s 24ms/step - loss: 0.0016 - val_loss: 0.0022 - _timestamp: 1649084624.0000 - _runtime: 465.0000\n",
            "Epoch 46: early stopping\n",
            "Avg SSIM over X_test: 0.9512580793921245\n",
            "\n"
          ]
        },
        {
          "output_type": "display_data",
          "data": {
            "text/plain": [
              "<IPython.core.display.HTML object>"
            ],
            "text/html": [
              "Waiting for W&B process to finish... <strong style=\"color:green\">(success).</strong>"
            ]
          },
          "metadata": {}
        },
        {
          "output_type": "display_data",
          "data": {
            "text/plain": [
              "VBox(children=(Label(value='6.302 MB of 6.302 MB uploaded (0.000 MB deduped)\\r'), FloatProgress(value=1.0, max…"
            ],
            "application/vnd.jupyter.widget-view+json": {
              "version_major": 2,
              "version_minor": 0,
              "model_id": "411c81d6925b4a78941ced5c9e9f9cb3"
            }
          },
          "metadata": {}
        },
        {
          "output_type": "display_data",
          "data": {
            "text/plain": [
              "<IPython.core.display.HTML object>"
            ],
            "text/html": [
              "<style>\n",
              "    table.wandb td:nth-child(1) { padding: 0 10px; text-align: right }\n",
              "    .wandb-row { display: flex; flex-direction: row; flex-wrap: wrap; width: 100% }\n",
              "    .wandb-col { display: flex; flex-direction: column; flex-basis: 100%; flex: 1; padding: 10px; }\n",
              "    </style>\n",
              "<div class=\"wandb-row\"><div class=\"wandb-col\"><h3>Run history:</h3><br/><table class=\"wandb\"><tr><td>avg_ssim_score_x_test</td><td>▁</td></tr><tr><td>epoch</td><td>▁▁▁▁▂▂▂▂▂▃▃▃▃▃▄▄▄▄▄▄▅▅▅▅▅▅▆▆▆▆▆▇▇▇▇▇████</td></tr><tr><td>loss</td><td>█▂▂▂▂▁▁▁▁▁▁▁▁▁▁▁▁▁▁▁▁▁▁▁▁▁▁▁▁▁▁▁▁▁▁▁▁▁▁▁</td></tr><tr><td>val_loss</td><td>█▂▂▂▂▁▁▁▁▁▂▁▁▁▁▁▁▁▁▁▁▁▁▁▁▁▁▁▁▁▁▁▁▁▁▁▁▁▁▁</td></tr></table><br/></div><div class=\"wandb-col\"><h3>Run summary:</h3><br/><table class=\"wandb\"><tr><td>avg_ssim_score_x_test</td><td>0.95126</td></tr><tr><td>best_epoch</td><td>35</td></tr><tr><td>best_val_loss</td><td>0.00138</td></tr><tr><td>epoch</td><td>45</td></tr><tr><td>loss</td><td>0.00158</td></tr><tr><td>val_loss</td><td>0.0022</td></tr></table><br/></div></div>"
            ]
          },
          "metadata": {}
        },
        {
          "output_type": "display_data",
          "data": {
            "text/plain": [
              "<IPython.core.display.HTML object>"
            ],
            "text/html": [
              "Synced <strong style=\"color:#cdcd00\">Model recons_1.4</strong>: <a href=\"https://wandb.ai/csc2231-yash-siphelele/autoencoders_RQ_comparison/runs/ua760g0j\" target=\"_blank\">https://wandb.ai/csc2231-yash-siphelele/autoencoders_RQ_comparison/runs/ua760g0j</a><br/>Synced 5 W&B file(s), 0 media file(s), 0 artifact file(s) and 1 other file(s)"
            ]
          },
          "metadata": {}
        },
        {
          "output_type": "display_data",
          "data": {
            "text/plain": [
              "<IPython.core.display.HTML object>"
            ],
            "text/html": [
              "Find logs at: <code>./wandb/run-20220404_145559-ua760g0j/logs</code>"
            ]
          },
          "metadata": {}
        }
      ]
    },
    {
      "cell_type": "markdown",
      "source": [
        "## Exp 1.5"
      ],
      "metadata": {
        "id": "w7nTYHdRFAq-"
      }
    },
    {
      "cell_type": "code",
      "source": [
        "'''\n",
        "Model recons_1.5\n",
        "'''\n",
        "\n",
        "latent_dim = Z_DIM[2]  # Number of latent dimension parameters\n",
        "\n",
        "input_img = Input(shape=(32, 32, 3))\n",
        "\n",
        "x = Conv2D(32, (3, 3), activation='leaky_relu', padding='same', strides=2)(input_img)\n",
        "x = BatchNormalization()(x)\n",
        "\n",
        "x = Conv2D(16, (3, 3), activation='leaky_relu', padding='same', strides=2)(x)\n",
        "x = BatchNormalization()(x)\n",
        "\n",
        "# x = Conv2D(16, (3, 3), activation='relu', padding='same', strides=2)(x)\n",
        "# x = BatchNormalization()(x)\n",
        "\n",
        "shape_before_flattening = K.int_shape(x)\n",
        "print(shape_before_flattening)\n",
        "x = Flatten()(x)\n",
        "\n",
        "z = Dense(512)(x)\n",
        "\n",
        "encoder = Model(input_img,z)\n",
        "\n",
        "# encoder.summary()\n",
        "\n",
        "# decoder takes the latent distribution sample as input\n",
        "# decoder_input = Input(K.int_shape(z)[1:])\n",
        "# x = Dense(4096, activation='leaky_relu', name=\"intermediate_decoder\", input_shape=(latent_dim,))(decoder_input)\n",
        "# x = Reshape((8,8,64))(x)\n",
        "\n",
        "decoder_input = Input(shape=(512,))\n",
        "# x = Dense(np.prod(shape_before_flattening[1:])//2)(decoder_input)\n",
        "x = Reshape((shape_before_flattening[1], shape_before_flattening[2], shape_before_flattening[3]//2))(decoder_input)\n",
        "\n",
        "x = Conv2DTranspose(24, (3, 3), strides= 2, padding='same', activation='leaky_relu')(x)\n",
        "x = BatchNormalization()(x)\n",
        "\n",
        "x = Conv2DTranspose(32, (3, 3), strides= 2, padding='same', activation='leaky_relu')(x)\n",
        "x = BatchNormalization()(x)\n",
        "\n",
        "# x = Conv2DTranspose(8, (3, 3),strides= 2, padding='same')(x)\n",
        "# x = BatchNormalization()(x)\n",
        "\n",
        "x = Conv2D(3, (3, 3), padding='same')(x)\n",
        "\n",
        "\n",
        "# decoder model statement\n",
        "decoder = Model(decoder_input, x)\n",
        "# decoder.summary()\n",
        "# apply the decoder to the sample from the latent distribution\n",
        "pred = decoder(z)\n",
        "\n",
        "# VAE model statement\n",
        "recons_model = Model(input_img, pred)\n",
        "optimizer = Adam(learning_rate=LEARNING_RATES[1])\n",
        "recons_model.compile(optimizer=optimizer, loss='mse')\n",
        "\n",
        "recons_model.summary()\n",
        "\n",
        "\n",
        "# # fit and track the model \n",
        "fit_model_and_log_metrics(\"Model recons_1.5\", \"With maxpooling, convtranspose, dense, and flatten\", recons_model, 50, 128)"
      ],
      "metadata": {
        "colab": {
          "base_uri": "https://localhost:8080/",
          "height": 1000,
          "referenced_widgets": [
            "882bc52d3ef4423ab6dc9d44b7dad794",
            "a01a6c7087444349b3510af2f39adc8e",
            "9db2850e5ddd40e89d69906f2b6c72d7",
            "d8bf011cd0ad440893970710aabdc20a",
            "2e6cc0703eb7456395086d0b130dfcbf",
            "e2e5b69603be4fe48566ea47525f6dd3",
            "19d2e5611c8744b397daa72a8579071f",
            "f075b2d9833845e2936c1b59cb80b102"
          ]
        },
        "id": "vwTMQB8sFBmc",
        "outputId": "69ff5852-208c-4709-db64-2d5ef003d5cc"
      },
      "execution_count": null,
      "outputs": [
        {
          "output_type": "stream",
          "name": "stdout",
          "text": [
            "(None, 8, 8, 16)\n",
            "Model: \"model_2\"\n",
            "_________________________________________________________________\n",
            " Layer (type)                Output Shape              Param #   \n",
            "=================================================================\n",
            " input_1 (InputLayer)        [(None, 32, 32, 3)]       0         \n",
            "                                                                 \n",
            " conv2d (Conv2D)             (None, 16, 16, 32)        896       \n",
            "                                                                 \n",
            " batch_normalization (BatchN  (None, 16, 16, 32)       128       \n",
            " ormalization)                                                   \n",
            "                                                                 \n",
            " conv2d_1 (Conv2D)           (None, 8, 8, 16)          4624      \n",
            "                                                                 \n",
            " batch_normalization_1 (Batc  (None, 8, 8, 16)         64        \n",
            " hNormalization)                                                 \n",
            "                                                                 \n",
            " flatten (Flatten)           (None, 1024)              0         \n",
            "                                                                 \n",
            " dense (Dense)               (None, 512)               524800    \n",
            "                                                                 \n",
            " model_1 (Functional)        (None, 32, 32, 3)         9787      \n",
            "                                                                 \n",
            "=================================================================\n",
            "Total params: 540,299\n",
            "Trainable params: 540,091\n",
            "Non-trainable params: 208\n",
            "_________________________________________________________________\n"
          ]
        },
        {
          "output_type": "stream",
          "name": "stderr",
          "text": [
            "\u001b[34m\u001b[1mwandb\u001b[0m: Currently logged in as: \u001b[33mcsc2231-yash-siphelele\u001b[0m (use `wandb login --relogin` to force relogin)\n"
          ]
        },
        {
          "output_type": "display_data",
          "data": {
            "text/plain": [
              "<IPython.core.display.HTML object>"
            ],
            "text/html": [
              "Tracking run with wandb version 0.12.11"
            ]
          },
          "metadata": {}
        },
        {
          "output_type": "display_data",
          "data": {
            "text/plain": [
              "<IPython.core.display.HTML object>"
            ],
            "text/html": [
              "Run data is saved locally in <code>/content/wandb/run-20220404_155803-8em67ssv</code>"
            ]
          },
          "metadata": {}
        },
        {
          "output_type": "display_data",
          "data": {
            "text/plain": [
              "<IPython.core.display.HTML object>"
            ],
            "text/html": [
              "Syncing run <strong><a href=\"https://wandb.ai/csc2231-yash-siphelele/autoencoders_RQ_comparison/runs/8em67ssv\" target=\"_blank\">Model recons_1.5</a></strong> to <a href=\"https://wandb.ai/csc2231-yash-siphelele/autoencoders_RQ_comparison\" target=\"_blank\">Weights & Biases</a> (<a href=\"https://wandb.me/run\" target=\"_blank\">docs</a>)<br/>"
            ]
          },
          "metadata": {}
        },
        {
          "output_type": "stream",
          "name": "stdout",
          "text": [
            "Epoch 1/50\n",
            "391/391 [==============================] - 21s 27ms/step - loss: 0.0453 - val_loss: 0.0227 - _timestamp: 1649087911.0000 - _runtime: 27.0000\n",
            "Epoch 2/50\n",
            "391/391 [==============================] - 10s 27ms/step - loss: 0.0087 - val_loss: 0.0095 - _timestamp: 1649087921.0000 - _runtime: 37.0000\n",
            "Epoch 3/50\n",
            "391/391 [==============================] - 10s 25ms/step - loss: 0.0068 - val_loss: 0.0061 - _timestamp: 1649087931.0000 - _runtime: 47.0000\n",
            "Epoch 4/50\n",
            "391/391 [==============================] - 10s 26ms/step - loss: 0.0055 - val_loss: 0.0062 - _timestamp: 1649087941.0000 - _runtime: 57.0000\n",
            "Epoch 5/50\n",
            "391/391 [==============================] - 10s 25ms/step - loss: 0.0051 - val_loss: 0.0048 - _timestamp: 1649087951.0000 - _runtime: 67.0000\n",
            "Epoch 6/50\n",
            "391/391 [==============================] - 10s 25ms/step - loss: 0.0047 - val_loss: 0.0048 - _timestamp: 1649087961.0000 - _runtime: 77.0000\n",
            "Epoch 7/50\n",
            "391/391 [==============================] - 10s 25ms/step - loss: 0.0042 - val_loss: 0.0038 - _timestamp: 1649087971.0000 - _runtime: 87.0000\n",
            "Epoch 8/50\n",
            "391/391 [==============================] - 10s 26ms/step - loss: 0.0038 - val_loss: 0.0033 - _timestamp: 1649087981.0000 - _runtime: 97.0000\n",
            "Epoch 9/50\n",
            "391/391 [==============================] - 10s 25ms/step - loss: 0.0034 - val_loss: 0.0034 - _timestamp: 1649087991.0000 - _runtime: 107.0000\n",
            "Epoch 10/50\n",
            "391/391 [==============================] - 10s 25ms/step - loss: 0.0031 - val_loss: 0.0041 - _timestamp: 1649088001.0000 - _runtime: 117.0000\n",
            "Epoch 11/50\n",
            "391/391 [==============================] - 10s 27ms/step - loss: 0.0029 - val_loss: 0.0031 - _timestamp: 1649088011.0000 - _runtime: 127.0000\n",
            "Epoch 12/50\n",
            "391/391 [==============================] - 10s 25ms/step - loss: 0.0028 - val_loss: 0.0036 - _timestamp: 1649088021.0000 - _runtime: 137.0000\n",
            "Epoch 13/50\n",
            "391/391 [==============================] - 10s 25ms/step - loss: 0.0027 - val_loss: 0.0031 - _timestamp: 1649088031.0000 - _runtime: 147.0000\n",
            "Epoch 14/50\n",
            "391/391 [==============================] - 10s 25ms/step - loss: 0.0026 - val_loss: 0.0032 - _timestamp: 1649088041.0000 - _runtime: 157.0000\n",
            "Epoch 15/50\n",
            "391/391 [==============================] - 10s 25ms/step - loss: 0.0025 - val_loss: 0.0022 - _timestamp: 1649088051.0000 - _runtime: 167.0000\n",
            "Epoch 16/50\n",
            "391/391 [==============================] - 10s 25ms/step - loss: 0.0024 - val_loss: 0.0032 - _timestamp: 1649088061.0000 - _runtime: 177.0000\n",
            "Epoch 17/50\n",
            "391/391 [==============================] - 10s 25ms/step - loss: 0.0024 - val_loss: 0.0025 - _timestamp: 1649088070.0000 - _runtime: 186.0000\n",
            "Epoch 18/50\n",
            "391/391 [==============================] - 10s 26ms/step - loss: 0.0023 - val_loss: 0.0021 - _timestamp: 1649088080.0000 - _runtime: 196.0000\n",
            "Epoch 19/50\n",
            "391/391 [==============================] - 10s 26ms/step - loss: 0.0023 - val_loss: 0.0020 - _timestamp: 1649088090.0000 - _runtime: 206.0000\n",
            "Epoch 20/50\n",
            "391/391 [==============================] - 10s 25ms/step - loss: 0.0022 - val_loss: 0.0024 - _timestamp: 1649088100.0000 - _runtime: 216.0000\n",
            "Epoch 21/50\n",
            "391/391 [==============================] - 10s 25ms/step - loss: 0.0021 - val_loss: 0.0019 - _timestamp: 1649088110.0000 - _runtime: 226.0000\n",
            "Epoch 22/50\n",
            "391/391 [==============================] - 10s 25ms/step - loss: 0.0021 - val_loss: 0.0023 - _timestamp: 1649088120.0000 - _runtime: 236.0000\n",
            "Epoch 23/50\n",
            "391/391 [==============================] - 10s 25ms/step - loss: 0.0020 - val_loss: 0.0020 - _timestamp: 1649088130.0000 - _runtime: 246.0000\n",
            "Epoch 24/50\n",
            "391/391 [==============================] - 10s 26ms/step - loss: 0.0020 - val_loss: 0.0018 - _timestamp: 1649088140.0000 - _runtime: 256.0000\n",
            "Epoch 25/50\n",
            "391/391 [==============================] - 10s 25ms/step - loss: 0.0019 - val_loss: 0.0018 - _timestamp: 1649088150.0000 - _runtime: 266.0000\n",
            "Epoch 26/50\n",
            "391/391 [==============================] - 10s 26ms/step - loss: 0.0019 - val_loss: 0.0017 - _timestamp: 1649088160.0000 - _runtime: 276.0000\n",
            "Epoch 27/50\n",
            "391/391 [==============================] - 10s 25ms/step - loss: 0.0018 - val_loss: 0.0018 - _timestamp: 1649088170.0000 - _runtime: 286.0000\n",
            "Epoch 28/50\n",
            "391/391 [==============================] - 10s 25ms/step - loss: 0.0018 - val_loss: 0.0023 - _timestamp: 1649088180.0000 - _runtime: 296.0000\n",
            "Epoch 29/50\n",
            "391/391 [==============================] - 10s 26ms/step - loss: 0.0018 - val_loss: 0.0018 - _timestamp: 1649088190.0000 - _runtime: 306.0000\n",
            "Epoch 30/50\n",
            "391/391 [==============================] - 10s 26ms/step - loss: 0.0018 - val_loss: 0.0021 - _timestamp: 1649088201.0000 - _runtime: 317.0000\n",
            "Epoch 31/50\n",
            "391/391 [==============================] - 10s 25ms/step - loss: 0.0018 - val_loss: 0.0018 - _timestamp: 1649088211.0000 - _runtime: 327.0000\n",
            "Epoch 32/50\n",
            "391/391 [==============================] - 10s 26ms/step - loss: 0.0017 - val_loss: 0.0016 - _timestamp: 1649088220.0000 - _runtime: 336.0000\n",
            "Epoch 33/50\n",
            "391/391 [==============================] - 10s 25ms/step - loss: 0.0017 - val_loss: 0.0019 - _timestamp: 1649088230.0000 - _runtime: 346.0000\n",
            "Epoch 34/50\n",
            "391/391 [==============================] - 10s 26ms/step - loss: 0.0017 - val_loss: 0.0015 - _timestamp: 1649088240.0000 - _runtime: 356.0000\n",
            "Epoch 35/50\n",
            "391/391 [==============================] - 10s 25ms/step - loss: 0.0017 - val_loss: 0.0016 - _timestamp: 1649088250.0000 - _runtime: 366.0000\n",
            "Epoch 36/50\n",
            "391/391 [==============================] - 10s 25ms/step - loss: 0.0017 - val_loss: 0.0015 - _timestamp: 1649088260.0000 - _runtime: 376.0000\n",
            "Epoch 37/50\n",
            "391/391 [==============================] - 10s 25ms/step - loss: 0.0017 - val_loss: 0.0016 - _timestamp: 1649088270.0000 - _runtime: 386.0000\n",
            "Epoch 38/50\n",
            "391/391 [==============================] - 10s 25ms/step - loss: 0.0017 - val_loss: 0.0015 - _timestamp: 1649088280.0000 - _runtime: 396.0000\n",
            "Epoch 39/50\n",
            "391/391 [==============================] - 10s 25ms/step - loss: 0.0017 - val_loss: 0.0016 - _timestamp: 1649088290.0000 - _runtime: 406.0000\n",
            "Epoch 40/50\n",
            "391/391 [==============================] - 10s 26ms/step - loss: 0.0017 - val_loss: 0.0014 - _timestamp: 1649088300.0000 - _runtime: 416.0000\n",
            "Epoch 41/50\n",
            "391/391 [==============================] - 10s 25ms/step - loss: 0.0016 - val_loss: 0.0017 - _timestamp: 1649088310.0000 - _runtime: 426.0000\n",
            "Epoch 42/50\n",
            "391/391 [==============================] - 10s 25ms/step - loss: 0.0017 - val_loss: 0.0015 - _timestamp: 1649088320.0000 - _runtime: 436.0000\n",
            "Epoch 43/50\n",
            "391/391 [==============================] - 10s 25ms/step - loss: 0.0016 - val_loss: 0.0015 - _timestamp: 1649088330.0000 - _runtime: 446.0000\n",
            "Epoch 44/50\n",
            "391/391 [==============================] - 10s 26ms/step - loss: 0.0016 - val_loss: 0.0014 - _timestamp: 1649088340.0000 - _runtime: 456.0000\n",
            "Epoch 45/50\n",
            "391/391 [==============================] - 10s 25ms/step - loss: 0.0016 - val_loss: 0.0015 - _timestamp: 1649088350.0000 - _runtime: 466.0000\n",
            "Epoch 46/50\n",
            "391/391 [==============================] - 10s 26ms/step - loss: 0.0016 - val_loss: 0.0015 - _timestamp: 1649088360.0000 - _runtime: 476.0000\n",
            "Epoch 47/50\n",
            "391/391 [==============================] - 10s 25ms/step - loss: 0.0016 - val_loss: 0.0015 - _timestamp: 1649088370.0000 - _runtime: 486.0000\n",
            "Epoch 48/50\n",
            "391/391 [==============================] - 10s 25ms/step - loss: 0.0016 - val_loss: 0.0014 - _timestamp: 1649088380.0000 - _runtime: 496.0000\n",
            "Epoch 49/50\n",
            "391/391 [==============================] - 10s 25ms/step - loss: 0.0016 - val_loss: 0.0014 - _timestamp: 1649088389.0000 - _runtime: 505.0000\n",
            "Epoch 50/50\n",
            "391/391 [==============================] - 10s 25ms/step - loss: 0.0016 - val_loss: 0.0014 - _timestamp: 1649088399.0000 - _runtime: 515.0000\n",
            "Avg SSIM over X_test: 0.9526697172886525\n",
            "\n"
          ]
        },
        {
          "output_type": "display_data",
          "data": {
            "text/plain": [
              "<IPython.core.display.HTML object>"
            ],
            "text/html": [
              "Waiting for W&B process to finish... <strong style=\"color:green\">(success).</strong>"
            ]
          },
          "metadata": {}
        },
        {
          "output_type": "display_data",
          "data": {
            "text/plain": [
              "VBox(children=(Label(value='6.269 MB of 6.269 MB uploaded (0.000 MB deduped)\\r'), FloatProgress(value=1.0, max…"
            ],
            "application/vnd.jupyter.widget-view+json": {
              "version_major": 2,
              "version_minor": 0,
              "model_id": "882bc52d3ef4423ab6dc9d44b7dad794"
            }
          },
          "metadata": {}
        },
        {
          "output_type": "display_data",
          "data": {
            "text/plain": [
              "<IPython.core.display.HTML object>"
            ],
            "text/html": [
              "<style>\n",
              "    table.wandb td:nth-child(1) { padding: 0 10px; text-align: right }\n",
              "    .wandb-row { display: flex; flex-direction: row; flex-wrap: wrap; width: 100% }\n",
              "    .wandb-col { display: flex; flex-direction: column; flex-basis: 100%; flex: 1; padding: 10px; }\n",
              "    </style>\n",
              "<div class=\"wandb-row\"><div class=\"wandb-col\"><h3>Run history:</h3><br/><table class=\"wandb\"><tr><td>avg_ssim_score_x_test</td><td>▁</td></tr><tr><td>epoch</td><td>▁▁▁▁▂▂▂▂▂▃▃▃▃▃▃▄▄▄▄▄▅▅▅▅▅▅▆▆▆▆▆▆▇▇▇▇▇███</td></tr><tr><td>loss</td><td>█▂▂▂▂▁▁▁▁▁▁▁▁▁▁▁▁▁▁▁▁▁▁▁▁▁▁▁▁▁▁▁▁▁▁▁▁▁▁▁</td></tr><tr><td>val_loss</td><td>█▄▃▃▂▂▂▂▂▂▂▂▂▁▁▁▁▁▁▁▁▁▁▁▁▁▁▁▁▁▁▁▁▁▁▁▁▁▁▁</td></tr></table><br/></div><div class=\"wandb-col\"><h3>Run summary:</h3><br/><table class=\"wandb\"><tr><td>avg_ssim_score_x_test</td><td>0.95267</td></tr><tr><td>best_epoch</td><td>43</td></tr><tr><td>best_val_loss</td><td>0.0014</td></tr><tr><td>epoch</td><td>49</td></tr><tr><td>loss</td><td>0.00158</td></tr><tr><td>val_loss</td><td>0.00141</td></tr></table><br/></div></div>"
            ]
          },
          "metadata": {}
        },
        {
          "output_type": "display_data",
          "data": {
            "text/plain": [
              "<IPython.core.display.HTML object>"
            ],
            "text/html": [
              "Synced <strong style=\"color:#cdcd00\">Model recons_1.5</strong>: <a href=\"https://wandb.ai/csc2231-yash-siphelele/autoencoders_RQ_comparison/runs/8em67ssv\" target=\"_blank\">https://wandb.ai/csc2231-yash-siphelele/autoencoders_RQ_comparison/runs/8em67ssv</a><br/>Synced 5 W&B file(s), 0 media file(s), 0 artifact file(s) and 1 other file(s)"
            ]
          },
          "metadata": {}
        },
        {
          "output_type": "display_data",
          "data": {
            "text/plain": [
              "<IPython.core.display.HTML object>"
            ],
            "text/html": [
              "Find logs at: <code>./wandb/run-20220404_155803-8em67ssv/logs</code>"
            ]
          },
          "metadata": {}
        }
      ]
    },
    {
      "cell_type": "markdown",
      "source": [
        "## Exp 1.6"
      ],
      "metadata": {
        "id": "23iNxV7_BBeB"
      }
    },
    {
      "cell_type": "code",
      "source": [
        "'''\n",
        "Model recons_1.6\n",
        "'''\n",
        "\n",
        "latent_dim = Z_DIM[2]  # Number of latent dimension parameters\n",
        "\n",
        "input_img = Input(shape=(32, 32, 3))\n",
        "\n",
        "x = Conv2D(32, (3, 3), activation='leaky_relu', padding='same', strides=2)(input_img)\n",
        "x = BatchNormalization()(x)\n",
        "\n",
        "x = Conv2D(16, (3, 3), activation='leaky_relu', padding='same', strides=2)(x)\n",
        "x = BatchNormalization()(x)\n",
        "\n",
        "# x = Conv2D(16, (3, 3), activation='relu', padding='same', strides=2)(x)\n",
        "# x = BatchNormalization()(x)\n",
        "\n",
        "shape_before_flattening = K.int_shape(x)\n",
        "print(shape_before_flattening)\n",
        "x = Flatten()(x)\n",
        "\n",
        "z = Dense(1024)(x)\n",
        "\n",
        "encoder = Model(input_img,z)\n",
        "\n",
        "# encoder.summary()\n",
        "\n",
        "# decoder takes the latent distribution sample as input\n",
        "# decoder_input = Input(K.int_shape(z)[1:])\n",
        "# x = Dense(4096, activation='leaky_relu', name=\"intermediate_decoder\", input_shape=(latent_dim,))(decoder_input)\n",
        "# x = Reshape((8,8,64))(x)\n",
        "\n",
        "decoder_input = Input(shape=(1024,))\n",
        "# x = Dense(np.prod(shape_before_flattening[1:])//2)(decoder_input)\n",
        "x = Reshape((shape_before_flattening[1], shape_before_flattening[2], shape_before_flattening[3]))(decoder_input)\n",
        "\n",
        "x = Conv2DTranspose(24, (3, 3), strides= 2, padding='same', activation='leaky_relu')(x)\n",
        "x = BatchNormalization()(x)\n",
        "\n",
        "x = Conv2DTranspose(32, (3, 3), strides= 2, padding='same', activation='leaky_relu')(x)\n",
        "x = BatchNormalization()(x)\n",
        "\n",
        "# x = Conv2DTranspose(8, (3, 3),strides= 2, padding='same')(x)\n",
        "# x = BatchNormalization()(x)\n",
        "\n",
        "x = Conv2D(3, (3, 3), padding='same')(x)\n",
        "\n",
        "\n",
        "# decoder model statement\n",
        "decoder = Model(decoder_input, x)\n",
        "# decoder.summary()\n",
        "# apply the decoder to the sample from the latent distribution\n",
        "pred = decoder(z)\n",
        "\n",
        "# VAE model statement\n",
        "recons_model = Model(input_img, pred)\n",
        "optimizer = Adam(learning_rate=LEARNING_RATES[1])\n",
        "recons_model.compile(optimizer=optimizer, loss='mse')\n",
        "\n",
        "recons_model.summary()\n",
        "\n",
        "\n",
        "# # fit and track the model \n",
        "fit_model_and_log_metrics(\"Model recons_1.6\", \"With maxpooling, convtranspose, dense, and flatten\", recons_model, 50, 128)"
      ],
      "metadata": {
        "id": "mRTUhJeFBEHl"
      },
      "execution_count": null,
      "outputs": []
    },
    {
      "cell_type": "markdown",
      "source": [
        "## Exp *1.7*"
      ],
      "metadata": {
        "id": "dw-GsHRw05F3"
      }
    },
    {
      "cell_type": "code",
      "source": [
        "'''\n",
        "Model recons_1.7 : 1 skip connection\n",
        "'''\n",
        "\n",
        "latent_dim = Z_DIM[2]  # Number of latent dimension parameters\n",
        "\n",
        "input_img = Input(shape=(32, 32, 3))\n",
        "\n",
        "x = Conv2D(32, (3, 3), activation='leaky_relu', padding='same', strides=2)(input_img)\n",
        "x = BatchNormalization()(x)\n",
        "\n",
        "x1 = Conv2D(16, (3, 3), padding='same', strides = 2)(x) # for the skip connection to add later in the decoder\n",
        "x = LeakyReLU()(x1)\n",
        "x = BatchNormalization()(x)\n",
        "\n",
        "# x = Conv2D(16, (3, 3), activation='relu', padding='same', strides=2)(x)\n",
        "# x = BatchNormalization()(x)\n",
        "\n",
        "shape_before_flattening = K.int_shape(x)\n",
        "print(shape_before_flattening)\n",
        "x = Flatten()(x)\n",
        "\n",
        "z = Dense(1024)(x)\n",
        "\n",
        "encoder = Model(input_img,z)\n",
        "\n",
        "# encoder.summary()\n",
        "\n",
        "# decoder takes the latent distribution sample as input\n",
        "# decoder_input = Input(K.int_shape(z)[1:])\n",
        "# x = Dense(4096, activation='leaky_relu', name=\"intermediate_decoder\", input_shape=(latent_dim,))(decoder_input)\n",
        "# x = Reshape((8,8,64))(x)\n",
        "\n",
        "# decoder_input = Input(shape=(1024,))\n",
        "x = Dense(np.prod(shape_before_flattening[1:]), activation=\"leaky_relu\")(z)\n",
        "x = Reshape((shape_before_flattening[1], shape_before_flattening[2], shape_before_flattening[3]))(x)\n",
        "# x = Reshape((shape_before_flattening[1], shape_before_flattening[2], shape_before_flattening[3]//2))(decoder_input)\n",
        "x = Conv2DTranspose(16, (3, 3), padding='same')(x)\n",
        "x = Add()([x1, x])\n",
        "x = LeakyReLU()(x)\n",
        "x = BatchNormalization()(x)\n",
        "x = Conv2DTranspose(16, (3, 3), strides= 2, padding='same', activation='leaky_relu')(x) # adding the skip connection here\n",
        "# x = Add()([x1, x])\n",
        "# x = LeakyReLU()(x)\n",
        "# x = BatchNormalization()(x)\n",
        "\n",
        "x = Conv2DTranspose(32, (3, 3), strides= 2, padding='same', activation='leaky_relu')(x)\n",
        "x = BatchNormalization()(x)\n",
        "\n",
        "# x = Conv2DTranspose(8, (3, 3),strides= 2, padding='same')(x)\n",
        "# x = BatchNormalization()(x)\n",
        "\n",
        "x = Conv2D(3, (3, 3), padding='same')(x)\n",
        "\n",
        "pred = x\n",
        "# decoder model statement\n",
        "# decoder = Model(decoder_input, x)\n",
        "# decoder.summary()\n",
        "# # apply the decoder to the sample from the latent distribution\n",
        "# pred = decoder(z)\n",
        "\n",
        "# VAE model statement\n",
        "recons_model = Model(input_img, pred)\n",
        "optimizer = Adam(learning_rate=LEARNING_RATES[1])\n",
        "recons_model.compile(optimizer=optimizer, loss='mse')\n",
        "\n",
        "recons_model.summary()\n",
        " \n",
        "\n",
        "# # fit and track the model \n",
        "fit_model_and_log_metrics(\"Model recons_1.7\", \"With maxpooling, convtranspose, dense, and flatten\", recons_model, 50, 128)"
      ],
      "metadata": {
        "id": "-Y3xqlQO06Iu"
      },
      "execution_count": null,
      "outputs": []
    },
    {
      "cell_type": "code",
      "source": [
        "# ValueError: Graph disconnected"
      ],
      "metadata": {
        "id": "HjVFYa3X3EeQ"
      },
      "execution_count": null,
      "outputs": []
    }
  ]
}